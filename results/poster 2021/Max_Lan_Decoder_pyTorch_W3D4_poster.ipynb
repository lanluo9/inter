{
  "nbformat": 4,
  "nbformat_minor": 5,
  "metadata": {
    "kernelspec": {
      "display_name": "Python 3",
      "language": "python",
      "name": "python3"
    },
    "language_info": {
      "codemirror_mode": {
        "name": "ipython",
        "version": 3
      },
      "file_extension": ".py",
      "mimetype": "text/x-python",
      "name": "python",
      "nbconvert_exporter": "python",
      "pygments_lexer": "ipython3",
      "version": "3.8.8"
    },
    "colab": {
      "name": "Max Lan Decoder pyTorch W3D4 poster.ipynb",
      "provenance": [],
      "collapsed_sections": [],
      "toc_visible": true
    }
  },
  "cells": [
    {
      "cell_type": "markdown",
      "metadata": {
        "id": "39f342e1-0758-40ab-918c-95ed9f55224f"
      },
      "source": [
        "# Setup"
      ],
      "id": "39f342e1-0758-40ab-918c-95ed9f55224f"
    },
    {
      "cell_type": "code",
      "metadata": {
        "tags": [],
        "id": "049060b2-f4ea-4287-8c58-216bb83267e0"
      },
      "source": [
        "import os\n",
        "import cv2\n",
        "import numpy as np\n",
        "from tqdm import tqdm\n",
        "import torch\n",
        "import torch.nn as nn\n",
        "\n",
        "import torch.nn.functional as F\n",
        "from torchvision import transforms, datasets\n",
        "import torch.optim as optim\n",
        "import pandas as pd"
      ],
      "id": "049060b2-f4ea-4287-8c58-216bb83267e0",
      "execution_count": null,
      "outputs": []
    },
    {
      "cell_type": "markdown",
      "metadata": {
        "id": "576153bc-e2b6-453a-90ab-923ec9ffbc53"
      },
      "source": [
        "# Organize testing and training data"
      ],
      "id": "576153bc-e2b6-453a-90ab-923ec9ffbc53"
    },
    {
      "cell_type": "code",
      "metadata": {
        "colab": {
          "base_uri": "https://localhost:8080/"
        },
        "id": "7zzFYT8aKS1C",
        "outputId": "5e821af5-113a-4e07-a8eb-0d92b654eef7"
      },
      "source": [
        "from google.colab import drive\n",
        "drive.mount('/content/drive')"
      ],
      "id": "7zzFYT8aKS1C",
      "execution_count": null,
      "outputs": [
        {
          "output_type": "stream",
          "name": "stdout",
          "text": [
            "Mounted at /content/drive\n"
          ]
        }
      ]
    },
    {
      "cell_type": "code",
      "metadata": {
        "id": "xukvT9VKKVbB"
      },
      "source": [
        "all = pd.read_csv('/content/drive/MyDrive/Colab Notebooks/novel_passive_session_990464099_excitatory.csv')\n",
        "adp_trial = all[all.repeat_number.notnull()]\n",
        "\n",
        "neuron_ids = filter(lambda str: str.isnumeric(), adp_trial.columns.to_list())\n",
        "neuron_ids = [neuron for neuron in neuron_ids]\n",
        "features = adp_trial[neuron_ids]\n",
        "ncell = len(neuron_ids)"
      ],
      "id": "xukvT9VKKVbB",
      "execution_count": null,
      "outputs": []
    },
    {
      "cell_type": "code",
      "metadata": {
        "id": "-TlInp7_nUrJ"
      },
      "source": [
        "# full_X = features\n",
        "# full_y = adp_trial.image_index\n",
        "\n",
        "# unadapted_X = features[adp_trial.repeat_number == 0]\n",
        "# unadapted_y = adp_trial[adp_trial.repeat_number == 0].image_index\n",
        "\n",
        "# adapted_X = features[adp_trial.repeat_number == 1]\n",
        "# adapted_y = adp_trial[adp_trial.repeat_number == 1].image_index\n",
        "\n",
        "# n_un = len(unadapted_y)\n",
        "# n_ad = len(adapted_y)\n",
        "# assert n_ad < n_un\n",
        "# print([full_X.shape, full_y.shape, unadapted_X.shape, unadapted_y.shape, adapted_X.shape, adapted_y.shape])"
      ],
      "id": "-TlInp7_nUrJ",
      "execution_count": null,
      "outputs": []
    },
    {
      "cell_type": "code",
      "metadata": {
        "id": "SvgO4nKMnV9I"
      },
      "source": [
        "# adapted_X_n = adapted_X.reset_index()\n",
        "# adapted_y_n = adapted_y.reset_index()\n",
        "\n",
        "# balance = np.array([0,100])\n",
        "# samplesArray = unadapted_X.index.to_numpy()\n",
        "# while (balance.max() - balance.min() > 4):\n",
        "#   np.random.shuffle(samplesArray); np.random.shuffle(samplesArray); np.random.shuffle(samplesArray)\n",
        "#   unadapted_X_n = unadapted_X.loc[samplesArray[:n_ad]].reset_index()\n",
        "#   unadapted_y_n = unadapted_y.loc[samplesArray[:n_ad]].reset_index()\n",
        "#   balance = unadapted_y_n.image_index.value_counts().to_numpy()\n",
        "\n",
        "# balance = np.array([0,100]); balance2 = balance\n",
        "# samplesArray = full_X.index.to_numpy()\n",
        "# while (balance.max() - balance.min() > 4) or (balance2.max() - balance2.min() > 8):\n",
        "#   np.random.shuffle(samplesArray); np.random.shuffle(samplesArray); np.random.shuffle(samplesArray)\n",
        "#   full_X_n = full_X.loc[samplesArray[:n_ad]].reset_index()\n",
        "#   full_y_n = full_y.loc[samplesArray[:n_ad]].reset_index()\n",
        "#   balance = full_y_n.image_index.value_counts().to_numpy()\n",
        "#   balance2 = adp_trial.loc[samplesArray[:n_ad]].repeat_number.value_counts()\n",
        "  \n",
        "# print(unadapted_y_n.image_index.value_counts())\n",
        "# print(full_y_n.image_index.value_counts())\n",
        "# print(adp_trial.loc[samplesArray[:n_ad]].repeat_number.value_counts())"
      ],
      "id": "SvgO4nKMnV9I",
      "execution_count": null,
      "outputs": []
    },
    {
      "cell_type": "code",
      "metadata": {
        "id": "QcBgRWc3nb-H"
      },
      "source": [
        "# import time\n",
        "# time.sleep(3600*3)"
      ],
      "id": "QcBgRWc3nb-H",
      "execution_count": null,
      "outputs": []
    },
    {
      "cell_type": "code",
      "metadata": {
        "colab": {
          "base_uri": "https://localhost:8080/"
        },
        "id": "p5756D5iNCSg",
        "outputId": "77c3e55f-88f7-417e-f18c-657d44617c2a"
      },
      "source": [
        "df_full = adp_trial.sample(frac=0.5, replace=False, random_state=42) # sample half of full data\n",
        "df_unadapted = adp_trial[adp_trial.repeat_number==0]\n",
        "df_adapted = adp_trial[adp_trial.repeat_number==1]\n",
        "len(df_full), len(df_unadapted), len(df_adapted)"
      ],
      "id": "p5756D5iNCSg",
      "execution_count": null,
      "outputs": [
        {
          "output_type": "execute_result",
          "data": {
            "text/plain": [
              "(350, 356, 343)"
            ]
          },
          "metadata": {},
          "execution_count": 8
        }
      ]
    },
    {
      "cell_type": "markdown",
      "metadata": {
        "id": "3_AIwlCGM9v2"
      },
      "source": [
        "## full"
      ],
      "id": "3_AIwlCGM9v2"
    },
    {
      "cell_type": "code",
      "metadata": {
        "jupyter": {
          "source_hidden": true
        },
        "tags": [],
        "id": "48e1e656-9420-4378-a040-d800679b2855",
        "colab": {
          "base_uri": "https://localhost:8080/"
        },
        "outputId": "2f802586-b0cd-4a79-96de-ad2fcc1455ab"
      },
      "source": [
        "# df = df_full\n",
        "# df = df_unadapted\n",
        "df = df_adapted\n",
        "\n",
        "########### Parameters\n",
        "nFold = 10\n",
        "samplesArray = np.asarray(range(0, len(df)))\n",
        "np.random.shuffle(samplesArray)\n",
        "\n",
        "########### Testing Set\n",
        "nTestEntries = np.int(np.floor(len(df)/ nFold) + (len(df) % nFold))\n",
        "testing_set_entries = samplesArray[:nTestEntries]\n",
        "testing_set = df.iloc[testing_set_entries]\n",
        "samplesArray = samplesArray[nTestEntries:]\n",
        "\n",
        "########### Testing Set\n",
        "training_set = df.iloc[samplesArray]\n",
        "    \n",
        "print('Entries in')\n",
        "print('  Testing Set: ' + str(len(testing_set)))\n",
        "print('  Each Training Set: ' + str(len(training_set)))\n",
        "\n",
        "# Thing to predict\n",
        "y_category = 'image_index'\n",
        "\n",
        "X_training = np.asarray(training_set[neuron_ids])\n",
        "y_training = np.asarray(training_set[y_category])\n",
        "X_testing = np.asarray(testing_set[neuron_ids])\n",
        "y_testing = np.asarray(testing_set[y_category])"
      ],
      "id": "48e1e656-9420-4378-a040-d800679b2855",
      "execution_count": null,
      "outputs": [
        {
          "output_type": "stream",
          "name": "stdout",
          "text": [
            "Entries in\n",
            "  Testing Set: 37\n",
            "  Each Training Set: 306\n"
          ]
        }
      ]
    },
    {
      "cell_type": "code",
      "metadata": {
        "tags": [],
        "id": "e0a36a0c-84ca-44e8-abe8-dcd7f991c268",
        "colab": {
          "base_uri": "https://localhost:8080/"
        },
        "outputId": "1907f985-899a-48ef-f848-a8cba087d4ac"
      },
      "source": [
        "# Network Structure and Hyperparameters\n",
        "\n",
        "class Net(nn.Module):\n",
        "    \n",
        "    # This function defines the different layers in our model\n",
        "    def __init__(self):\n",
        "        super().__init__()\n",
        "        self.fc1 = nn.Linear(ncell, ncell) # ncell is the number of neurons in the session i'm using\n",
        "        self.fc2 = nn.Linear(ncell, ncell) # hidden layer\n",
        "        self.fc3 = nn.Linear(ncell, 8) # number of unique image index\n",
        "        \n",
        "    # this function 'passes' our data through the different layers (and a relu function)\n",
        "    def forward(self, x):\n",
        "        x = F.relu(self.fc1(x))\n",
        "        x = F.relu(self.fc2(x))\n",
        "        x = self.fc3(x)\n",
        "        return F.log_softmax(x, dim=1)\n",
        "\n",
        "net = Net()\n",
        "\n",
        "\n",
        "########## Hyperparameters\n",
        "loss_function = nn.CrossEntropyLoss()\n",
        "\n",
        "# The thing that adjusts the models adjustable parameters (like weights) (Adam: adaptive momentum)\n",
        "optimizer = optim.Adam(net.parameters(), lr=.0001)\n",
        "\n",
        "# How many times to show network all of the data. I think somewhere between 3 to 10 is normal?\n",
        "epoch_num = 20\n",
        "\n",
        "# Batch size for the dataset. I'm not sure what's normal here. I think it depends on your VRAM size\n",
        "batch_size = 30\n",
        "\n",
        "\n",
        "########## Run some random data through network to make sure it works.\n",
        "X = torch.randn(ncell)\n",
        "X = X.view(-1,ncell)\n",
        "print(net(X))\n"
      ],
      "id": "e0a36a0c-84ca-44e8-abe8-dcd7f991c268",
      "execution_count": null,
      "outputs": [
        {
          "output_type": "stream",
          "name": "stdout",
          "text": [
            "tensor([[-2.1695, -2.2546, -1.9857, -1.9939, -1.9341, -2.1542, -2.1562, -2.0319]],\n",
            "       grad_fn=<LogSoftmaxBackward>)\n"
          ]
        }
      ]
    },
    {
      "cell_type": "code",
      "metadata": {
        "jupyter": {
          "source_hidden": true
        },
        "tags": [],
        "id": "cedbe0a6-5f42-47d6-8e26-8815cd67dddd",
        "colab": {
          "base_uri": "https://localhost:8080/"
        },
        "outputId": "9f08d2ac-8eec-42e0-ae70-adc685730b8d"
      },
      "source": [
        "# Train the model\n",
        "# n_epoch full passes over the data\n",
        "for epoch in range(epoch_num):\n",
        "    \n",
        "    for batch_num in range(batch_size):  \n",
        "        \n",
        "        # X is the batch of features, y is the batch of targets.\n",
        "        X = X_training[batch_num*batch_size:batch_num*batch_size + batch_size] \n",
        "        y = y_training[batch_num*batch_size:batch_num*batch_size + batch_size] \n",
        "        \n",
        "        # convert from numpy array to torch data type\n",
        "        X = torch.from_numpy(X)\n",
        "        y = torch.from_numpy(y)\n",
        "        \n",
        "        X = X.float()\n",
        "        \n",
        "        # sets gradients to 0 before loss calc. You will do this likely every step.\n",
        "        net.zero_grad()  \n",
        "        \n",
        "         # pass in the reshaped batch\n",
        "        output = net(X) \n",
        "        \n",
        "         # calc and grab the loss value\n",
        "        loss = F.nll_loss(output, y) \n",
        "        \n",
        "        # apply this loss backwards thru the network's parameters\n",
        "        loss.backward()  \n",
        "        \n",
        "        # attempt to optimize weights to account for loss/gradients\n",
        "        optimizer.step()\n",
        "        \n",
        "    # print loss. We hope loss (a measure of wrong-ness) declines! \n",
        "    print(loss)  "
      ],
      "id": "cedbe0a6-5f42-47d6-8e26-8815cd67dddd",
      "execution_count": null,
      "outputs": [
        {
          "output_type": "stream",
          "name": "stdout",
          "text": [
            "tensor(nan, grad_fn=<NllLossBackward>)\n",
            "tensor(nan, grad_fn=<NllLossBackward>)\n",
            "tensor(nan, grad_fn=<NllLossBackward>)\n",
            "tensor(nan, grad_fn=<NllLossBackward>)\n",
            "tensor(nan, grad_fn=<NllLossBackward>)\n",
            "tensor(nan, grad_fn=<NllLossBackward>)\n",
            "tensor(nan, grad_fn=<NllLossBackward>)\n",
            "tensor(nan, grad_fn=<NllLossBackward>)\n",
            "tensor(nan, grad_fn=<NllLossBackward>)\n",
            "tensor(nan, grad_fn=<NllLossBackward>)\n",
            "tensor(nan, grad_fn=<NllLossBackward>)\n",
            "tensor(nan, grad_fn=<NllLossBackward>)\n",
            "tensor(nan, grad_fn=<NllLossBackward>)\n",
            "tensor(nan, grad_fn=<NllLossBackward>)\n",
            "tensor(nan, grad_fn=<NllLossBackward>)\n",
            "tensor(nan, grad_fn=<NllLossBackward>)\n",
            "tensor(nan, grad_fn=<NllLossBackward>)\n",
            "tensor(nan, grad_fn=<NllLossBackward>)\n",
            "tensor(nan, grad_fn=<NllLossBackward>)\n",
            "tensor(nan, grad_fn=<NllLossBackward>)\n"
          ]
        }
      ]
    },
    {
      "cell_type": "code",
      "metadata": {
        "jupyter": {
          "source_hidden": true
        },
        "tags": [],
        "id": "c2e8204f-1eb9-4637-b0c8-a5fbcae5f542",
        "colab": {
          "base_uri": "https://localhost:8080/"
        },
        "outputId": "40aa8431-ea10-47b7-9836-4bb0f2552bd1"
      },
      "source": [
        "# Score Training Set Performance\n",
        "correct = 0\n",
        "total = 0\n",
        "\n",
        "with torch.no_grad():\n",
        "    for batch_num in range(batch_size):  \n",
        "        \n",
        "         # X is the batch of features, y is the batch of targets.\n",
        "        X = X_training[batch_num*batch_size:batch_num*batch_size + batch_size] \n",
        "        y = y_training[batch_num*batch_size:batch_num*batch_size + batch_size] \n",
        "        \n",
        "        # convert from numpy array to torch data type\n",
        "        X = torch.from_numpy(X)\n",
        "        y = torch.from_numpy(y)\n",
        "        \n",
        "        X = X.float()\n",
        "        \n",
        "        output = net(X)\n",
        "        \n",
        "        for idx, i in enumerate(output):\n",
        "            if torch.argmax(i) == y[idx]:\n",
        "                correct += 1\n",
        "            total += 1\n",
        "\n",
        "print(\"Training Set Accuracy: \", round(correct/total, 3))"
      ],
      "id": "c2e8204f-1eb9-4637-b0c8-a5fbcae5f542",
      "execution_count": null,
      "outputs": [
        {
          "output_type": "stream",
          "name": "stdout",
          "text": [
            "Training Set Accuracy:  0.987\n"
          ]
        }
      ]
    },
    {
      "cell_type": "code",
      "metadata": {
        "jupyter": {
          "source_hidden": true
        },
        "tags": [],
        "id": "dde5d608-d5a8-49ae-9ed2-719525d204e1",
        "colab": {
          "base_uri": "https://localhost:8080/"
        },
        "outputId": "abc6354a-f00b-4425-cd2c-d0a26cf37aee"
      },
      "source": [
        "# Score Test Set Performance\n",
        "correct = 0\n",
        "total = 0\n",
        "\n",
        "with torch.no_grad():\n",
        "    for batch_num in range(batch_size):  \n",
        "        \n",
        "         # X is the batch of features, y is the batch of targets.\n",
        "        X = X_testing[batch_num*batch_size:batch_num*batch_size + batch_size] \n",
        "        y = y_testing[batch_num*batch_size:batch_num*batch_size + batch_size] \n",
        "        \n",
        "        # convert from numpy array to torch data type\n",
        "        X = torch.from_numpy(X)\n",
        "        y = torch.from_numpy(y)\n",
        "        \n",
        "        X = X.float()\n",
        "        \n",
        "        output = net(X)\n",
        "        \n",
        "        for idx, i in enumerate(output):\n",
        "            if torch.argmax(i) == y[idx]:\n",
        "                correct += 1\n",
        "            total += 1\n",
        "\n",
        "print(\"Test Set Accuracy: \", round(correct/total, 3))"
      ],
      "id": "dde5d608-d5a8-49ae-9ed2-719525d204e1",
      "execution_count": null,
      "outputs": [
        {
          "output_type": "stream",
          "name": "stdout",
          "text": [
            "Test Set Accuracy:  0.865\n"
          ]
        }
      ]
    },
    {
      "cell_type": "code",
      "metadata": {
        "id": "MfVc10XZOTwT",
        "colab": {
          "base_uri": "https://localhost:8080/",
          "height": 339
        },
        "outputId": "cb63b2b4-cea2-48d9-cf82-50146809de59"
      },
      "source": [
        "# full 0.91\n",
        "# unadapted 0.805\n",
        "# adapted 0.865\n",
        "\n",
        "import os\n",
        "import numpy as np\n",
        "import pandas as pd\n",
        "from tqdm import tqdm\n",
        "import seaborn as sns\n",
        "import matplotlib.pyplot as plt\n",
        "from sklearn.model_selection import train_test_split\n",
        "from sklearn.model_selection import LeaveOneOut\n",
        "from sklearn import svm\n",
        "from sklearn.metrics import confusion_matrix, accuracy_score\n",
        "import sklearn as skl\n",
        "from sklearn.datasets import load_boston\n",
        "from sklearn.linear_model import ElasticNet, ElasticNetCV, Ridge, Lasso, LinearRegression, SGDClassifier\n",
        "from sklearn.metrics import mean_squared_error\n",
        "from sklearn.model_selection import train_test_split, GridSearchCV\n",
        "from sklearn.model_selection import StratifiedKFold\n",
        "from sklearn.svm import LinearSVC\n",
        "from sklearn.base import clone\n",
        "from sklearn.utils.testing import ignore_warnings\n",
        "from sklearn.exceptions import ConvergenceWarning\n",
        "\n",
        "import random\n",
        "import warnings\n",
        "import time\n",
        "from scipy.signal import savgol_filter\n",
        "\n",
        "x = np.arange(3)\n",
        "y = [0.1428559249786871, 0.8350298380221653, 0.8821142369991474] #, 0.12419825072886297, 0.12332361516034987]\n",
        "yNL = [0.805, 0.865, 0.91];\n",
        "yerr = [0.0021487, 0.00239572, 0.00157882] #, 0.00789221, 0.00154821] # for SVM errorbar\n",
        "\n",
        "plt.style.use('seaborn-talk')\n",
        "plt.figure(figsize=(6,5))\n",
        "plt.errorbar(x, y, yerr=None, alpha=0.7, color='b', label='SVM')\n",
        "plt.errorbar(x, yNL, yerr=None, alpha=0.7, color='g', label='ANN')\n",
        "plt.hlines(y=0.125, xmin=0, xmax=2, linestyles='--', colors='orange', label='chance')\n",
        "# plt.legend(fontsize=14, bbox_to_anchor=(1.05, 1), loc=2, borderaxespad=0.)\n",
        "plt.legend(loc='center right', fontsize=16)\n",
        "figtitle = 'SVM and ANN decoder trained by (un)adapted response'\n",
        "# plt.title(figtitle, fontsize=16, pad=15)\n",
        "\n",
        "labels = ['unadapted', 'adapted', 'full'] #, 'U-A', 'A-U'];\n",
        "plt.xticks(x, labels, rotation=0, fontsize=18);\n",
        "plt.ylim(-0,1);\n",
        "plt.yticks(np.arange(0.1,1.01,0.1), fontsize=14)\n",
        "# plt.grid(axis = 'y')\n",
        "plt.ylabel(\"performance\", fontsize=18);\n",
        "# plt.tight_layout()\n",
        "\n",
        "plt.savefig(figtitle + '.pdf', format='pdf')\n",
        "from google.colab import files\n",
        "files.download(figtitle + '.pdf')"
      ],
      "id": "MfVc10XZOTwT",
      "execution_count": null,
      "outputs": [
        {
          "output_type": "display_data",
          "data": {
            "application/javascript": [
              "\n",
              "    async function download(id, filename, size) {\n",
              "      if (!google.colab.kernel.accessAllowed) {\n",
              "        return;\n",
              "      }\n",
              "      const div = document.createElement('div');\n",
              "      const label = document.createElement('label');\n",
              "      label.textContent = `Downloading \"${filename}\": `;\n",
              "      div.appendChild(label);\n",
              "      const progress = document.createElement('progress');\n",
              "      progress.max = size;\n",
              "      div.appendChild(progress);\n",
              "      document.body.appendChild(div);\n",
              "\n",
              "      const buffers = [];\n",
              "      let downloaded = 0;\n",
              "\n",
              "      const channel = await google.colab.kernel.comms.open(id);\n",
              "      // Send a message to notify the kernel that we're ready.\n",
              "      channel.send({})\n",
              "\n",
              "      for await (const message of channel.messages) {\n",
              "        // Send a message to notify the kernel that we're ready.\n",
              "        channel.send({})\n",
              "        if (message.buffers) {\n",
              "          for (const buffer of message.buffers) {\n",
              "            buffers.push(buffer);\n",
              "            downloaded += buffer.byteLength;\n",
              "            progress.value = downloaded;\n",
              "          }\n",
              "        }\n",
              "      }\n",
              "      const blob = new Blob(buffers, {type: 'application/binary'});\n",
              "      const a = document.createElement('a');\n",
              "      a.href = window.URL.createObjectURL(blob);\n",
              "      a.download = filename;\n",
              "      div.appendChild(a);\n",
              "      a.click();\n",
              "      div.remove();\n",
              "    }\n",
              "  "
            ],
            "text/plain": [
              "<IPython.core.display.Javascript object>"
            ]
          },
          "metadata": {}
        },
        {
          "output_type": "display_data",
          "data": {
            "application/javascript": [
              "download(\"download_1d146c3c-1376-481c-b77d-1bfedb876aa6\", \"SVM and ANN decoder trained by (un)adapted response.pdf\", 12791)"
            ],
            "text/plain": [
              "<IPython.core.display.Javascript object>"
            ]
          },
          "metadata": {}
        },
        {
          "output_type": "display_data",
          "data": {
            "image/png": "[encoded data removed]",
            "text/plain": [
              "<Figure size 432x360 with 1 Axes>"
            ]
          },
          "metadata": {
            "needs_background": "light"
          }
        }
      ]
    }
  ]
}