{
 "cells": [
  {
   "cell_type": "code",
   "execution_count": 2,
   "id": "6657ae02",
   "metadata": {},
   "outputs": [],
   "source": [
    "import numpy as np\n",
    "import matplotlib.pyplot as plt\n",
    "\n",
    "import seaborn as sns \n",
    "import pandas as pd\n",
    "\n",
    "from statsmodels.formula.api import ols"
   ]
  },
  {
   "cell_type": "code",
   "execution_count": 133,
   "id": "ae04dd61",
   "metadata": {},
   "outputs": [],
   "source": [
    "N = 10000\n",
    "# generate theta\n",
    "x = np.random.uniform(size=N)  * 2 * 0.4 + 0.4\n",
    "betaStar = 1 # can modify \n",
    "sigmaTheta = 0.01\n",
    "theta = x * betaStar + np.random.randn(N) * sigmaTheta\n",
    "\n",
    "\n",
    "alphaStar = 2 # can modify \n",
    "muA = x * alphaStar + np.random.randn(N) * sigmaTheta\n",
    "\n",
    "\n",
    "# generate mu's\n",
    "muB = muA * theta\n",
    "mu = np.array([muA, muB])\n",
    "sigmaA = 0.3 # can modify, larger sigmaA makes the first estimator worse\n",
    "# we have to set rho =0, because the dependence already appeared in mean, otherwise, there might be identifiablity issue\n",
    "rho = 0.0\n",
    "\n",
    "Sigma = np.array([[ sigmaA**2, rho*sigmaA**2 ], [rho*sigmaA**2, sigmaA**2]])"
   ]
  },
  {
   "cell_type": "code",
   "execution_count": 134,
   "id": "3c636ffa",
   "metadata": {},
   "outputs": [],
   "source": [
    "# generate responses\n",
    "As, Bs = np.random.multivariate_normal(np.array([0, 0]), Sigma, N).T  + mu"
   ]
  },
  {
   "cell_type": "code",
   "execution_count": 135,
   "id": "08417d38",
   "metadata": {},
   "outputs": [],
   "source": [
    "ratio = Bs/As\n",
    "# bi over muA\n",
    "boMA = Bs/np.mean(As)\n",
    "\n",
    "\n",
    "df = pd.DataFrame(data={'RA': As, 'RB': Bs, 'ratio': ratio, 'x': x, 'xRA': x*As, 'boMA': boMA})\n",
    "df['adaptIndex'] = df['RB']/df['RA']"
   ]
  },
  {
   "cell_type": "code",
   "execution_count": 136,
   "id": "51fe1832",
   "metadata": {},
   "outputs": [
    {
     "data": {
      "text/plain": [
       "(-2.0, 4.0)"
      ]
     },
     "execution_count": 136,
     "metadata": {},
     "output_type": "execute_result"
    },
    {
     "data": {
      "image/png": "[encoded data removed]",
      "text/plain": [
       "<Figure size 864x576 with 1 Axes>"
      ]
     },
     "metadata": {
      "needs_background": "light"
     },
     "output_type": "display_data"
    }
   ],
   "source": [
    "# Bi/Ai violinplot\n",
    "plt.figure(figsize=(12, 8))\n",
    "ax = sns.violinplot(y=\"adaptIndex\", data=df)\n",
    "ax.axhline(y=1.0, color='r', linestyle='--')\n",
    "ax.set_title(\"violinplot of adaption index, N=1000\", fontsize=18)\n",
    "ax.set_ylim(-2, 4)"
   ]
  },
  {
   "cell_type": "code",
   "execution_count": 137,
   "id": "5732cd9c",
   "metadata": {},
   "outputs": [
    {
     "name": "stdout",
     "output_type": "stream",
     "text": [
      "                            OLS Regression Results                            \n",
      "==============================================================================\n",
      "Dep. Variable:                  ratio   R-squared:                       0.053\n",
      "Model:                            OLS   Adj. R-squared:                  0.053\n",
      "Method:                 Least Squares   F-statistic:                     563.8\n",
      "Date:                Mon, 12 Dec 2022   Prob (F-statistic):          2.71e-121\n",
      "Time:                        21:55:38   Log-Likelihood:                -12919.\n",
      "No. Observations:               10000   AIC:                         2.584e+04\n",
      "Df Residuals:                    9998   BIC:                         2.586e+04\n",
      "Df Model:                           1                                         \n",
      "Covariance Type:            nonrobust                                         \n",
      "==============================================================================\n",
      "                 coef    std err          t      P>|t|      [0.025      0.975]\n",
      "------------------------------------------------------------------------------\n",
      "Intercept      0.1209      0.032      3.817      0.000       0.059       0.183\n",
      "x              0.9041      0.038     23.745      0.000       0.829       0.979\n",
      "==============================================================================\n",
      "Omnibus:                    31647.657   Durbin-Watson:                   1.999\n",
      "Prob(Omnibus):                  0.000   Jarque-Bera (JB):       9800833381.542\n",
      "Skew:                          50.019   Prob(JB):                         0.00\n",
      "Kurtosis:                    4851.917   Cond. No.                         7.17\n",
      "==============================================================================\n",
      "\n",
      "Notes:\n",
      "[1] Standard Errors assume that the covariance matrix of the errors is correctly specified.\n"
     ]
    }
   ],
   "source": [
    "# Fit OLS model for estimator 1\n",
    "model = ols(\"ratio ~ x\", df).fit()\n",
    "# Print the summary\n",
    "print(model.summary())"
   ]
  },
  {
   "cell_type": "code",
   "execution_count": 138,
   "id": "2666e0fc",
   "metadata": {},
   "outputs": [
    {
     "name": "stdout",
     "output_type": "stream",
     "text": [
      "                            OLS Regression Results                            \n",
      "==============================================================================\n",
      "Dep. Variable:                     RB   R-squared:                       0.832\n",
      "Model:                            OLS   Adj. R-squared:                  0.832\n",
      "Method:                 Least Squares   F-statistic:                 2.470e+04\n",
      "Date:                Mon, 12 Dec 2022   Prob (F-statistic):               0.00\n",
      "Time:                        21:55:38   Log-Likelihood:                -3087.4\n",
      "No. Observations:               10000   AIC:                             6181.\n",
      "Df Residuals:                    9997   BIC:                             6203.\n",
      "Df Model:                           2                                         \n",
      "Covariance Type:            nonrobust                                         \n",
      "==============================================================================\n",
      "                 coef    std err          t      P>|t|      [0.025      0.975]\n",
      "------------------------------------------------------------------------------\n",
      "Intercept      0.9005      0.015     59.478      0.000       0.871       0.930\n",
      "xRA            1.6683      0.014    117.481      0.000       1.640       1.696\n",
      "RA            -1.1430      0.020    -56.424      0.000      -1.183      -1.103\n",
      "==============================================================================\n",
      "Omnibus:                        5.835   Durbin-Watson:                   1.961\n",
      "Prob(Omnibus):                  0.054   Jarque-Bera (JB):                6.345\n",
      "Skew:                          -0.007   Prob(JB):                       0.0419\n",
      "Kurtosis:                       3.123   Cond. No.                         21.1\n",
      "==============================================================================\n",
      "\n",
      "Notes:\n",
      "[1] Standard Errors assume that the covariance matrix of the errors is correctly specified.\n"
     ]
    }
   ],
   "source": [
    "# Fit the model for estimator 2\n",
    "model2 = ols(\"RB ~ xRA + RA\", df).fit()\n",
    "\n",
    "# Print the summary\n",
    "print(model2.summary())"
   ]
  },
  {
   "cell_type": "code",
   "execution_count": 139,
   "id": "21794648",
   "metadata": {},
   "outputs": [
    {
     "name": "stdout",
     "output_type": "stream",
     "text": [
      "                            OLS Regression Results                            \n",
      "==============================================================================\n",
      "Dep. Variable:                     RB   R-squared:                       0.863\n",
      "Model:                            OLS   Adj. R-squared:                  0.863\n",
      "Method:                 Least Squares   F-statistic:                 3.156e+04\n",
      "Date:                Mon, 12 Dec 2022   Prob (F-statistic):               0.00\n",
      "Time:                        21:55:38   Log-Likelihood:                -2049.5\n",
      "No. Observations:               10000   AIC:                             4105.\n",
      "Df Residuals:                    9997   BIC:                             4127.\n",
      "Df Model:                           2                                         \n",
      "Covariance Type:            nonrobust                                         \n",
      "=================================================================================\n",
      "                    coef    std err          t      P>|t|      [0.025      0.975]\n",
      "---------------------------------------------------------------------------------\n",
      "Intercept        -0.0086      0.010     -0.893      0.372      -0.027       0.010\n",
      "predicted_xRA     0.9989      0.007    138.897      0.000       0.985       1.013\n",
      "RA                0.0060      0.010      0.619      0.536      -0.013       0.025\n",
      "==============================================================================\n",
      "Omnibus:                        0.499   Durbin-Watson:                   1.967\n",
      "Prob(Omnibus):                  0.779   Jarque-Bera (JB):                0.466\n",
      "Skew:                          -0.011   Prob(JB):                        0.792\n",
      "Kurtosis:                       3.026   Cond. No.                         11.4\n",
      "==============================================================================\n",
      "\n",
      "Notes:\n",
      "[1] Standard Errors assume that the covariance matrix of the errors is correctly specified.\n"
     ]
    }
   ],
   "source": [
    "# Fit the model for estimator 3\n",
    "\n",
    "# first regress Ai on Xi\n",
    "model3_1 = ols(\"RA ~ x\", df).fit()\n",
    "\n",
    "df['predicted_xRA'] = (model3_1.params[1] * x + model3_1.params[0])*x\n",
    "\n",
    "\n",
    "model3_2 = ols(\"RB ~ predicted_xRA + RA\", df).fit()\n",
    "\n",
    "# Print the summary\n",
    "print(model3_2.summary())"
   ]
  },
  {
   "cell_type": "code",
   "execution_count": 140,
   "id": "0b288e76",
   "metadata": {},
   "outputs": [
    {
     "data": {
      "text/plain": [
       "1.9952813714962472"
      ]
     },
     "execution_count": 140,
     "metadata": {},
     "output_type": "execute_result"
    }
   ],
   "source": [
    "model3_1.params[1]"
   ]
  },
  {
   "cell_type": "code",
   "execution_count": 116,
   "id": "d471c6a0",
   "metadata": {},
   "outputs": [
    {
     "data": {
      "text/plain": [
       "0        1.732352\n",
       "1        1.491295\n",
       "2        1.341990\n",
       "3        1.174872\n",
       "4        1.113997\n",
       "           ...   \n",
       "99995    1.180463\n",
       "99996    1.812915\n",
       "99997    1.582016\n",
       "99998    1.913653\n",
       "99999    0.947299\n",
       "Length: 100000, dtype: float64"
      ]
     },
     "execution_count": 116,
     "metadata": {},
     "output_type": "execute_result"
    }
   ],
   "source": [
    "model3_1.fittedvalues"
   ]
  },
  {
   "cell_type": "code",
   "execution_count": null,
   "id": "655e22ed",
   "metadata": {},
   "outputs": [],
   "source": []
  }
 ],
 "metadata": {
  "kernelspec": {
   "display_name": "Python 3 (ipykernel)",
   "language": "python",
   "name": "python3"
  },
  "language_info": {
   "codemirror_mode": {
    "name": "ipython",
    "version": 3
   },
   "file_extension": ".py",
   "mimetype": "text/x-python",
   "name": "python",
   "nbconvert_exporter": "python",
   "pygments_lexer": "ipython3",
   "version": "3.9.7"
  }
 },
 "nbformat": 4,
 "nbformat_minor": 5
}
