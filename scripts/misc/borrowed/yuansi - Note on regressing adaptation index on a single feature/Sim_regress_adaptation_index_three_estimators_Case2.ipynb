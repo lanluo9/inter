{
 "cells": [
  {
   "cell_type": "code",
   "execution_count": 2,
   "id": "6657ae02",
   "metadata": {},
   "outputs": [],
   "source": [
    "import numpy as np\n",
    "import matplotlib.pyplot as plt\n",
    "\n",
    "import seaborn as sns \n",
    "import pandas as pd\n",
    "\n",
    "from statsmodels.formula.api import ols"
   ]
  },
  {
   "cell_type": "code",
   "execution_count": 3,
   "id": "ae04dd61",
   "metadata": {},
   "outputs": [],
   "source": [
    "N = 10000\n",
    "# generate theta\n",
    "x = np.random.uniform(size=N)  * 2 * 0.4 + 0.4\n",
    "betaStar = 1 # can modify \n",
    "sigmaTheta = 0.01\n",
    "theta = x * betaStar + np.random.randn(N) * sigmaTheta\n",
    "\n",
    "\n",
    "alphaStar = 2 # can modify \n",
    "muA = x * alphaStar + np.random.randn(N) * sigmaTheta\n",
    "\n",
    "\n",
    "# generate mu's\n",
    "muB = muA * theta\n",
    "mu = np.array([muA, muB])\n",
    "sigmaA = 0.6 # can modify, larger sigmaA makes the first estimator worse\n",
    "# we have to set rho =0, because the dependence already appeared in mean, otherwise, there might be identifiablity issue\n",
    "rho = 0.0\n",
    "\n",
    "Sigma = np.array([[ sigmaA**2, rho*sigmaA**2 ], [rho*sigmaA**2, sigmaA**2]])"
   ]
  },
  {
   "cell_type": "code",
   "execution_count": 4,
   "id": "3c636ffa",
   "metadata": {},
   "outputs": [],
   "source": [
    "# generate responses\n",
    "As, Bs = np.random.multivariate_normal(np.array([0, 0]), Sigma, N).T  + mu"
   ]
  },
  {
   "cell_type": "code",
   "execution_count": 5,
   "id": "08417d38",
   "metadata": {},
   "outputs": [],
   "source": [
    "ratio = Bs/As\n",
    "# bi over muA\n",
    "boMA = Bs/np.mean(As)\n",
    "\n",
    "\n",
    "df = pd.DataFrame(data={'RA': As, 'RB': Bs, 'ratio': ratio, 'x': x, 'xRA': x*As, 'boMA': boMA})\n",
    "df['adaptIndex'] = df['RB']/df['RA']"
   ]
  },
  {
   "cell_type": "code",
   "execution_count": 6,
   "id": "51fe1832",
   "metadata": {},
   "outputs": [
    {
     "data": {
      "text/plain": [
       "(-2.0, 4.0)"
      ]
     },
     "execution_count": 6,
     "metadata": {},
     "output_type": "execute_result"
    },
    {
     "data": {
      "image/png": "[encoded data removed]",
      "text/plain": [
       "<Figure size 864x576 with 1 Axes>"
      ]
     },
     "metadata": {
      "needs_background": "light"
     },
     "output_type": "display_data"
    }
   ],
   "source": [
    "# Bi/Ai violinplot\n",
    "plt.figure(figsize=(12, 8))\n",
    "ax = sns.violinplot(y=\"adaptIndex\", data=df)\n",
    "ax.axhline(y=1.0, color='r', linestyle='--')\n",
    "ax.set_title(\"violinplot of adaption index, N=1000\", fontsize=18)\n",
    "ax.set_ylim(-2, 4)"
   ]
  },
  {
   "cell_type": "code",
   "execution_count": 7,
   "id": "5732cd9c",
   "metadata": {},
   "outputs": [
    {
     "name": "stdout",
     "output_type": "stream",
     "text": [
      "                            OLS Regression Results                            \n",
      "==============================================================================\n",
      "Dep. Variable:                  ratio   R-squared:                       0.002\n",
      "Model:                            OLS   Adj. R-squared:                  0.002\n",
      "Method:                 Least Squares   F-statistic:                     20.52\n",
      "Date:                Mon, 12 Dec 2022   Prob (F-statistic):           5.96e-06\n",
      "Time:                        22:08:09   Log-Likelihood:                -32512.\n",
      "No. Observations:               10000   AIC:                         6.503e+04\n",
      "Df Residuals:                    9998   BIC:                         6.504e+04\n",
      "Df Model:                           1                                         \n",
      "Covariance Type:            nonrobust                                         \n",
      "==============================================================================\n",
      "                 coef    std err          t      P>|t|      [0.025      0.975]\n",
      "------------------------------------------------------------------------------\n",
      "Intercept     -0.0797      0.224     -0.355      0.722      -0.519       0.360\n",
      "x              1.2201      0.269      4.530      0.000       0.692       1.748\n",
      "==============================================================================\n",
      "Omnibus:                    22481.811   Durbin-Watson:                   1.982\n",
      "Prob(Omnibus):                  0.000   Jarque-Bera (JB):        656541458.579\n",
      "Skew:                         -20.416   Prob(JB):                         0.00\n",
      "Kurtosis:                    1257.604   Cond. No.                         7.16\n",
      "==============================================================================\n",
      "\n",
      "Notes:\n",
      "[1] Standard Errors assume that the covariance matrix of the errors is correctly specified.\n"
     ]
    }
   ],
   "source": [
    "# Fit OLS model for estimator 1\n",
    "model = ols(\"ratio ~ x\", df).fit()\n",
    "# Print the summary\n",
    "print(model.summary())"
   ]
  },
  {
   "cell_type": "code",
   "execution_count": 8,
   "id": "2666e0fc",
   "metadata": {},
   "outputs": [
    {
     "name": "stdout",
     "output_type": "stream",
     "text": [
      "                            OLS Regression Results                            \n",
      "==============================================================================\n",
      "Dep. Variable:                     RB   R-squared:                       0.533\n",
      "Model:                            OLS   Adj. R-squared:                  0.533\n",
      "Method:                 Least Squares   F-statistic:                     5706.\n",
      "Date:                Mon, 12 Dec 2022   Prob (F-statistic):               0.00\n",
      "Time:                        22:08:09   Log-Likelihood:                -9938.8\n",
      "No. Observations:               10000   AIC:                         1.988e+04\n",
      "Df Residuals:                    9997   BIC:                         1.991e+04\n",
      "Df Model:                           2                                         \n",
      "Covariance Type:            nonrobust                                         \n",
      "==============================================================================\n",
      "                 coef    std err          t      P>|t|      [0.025      0.975]\n",
      "------------------------------------------------------------------------------\n",
      "Intercept      1.0211      0.017     61.060      0.000       0.988       1.054\n",
      "xRA            1.5791      0.019     82.116      0.000       1.541       1.617\n",
      "RA            -1.1358      0.023    -50.043      0.000      -1.180      -1.091\n",
      "==============================================================================\n",
      "Omnibus:                        1.549   Durbin-Watson:                   2.004\n",
      "Prob(Omnibus):                  0.461   Jarque-Bera (JB):                1.529\n",
      "Skew:                           0.014   Prob(JB):                        0.466\n",
      "Kurtosis:                       3.054   Cond. No.                         12.2\n",
      "==============================================================================\n",
      "\n",
      "Notes:\n",
      "[1] Standard Errors assume that the covariance matrix of the errors is correctly specified.\n"
     ]
    }
   ],
   "source": [
    "# Fit the model for estimator 2\n",
    "model2 = ols(\"RB ~ xRA + RA\", df).fit()\n",
    "\n",
    "# Print the summary\n",
    "print(model2.summary())"
   ]
  },
  {
   "cell_type": "code",
   "execution_count": 9,
   "id": "21794648",
   "metadata": {},
   "outputs": [
    {
     "name": "stdout",
     "output_type": "stream",
     "text": [
      "                            OLS Regression Results                            \n",
      "==============================================================================\n",
      "Dep. Variable:                     RB   R-squared:                       0.606\n",
      "Model:                            OLS   Adj. R-squared:                  0.606\n",
      "Method:                 Least Squares   F-statistic:                     7703.\n",
      "Date:                Mon, 12 Dec 2022   Prob (F-statistic):               0.00\n",
      "Time:                        22:08:09   Log-Likelihood:                -9083.7\n",
      "No. Observations:               10000   AIC:                         1.817e+04\n",
      "Df Residuals:                    9997   BIC:                         1.819e+04\n",
      "Df Model:                           2                                         \n",
      "Covariance Type:            nonrobust                                         \n",
      "=================================================================================\n",
      "                    coef    std err          t      P>|t|      [0.025      0.975]\n",
      "---------------------------------------------------------------------------------\n",
      "Intercept         0.0221      0.015      1.511      0.131      -0.007       0.051\n",
      "predicted_xRA     0.9982      0.010     99.326      0.000       0.978       1.018\n",
      "RA               -0.0066      0.010     -0.661      0.509      -0.026       0.013\n",
      "==============================================================================\n",
      "Omnibus:                        2.091   Durbin-Watson:                   2.027\n",
      "Prob(Omnibus):                  0.352   Jarque-Bera (JB):                2.071\n",
      "Skew:                           0.035   Prob(JB):                        0.355\n",
      "Kurtosis:                       3.012   Cond. No.                         6.60\n",
      "==============================================================================\n",
      "\n",
      "Notes:\n",
      "[1] Standard Errors assume that the covariance matrix of the errors is correctly specified.\n"
     ]
    }
   ],
   "source": [
    "# Fit the model for estimator 3\n",
    "\n",
    "# first regress Ai on Xi\n",
    "model3_1 = ols(\"RA ~ x\", df).fit()\n",
    "\n",
    "df['predicted_xRA'] = (model3_1.params[1] * x + model3_1.params[0])*x\n",
    "\n",
    "\n",
    "model3_2 = ols(\"RB ~ predicted_xRA + RA\", df).fit()\n",
    "\n",
    "# Print the summary\n",
    "print(model3_2.summary())"
   ]
  },
  {
   "cell_type": "code",
   "execution_count": 10,
   "id": "0b288e76",
   "metadata": {},
   "outputs": [
    {
     "data": {
      "text/plain": [
       "2.0012035800291894"
      ]
     },
     "execution_count": 10,
     "metadata": {},
     "output_type": "execute_result"
    }
   ],
   "source": [
    "model3_1.params[1]"
   ]
  },
  {
   "cell_type": "code",
   "execution_count": 11,
   "id": "d471c6a0",
   "metadata": {},
   "outputs": [
    {
     "data": {
      "text/plain": [
       "0       0.826110\n",
       "1       1.028974\n",
       "2       1.553042\n",
       "3       1.496529\n",
       "4       1.353479\n",
       "          ...   \n",
       "9995    1.220670\n",
       "9996    1.037183\n",
       "9997    1.672353\n",
       "9998    1.594566\n",
       "9999    1.201725\n",
       "Length: 10000, dtype: float64"
      ]
     },
     "execution_count": 11,
     "metadata": {},
     "output_type": "execute_result"
    }
   ],
   "source": [
    "model3_1.fittedvalues"
   ]
  },
  {
   "cell_type": "code",
   "execution_count": null,
   "id": "655e22ed",
   "metadata": {},
   "outputs": [],
   "source": []
  }
 ],
 "metadata": {
  "kernelspec": {
   "display_name": "Python 3 (ipykernel)",
   "language": "python",
   "name": "python3"
  },
  "language_info": {
   "codemirror_mode": {
    "name": "ipython",
    "version": 3
   },
   "file_extension": ".py",
   "mimetype": "text/x-python",
   "name": "python",
   "nbconvert_exporter": "python",
   "pygments_lexer": "ipython3",
   "version": "3.9.7"
  }
 },
 "nbformat": 4,
 "nbformat_minor": 5
}
