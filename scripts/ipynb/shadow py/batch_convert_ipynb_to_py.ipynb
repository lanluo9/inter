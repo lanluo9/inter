{
 "cells": [
  {
   "cell_type": "code",
   "execution_count": 6,
   "metadata": {},
   "outputs": [],
   "source": [
    "# change dir to the path of ipynb files\n",
    "import os\n",
    "dir_now = r'C:\\Users\\ll357\\Documents\\inter\\scripts\\ipynb/'.replace('\\\\', '/')\n",
    "os.chdir(dir_now)\n",
    "\n",
    "# # Convert all ipynb files to py files. in anaconde prompt, run:\n",
    "# cd Documents\\inter\\scripts\\ipynb\n",
    "# jupyter nbconvert --to script *.ipynb\n",
    "\n",
    "# get today's date\n",
    "import datetime\n",
    "today = datetime.date.today()\n",
    "\n",
    "# create shadow py folder for today\n",
    "py_target_dir = dir_now + \"/shadow py/\" + str(today) + \"/\"\n",
    "if not os.path.exists(py_target_dir):\n",
    "    os.mkdir(py_target_dir)\n",
    "\n",
    "# move py files to shadow py folder\n",
    "py_files = [f for f in os.listdir(dir_now) if f.endswith('.py')]\n",
    "for f in py_files:\n",
    "    os.rename(f, py_target_dir + f)"
   ]
  }
 ],
 "metadata": {
  "kernelspec": {
   "display_name": "base",
   "language": "python",
   "name": "python3"
  },
  "language_info": {
   "codemirror_mode": {
    "name": "ipython",
    "version": 3
   },
   "file_extension": ".py",
   "mimetype": "text/x-python",
   "name": "python",
   "nbconvert_exporter": "python",
   "pygments_lexer": "ipython3",
   "version": "3.11.5"
  },
  "orig_nbformat": 4,
  "vscode": {
   "interpreter": {
    "hash": "654a1d97444558a991daa59b50de40303e0e66ccc3f29b4958db12481daba1c4"
   }
  }
 },
 "nbformat": 4,
 "nbformat_minor": 2
}
