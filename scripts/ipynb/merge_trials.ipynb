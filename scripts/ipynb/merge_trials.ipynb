{
 "cells": [
  {
   "cell_type": "code",
   "execution_count": 6,
   "metadata": {},
   "outputs": [],
   "source": [
    "os.getcwd()\n",
    "os.chdir('d:\\\\repo\\\\inter_data\\\\inter\\\\')"
   ]
  },
  {
   "cell_type": "code",
   "execution_count": 8,
   "metadata": {},
   "outputs": [],
   "source": [
    "import numpy as np\n",
    "import pandas as pd\n",
    "\n",
    "import seaborn as sns\n",
    "import matplotlib.pyplot as plt\n",
    "%matplotlib inline\n",
    "\n",
    "import os\n",
    "from os import listdir\n",
    "from os.path import join, isdir, isfile\n",
    "import pickle\n",
    "\n",
    "from src import adp\n",
    "\n",
    "%load_ext autoreload\n",
    "%autoreload 2"
   ]
  },
  {
   "cell_type": "code",
   "execution_count": 9,
   "metadata": {},
   "outputs": [
    {
     "name": "stdout",
     "output_type": "stream",
     "text": [
      "ncell: 169, nstim: 50, ntrial: 1473, nframe: 203\n",
      "ncell: 110, nstim: 50, ntrial: 1473, nframe: 203\n",
      "ncell: 206, nstim: 50, ntrial: 1473, nframe: 203\n"
     ]
    }
   ],
   "source": [
    "mousedir = r'D:\\repo\\inter_data\\mix50'.replace('\\\\', '/')\n",
    "\n",
    "#Create a dictionary with keys being recording folder name, and value -- array with first element being stimulus identity array, and second element -- trace by trial matrix; \n",
    "recordings = {f : [adp.load_trace_trial_data(join(mousedir, f), vis_filter=True)] for f in listdir(mousedir) if isdir(join(mousedir, f))}"
   ]
  },
  {
   "cell_type": "code",
   "execution_count": 41,
   "metadata": {},
   "outputs": [
    {
     "name": "stdout",
     "output_type": "stream",
     "text": [
      "dict_keys([1, 2, 3, 4, 5, 6, 7, 8, 9, 10, 11, 12, 13, 14, 15, 16, 17, 18, 19, 20, 21, 22, 23, 24, 25, 26, 27, 28, 29, 30, 31, 32, 33, 34, 35, 36, 37, 38, 39, 40, 41, 42, 43, 44, 45, 46, 47, 48, 49, 50])\n"
     ]
    }
   ],
   "source": [
    "#Calculate the minimum number of trials for each trial id across recordings and store in a dictionary with trial id as the key, and smallest number of trials as a value\n",
    "min_trial_num = {}\n",
    "for recording in recordings.keys():\n",
    "    si, tbt = recordings[recording][0]\n",
    "    names, counts = np.unique(si, return_counts=True)\n",
    "    for i, n in enumerate(names):\n",
    "        if n not in min_trial_num.keys() or counts[i] < min_trial_num[n]:\n",
    "            min_trial_num[n] = counts[i]\n",
    "\n",
    "#out_tbt is the final merged array\n",
    "out_tbt = np.array([])\n",
    "trialids = min_trial_num.keys()\n",
    "# print(trialids)\n",
    "\n",
    "for recording in recordings.keys():\n",
    "    #for each recording, re-create trace-by-trial matrix with trial ids sorted the same way across recordings\n",
    "    out_tbt_by_recording = np.array([])\n",
    "    for trial_id in trialids:\n",
    "        min_num_trials = min_trial_num[trial_id]\n",
    "        si, tbt = recordings[recording][0]\n",
    "        #select the trials where the current trial_id is used and use that to index\n",
    "        curr_trialid_locs = np.where(si == trial_id)[:min_num_trials - 1][0]\n",
    "        tbt_slice = tbt[:, curr_trialid_locs, :]\n",
    "        if out_tbt_by_recording.shape[0] == 0:\n",
    "            out_tbt_by_recording = tbt_slice\n",
    "        else:\n",
    "            #stack trace-by-trial matrices along 1st dimension (n trial)\n",
    "            out_tbt_by_recording = np.hstack((out_tbt_by_recording, tbt_slice))\n",
    "    #stack trace-by-trial matrices along 0th dimesion (neuron)\n",
    "    if out_tbt.shape[0] == 0:\n",
    "        out_tbt = out_tbt_by_recording\n",
    "    else:\n",
    "        out_tbt = np.vstack((out_tbt, out_tbt_by_recording))\n",
    "        \n"
   ]
  },
  {
   "cell_type": "code",
   "execution_count": null,
   "metadata": {},
   "outputs": [],
   "source": []
  }
 ],
 "metadata": {
  "kernelspec": {
   "display_name": "Python 3.7.6 ('base')",
   "language": "python",
   "name": "python3"
  },
  "language_info": {
   "codemirror_mode": {
    "name": "ipython",
    "version": 3
   },
   "file_extension": ".py",
   "mimetype": "text/x-python",
   "name": "python",
   "nbconvert_exporter": "python",
   "pygments_lexer": "ipython3",
   "version": "3.7.6"
  },
  "orig_nbformat": 4,
  "vscode": {
   "interpreter": {
    "hash": "ec914cbb273dbefc52be6724be800e62abca1823c4fe2d1dfe36c964e75ce01e"
   }
  }
 },
 "nbformat": 4,
 "nbformat_minor": 2
}
