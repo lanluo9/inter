{
 "cells": [
  {
   "attachments": {},
   "cell_type": "markdown",
   "metadata": {},
   "source": [
    "## import"
   ]
  },
  {
   "cell_type": "code",
   "execution_count": 1,
   "metadata": {},
   "outputs": [],
   "source": [
    "## on hubel, set python interpreter path: C:\\Users\\ll357\\AppData\\Local\\anaconda3\\python.exe\n",
    "\n",
    "import os\n",
    "import warnings\n",
    "from tqdm import tqdm\n",
    "import pickle\n",
    "from IPython.display import clear_output\n",
    "\n",
    "import numpy as np\n",
    "import pandas as pd\n",
    "import matplotlib.pyplot as plt\n",
    "%matplotlib inline\n",
    "\n",
    "from statsmodels.stats.proportion import proportion_confint\n",
    "from sklearn.svm import LinearSVC\n",
    "    # Similar to SVC with parameter kernel=’linear’, but implemented in terms of liblinear rather than libsvm, \n",
    "    # so it scale better to large numbers of samples.\n",
    "from sklearn.svm import SVC\n",
    "from sklearn.pipeline import make_pipeline\n",
    "from sklearn.preprocessing import StandardScaler\n",
    "from sklearn.model_selection import cross_validate\n",
    "from sklearn.model_selection import train_test_split\n",
    "from sklearn.model_selection import LeaveOneOut\n",
    "\n",
    "%load_ext autoreload\n",
    "%autoreload 2"
   ]
  },
  {
   "attachments": {},
   "cell_type": "markdown",
   "metadata": {},
   "source": [
    "## func"
   ]
  },
  {
   "cell_type": "code",
   "execution_count": 13,
   "metadata": {},
   "outputs": [],
   "source": [
    "pd.options.mode.chained_assignment = None  # default='warn'\n",
    "\n",
    "dir_data = r'\\\\duhs-user-nc1.dhe.duke.edu\\dusom_glickfeldlab\\All_Staff\\home\\lan\\Data\\2P_images\\mat_inter/'.replace('\\\\', '/')\n",
    "dir_repo = r'C:\\Users\\ll357\\Documents\\inter/'.replace('\\\\', '/')\n",
    "\n",
    "\n",
    "def calc_SNR(df_tidy):\n",
    "    ## SNR of R1, aka (R2 without adapter, isi=6k)\n",
    "    tmp = df_tidy[(df_tidy.resp_id == 'R2') & (df_tidy.isi == 6000)].groupby(['cell_id', 'stim2_id']).dfof\n",
    "    SNR_R1 = (tmp.mean() / tmp.std()).reset_index()\n",
    "    \n",
    "    ## modified SNR of R1: for cell, (max-min resp) / (median std over ori)\n",
    "    dfof_range_ori = (df_tidy[(df_tidy.resp_id == 'R2') & (df_tidy.isi == 6000)]\n",
    "                    .groupby(['cell_id', 'stim2_id'])\n",
    "                    .dfof.mean().reset_index() # mean dfof for each cell and each stim2_id\n",
    "                    .groupby('cell_id').dfof.apply(lambda x: x.max() - x.min()) # (max - min) resp for each cell over all stim2_id\n",
    "                    .reset_index()\n",
    "                    .rename(columns={'dfof': 'dfof_range'})\n",
    "                    )\n",
    "    dfof_std_ori  = (df_tidy[(df_tidy.resp_id == 'R2') & (df_tidy.isi == 6000)]\n",
    "                    .groupby(['cell_id', 'stim2_id'])\n",
    "                    .dfof.std().reset_index()\n",
    "                    .groupby('cell_id').dfof.median() # median std over stim2_id\n",
    "                    .reset_index()\n",
    "                    .rename(columns={'dfof': 'dfof_std_med'})\n",
    "                    )\n",
    "    SNR_R1_mod = dfof_range_ori.dfof_range / dfof_std_ori.dfof_std_med\n",
    "    dfof_SNR_R1_mod = dfof_range_ori.copy()\n",
    "    dfof_SNR_R1_mod['SNR_R1_mod'] = SNR_R1_mod\n",
    "\n",
    "    ## SNR of R2, aka (R2 with adapter, isi=250)\n",
    "    tmp = df_tidy[(df_tidy.resp_id == 'R2') & (df_tidy.isi == 250)].groupby(['cell_id', 'stim2_id']).dfof\n",
    "    SNR_R2 = (tmp.mean() / tmp.std()).reset_index()\n",
    "\n",
    "    ## merge to df\n",
    "    df_SNR = SNR_R1.merge(SNR_R2, on=['cell_id', 'stim2_id'], suffixes=('_R1', '_R2'))\n",
    "    df_SNR.columns = ['cell_id', 'stim2_id', 'SNR_R1', 'SNR_R2'] # rename columns\n",
    "    df_SNR = df_SNR.merge(dfof_SNR_R1_mod, on=['cell_id'])\n",
    "    df_SNR = df_SNR.sort_values(by='SNR_R1_mod', ascending=False)\n",
    "    return df_SNR\n",
    "\n",
    "\n",
    "def get_df_svc(df_tidy, iarea='V1', idatesess=0, ncell_keep=15, filter_cell='vis_pval'):\n",
    "    df_svc = df_tidy[['dfof', \n",
    "                    'cell_id', 'resp_id', 'isi', 'stim2_id', 'stim2_dist_id', 'trial_id',\n",
    "                    'filter_cell_vis', 'filter_cell_stim', 'filter_cell_vis_pval',\n",
    "                    'area', 'mouse', 'date', 'sess'\n",
    "                    ]]\n",
    "\n",
    "    df_svc['stim2_dist'] = df_svc.stim2_id.apply(lambda x: 22.5*(8-x) if x > 4 else 22.5*x) \n",
    "                            # stim2 distance from 0 deg, hard coded for 8 ori. TODO: modify if needed\n",
    "    df_svc['date_sess'] = df_svc.date + '_' + df_svc.sess\n",
    "    \n",
    "    df_svc = df_svc[(df_svc.isi != 750)\n",
    "                    & (df_svc.filter_cell_vis == True)\n",
    "                    & (df_svc.resp_id == 'R2') # only decode R2, with or without adapter (differentiate by isi)\n",
    "                    & (df_svc.area == iarea)\n",
    "                    ]\n",
    "    date_sess_now = df_svc.date_sess.unique()[idatesess] # sess id in a specific area, with filter_cell_vis=True\n",
    "    df_svc = df_svc[df_svc.date_sess == date_sess_now]\n",
    "\n",
    "    if df_svc.cell_id.nunique() > ncell_keep:\n",
    "        \n",
    "        if filter_cell == 'vis_pval':\n",
    "            vis_pval_thresh = (df_svc.groupby('cell_id').first()\n",
    "                            .filter_cell_vis_pval.sort_values() # ascending, smaller pval better\n",
    "                            [ncell_keep]) # nsample (nrep trial) too small, need to reduce nfeature (ncell)\n",
    "            df_svc = df_svc[df_svc.filter_cell_vis_pval < vis_pval_thresh]\n",
    "        \n",
    "        if filter_cell == 'SNR':\n",
    "            df_SNR = calc_SNR(df_svc)\n",
    "            model_cell_id = (df_SNR.groupby('cell_id')\n",
    "                            .SNR_R1.max().reset_index()\n",
    "                            .sort_values('SNR_R1', ascending=False)\n",
    "                            .head(ncell_keep).cell_id.values\n",
    "                            )\n",
    "            df_svc = df_svc[df_svc.cell_id.isin(model_cell_id)]\n",
    "            assert set(df_svc.cell_id.unique()) == set(sorted(model_cell_id))\n",
    "            \n",
    "        if filter_cell == 'SNR_R1_mod':\n",
    "            df_SNR = calc_SNR(df_svc)\n",
    "            model_cell_id = (df_SNR.groupby('cell_id')\n",
    "                            .SNR_R1_mod.first().reset_index()\n",
    "                            .sort_values('SNR_R1_mod', ascending=False)\n",
    "                            .head(ncell_keep).cell_id.values\n",
    "                            )\n",
    "            df_svc = df_svc[df_svc.cell_id.isin(model_cell_id)]\n",
    "            assert set(df_svc.cell_id.unique()) == set(sorted(model_cell_id))\n",
    "            \n",
    "        if filter_cell == 'gOSI':\n",
    "            df_gOSI_sess = df_gOSI[df_gOSI.date_sess == date_sess_now]\n",
    "            model_cell_id = (df_gOSI_sess.sort_values('gOSI_noad', ascending=False)\n",
    "                             .head(ncell_keep).cell_id.values\n",
    "                             )\n",
    "            df_svc = df_svc[df_svc.cell_id.isin(model_cell_id)]\n",
    "        \n",
    "    return df_svc\n",
    "\n",
    "\n",
    "def df_to_train_test(df, ref_ori_id, train_only=True):\n",
    "    # input: filtered df_svc\n",
    "    # output: X_train, X_test, y_train, y_test (of the filter condition)\n",
    "    # train_only: only get train data from df, no test. \n",
    "        # use only train-val split in cross val, not train-val-test split\n",
    "    # double checked 2023-10-17\n",
    "    \n",
    "    label_arr = df.groupby('trial_id').stim2_id.first().values\n",
    "    label_arr = (label_arr == ref_ori_id) # True = ref ori, False = other ori\n",
    "    \n",
    "    feature_mat = (df\n",
    "                   .pivot_table(index=['trial_id'], # row = observation\n",
    "                                columns='cell_id', # col = feature\n",
    "                                values='dfof')\n",
    "                   .to_numpy())\n",
    "    \n",
    "    assert feature_mat.shape[0] == label_arr.shape[0]\n",
    "    # print(label_arr.shape) # ntrial\n",
    "    # print(feature_mat.shape) # ntrial x ncell\n",
    "    \n",
    "    if train_only == False:\n",
    "        X_train, X_test, y_train, y_test = train_test_split(\n",
    "            feature_mat, label_arr, test_size=int(1), # 1 trial for test\n",
    "            random_state=0, shuffle=True) \n",
    "        # print(X_train.shape, y_train.shape, X_test.shape, y_test.shape) # ntrial x ncell\n",
    "    \n",
    "    if train_only == True:\n",
    "        X_train, y_train = feature_mat, label_arr\n",
    "        X_test, y_test = None, None\n",
    "        return X_train, y_train, X_test, y_test"
   ]
  },
  {
   "attachments": {},
   "cell_type": "markdown",
   "metadata": {},
   "source": [
    "## df_tidy load"
   ]
  },
  {
   "cell_type": "code",
   "execution_count": 3,
   "metadata": {},
   "outputs": [
    {
     "name": "stdout",
     "output_type": "stream",
     "text": [
      "area\n",
      "LM    22\n",
      "Name: count, dtype: int64 22\n",
      "area\n",
      "V1    6\n",
      "Name: count, dtype: int64 6\n",
      "area\n",
      "LI    18\n",
      "Name: count, dtype: int64 18\n"
     ]
    }
   ],
   "source": [
    "data_info = pd.read_excel(os.path.join(dir_data, 'adp_dataset_master.xlsx'))\n",
    "meta = data_info[(data_info.paradigm == 'grating') \n",
    "                 & (data_info.area == 'LM')\n",
    "                 & ((data_info.cellpose_seg == True) | (data_info.manual_seg == True))] # ensure segmentation\n",
    "meta = meta.reset_index(drop=True)\n",
    "nset = meta.shape[0]\n",
    "print(meta.area.value_counts(), nset)\n",
    "meta_LM = meta.copy()\n",
    "\n",
    "meta = data_info[(data_info.paradigm == 'grating') \n",
    "                 & (data_info.area == 'V1') \n",
    "                 & (data_info.gcamp == '6s') # avoid mixing in gcamp8f\n",
    "                 & ((data_info.cellpose_seg == True) | (data_info.manual_seg == True))] # there are 2 data in V1 that haven't been segmented due to cellpose failing with low quality tiff\n",
    "meta = meta.reset_index(drop=True)\n",
    "nset = meta.shape[0]\n",
    "print(meta.area.value_counts(), nset)\n",
    "meta_V1 = meta.copy()\n",
    "\n",
    "meta = data_info[(data_info.paradigm == 'grating') \n",
    "                 & (data_info.area == 'LI') \n",
    "                 & (data_info.gcamp == '6s') # avoid mixing in gcamp8f\n",
    "                 & (data_info.manual_seg != 'TODO') # 2 LI data still need manual segm\n",
    "                 & (data_info.note.str.contains('bad') != True) # exclude bad data\n",
    "                 ]\n",
    "meta = meta.reset_index(drop=True)\n",
    "nset = meta.shape[0]\n",
    "print(meta.area.value_counts(), nset)\n",
    "meta_LI = meta.copy()\n",
    "\n",
    "meta = pd.concat([meta_V1, meta_LM, meta_LI], axis=0).reset_index(drop=True)"
   ]
  },
  {
   "cell_type": "code",
   "execution_count": 4,
   "metadata": {},
   "outputs": [],
   "source": [
    "nset = len(meta)\n",
    "df_tidy = pd.DataFrame()\n",
    "\n",
    "for iset in tqdm(range(nset)):\n",
    "    # print(f'iset={iset}, nset={nset}')\n",
    "\n",
    "    mouse = meta.loc[iset, 'mouse'].astype(str)\n",
    "    imouse = 'i' + mouse\n",
    "    date = meta.loc[iset, 'date'].astype(str)\n",
    "    area = meta.loc[iset, 'area']\n",
    "    sess = meta.loc[iset, 'num']\n",
    "    dir_identifier = f'{area}_{imouse}_{date}_{sess}'\n",
    "\n",
    "    dir_data = r'\\\\duhs-user-nc1.dhe.duke.edu\\dusom_glickfeldlab\\All_Staff\\home\\lan\\Data\\2P_images\\mat_inter/'.replace('\\\\', '/')\n",
    "    csv_filename = 'df_tidy_continuous_vis_pval.csv'\n",
    "    try:\n",
    "        df_tidy_now = pd.read_csv(os.path.join(dir_data, dir_identifier, csv_filename))\n",
    "    except:\n",
    "        dir_identifier = dir_identifier + '_cellpose'\n",
    "        df_tidy_now = pd.read_csv(os.path.join(dir_data, dir_identifier, csv_filename))\n",
    "\n",
    "    df_tidy_now['mouse'] = mouse\n",
    "    df_tidy_now['date'] = date\n",
    "    df_tidy_now['sess'] = sess\n",
    "    df_tidy_now['cell_id'] = (df_tidy_now.date.astype(str) + '_' \n",
    "                               + df_tidy_now.sess.astype(str) + '_' \n",
    "                               + df_tidy_now.cell_id.astype(str)) # cell_id adjusted to be unique across mice, dates, sessions\n",
    "    df_tidy = pd.concat([df_tidy, df_tidy_now], axis=0).reset_index(drop=True)\n",
    "    \n",
    "clear_output()"
   ]
  },
  {
   "cell_type": "code",
   "execution_count": 6,
   "metadata": {},
   "outputs": [
    {
     "data": {
      "text/html": [
       "<div>\n",
       "<style scoped>\n",
       "    .dataframe tbody tr th:only-of-type {\n",
       "        vertical-align: middle;\n",
       "    }\n",
       "\n",
       "    .dataframe tbody tr th {\n",
       "        vertical-align: top;\n",
       "    }\n",
       "\n",
       "    .dataframe thead th {\n",
       "        text-align: right;\n",
       "    }\n",
       "</style>\n",
       "<table border=\"1\" class=\"dataframe\">\n",
       "  <thead>\n",
       "    <tr style=\"text-align: right;\">\n",
       "      <th></th>\n",
       "      <th>stim2_id</th>\n",
       "      <th>stim2_dist_id</th>\n",
       "    </tr>\n",
       "  </thead>\n",
       "  <tbody>\n",
       "    <tr>\n",
       "      <th>4</th>\n",
       "      <td>0</td>\n",
       "      <td>0</td>\n",
       "    </tr>\n",
       "    <tr>\n",
       "      <th>16</th>\n",
       "      <td>1</td>\n",
       "      <td>1</td>\n",
       "    </tr>\n",
       "    <tr>\n",
       "      <th>1</th>\n",
       "      <td>2</td>\n",
       "      <td>2</td>\n",
       "    </tr>\n",
       "    <tr>\n",
       "      <th>3</th>\n",
       "      <td>3</td>\n",
       "      <td>3</td>\n",
       "    </tr>\n",
       "    <tr>\n",
       "      <th>7</th>\n",
       "      <td>4</td>\n",
       "      <td>4</td>\n",
       "    </tr>\n",
       "    <tr>\n",
       "      <th>0</th>\n",
       "      <td>5</td>\n",
       "      <td>3</td>\n",
       "    </tr>\n",
       "    <tr>\n",
       "      <th>21</th>\n",
       "      <td>6</td>\n",
       "      <td>2</td>\n",
       "    </tr>\n",
       "    <tr>\n",
       "      <th>5</th>\n",
       "      <td>7</td>\n",
       "      <td>1</td>\n",
       "    </tr>\n",
       "  </tbody>\n",
       "</table>\n",
       "</div>"
      ],
      "text/plain": [
       "    stim2_id  stim2_dist_id\n",
       "4          0              0\n",
       "16         1              1\n",
       "1          2              2\n",
       "3          3              3\n",
       "7          4              4\n",
       "0          5              3\n",
       "21         6              2\n",
       "5          7              1"
      ]
     },
     "execution_count": 6,
     "metadata": {},
     "output_type": "execute_result"
    }
   ],
   "source": [
    "## pair up stim2_id who have the same stim2_dist from adapter (0 deg)\n",
    "## also works for pairing up those with same distance from ref=90 deg\n",
    "stim2_dict = {0:0, 1:1, 2:2, 3:3, 4:4, 5:3, 6:2, 7:1}\n",
    "df_tidy['stim2_dist_id'] = df_tidy.stim2_id.apply(lambda x: stim2_dict[x])\n",
    "df_tidy[['stim2_id', 'stim2_dist_id']].drop_duplicates().sort_values(by='stim2_id')"
   ]
  },
  {
   "attachments": {},
   "cell_type": "markdown",
   "metadata": {},
   "source": [
    "## feature selection\n",
    "reduce ncell in model to prevent overfit"
   ]
  },
  {
   "attachments": {},
   "cell_type": "markdown",
   "metadata": {},
   "source": [
    "### filter cell gOSI\n",
    "calculate global orientation selectivity index (gOSI)  \n",
    "formula taken from [Causal importance of orientation selectivity for generalization in image recognition](https://openreview.net/pdf?id=Bkx_Dj09tQ)"
   ]
  },
  {
   "cell_type": "code",
   "execution_count": 88,
   "metadata": {},
   "outputs": [
    {
     "name": "stderr",
     "output_type": "stream",
     "text": [
      "100%|██████████| 1654/1654 [17:19<00:00,  1.59it/s]\n"
     ]
    },
    {
     "data": {
      "text/html": [
       "<div>\n",
       "<style scoped>\n",
       "    .dataframe tbody tr th:only-of-type {\n",
       "        vertical-align: middle;\n",
       "    }\n",
       "\n",
       "    .dataframe tbody tr th {\n",
       "        vertical-align: top;\n",
       "    }\n",
       "\n",
       "    .dataframe thead th {\n",
       "        text-align: right;\n",
       "    }\n",
       "</style>\n",
       "<table border=\"1\" class=\"dataframe\">\n",
       "  <thead>\n",
       "    <tr style=\"text-align: right;\">\n",
       "      <th></th>\n",
       "      <th>dfof</th>\n",
       "      <th>cell_id</th>\n",
       "      <th>resp_id</th>\n",
       "      <th>isi</th>\n",
       "      <th>stim2_id</th>\n",
       "      <th>area</th>\n",
       "      <th>filter_cell_vis</th>\n",
       "      <th>tuning_noad</th>\n",
       "      <th>tuning_250</th>\n",
       "    </tr>\n",
       "  </thead>\n",
       "  <tbody>\n",
       "    <tr>\n",
       "      <th>2379998</th>\n",
       "      <td>-0.025242</td>\n",
       "      <td>230309_002_79</td>\n",
       "      <td>R2</td>\n",
       "      <td>6000</td>\n",
       "      <td>3</td>\n",
       "      <td>LI</td>\n",
       "      <td>True</td>\n",
       "      <td>[0.027171706755775783, 0.09794865820137698, 0....</td>\n",
       "      <td>[-0.008992726503453645, 0.003331566276028924, ...</td>\n",
       "    </tr>\n",
       "    <tr>\n",
       "      <th>2379999</th>\n",
       "      <td>0.081034</td>\n",
       "      <td>230309_002_79</td>\n",
       "      <td>R2</td>\n",
       "      <td>6000</td>\n",
       "      <td>2</td>\n",
       "      <td>LI</td>\n",
       "      <td>True</td>\n",
       "      <td>[0.027171706755775783, 0.09794865820137698, 0....</td>\n",
       "      <td>[-0.008992726503453645, 0.003331566276028924, ...</td>\n",
       "    </tr>\n",
       "    <tr>\n",
       "      <th>2380001</th>\n",
       "      <td>0.108352</td>\n",
       "      <td>230309_002_79</td>\n",
       "      <td>R2</td>\n",
       "      <td>6000</td>\n",
       "      <td>0</td>\n",
       "      <td>LI</td>\n",
       "      <td>True</td>\n",
       "      <td>[0.027171706755775783, 0.09794865820137698, 0....</td>\n",
       "      <td>[-0.008992726503453645, 0.003331566276028924, ...</td>\n",
       "    </tr>\n",
       "    <tr>\n",
       "      <th>2380002</th>\n",
       "      <td>0.269638</td>\n",
       "      <td>230309_002_79</td>\n",
       "      <td>R2</td>\n",
       "      <td>250</td>\n",
       "      <td>4</td>\n",
       "      <td>LI</td>\n",
       "      <td>True</td>\n",
       "      <td>[0.027171706755775783, 0.09794865820137698, 0....</td>\n",
       "      <td>[-0.008992726503453645, 0.003331566276028924, ...</td>\n",
       "    </tr>\n",
       "    <tr>\n",
       "      <th>2380003</th>\n",
       "      <td>0.345687</td>\n",
       "      <td>230309_002_79</td>\n",
       "      <td>R2</td>\n",
       "      <td>6000</td>\n",
       "      <td>2</td>\n",
       "      <td>LI</td>\n",
       "      <td>True</td>\n",
       "      <td>[0.027171706755775783, 0.09794865820137698, 0....</td>\n",
       "      <td>[-0.008992726503453645, 0.003331566276028924, ...</td>\n",
       "    </tr>\n",
       "  </tbody>\n",
       "</table>\n",
       "</div>"
      ],
      "text/plain": [
       "             dfof        cell_id resp_id   isi  stim2_id area  \\\n",
       "2379998 -0.025242  230309_002_79      R2  6000         3   LI   \n",
       "2379999  0.081034  230309_002_79      R2  6000         2   LI   \n",
       "2380001  0.108352  230309_002_79      R2  6000         0   LI   \n",
       "2380002  0.269638  230309_002_79      R2   250         4   LI   \n",
       "2380003  0.345687  230309_002_79      R2  6000         2   LI   \n",
       "\n",
       "         filter_cell_vis                                        tuning_noad  \\\n",
       "2379998             True  [0.027171706755775783, 0.09794865820137698, 0....   \n",
       "2379999             True  [0.027171706755775783, 0.09794865820137698, 0....   \n",
       "2380001             True  [0.027171706755775783, 0.09794865820137698, 0....   \n",
       "2380002             True  [0.027171706755775783, 0.09794865820137698, 0....   \n",
       "2380003             True  [0.027171706755775783, 0.09794865820137698, 0....   \n",
       "\n",
       "                                                tuning_250  \n",
       "2379998  [-0.008992726503453645, 0.003331566276028924, ...  \n",
       "2379999  [-0.008992726503453645, 0.003331566276028924, ...  \n",
       "2380001  [-0.008992726503453645, 0.003331566276028924, ...  \n",
       "2380002  [-0.008992726503453645, 0.003331566276028924, ...  \n",
       "2380003  [-0.008992726503453645, 0.003331566276028924, ...  "
      ]
     },
     "execution_count": 88,
     "metadata": {},
     "output_type": "execute_result"
    }
   ],
   "source": [
    "## df for tuning curve\n",
    "df_tuning = df_tidy[['dfof', 'cell_id', 'resp_id', 'isi', 'stim2_id', \n",
    "                    'area', 'filter_cell_vis'\n",
    "                    ]]\n",
    "df_tuning = df_tuning[(df_tuning.isi > -1) # placeholder, always true\n",
    "                    & (df_tuning.filter_cell_vis == True)\n",
    "                    & ((df_tuning.isi == 250) | (df_tuning.isi == 6000))\n",
    "                    ]\n",
    "                    \n",
    "df_tuning['tuning_noad'] = np.pi\n",
    "df_tuning['tuning_250'] = np.pi\n",
    "\n",
    "for icell in tqdm(df_tuning.cell_id.unique()):\n",
    "    ## tuning curve when no adapter\n",
    "    tuning_noad = (df_tuning.loc[(df_tuning.cell_id == icell) \n",
    "                                & (df_tuning.isi == 6000) # take R2 of no adapter trials\n",
    "                                & (df_tuning.resp_id == 'R2'), :]\n",
    "                   .groupby(['stim2_id'], sort=True) # sorted by key aka stim2_id\n",
    "                   .dfof.agg(np.nanmean).values\n",
    "                   )\n",
    "    df_tuning.loc[(df_tuning.cell_id == icell), 'tuning_noad'] = (df_tuning\n",
    "                                                                  .loc[(df_tuning.cell_id == icell), 'tuning_noad']\n",
    "                                                                  .apply(lambda x: tuning_noad))\n",
    "    \n",
    "    ## tuning curve when there is adapter\n",
    "    tuning_250 = (df_tuning.loc[(df_tuning.cell_id == icell) \n",
    "                                & (df_tuning.isi == 250) \n",
    "                                & (df_tuning.resp_id == 'R2'), :]\n",
    "                  .groupby(['stim2_id'], sort=True)\n",
    "                  .dfof.agg(np.nanmean).values\n",
    "                  )\n",
    "    df_tuning.loc[(df_tuning.cell_id == icell), 'tuning_250'] = (df_tuning\n",
    "                                                                 .loc[(df_tuning.cell_id == icell), 'tuning_250']\n",
    "                                                                 .apply(lambda x: tuning_250))\n",
    "    # break\n",
    "\n",
    "df_tuning.tail(5)"
   ]
  },
  {
   "cell_type": "code",
   "execution_count": 89,
   "metadata": {},
   "outputs": [
    {
     "name": "stderr",
     "output_type": "stream",
     "text": [
      "100%|██████████| 1654/1654 [06:46<00:00,  4.07it/s]\n",
      "C:\\Users\\lan\\AppData\\Local\\Temp\\6\\ipykernel_44780\\3524770447.py:18: FutureWarning: Indexing with multiple keys (implicitly converted to a tuple of keys) will be deprecated, use a list instead.\n",
      "  df_tuning.groupby('cell_id', sort=False)['area', 'gOSI_noad', 'gOSI_250'].first()\n"
     ]
    },
    {
     "data": {
      "text/html": [
       "<div>\n",
       "<style scoped>\n",
       "    .dataframe tbody tr th:only-of-type {\n",
       "        vertical-align: middle;\n",
       "    }\n",
       "\n",
       "    .dataframe tbody tr th {\n",
       "        vertical-align: top;\n",
       "    }\n",
       "\n",
       "    .dataframe thead th {\n",
       "        text-align: right;\n",
       "    }\n",
       "</style>\n",
       "<table border=\"1\" class=\"dataframe\">\n",
       "  <thead>\n",
       "    <tr style=\"text-align: right;\">\n",
       "      <th></th>\n",
       "      <th>area</th>\n",
       "      <th>gOSI_noad</th>\n",
       "      <th>gOSI_250</th>\n",
       "    </tr>\n",
       "    <tr>\n",
       "      <th>cell_id</th>\n",
       "      <th></th>\n",
       "      <th></th>\n",
       "      <th></th>\n",
       "    </tr>\n",
       "  </thead>\n",
       "  <tbody>\n",
       "    <tr>\n",
       "      <th>201209_002_88</th>\n",
       "      <td>V1</td>\n",
       "      <td>0.876308</td>\n",
       "      <td>0.682645</td>\n",
       "    </tr>\n",
       "    <tr>\n",
       "      <th>200728_003_33</th>\n",
       "      <td>V1</td>\n",
       "      <td>0.866154</td>\n",
       "      <td>0.729479</td>\n",
       "    </tr>\n",
       "    <tr>\n",
       "      <th>201015_004_15</th>\n",
       "      <td>V1</td>\n",
       "      <td>0.849340</td>\n",
       "      <td>0.496406</td>\n",
       "    </tr>\n",
       "    <tr>\n",
       "      <th>201015_004_12</th>\n",
       "      <td>V1</td>\n",
       "      <td>0.846736</td>\n",
       "      <td>0.789616</td>\n",
       "    </tr>\n",
       "    <tr>\n",
       "      <th>220228_002_16</th>\n",
       "      <td>LM</td>\n",
       "      <td>0.845744</td>\n",
       "      <td>0.809035</td>\n",
       "    </tr>\n",
       "    <tr>\n",
       "      <th>...</th>\n",
       "      <td>...</td>\n",
       "      <td>...</td>\n",
       "      <td>...</td>\n",
       "    </tr>\n",
       "    <tr>\n",
       "      <th>200728_003_72</th>\n",
       "      <td>V1</td>\n",
       "      <td>0.017878</td>\n",
       "      <td>0.317335</td>\n",
       "    </tr>\n",
       "    <tr>\n",
       "      <th>200804_003_68</th>\n",
       "      <td>LM</td>\n",
       "      <td>0.015051</td>\n",
       "      <td>0.136653</td>\n",
       "    </tr>\n",
       "    <tr>\n",
       "      <th>230302_003_136</th>\n",
       "      <td>LM</td>\n",
       "      <td>0.014923</td>\n",
       "      <td>0.443175</td>\n",
       "    </tr>\n",
       "    <tr>\n",
       "      <th>210120_003_34</th>\n",
       "      <td>V1</td>\n",
       "      <td>0.011596</td>\n",
       "      <td>0.026943</td>\n",
       "    </tr>\n",
       "    <tr>\n",
       "      <th>200806_003_45</th>\n",
       "      <td>LI</td>\n",
       "      <td>0.010661</td>\n",
       "      <td>0.140247</td>\n",
       "    </tr>\n",
       "  </tbody>\n",
       "</table>\n",
       "<p>1654 rows × 3 columns</p>\n",
       "</div>"
      ],
      "text/plain": [
       "               area  gOSI_noad  gOSI_250\n",
       "cell_id                                 \n",
       "201209_002_88    V1   0.876308  0.682645\n",
       "200728_003_33    V1   0.866154  0.729479\n",
       "201015_004_15    V1   0.849340  0.496406\n",
       "201015_004_12    V1   0.846736  0.789616\n",
       "220228_002_16    LM   0.845744  0.809035\n",
       "...             ...        ...       ...\n",
       "200728_003_72    V1   0.017878  0.317335\n",
       "200804_003_68    LM   0.015051  0.136653\n",
       "230302_003_136   LM   0.014923  0.443175\n",
       "210120_003_34    V1   0.011596  0.026943\n",
       "200806_003_45    LI   0.010661  0.140247\n",
       "\n",
       "[1654 rows x 3 columns]"
      ]
     },
     "execution_count": 89,
     "metadata": {},
     "output_type": "execute_result"
    }
   ],
   "source": [
    "for icell in tqdm(df_tuning.cell_id.unique()):\n",
    "    df_cell = df_tuning[df_tuning.cell_id == icell]\n",
    "\n",
    "    tuning_noad = df_cell.tuning_noad.values[0] - min(df_cell.tuning_noad.values[0]) # ensure all values are non negative\n",
    "    tuning_250 = df_cell.tuning_250.values[0] - min(df_cell.tuning_250.values[0])\n",
    "\n",
    "    theta_arr = np.linspace(0, 180-22.5, 8) # according to formula: unit deg, not rad\n",
    "    sin_arr = np.sin(2 * theta_arr)\n",
    "    cos_arr = np.cos(2 * theta_arr)\n",
    "\n",
    "    gOSI_noad = np.sqrt((np.sum(tuning_noad * sin_arr))**2 + (np.sum(tuning_noad * cos_arr))**2) / np.sum(tuning_noad)\n",
    "    gOSI_250 = np.sqrt((np.sum(tuning_250 * sin_arr))**2 + (np.sum(tuning_250 * cos_arr))**2) / np.sum(tuning_250)\n",
    "\n",
    "    df_tuning.loc[df_tuning.cell_id == icell, 'gOSI_noad'] = gOSI_noad\n",
    "    df_tuning.loc[df_tuning.cell_id == icell, 'gOSI_250'] = gOSI_250\n",
    "\n",
    "df_tuning = df_tuning.sort_values(by=['gOSI_noad', 'gOSI_250'], ascending=False)\n",
    "df_tuning.groupby('cell_id', sort=False)['area', 'gOSI_noad', 'gOSI_250'].first()\n",
    "# df_tuning.to_csv('df_tuning_grat8ori.csv', index=False)"
   ]
  },
  {
   "cell_type": "code",
   "execution_count": 98,
   "metadata": {},
   "outputs": [
    {
     "data": {
      "text/html": [
       "<div>\n",
       "<style scoped>\n",
       "    .dataframe tbody tr th:only-of-type {\n",
       "        vertical-align: middle;\n",
       "    }\n",
       "\n",
       "    .dataframe tbody tr th {\n",
       "        vertical-align: top;\n",
       "    }\n",
       "\n",
       "    .dataframe thead th {\n",
       "        text-align: right;\n",
       "    }\n",
       "</style>\n",
       "<table border=\"1\" class=\"dataframe\">\n",
       "  <thead>\n",
       "    <tr style=\"text-align: right;\">\n",
       "      <th></th>\n",
       "      <th>cell_id</th>\n",
       "      <th>gOSI_noad</th>\n",
       "      <th>gOSI_250</th>\n",
       "      <th>date_sess</th>\n",
       "    </tr>\n",
       "  </thead>\n",
       "  <tbody>\n",
       "    <tr>\n",
       "      <th>0</th>\n",
       "      <td>201209_002_88</td>\n",
       "      <td>0.876308</td>\n",
       "      <td>0.682645</td>\n",
       "      <td>201209_002</td>\n",
       "    </tr>\n",
       "    <tr>\n",
       "      <th>1</th>\n",
       "      <td>200728_003_33</td>\n",
       "      <td>0.866154</td>\n",
       "      <td>0.729479</td>\n",
       "      <td>200728_003</td>\n",
       "    </tr>\n",
       "    <tr>\n",
       "      <th>2</th>\n",
       "      <td>201015_004_15</td>\n",
       "      <td>0.849340</td>\n",
       "      <td>0.496406</td>\n",
       "      <td>201015_004</td>\n",
       "    </tr>\n",
       "    <tr>\n",
       "      <th>3</th>\n",
       "      <td>201015_004_12</td>\n",
       "      <td>0.846736</td>\n",
       "      <td>0.789616</td>\n",
       "      <td>201015_004</td>\n",
       "    </tr>\n",
       "    <tr>\n",
       "      <th>4</th>\n",
       "      <td>220228_002_16</td>\n",
       "      <td>0.845744</td>\n",
       "      <td>0.809035</td>\n",
       "      <td>220228_002</td>\n",
       "    </tr>\n",
       "    <tr>\n",
       "      <th>...</th>\n",
       "      <td>...</td>\n",
       "      <td>...</td>\n",
       "      <td>...</td>\n",
       "      <td>...</td>\n",
       "    </tr>\n",
       "    <tr>\n",
       "      <th>1649</th>\n",
       "      <td>200728_003_72</td>\n",
       "      <td>0.017878</td>\n",
       "      <td>0.317335</td>\n",
       "      <td>200728_003</td>\n",
       "    </tr>\n",
       "    <tr>\n",
       "      <th>1650</th>\n",
       "      <td>200804_003_68</td>\n",
       "      <td>0.015051</td>\n",
       "      <td>0.136653</td>\n",
       "      <td>200804_003</td>\n",
       "    </tr>\n",
       "    <tr>\n",
       "      <th>1651</th>\n",
       "      <td>230302_003_136</td>\n",
       "      <td>0.014923</td>\n",
       "      <td>0.443175</td>\n",
       "      <td>230302_003</td>\n",
       "    </tr>\n",
       "    <tr>\n",
       "      <th>1652</th>\n",
       "      <td>210120_003_34</td>\n",
       "      <td>0.011596</td>\n",
       "      <td>0.026943</td>\n",
       "      <td>210120_003</td>\n",
       "    </tr>\n",
       "    <tr>\n",
       "      <th>1653</th>\n",
       "      <td>200806_003_45</td>\n",
       "      <td>0.010661</td>\n",
       "      <td>0.140247</td>\n",
       "      <td>200806_003</td>\n",
       "    </tr>\n",
       "  </tbody>\n",
       "</table>\n",
       "<p>1654 rows × 4 columns</p>\n",
       "</div>"
      ],
      "text/plain": [
       "             cell_id  gOSI_noad  gOSI_250   date_sess\n",
       "0      201209_002_88   0.876308  0.682645  201209_002\n",
       "1      200728_003_33   0.866154  0.729479  200728_003\n",
       "2      201015_004_15   0.849340  0.496406  201015_004\n",
       "3      201015_004_12   0.846736  0.789616  201015_004\n",
       "4      220228_002_16   0.845744  0.809035  220228_002\n",
       "...              ...        ...       ...         ...\n",
       "1649   200728_003_72   0.017878  0.317335  200728_003\n",
       "1650   200804_003_68   0.015051  0.136653  200804_003\n",
       "1651  230302_003_136   0.014923  0.443175  230302_003\n",
       "1652   210120_003_34   0.011596  0.026943  210120_003\n",
       "1653   200806_003_45   0.010661  0.140247  200806_003\n",
       "\n",
       "[1654 rows x 4 columns]"
      ]
     },
     "execution_count": 98,
     "metadata": {},
     "output_type": "execute_result"
    }
   ],
   "source": [
    "df_gOSI = df_tuning.groupby('cell_id', sort=False)[['gOSI_noad', 'gOSI_250']].first().reset_index()\n",
    "df_gOSI['date_sess'] = df_gOSI['cell_id'].str.split('_').str[0] + '_' + df_gOSI['cell_id'].str.split('_').str[1]\n",
    "df_gOSI"
   ]
  },
  {
   "cell_type": "code",
   "execution_count": null,
   "metadata": {},
   "outputs": [
    {
     "data": {
      "image/png": "[encoded data removed]",
      "text/plain": [
       "<Figure size 640x480 with 1 Axes>"
      ]
     },
     "metadata": {},
     "output_type": "display_data"
    }
   ],
   "source": [
    "tmp1 = df_tuning.sort_values(by=['gOSI_noad', 'gOSI_250'], ascending=False).gOSI_noad.values\n",
    "tmp2 = df_tuning.sort_values(by=['gOSI_noad', 'gOSI_250'], ascending=False).gOSI_250.values\n",
    "\n",
    "plt.scatter(tmp1, tmp2, alpha=.1, s=1);\n",
    "plt.plot([0, 1], [0, 1], color='k', linestyle='-', linewidth=1); # draw diagonal line\n",
    "\n",
    "plt.xlim([0, 1]);\n",
    "plt.ylim([0, 1]);\n",
    "plt.xticks([0, .5, 1]);\n",
    "plt.yticks([0, .5, 1]);\n",
    "plt.xlabel('gOSI_noad');\n",
    "plt.ylabel('gOSI_250');\n",
    "plt.gca().set_aspect('equal', adjustable='box'); # set axis square\n",
    "\n",
    "## gOSI noad is usually higher. gOSI noad vs 250 is correlated"
   ]
  },
  {
   "attachments": {},
   "cell_type": "markdown",
   "metadata": {},
   "source": [
    "### validate tuning\n",
    "neuron in model should have diff tuning curves"
   ]
  },
  {
   "cell_type": "code",
   "execution_count": 11,
   "metadata": {},
   "outputs": [],
   "source": [
    "ncell_keep = 15\n",
    "iarea = 'LM'\n",
    "idatesess = 0 # Li, sess=9: not enough cells\n",
    "\n",
    "# filter_cell = 'vis_pval'\n",
    "# filter_cell = 'SNR'\n",
    "filter_cell = 'SNR_R1_mod'\n",
    "# filter_cell = 'gOSI'\n",
    "\n",
    "df_svc = get_df_svc(df_tidy, iarea=iarea, idatesess=idatesess, \n",
    "                    ncell_keep=ncell_keep, \n",
    "                    filter_cell=filter_cell)"
   ]
  },
  {
   "cell_type": "code",
   "execution_count": 12,
   "metadata": {},
   "outputs": [
    {
     "data": {
      "image/png": "[encoded data removed]",
      "text/plain": [
       "<Figure size 1000x2000 with 15 Axes>"
      ]
     },
     "metadata": {},
     "output_type": "display_data"
    }
   ],
   "source": [
    "model_cell_resp = df_svc.groupby(['cell_id', 'stim2_id']).dfof.mean().reset_index()\n",
    "model_cell_sem = df_svc.groupby(['cell_id', 'stim2_id']).dfof.sem().reset_index()\n",
    "\n",
    "tuning_pop = []\n",
    "tuning_pop_sem = []\n",
    "for icell in sorted(df_svc.cell_id.unique()):\n",
    "    tuning_cell = model_cell_resp[model_cell_resp.cell_id==icell].dfof.tolist()\n",
    "    tuning_cell_sem = model_cell_sem[model_cell_sem.cell_id==icell].dfof.tolist()\n",
    "    # tuning_cell = (tuning_cell - np.min(tuning_cell)) / (np.max(tuning_cell) - np.min(tuning_cell)) # min-max normalization\n",
    "    tuning_pop.append(tuning_cell)\n",
    "    tuning_pop_sem.append(tuning_cell_sem)\n",
    "\n",
    "tuning_pop = np.array(tuning_pop) # ncell_keep x nori\n",
    "tuning_pop_sem = np.array(tuning_pop_sem)\n",
    "tuning_pop = tuning_pop[np.argsort(np.argmax(tuning_pop, axis=1)), :] # sort cells by tuning argmax\n",
    "tuning_pop_sem = tuning_pop_sem[np.argsort(np.argmax(tuning_pop, axis=1)), :]\n",
    "\n",
    "if ncell_keep > 15:\n",
    "    nrow = 13\n",
    "    ncol = df_svc.cell_id.nunique() // nrow\n",
    "    fig, ax = plt.subplots(nrow, ncol, figsize=(10, 40), sharex=True, sharey=True)\n",
    "else:\n",
    "    nrow = 5\n",
    "    ncol = df_svc.cell_id.nunique() // nrow\n",
    "    fig, ax = plt.subplots(nrow, ncol, figsize=(10, 20), sharex=True, sharey=True)\n",
    "\n",
    "for isubplot in np.arange(nrow*ncol): # plot each cell in a subplot\n",
    "    ax[isubplot//ncol, isubplot%ncol].errorbar(x=np.arange(8), \n",
    "                                               y=tuning_pop[isubplot], \n",
    "                                               yerr=tuning_pop_sem[isubplot], \n",
    "                                               alpha=0.5)\n",
    "    # ax[isubplot//ncol, isubplot%ncol].text(0.5, 0.9, \n",
    "    #             f'cell ' + sorted(df_svc.cell_id.unique())[isubplot].split('_')[2],\n",
    "    #             horizontalalignment='center',\n",
    "    #             transform=ax[isubplot//ncol, isubplot%ncol].transAxes,\n",
    "    #             fontsize=14)\n",
    "        \n",
    "fig.text(0.5, -0.05, 'stim2 orientation', ha='center', fontsize=18)\n",
    "fig.text(-0.02, 0.5, 'tuning', va='center', rotation='vertical', fontsize=18)\n",
    "fig.tight_layout()\n",
    "\n",
    "dir_fig = os.path.join(dir_repo, r'\\results\\decoder_grat8\\filter cell selection/'.replace('\\\\', '/'))\n",
    "# fig.savefig(dir_fig + 'tuning_of_model_cells_SNR_R1_mod.pdf', bbox_inches='tight')"
   ]
  },
  {
   "cell_type": "markdown",
   "metadata": {},
   "source": [
    "# data cleaning"
   ]
  },
  {
   "cell_type": "markdown",
   "metadata": {},
   "source": [
    "### filter sess\n",
    "filter sess by perf at isi=6k, easiest decoding task, val acc > thresh"
   ]
  },
  {
   "cell_type": "code",
   "execution_count": 36,
   "metadata": {},
   "outputs": [
    {
     "name": "stderr",
     "output_type": "stream",
     "text": [
      "100%|██████████| 6/6 [00:08<00:00,  1.45s/it]\n",
      " 36%|███▋      | 8/22 [00:11<00:20,  1.49s/it]"
     ]
    },
    {
     "name": "stdout",
     "output_type": "stream",
     "text": [
      "train acc overfit: area=LM, sess=7, isi=isi=6k\n"
     ]
    },
    {
     "name": "stderr",
     "output_type": "stream",
     "text": [
      " 41%|████      | 9/22 [00:13<00:19,  1.50s/it]"
     ]
    },
    {
     "name": "stdout",
     "output_type": "stream",
     "text": [
      "train acc overfit: area=LM, sess=8, isi=isi=6k\n"
     ]
    },
    {
     "name": "stderr",
     "output_type": "stream",
     "text": [
      "100%|██████████| 22/22 [00:32<00:00,  1.47s/it]\n",
      " 20%|██        | 3/15 [00:04<00:16,  1.36s/it]"
     ]
    },
    {
     "name": "stdout",
     "output_type": "stream",
     "text": [
      "not enough vis cells: area=LI, sess=2\n"
     ]
    },
    {
     "name": "stderr",
     "output_type": "stream",
     "text": [
      " 33%|███▎      | 5/15 [00:06<00:13,  1.34s/it]"
     ]
    },
    {
     "name": "stdout",
     "output_type": "stream",
     "text": [
      "not enough vis cells: area=LI, sess=4\n"
     ]
    },
    {
     "name": "stderr",
     "output_type": "stream",
     "text": [
      " 40%|████      | 6/15 [00:08<00:11,  1.32s/it]"
     ]
    },
    {
     "name": "stdout",
     "output_type": "stream",
     "text": [
      "not enough vis cells: area=LI, sess=5\n"
     ]
    },
    {
     "name": "stderr",
     "output_type": "stream",
     "text": [
      " 60%|██████    | 9/15 [00:12<00:08,  1.34s/it]"
     ]
    },
    {
     "name": "stdout",
     "output_type": "stream",
     "text": [
      "not enough vis cells: area=LI, sess=8\n"
     ]
    },
    {
     "name": "stderr",
     "output_type": "stream",
     "text": [
      " 67%|██████▋   | 10/15 [00:13<00:06,  1.32s/it]"
     ]
    },
    {
     "name": "stdout",
     "output_type": "stream",
     "text": [
      "not enough vis cells: area=LI, sess=9\n"
     ]
    },
    {
     "name": "stderr",
     "output_type": "stream",
     "text": [
      " 80%|████████  | 12/15 [00:16<00:03,  1.33s/it]"
     ]
    },
    {
     "name": "stdout",
     "output_type": "stream",
     "text": [
      "not enough vis cells: area=LI, sess=11\n"
     ]
    },
    {
     "name": "stderr",
     "output_type": "stream",
     "text": [
      "100%|██████████| 15/15 [00:20<00:00,  1.34s/it]"
     ]
    },
    {
     "name": "stdout",
     "output_type": "stream",
     "text": [
      "not enough vis cells: area=LI, sess=14\n"
     ]
    },
    {
     "name": "stderr",
     "output_type": "stream",
     "text": [
      "\n"
     ]
    }
   ],
   "source": [
    "## for each sess, take easiest task (isi=6k, 0 vs 90, flexible C), record val acc\n",
    "\n",
    "ncell_keep = 15\n",
    "if ncell_keep <= 15:\n",
    "    C_init = 0.1\n",
    "elif ncell_keep == 999:\n",
    "    C_init = 0.05\n",
    "# C_init = 1 # if without standard scaler z score\n",
    "# C_init = 1 # RBF kernel SVM, 15 cell\n",
    "# C_init = 0.1 # decode stim2_dist, 15 cell -> very bad perf\n",
    "\n",
    "\n",
    "val_acc_history = []\n",
    "bad_sess_history = []\n",
    "for iarea in ['V1', 'LM', 'LI']:\n",
    "\n",
    "    use_data = 'isi=6k'\n",
    "    nsess_iarea = (df_tidy[(df_tidy.area == iarea) \n",
    "                        & (df_tidy.filter_cell_vis == True)] # some LI sessions have no vis cell\n",
    "                    .groupby(['date', 'sess'])\n",
    "                    .first().__len__())\n",
    "    \n",
    "    for isess in tqdm(range(nsess_iarea)):\n",
    "        df_svc = get_df_svc(df_tidy, iarea=iarea, idatesess=isess, \n",
    "                            ncell_keep=ncell_keep, filter_cell='SNR_R1_mod')\n",
    "        if df_svc.cell_id.nunique() < 5:\n",
    "            print(f'not enough vis cells: area={iarea}, sess={isess}')\n",
    "            continue\n",
    "\n",
    "        ref_ori_id = 4\n",
    "        df_pair = df_svc[((df_svc.stim2_id == ref_ori_id) | (df_svc.stim2_id == 0))] # only decode 0 vs 90 deg\n",
    "        # df_pair = df_svc[((df_svc.stim2_dist_id == 0) | (df_svc.stim2_dist_id == 4))]\n",
    "\n",
    "        df_pair_6000 = df_pair[df_pair.isi == 6000]\n",
    "        X_train_6000, y_train_6000, _, _ = df_to_train_test(df_pair_6000, ref_ori_id, train_only=True)\n",
    "\n",
    "        C_current = C_init # reset C_current, then find optimal C for this area-isi-sess-ori\n",
    "        niter = 0\n",
    "        while niter < 4: # limit number of iteration to avoid infinite loop (can't believe I didn't foresee this)\n",
    "            clf = make_pipeline(StandardScaler(),\n",
    "                                LinearSVC(tol=1e-5, max_iter=int(1e7), \n",
    "                                        penalty='l1', dual='auto', C=C_current)\n",
    "                                )\n",
    "            # clf = make_pipeline(StandardScaler(),\n",
    "            #                     SVC(C=C_current, kernel='rbf', gamma='scale', \n",
    "            #                         max_iter=int(1e6))\n",
    "            #                     )\n",
    "            score_val = cross_validate(clf, X_train_6000, y_train_6000, cv=LeaveOneOut(), return_train_score=True)\n",
    "\n",
    "            if np.mean(score_val['train_score']) - np.std(score_val['train_score']) <= 0.5: # lower err of train acc is too low, underfit\n",
    "                C_current *= 2\n",
    "                niter += 1\n",
    "                print(f'train acc underfit: area={iarea}, sess={isess}, isi={use_data}')\n",
    "            elif np.mean(score_val['train_score']) + np.std(score_val['train_score']) >= 1: # upper err of train acc is too high, overfit\n",
    "                C_current /= 2\n",
    "                niter += 1\n",
    "                print(f'train acc overfit: area={iarea}, sess={isess}, isi={use_data}')\n",
    "            else:\n",
    "                val_acc = np.mean(score_val['test_score'])\n",
    "                val_acc_history.append(val_acc)\n",
    "                if val_acc < 0.7: # NOTE: adjust according to hist\n",
    "                    bad_sess = (df_svc.date.unique() + '_' + df_svc.sess.unique())[0]\n",
    "                    bad_sess_history.append(bad_sess)\n",
    "                break # record res, stop searching for C\n",
    "\n",
    "            if niter == 4: # too many tries, give up fitting\n",
    "                print(f'unable to fit: area={iarea}, sess={isess}, isi={use_data}, C={C_current}')"
   ]
  },
  {
   "cell_type": "code",
   "execution_count": 38,
   "metadata": {},
   "outputs": [
    {
     "data": {
      "text/plain": [
       "(36,\n",
       " 6,\n",
       " ['200729_003',\n",
       "  '211020_002',\n",
       "  '230221_002',\n",
       "  '230221_003',\n",
       "  '201202_004',\n",
       "  '210203_004'])"
      ]
     },
     "execution_count": 38,
     "metadata": {},
     "output_type": "execute_result"
    },
    {
     "data": {
      "image/png": "[encoded data removed]",
      "text/plain": [
       "<Figure size 640x480 with 1 Axes>"
      ]
     },
     "metadata": {},
     "output_type": "display_data"
    }
   ],
   "source": [
    "plt.hist(val_acc_history, bins=36);\n",
    "plt.xlabel('val acc')\n",
    "plt.ylabel('count');\n",
    "len(val_acc_history), len(bad_sess_history), bad_sess_history"
   ]
  },
  {
   "attachments": {},
   "cell_type": "markdown",
   "metadata": {},
   "source": [
    "# cross val search reg\n",
    "find optimal reg param C"
   ]
  },
  {
   "attachments": {},
   "cell_type": "markdown",
   "metadata": {},
   "source": [
    "## aware decoder\n",
    "\n",
    "two separate models for two isi.  \n",
    "one model: train and test with isi=6k  \n",
    "another model: train and test with isi=250  "
   ]
  },
  {
   "cell_type": "code",
   "execution_count": 39,
   "metadata": {},
   "outputs": [
    {
     "name": "stdout",
     "output_type": "stream",
     "text": [
      "V1\n"
     ]
    },
    {
     "name": "stderr",
     "output_type": "stream",
     "text": [
      "  0%|          | 0/5 [00:00<?, ?it/s]"
     ]
    },
    {
     "name": "stdout",
     "output_type": "stream",
     "text": [
      "isi=250\n",
      "isi=6k\n"
     ]
    },
    {
     "name": "stderr",
     "output_type": "stream",
     "text": [
      " 20%|██        | 1/5 [00:13<00:53, 13.37s/it]"
     ]
    },
    {
     "name": "stdout",
     "output_type": "stream",
     "text": [
      "isi=250\n",
      "isi=6k\n"
     ]
    },
    {
     "name": "stderr",
     "output_type": "stream",
     "text": [
      " 40%|████      | 2/5 [00:26<00:39, 13.29s/it]"
     ]
    },
    {
     "name": "stdout",
     "output_type": "stream",
     "text": [
      "isi=250\n",
      "isi=6k\n"
     ]
    },
    {
     "name": "stderr",
     "output_type": "stream",
     "text": [
      " 60%|██████    | 3/5 [00:40<00:27, 13.52s/it]"
     ]
    },
    {
     "name": "stdout",
     "output_type": "stream",
     "text": [
      "isi=250\n",
      "isi=6k\n"
     ]
    },
    {
     "name": "stderr",
     "output_type": "stream",
     "text": [
      " 80%|████████  | 4/5 [00:54<00:13, 13.69s/it]"
     ]
    },
    {
     "name": "stdout",
     "output_type": "stream",
     "text": [
      "isi=250\n",
      "isi=6k\n"
     ]
    },
    {
     "name": "stderr",
     "output_type": "stream",
     "text": [
      "100%|██████████| 5/5 [01:07<00:00, 13.60s/it]\n"
     ]
    },
    {
     "name": "stdout",
     "output_type": "stream",
     "text": [
      "LM\n"
     ]
    },
    {
     "name": "stderr",
     "output_type": "stream",
     "text": [
      "  0%|          | 0/5 [00:00<?, ?it/s]"
     ]
    },
    {
     "name": "stdout",
     "output_type": "stream",
     "text": [
      "isi=250\n",
      "isi=6k\n"
     ]
    },
    {
     "name": "stderr",
     "output_type": "stream",
     "text": [
      " 40%|████      | 2/5 [00:15<00:19,  6.46s/it]"
     ]
    },
    {
     "name": "stdout",
     "output_type": "stream",
     "text": [
      "bad sess due to low val acc on easy task: area=LM, sess=1\n",
      "isi=250\n"
     ]
    },
    {
     "name": "stderr",
     "output_type": "stream",
     "text": [
      "c:\\Users\\ll357\\AppData\\Local\\anaconda3\\Lib\\site-packages\\sklearn\\svm\\_base.py:1242: ConvergenceWarning: Liblinear failed to converge, increase the number of iterations.\n",
      "  warnings.warn(\n"
     ]
    },
    {
     "name": "stdout",
     "output_type": "stream",
     "text": [
      "isi=6k\n"
     ]
    },
    {
     "name": "stderr",
     "output_type": "stream",
     "text": [
      " 60%|██████    | 3/5 [00:29<00:20, 10.11s/it]"
     ]
    },
    {
     "name": "stdout",
     "output_type": "stream",
     "text": [
      "isi=250\n",
      "isi=6k\n"
     ]
    },
    {
     "name": "stderr",
     "output_type": "stream",
     "text": [
      " 80%|████████  | 4/5 [00:42<00:11, 11.38s/it]"
     ]
    },
    {
     "name": "stdout",
     "output_type": "stream",
     "text": [
      "isi=250\n",
      "isi=6k\n"
     ]
    },
    {
     "name": "stderr",
     "output_type": "stream",
     "text": [
      "100%|██████████| 5/5 [00:55<00:00, 11.17s/it]\n"
     ]
    },
    {
     "name": "stdout",
     "output_type": "stream",
     "text": [
      "LI\n"
     ]
    },
    {
     "name": "stderr",
     "output_type": "stream",
     "text": [
      "  0%|          | 0/5 [00:00<?, ?it/s]"
     ]
    },
    {
     "name": "stdout",
     "output_type": "stream",
     "text": [
      "isi=250\n",
      "isi=6k\n"
     ]
    },
    {
     "name": "stderr",
     "output_type": "stream",
     "text": [
      " 20%|██        | 1/5 [00:13<00:52, 13.15s/it]"
     ]
    },
    {
     "name": "stdout",
     "output_type": "stream",
     "text": [
      "isi=250\n",
      "isi=6k\n"
     ]
    },
    {
     "name": "stderr",
     "output_type": "stream",
     "text": [
      " 60%|██████    | 3/5 [00:27<00:15,  7.83s/it]"
     ]
    },
    {
     "name": "stdout",
     "output_type": "stream",
     "text": [
      "not enough vis cells: area=LI, sess=2\n"
     ]
    },
    {
     "name": "stderr",
     "output_type": "stream",
     "text": [
      " 80%|████████  | 4/5 [00:29<00:05,  5.26s/it]"
     ]
    },
    {
     "name": "stdout",
     "output_type": "stream",
     "text": [
      "bad sess due to low val acc on easy task: area=LI, sess=3\n"
     ]
    },
    {
     "name": "stderr",
     "output_type": "stream",
     "text": [
      "100%|██████████| 5/5 [00:30<00:00,  6.11s/it]"
     ]
    },
    {
     "name": "stdout",
     "output_type": "stream",
     "text": [
      "not enough vis cells: area=LI, sess=4\n"
     ]
    },
    {
     "name": "stderr",
     "output_type": "stream",
     "text": [
      "\n"
     ]
    }
   ],
   "source": [
    "for iarea in ['V1', 'LM', 'LI']:\n",
    "    print(iarea)\n",
    "    nsess = df_tidy[df_tidy.area == iarea].groupby(['date', 'sess']).__len__()\n",
    "    \n",
    "    for idatesess in tqdm(range(5)): # nsess\n",
    "        \n",
    "        # ncell_keep = 999 # check how much overfit if keep all cells\n",
    "        ncell_keep = 15\n",
    "        filter_cell = 'SNR_R1_mod'\n",
    "        df_svc = get_df_svc(df_tidy, \n",
    "                            iarea=iarea, idatesess=idatesess, \n",
    "                            ncell_keep=ncell_keep, \n",
    "                            filter_cell=filter_cell\n",
    "                            )\n",
    "        if df_svc.cell_id.nunique() < 5:\n",
    "            print(f'not enough vis cells: area={iarea}, sess={idatesess}')\n",
    "            continue\n",
    "        tmp = (df_svc.date.unique() + '_' + df_svc.sess.unique())[0]\n",
    "        if tmp in bad_sess_history:\n",
    "            print(f'bad sess due to low val acc on easy task: area={iarea}, sess={idatesess}')\n",
    "            continue\n",
    "\n",
    "        tmp = df_svc.stim2_id.unique()\n",
    "        # tmp = df_svc.stim2_dist_id.unique()\n",
    "        ref_ori_id = 4 # decode which ori vs others. 0=0 deg, 4=90 deg, etc\n",
    "        other_ori = sorted(tmp[tmp != ref_ori_id]) # decode ref vs not ref\n",
    "\n",
    "        for use_data in ['isi=250', 'isi=6k']:\n",
    "            print(use_data)\n",
    "\n",
    "            nrow = 4\n",
    "            ncol = 2\n",
    "            fig, ax = plt.subplots(4, 2, figsize=(12, 20), sharey=True)\n",
    "\n",
    "            acc_val_mean_iori = []\n",
    "            acc_val_ci_iori = [] # confidence interval based on binomial distribution\n",
    "\n",
    "            for iori in (other_ori):\n",
    "                df_pair = df_svc[((df_svc.stim2_id == ref_ori_id) | (df_svc.stim2_id == iori))]\n",
    "                # df_pair = df_svc[((df_svc.stim2_dist_id == ref_ori_id) | (df_svc.stim2_dist_id == iori))]\n",
    "                df_pair_250 = df_pair[df_pair.isi == 250]\n",
    "                df_pair_6000 = df_pair[df_pair.isi == 6000]\n",
    "\n",
    "                ## split train vs test for each isi\n",
    "                X_train_250, y_train_250, _, _ = df_to_train_test(df_pair_250, ref_ori_id, train_only=True) # no test data\n",
    "                X_train_6000, y_train_6000, _, _ = df_to_train_test(df_pair_6000, ref_ori_id, train_only=True)\n",
    "\n",
    "                ## cross validation to find optimal C\n",
    "                acc_train_mean = []\n",
    "                acc_train_ci = []\n",
    "                acc_val_mean = []\n",
    "                acc_val_ci = [] # confidence interval based on binomial distribution\n",
    "                \n",
    "                # C_list = [1e-2 * 10**i for i in range(5)]\n",
    "                # C_list = [0.1, 0.2, 0.5, 1, 2, 5, 10, 20] # zoom in around 1\n",
    "                C_list = [0.01, 0.02, 0.05, 0.1, 0.2, 0.5, 1] # zoom in around 0.1\n",
    "                for C_val in C_list:\n",
    "                    \n",
    "                    clf = make_pipeline(StandardScaler(),\n",
    "                                        LinearSVC(tol=1e-5, max_iter=int(1e6), \n",
    "                                                penalty='l1', dual=False, C=C_val)\n",
    "                                        # SVC(C=C_val, kernel='rbf', gamma='auto', \n",
    "                                        #     max_iter=int(1e6))\n",
    "                                        )\n",
    "                    \n",
    "                    if use_data == 'isi=250':\n",
    "                        score_val = cross_validate(clf, X_train_250, y_train_250, cv=LeaveOneOut(), return_train_score=True)\n",
    "                    elif use_data == 'isi=6k':\n",
    "                        score_val = cross_validate(clf, X_train_6000, y_train_6000, cv=LeaveOneOut(), return_train_score=True)\n",
    "                    \n",
    "                    acc_train_mean.append(np.mean(score_val['train_score']))\n",
    "                    ci_low, ci_high = proportion_confint(count=score_val['train_score'].sum(), nobs=len(score_val['train_score']))\n",
    "                    acc_train_ci.append((ci_high - ci_low) / 2)\n",
    "                    \n",
    "                    acc_val_mean.append(np.mean(score_val['test_score']))\n",
    "                    ci_low, ci_high = proportion_confint(count=score_val['test_score'].sum(), nobs=len(score_val['test_score']))\n",
    "                    acc_val_ci.append((ci_high - ci_low) / 2)\n",
    "                    \n",
    "                acc_val_mean_iori.append(acc_val_mean)\n",
    "                acc_val_ci_iori.append(acc_val_ci)\n",
    "                    \n",
    "                    \n",
    "                ax[int(iori/ncol), iori%ncol].errorbar(x=C_list, y=acc_train_mean, \n",
    "                            yerr=acc_train_ci, fmt='o', capsize=5, capthick=2, label='train', alpha=0.5)\n",
    "                ax[int(iori/ncol), iori%ncol].errorbar(x=C_list, y=acc_val_mean,\n",
    "                            yerr=acc_val_ci, fmt='o', capsize=5, capthick=2, label='val', alpha=0.5)\n",
    "                \n",
    "                ax[int(iori/ncol), iori%ncol].axhline(y=0.5, color='gray', alpha=0.2, label='chance')\n",
    "                ax[int(iori/ncol), iori%ncol].axhline(y=1, color='k', alpha=0.2, label='1')\n",
    "\n",
    "                ax[int(iori/ncol), iori%ncol].set_xscale('log') # set x axis to log scale\n",
    "                ax[int(iori/ncol), iori%ncol].legend(frameon=False);\n",
    "                ax[int(iori/ncol), iori%ncol].set_title(f'decoder: {int(22.5*iori)} vs {22.5*ref_ori_id} deg');\n",
    "                ax[int(iori/ncol), iori%ncol].set_xlabel('more reg ... <-- C --> ... less reg');\n",
    "                ax[int(iori/ncol), iori%ncol].set_ylabel('accuracy');\n",
    "                \n",
    "            fig.tight_layout()\n",
    "            dir_fig = os.path.join(dir_repo, r'results/decoder_grat8/aware decoder/decode by stim2, C param tuning/'.replace('\\\\', '/'))\n",
    "            if not os.path.exists(dir_fig): # mkdir if not exist\n",
    "                os.makedirs(dir_fig)\n",
    "            fig.savefig(dir_fig + f'aware_decoder_{use_data}_{filter_cell}_{iarea}_{idatesess}.pdf', bbox_inches='tight')\n",
    "            plt.close(fig)\n",
    "        \n",
    "        \n",
    "            # fix_C = 1\n",
    "            # acc_val_C = np.array(acc_val_mean_iori)[:, np.where(np.array(C_list)==fix_C)[0][0]]\n",
    "            # acc_val_ci_C = np.array(acc_val_ci_iori)[:, np.where(np.array(C_list)==fix_C)[0][0]]\n",
    "            # stim2_ori_list = ['0', '22.5', '45', '67.5', '112.5', '135', '157.5']\n",
    "\n",
    "            # plt.errorbar(x=np.arange(len(stim2_ori_list)), \n",
    "            #             y=acc_val_C, \n",
    "            #             yerr=acc_val_ci_C, \n",
    "            #             fmt='o', color='b', alpha=0.5, ecolor='lightgray', elinewidth=3, capsize=0);\n",
    "\n",
    "            # stim2_ori_list = ['0', '22.5', '45', '67.5', '112.5', '135', '157.5']\n",
    "            # plt.xticks(np.arange(len(stim2_ori_list)), stim2_ori_list);\n",
    "            # plt.xlabel('stim2_ori')\n",
    "            # plt.ylabel(f'acc_val');\n",
    "\n",
    "            # title_str = f'aware decoder stim2_dist, C={fix_C}, {use_data}, {filter_cell}_{iarea}_{idatesess}'\n",
    "            # plt.title(title_str);\n",
    "            # plt.savefig(dir_fig + f'{title_str}.pdf', bbox_inches='tight')\n",
    "            # plt.close()"
   ]
  },
  {
   "cell_type": "markdown",
   "metadata": {},
   "source": [
    "## xp unaware decoder\n",
    "train with both, test with either - assume decoder learned from visual xp"
   ]
  },
  {
   "cell_type": "code",
   "execution_count": 126,
   "metadata": {},
   "outputs": [
    {
     "name": "stdout",
     "output_type": "stream",
     "text": [
      "V1\n"
     ]
    },
    {
     "name": "stderr",
     "output_type": "stream",
     "text": [
      "  0%|          | 0/5 [00:00<?, ?it/s]"
     ]
    },
    {
     "name": "stdout",
     "output_type": "stream",
     "text": [
      "isi=250\n",
      "isi=6k\n"
     ]
    },
    {
     "name": "stderr",
     "output_type": "stream",
     "text": [
      " 20%|██        | 1/5 [00:26<01:44, 26.11s/it]"
     ]
    },
    {
     "name": "stdout",
     "output_type": "stream",
     "text": [
      "isi=250\n",
      "isi=6k\n"
     ]
    },
    {
     "name": "stderr",
     "output_type": "stream",
     "text": [
      " 40%|████      | 2/5 [01:01<01:34, 31.47s/it]"
     ]
    },
    {
     "name": "stdout",
     "output_type": "stream",
     "text": [
      "isi=250\n",
      "isi=6k\n"
     ]
    },
    {
     "name": "stderr",
     "output_type": "stream",
     "text": [
      " 60%|██████    | 3/5 [01:20<00:51, 25.93s/it]"
     ]
    },
    {
     "name": "stdout",
     "output_type": "stream",
     "text": [
      "isi=250\n",
      "isi=6k\n"
     ]
    },
    {
     "name": "stderr",
     "output_type": "stream",
     "text": [
      " 80%|████████  | 4/5 [01:56<00:29, 29.95s/it]"
     ]
    },
    {
     "name": "stdout",
     "output_type": "stream",
     "text": [
      "isi=250\n",
      "isi=6k\n"
     ]
    },
    {
     "name": "stderr",
     "output_type": "stream",
     "text": [
      "100%|██████████| 5/5 [02:15<00:00, 27.19s/it]\n"
     ]
    },
    {
     "name": "stdout",
     "output_type": "stream",
     "text": [
      "LM\n"
     ]
    },
    {
     "name": "stderr",
     "output_type": "stream",
     "text": [
      "  0%|          | 0/5 [00:00<?, ?it/s]"
     ]
    },
    {
     "name": "stdout",
     "output_type": "stream",
     "text": [
      "isi=250\n",
      "isi=6k\n"
     ]
    },
    {
     "name": "stderr",
     "output_type": "stream",
     "text": [
      " 40%|████      | 2/5 [00:19<00:25,  8.34s/it]"
     ]
    },
    {
     "name": "stdout",
     "output_type": "stream",
     "text": [
      "bad sess due to low val acc on easy task: area=LM, sess=1\n",
      "isi=250\n",
      "isi=6k\n"
     ]
    },
    {
     "name": "stderr",
     "output_type": "stream",
     "text": [
      " 60%|██████    | 3/5 [00:38<00:26, 13.33s/it]"
     ]
    },
    {
     "name": "stdout",
     "output_type": "stream",
     "text": [
      "isi=250\n",
      "isi=6k\n"
     ]
    },
    {
     "name": "stderr",
     "output_type": "stream",
     "text": [
      " 80%|████████  | 4/5 [01:01<00:17, 17.15s/it]"
     ]
    },
    {
     "name": "stdout",
     "output_type": "stream",
     "text": [
      "isi=250\n",
      "isi=6k\n"
     ]
    },
    {
     "name": "stderr",
     "output_type": "stream",
     "text": [
      "100%|██████████| 5/5 [01:26<00:00, 17.24s/it]\n"
     ]
    },
    {
     "name": "stdout",
     "output_type": "stream",
     "text": [
      "LI\n"
     ]
    },
    {
     "name": "stderr",
     "output_type": "stream",
     "text": [
      "  0%|          | 0/5 [00:00<?, ?it/s]"
     ]
    },
    {
     "name": "stdout",
     "output_type": "stream",
     "text": [
      "isi=250\n",
      "isi=6k\n"
     ]
    },
    {
     "name": "stderr",
     "output_type": "stream",
     "text": [
      " 20%|██        | 1/5 [00:56<03:47, 56.95s/it]"
     ]
    },
    {
     "name": "stdout",
     "output_type": "stream",
     "text": [
      "isi=250\n",
      "isi=6k\n"
     ]
    },
    {
     "name": "stderr",
     "output_type": "stream",
     "text": [
      " 60%|██████    | 3/5 [01:15<00:37, 18.91s/it]"
     ]
    },
    {
     "name": "stdout",
     "output_type": "stream",
     "text": [
      "not enough vis cells: area=LI, sess=2\n"
     ]
    },
    {
     "name": "stderr",
     "output_type": "stream",
     "text": [
      " 80%|████████  | 4/5 [01:17<00:11, 11.97s/it]"
     ]
    },
    {
     "name": "stdout",
     "output_type": "stream",
     "text": [
      "bad sess due to low val acc on easy task: area=LI, sess=3\n"
     ]
    },
    {
     "name": "stderr",
     "output_type": "stream",
     "text": [
      "100%|██████████| 5/5 [01:18<00:00, 15.67s/it]"
     ]
    },
    {
     "name": "stdout",
     "output_type": "stream",
     "text": [
      "not enough vis cells: area=LI, sess=4\n"
     ]
    },
    {
     "name": "stderr",
     "output_type": "stream",
     "text": [
      "\n"
     ]
    }
   ],
   "source": [
    "for iarea in ['V1', 'LM', 'LI']:\n",
    "    print(iarea)\n",
    "    nsess = df_tidy[df_tidy.area == iarea].groupby(['date', 'sess']).__len__()\n",
    "    \n",
    "    for idatesess in tqdm(range(5)): # nsess\n",
    "        \n",
    "        # ncell_keep = 999 # check how much overfit if keep all cells\n",
    "        ncell_keep = 15\n",
    "        filter_cell = 'SNR_R1_mod'\n",
    "        df_svc = get_df_svc(df_tidy, \n",
    "                            iarea=iarea, idatesess=idatesess, \n",
    "                            ncell_keep=ncell_keep, \n",
    "                            filter_cell=filter_cell\n",
    "                            )\n",
    "        if df_svc.cell_id.nunique() < 5:\n",
    "            print(f'not enough vis cells: area={iarea}, sess={idatesess}')\n",
    "            continue\n",
    "        tmp = (df_svc.date.unique() + '_' + df_svc.sess.unique())[0]\n",
    "        if tmp in bad_sess_history: # for xp unaware decoder, inherit bad sess from aware decoder\n",
    "            print(f'bad sess due to low val acc on easy task: area={iarea}, sess={idatesess}')\n",
    "            continue\n",
    "\n",
    "        tmp = df_svc.stim2_id.unique()\n",
    "        ref_ori_id = 4 # decode which ori vs others. 0=0 deg, 4=90 deg, etc\n",
    "        other_ori = sorted(tmp[tmp != ref_ori_id]) # decode ref vs not ref\n",
    "\n",
    "        for use_data in ['isi=250', 'isi=6k']:\n",
    "            print(use_data)\n",
    "\n",
    "            nrow = 4\n",
    "            ncol = 2\n",
    "            fig, ax = plt.subplots(4, 2, figsize=(12, 20), sharey=True)\n",
    "\n",
    "            acc_val_mean_iori = []\n",
    "            acc_val_ci_iori = [] # confidence interval based on binomial distribution\n",
    "\n",
    "            for iori in (other_ori):\n",
    "                df_pair = df_svc[((df_svc.stim2_id == ref_ori_id) | (df_svc.stim2_id == iori))]\n",
    "                X_train, y_train, _, _ = df_to_train_test(df_pair, ref_ori_id, train_only=True)\n",
    "\n",
    "                ## cross validation to find optimal C\n",
    "                acc_train_mean = []\n",
    "                acc_train_ci = []\n",
    "                acc_val_mean = []\n",
    "                acc_val_ci = [] # confidence interval based on binomial distribution\n",
    "                \n",
    "                C_list = [1e-2 * 10**i for i in range(5)]\n",
    "                # C_list = [0.1, 0.2, 0.5, 1, 2, 5, 10, 20] # zoom in around 1\n",
    "                # C_list = [0.01, 0.02, 0.05, 0.1, 0.2, 0.5, 1] # zoom in around 0.1\n",
    "                for C_val in C_list:\n",
    "                    \n",
    "                    clf = make_pipeline(StandardScaler(),\n",
    "                                        LinearSVC(tol=1e-5, max_iter=int(1e6), \n",
    "                                                penalty='l1', dual=False, C=C_val)\n",
    "                                        # SVC(C=C_val, kernel='rbf', gamma='auto', \n",
    "                                        #     max_iter=int(1e6))\n",
    "                                        )\n",
    "                    \n",
    "                    score_val = cross_validate(clf, X_train, y_train, cv=LeaveOneOut(), return_train_score=True)\n",
    "\n",
    "                    ## LeaveOneOut() keeps the order of train data. inherit ISI info from df_to_train_test(df_pair...) & separately calculate acc for each ISI\n",
    "                    isi_arr = df_pair.groupby('trial_id').isi.first().values # same as how we get label_arr (y_train) in df_to_train_test\n",
    "                    if use_data == 'isi=250':\n",
    "                        score_val['train_score'] = score_val['train_score'][isi_arr==250]\n",
    "                        score_val['test_score'] = score_val['test_score'][isi_arr==250]\n",
    "                    elif use_data == 'isi=6k':\n",
    "                        score_val['train_score'] = score_val['train_score'][isi_arr==6000]\n",
    "                        score_val['test_score'] = score_val['test_score'][isi_arr==6000]\n",
    "\n",
    "                    \n",
    "                    acc_train_mean.append(np.mean(score_val['train_score']))\n",
    "                    ci_low, ci_high = proportion_confint(count=score_val['train_score'].sum(), nobs=len(score_val['train_score']))\n",
    "                    acc_train_ci.append((ci_high - ci_low) / 2)\n",
    "                    \n",
    "                    acc_val_mean.append(np.mean(score_val['test_score']))\n",
    "                    ci_low, ci_high = proportion_confint(count=score_val['test_score'].sum(), nobs=len(score_val['test_score']))\n",
    "                    acc_val_ci.append((ci_high - ci_low) / 2)\n",
    "                    \n",
    "                acc_val_mean_iori.append(acc_val_mean)\n",
    "                acc_val_ci_iori.append(acc_val_ci)\n",
    "                    \n",
    "                    \n",
    "                ax[int(iori/ncol), iori%ncol].errorbar(x=C_list, y=acc_train_mean, \n",
    "                            yerr=acc_train_ci, fmt='o', capsize=5, capthick=2, label='train', alpha=0.5)\n",
    "                ax[int(iori/ncol), iori%ncol].errorbar(x=C_list, y=acc_val_mean,\n",
    "                            yerr=acc_val_ci, fmt='o', capsize=5, capthick=2, label='val', alpha=0.5)\n",
    "                \n",
    "                ax[int(iori/ncol), iori%ncol].axhline(y=0.5, color='gray', alpha=0.2, label='chance')\n",
    "                ax[int(iori/ncol), iori%ncol].axhline(y=1, color='k', alpha=0.2, label='1')\n",
    "\n",
    "                ax[int(iori/ncol), iori%ncol].set_xscale('log') # set x axis to log scale\n",
    "                ax[int(iori/ncol), iori%ncol].legend(frameon=False);\n",
    "                ax[int(iori/ncol), iori%ncol].set_title(f'decoder: {int(22.5*iori)} vs {22.5*ref_ori_id} deg');\n",
    "                ax[int(iori/ncol), iori%ncol].set_xlabel('more reg ... <-- C --> ... less reg');\n",
    "                ax[int(iori/ncol), iori%ncol].set_ylabel('accuracy');\n",
    "                \n",
    "            fig.tight_layout()\n",
    "            dir_fig = os.path.join(dir_repo, r'results/decoder_grat8/xp unaware decoder/init, C param tuning/'.replace('\\\\', '/'))\n",
    "            if not os.path.exists(dir_fig): # mkdir if not exist\n",
    "                os.makedirs(dir_fig)\n",
    "            fig.savefig(dir_fig + f'xp_unaware_decoder_{use_data}_{filter_cell}_{iarea}_{idatesess}.pdf', bbox_inches='tight')\n",
    "            plt.close(fig)\n",
    "        \n",
    "        \n",
    "            # fix_C = 1\n",
    "            # acc_val_C = np.array(acc_val_mean_iori)[:, np.where(np.array(C_list)==fix_C)[0][0]]\n",
    "            # acc_val_ci_C = np.array(acc_val_ci_iori)[:, np.where(np.array(C_list)==fix_C)[0][0]]\n",
    "            # stim2_ori_list = ['0', '22.5', '45', '67.5', '112.5', '135', '157.5']\n",
    "\n",
    "            # plt.errorbar(x=np.arange(len(stim2_ori_list)), \n",
    "            #             y=acc_val_C, \n",
    "            #             yerr=acc_val_ci_C, \n",
    "            #             fmt='o', color='b', alpha=0.5, ecolor='lightgray', elinewidth=3, capsize=0);\n",
    "\n",
    "            # stim2_ori_list = ['0', '22.5', '45', '67.5', '112.5', '135', '157.5']\n",
    "            # plt.xticks(np.arange(len(stim2_ori_list)), stim2_ori_list);\n",
    "            # plt.xlabel('stim2_ori')\n",
    "            # plt.ylabel(f'acc_val');\n",
    "\n",
    "            # title_str = f'aware decoder stim2_dist, C={fix_C}, {use_data}, {filter_cell}_{iarea}_{idatesess}'\n",
    "            # plt.title(title_str);\n",
    "            # plt.savefig(dir_fig + f'{title_str}.pdf', bbox_inches='tight')\n",
    "            # plt.close()"
   ]
  },
  {
   "attachments": {},
   "cell_type": "markdown",
   "metadata": {},
   "source": [
    "## naive unaware decoder (to clean)\n",
    "train with 6k, test with either - more directly related to decorr, give lower bound of decoding acc"
   ]
  },
  {
   "cell_type": "code",
   "execution_count": null,
   "metadata": {},
   "outputs": [
    {
     "name": "stderr",
     "output_type": "stream",
     "text": [
      "100%|██████████| 7/7 [00:08<00:00,  1.20s/it]\n"
     ]
    },
    {
     "data": {
      "image/png": "[encoded data removed]",
      "text/plain": [
       "<Figure size 1200x2000 with 8 Axes>"
      ]
     },
     "metadata": {},
     "output_type": "display_data"
    }
   ],
   "source": [
    "## find optimal reg param C. \n",
    "\n",
    "nrow = 4\n",
    "ncol = 2\n",
    "fig, ax = plt.subplots(4, 2, figsize=(12, 20), sharey=True)\n",
    "\n",
    "acc_val_mean_iori = []\n",
    "acc_val_ci_iori = [] # confidence interval based on binomial distribution\n",
    "acc_test_iori = []\n",
    "\n",
    "for iori in tqdm(other_ori):\n",
    "    \n",
    "    ## get data for each pair of ori (another vs 90 deg)\n",
    "    df_pair = df_svc[((df_svc.stim2_id == 4) | (df_svc.stim2_id == iori))]\n",
    "    df_pair_250 = df_pair[df_pair.isi == 250]\n",
    "    df_pair_6000 = df_pair[df_pair.isi == 6000]\n",
    "\n",
    "    ## split train vs test for each isi\n",
    "    X_train_250, y_train_250, X_test_250, y_test_250 = df_to_train_test(df_pair_250, train_only=True) # no test data\n",
    "    X_train_6000, y_train_6000, X_test_6000, y_test_6000 = df_to_train_test(df_pair_6000, train_only=True)\n",
    "\n",
    "    # ## stack training data across isi - ntrial per isi mostly balanced (30% vs 35%)\n",
    "    # X_train = np.vstack((X_train_250, X_train_6000))\n",
    "    # y_train = np.hstack((y_train_250, y_train_6000))\n",
    "    # X_test = np.vstack((X_test_250, X_test_6000))\n",
    "    # y_test = np.hstack((y_test_250, y_test_6000))\n",
    "\n",
    "    # ## shuffle trials in the same way\n",
    "    # seed_val = 0\n",
    "    # np.random.seed(seed_val)\n",
    "    # np.random.shuffle(X_train) # shuffled along the first axis, aka trials\n",
    "    # np.random.shuffle(y_train)\n",
    "    # np.random.shuffle(X_test)\n",
    "    # np.random.shuffle(y_test)\n",
    "\n",
    "    ## cross validation to find optimal C\n",
    "    acc_train_mean = []\n",
    "    acc_train_std = []\n",
    "    acc_val_mean = []\n",
    "    acc_val_std = []\n",
    "    acc_val_ci = [] # confidence interval based on binomial distribution\n",
    "    acc_test = []\n",
    "    # C_list = [1e-4 * 10**i for i in range(8)] # 1e-4, 1e-3, ..., 1e3, 1e4\n",
    "    C_list = [0.01, 0.02, 0.05, 0.1, 0.2, 0.5, 1] # zoom in around 0.1\n",
    "    nfold = 5\n",
    "\n",
    "    # use_data = 'isi=250' # train with unadapted, test with adapted\n",
    "    # use_data = 'isi=6k' # train with unadapted, test with unadapted\n",
    "\n",
    "\n",
    "    for C_val in C_list:\n",
    "        clf = make_pipeline(StandardScaler(),\n",
    "                            LinearSVC(tol=1e-5, max_iter=int(1e6), \n",
    "                                    penalty='l1', dual=False, C=C_val))\n",
    "\n",
    "        ## train and val with isi 6k. val is considered as test\n",
    "        score_val = cross_validate(clf, X_train_6000, y_train_6000, cv=LeaveOneOut(), return_train_score=True)        \n",
    "        acc_train_mean.append(np.mean(score_val['train_score']))\n",
    "        acc_train_std.append(np.std(score_val['train_score']))\n",
    "        \n",
    "        acc_val_mean.append(np.mean(score_val['test_score']))\n",
    "        acc_val_std.append(np.std(score_val['test_score']))\n",
    "        ci_low, ci_high = proportion_confint(count=score_val['test_score'].sum(), nobs=len(score_val['test_score']))\n",
    "        ci_err = (ci_high - ci_low)/2\n",
    "        acc_val_ci.append(ci_err)\n",
    "\n",
    "        ## test with isi 250. train_250 is considered as test (bc model is trained with isi 6k)\n",
    "        clf.fit(X_train_6000, y_train_6000)\n",
    "        score_test = clf.score(X_train_250, y_train_250) # test data has only 1 trial. use train as test for isi 250\n",
    "        acc_test.append(score_test)\n",
    "        \n",
    "    acc_val_mean_iori.append(acc_val_mean)\n",
    "    acc_val_ci_iori.append(acc_val_ci)\n",
    "    acc_test_iori.append(acc_test)\n",
    "        \n",
    "        \n",
    "    ax[int(iori/ncol), iori%ncol].errorbar(x=C_list, y=acc_train_mean, \n",
    "                yerr=acc_train_std, fmt='o', capsize=5, capthick=2, label='train 6k')\n",
    "    ax[int(iori/ncol), iori%ncol].errorbar(x=C_list, y=acc_val_mean,\n",
    "                yerr=acc_val_ci, fmt='o', capsize=5, capthick=2, label='val 6k')\n",
    "    ax[int(iori/ncol), iori%ncol].plot(C_list, acc_test, color='r', marker=\".\", alpha=0.5, label='test 250')\n",
    "    ax[int(iori/ncol), iori%ncol].axhline(y=0.5, color='k',alpha=0.2, label='chance')\n",
    "\n",
    "    # set x axis to log scale\n",
    "    ax[int(iori/ncol), iori%ncol].set_xscale('log')\n",
    "\n",
    "    ax[int(iori/ncol), iori%ncol].legend(frameon=False);\n",
    "    ax[int(iori/ncol), iori%ncol].set_title(f'decoder: {int(22.5*iori)} vs 90 deg');\n",
    "    ax[int(iori/ncol), iori%ncol].set_xlabel('more reg ... <-- C --> ... less reg');\n",
    "    ax[int(iori/ncol), iori%ncol].set_ylabel('accuracy');\n",
    "    \n",
    "fig.tight_layout()\n",
    "\n",
    "dir_fig = r'C:\\Users\\lan\\Documents\\repos\\inter\\results\\decoder_grat8/'.replace('\\\\', '/')\n",
    "fig.savefig(dir_fig + f'decoder_L1_train_val_6k_test_250.pdf', bbox_inches='tight')"
   ]
  },
  {
   "cell_type": "code",
   "execution_count": null,
   "metadata": {},
   "outputs": [
    {
     "data": {
      "image/png": "[encoded data removed]",
      "text/plain": [
       "<Figure size 640x480 with 1 Axes>"
      ]
     },
     "metadata": {},
     "output_type": "display_data"
    }
   ],
   "source": [
    "fix_C = 0.1\n",
    "# if use_data == 'isi=6k':\n",
    "    # fix_C = 0.1\n",
    "# if use_data == 'isi=250':\n",
    "    # fix_C = 0.2\n",
    "    \n",
    "acc_val_C = np.array(acc_val_mean_iori)[:, np.where(np.array(C_list)==fix_C)[0][0]]\n",
    "acc_val_ci_C = np.array(acc_val_ci_iori)[:, np.where(np.array(C_list)==fix_C)[0][0]]\n",
    "acc_test_C = np.array(acc_test_iori)[:, np.where(np.array(C_list)==fix_C)[0][0]]\n",
    "\n",
    "plt.errorbar(x=np.arange(len(stim2_ori_list)), \n",
    "             y=acc_val_C, \n",
    "             yerr=acc_val_ci_C, \n",
    "             label='acc val isi=6k',\n",
    "             fmt='o', color='b', alpha=0.5, ecolor='lightgray', elinewidth=3, capsize=0);\n",
    "plt.plot(acc_test_C, 'o', color='r', alpha=0.5, label='acc test isi=250')\n",
    "\n",
    "stim2_ori_list = ['0', '22.5', '45', '67.5', '112.5', '135', '157.5']\n",
    "plt.xticks(np.arange(len(stim2_ori_list)), stim2_ori_list);\n",
    "plt.xlabel('stim2_ori')\n",
    "plt.ylabel(f'acc');\n",
    "plt.legend(frameon=False, loc='lower left')\n",
    "\n",
    "title_str = f'naive unaware decoder, binofit, C={fix_C}'\n",
    "plt.title(title_str);\n",
    "plt.savefig(dir_fig + f'{title_str}.pdf', bbox_inches='tight')"
   ]
  },
  {
   "attachments": {},
   "cell_type": "markdown",
   "metadata": {},
   "source": [
    "# decoder across area\n",
    "area subplot, isi color, date_sess concat acc errorbar  \n",
    "fixed C"
   ]
  },
  {
   "cell_type": "markdown",
   "metadata": {},
   "source": [
    "## aware decoder"
   ]
  },
  {
   "cell_type": "code",
   "execution_count": 99,
   "metadata": {},
   "outputs": [
    {
     "name": "stderr",
     "output_type": "stream",
     "text": [
      " 33%|███▎      | 2/6 [00:04<00:08,  2.06s/it]"
     ]
    },
    {
     "name": "stdout",
     "output_type": "stream",
     "text": [
      "train acc overfit: area=V1, sess=1, isi=isi=250, ori=6\n"
     ]
    },
    {
     "name": "stderr",
     "output_type": "stream",
     "text": [
      "100%|██████████| 6/6 [00:12<00:00,  2.05s/it]\n",
      " 17%|█▋        | 1/6 [00:02<00:10,  2.04s/it]"
     ]
    },
    {
     "name": "stdout",
     "output_type": "stream",
     "text": [
      "train acc overfit: area=V1, sess=0, isi=isi=6k, ori=7\n"
     ]
    },
    {
     "name": "stderr",
     "output_type": "stream",
     "text": [
      " 33%|███▎      | 2/6 [00:04<00:08,  2.05s/it]"
     ]
    },
    {
     "name": "stdout",
     "output_type": "stream",
     "text": [
      "train acc overfit: area=V1, sess=1, isi=isi=6k, ori=7\n"
     ]
    },
    {
     "name": "stderr",
     "output_type": "stream",
     "text": [
      " 67%|██████▋   | 4/6 [00:08<00:04,  2.05s/it]"
     ]
    },
    {
     "name": "stdout",
     "output_type": "stream",
     "text": [
      "train acc overfit: area=V1, sess=3, isi=isi=6k, ori=7\n",
      "train acc overfit: area=V1, sess=3, isi=isi=6k, ori=7\n"
     ]
    },
    {
     "name": "stderr",
     "output_type": "stream",
     "text": [
      "100%|██████████| 6/6 [00:12<00:00,  2.01s/it]\n",
      "  9%|▉         | 2/22 [00:03<00:34,  1.71s/it]"
     ]
    },
    {
     "name": "stdout",
     "output_type": "stream",
     "text": [
      "bad sess due to low val acc on easy task: area=LM, sess=1\n"
     ]
    },
    {
     "name": "stderr",
     "output_type": "stream",
     "text": [
      " 36%|███▋      | 8/22 [00:19<00:39,  2.84s/it]"
     ]
    },
    {
     "name": "stdout",
     "output_type": "stream",
     "text": [
      "train acc overfit: area=LM, sess=8, isi=isi=250, ori=6\n",
      "train acc overfit: area=LM, sess=8, isi=isi=250, ori=6\n"
     ]
    },
    {
     "name": "stderr",
     "output_type": "stream",
     "text": [
      " 55%|█████▍    | 12/22 [00:27<00:20,  2.09s/it]"
     ]
    },
    {
     "name": "stdout",
     "output_type": "stream",
     "text": [
      "bad sess due to low val acc on easy task: area=LM, sess=11\n"
     ]
    },
    {
     "name": "stderr",
     "output_type": "stream",
     "text": [
      " 73%|███████▎  | 16/22 [00:35<00:11,  1.92s/it]"
     ]
    },
    {
     "name": "stdout",
     "output_type": "stream",
     "text": [
      "bad sess due to low val acc on easy task: area=LM, sess=15\n"
     ]
    },
    {
     "name": "stderr",
     "output_type": "stream",
     "text": [
      " 77%|███████▋  | 17/22 [00:36<00:08,  1.78s/it]"
     ]
    },
    {
     "name": "stdout",
     "output_type": "stream",
     "text": [
      "bad sess due to low val acc on easy task: area=LM, sess=16\n"
     ]
    },
    {
     "name": "stderr",
     "output_type": "stream",
     "text": [
      "100%|██████████| 22/22 [00:47<00:00,  2.17s/it]\n",
      "  9%|▉         | 2/22 [00:03<00:34,  1.70s/it]"
     ]
    },
    {
     "name": "stdout",
     "output_type": "stream",
     "text": [
      "bad sess due to low val acc on easy task: area=LM, sess=1\n"
     ]
    },
    {
     "name": "stderr",
     "output_type": "stream",
     "text": [
      " 23%|██▎       | 5/22 [00:09<00:33,  1.99s/it]"
     ]
    },
    {
     "name": "stdout",
     "output_type": "stream",
     "text": [
      "train acc overfit: area=LM, sess=4, isi=isi=6k, ori=7\n"
     ]
    },
    {
     "name": "stderr",
     "output_type": "stream",
     "text": [
      " 32%|███▏      | 7/22 [00:13<00:30,  2.02s/it]"
     ]
    },
    {
     "name": "stdout",
     "output_type": "stream",
     "text": [
      "train acc overfit: area=LM, sess=7, isi=isi=6k, ori=0\n"
     ]
    },
    {
     "name": "stderr",
     "output_type": "stream",
     "text": [
      " 36%|███▋      | 8/22 [00:15<00:28,  2.07s/it]"
     ]
    },
    {
     "name": "stdout",
     "output_type": "stream",
     "text": [
      "train acc overfit: area=LM, sess=7, isi=isi=6k, ori=6\n",
      "train acc overfit: area=LM, sess=8, isi=isi=6k, ori=0\n"
     ]
    },
    {
     "name": "stderr",
     "output_type": "stream",
     "text": [
      " 55%|█████▍    | 12/22 [00:23<00:18,  1.87s/it]"
     ]
    },
    {
     "name": "stdout",
     "output_type": "stream",
     "text": [
      "bad sess due to low val acc on easy task: area=LM, sess=11\n"
     ]
    },
    {
     "name": "stderr",
     "output_type": "stream",
     "text": [
      " 73%|███████▎  | 16/22 [00:31<00:10,  1.83s/it]"
     ]
    },
    {
     "name": "stdout",
     "output_type": "stream",
     "text": [
      "bad sess due to low val acc on easy task: area=LM, sess=15\n"
     ]
    },
    {
     "name": "stderr",
     "output_type": "stream",
     "text": [
      " 77%|███████▋  | 17/22 [00:32<00:08,  1.72s/it]"
     ]
    },
    {
     "name": "stdout",
     "output_type": "stream",
     "text": [
      "bad sess due to low val acc on easy task: area=LM, sess=16\n"
     ]
    },
    {
     "name": "stderr",
     "output_type": "stream",
     "text": [
      "100%|██████████| 22/22 [00:43<00:00,  1.96s/it]\n",
      " 20%|██        | 3/15 [00:05<00:20,  1.72s/it]"
     ]
    },
    {
     "name": "stdout",
     "output_type": "stream",
     "text": [
      "not enough vis cells: area=LI, sess=2\n"
     ]
    },
    {
     "name": "stderr",
     "output_type": "stream",
     "text": [
      " 27%|██▋       | 4/15 [00:06<00:17,  1.59s/it]"
     ]
    },
    {
     "name": "stdout",
     "output_type": "stream",
     "text": [
      "bad sess due to low val acc on easy task: area=LI, sess=3\n"
     ]
    },
    {
     "name": "stderr",
     "output_type": "stream",
     "text": [
      " 33%|███▎      | 5/15 [00:08<00:15,  1.50s/it]"
     ]
    },
    {
     "name": "stdout",
     "output_type": "stream",
     "text": [
      "not enough vis cells: area=LI, sess=4\n"
     ]
    },
    {
     "name": "stderr",
     "output_type": "stream",
     "text": [
      " 40%|████      | 6/15 [00:09<00:13,  1.45s/it]"
     ]
    },
    {
     "name": "stdout",
     "output_type": "stream",
     "text": [
      "not enough vis cells: area=LI, sess=5\n"
     ]
    },
    {
     "name": "stderr",
     "output_type": "stream",
     "text": [
      " 53%|█████▎    | 8/15 [00:12<00:10,  1.54s/it]"
     ]
    },
    {
     "name": "stdout",
     "output_type": "stream",
     "text": [
      "bad sess due to low val acc on easy task: area=LI, sess=7\n"
     ]
    },
    {
     "name": "stderr",
     "output_type": "stream",
     "text": [
      " 60%|██████    | 9/15 [00:14<00:08,  1.49s/it]"
     ]
    },
    {
     "name": "stdout",
     "output_type": "stream",
     "text": [
      "not enough vis cells: area=LI, sess=8\n"
     ]
    },
    {
     "name": "stderr",
     "output_type": "stream",
     "text": [
      " 67%|██████▋   | 10/15 [00:15<00:07,  1.46s/it]"
     ]
    },
    {
     "name": "stdout",
     "output_type": "stream",
     "text": [
      "not enough vis cells: area=LI, sess=9\n"
     ]
    },
    {
     "name": "stderr",
     "output_type": "stream",
     "text": [
      " 80%|████████  | 12/15 [00:19<00:04,  1.57s/it]"
     ]
    },
    {
     "name": "stdout",
     "output_type": "stream",
     "text": [
      "not enough vis cells: area=LI, sess=11\n"
     ]
    },
    {
     "name": "stderr",
     "output_type": "stream",
     "text": [
      "100%|██████████| 15/15 [00:24<00:00,  1.65s/it]"
     ]
    },
    {
     "name": "stdout",
     "output_type": "stream",
     "text": [
      "not enough vis cells: area=LI, sess=14\n"
     ]
    },
    {
     "name": "stderr",
     "output_type": "stream",
     "text": [
      "\n",
      " 20%|██        | 3/15 [00:05<00:19,  1.66s/it]"
     ]
    },
    {
     "name": "stdout",
     "output_type": "stream",
     "text": [
      "not enough vis cells: area=LI, sess=2\n"
     ]
    },
    {
     "name": "stderr",
     "output_type": "stream",
     "text": [
      " 27%|██▋       | 4/15 [00:06<00:17,  1.55s/it]"
     ]
    },
    {
     "name": "stdout",
     "output_type": "stream",
     "text": [
      "bad sess due to low val acc on easy task: area=LI, sess=3\n"
     ]
    },
    {
     "name": "stderr",
     "output_type": "stream",
     "text": [
      " 33%|███▎      | 5/15 [00:07<00:14,  1.48s/it]"
     ]
    },
    {
     "name": "stdout",
     "output_type": "stream",
     "text": [
      "not enough vis cells: area=LI, sess=4\n"
     ]
    },
    {
     "name": "stderr",
     "output_type": "stream",
     "text": [
      " 40%|████      | 6/15 [00:09<00:12,  1.43s/it]"
     ]
    },
    {
     "name": "stdout",
     "output_type": "stream",
     "text": [
      "not enough vis cells: area=LI, sess=5\n"
     ]
    },
    {
     "name": "stderr",
     "output_type": "stream",
     "text": [
      " 53%|█████▎    | 8/15 [00:12<00:10,  1.52s/it]"
     ]
    },
    {
     "name": "stdout",
     "output_type": "stream",
     "text": [
      "bad sess due to low val acc on easy task: area=LI, sess=7\n"
     ]
    },
    {
     "name": "stderr",
     "output_type": "stream",
     "text": [
      " 60%|██████    | 9/15 [00:13<00:08,  1.47s/it]"
     ]
    },
    {
     "name": "stdout",
     "output_type": "stream",
     "text": [
      "not enough vis cells: area=LI, sess=8\n"
     ]
    },
    {
     "name": "stderr",
     "output_type": "stream",
     "text": [
      " 67%|██████▋   | 10/15 [00:15<00:07,  1.43s/it]"
     ]
    },
    {
     "name": "stdout",
     "output_type": "stream",
     "text": [
      "not enough vis cells: area=LI, sess=9\n"
     ]
    },
    {
     "name": "stderr",
     "output_type": "stream",
     "text": [
      " 80%|████████  | 12/15 [00:18<00:04,  1.51s/it]"
     ]
    },
    {
     "name": "stdout",
     "output_type": "stream",
     "text": [
      "not enough vis cells: area=LI, sess=11\n"
     ]
    },
    {
     "name": "stderr",
     "output_type": "stream",
     "text": [
      "100%|██████████| 15/15 [00:23<00:00,  1.59s/it]"
     ]
    },
    {
     "name": "stdout",
     "output_type": "stream",
     "text": [
      "not enough vis cells: area=LI, sess=14\n"
     ]
    },
    {
     "name": "stderr",
     "output_type": "stream",
     "text": [
      "\n"
     ]
    }
   ],
   "source": [
    "tmp = df_tidy.stim2_id.unique()\n",
    "ref_ori_id = 4 # decode which ori vs others. 0=0 deg, 4=90 deg, etc\n",
    "other_ori = sorted(tmp[tmp != ref_ori_id]) # decode ref vs not ref\n",
    "\n",
    "ncell_keep = 15\n",
    "if ncell_keep <= 15:\n",
    "    C_init = 0.1\n",
    "elif ncell_keep == 999:\n",
    "    C_init = 0.05\n",
    "# C_init = 1 # if without standard scaler z score, or RBF kernel SVM, 15 cell\n",
    "\n",
    "\n",
    "decode_res_areas = []\n",
    "df_perf = pd.DataFrame(columns=['area', 'isi', 'sess', 'ori', \n",
    "                                'true_pos', 'n_sample', 'val_acc', # three var for val acc\n",
    "                                'true_pos_train', 'n_sample_train', 'train_acc', # three var for train acc\n",
    "                                'C', 'bad_fit'])\n",
    "\n",
    "for iarea in ['V1', 'LM', 'LI']:\n",
    "    true_pos_isi = []\n",
    "    n_sample_isi = []\n",
    "\n",
    "    for use_data in ['isi=250', 'isi=6k']:\n",
    "        true_pos_ori = np.zeros(len(other_ori) + 1) # true positive across ori pairs. leave a blank for ref ori\n",
    "        n_sample_ori = np.zeros(len(other_ori) + 1)\n",
    "        nsess_iarea = (df_tidy[(df_tidy.area == iarea) \n",
    "                            & (df_tidy.filter_cell_vis == True)] # some LI sessions have no vis cell\n",
    "                        .groupby(['date', 'sess'])\n",
    "                        .first().__len__())\n",
    "        \n",
    "        for isess in tqdm(range(nsess_iarea)):\n",
    "            df_svc = get_df_svc(df_tidy, iarea=iarea, idatesess=isess, \n",
    "                                ncell_keep=ncell_keep, filter_cell='SNR_R1_mod')\n",
    "            if df_svc.cell_id.nunique() < 5:\n",
    "                print(f'not enough vis cells: area={iarea}, sess={isess}')\n",
    "                continue\n",
    "            tmp = (df_svc.date.unique() + '_' + df_svc.sess.unique())[0]\n",
    "            if tmp in bad_sess_history:\n",
    "                print(f'bad sess due to low val acc on easy task: area={iarea}, sess={isess}')\n",
    "                continue\n",
    "\n",
    "            for iori in (other_ori):\n",
    "                df_pair = df_svc[((df_svc.stim2_id == ref_ori_id) | (df_svc.stim2_id == iori))]\n",
    "                df_pair_250 = df_pair[df_pair.isi == 250]\n",
    "                df_pair_6000 = df_pair[df_pair.isi == 6000]\n",
    "\n",
    "                X_train_250, y_train_250, _, _ = df_to_train_test(df_pair_250, ref_ori_id, train_only=True) # no test data\n",
    "                X_train_6000, y_train_6000, _, _ = df_to_train_test(df_pair_6000, ref_ori_id, train_only=True)\n",
    "\n",
    "                C_current = C_init # reset C_current, then find optimal C for this area-isi-sess-ori\n",
    "                niter = 0\n",
    "                while niter < 4: # limit number of iteration to avoid infinite loop (can't believe I didn't foresee this)\n",
    "                    clf = make_pipeline(StandardScaler(),\n",
    "                                        LinearSVC(tol=1e-5, max_iter=int(1e7), \n",
    "                                                penalty='l1', dual='auto', C=C_current))\n",
    "                    \n",
    "                    if use_data == 'isi=250':\n",
    "                        score_val = cross_validate(clf, X_train_250, y_train_250, cv=LeaveOneOut(), return_train_score=True)\n",
    "                    elif use_data == 'isi=6k':\n",
    "                        score_val = cross_validate(clf, X_train_6000, y_train_6000, cv=LeaveOneOut(), return_train_score=True)\n",
    "\n",
    "                    if np.mean(score_val['train_score']) - np.std(score_val['train_score']) <= 0.5: # lower err of train acc is too low, underfit\n",
    "                        C_current *= 2\n",
    "                        niter += 1\n",
    "                        print(f'train acc underfit: area={iarea}, sess={isess}, isi={use_data}, ori={iori}')\n",
    "                    elif np.mean(score_val['train_score']) >= 1: # train acc is too high, overfit. dont consider err\n",
    "                        C_current /= 2\n",
    "                        niter += 1\n",
    "                        print(f'train acc overfit: area={iarea}, sess={isess}, isi={use_data}, ori={iori}')\n",
    "                    else:\n",
    "                        break # record res, stop searching for C\n",
    "\n",
    "                ## outside of while loop, record res\n",
    "                true_pos = score_val['test_score'].sum()\n",
    "                n_sample = len(score_val['test_score'])\n",
    "                n_sample_train = n_sample - 1 # leave one out (LOO)\n",
    "                true_pos_train = score_val['train_score'].mean() * n_sample_train # mean train acc across LOO attempts\n",
    "                true_pos_ori[iori] += true_pos\n",
    "                n_sample_ori[iori] += n_sample\n",
    "\n",
    "                bad_fit = False\n",
    "                if niter == 4: # too many tries, this is a bad fit\n",
    "                    print(f'unable to fit: area={iarea}, sess={isess}, isi={use_data}, ori={iori}, C={C_current}')\n",
    "                    bad_fit = True\n",
    "\n",
    "                df_newline = pd.DataFrame({'area': iarea, 'isi': use_data, 'sess': isess, 'ori': iori,\n",
    "                                            'true_pos': true_pos, 'n_sample': n_sample, \n",
    "                                            'val_acc': np.mean(score_val['test_score']), \n",
    "                                            'true_pos_train': true_pos_train, 'n_sample_train': n_sample_train, \n",
    "                                            'train_acc': np.mean(score_val['train_score']),\n",
    "                                            'C': C_current, 'bad_fit': bad_fit}, \n",
    "                                            columns=df_perf.columns, \n",
    "                                            index=[0])\n",
    "                df_perf = pd.concat([df_newline, df_perf], ignore_index=True)\n",
    "                \n",
    "        \n",
    "        true_pos_isi.append(true_pos_ori)\n",
    "        n_sample_isi.append(n_sample_ori)\n",
    "    decode_res_areas.append([true_pos_isi, n_sample_isi])\n",
    "## 3 min to run"
   ]
  },
  {
   "cell_type": "code",
   "execution_count": 103,
   "metadata": {},
   "outputs": [
    {
     "data": {
      "text/html": [
       "<div>\n",
       "<style scoped>\n",
       "    .dataframe tbody tr th:only-of-type {\n",
       "        vertical-align: middle;\n",
       "    }\n",
       "\n",
       "    .dataframe tbody tr th {\n",
       "        vertical-align: top;\n",
       "    }\n",
       "\n",
       "    .dataframe thead th {\n",
       "        text-align: right;\n",
       "    }\n",
       "</style>\n",
       "<table border=\"1\" class=\"dataframe\">\n",
       "  <thead>\n",
       "    <tr style=\"text-align: right;\">\n",
       "      <th></th>\n",
       "      <th>area</th>\n",
       "      <th>isi</th>\n",
       "      <th>sess</th>\n",
       "      <th>ori</th>\n",
       "      <th>true_pos</th>\n",
       "      <th>n_sample</th>\n",
       "      <th>val_acc</th>\n",
       "      <th>true_pos_train</th>\n",
       "      <th>n_sample_train</th>\n",
       "      <th>train_acc</th>\n",
       "      <th>C</th>\n",
       "      <th>bad_fit</th>\n",
       "      <th>ori_dist_id</th>\n",
       "    </tr>\n",
       "  </thead>\n",
       "  <tbody>\n",
       "    <tr>\n",
       "      <th>0</th>\n",
       "      <td>LI</td>\n",
       "      <td>isi=6k</td>\n",
       "      <td>13</td>\n",
       "      <td>7</td>\n",
       "      <td>29.0</td>\n",
       "      <td>37</td>\n",
       "      <td>0.783784</td>\n",
       "      <td>30.216216</td>\n",
       "      <td>36</td>\n",
       "      <td>0.839339</td>\n",
       "      <td>0.1</td>\n",
       "      <td>False</td>\n",
       "      <td>1</td>\n",
       "    </tr>\n",
       "    <tr>\n",
       "      <th>1</th>\n",
       "      <td>LI</td>\n",
       "      <td>isi=6k</td>\n",
       "      <td>13</td>\n",
       "      <td>6</td>\n",
       "      <td>19.0</td>\n",
       "      <td>36</td>\n",
       "      <td>0.527778</td>\n",
       "      <td>26.638889</td>\n",
       "      <td>35</td>\n",
       "      <td>0.761111</td>\n",
       "      <td>0.1</td>\n",
       "      <td>False</td>\n",
       "      <td>2</td>\n",
       "    </tr>\n",
       "    <tr>\n",
       "      <th>2</th>\n",
       "      <td>LI</td>\n",
       "      <td>isi=6k</td>\n",
       "      <td>13</td>\n",
       "      <td>5</td>\n",
       "      <td>22.0</td>\n",
       "      <td>36</td>\n",
       "      <td>0.611111</td>\n",
       "      <td>28.416667</td>\n",
       "      <td>35</td>\n",
       "      <td>0.811905</td>\n",
       "      <td>0.1</td>\n",
       "      <td>False</td>\n",
       "      <td>3</td>\n",
       "    </tr>\n",
       "    <tr>\n",
       "      <th>3</th>\n",
       "      <td>LI</td>\n",
       "      <td>isi=6k</td>\n",
       "      <td>13</td>\n",
       "      <td>3</td>\n",
       "      <td>24.0</td>\n",
       "      <td>36</td>\n",
       "      <td>0.666667</td>\n",
       "      <td>26.333333</td>\n",
       "      <td>35</td>\n",
       "      <td>0.752381</td>\n",
       "      <td>0.1</td>\n",
       "      <td>False</td>\n",
       "      <td>3</td>\n",
       "    </tr>\n",
       "    <tr>\n",
       "      <th>4</th>\n",
       "      <td>LI</td>\n",
       "      <td>isi=6k</td>\n",
       "      <td>13</td>\n",
       "      <td>2</td>\n",
       "      <td>22.0</td>\n",
       "      <td>37</td>\n",
       "      <td>0.594595</td>\n",
       "      <td>27.891892</td>\n",
       "      <td>36</td>\n",
       "      <td>0.774775</td>\n",
       "      <td>0.1</td>\n",
       "      <td>False</td>\n",
       "      <td>2</td>\n",
       "    </tr>\n",
       "    <tr>\n",
       "      <th>...</th>\n",
       "      <td>...</td>\n",
       "      <td>...</td>\n",
       "      <td>...</td>\n",
       "      <td>...</td>\n",
       "      <td>...</td>\n",
       "      <td>...</td>\n",
       "      <td>...</td>\n",
       "      <td>...</td>\n",
       "      <td>...</td>\n",
       "      <td>...</td>\n",
       "      <td>...</td>\n",
       "      <td>...</td>\n",
       "      <td>...</td>\n",
       "    </tr>\n",
       "    <tr>\n",
       "      <th>415</th>\n",
       "      <td>V1</td>\n",
       "      <td>isi=250</td>\n",
       "      <td>0</td>\n",
       "      <td>5</td>\n",
       "      <td>25.0</td>\n",
       "      <td>35</td>\n",
       "      <td>0.714286</td>\n",
       "      <td>30.114286</td>\n",
       "      <td>34</td>\n",
       "      <td>0.885714</td>\n",
       "      <td>0.1</td>\n",
       "      <td>False</td>\n",
       "      <td>3</td>\n",
       "    </tr>\n",
       "    <tr>\n",
       "      <th>416</th>\n",
       "      <td>V1</td>\n",
       "      <td>isi=250</td>\n",
       "      <td>0</td>\n",
       "      <td>3</td>\n",
       "      <td>24.0</td>\n",
       "      <td>43</td>\n",
       "      <td>0.558140</td>\n",
       "      <td>35.255814</td>\n",
       "      <td>42</td>\n",
       "      <td>0.839424</td>\n",
       "      <td>0.1</td>\n",
       "      <td>False</td>\n",
       "      <td>3</td>\n",
       "    </tr>\n",
       "    <tr>\n",
       "      <th>417</th>\n",
       "      <td>V1</td>\n",
       "      <td>isi=250</td>\n",
       "      <td>0</td>\n",
       "      <td>2</td>\n",
       "      <td>33.0</td>\n",
       "      <td>37</td>\n",
       "      <td>0.891892</td>\n",
       "      <td>33.945946</td>\n",
       "      <td>36</td>\n",
       "      <td>0.942943</td>\n",
       "      <td>0.1</td>\n",
       "      <td>False</td>\n",
       "      <td>2</td>\n",
       "    </tr>\n",
       "    <tr>\n",
       "      <th>418</th>\n",
       "      <td>V1</td>\n",
       "      <td>isi=250</td>\n",
       "      <td>0</td>\n",
       "      <td>1</td>\n",
       "      <td>31.0</td>\n",
       "      <td>33</td>\n",
       "      <td>0.939394</td>\n",
       "      <td>30.454545</td>\n",
       "      <td>32</td>\n",
       "      <td>0.951705</td>\n",
       "      <td>0.1</td>\n",
       "      <td>False</td>\n",
       "      <td>1</td>\n",
       "    </tr>\n",
       "    <tr>\n",
       "      <th>419</th>\n",
       "      <td>V1</td>\n",
       "      <td>isi=250</td>\n",
       "      <td>0</td>\n",
       "      <td>0</td>\n",
       "      <td>32.0</td>\n",
       "      <td>38</td>\n",
       "      <td>0.842105</td>\n",
       "      <td>33.394737</td>\n",
       "      <td>37</td>\n",
       "      <td>0.902560</td>\n",
       "      <td>0.1</td>\n",
       "      <td>False</td>\n",
       "      <td>0</td>\n",
       "    </tr>\n",
       "  </tbody>\n",
       "</table>\n",
       "<p>420 rows × 13 columns</p>\n",
       "</div>"
      ],
      "text/plain": [
       "    area      isi sess ori  true_pos n_sample   val_acc  true_pos_train  \\\n",
       "0     LI   isi=6k   13   7      29.0       37  0.783784       30.216216   \n",
       "1     LI   isi=6k   13   6      19.0       36  0.527778       26.638889   \n",
       "2     LI   isi=6k   13   5      22.0       36  0.611111       28.416667   \n",
       "3     LI   isi=6k   13   3      24.0       36  0.666667       26.333333   \n",
       "4     LI   isi=6k   13   2      22.0       37  0.594595       27.891892   \n",
       "..   ...      ...  ...  ..       ...      ...       ...             ...   \n",
       "415   V1  isi=250    0   5      25.0       35  0.714286       30.114286   \n",
       "416   V1  isi=250    0   3      24.0       43  0.558140       35.255814   \n",
       "417   V1  isi=250    0   2      33.0       37  0.891892       33.945946   \n",
       "418   V1  isi=250    0   1      31.0       33  0.939394       30.454545   \n",
       "419   V1  isi=250    0   0      32.0       38  0.842105       33.394737   \n",
       "\n",
       "    n_sample_train  train_acc    C bad_fit  ori_dist_id  \n",
       "0               36   0.839339  0.1   False            1  \n",
       "1               35   0.761111  0.1   False            2  \n",
       "2               35   0.811905  0.1   False            3  \n",
       "3               35   0.752381  0.1   False            3  \n",
       "4               36   0.774775  0.1   False            2  \n",
       "..             ...        ...  ...     ...          ...  \n",
       "415             34   0.885714  0.1   False            3  \n",
       "416             42   0.839424  0.1   False            3  \n",
       "417             36   0.942943  0.1   False            2  \n",
       "418             32   0.951705  0.1   False            1  \n",
       "419             37   0.902560  0.1   False            0  \n",
       "\n",
       "[420 rows x 13 columns]"
      ]
     },
     "execution_count": 103,
     "metadata": {},
     "output_type": "execute_result"
    }
   ],
   "source": [
    "df_perf['ori_dist_id'] = df_perf.ori.apply(lambda x: stim2_dict[x])\n",
    "# df_perf.ori_dist_id.value_counts()\n",
    "df_perf"
   ]
  },
  {
   "cell_type": "markdown",
   "metadata": {},
   "source": [
    "### reg param C history"
   ]
  },
  {
   "cell_type": "code",
   "execution_count": 92,
   "metadata": {},
   "outputs": [
    {
     "data": {
      "text/plain": [
       "[2, 7, 411]"
      ]
     },
     "execution_count": 92,
     "metadata": {},
     "output_type": "execute_result"
    },
    {
     "data": {
      "image/png": "[encoded data removed]",
      "text/plain": [
       "<Figure size 640x480 with 1 Axes>"
      ]
     },
     "metadata": {},
     "output_type": "display_data"
    }
   ],
   "source": [
    "C_history = list(df_perf.C.values)\n",
    "plt.hist(C_history, bins=20);\n",
    "\n",
    "# count unique C values\n",
    "unique_C = np.unique(C_history)\n",
    "count_C = []\n",
    "for iC in unique_C:\n",
    "    count_C.append(C_history.count(iC))\n",
    "\n",
    "count_C"
   ]
  },
  {
   "cell_type": "markdown",
   "metadata": {},
   "source": [
    "## xp unaware decoder"
   ]
  },
  {
   "cell_type": "code",
   "execution_count": 138,
   "metadata": {},
   "outputs": [
    {
     "data": {
      "text/plain": [
       "(82, 45, 37)"
      ]
     },
     "execution_count": 138,
     "metadata": {},
     "output_type": "execute_result"
    }
   ],
   "source": [
    "score_val = cross_validate(clf, X_train, y_train, cv=LeaveOneOut(), return_train_score=True)\n",
    "score_val['test_score'][isi_arr==250], score_val['test_score'][isi_arr==6000]\n",
    "\n",
    "len(isi_arr), len(score_val['test_score'][isi_arr==250]), len(score_val['test_score'][isi_arr==6000]), "
   ]
  },
  {
   "cell_type": "code",
   "execution_count": 127,
   "metadata": {},
   "outputs": [
    {
     "name": "stderr",
     "output_type": "stream",
     "text": [
      "100%|██████████| 6/6 [00:15<00:00,  2.53s/it]\n",
      "100%|██████████| 6/6 [00:15<00:00,  2.52s/it]\n",
      "  9%|▉         | 2/22 [00:03<00:37,  1.87s/it]"
     ]
    },
    {
     "name": "stdout",
     "output_type": "stream",
     "text": [
      "bad sess due to low val acc on easy task: area=LM, sess=1\n"
     ]
    },
    {
     "name": "stderr",
     "output_type": "stream",
     "text": [
      " 55%|█████▍    | 12/22 [00:28<00:21,  2.17s/it]"
     ]
    },
    {
     "name": "stdout",
     "output_type": "stream",
     "text": [
      "bad sess due to low val acc on easy task: area=LM, sess=11\n"
     ]
    },
    {
     "name": "stderr",
     "output_type": "stream",
     "text": [
      " 73%|███████▎  | 16/22 [00:37<00:12,  2.10s/it]"
     ]
    },
    {
     "name": "stdout",
     "output_type": "stream",
     "text": [
      "bad sess due to low val acc on easy task: area=LM, sess=15\n"
     ]
    },
    {
     "name": "stderr",
     "output_type": "stream",
     "text": [
      " 77%|███████▋  | 17/22 [00:38<00:09,  1.87s/it]"
     ]
    },
    {
     "name": "stdout",
     "output_type": "stream",
     "text": [
      "bad sess due to low val acc on easy task: area=LM, sess=16\n"
     ]
    },
    {
     "name": "stderr",
     "output_type": "stream",
     "text": [
      "100%|██████████| 22/22 [01:04<00:00,  2.93s/it]\n",
      "  9%|▉         | 2/22 [00:03<00:37,  1.86s/it]"
     ]
    },
    {
     "name": "stdout",
     "output_type": "stream",
     "text": [
      "bad sess due to low val acc on easy task: area=LM, sess=1\n"
     ]
    },
    {
     "name": "stderr",
     "output_type": "stream",
     "text": [
      " 55%|█████▍    | 12/22 [00:28<00:21,  2.16s/it]"
     ]
    },
    {
     "name": "stdout",
     "output_type": "stream",
     "text": [
      "bad sess due to low val acc on easy task: area=LM, sess=11\n"
     ]
    },
    {
     "name": "stderr",
     "output_type": "stream",
     "text": [
      " 73%|███████▎  | 16/22 [00:37<00:12,  2.09s/it]"
     ]
    },
    {
     "name": "stdout",
     "output_type": "stream",
     "text": [
      "bad sess due to low val acc on easy task: area=LM, sess=15\n"
     ]
    },
    {
     "name": "stderr",
     "output_type": "stream",
     "text": [
      " 77%|███████▋  | 17/22 [00:38<00:09,  1.86s/it]"
     ]
    },
    {
     "name": "stdout",
     "output_type": "stream",
     "text": [
      "bad sess due to low val acc on easy task: area=LM, sess=16\n"
     ]
    },
    {
     "name": "stderr",
     "output_type": "stream",
     "text": [
      "100%|██████████| 22/22 [00:57<00:00,  2.61s/it]\n",
      " 20%|██        | 3/15 [00:06<00:23,  1.97s/it]"
     ]
    },
    {
     "name": "stdout",
     "output_type": "stream",
     "text": [
      "not enough vis cells: area=LI, sess=2\n"
     ]
    },
    {
     "name": "stderr",
     "output_type": "stream",
     "text": [
      " 27%|██▋       | 4/15 [00:07<00:18,  1.70s/it]"
     ]
    },
    {
     "name": "stdout",
     "output_type": "stream",
     "text": [
      "bad sess due to low val acc on easy task: area=LI, sess=3\n"
     ]
    },
    {
     "name": "stderr",
     "output_type": "stream",
     "text": [
      " 33%|███▎      | 5/15 [00:08<00:15,  1.55s/it]"
     ]
    },
    {
     "name": "stdout",
     "output_type": "stream",
     "text": [
      "not enough vis cells: area=LI, sess=4\n"
     ]
    },
    {
     "name": "stderr",
     "output_type": "stream",
     "text": [
      " 40%|████      | 6/15 [00:10<00:13,  1.47s/it]"
     ]
    },
    {
     "name": "stdout",
     "output_type": "stream",
     "text": [
      "not enough vis cells: area=LI, sess=5\n"
     ]
    },
    {
     "name": "stderr",
     "output_type": "stream",
     "text": [
      " 53%|█████▎    | 8/15 [00:14<00:11,  1.64s/it]"
     ]
    },
    {
     "name": "stdout",
     "output_type": "stream",
     "text": [
      "bad sess due to low val acc on easy task: area=LI, sess=7\n"
     ]
    },
    {
     "name": "stderr",
     "output_type": "stream",
     "text": [
      " 60%|██████    | 9/15 [00:15<00:09,  1.53s/it]"
     ]
    },
    {
     "name": "stdout",
     "output_type": "stream",
     "text": [
      "not enough vis cells: area=LI, sess=8\n"
     ]
    },
    {
     "name": "stderr",
     "output_type": "stream",
     "text": [
      " 67%|██████▋   | 10/15 [00:16<00:07,  1.45s/it]"
     ]
    },
    {
     "name": "stdout",
     "output_type": "stream",
     "text": [
      "not enough vis cells: area=LI, sess=9\n"
     ]
    },
    {
     "name": "stderr",
     "output_type": "stream",
     "text": [
      " 80%|████████  | 12/15 [00:20<00:04,  1.65s/it]"
     ]
    },
    {
     "name": "stdout",
     "output_type": "stream",
     "text": [
      "not enough vis cells: area=LI, sess=11\n"
     ]
    },
    {
     "name": "stderr",
     "output_type": "stream",
     "text": [
      "100%|██████████| 15/15 [00:27<00:00,  1.82s/it]\n"
     ]
    },
    {
     "name": "stdout",
     "output_type": "stream",
     "text": [
      "not enough vis cells: area=LI, sess=14\n"
     ]
    },
    {
     "name": "stderr",
     "output_type": "stream",
     "text": [
      " 20%|██        | 3/15 [00:06<00:23,  1.98s/it]"
     ]
    },
    {
     "name": "stdout",
     "output_type": "stream",
     "text": [
      "not enough vis cells: area=LI, sess=2\n"
     ]
    },
    {
     "name": "stderr",
     "output_type": "stream",
     "text": [
      " 27%|██▋       | 4/15 [00:07<00:18,  1.70s/it]"
     ]
    },
    {
     "name": "stdout",
     "output_type": "stream",
     "text": [
      "bad sess due to low val acc on easy task: area=LI, sess=3\n"
     ]
    },
    {
     "name": "stderr",
     "output_type": "stream",
     "text": [
      " 33%|███▎      | 5/15 [00:08<00:15,  1.55s/it]"
     ]
    },
    {
     "name": "stdout",
     "output_type": "stream",
     "text": [
      "not enough vis cells: area=LI, sess=4\n"
     ]
    },
    {
     "name": "stderr",
     "output_type": "stream",
     "text": [
      " 40%|████      | 6/15 [00:10<00:13,  1.47s/it]"
     ]
    },
    {
     "name": "stdout",
     "output_type": "stream",
     "text": [
      "not enough vis cells: area=LI, sess=5\n"
     ]
    },
    {
     "name": "stderr",
     "output_type": "stream",
     "text": [
      " 53%|█████▎    | 8/15 [00:14<00:11,  1.64s/it]"
     ]
    },
    {
     "name": "stdout",
     "output_type": "stream",
     "text": [
      "bad sess due to low val acc on easy task: area=LI, sess=7\n"
     ]
    },
    {
     "name": "stderr",
     "output_type": "stream",
     "text": [
      " 60%|██████    | 9/15 [00:15<00:09,  1.53s/it]"
     ]
    },
    {
     "name": "stdout",
     "output_type": "stream",
     "text": [
      "not enough vis cells: area=LI, sess=8\n"
     ]
    },
    {
     "name": "stderr",
     "output_type": "stream",
     "text": [
      " 67%|██████▋   | 10/15 [00:16<00:07,  1.44s/it]"
     ]
    },
    {
     "name": "stdout",
     "output_type": "stream",
     "text": [
      "not enough vis cells: area=LI, sess=9\n"
     ]
    },
    {
     "name": "stderr",
     "output_type": "stream",
     "text": [
      " 80%|████████  | 12/15 [00:20<00:04,  1.65s/it]"
     ]
    },
    {
     "name": "stdout",
     "output_type": "stream",
     "text": [
      "not enough vis cells: area=LI, sess=11\n"
     ]
    },
    {
     "name": "stderr",
     "output_type": "stream",
     "text": [
      "100%|██████████| 15/15 [00:27<00:00,  1.82s/it]"
     ]
    },
    {
     "name": "stdout",
     "output_type": "stream",
     "text": [
      "not enough vis cells: area=LI, sess=14\n"
     ]
    },
    {
     "name": "stderr",
     "output_type": "stream",
     "text": [
      "\n"
     ]
    }
   ],
   "source": [
    "tmp = df_tidy.stim2_id.unique()\n",
    "ref_ori_id = 4 # decode which ori vs others. 0=0 deg, 4=90 deg, etc\n",
    "other_ori = sorted(tmp[tmp != ref_ori_id]) # decode ref vs not ref\n",
    "\n",
    "decode_res_areas = []\n",
    "df_perf = pd.DataFrame(columns=['area', 'isi', 'sess', 'ori', \n",
    "                                'true_pos', 'n_sample', 'val_acc', # three var for val acc\n",
    "                                'true_pos_train', 'n_sample_train', 'train_acc', # three var for train acc\n",
    "                                'C', 'bad_fit'])\n",
    "\n",
    "for iarea in ['V1', 'LM', 'LI']:\n",
    "    true_pos_isi = []\n",
    "    n_sample_isi = []\n",
    "\n",
    "    C_init = 0.1\n",
    "    if iarea == 'LI':\n",
    "        C_init = 1 # less reg for LI bc fewer cells\n",
    "\n",
    "    for use_data in ['isi=250', 'isi=6k']:\n",
    "        true_pos_ori = np.zeros(len(other_ori) + 1) # true positive across ori pairs. leave a blank for ref ori\n",
    "        n_sample_ori = np.zeros(len(other_ori) + 1)\n",
    "        nsess_iarea = (df_tidy[(df_tidy.area == iarea) \n",
    "                            & (df_tidy.filter_cell_vis == True)] # some LI sessions have no vis cell\n",
    "                        .groupby(['date', 'sess'])\n",
    "                        .first().__len__())\n",
    "        \n",
    "        for isess in tqdm(range(nsess_iarea)):\n",
    "            df_svc = get_df_svc(df_tidy, iarea=iarea, idatesess=isess, \n",
    "                                ncell_keep=ncell_keep, filter_cell='SNR_R1_mod')\n",
    "            if df_svc.cell_id.nunique() < 5:\n",
    "                print(f'not enough vis cells: area={iarea}, sess={isess}')\n",
    "                continue\n",
    "            tmp = (df_svc.date.unique() + '_' + df_svc.sess.unique())[0]\n",
    "            if tmp in bad_sess_history: # for xp unaware decoder, inherit bad sess from aware decoder\n",
    "                print(f'bad sess due to low val acc on easy task: area={iarea}, sess={isess}')\n",
    "                continue\n",
    "\n",
    "            for iori in (other_ori):\n",
    "                df_pair = df_svc[((df_svc.stim2_id == ref_ori_id) | (df_svc.stim2_id == iori))]\n",
    "                X_train, y_train, _, _ = df_to_train_test(df_pair, ref_ori_id, train_only=True)\n",
    "\n",
    "                C_current = C_init # reset C_current, then find optimal C for this area-isi-sess-ori\n",
    "                niter = 0\n",
    "                while niter < 4: # limit number of iteration to avoid infinite loop (can't believe I didn't foresee this)\n",
    "                    clf = make_pipeline(StandardScaler(),\n",
    "                                        LinearSVC(tol=1e-5, max_iter=int(1e7), \n",
    "                                                penalty='l1', dual='auto', C=C_current))\n",
    "\n",
    "                    score_val = cross_validate(clf, X_train, y_train, cv=LeaveOneOut(), return_train_score=True)\n",
    "\n",
    "                    ## LeaveOneOut() keeps the order of train data. inherit ISI info from df_to_train_test(df_pair...) & separately calculate acc for each ISI\n",
    "                    isi_arr = df_pair.groupby('trial_id').isi.first().values # same as how we get label_arr (y_train) in df_to_train_test\n",
    "                    if use_data == 'isi=250':\n",
    "                        score_val['train_score'] = score_val['train_score'][isi_arr==250]\n",
    "                        score_val['test_score'] = score_val['test_score'][isi_arr==250]\n",
    "                    elif use_data == 'isi=6k':\n",
    "                        score_val['train_score'] = score_val['train_score'][isi_arr==6000]\n",
    "                        score_val['test_score'] = score_val['test_score'][isi_arr==6000]\n",
    "\n",
    "                    if np.mean(score_val['train_score']) - np.std(score_val['train_score']) <= 0.5: # lower err of train acc is too low, underfit\n",
    "                        C_current *= 2\n",
    "                        niter += 1\n",
    "                        print(f'train acc underfit: area={iarea}, sess={isess}, isi={use_data}, ori={iori}')\n",
    "                    elif np.mean(score_val['train_score']) >= 1: # train acc is too high, overfit. dont consider err\n",
    "                        C_current /= 2\n",
    "                        niter += 1\n",
    "                        print(f'train acc overfit: area={iarea}, sess={isess}, isi={use_data}, ori={iori}')\n",
    "                    else:\n",
    "                        break # record res, stop searching for C\n",
    "\n",
    "                ## outside of while loop, record res\n",
    "                true_pos = score_val['test_score'].sum()\n",
    "                n_sample = len(score_val['test_score'])\n",
    "                n_sample_train = n_sample - 1 # leave one out (LOO), note this is train set size for each isi (not the whole train set, which the model is trained on)\n",
    "                true_pos_train = score_val['train_score'].mean() * n_sample_train # avg train acc across LOO attempts\n",
    "                true_pos_ori[iori] += true_pos\n",
    "                n_sample_ori[iori] += n_sample\n",
    "\n",
    "                bad_fit = False\n",
    "                if niter == 4: # too many tries, this is a bad fit\n",
    "                    print(f'unable to fit: area={iarea}, sess={isess}, isi={use_data}, ori={iori}, C={C_current}')\n",
    "                    bad_fit = True\n",
    "\n",
    "                df_newline = pd.DataFrame({'area': iarea, 'isi': use_data, 'sess': isess, 'ori': iori,\n",
    "                                            'true_pos': true_pos, 'n_sample': n_sample, \n",
    "                                            'val_acc': np.mean(score_val['test_score']), \n",
    "                                            'true_pos_train': true_pos_train, 'n_sample_train': n_sample_train, \n",
    "                                            'train_acc': np.mean(score_val['train_score']),\n",
    "                                            'C': C_current, 'bad_fit': bad_fit}, \n",
    "                                            columns=df_perf.columns, \n",
    "                                            index=[0])\n",
    "                df_perf = pd.concat([df_newline, df_perf], ignore_index=True)\n",
    "                \n",
    "        \n",
    "        true_pos_isi.append(true_pos_ori)\n",
    "        n_sample_isi.append(n_sample_ori)\n",
    "    decode_res_areas.append([true_pos_isi, n_sample_isi])\n",
    "## 3 min to run"
   ]
  },
  {
   "cell_type": "code",
   "execution_count": 128,
   "metadata": {},
   "outputs": [
    {
     "data": {
      "text/html": [
       "<div>\n",
       "<style scoped>\n",
       "    .dataframe tbody tr th:only-of-type {\n",
       "        vertical-align: middle;\n",
       "    }\n",
       "\n",
       "    .dataframe tbody tr th {\n",
       "        vertical-align: top;\n",
       "    }\n",
       "\n",
       "    .dataframe thead th {\n",
       "        text-align: right;\n",
       "    }\n",
       "</style>\n",
       "<table border=\"1\" class=\"dataframe\">\n",
       "  <thead>\n",
       "    <tr style=\"text-align: right;\">\n",
       "      <th></th>\n",
       "      <th>area</th>\n",
       "      <th>isi</th>\n",
       "      <th>sess</th>\n",
       "      <th>ori</th>\n",
       "      <th>true_pos</th>\n",
       "      <th>n_sample</th>\n",
       "      <th>val_acc</th>\n",
       "      <th>true_pos_train</th>\n",
       "      <th>n_sample_train</th>\n",
       "      <th>train_acc</th>\n",
       "      <th>C</th>\n",
       "      <th>bad_fit</th>\n",
       "      <th>ori_dist_id</th>\n",
       "    </tr>\n",
       "  </thead>\n",
       "  <tbody>\n",
       "    <tr>\n",
       "      <th>0</th>\n",
       "      <td>LI</td>\n",
       "      <td>isi=6k</td>\n",
       "      <td>13</td>\n",
       "      <td>7</td>\n",
       "      <td>28.0</td>\n",
       "      <td>37</td>\n",
       "      <td>0.756757</td>\n",
       "      <td>32.036036</td>\n",
       "      <td>36</td>\n",
       "      <td>0.889890</td>\n",
       "      <td>1.0</td>\n",
       "      <td>False</td>\n",
       "      <td>1</td>\n",
       "    </tr>\n",
       "    <tr>\n",
       "      <th>1</th>\n",
       "      <td>LI</td>\n",
       "      <td>isi=6k</td>\n",
       "      <td>13</td>\n",
       "      <td>6</td>\n",
       "      <td>25.0</td>\n",
       "      <td>36</td>\n",
       "      <td>0.694444</td>\n",
       "      <td>27.855297</td>\n",
       "      <td>35</td>\n",
       "      <td>0.795866</td>\n",
       "      <td>1.0</td>\n",
       "      <td>False</td>\n",
       "      <td>2</td>\n",
       "    </tr>\n",
       "    <tr>\n",
       "      <th>2</th>\n",
       "      <td>LI</td>\n",
       "      <td>isi=6k</td>\n",
       "      <td>13</td>\n",
       "      <td>5</td>\n",
       "      <td>23.0</td>\n",
       "      <td>36</td>\n",
       "      <td>0.638889</td>\n",
       "      <td>26.361750</td>\n",
       "      <td>35</td>\n",
       "      <td>0.753193</td>\n",
       "      <td>1.0</td>\n",
       "      <td>False</td>\n",
       "      <td>3</td>\n",
       "    </tr>\n",
       "    <tr>\n",
       "      <th>3</th>\n",
       "      <td>LI</td>\n",
       "      <td>isi=6k</td>\n",
       "      <td>13</td>\n",
       "      <td>3</td>\n",
       "      <td>20.0</td>\n",
       "      <td>36</td>\n",
       "      <td>0.555556</td>\n",
       "      <td>23.942436</td>\n",
       "      <td>35</td>\n",
       "      <td>0.684070</td>\n",
       "      <td>1.0</td>\n",
       "      <td>False</td>\n",
       "      <td>3</td>\n",
       "    </tr>\n",
       "    <tr>\n",
       "      <th>4</th>\n",
       "      <td>LI</td>\n",
       "      <td>isi=6k</td>\n",
       "      <td>13</td>\n",
       "      <td>2</td>\n",
       "      <td>21.0</td>\n",
       "      <td>37</td>\n",
       "      <td>0.567568</td>\n",
       "      <td>26.525676</td>\n",
       "      <td>36</td>\n",
       "      <td>0.736824</td>\n",
       "      <td>1.0</td>\n",
       "      <td>False</td>\n",
       "      <td>2</td>\n",
       "    </tr>\n",
       "    <tr>\n",
       "      <th>...</th>\n",
       "      <td>...</td>\n",
       "      <td>...</td>\n",
       "      <td>...</td>\n",
       "      <td>...</td>\n",
       "      <td>...</td>\n",
       "      <td>...</td>\n",
       "      <td>...</td>\n",
       "      <td>...</td>\n",
       "      <td>...</td>\n",
       "      <td>...</td>\n",
       "      <td>...</td>\n",
       "      <td>...</td>\n",
       "      <td>...</td>\n",
       "    </tr>\n",
       "    <tr>\n",
       "      <th>415</th>\n",
       "      <td>V1</td>\n",
       "      <td>isi=250</td>\n",
       "      <td>0</td>\n",
       "      <td>5</td>\n",
       "      <td>21.0</td>\n",
       "      <td>35</td>\n",
       "      <td>0.600000</td>\n",
       "      <td>27.505306</td>\n",
       "      <td>34</td>\n",
       "      <td>0.808980</td>\n",
       "      <td>0.1</td>\n",
       "      <td>False</td>\n",
       "      <td>3</td>\n",
       "    </tr>\n",
       "    <tr>\n",
       "      <th>416</th>\n",
       "      <td>V1</td>\n",
       "      <td>isi=250</td>\n",
       "      <td>0</td>\n",
       "      <td>3</td>\n",
       "      <td>32.0</td>\n",
       "      <td>43</td>\n",
       "      <td>0.744186</td>\n",
       "      <td>34.273703</td>\n",
       "      <td>42</td>\n",
       "      <td>0.816041</td>\n",
       "      <td>0.1</td>\n",
       "      <td>False</td>\n",
       "      <td>3</td>\n",
       "    </tr>\n",
       "    <tr>\n",
       "      <th>417</th>\n",
       "      <td>V1</td>\n",
       "      <td>isi=250</td>\n",
       "      <td>0</td>\n",
       "      <td>2</td>\n",
       "      <td>33.0</td>\n",
       "      <td>37</td>\n",
       "      <td>0.891892</td>\n",
       "      <td>34.081081</td>\n",
       "      <td>36</td>\n",
       "      <td>0.946697</td>\n",
       "      <td>0.1</td>\n",
       "      <td>False</td>\n",
       "      <td>2</td>\n",
       "    </tr>\n",
       "    <tr>\n",
       "      <th>418</th>\n",
       "      <td>V1</td>\n",
       "      <td>isi=250</td>\n",
       "      <td>0</td>\n",
       "      <td>1</td>\n",
       "      <td>31.0</td>\n",
       "      <td>33</td>\n",
       "      <td>0.939394</td>\n",
       "      <td>30.118498</td>\n",
       "      <td>32</td>\n",
       "      <td>0.941203</td>\n",
       "      <td>0.1</td>\n",
       "      <td>False</td>\n",
       "      <td>1</td>\n",
       "    </tr>\n",
       "    <tr>\n",
       "      <th>419</th>\n",
       "      <td>V1</td>\n",
       "      <td>isi=250</td>\n",
       "      <td>0</td>\n",
       "      <td>0</td>\n",
       "      <td>34.0</td>\n",
       "      <td>38</td>\n",
       "      <td>0.894737</td>\n",
       "      <td>34.879236</td>\n",
       "      <td>37</td>\n",
       "      <td>0.942682</td>\n",
       "      <td>0.1</td>\n",
       "      <td>False</td>\n",
       "      <td>0</td>\n",
       "    </tr>\n",
       "  </tbody>\n",
       "</table>\n",
       "<p>420 rows × 13 columns</p>\n",
       "</div>"
      ],
      "text/plain": [
       "    area      isi sess ori  true_pos n_sample   val_acc  true_pos_train  \\\n",
       "0     LI   isi=6k   13   7      28.0       37  0.756757       32.036036   \n",
       "1     LI   isi=6k   13   6      25.0       36  0.694444       27.855297   \n",
       "2     LI   isi=6k   13   5      23.0       36  0.638889       26.361750   \n",
       "3     LI   isi=6k   13   3      20.0       36  0.555556       23.942436   \n",
       "4     LI   isi=6k   13   2      21.0       37  0.567568       26.525676   \n",
       "..   ...      ...  ...  ..       ...      ...       ...             ...   \n",
       "415   V1  isi=250    0   5      21.0       35  0.600000       27.505306   \n",
       "416   V1  isi=250    0   3      32.0       43  0.744186       34.273703   \n",
       "417   V1  isi=250    0   2      33.0       37  0.891892       34.081081   \n",
       "418   V1  isi=250    0   1      31.0       33  0.939394       30.118498   \n",
       "419   V1  isi=250    0   0      34.0       38  0.894737       34.879236   \n",
       "\n",
       "    n_sample_train  train_acc    C bad_fit  ori_dist_id  \n",
       "0               36   0.889890  1.0   False            1  \n",
       "1               35   0.795866  1.0   False            2  \n",
       "2               35   0.753193  1.0   False            3  \n",
       "3               35   0.684070  1.0   False            3  \n",
       "4               36   0.736824  1.0   False            2  \n",
       "..             ...        ...  ...     ...          ...  \n",
       "415             34   0.808980  0.1   False            3  \n",
       "416             42   0.816041  0.1   False            3  \n",
       "417             36   0.946697  0.1   False            2  \n",
       "418             32   0.941203  0.1   False            1  \n",
       "419             37   0.942682  0.1   False            0  \n",
       "\n",
       "[420 rows x 13 columns]"
      ]
     },
     "execution_count": 128,
     "metadata": {},
     "output_type": "execute_result"
    }
   ],
   "source": [
    "df_perf['ori_dist_id'] = df_perf.ori.apply(lambda x: stim2_dict[x])\n",
    "df_perf"
   ]
  },
  {
   "cell_type": "markdown",
   "metadata": {},
   "source": [
    "### reg param C history"
   ]
  },
  {
   "cell_type": "code",
   "execution_count": 129,
   "metadata": {},
   "outputs": [
    {
     "data": {
      "text/plain": [
       "[336, 84]"
      ]
     },
     "execution_count": 129,
     "metadata": {},
     "output_type": "execute_result"
    },
    {
     "data": {
      "image/png": "[encoded data removed]",
      "text/plain": [
       "<Figure size 640x480 with 1 Axes>"
      ]
     },
     "metadata": {},
     "output_type": "display_data"
    }
   ],
   "source": [
    "C_history = list(df_perf.C.values)\n",
    "plt.hist(C_history, bins=20);\n",
    "\n",
    "# count unique C values\n",
    "unique_C = np.unique(C_history)\n",
    "count_C = []\n",
    "for iC in unique_C:\n",
    "    count_C.append(C_history.count(iC))\n",
    "\n",
    "count_C"
   ]
  },
  {
   "attachments": {},
   "cell_type": "markdown",
   "metadata": {},
   "source": [
    "## decoder perf across area & isi"
   ]
  },
  {
   "cell_type": "markdown",
   "metadata": {},
   "source": [
    "### errorbar as binomial CI"
   ]
  },
  {
   "cell_type": "code",
   "execution_count": 139,
   "metadata": {},
   "outputs": [
    {
     "data": {
      "image/png": "[encoded data removed]",
      "text/plain": [
       "<Figure size 1000x400 with 3 Axes>"
      ]
     },
     "metadata": {},
     "output_type": "display_data"
    }
   ],
   "source": [
    "plot_perf = 'val'\n",
    "\n",
    "if plot_perf == 'val':\n",
    "    tmp = df_perf.groupby(['area', 'isi', 'ori_dist_id'])[['true_pos', 'n_sample']].sum().reset_index()\n",
    "    tmp['acc'] = tmp.true_pos / tmp.n_sample\n",
    "    tmp['ci'] = tmp.apply(lambda x: proportion_confint(count=x.true_pos, nobs=x.n_sample), axis=1)\n",
    "    tmp['err'] = tmp.apply(lambda x: (x.ci[1] - x.ci[0]) / 2, axis=1)\n",
    "\n",
    "elif plot_perf == 'train':\n",
    "    tmp = df_perf.groupby(['area', 'isi', 'ori_dist_id'])[['true_pos_train', 'n_sample_train']].sum().reset_index()\n",
    "    tmp['acc'] = tmp.true_pos_train / tmp.n_sample_train\n",
    "    tmp['ci'] = tmp.apply(lambda x: proportion_confint(count=x.true_pos_train, nobs=x.n_sample_train), axis=1)\n",
    "    tmp['err'] = tmp.apply(lambda x: (x.ci[1] - x.ci[0]) / 2, axis=1)\n",
    "\n",
    "\n",
    "fig, ax = plt.subplots(1, 3, figsize=(10, 4), sharex=True, sharey=True)\n",
    "for (i, iarea) in enumerate(['V1', 'LM', 'LI']):\n",
    "    for (j, iisi) in enumerate(['isi=250', 'isi=6k']):\n",
    "        \n",
    "        tmp1 = tmp[(tmp.area == iarea) & (tmp.isi == iisi)].acc.values\n",
    "        tmp2 = tmp[(tmp.area == iarea) & (tmp.isi == iisi)].err.values\n",
    "        \n",
    "        ax[i].errorbar(x=np.arange(len(tmp1)) + j*0.1, \n",
    "                    y=tmp1, \n",
    "                    yerr=tmp2, \n",
    "                    label=iisi, fmt='o', alpha=0.5);\n",
    "\n",
    "    ax[i].set_ylim(0.5, 1);\n",
    "    ax[i].set_xticks(np.arange(len(tmp1)));\n",
    "    ax[i].set_xticklabels(['90', '67.5', '45', '22.5']);\n",
    "    ax[i].set_xlabel('distance from ref ori (deg)')\n",
    "    ax[i].set_ylabel('perf')\n",
    "    ax[0].legend(frameon=False, loc='lower left');\n",
    "    ax[i].set_title(iarea);\n",
    "    \n",
    "plt.suptitle(f'err=binom, {plot_perf} acc')\n",
    "plt.tight_layout();\n",
    "dir_fig = os.path.join(dir_repo, r'results\\decoder_grat8\\aware decoder/'.replace('\\\\', '/'))\n",
    "# fig.savefig(dir_fig + '.pdf', bbox_inches='tight')"
   ]
  },
  {
   "cell_type": "markdown",
   "metadata": {},
   "source": [
    "### errorbar as sem\n",
    "error bar: not accumulated pos vs total, but median & sem acc across sets?"
   ]
  },
  {
   "cell_type": "code",
   "execution_count": 140,
   "metadata": {},
   "outputs": [
    {
     "data": {
      "image/png": "[encoded data removed]",
      "text/plain": [
       "<Figure size 1000x400 with 3 Axes>"
      ]
     },
     "metadata": {},
     "output_type": "display_data"
    }
   ],
   "source": [
    "## folded version: pair up by ori_dist from ref or from adapter (they are the same pairing)\n",
    "\n",
    "plot_perf = 'val'\n",
    "\n",
    "if plot_perf == 'val':\n",
    "    sets_agg = df_perf.groupby(['area', 'isi', 'ori_dist_id']).val_acc.median().to_frame().reset_index()\n",
    "    sets_err = df_perf.groupby(['area', 'isi', 'ori_dist_id']).val_acc.sem().to_frame().reset_index()\n",
    "\n",
    "elif plot_perf == 'train':\n",
    "    sets_agg = df_perf.groupby(['area', 'isi', 'ori_dist_id']).train_acc.median().to_frame().reset_index()\n",
    "    sets_err = df_perf.groupby(['area', 'isi', 'ori_dist_id']).train_acc.sem().to_frame().reset_index()\n",
    "\n",
    "\n",
    "\n",
    "# warnings.filterwarnings('ignore') # suppress RuntimeWarning: invalid value encountered in true_divide\n",
    "fig, ax = plt.subplots(1, 3, figsize=(10, 4), sharex=True, sharey=True)\n",
    "\n",
    "for (i, iarea) in enumerate(['V1', 'LM', 'LI']):\n",
    "    for (j, iisi) in enumerate(['isi=250', 'isi=6k']):\n",
    "        \n",
    "        if plot_perf == 'val':\n",
    "            tmp1 = sets_agg[(sets_agg.area == iarea) & (sets_agg.isi == iisi)].val_acc.values\n",
    "            tmp2 = sets_err[(sets_err.area == iarea) & (sets_err.isi == iisi)].val_acc.values\n",
    "        elif plot_perf == 'train':\n",
    "            tmp1 = sets_agg[(sets_agg.area == iarea) & (sets_agg.isi == iisi)].train_acc.values\n",
    "            tmp2 = sets_err[(sets_err.area == iarea) & (sets_err.isi == iisi)].train_acc.values\n",
    "        \n",
    "        ax[i].errorbar(x=np.arange(len(tmp1)) + j*0.1, \n",
    "                    y=tmp1, \n",
    "                    yerr=tmp2, \n",
    "                    label=iisi, fmt='o', alpha=0.5);\n",
    "\n",
    "    ax[i].set_ylim(0.5, 1);\n",
    "    ax[i].set_xticks(np.arange(len(tmp1)));\n",
    "    ax[i].set_xticklabels(['90', '67.5', '45', '22.5']);\n",
    "    ax[i].set_xlabel('distance from ref ori (deg)')\n",
    "    ax[i].set_ylabel('perf')\n",
    "    ax[0].legend(frameon=False, loc='lower left');\n",
    "    ax[i].set_title(iarea);\n",
    "    \n",
    "plt.suptitle(f'err=sem, {plot_perf} acc')\n",
    "plt.tight_layout();\n",
    "dir_fig = os.path.join(dir_repo, r'results\\decoder_grat8\\aware decoder/'.replace('\\\\', '/'))\n",
    "# fig.savefig(dir_fig + '.pdf', bbox_inches='tight')"
   ]
  }
 ],
 "metadata": {
  "kernelspec": {
   "display_name": "Python 3",
   "language": "python",
   "name": "python3"
  },
  "language_info": {
   "codemirror_mode": {
    "name": "ipython",
    "version": 3
   },
   "file_extension": ".py",
   "mimetype": "text/x-python",
   "name": "python",
   "nbconvert_exporter": "python",
   "pygments_lexer": "ipython3",
   "version": "3.11.5"
  },
  "orig_nbformat": 4
 },
 "nbformat": 4,
 "nbformat_minor": 2
}
