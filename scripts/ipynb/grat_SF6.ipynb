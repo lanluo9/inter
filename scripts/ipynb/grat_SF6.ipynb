{
 "cells": [
  {
   "attachments": {},
   "cell_type": "markdown",
   "metadata": {},
   "source": [
    "# load"
   ]
  },
  {
   "cell_type": "code",
   "execution_count": 221,
   "metadata": {},
   "outputs": [
    {
     "name": "stdout",
     "output_type": "stream",
     "text": [
      "The autoreload extension is already loaded. To reload it, use:\n",
      "  %reload_ext autoreload\n"
     ]
    }
   ],
   "source": [
    "import numpy as np\n",
    "import pandas as pd\n",
    "import seaborn as sns\n",
    "import matplotlib.pyplot as plt\n",
    "%matplotlib inline\n",
    "\n",
    "import scipy.io as sio\n",
    "from tqdm import tqdm\n",
    "import os\n",
    "import pickle\n",
    "%load_ext autoreload\n",
    "%autoreload 2"
   ]
  },
  {
   "cell_type": "code",
   "execution_count": 222,
   "metadata": {},
   "outputs": [
    {
     "name": "stdout",
     "output_type": "stream",
     "text": [
      "ncell: 91, nstim: 6, ntrial: 1012, nframe: 197\n"
     ]
    }
   ],
   "source": [
    "local_flag = False\n",
    "if local_flag:\n",
    "    repo_dir = r'D:\\repo\\inter_data\\inter'.replace(\"\\\\\", \"/\") # under env dimred\n",
    "else:\n",
    "    repo_dir = r'C:\\Users\\ll357\\Documents\\inter'.replace(\"\\\\\", \"/\")\n",
    "os.chdir(repo_dir)\n",
    "from src import adp\n",
    "\n",
    "dir_data = r'\\\\duhs-user-nc1.dhe.duke.edu\\dusom_glickfeldlab\\All_Staff\\home\\lan\\Data\\2P_images\\mat_inter\\V1_i1375_230103_cellpose/'\n",
    "stim_id, trace_by_trial = adp.load_trace_trial_data(os.path.join(dir_data), vis_filter=False)"
   ]
  },
  {
   "cell_type": "code",
   "execution_count": 223,
   "metadata": {},
   "outputs": [
    {
     "name": "stdout",
     "output_type": "stream",
     "text": [
      "trace_cell_avg: (197,).         trace_stim_avg list len: 6.         trace_stim_avg[0].shape: (197,)\n"
     ]
    },
    {
     "data": {
      "image/png": "[encoded data removed]",
      "text/plain": [
       "<Figure size 720x360 with 1 Axes>"
      ]
     },
     "metadata": {
      "needs_background": "light"
     },
     "output_type": "display_data"
    }
   ],
   "source": [
    "trace_avg_cell, trace_cell_sem, trace_stim_avg = adp.calc_trace_stim(trace_by_trial, stim_id)\n",
    "\n",
    "fig, ax = plt.subplots(figsize=(10, 5))\n",
    "plt.plot(trace_avg_cell[:50], alpha=0.7, linewidth=3)\n",
    "ax.axvspan(9,11, alpha=0.2, color='red')\n",
    "ax.axvspan(13,14, alpha=0.2, color='gray')\n",
    "ax.axvspan(20,22, alpha=0.2, color='red')\n",
    "plt.xlim(0, 50);"
   ]
  },
  {
   "cell_type": "code",
   "execution_count": 224,
   "metadata": {},
   "outputs": [
    {
     "data": {
      "text/plain": [
       "((91, 1012), (91, 1012))"
      ]
     },
     "execution_count": 224,
     "metadata": {},
     "output_type": "execute_result"
    }
   ],
   "source": [
    "# get resp_ad and resp_tg [cell x trial]\n",
    "\n",
    "base1 = trace_by_trial[:,:,0:2+1].mean(axis=2) # avg over time window frames\n",
    "resp_ad = trace_by_trial[:,:,9:11+1].mean(axis=2)\n",
    "resp_ad = resp_ad - base1\n",
    "\n",
    "base2 = trace_by_trial[:,:,13:14+1].mean(axis=2)\n",
    "resp_tg = trace_by_trial[:,:,20:22+1].mean(axis=2)\n",
    "resp_tg = resp_tg - base2\n",
    "\n",
    "resp_ad.shape, resp_tg.shape"
   ]
  },
  {
   "attachments": {},
   "cell_type": "markdown",
   "metadata": {},
   "source": [
    "# tidy data"
   ]
  },
  {
   "cell_type": "code",
   "execution_count": 225,
   "metadata": {},
   "outputs": [
    {
     "data": {
      "text/html": [
       "<div>\n",
       "<style scoped>\n",
       "    .dataframe tbody tr th:only-of-type {\n",
       "        vertical-align: middle;\n",
       "    }\n",
       "\n",
       "    .dataframe tbody tr th {\n",
       "        vertical-align: top;\n",
       "    }\n",
       "\n",
       "    .dataframe thead th {\n",
       "        text-align: right;\n",
       "    }\n",
       "</style>\n",
       "<table border=\"1\" class=\"dataframe\">\n",
       "  <thead>\n",
       "    <tr style=\"text-align: right;\">\n",
       "      <th></th>\n",
       "      <th>dfof</th>\n",
       "      <th>cell_id</th>\n",
       "      <th>trial_id</th>\n",
       "      <th>stim_id</th>\n",
       "      <th>resp_id</th>\n",
       "    </tr>\n",
       "  </thead>\n",
       "  <tbody>\n",
       "    <tr>\n",
       "      <th>184179</th>\n",
       "      <td>0.090027</td>\n",
       "      <td>90</td>\n",
       "      <td>1007</td>\n",
       "      <td>4</td>\n",
       "      <td>R2</td>\n",
       "    </tr>\n",
       "    <tr>\n",
       "      <th>184180</th>\n",
       "      <td>-0.002115</td>\n",
       "      <td>90</td>\n",
       "      <td>1008</td>\n",
       "      <td>1</td>\n",
       "      <td>R2</td>\n",
       "    </tr>\n",
       "    <tr>\n",
       "      <th>184181</th>\n",
       "      <td>0.044474</td>\n",
       "      <td>90</td>\n",
       "      <td>1009</td>\n",
       "      <td>3</td>\n",
       "      <td>R2</td>\n",
       "    </tr>\n",
       "    <tr>\n",
       "      <th>184182</th>\n",
       "      <td>-0.064555</td>\n",
       "      <td>90</td>\n",
       "      <td>1010</td>\n",
       "      <td>1</td>\n",
       "      <td>R2</td>\n",
       "    </tr>\n",
       "    <tr>\n",
       "      <th>184183</th>\n",
       "      <td>0.029093</td>\n",
       "      <td>90</td>\n",
       "      <td>1011</td>\n",
       "      <td>0</td>\n",
       "      <td>R2</td>\n",
       "    </tr>\n",
       "  </tbody>\n",
       "</table>\n",
       "</div>"
      ],
      "text/plain": [
       "            dfof  cell_id  trial_id  stim_id resp_id\n",
       "184179  0.090027       90      1007        4      R2\n",
       "184180 -0.002115       90      1008        1      R2\n",
       "184181  0.044474       90      1009        3      R2\n",
       "184182 -0.064555       90      1010        1      R2\n",
       "184183  0.029093       90      1011        0      R2"
      ]
     },
     "execution_count": 225,
     "metadata": {},
     "output_type": "execute_result"
    }
   ],
   "source": [
    "R1_dfof = resp_ad.flatten() # cell x trial, row major flatten\n",
    "R2_dfof = resp_tg.flatten()\n",
    "dfof = np.hstack((R1_dfof, R2_dfof))\n",
    "\n",
    "ncell = resp_ad.shape[0]\n",
    "ntrial = resp_ad.shape[1]\n",
    "cell_id = np.repeat(np.arange(ncell), ntrial)\n",
    "cell_id = np.hstack((cell_id, cell_id)) # stack two copies for R1 and R2\n",
    "\n",
    "trial_id = np.tile(np.arange(ntrial), ncell)\n",
    "trial_id = np.hstack((trial_id, trial_id))\n",
    "\n",
    "stim_id_col = np.tile(stim_id[0], ncell)\n",
    "stim_id_col = np.hstack((stim_id_col, stim_id_col))\n",
    "stim_id_col = stim_id_col - 1 # stim id adjusted to 0-based index\n",
    "\n",
    "len_df = ncell * ntrial * 2 # 2 for (R1, R2)\n",
    "resp_id = ['R1'] * (len_df//2) + ['R2'] * (len_df//2) # first half is flattened resp_ad, second half is flattened resp_tg\n",
    "\n",
    "# construct dataframe\n",
    "df_tidy = pd.DataFrame({'dfof': dfof, 'cell_id': cell_id, 'trial_id': trial_id, 'stim_id': stim_id_col, 'resp_id': resp_id})\n",
    "df_tidy.tail(5)\n",
    "# TODO: when we need to concat across experiments, can add col for mouse, date, area, session"
   ]
  },
  {
   "attachments": {},
   "cell_type": "markdown",
   "metadata": {},
   "source": [
    "# trial filter"
   ]
  },
  {
   "cell_type": "code",
   "execution_count": 226,
   "metadata": {},
   "outputs": [],
   "source": [
    "trial_filter_file = [f for f in os.listdir(dir_data) if f.__contains__('filter_trials_')]\n",
    "\n",
    "trial_ok = np.array([])\n",
    "for file in trial_filter_file:\n",
    "    trial_filter = sio.loadmat(os.path.join(dir_data, file))\n",
    "    trial_eye_ok = trial_filter['trial_eye_ok']\n",
    "    trial_eye_ok = np.array([i[0] for i in trial_eye_ok], dtype=bool)\n",
    "    trial_speed_ok = trial_filter['trial_speed_ok']\n",
    "    trial_speed_ok = np.array([i[0] for i in trial_speed_ok], dtype=bool)\n",
    "    trial_ok_sess = trial_eye_ok & trial_speed_ok\n",
    "    trial_ok_sess = trial_ok_sess[:-1] # remove the last trial, which is not a full trial\n",
    "    trial_ok = np.append(trial_ok, trial_ok_sess)\n",
    "\n",
    "trial_ok = np.array(trial_ok, dtype=bool)\n",
    "assert len(trial_ok) == trace_by_trial.shape[1]\n",
    "# sum(trial_ok), len(trial_ok)\n",
    "\n",
    "filter_trial = np.tile(trial_ok, ncell)\n",
    "filter_trial = np.hstack((filter_trial, filter_trial))\n",
    "df_tidy['filter_trial'] = filter_trial"
   ]
  },
  {
   "cell_type": "code",
   "execution_count": 314,
   "metadata": {},
   "outputs": [
    {
     "data": {
      "text/plain": [
       "(0.8557312252964426, -146)"
      ]
     },
     "execution_count": 314,
     "metadata": {},
     "output_type": "execute_result"
    }
   ],
   "source": [
    "sum(trial_ok) / len(trial_ok), sum(trial_ok) - len(trial_ok)"
   ]
  },
  {
   "attachments": {},
   "cell_type": "markdown",
   "metadata": {},
   "source": [
    "# cell x stim filter\n",
    "using vis_driven.ipynb  \n",
    "TODO: refactor it into adp.py"
   ]
  },
  {
   "cell_type": "code",
   "execution_count": 227,
   "metadata": {},
   "outputs": [
    {
     "data": {
      "text/html": [
       "<div>\n",
       "<style scoped>\n",
       "    .dataframe tbody tr th:only-of-type {\n",
       "        vertical-align: middle;\n",
       "    }\n",
       "\n",
       "    .dataframe tbody tr th {\n",
       "        vertical-align: top;\n",
       "    }\n",
       "\n",
       "    .dataframe thead th {\n",
       "        text-align: right;\n",
       "    }\n",
       "</style>\n",
       "<table border=\"1\" class=\"dataframe\">\n",
       "  <thead>\n",
       "    <tr style=\"text-align: right;\">\n",
       "      <th></th>\n",
       "      <th>dfof</th>\n",
       "      <th>cell_id</th>\n",
       "      <th>trial_id</th>\n",
       "      <th>stim_id</th>\n",
       "      <th>resp_id</th>\n",
       "      <th>filter_trial</th>\n",
       "      <th>filter_cell</th>\n",
       "      <th>filter_cell_stim</th>\n",
       "    </tr>\n",
       "  </thead>\n",
       "  <tbody>\n",
       "    <tr>\n",
       "      <th>0</th>\n",
       "      <td>-0.133319</td>\n",
       "      <td>0</td>\n",
       "      <td>0</td>\n",
       "      <td>4</td>\n",
       "      <td>R1</td>\n",
       "      <td>True</td>\n",
       "      <td>True</td>\n",
       "      <td>False</td>\n",
       "    </tr>\n",
       "    <tr>\n",
       "      <th>1</th>\n",
       "      <td>0.113303</td>\n",
       "      <td>0</td>\n",
       "      <td>1</td>\n",
       "      <td>2</td>\n",
       "      <td>R1</td>\n",
       "      <td>True</td>\n",
       "      <td>True</td>\n",
       "      <td>True</td>\n",
       "    </tr>\n",
       "    <tr>\n",
       "      <th>2</th>\n",
       "      <td>-0.018100</td>\n",
       "      <td>0</td>\n",
       "      <td>2</td>\n",
       "      <td>2</td>\n",
       "      <td>R1</td>\n",
       "      <td>True</td>\n",
       "      <td>True</td>\n",
       "      <td>True</td>\n",
       "    </tr>\n",
       "    <tr>\n",
       "      <th>3</th>\n",
       "      <td>-0.032178</td>\n",
       "      <td>0</td>\n",
       "      <td>3</td>\n",
       "      <td>3</td>\n",
       "      <td>R1</td>\n",
       "      <td>True</td>\n",
       "      <td>True</td>\n",
       "      <td>True</td>\n",
       "    </tr>\n",
       "    <tr>\n",
       "      <th>4</th>\n",
       "      <td>-0.065120</td>\n",
       "      <td>0</td>\n",
       "      <td>4</td>\n",
       "      <td>2</td>\n",
       "      <td>R1</td>\n",
       "      <td>True</td>\n",
       "      <td>True</td>\n",
       "      <td>True</td>\n",
       "    </tr>\n",
       "    <tr>\n",
       "      <th>...</th>\n",
       "      <td>...</td>\n",
       "      <td>...</td>\n",
       "      <td>...</td>\n",
       "      <td>...</td>\n",
       "      <td>...</td>\n",
       "      <td>...</td>\n",
       "      <td>...</td>\n",
       "      <td>...</td>\n",
       "    </tr>\n",
       "    <tr>\n",
       "      <th>184179</th>\n",
       "      <td>0.090027</td>\n",
       "      <td>90</td>\n",
       "      <td>1007</td>\n",
       "      <td>4</td>\n",
       "      <td>R2</td>\n",
       "      <td>True</td>\n",
       "      <td>True</td>\n",
       "      <td>False</td>\n",
       "    </tr>\n",
       "    <tr>\n",
       "      <th>184180</th>\n",
       "      <td>-0.002115</td>\n",
       "      <td>90</td>\n",
       "      <td>1008</td>\n",
       "      <td>1</td>\n",
       "      <td>R2</td>\n",
       "      <td>True</td>\n",
       "      <td>True</td>\n",
       "      <td>True</td>\n",
       "    </tr>\n",
       "    <tr>\n",
       "      <th>184181</th>\n",
       "      <td>0.044474</td>\n",
       "      <td>90</td>\n",
       "      <td>1009</td>\n",
       "      <td>3</td>\n",
       "      <td>R2</td>\n",
       "      <td>True</td>\n",
       "      <td>True</td>\n",
       "      <td>True</td>\n",
       "    </tr>\n",
       "    <tr>\n",
       "      <th>184182</th>\n",
       "      <td>-0.064555</td>\n",
       "      <td>90</td>\n",
       "      <td>1010</td>\n",
       "      <td>1</td>\n",
       "      <td>R2</td>\n",
       "      <td>True</td>\n",
       "      <td>True</td>\n",
       "      <td>True</td>\n",
       "    </tr>\n",
       "    <tr>\n",
       "      <th>184183</th>\n",
       "      <td>0.029093</td>\n",
       "      <td>90</td>\n",
       "      <td>1011</td>\n",
       "      <td>0</td>\n",
       "      <td>R2</td>\n",
       "      <td>True</td>\n",
       "      <td>True</td>\n",
       "      <td>True</td>\n",
       "    </tr>\n",
       "  </tbody>\n",
       "</table>\n",
       "<p>184184 rows × 8 columns</p>\n",
       "</div>"
      ],
      "text/plain": [
       "            dfof  cell_id  trial_id  stim_id resp_id  filter_trial  \\\n",
       "0      -0.133319        0         0        4      R1          True   \n",
       "1       0.113303        0         1        2      R1          True   \n",
       "2      -0.018100        0         2        2      R1          True   \n",
       "3      -0.032178        0         3        3      R1          True   \n",
       "4      -0.065120        0         4        2      R1          True   \n",
       "...          ...      ...       ...      ...     ...           ...   \n",
       "184179  0.090027       90      1007        4      R2          True   \n",
       "184180 -0.002115       90      1008        1      R2          True   \n",
       "184181  0.044474       90      1009        3      R2          True   \n",
       "184182 -0.064555       90      1010        1      R2          True   \n",
       "184183  0.029093       90      1011        0      R2          True   \n",
       "\n",
       "       filter_cell filter_cell_stim  \n",
       "0             True            False  \n",
       "1             True             True  \n",
       "2             True             True  \n",
       "3             True             True  \n",
       "4             True             True  \n",
       "...            ...              ...  \n",
       "184179        True            False  \n",
       "184180        True             True  \n",
       "184181        True             True  \n",
       "184182        True             True  \n",
       "184183        True             True  \n",
       "\n",
       "[184184 rows x 8 columns]"
      ]
     },
     "execution_count": 227,
     "metadata": {},
     "output_type": "execute_result"
    }
   ],
   "source": [
    "df_tidy['filter_cell'] = np.nan\n",
    "df_tidy['filter_cell_stim'] = np.nan\n",
    "\n",
    "with open(os.path.join(dir_data, 'vis_driven.pickle'), 'rb') as f:\n",
    "    filter_file = pickle.load(f)\n",
    "filter_cell_stim = filter_file['img_driven']\n",
    "filter_cell = filter_file['vis_driven']\n",
    "\n",
    "# fill filter_cell_stim into df_tidy: for icell and istim\n",
    "for icell in np.arange(filter_cell_stim.shape[0]):\n",
    "    df_tidy.loc[df_tidy['cell_id']==icell, 'filter_cell'] = filter_cell[icell][0] # filter_cell is a list of list\n",
    "    for istim in np.arange(filter_cell_stim.shape[1]):\n",
    "        df_tidy.loc[(df_tidy['stim_id']==istim) & (df_tidy['cell_id']==icell), 'filter_cell_stim'] = filter_cell_stim[icell, istim]\n",
    "df_tidy\n",
    "\n",
    "# df_tidy['filter_cell_stim'] = True\n",
    "# print('not using filter_cell_stim')"
   ]
  },
  {
   "attachments": {},
   "cell_type": "markdown",
   "metadata": {},
   "source": [
    "# tidy data filtered \n",
    "discarded invalid trial and cell x stim combo"
   ]
  },
  {
   "cell_type": "code",
   "execution_count": 286,
   "metadata": {},
   "outputs": [
    {
     "data": {
      "text/html": [
       "<div>\n",
       "<style scoped>\n",
       "    .dataframe tbody tr th:only-of-type {\n",
       "        vertical-align: middle;\n",
       "    }\n",
       "\n",
       "    .dataframe tbody tr th {\n",
       "        vertical-align: top;\n",
       "    }\n",
       "\n",
       "    .dataframe thead th {\n",
       "        text-align: right;\n",
       "    }\n",
       "</style>\n",
       "<table border=\"1\" class=\"dataframe\">\n",
       "  <thead>\n",
       "    <tr style=\"text-align: right;\">\n",
       "      <th></th>\n",
       "      <th>dfof</th>\n",
       "      <th>cell_id</th>\n",
       "      <th>trial_id</th>\n",
       "      <th>stim_id</th>\n",
       "      <th>resp_id</th>\n",
       "      <th>filter_trial</th>\n",
       "      <th>filter_cell</th>\n",
       "      <th>filter_cell_stim</th>\n",
       "    </tr>\n",
       "  </thead>\n",
       "  <tbody>\n",
       "    <tr>\n",
       "      <th>0</th>\n",
       "      <td>-0.133319</td>\n",
       "      <td>0</td>\n",
       "      <td>0</td>\n",
       "      <td>4</td>\n",
       "      <td>R1</td>\n",
       "      <td>True</td>\n",
       "      <td>True</td>\n",
       "      <td>False</td>\n",
       "    </tr>\n",
       "    <tr>\n",
       "      <th>1</th>\n",
       "      <td>0.113303</td>\n",
       "      <td>0</td>\n",
       "      <td>1</td>\n",
       "      <td>2</td>\n",
       "      <td>R1</td>\n",
       "      <td>True</td>\n",
       "      <td>True</td>\n",
       "      <td>True</td>\n",
       "    </tr>\n",
       "    <tr>\n",
       "      <th>2</th>\n",
       "      <td>-0.018100</td>\n",
       "      <td>0</td>\n",
       "      <td>2</td>\n",
       "      <td>2</td>\n",
       "      <td>R1</td>\n",
       "      <td>True</td>\n",
       "      <td>True</td>\n",
       "      <td>True</td>\n",
       "    </tr>\n",
       "    <tr>\n",
       "      <th>3</th>\n",
       "      <td>-0.032178</td>\n",
       "      <td>0</td>\n",
       "      <td>3</td>\n",
       "      <td>3</td>\n",
       "      <td>R1</td>\n",
       "      <td>True</td>\n",
       "      <td>True</td>\n",
       "      <td>True</td>\n",
       "    </tr>\n",
       "    <tr>\n",
       "      <th>4</th>\n",
       "      <td>-0.065120</td>\n",
       "      <td>0</td>\n",
       "      <td>4</td>\n",
       "      <td>2</td>\n",
       "      <td>R1</td>\n",
       "      <td>True</td>\n",
       "      <td>True</td>\n",
       "      <td>True</td>\n",
       "    </tr>\n",
       "    <tr>\n",
       "      <th>...</th>\n",
       "      <td>...</td>\n",
       "      <td>...</td>\n",
       "      <td>...</td>\n",
       "      <td>...</td>\n",
       "      <td>...</td>\n",
       "      <td>...</td>\n",
       "      <td>...</td>\n",
       "      <td>...</td>\n",
       "    </tr>\n",
       "    <tr>\n",
       "      <th>184179</th>\n",
       "      <td>0.090027</td>\n",
       "      <td>90</td>\n",
       "      <td>1007</td>\n",
       "      <td>4</td>\n",
       "      <td>R2</td>\n",
       "      <td>True</td>\n",
       "      <td>True</td>\n",
       "      <td>False</td>\n",
       "    </tr>\n",
       "    <tr>\n",
       "      <th>184180</th>\n",
       "      <td>-0.002115</td>\n",
       "      <td>90</td>\n",
       "      <td>1008</td>\n",
       "      <td>1</td>\n",
       "      <td>R2</td>\n",
       "      <td>True</td>\n",
       "      <td>True</td>\n",
       "      <td>True</td>\n",
       "    </tr>\n",
       "    <tr>\n",
       "      <th>184181</th>\n",
       "      <td>0.044474</td>\n",
       "      <td>90</td>\n",
       "      <td>1009</td>\n",
       "      <td>3</td>\n",
       "      <td>R2</td>\n",
       "      <td>True</td>\n",
       "      <td>True</td>\n",
       "      <td>True</td>\n",
       "    </tr>\n",
       "    <tr>\n",
       "      <th>184182</th>\n",
       "      <td>-0.064555</td>\n",
       "      <td>90</td>\n",
       "      <td>1010</td>\n",
       "      <td>1</td>\n",
       "      <td>R2</td>\n",
       "      <td>True</td>\n",
       "      <td>True</td>\n",
       "      <td>True</td>\n",
       "    </tr>\n",
       "    <tr>\n",
       "      <th>184183</th>\n",
       "      <td>0.029093</td>\n",
       "      <td>90</td>\n",
       "      <td>1011</td>\n",
       "      <td>0</td>\n",
       "      <td>R2</td>\n",
       "      <td>True</td>\n",
       "      <td>True</td>\n",
       "      <td>True</td>\n",
       "    </tr>\n",
       "  </tbody>\n",
       "</table>\n",
       "<p>157612 rows × 8 columns</p>\n",
       "</div>"
      ],
      "text/plain": [
       "            dfof  cell_id  trial_id  stim_id resp_id  filter_trial  \\\n",
       "0      -0.133319        0         0        4      R1          True   \n",
       "1       0.113303        0         1        2      R1          True   \n",
       "2      -0.018100        0         2        2      R1          True   \n",
       "3      -0.032178        0         3        3      R1          True   \n",
       "4      -0.065120        0         4        2      R1          True   \n",
       "...          ...      ...       ...      ...     ...           ...   \n",
       "184179  0.090027       90      1007        4      R2          True   \n",
       "184180 -0.002115       90      1008        1      R2          True   \n",
       "184181  0.044474       90      1009        3      R2          True   \n",
       "184182 -0.064555       90      1010        1      R2          True   \n",
       "184183  0.029093       90      1011        0      R2          True   \n",
       "\n",
       "       filter_cell filter_cell_stim  \n",
       "0             True            False  \n",
       "1             True             True  \n",
       "2             True             True  \n",
       "3             True             True  \n",
       "4             True             True  \n",
       "...            ...              ...  \n",
       "184179        True            False  \n",
       "184180        True             True  \n",
       "184181        True             True  \n",
       "184182        True             True  \n",
       "184183        True             True  \n",
       "\n",
       "[157612 rows x 8 columns]"
      ]
     },
     "execution_count": 286,
     "metadata": {},
     "output_type": "execute_result"
    }
   ],
   "source": [
    "df_filter = df_tidy[df_tidy['filter_trial'] \n",
    "                    # & df_tidy['filter_cell_stim'] # img driven filter\n",
    "                    # & df_tidy['filter_cell'] # vis driven filter\n",
    "                    ]\n",
    "\n",
    "df_filter#.sample(5, random_state=42)\n",
    "# df_filter.stim_id.value_counts() // df_filter.cell_id.nunique() // 2 # 2 is for R1 and R2. each stim repeat 130+ times"
   ]
  },
  {
   "attachments": {},
   "cell_type": "markdown",
   "metadata": {},
   "source": [
    "# adaptation vs SF\n",
    "## construct filter_pref"
   ]
  },
  {
   "cell_type": "code",
   "execution_count": 287,
   "metadata": {},
   "outputs": [
    {
     "data": {
      "text/html": [
       "<div>\n",
       "<style scoped>\n",
       "    .dataframe tbody tr th:only-of-type {\n",
       "        vertical-align: middle;\n",
       "    }\n",
       "\n",
       "    .dataframe tbody tr th {\n",
       "        vertical-align: top;\n",
       "    }\n",
       "\n",
       "    .dataframe thead th {\n",
       "        text-align: right;\n",
       "    }\n",
       "</style>\n",
       "<table border=\"1\" class=\"dataframe\">\n",
       "  <thead>\n",
       "    <tr style=\"text-align: right;\">\n",
       "      <th></th>\n",
       "      <th>dfof</th>\n",
       "      <th>cell_id</th>\n",
       "      <th>trial_id</th>\n",
       "      <th>stim_id</th>\n",
       "      <th>resp_id</th>\n",
       "      <th>filter_trial</th>\n",
       "      <th>filter_cell</th>\n",
       "      <th>filter_cell_stim</th>\n",
       "      <th>filter_pref</th>\n",
       "    </tr>\n",
       "  </thead>\n",
       "  <tbody>\n",
       "    <tr>\n",
       "      <th>10</th>\n",
       "      <td>0.015105</td>\n",
       "      <td>0</td>\n",
       "      <td>10</td>\n",
       "      <td>0</td>\n",
       "      <td>R1</td>\n",
       "      <td>True</td>\n",
       "      <td>True</td>\n",
       "      <td>True</td>\n",
       "      <td>True</td>\n",
       "    </tr>\n",
       "    <tr>\n",
       "      <th>14</th>\n",
       "      <td>-0.034426</td>\n",
       "      <td>0</td>\n",
       "      <td>14</td>\n",
       "      <td>0</td>\n",
       "      <td>R1</td>\n",
       "      <td>True</td>\n",
       "      <td>True</td>\n",
       "      <td>True</td>\n",
       "      <td>True</td>\n",
       "    </tr>\n",
       "    <tr>\n",
       "      <th>25</th>\n",
       "      <td>-0.015726</td>\n",
       "      <td>0</td>\n",
       "      <td>25</td>\n",
       "      <td>0</td>\n",
       "      <td>R1</td>\n",
       "      <td>True</td>\n",
       "      <td>True</td>\n",
       "      <td>True</td>\n",
       "      <td>True</td>\n",
       "    </tr>\n",
       "    <tr>\n",
       "      <th>30</th>\n",
       "      <td>-0.018084</td>\n",
       "      <td>0</td>\n",
       "      <td>30</td>\n",
       "      <td>0</td>\n",
       "      <td>R1</td>\n",
       "      <td>True</td>\n",
       "      <td>True</td>\n",
       "      <td>True</td>\n",
       "      <td>True</td>\n",
       "    </tr>\n",
       "    <tr>\n",
       "      <th>36</th>\n",
       "      <td>0.015564</td>\n",
       "      <td>0</td>\n",
       "      <td>36</td>\n",
       "      <td>0</td>\n",
       "      <td>R1</td>\n",
       "      <td>True</td>\n",
       "      <td>True</td>\n",
       "      <td>True</td>\n",
       "      <td>True</td>\n",
       "    </tr>\n",
       "    <tr>\n",
       "      <th>...</th>\n",
       "      <td>...</td>\n",
       "      <td>...</td>\n",
       "      <td>...</td>\n",
       "      <td>...</td>\n",
       "      <td>...</td>\n",
       "      <td>...</td>\n",
       "      <td>...</td>\n",
       "      <td>...</td>\n",
       "      <td>...</td>\n",
       "    </tr>\n",
       "    <tr>\n",
       "      <th>184134</th>\n",
       "      <td>-0.002698</td>\n",
       "      <td>90</td>\n",
       "      <td>962</td>\n",
       "      <td>0</td>\n",
       "      <td>R2</td>\n",
       "      <td>True</td>\n",
       "      <td>True</td>\n",
       "      <td>True</td>\n",
       "      <td>True</td>\n",
       "    </tr>\n",
       "    <tr>\n",
       "      <th>184140</th>\n",
       "      <td>0.015739</td>\n",
       "      <td>90</td>\n",
       "      <td>968</td>\n",
       "      <td>0</td>\n",
       "      <td>R2</td>\n",
       "      <td>True</td>\n",
       "      <td>True</td>\n",
       "      <td>True</td>\n",
       "      <td>True</td>\n",
       "    </tr>\n",
       "    <tr>\n",
       "      <th>184163</th>\n",
       "      <td>0.109854</td>\n",
       "      <td>90</td>\n",
       "      <td>991</td>\n",
       "      <td>0</td>\n",
       "      <td>R2</td>\n",
       "      <td>True</td>\n",
       "      <td>True</td>\n",
       "      <td>True</td>\n",
       "      <td>True</td>\n",
       "    </tr>\n",
       "    <tr>\n",
       "      <th>184178</th>\n",
       "      <td>-0.053032</td>\n",
       "      <td>90</td>\n",
       "      <td>1006</td>\n",
       "      <td>0</td>\n",
       "      <td>R2</td>\n",
       "      <td>True</td>\n",
       "      <td>True</td>\n",
       "      <td>True</td>\n",
       "      <td>True</td>\n",
       "    </tr>\n",
       "    <tr>\n",
       "      <th>184183</th>\n",
       "      <td>0.029093</td>\n",
       "      <td>90</td>\n",
       "      <td>1011</td>\n",
       "      <td>0</td>\n",
       "      <td>R2</td>\n",
       "      <td>True</td>\n",
       "      <td>True</td>\n",
       "      <td>True</td>\n",
       "      <td>True</td>\n",
       "    </tr>\n",
       "  </tbody>\n",
       "</table>\n",
       "<p>26710 rows × 9 columns</p>\n",
       "</div>"
      ],
      "text/plain": [
       "            dfof  cell_id  trial_id  stim_id resp_id  filter_trial  \\\n",
       "10      0.015105        0        10        0      R1          True   \n",
       "14     -0.034426        0        14        0      R1          True   \n",
       "25     -0.015726        0        25        0      R1          True   \n",
       "30     -0.018084        0        30        0      R1          True   \n",
       "36      0.015564        0        36        0      R1          True   \n",
       "...          ...      ...       ...      ...     ...           ...   \n",
       "184134 -0.002698       90       962        0      R2          True   \n",
       "184140  0.015739       90       968        0      R2          True   \n",
       "184163  0.109854       90       991        0      R2          True   \n",
       "184178 -0.053032       90      1006        0      R2          True   \n",
       "184183  0.029093       90      1011        0      R2          True   \n",
       "\n",
       "       filter_cell filter_cell_stim  filter_pref  \n",
       "10            True             True         True  \n",
       "14            True             True         True  \n",
       "25            True             True         True  \n",
       "30            True             True         True  \n",
       "36            True             True         True  \n",
       "...            ...              ...          ...  \n",
       "184134        True             True         True  \n",
       "184140        True             True         True  \n",
       "184163        True             True         True  \n",
       "184178        True             True         True  \n",
       "184183        True             True         True  \n",
       "\n",
       "[26710 rows x 9 columns]"
      ]
     },
     "execution_count": 287,
     "metadata": {},
     "output_type": "execute_result"
    }
   ],
   "source": [
    "df_pref = df_filter.copy()\n",
    "df_pref['filter_pref'] = False\n",
    "\n",
    "# for each cell, find the stim with the largest resp\n",
    "for icell in np.arange(resp_ad.shape[0]):\n",
    "    df_cell = df_pref[df_pref['cell_id']==icell]\n",
    "    df_cell = df_cell[df_cell['resp_id']=='R1'] # only use R1\n",
    "    if len(df_cell) == 0:\n",
    "        continue\n",
    "    df_cell = df_cell.sort_values(by='dfof', ascending=False) # sort by dfof, largest first\n",
    "    pref_stim = df_cell.iloc[0]['stim_id'] # stim id of the largest resp\n",
    "    df_pref.loc[(df_pref['cell_id']==icell) & (df_pref['stim_id']==pref_stim), 'filter_pref'] = True\n",
    "\n",
    "df_pref = df_pref[df_pref['filter_pref']] # only retain preferred stim x cell combo\n",
    "df_pref"
   ]
  },
  {
   "attachments": {},
   "cell_type": "markdown",
   "metadata": {},
   "source": [
    "## boot adp for pop"
   ]
  },
  {
   "cell_type": "code",
   "execution_count": 288,
   "metadata": {},
   "outputs": [
    {
     "data": {
      "text/plain": [
       "0    55\n",
       "1    25\n",
       "2    34\n",
       "3    21\n",
       "4     7\n",
       "5     1\n",
       "Name: stim_id, dtype: int64"
      ]
     },
     "execution_count": 288,
     "metadata": {},
     "output_type": "execute_result"
    }
   ],
   "source": [
    "df_pref.stim_id.value_counts().sort_index() // df_pref.cell_id.nunique() // 2 # stim nrep x ncell x 2 (R1, R2)"
   ]
  },
  {
   "cell_type": "code",
   "execution_count": 292,
   "metadata": {},
   "outputs": [
    {
     "name": "stderr",
     "output_type": "stream",
     "text": [
      "100%|██████████| 2000/2000 [01:09<00:00, 28.88it/s]"
     ]
    },
    {
     "name": "stdout",
     "output_type": "stream",
     "text": [
      "adp hard thresholding\n"
     ]
    },
    {
     "name": "stderr",
     "output_type": "stream",
     "text": [
      "\n"
     ]
    },
    {
     "data": {
      "text/plain": [
       "((91,), 2000)"
      ]
     },
     "execution_count": 292,
     "metadata": {},
     "output_type": "execute_result"
    }
   ],
   "source": [
    "# output should be of shape: nboot x nstim x ncell\n",
    "# for each bootstrap, for each stim x cell, randomly select nrep trials\n",
    "\n",
    "nboot = 2000 # 18 sec for 500 iter\n",
    "nrep_selected = 30\n",
    "\n",
    "adp_boot = []\n",
    "for iboot in tqdm(np.arange(nboot)):\n",
    "    R1_agg = (df_pref[(df_pref['resp_id']=='R1')]\n",
    "                    .groupby(['stim_id', 'cell_id'])['dfof']\n",
    "                    .apply(lambda x: x.sample(n=nrep_selected, replace=True).sum())\n",
    "                    .reset_index()['dfof'].values) # for each stim x cell, randomly select nrep trials resp, take sum\n",
    "    R2_agg = (df_pref[(df_pref['resp_id']=='R2')]\n",
    "                    .groupby(['stim_id', 'cell_id'])['dfof']\n",
    "                    .apply(lambda x: x.sample(n=nrep_selected, replace=True).sum())\n",
    "                    .reset_index()['dfof'].values)\n",
    "    adp_agg = (R2_agg - R1_agg) # / (R2_agg + R1_agg + 1e-7)\n",
    "    adp_agg[np.abs(adp_agg) > 5] = np.nan # remove outliers\n",
    "    adp_boot.append(adp_agg)\n",
    "print('adp hard thresholding')\n",
    "\n",
    "adp_boot[0].shape, len(adp_boot)"
   ]
  },
  {
   "cell_type": "code",
   "execution_count": 293,
   "metadata": {},
   "outputs": [
    {
     "data": {
      "text/html": [
       "<div>\n",
       "<style scoped>\n",
       "    .dataframe tbody tr th:only-of-type {\n",
       "        vertical-align: middle;\n",
       "    }\n",
       "\n",
       "    .dataframe tbody tr th {\n",
       "        vertical-align: top;\n",
       "    }\n",
       "\n",
       "    .dataframe thead th {\n",
       "        text-align: right;\n",
       "    }\n",
       "</style>\n",
       "<table border=\"1\" class=\"dataframe\">\n",
       "  <thead>\n",
       "    <tr style=\"text-align: right;\">\n",
       "      <th></th>\n",
       "      <th>stim_id</th>\n",
       "      <th>cell_id</th>\n",
       "      <th>dfof</th>\n",
       "      <th>adp_pref</th>\n",
       "    </tr>\n",
       "  </thead>\n",
       "  <tbody>\n",
       "    <tr>\n",
       "      <th>0</th>\n",
       "      <td>0</td>\n",
       "      <td>0</td>\n",
       "      <td>0.138922</td>\n",
       "      <td>-0.220164</td>\n",
       "    </tr>\n",
       "    <tr>\n",
       "      <th>1</th>\n",
       "      <td>0</td>\n",
       "      <td>2</td>\n",
       "      <td>1.362390</td>\n",
       "      <td>NaN</td>\n",
       "    </tr>\n",
       "    <tr>\n",
       "      <th>2</th>\n",
       "      <td>0</td>\n",
       "      <td>3</td>\n",
       "      <td>1.834862</td>\n",
       "      <td>-0.272188</td>\n",
       "    </tr>\n",
       "    <tr>\n",
       "      <th>3</th>\n",
       "      <td>0</td>\n",
       "      <td>5</td>\n",
       "      <td>2.350118</td>\n",
       "      <td>NaN</td>\n",
       "    </tr>\n",
       "    <tr>\n",
       "      <th>4</th>\n",
       "      <td>0</td>\n",
       "      <td>7</td>\n",
       "      <td>0.379576</td>\n",
       "      <td>0.243671</td>\n",
       "    </tr>\n",
       "    <tr>\n",
       "      <th>...</th>\n",
       "      <td>...</td>\n",
       "      <td>...</td>\n",
       "      <td>...</td>\n",
       "      <td>...</td>\n",
       "    </tr>\n",
       "    <tr>\n",
       "      <th>86</th>\n",
       "      <td>4</td>\n",
       "      <td>19</td>\n",
       "      <td>2.462618</td>\n",
       "      <td>-0.700673</td>\n",
       "    </tr>\n",
       "    <tr>\n",
       "      <th>87</th>\n",
       "      <td>4</td>\n",
       "      <td>31</td>\n",
       "      <td>1.066230</td>\n",
       "      <td>0.296479</td>\n",
       "    </tr>\n",
       "    <tr>\n",
       "      <th>88</th>\n",
       "      <td>4</td>\n",
       "      <td>64</td>\n",
       "      <td>7.394586</td>\n",
       "      <td>NaN</td>\n",
       "    </tr>\n",
       "    <tr>\n",
       "      <th>89</th>\n",
       "      <td>4</td>\n",
       "      <td>74</td>\n",
       "      <td>1.444030</td>\n",
       "      <td>-0.357792</td>\n",
       "    </tr>\n",
       "    <tr>\n",
       "      <th>90</th>\n",
       "      <td>5</td>\n",
       "      <td>48</td>\n",
       "      <td>0.227809</td>\n",
       "      <td>-0.048344</td>\n",
       "    </tr>\n",
       "  </tbody>\n",
       "</table>\n",
       "<p>91 rows × 4 columns</p>\n",
       "</div>"
      ],
      "text/plain": [
       "    stim_id  cell_id      dfof  adp_pref\n",
       "0         0        0  0.138922 -0.220164\n",
       "1         0        2  1.362390       NaN\n",
       "2         0        3  1.834862 -0.272188\n",
       "3         0        5  2.350118       NaN\n",
       "4         0        7  0.379576  0.243671\n",
       "..      ...      ...       ...       ...\n",
       "86        4       19  2.462618 -0.700673\n",
       "87        4       31  1.066230  0.296479\n",
       "88        4       64  7.394586       NaN\n",
       "89        4       74  1.444030 -0.357792\n",
       "90        5       48  0.227809 -0.048344\n",
       "\n",
       "[91 rows x 4 columns]"
      ]
     },
     "execution_count": 293,
     "metadata": {},
     "output_type": "execute_result"
    }
   ],
   "source": [
    "# preferred stim x cell combo\n",
    "\n",
    "df_adp_pref = (df_pref[(df_pref['resp_id']=='R1')]\n",
    "                .groupby(['stim_id', 'cell_id'])['dfof']\n",
    "                .apply(lambda x: x.sample(n=nrep_selected, replace=True).sum()) # dfof col was not used\n",
    "                .reset_index())\n",
    "\n",
    "adp_boot = np.array(adp_boot)\n",
    "adp_boot = np.mean(adp_boot, axis=0) # sum over all bootstraps\n",
    "df_adp_pref['adp_pref'] = adp_boot\n",
    "df_adp_pref"
   ]
  },
  {
   "attachments": {},
   "cell_type": "markdown",
   "metadata": {},
   "source": [
    "### boxplot across cells\n",
    "for each SF, take cells that prefer this grating SF. boxplot errorbar is across cells"
   ]
  },
  {
   "cell_type": "code",
   "execution_count": 299,
   "metadata": {},
   "outputs": [
    {
     "data": {
      "image/png": "[encoded data removed]",
      "text/plain": [
       "<Figure size 576x360 with 1 Axes>"
      ]
     },
     "metadata": {
      "needs_background": "light"
     },
     "output_type": "display_data"
    }
   ],
   "source": [
    "# for each stim_id, plot adp_pref for each cell in a boxplot\n",
    "\n",
    "fig, ax = plt.subplots(figsize=(8, 5))\n",
    "sns.boxplot(x='stim_id', y='adp_pref', data=df_adp_pref, ax=ax)\n",
    "ax.plot(df_adp_pref.groupby('stim_id')['adp_pref'].mean().values, 'k', marker='o', markersize=10, linewidth=1)\n",
    "\n",
    "# add text at each xtick\n",
    "ncell_SF = df_adp_pref.groupby('stim_id')['cell_id'].nunique().values\n",
    "# ncell_SF = [f'n={i}' for i in ncell_SF]\n",
    "for i, ncell_iSF in enumerate(ncell_SF): # last ncell=1, no need to plot\n",
    "    ncell_iSF = int(ncell_iSF)\n",
    "    ax.text(i, 0.8, ncell_iSF, ha='center', va='center', fontsize=16)\n",
    "\n",
    "ax.set_xlabel('Preferred grating SF (cpd)')\n",
    "cpd_array = np.round(np.geomspace(0.03, 0.9, num=10), 2)[2:-2] # remove low freq and high freq\n",
    "ax.set_xticklabels(cpd_array)\n",
    "ax.set_ylabel('Adaptation index')\n",
    "# set ylim upper bound to 0.7, auto adjust lower bound\n",
    "# ax.set_ylim([np.nanmin(df_adp_pref['adp_pref'].values * 1.05), 0.7])\n",
    "# ax.set_ylim([-3, 2])\n",
    "ax.set_title('Adaptation to preferred grating SF');\n",
    "\n",
    "# turn off upper and right spines\n",
    "ax.spines['right'].set_visible(False)\n",
    "ax.spines['top'].set_visible(False)\n",
    "\n",
    "fig.tight_layout()"
   ]
  },
  {
   "cell_type": "code",
   "execution_count": 311,
   "metadata": {},
   "outputs": [
    {
     "data": {
      "text/plain": [
       "array([-0.4405045 , -0.63479014, -0.30542011, -0.55776607, -0.25670521,\n",
       "       -0.04834419])"
      ]
     },
     "execution_count": 311,
     "metadata": {},
     "output_type": "execute_result"
    }
   ],
   "source": [
    "tmp = df_adp_pref.groupby('stim_id')['adp_pref'].mean().values#[:-1]\n",
    "# np.amin(tmp) / np.amax(tmp)\n",
    "tmp"
   ]
  },
  {
   "cell_type": "code",
   "execution_count": 281,
   "metadata": {},
   "outputs": [
    {
     "data": {
      "image/png": "[encoded data removed]",
      "text/plain": [
       "<Figure size 720x360 with 1 Axes>"
      ]
     },
     "metadata": {
      "needs_background": "light"
     },
     "output_type": "display_data"
    }
   ],
   "source": [
    "fig, ax = plt.subplots(figsize=(10, 5))\n",
    "sns.boxplot(x='stim_id', y='adp_pref', data=df_adp_pref, ax=ax)\n",
    "ax.set_xlabel('stim_id')\n",
    "ax.set_ylabel('adp_pref')\n",
    "ax.set_title('adp_pref for each stim_id');"
   ]
  },
  {
   "attachments": {},
   "cell_type": "markdown",
   "metadata": {},
   "source": [
    "### one way anova"
   ]
  },
  {
   "cell_type": "code",
   "execution_count": 332,
   "metadata": {},
   "outputs": [
    {
     "data": {
      "image/png": "[encoded data removed]",
      "text/plain": [
       "<Figure size 432x288 with 1 Axes>"
      ]
     },
     "metadata": {
      "needs_background": "light"
     },
     "output_type": "display_data"
    }
   ],
   "source": [
    "gb = df_adp_pref_dropna.groupby('stim_id')\n",
    "for stim_id, group in gb:\n",
    "    # print(stim_id)\n",
    "    # print(group)\n",
    "    # print(group['adp_pref'].values[:5])\n",
    "    adp_iSF = group['adp_pref'].values\n",
    "    plt.hist(adp_iSF, bins=40, alpha=0.4, label=stim_id)\n",
    "plt.legend();"
   ]
  },
  {
   "cell_type": "code",
   "execution_count": 282,
   "metadata": {},
   "outputs": [
    {
     "data": {
      "text/html": [
       "<div>\n",
       "<style scoped>\n",
       "    .dataframe tbody tr th:only-of-type {\n",
       "        vertical-align: middle;\n",
       "    }\n",
       "\n",
       "    .dataframe tbody tr th {\n",
       "        vertical-align: top;\n",
       "    }\n",
       "\n",
       "    .dataframe thead th {\n",
       "        text-align: right;\n",
       "    }\n",
       "</style>\n",
       "<table border=\"1\" class=\"dataframe\">\n",
       "  <thead>\n",
       "    <tr style=\"text-align: right;\">\n",
       "      <th></th>\n",
       "      <th>df</th>\n",
       "      <th>sum_sq</th>\n",
       "      <th>mean_sq</th>\n",
       "      <th>F</th>\n",
       "      <th>PR(&gt;F)</th>\n",
       "    </tr>\n",
       "  </thead>\n",
       "  <tbody>\n",
       "    <tr>\n",
       "      <th>C(stim_id)</th>\n",
       "      <td>5.0</td>\n",
       "      <td>0.684562</td>\n",
       "      <td>0.136912</td>\n",
       "      <td>0.290287</td>\n",
       "      <td>0.916733</td>\n",
       "    </tr>\n",
       "    <tr>\n",
       "      <th>Residual</th>\n",
       "      <td>66.0</td>\n",
       "      <td>31.128507</td>\n",
       "      <td>0.471644</td>\n",
       "      <td>NaN</td>\n",
       "      <td>NaN</td>\n",
       "    </tr>\n",
       "  </tbody>\n",
       "</table>\n",
       "</div>"
      ],
      "text/plain": [
       "              df     sum_sq   mean_sq         F    PR(>F)\n",
       "C(stim_id)   5.0   0.684562  0.136912  0.290287  0.916733\n",
       "Residual    66.0  31.128507  0.471644       NaN       NaN"
      ]
     },
     "execution_count": 282,
     "metadata": {},
     "output_type": "execute_result"
    }
   ],
   "source": [
    "import statsmodels.api as sm\n",
    "from statsmodels.formula.api import ols\n",
    "\n",
    "df_adp_pref_dropna = df_adp_pref.dropna()\n",
    "\n",
    "# perform two-way ANOVA with interaction\n",
    "# model = ols('adp_pref ~ C(stim_id) + C(cell_id) + C(stim_id):C(cell_id)', data=df_adp_pref_dropna).fit() # cannot test\n",
    "model = ols('adp_pref ~ C(stim_id)', data=df_adp_pref_dropna).fit()\n",
    "sm.stats.anova_lm(model, type=2) # no sig diff btw adp to diff grat SF (w or w/o cell filter)"
   ]
  },
  {
   "attachments": {},
   "cell_type": "markdown",
   "metadata": {},
   "source": [
    "### boxplot across boots\n",
    "for each SF, take cells that prefer this grating SF. boxplot errorbar is across boots (already averaged across cells)"
   ]
  },
  {
   "cell_type": "code",
   "execution_count": 283,
   "metadata": {},
   "outputs": [
    {
     "name": "stderr",
     "output_type": "stream",
     "text": [
      "100%|██████████| 200/200 [00:06<00:00, 31.13it/s]"
     ]
    },
    {
     "name": "stdout",
     "output_type": "stream",
     "text": [
      "adp hard thresholding\n"
     ]
    },
    {
     "name": "stderr",
     "output_type": "stream",
     "text": [
      "\n"
     ]
    },
    {
     "data": {
      "text/plain": [
       "(200, 6)"
      ]
     },
     "execution_count": 283,
     "metadata": {},
     "output_type": "execute_result"
    }
   ],
   "source": [
    "# output should be of shape: nboot x nstim x ncell\n",
    "# for each bootstrap, for each stim x cell, randomly select nrep trials\n",
    "\n",
    "nboot = 200\n",
    "nrep_selected = 30\n",
    "\n",
    "adp_boot_pop = []\n",
    "for iboot in tqdm(np.arange(nboot)):\n",
    "    R1_agg = (df_pref[(df_pref['resp_id']=='R1')]\n",
    "                .groupby(['stim_id', 'cell_id'])['dfof']\n",
    "                .apply(lambda x: x.sample(n=nrep_selected, replace=True).sum())\n",
    "                .to_frame().reset_index()\n",
    "                .groupby(['stim_id'])['dfof'] # sum over cells preferring each stim\n",
    "                .sum().values\n",
    "                )\n",
    "    R2_agg = (df_pref[(df_pref['resp_id']=='R1')]\n",
    "                .groupby(['stim_id', 'cell_id'])['dfof']\n",
    "                .apply(lambda x: x.sample(n=nrep_selected, replace=True).sum())\n",
    "                .to_frame().reset_index()\n",
    "                .groupby(['stim_id'])['dfof']\n",
    "                .sum().values\n",
    "                )\n",
    "    adp_agg = (R2_agg - R1_agg) # / (R1_agg + 1e-7)\n",
    "    adp_agg[np.abs(adp_agg) > 5] = np.nan # remove outliers\n",
    "    adp_boot_pop.append(adp_agg)\n",
    "print('adp hard thresholding')\n",
    "\n",
    "adp_boot_pop = np.array(adp_boot_pop)\n",
    "adp_boot_pop.shape # nboot x nstim"
   ]
  },
  {
   "cell_type": "code",
   "execution_count": 284,
   "metadata": {},
   "outputs": [
    {
     "data": {
      "text/plain": [
       "[<matplotlib.lines.Line2D at 0x22191b97280>]"
      ]
     },
     "execution_count": 284,
     "metadata": {},
     "output_type": "execute_result"
    },
    {
     "data": {
      "image/png": "[encoded data removed]",
      "text/plain": [
       "<Figure size 720x360 with 1 Axes>"
      ]
     },
     "metadata": {
      "needs_background": "light"
     },
     "output_type": "display_data"
    }
   ],
   "source": [
    "df_adp_pref_pop = pd.DataFrame(adp_boot_pop, columns=df_adp_pref.stim_id.unique())\n",
    "df_adp_pref_pop = df_adp_pref_pop.drop(columns=5) # drop column 5 due to ncell=1\n",
    "# df_adp_pref_pop\n",
    "\n",
    "fig, ax = plt.subplots(figsize=(10, 5))\n",
    "sns.boxplot(data=df_adp_pref_pop, ax=ax)\n",
    "ax.plot(df_adp_pref_pop.mean().values, 'k', marker='o', markersize=10, linewidth=1)"
   ]
  },
  {
   "cell_type": "code",
   "execution_count": 285,
   "metadata": {},
   "outputs": [
    {
     "data": {
      "text/plain": [
       "[<matplotlib.lines.Line2D at 0x22191c25700>]"
      ]
     },
     "execution_count": 285,
     "metadata": {},
     "output_type": "execute_result"
    },
    {
     "data": {
      "image/png": "[encoded data removed]",
      "text/plain": [
       "<Figure size 432x288 with 1 Axes>"
      ]
     },
     "metadata": {
      "needs_background": "light"
     },
     "output_type": "display_data"
    }
   ],
   "source": [
    "plt.plot(df_adp_pref_pop.mean().values, 'k', marker='o', markersize=10, linewidth=1)"
   ]
  }
 ],
 "metadata": {
  "kernelspec": {
   "display_name": "base",
   "language": "python",
   "name": "python3"
  },
  "language_info": {
   "codemirror_mode": {
    "name": "ipython",
    "version": 3
   },
   "file_extension": ".py",
   "mimetype": "text/x-python",
   "name": "python",
   "nbconvert_exporter": "python",
   "pygments_lexer": "ipython3",
   "version": "3.9.12"
  },
  "orig_nbformat": 4,
  "vscode": {
   "interpreter": {
    "hash": "654a1d97444558a991daa59b50de40303e0e66ccc3f29b4958db12481daba1c4"
   }
  }
 },
 "nbformat": 4,
 "nbformat_minor": 2
}
