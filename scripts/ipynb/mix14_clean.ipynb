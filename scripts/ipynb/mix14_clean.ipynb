{
 "cells": [
  {
   "cell_type": "markdown",
   "metadata": {},
   "source": [
    "# prep"
   ]
  },
  {
   "cell_type": "code",
   "execution_count": 2,
   "metadata": {},
   "outputs": [
    {
     "name": "stdout",
     "output_type": "stream",
     "text": [
      "The autoreload extension is already loaded. To reload it, use:\n",
      "  %reload_ext autoreload\n"
     ]
    }
   ],
   "source": [
    "import numpy as np\n",
    "import pandas as pd\n",
    "import seaborn as sns\n",
    "import matplotlib.pyplot as plt\n",
    "%matplotlib inline\n",
    "\n",
    "import scipy.io as sio\n",
    "from tqdm import tqdm\n",
    "from IPython.display import clear_output\n",
    "\n",
    "import os\n",
    "import pickle\n",
    "from tqdm import tqdm\n",
    "\n",
    "%load_ext autoreload\n",
    "%autoreload 2"
   ]
  },
  {
   "cell_type": "code",
   "execution_count": 3,
   "metadata": {},
   "outputs": [
    {
     "data": {
      "text/html": [
       "<div>\n",
       "<style scoped>\n",
       "    .dataframe tbody tr th:only-of-type {\n",
       "        vertical-align: middle;\n",
       "    }\n",
       "\n",
       "    .dataframe tbody tr th {\n",
       "        vertical-align: top;\n",
       "    }\n",
       "\n",
       "    .dataframe thead th {\n",
       "        text-align: right;\n",
       "    }\n",
       "</style>\n",
       "<table border=\"1\" class=\"dataframe\">\n",
       "  <thead>\n",
       "    <tr style=\"text-align: right;\">\n",
       "      <th></th>\n",
       "      <th>mouse</th>\n",
       "      <th>date</th>\n",
       "      <th>area</th>\n",
       "      <th>depth</th>\n",
       "      <th>num</th>\n",
       "      <th>cellpose_seg</th>\n",
       "      <th>manual_seg</th>\n",
       "      <th>paradigm</th>\n",
       "      <th>gcamp</th>\n",
       "      <th>AWS</th>\n",
       "      <th>note</th>\n",
       "    </tr>\n",
       "  </thead>\n",
       "  <tbody>\n",
       "    <tr>\n",
       "      <th>0</th>\n",
       "      <td>1380</td>\n",
       "      <td>230330</td>\n",
       "      <td>V1</td>\n",
       "      <td>200.0</td>\n",
       "      <td>2</td>\n",
       "      <td>1.0</td>\n",
       "      <td>NaN</td>\n",
       "      <td>grat_SF6_allen_nat8</td>\n",
       "      <td>6s</td>\n",
       "      <td>NaN</td>\n",
       "      <td>NaN</td>\n",
       "    </tr>\n",
       "    <tr>\n",
       "      <th>1</th>\n",
       "      <td>1380</td>\n",
       "      <td>230330</td>\n",
       "      <td>V1</td>\n",
       "      <td>200.0</td>\n",
       "      <td>3</td>\n",
       "      <td>1.0</td>\n",
       "      <td>NaN</td>\n",
       "      <td>grat_SF6_allen_nat8</td>\n",
       "      <td>6s</td>\n",
       "      <td>NaN</td>\n",
       "      <td>NaN</td>\n",
       "    </tr>\n",
       "    <tr>\n",
       "      <th>2</th>\n",
       "      <td>1380</td>\n",
       "      <td>230330</td>\n",
       "      <td>V1</td>\n",
       "      <td>200.0</td>\n",
       "      <td>4</td>\n",
       "      <td>1.0</td>\n",
       "      <td>NaN</td>\n",
       "      <td>grat_SF6_allen_nat8</td>\n",
       "      <td>6s</td>\n",
       "      <td>NaN</td>\n",
       "      <td>NaN</td>\n",
       "    </tr>\n",
       "    <tr>\n",
       "      <th>3</th>\n",
       "      <td>1381</td>\n",
       "      <td>230404</td>\n",
       "      <td>V1</td>\n",
       "      <td>200.0</td>\n",
       "      <td>2</td>\n",
       "      <td>1.0</td>\n",
       "      <td>NaN</td>\n",
       "      <td>grat_SF6_allen_nat8</td>\n",
       "      <td>6s</td>\n",
       "      <td>NaN</td>\n",
       "      <td>NaN</td>\n",
       "    </tr>\n",
       "    <tr>\n",
       "      <th>4</th>\n",
       "      <td>1381</td>\n",
       "      <td>230404</td>\n",
       "      <td>V1</td>\n",
       "      <td>200.0</td>\n",
       "      <td>3</td>\n",
       "      <td>1.0</td>\n",
       "      <td>NaN</td>\n",
       "      <td>grat_SF6_allen_nat8</td>\n",
       "      <td>6s</td>\n",
       "      <td>NaN</td>\n",
       "      <td>NaN</td>\n",
       "    </tr>\n",
       "    <tr>\n",
       "      <th>5</th>\n",
       "      <td>1381</td>\n",
       "      <td>230404</td>\n",
       "      <td>V1</td>\n",
       "      <td>200.0</td>\n",
       "      <td>4</td>\n",
       "      <td>1.0</td>\n",
       "      <td>NaN</td>\n",
       "      <td>grat_SF6_allen_nat8</td>\n",
       "      <td>6s</td>\n",
       "      <td>NaN</td>\n",
       "      <td>NaN</td>\n",
       "    </tr>\n",
       "    <tr>\n",
       "      <th>6</th>\n",
       "      <td>1386</td>\n",
       "      <td>230406</td>\n",
       "      <td>V1</td>\n",
       "      <td>200.0</td>\n",
       "      <td>2</td>\n",
       "      <td>1.0</td>\n",
       "      <td>NaN</td>\n",
       "      <td>grat_SF6_allen_nat8</td>\n",
       "      <td>6s</td>\n",
       "      <td>NaN</td>\n",
       "      <td>unsure if this is V1 due to sparse cells and i...</td>\n",
       "    </tr>\n",
       "    <tr>\n",
       "      <th>7</th>\n",
       "      <td>1386</td>\n",
       "      <td>230406</td>\n",
       "      <td>V1</td>\n",
       "      <td>200.0</td>\n",
       "      <td>3</td>\n",
       "      <td>1.0</td>\n",
       "      <td>NaN</td>\n",
       "      <td>grat_SF6_allen_nat8</td>\n",
       "      <td>6s</td>\n",
       "      <td>NaN</td>\n",
       "      <td>NaN</td>\n",
       "    </tr>\n",
       "    <tr>\n",
       "      <th>8</th>\n",
       "      <td>1386</td>\n",
       "      <td>230406</td>\n",
       "      <td>V1</td>\n",
       "      <td>200.0</td>\n",
       "      <td>4</td>\n",
       "      <td>1.0</td>\n",
       "      <td>NaN</td>\n",
       "      <td>grat_SF6_allen_nat8</td>\n",
       "      <td>6s</td>\n",
       "      <td>NaN</td>\n",
       "      <td>NaN</td>\n",
       "    </tr>\n",
       "    <tr>\n",
       "      <th>9</th>\n",
       "      <td>1374</td>\n",
       "      <td>230411</td>\n",
       "      <td>V1</td>\n",
       "      <td>200.0</td>\n",
       "      <td>2</td>\n",
       "      <td>1.0</td>\n",
       "      <td>NaN</td>\n",
       "      <td>grat_SF6_allen_nat8</td>\n",
       "      <td>6s</td>\n",
       "      <td>NaN</td>\n",
       "      <td>NaN</td>\n",
       "    </tr>\n",
       "    <tr>\n",
       "      <th>10</th>\n",
       "      <td>1374</td>\n",
       "      <td>230411</td>\n",
       "      <td>V1</td>\n",
       "      <td>200.0</td>\n",
       "      <td>3</td>\n",
       "      <td>1.0</td>\n",
       "      <td>NaN</td>\n",
       "      <td>grat_SF6_allen_nat8</td>\n",
       "      <td>6s</td>\n",
       "      <td>NaN</td>\n",
       "      <td>NaN</td>\n",
       "    </tr>\n",
       "    <tr>\n",
       "      <th>11</th>\n",
       "      <td>1374</td>\n",
       "      <td>230411</td>\n",
       "      <td>V1</td>\n",
       "      <td>200.0</td>\n",
       "      <td>4</td>\n",
       "      <td>1.0</td>\n",
       "      <td>NaN</td>\n",
       "      <td>grat_SF6_allen_nat8</td>\n",
       "      <td>6s</td>\n",
       "      <td>NaN</td>\n",
       "      <td>NaN</td>\n",
       "    </tr>\n",
       "    <tr>\n",
       "      <th>12</th>\n",
       "      <td>1387</td>\n",
       "      <td>230418</td>\n",
       "      <td>V1</td>\n",
       "      <td>200.0</td>\n",
       "      <td>2</td>\n",
       "      <td>1.0</td>\n",
       "      <td>NaN</td>\n",
       "      <td>grat_SF6_allen_nat8</td>\n",
       "      <td>6s</td>\n",
       "      <td>NaN</td>\n",
       "      <td>todo: get rid of false cells on edge</td>\n",
       "    </tr>\n",
       "    <tr>\n",
       "      <th>13</th>\n",
       "      <td>1387</td>\n",
       "      <td>230418</td>\n",
       "      <td>V1</td>\n",
       "      <td>200.0</td>\n",
       "      <td>3</td>\n",
       "      <td>1.0</td>\n",
       "      <td>NaN</td>\n",
       "      <td>grat_SF6_allen_nat8</td>\n",
       "      <td>6s</td>\n",
       "      <td>NaN</td>\n",
       "      <td>NaN</td>\n",
       "    </tr>\n",
       "    <tr>\n",
       "      <th>14</th>\n",
       "      <td>1387</td>\n",
       "      <td>230418</td>\n",
       "      <td>V1</td>\n",
       "      <td>200.0</td>\n",
       "      <td>4</td>\n",
       "      <td>1.0</td>\n",
       "      <td>NaN</td>\n",
       "      <td>grat_SF6_allen_nat8</td>\n",
       "      <td>6s</td>\n",
       "      <td>NaN</td>\n",
       "      <td>NaN</td>\n",
       "    </tr>\n",
       "    <tr>\n",
       "      <th>15</th>\n",
       "      <td>1375</td>\n",
       "      <td>230425</td>\n",
       "      <td>V1</td>\n",
       "      <td>200.0</td>\n",
       "      <td>2</td>\n",
       "      <td>1.0</td>\n",
       "      <td>NaN</td>\n",
       "      <td>grat_SF6_allen_nat8</td>\n",
       "      <td>6s</td>\n",
       "      <td>NaN</td>\n",
       "      <td>NaN</td>\n",
       "    </tr>\n",
       "    <tr>\n",
       "      <th>16</th>\n",
       "      <td>1375</td>\n",
       "      <td>230425</td>\n",
       "      <td>V1</td>\n",
       "      <td>200.0</td>\n",
       "      <td>3</td>\n",
       "      <td>1.0</td>\n",
       "      <td>NaN</td>\n",
       "      <td>grat_SF6_allen_nat8</td>\n",
       "      <td>6s</td>\n",
       "      <td>NaN</td>\n",
       "      <td>NaN</td>\n",
       "    </tr>\n",
       "    <tr>\n",
       "      <th>17</th>\n",
       "      <td>1375</td>\n",
       "      <td>230425</td>\n",
       "      <td>V1</td>\n",
       "      <td>200.0</td>\n",
       "      <td>4</td>\n",
       "      <td>1.0</td>\n",
       "      <td>NaN</td>\n",
       "      <td>grat_SF6_allen_nat8</td>\n",
       "      <td>6s</td>\n",
       "      <td>NaN</td>\n",
       "      <td>NaN</td>\n",
       "    </tr>\n",
       "  </tbody>\n",
       "</table>\n",
       "</div>"
      ],
      "text/plain": [
       "    mouse    date area  depth  num  cellpose_seg manual_seg  \\\n",
       "0    1380  230330   V1  200.0    2           1.0        NaN   \n",
       "1    1380  230330   V1  200.0    3           1.0        NaN   \n",
       "2    1380  230330   V1  200.0    4           1.0        NaN   \n",
       "3    1381  230404   V1  200.0    2           1.0        NaN   \n",
       "4    1381  230404   V1  200.0    3           1.0        NaN   \n",
       "5    1381  230404   V1  200.0    4           1.0        NaN   \n",
       "6    1386  230406   V1  200.0    2           1.0        NaN   \n",
       "7    1386  230406   V1  200.0    3           1.0        NaN   \n",
       "8    1386  230406   V1  200.0    4           1.0        NaN   \n",
       "9    1374  230411   V1  200.0    2           1.0        NaN   \n",
       "10   1374  230411   V1  200.0    3           1.0        NaN   \n",
       "11   1374  230411   V1  200.0    4           1.0        NaN   \n",
       "12   1387  230418   V1  200.0    2           1.0        NaN   \n",
       "13   1387  230418   V1  200.0    3           1.0        NaN   \n",
       "14   1387  230418   V1  200.0    4           1.0        NaN   \n",
       "15   1375  230425   V1  200.0    2           1.0        NaN   \n",
       "16   1375  230425   V1  200.0    3           1.0        NaN   \n",
       "17   1375  230425   V1  200.0    4           1.0        NaN   \n",
       "\n",
       "               paradigm gcamp  AWS  \\\n",
       "0   grat_SF6_allen_nat8    6s  NaN   \n",
       "1   grat_SF6_allen_nat8    6s  NaN   \n",
       "2   grat_SF6_allen_nat8    6s  NaN   \n",
       "3   grat_SF6_allen_nat8    6s  NaN   \n",
       "4   grat_SF6_allen_nat8    6s  NaN   \n",
       "5   grat_SF6_allen_nat8    6s  NaN   \n",
       "6   grat_SF6_allen_nat8    6s  NaN   \n",
       "7   grat_SF6_allen_nat8    6s  NaN   \n",
       "8   grat_SF6_allen_nat8    6s  NaN   \n",
       "9   grat_SF6_allen_nat8    6s  NaN   \n",
       "10  grat_SF6_allen_nat8    6s  NaN   \n",
       "11  grat_SF6_allen_nat8    6s  NaN   \n",
       "12  grat_SF6_allen_nat8    6s  NaN   \n",
       "13  grat_SF6_allen_nat8    6s  NaN   \n",
       "14  grat_SF6_allen_nat8    6s  NaN   \n",
       "15  grat_SF6_allen_nat8    6s  NaN   \n",
       "16  grat_SF6_allen_nat8    6s  NaN   \n",
       "17  grat_SF6_allen_nat8    6s  NaN   \n",
       "\n",
       "                                                 note  \n",
       "0                                                 NaN  \n",
       "1                                                 NaN  \n",
       "2                                                 NaN  \n",
       "3                                                 NaN  \n",
       "4                                                 NaN  \n",
       "5                                                 NaN  \n",
       "6   unsure if this is V1 due to sparse cells and i...  \n",
       "7                                                 NaN  \n",
       "8                                                 NaN  \n",
       "9                                                 NaN  \n",
       "10                                                NaN  \n",
       "11                                                NaN  \n",
       "12              todo: get rid of false cells on edge   \n",
       "13                                                NaN  \n",
       "14                                                NaN  \n",
       "15                                                NaN  \n",
       "16                                                NaN  \n",
       "17                                                NaN  "
      ]
     },
     "execution_count": 3,
     "metadata": {},
     "output_type": "execute_result"
    }
   ],
   "source": [
    "dir_inter = r'Z:\\All_Staff\\home\\lan\\Data\\2P_images\\mat_inter/'.replace('\\\\', '/')\n",
    "dir_file = dir_inter + 'adp_dataset_master.xlsx'\n",
    "data_info = pd.read_excel(dir_file)\n",
    "data_info.head()\n",
    "\n",
    "meta = data_info[(data_info.paradigm == 'grat_SF6_allen_nat8')]\n",
    "meta = meta.reset_index(drop=True)\n",
    "nset = meta.shape[0]\n",
    "meta"
   ]
  },
  {
   "attachments": {},
   "cell_type": "markdown",
   "metadata": {},
   "source": [
    "# batch write df_tidy, multisess\n",
    "already done. no need to rerun"
   ]
  },
  {
   "cell_type": "code",
   "execution_count": 30,
   "metadata": {},
   "outputs": [],
   "source": [
    "for iset in tqdm(range(nset)):\n",
    "    print(f'iset={iset}, nset={nset}')\n",
    "\n",
    "    ## load data\n",
    "    mouse = meta.loc[iset, 'mouse'].astype(str)\n",
    "    imouse = 'i' + mouse\n",
    "    date = meta.loc[iset, 'date'].astype(str)\n",
    "    area = meta.loc[iset, 'area']\n",
    "    print(mouse, date, area, 'multisess')\n",
    "    dir_identifier = f'{area}_{imouse}_{date}'\n",
    "    print(dir_identifier)\n",
    "\n",
    "    dir_data = r'\\\\duhs-user-nc1.dhe.duke.edu\\dusom_glickfeldlab\\All_Staff\\home\\lan\\Data\\2P_images\\mat_inter/'.replace('\\\\', '/')\n",
    "    mat_inter = r'\\\\duhs-user-nc1.dhe.duke.edu\\dusom_glickfeldlab\\All_Staff\\home\\lan\\Data\\2P_images\\mat_inter/'.replace('\\\\', '/')\n",
    "    for dirname in os.listdir(mat_inter):\n",
    "        if dir_identifier in dirname:\n",
    "            dir_data = mat_inter + dirname\n",
    "            break\n",
    "\n",
    "    stim_id, resp_ad, resp_tg = adp.load_resp_trial(os.path.join(dir_data), vis_filter=False) # already sliced by resp time window from matlab\n",
    "    assert len(np.unique(stim_id)) == 14 # for mix14\n",
    "    \n",
    "    ## construct dfof\n",
    "    R1_dfof = resp_ad.flatten() # cell x trial, row major flatten\n",
    "    R2_dfof = resp_tg.flatten()\n",
    "    dfof = np.hstack((R1_dfof, R2_dfof)) # sort by cell_id, then trial_id, finally resp_id\n",
    "\n",
    "    ## construct cell, trial, resp id\n",
    "    ncell = resp_ad.shape[0]\n",
    "    ntrial = resp_ad.shape[1]\n",
    "    \n",
    "    cell_id = np.repeat(np.arange(ncell), ntrial) # repeat cell id arr for ntrial times == sort by cell_id, then trial_id\n",
    "    cell_id = np.hstack((cell_id, cell_id)) # stack two copies for R1 and R2. finally sort by resp_id\n",
    "\n",
    "    trial_id = np.tile(np.arange(ntrial), ncell) # for each cell, go over all trials\n",
    "    trial_id = np.hstack((trial_id, trial_id))\n",
    "\n",
    "    len_df = ncell * ntrial * 2 # 2 for (R1, R2)\n",
    "    resp_id = ['R1'] * int(len_df/2) + ['R2'] * int(len_df/2) # first half is flattened resp_ad, second half is flattened resp_tg\n",
    "    \n",
    "    stim_id = stim_id[0] # unwrap list of list\n",
    "    stim_id = stim_id[:ntrial] # if stim info longer than ntrial, slice off the last one\n",
    "    stim_id_col = np.tile(stim_id, ncell) # make stim info col: same as trial_id - tile then hsatck\n",
    "    stim_id_col = np.hstack((stim_id_col, stim_id_col))\n",
    "\n",
    "    df_tidy = pd.DataFrame({'dfof': dfof, 'cell_id': cell_id, 'trial_id': trial_id, \n",
    "                            'resp_id': resp_id, 'stim_id': stim_id_col,})\n",
    "    df_tidy['area'] = area\n",
    "\n",
    "    ## vis cell filter, well_fit filter, & img driven cell-stim filter\n",
    "    df_tidy['filter_cell_vis'] = np.nan\n",
    "    df_tidy['filter_cell_stim'] = np.nan\n",
    "\n",
    "    with open(os.path.join(dir_data, 'vis_driven.pickle'), 'rb') as f:\n",
    "        filter_file = pickle.load(f)\n",
    "    filter_cell_stim = filter_file['img_driven']\n",
    "    filter_cell_vis = filter_file['vis_driven']\n",
    "\n",
    "    for icell in np.arange(filter_cell_stim.shape[0]): # filter_cell_stim is ncell x nstim\n",
    "        df_tidy.loc[df_tidy['cell_id']==icell, 'filter_cell_vis'] = filter_cell_vis[icell][0] # filter_cell_vis is a list of list\n",
    "        for istim in np.arange(filter_cell_stim.shape[1]):\n",
    "            df_tidy.loc[(df_tidy['stim_id']==istim) & (df_tidy['cell_id']==icell), 'filter_cell_stim'] = filter_cell_stim[icell, istim]\n",
    "    # df_tidy.filter_cell_vis.value_counts(), df_tidy.filter_cell_stim.value_counts()\n",
    "    # break\n",
    "    \n",
    "    ## save df_tidy as csv\n",
    "    df_tidy.to_csv(os.path.join(dir_data, 'df_tidy.csv'), index=False)\n",
    "\n",
    "clear_output()"
   ]
  },
  {
   "cell_type": "markdown",
   "metadata": {},
   "source": [
    "# batch load df_tidy"
   ]
  },
  {
   "cell_type": "code",
   "execution_count": 4,
   "metadata": {},
   "outputs": [],
   "source": [
    "df_tidy = pd.DataFrame()\n",
    "\n",
    "for idate in tqdm(meta.date.unique()):\n",
    "\n",
    "    mouse = meta.loc[meta.date == idate, 'mouse'].head(1).values[0].astype(str) # take meta info from first session. very roundabout way to do this, bc index changes after slicing\n",
    "    imouse = 'i' + mouse\n",
    "    date = idate.astype(str)\n",
    "    area = meta.loc[meta.date == idate, 'area'].head(1).values[0]\n",
    "\n",
    "    print(imouse, date, area, 'multisess')\n",
    "    dir_identifier = f'{area}_{imouse}_{date}'\n",
    "\n",
    "    dir_data = r'\\\\duhs-user-nc1.dhe.duke.edu\\dusom_glickfeldlab\\All_Staff\\home\\lan\\Data\\2P_images\\mat_inter/'.replace('\\\\', '/')\n",
    "    csv_filename = 'df_tidy.csv'\n",
    "    try:\n",
    "        df_tidy_now = pd.read_csv(os.path.join(dir_data, dir_identifier, csv_filename))\n",
    "    except:\n",
    "        dir_identifier = dir_identifier + '_cellpose'\n",
    "        df_tidy_now = pd.read_csv(os.path.join(dir_data, dir_identifier, csv_filename))\n",
    "\n",
    "    df_tidy_now['mouse'] = mouse\n",
    "    df_tidy_now['date'] = date\n",
    "    df_tidy_now['cell_id'] = (df_tidy_now.date.astype(str) + '_' \n",
    "                            + df_tidy_now.cell_id.astype(str)) # cell_id adjusted to be unique across mice, dates\n",
    "    df_tidy = pd.concat([df_tidy, df_tidy_now], axis=0).reset_index(drop=True)\n",
    "    # break\n",
    "    \n",
    "clear_output()"
   ]
  },
  {
   "cell_type": "code",
   "execution_count": 5,
   "metadata": {},
   "outputs": [
    {
     "name": "stdout",
     "output_type": "stream",
     "text": [
      "['1380' '1381' '1386' '1374' '1387' '1375'] ['230330' '230404' '230406' '230411' '230418' '230425'] ['V1']\n",
      "[0, 1, 2, 3, 4, 5, 6, 7, 8, 9, 10, 11, 12, 13] ['R1' 'R2']\n"
     ]
    },
    {
     "data": {
      "text/html": [
       "<div>\n",
       "<style scoped>\n",
       "    .dataframe tbody tr th:only-of-type {\n",
       "        vertical-align: middle;\n",
       "    }\n",
       "\n",
       "    .dataframe tbody tr th {\n",
       "        vertical-align: top;\n",
       "    }\n",
       "\n",
       "    .dataframe thead th {\n",
       "        text-align: right;\n",
       "    }\n",
       "</style>\n",
       "<table border=\"1\" class=\"dataframe\">\n",
       "  <thead>\n",
       "    <tr style=\"text-align: right;\">\n",
       "      <th></th>\n",
       "      <th>dfof</th>\n",
       "      <th>cell_id</th>\n",
       "      <th>trial_id</th>\n",
       "      <th>resp_id</th>\n",
       "      <th>stim_id</th>\n",
       "      <th>area</th>\n",
       "      <th>filter_cell_vis</th>\n",
       "      <th>filter_cell_stim</th>\n",
       "      <th>mouse</th>\n",
       "      <th>date</th>\n",
       "    </tr>\n",
       "  </thead>\n",
       "  <tbody>\n",
       "    <tr>\n",
       "      <th>1001396</th>\n",
       "      <td>0.055331</td>\n",
       "      <td>230406_22</td>\n",
       "      <td>554</td>\n",
       "      <td>R1</td>\n",
       "      <td>3</td>\n",
       "      <td>V1</td>\n",
       "      <td>True</td>\n",
       "      <td>False</td>\n",
       "      <td>1386</td>\n",
       "      <td>230406</td>\n",
       "    </tr>\n",
       "    <tr>\n",
       "      <th>1860208</th>\n",
       "      <td>-0.060029</td>\n",
       "      <td>230418_5</td>\n",
       "      <td>1282</td>\n",
       "      <td>R2</td>\n",
       "      <td>5</td>\n",
       "      <td>V1</td>\n",
       "      <td>True</td>\n",
       "      <td>False</td>\n",
       "      <td>1387</td>\n",
       "      <td>230418</td>\n",
       "    </tr>\n",
       "    <tr>\n",
       "      <th>633495</th>\n",
       "      <td>0.108687</td>\n",
       "      <td>230404_80</td>\n",
       "      <td>675</td>\n",
       "      <td>R1</td>\n",
       "      <td>12</td>\n",
       "      <td>V1</td>\n",
       "      <td>True</td>\n",
       "      <td>False</td>\n",
       "      <td>1381</td>\n",
       "      <td>230404</td>\n",
       "    </tr>\n",
       "    <tr>\n",
       "      <th>2003814</th>\n",
       "      <td>0.040365</td>\n",
       "      <td>230418_96</td>\n",
       "      <td>198</td>\n",
       "      <td>R2</td>\n",
       "      <td>12</td>\n",
       "      <td>V1</td>\n",
       "      <td>True</td>\n",
       "      <td>False</td>\n",
       "      <td>1387</td>\n",
       "      <td>230418</td>\n",
       "    </tr>\n",
       "    <tr>\n",
       "      <th>594580</th>\n",
       "      <td>-0.020834</td>\n",
       "      <td>230404_55</td>\n",
       "      <td>1510</td>\n",
       "      <td>R1</td>\n",
       "      <td>8</td>\n",
       "      <td>V1</td>\n",
       "      <td>True</td>\n",
       "      <td>True</td>\n",
       "      <td>1381</td>\n",
       "      <td>230404</td>\n",
       "    </tr>\n",
       "  </tbody>\n",
       "</table>\n",
       "</div>"
      ],
      "text/plain": [
       "             dfof    cell_id  trial_id resp_id  stim_id area  filter_cell_vis  \\\n",
       "1001396  0.055331  230406_22       554      R1        3   V1             True   \n",
       "1860208 -0.060029   230418_5      1282      R2        5   V1             True   \n",
       "633495   0.108687  230404_80       675      R1       12   V1             True   \n",
       "2003814  0.040365  230418_96       198      R2       12   V1             True   \n",
       "594580  -0.020834  230404_55      1510      R1        8   V1             True   \n",
       "\n",
       "         filter_cell_stim mouse    date  \n",
       "1001396             False  1386  230406  \n",
       "1860208             False  1387  230418  \n",
       "633495              False  1381  230404  \n",
       "2003814             False  1387  230418  \n",
       "594580               True  1381  230404  "
      ]
     },
     "execution_count": 5,
     "metadata": {},
     "output_type": "execute_result"
    }
   ],
   "source": [
    "print(df_tidy.mouse.unique(), \n",
    "      df_tidy.date.unique(), \n",
    "      df_tidy.area.unique(), )\n",
    "print(sorted(df_tidy.stim_id.unique()), # NOTE: 0-based indexing. grating x6 (img 0-5), then natural image x8 (img 6-13). see stim image files here: Z:\\All_Staff\\home\\lan\\Mwork\\grat_SF6_allen_nat8\\Image\n",
    "      df_tidy.resp_id.unique())\n",
    "df_tidy.sample(5, random_state=0)"
   ]
  },
  {
   "attachments": {},
   "cell_type": "markdown",
   "metadata": {},
   "source": [
    "# filter cell"
   ]
  },
  {
   "attachments": {},
   "cell_type": "markdown",
   "metadata": {},
   "source": [
    "## filter cell by cutoff R1\n",
    "exlude cells if even their max-resp across stims is too small  \n",
    "cutoff is set as lower 5 percentile"
   ]
  },
  {
   "cell_type": "code",
   "execution_count": 9,
   "metadata": {},
   "outputs": [
    {
     "data": {
      "image/png": "[encoded data removed]",
      "text/plain": [
       "<Figure size 432x288 with 1 Axes>"
      ]
     },
     "metadata": {
      "needs_background": "light"
     },
     "output_type": "display_data"
    }
   ],
   "source": [
    "df_tidy[df_tidy.resp_id == 'R1'].groupby('cell_id').dfof.mean().hist(bins=50);\n",
    "plt.xlabel('mean dfof (R1)');\n",
    "plt.ylabel('cell count');"
   ]
  },
  {
   "cell_type": "code",
   "execution_count": 10,
   "metadata": {},
   "outputs": [
    {
     "data": {
      "image/png": "[encoded data removed]",
      "text/plain": [
       "<Figure size 432x288 with 1 Axes>"
      ]
     },
     "metadata": {
      "needs_background": "light"
     },
     "output_type": "display_data"
    }
   ],
   "source": [
    "R1_dist = df_tidy[df_tidy.resp_id == 'R1'].groupby('cell_id').dfof.mean().values\n",
    "\n",
    "percentile_arr = np.arange(0, 100, 5)\n",
    "R1_perc = np.percentile(R1_dist, percentile_arr)\n",
    "\n",
    "plt.plot(percentile_arr, R1_perc, 'o-');\n",
    "plt.axhline(0.01, color='k', linestyle='--');\n",
    "plt.xlabel('percentile');\n",
    "plt.ylabel('R1 dfof');"
   ]
  },
  {
   "cell_type": "code",
   "execution_count": 11,
   "metadata": {},
   "outputs": [
    {
     "data": {
      "image/png": "[encoded data removed]",
      "text/plain": [
       "<Figure size 432x288 with 1 Axes>"
      ]
     },
     "metadata": {
      "needs_background": "light"
     },
     "output_type": "display_data"
    }
   ],
   "source": [
    "R1_cell_stim = df_tidy[df_tidy.resp_id == 'R1'].groupby(['cell_id', 'stim_id']).dfof.mean().to_frame().reset_index()\n",
    "R1_cutoff = 0.02\n",
    "\n",
    "# R1_cell_stim.groupby('cell_id').dfof.max().hist(bins=50); # should exclude cell if even max R1 across stims is small\n",
    "# plt.axvline(R1_cutoff, color='k', linestyle='--');\n",
    "# (R1_cell_stim_max < R1_cutoff).sum(), len(R1_cell_stim_max)\n",
    "\n",
    "R1_cell_stim_max = R1_cell_stim.groupby('cell_id').dfof.max().values\n",
    "R1_max_perc = np.percentile(R1_cell_stim_max, percentile_arr)\n",
    "plt.plot(percentile_arr, R1_max_perc, 'o-');\n",
    "plt.axhline(R1_cutoff, color='k', linestyle='--');\n",
    "plt.xlabel('percentile');\n",
    "plt.ylabel('R1 max dfof');"
   ]
  },
  {
   "cell_type": "code",
   "execution_count": 12,
   "metadata": {},
   "outputs": [
    {
     "data": {
      "text/plain": [
       "(821, 860)"
      ]
     },
     "execution_count": 12,
     "metadata": {},
     "output_type": "execute_result"
    }
   ],
   "source": [
    "R1_cutoff = np.percentile(R1_max_perc, 5) # exclude cells with max R1 dfof across stims < 5th percentile\n",
    "\n",
    "cell_list = R1_cell_stim.groupby('cell_id').dfof.max().reset_index()['cell_id'].values\n",
    "filter_cell_R1 = R1_cell_stim.groupby('cell_id').dfof.max().values >= R1_cutoff\n",
    "cell_R1_pass = cell_list[filter_cell_R1] # cells who passed R1 cutoff filter\n",
    "len(cell_R1_pass), len(cell_list)"
   ]
  },
  {
   "cell_type": "code",
   "execution_count": 13,
   "metadata": {},
   "outputs": [
    {
     "data": {
      "text/html": [
       "<div>\n",
       "<style scoped>\n",
       "    .dataframe tbody tr th:only-of-type {\n",
       "        vertical-align: middle;\n",
       "    }\n",
       "\n",
       "    .dataframe tbody tr th {\n",
       "        vertical-align: top;\n",
       "    }\n",
       "\n",
       "    .dataframe thead th {\n",
       "        text-align: right;\n",
       "    }\n",
       "</style>\n",
       "<table border=\"1\" class=\"dataframe\">\n",
       "  <thead>\n",
       "    <tr style=\"text-align: right;\">\n",
       "      <th></th>\n",
       "      <th>dfof</th>\n",
       "      <th>cell_id</th>\n",
       "      <th>trial_id</th>\n",
       "      <th>resp_id</th>\n",
       "      <th>stim_id</th>\n",
       "      <th>area</th>\n",
       "      <th>filter_cell_vis</th>\n",
       "      <th>filter_cell_stim</th>\n",
       "      <th>mouse</th>\n",
       "      <th>date</th>\n",
       "      <th>filter_cell_R1</th>\n",
       "    </tr>\n",
       "  </thead>\n",
       "  <tbody>\n",
       "    <tr>\n",
       "      <th>0</th>\n",
       "      <td>-0.022064</td>\n",
       "      <td>230330_0</td>\n",
       "      <td>0</td>\n",
       "      <td>R1</td>\n",
       "      <td>1</td>\n",
       "      <td>V1</td>\n",
       "      <td>True</td>\n",
       "      <td>True</td>\n",
       "      <td>1380</td>\n",
       "      <td>230330</td>\n",
       "      <td>True</td>\n",
       "    </tr>\n",
       "    <tr>\n",
       "      <th>1</th>\n",
       "      <td>0.077962</td>\n",
       "      <td>230330_0</td>\n",
       "      <td>1</td>\n",
       "      <td>R1</td>\n",
       "      <td>12</td>\n",
       "      <td>V1</td>\n",
       "      <td>True</td>\n",
       "      <td>False</td>\n",
       "      <td>1380</td>\n",
       "      <td>230330</td>\n",
       "      <td>True</td>\n",
       "    </tr>\n",
       "    <tr>\n",
       "      <th>2</th>\n",
       "      <td>-0.023058</td>\n",
       "      <td>230330_0</td>\n",
       "      <td>2</td>\n",
       "      <td>R1</td>\n",
       "      <td>13</td>\n",
       "      <td>V1</td>\n",
       "      <td>True</td>\n",
       "      <td>True</td>\n",
       "      <td>1380</td>\n",
       "      <td>230330</td>\n",
       "      <td>True</td>\n",
       "    </tr>\n",
       "    <tr>\n",
       "      <th>3</th>\n",
       "      <td>0.124579</td>\n",
       "      <td>230330_0</td>\n",
       "      <td>3</td>\n",
       "      <td>R1</td>\n",
       "      <td>8</td>\n",
       "      <td>V1</td>\n",
       "      <td>True</td>\n",
       "      <td>False</td>\n",
       "      <td>1380</td>\n",
       "      <td>230330</td>\n",
       "      <td>True</td>\n",
       "    </tr>\n",
       "    <tr>\n",
       "      <th>4</th>\n",
       "      <td>-0.029692</td>\n",
       "      <td>230330_0</td>\n",
       "      <td>4</td>\n",
       "      <td>R1</td>\n",
       "      <td>0</td>\n",
       "      <td>V1</td>\n",
       "      <td>True</td>\n",
       "      <td>False</td>\n",
       "      <td>1380</td>\n",
       "      <td>230330</td>\n",
       "      <td>True</td>\n",
       "    </tr>\n",
       "    <tr>\n",
       "      <th>...</th>\n",
       "      <td>...</td>\n",
       "      <td>...</td>\n",
       "      <td>...</td>\n",
       "      <td>...</td>\n",
       "      <td>...</td>\n",
       "      <td>...</td>\n",
       "      <td>...</td>\n",
       "      <td>...</td>\n",
       "      <td>...</td>\n",
       "      <td>...</td>\n",
       "      <td>...</td>\n",
       "    </tr>\n",
       "    <tr>\n",
       "      <th>2731831</th>\n",
       "      <td>-0.074684</td>\n",
       "      <td>230425_194</td>\n",
       "      <td>1585</td>\n",
       "      <td>R2</td>\n",
       "      <td>12</td>\n",
       "      <td>V1</td>\n",
       "      <td>True</td>\n",
       "      <td>False</td>\n",
       "      <td>1375</td>\n",
       "      <td>230425</td>\n",
       "      <td>True</td>\n",
       "    </tr>\n",
       "    <tr>\n",
       "      <th>2731832</th>\n",
       "      <td>0.041901</td>\n",
       "      <td>230425_194</td>\n",
       "      <td>1586</td>\n",
       "      <td>R2</td>\n",
       "      <td>3</td>\n",
       "      <td>V1</td>\n",
       "      <td>True</td>\n",
       "      <td>True</td>\n",
       "      <td>1375</td>\n",
       "      <td>230425</td>\n",
       "      <td>True</td>\n",
       "    </tr>\n",
       "    <tr>\n",
       "      <th>2731833</th>\n",
       "      <td>0.007992</td>\n",
       "      <td>230425_194</td>\n",
       "      <td>1587</td>\n",
       "      <td>R2</td>\n",
       "      <td>10</td>\n",
       "      <td>V1</td>\n",
       "      <td>True</td>\n",
       "      <td>False</td>\n",
       "      <td>1375</td>\n",
       "      <td>230425</td>\n",
       "      <td>True</td>\n",
       "    </tr>\n",
       "    <tr>\n",
       "      <th>2731834</th>\n",
       "      <td>0.053189</td>\n",
       "      <td>230425_194</td>\n",
       "      <td>1588</td>\n",
       "      <td>R2</td>\n",
       "      <td>6</td>\n",
       "      <td>V1</td>\n",
       "      <td>True</td>\n",
       "      <td>False</td>\n",
       "      <td>1375</td>\n",
       "      <td>230425</td>\n",
       "      <td>True</td>\n",
       "    </tr>\n",
       "    <tr>\n",
       "      <th>2731835</th>\n",
       "      <td>0.057585</td>\n",
       "      <td>230425_194</td>\n",
       "      <td>1589</td>\n",
       "      <td>R2</td>\n",
       "      <td>1</td>\n",
       "      <td>V1</td>\n",
       "      <td>True</td>\n",
       "      <td>False</td>\n",
       "      <td>1375</td>\n",
       "      <td>230425</td>\n",
       "      <td>True</td>\n",
       "    </tr>\n",
       "  </tbody>\n",
       "</table>\n",
       "<p>2731836 rows × 11 columns</p>\n",
       "</div>"
      ],
      "text/plain": [
       "             dfof     cell_id  trial_id resp_id  stim_id area  \\\n",
       "0       -0.022064    230330_0         0      R1        1   V1   \n",
       "1        0.077962    230330_0         1      R1       12   V1   \n",
       "2       -0.023058    230330_0         2      R1       13   V1   \n",
       "3        0.124579    230330_0         3      R1        8   V1   \n",
       "4       -0.029692    230330_0         4      R1        0   V1   \n",
       "...           ...         ...       ...     ...      ...  ...   \n",
       "2731831 -0.074684  230425_194      1585      R2       12   V1   \n",
       "2731832  0.041901  230425_194      1586      R2        3   V1   \n",
       "2731833  0.007992  230425_194      1587      R2       10   V1   \n",
       "2731834  0.053189  230425_194      1588      R2        6   V1   \n",
       "2731835  0.057585  230425_194      1589      R2        1   V1   \n",
       "\n",
       "         filter_cell_vis  filter_cell_stim mouse    date  filter_cell_R1  \n",
       "0                   True              True  1380  230330            True  \n",
       "1                   True             False  1380  230330            True  \n",
       "2                   True              True  1380  230330            True  \n",
       "3                   True             False  1380  230330            True  \n",
       "4                   True             False  1380  230330            True  \n",
       "...                  ...               ...   ...     ...             ...  \n",
       "2731831             True             False  1375  230425            True  \n",
       "2731832             True              True  1375  230425            True  \n",
       "2731833             True             False  1375  230425            True  \n",
       "2731834             True             False  1375  230425            True  \n",
       "2731835             True             False  1375  230425            True  \n",
       "\n",
       "[2731836 rows x 11 columns]"
      ]
     },
     "execution_count": 13,
     "metadata": {},
     "output_type": "execute_result"
    }
   ],
   "source": [
    "df_tidy['filter_cell_R1'] = False\n",
    "df_tidy['filter_cell_R1'] = df_tidy['cell_id'].apply(lambda x: True if x in cell_R1_pass else False)\n",
    "assert sorted(cell_list[~filter_cell_R1]) == sorted(df_tidy[df_tidy.filter_cell_R1 == False].cell_id.unique())\n",
    "df_tidy"
   ]
  },
  {
   "attachments": {},
   "cell_type": "markdown",
   "metadata": {},
   "source": [
    "# fast reload df_tidy"
   ]
  },
  {
   "cell_type": "code",
   "execution_count": 14,
   "metadata": {},
   "outputs": [],
   "source": [
    "# dir_data = r'\\\\duhs-user-nc1.dhe.duke.edu\\dusom_glickfeldlab\\All_Staff\\home\\lan\\Data\\2P_images\\mat_inter\\df tidy for plots/'.replace('\\\\', '/')\n",
    "# df_tidy.to_csv(os.path.join(dir_data, 'df_tidy_mix14.csv'), index=False)\n",
    "\n",
    "# ## reload df_tidy\n",
    "# df_tidy = pd.read_csv(os.path.join(dir_data, 'df_tidy_mix14.csv'))"
   ]
  },
  {
   "attachments": {},
   "cell_type": "markdown",
   "metadata": {},
   "source": [
    "## filter cell-stim by pref grat SF\n",
    "to prepare for adp-SF plot"
   ]
  },
  {
   "cell_type": "code",
   "execution_count": 15,
   "metadata": {},
   "outputs": [
    {
     "name": "stderr",
     "output_type": "stream",
     "text": [
      "C:\\Users\\ll357\\AppData\\Local\\Temp\\6\\ipykernel_46396\\464894796.py:6: SettingWithCopyWarning: \n",
      "A value is trying to be set on a copy of a slice from a DataFrame.\n",
      "Try using .loc[row_indexer,col_indexer] = value instead\n",
      "\n",
      "See the caveats in the documentation: https://pandas.pydata.org/pandas-docs/stable/user_guide/indexing.html#returning-a-view-versus-a-copy\n",
      "  df_pref['filter_pref'] = False\n",
      "100%|██████████| 818/818 [02:15<00:00,  6.03it/s]\n"
     ]
    }
   ],
   "source": [
    "df_pref = df_tidy[df_tidy['filter_cell_vis'] # vis driven filter\n",
    "                # & df_tidy['filter_cell_stim'] # img driven filter\n",
    "                & df_tidy['filter_cell_R1'] # R1 cutoff filter\n",
    "                & (df_tidy['stim_id'] < 6) # gratings only, stim id 0-5. NOTE: must have parentheses () around it!\n",
    "                ]\n",
    "df_pref['filter_pref'] = False\n",
    "\n",
    "# for each cell, find the stim with the largest resp\n",
    "for icell in tqdm(df_pref.cell_id.unique()):\n",
    "    df_cell = df_pref[(df_pref['cell_id']==icell) & (df_pref['resp_id']=='R1')] # only use R1 to calc pref SF\n",
    "    if len(df_cell) == 0:\n",
    "        continue\n",
    "    df_cell = (df_cell.groupby(['stim_id'])['dfof'].mean().reset_index() # mean dfof of each stim\n",
    "                      .sort_values(by='dfof', ascending=False))  # sort by dfof, largest first\n",
    "                      \n",
    "    pref_stim = df_cell.iloc[0]['stim_id'].astype(int) # stim id of the largest resp\n",
    "    df_pref.loc[(df_pref['cell_id']==icell) & (df_pref['stim_id']==pref_stim), 'filter_pref'] = True\n",
    "df_pref\n",
    "\n",
    "df_pref = df_pref[df_pref['filter_pref']] # only retain preferred stim x cell combo"
   ]
  },
  {
   "cell_type": "code",
   "execution_count": 19,
   "metadata": {},
   "outputs": [],
   "source": [
    "# dir_data = r'\\\\duhs-user-nc1.dhe.duke.edu\\dusom_glickfeldlab\\All_Staff\\home\\lan\\Data\\2P_images\\mat_inter\\df tidy for plots/'.replace('\\\\', '/')\n",
    "# df_pref.to_csv(os.path.join(dir_data, 'df_tidy_grat6_pref_in_mix14.csv'), index=False)\n",
    "\n",
    "# # ## reload df_tidy\n",
    "# # df_pref = pd.read_csv(os.path.join(dir_data, 'df_tidy_grat6_pref_in_mix14.csv'))"
   ]
  },
  {
   "attachments": {},
   "cell_type": "markdown",
   "metadata": {},
   "source": [
    "# adaptation vs preferred SF"
   ]
  },
  {
   "cell_type": "code",
   "execution_count": 20,
   "metadata": {},
   "outputs": [
    {
     "name": "stderr",
     "output_type": "stream",
     "text": [
      "100%|██████████| 1000/1000 [10:12<00:00,  1.63it/s]"
     ]
    },
    {
     "name": "stdout",
     "output_type": "stream",
     "text": [
      "adp hard thresholding\n"
     ]
    },
    {
     "name": "stderr",
     "output_type": "stream",
     "text": [
      "\n"
     ]
    }
   ],
   "source": [
    "# output should be of shape: nboot x nstim x ncell\n",
    "# for each bootstrap, for each stim x cell, randomly select nrep trials\n",
    "\n",
    "nboot = 1000\n",
    "nrep_selected = 30 # dictated by grat1 adp stability test\n",
    "seed_arr = np.random.randint(0, 100, size=nboot) # get random seed for each bootstrap\n",
    "\n",
    "adp_boot = []\n",
    "for iboot in tqdm(np.arange(nboot)):\n",
    "    R1_agg = (df_pref[(df_pref['resp_id']=='R1')]\n",
    "                    .groupby(['stim_id', 'cell_id'])['dfof']\n",
    "                    .apply(lambda x: x.sample(n=nrep_selected, replace=True, \n",
    "                                              random_state=seed_arr[iboot]) # select same trial reps for R1 and R2\n",
    "                    .mean())\n",
    "                    .reset_index()['dfof'].values) # for each stim x cell, randomly select nrep trials resp, take sum\n",
    "    R2_agg = (df_pref[(df_pref['resp_id']=='R2')]\n",
    "                    .groupby(['stim_id', 'cell_id'])['dfof']\n",
    "                    .apply(lambda x: x.sample(n=nrep_selected, replace=True, \n",
    "                                              random_state=seed_arr[iboot])\n",
    "                    .mean())\n",
    "                    .reset_index()['dfof'].values)\n",
    "    \n",
    "    # adp_agg = (R2_agg - R1_agg) / (R2_agg + R1_agg + 1e-7) # IOU version\n",
    "    adp_agg = (R2_agg - R1_agg) / (R1_agg + 1e-7) # diff over R1 version\n",
    "    \n",
    "    adp_agg[np.abs(adp_agg) > 5] = np.nan # remove outliers\n",
    "    # adp_agg[np.abs(R2_agg + R1_agg) < 0.1] = np.nan\n",
    "    # adp_agg[np.abs(R1_agg) < 0.01] = np.nan\n",
    "    \n",
    "    adp_boot.append(adp_agg)\n",
    "\n",
    "print('adp hard thresholding')\n",
    "\n",
    "adp_boot = np.array(adp_boot)"
   ]
  },
  {
   "cell_type": "code",
   "execution_count": 23,
   "metadata": {},
   "outputs": [
    {
     "data": {
      "text/plain": [
       "(     stim_id     cell_id      dfof  adp_pref\n",
       " 813        5  230425_147  1.594514  0.096761\n",
       " 814        5   230425_28  0.010284  0.307226\n",
       " 815        5   230425_47  2.689243 -0.042482\n",
       " 816        5   230425_58  0.175154 -0.438129\n",
       " 817        5    230425_9  0.887202  0.649820,\n",
       " (818, 4),\n",
       " 5)"
      ]
     },
     "execution_count": 23,
     "metadata": {},
     "output_type": "execute_result"
    }
   ],
   "source": [
    "# adp_boot shape = nboot x (nstim x ncell, preferred), but essentially nboot x ncell, bc each cell only has 1 preferred stim\n",
    "\n",
    "df_adp_pref = (df_pref[(df_pref['resp_id']=='R1') & (df_pref['stim_id'] < 6)] # TODO: fix code above to do this already\n",
    "                .groupby(['stim_id', 'cell_id'])['dfof']\n",
    "                .apply(lambda x: x.sample(n=nrep_selected, replace=True).sum()) # dfof col was not used\n",
    "                .reset_index())\n",
    "\n",
    "# agg_method = np.nanmedian\n",
    "agg_method = np.nanmean\n",
    "\n",
    "adp_boot_agg = agg_method(adp_boot, axis=0) # agg over all bootstraps\n",
    "df_adp_pref['adp_pref'] = adp_boot_agg\n",
    "\n",
    "df_adp_pref = df_adp_pref.dropna(subset=['adp_pref']) # remove nan, which is adp outliers\n",
    "df_adp_pref.tail(), df_adp_pref.shape, df_adp_pref.stim_id.max()"
   ]
  },
  {
   "attachments": {},
   "cell_type": "markdown",
   "metadata": {},
   "source": [
    "## fast reload df_adp_pref"
   ]
  },
  {
   "cell_type": "code",
   "execution_count": 21,
   "metadata": {},
   "outputs": [],
   "source": [
    "dir_data = r'\\\\duhs-user-nc1.dhe.duke.edu\\dusom_glickfeldlab\\All_Staff\\home\\lan\\Data\\2P_images\\mat_inter\\df tidy for plots/'.replace('\\\\', '/')\n",
    "df_pref.to_csv(os.path.join(dir_data, 'df_tidy_grat6_adp_pref_in_mix14.csv'), index=False)\n",
    "\n",
    "# ## reload df_tidy\n",
    "# df_pref = pd.read_csv(os.path.join(dir_data, 'df_tidy_grat6_adp_pref_in_mix14.csv'))"
   ]
  },
  {
   "cell_type": "markdown",
   "metadata": {},
   "source": [
    "## boxplot across cells\n",
    "for each SF, take cells that prefer this grating SF. boxplot errorbar is across cells"
   ]
  },
  {
   "cell_type": "code",
   "execution_count": 197,
   "metadata": {},
   "outputs": [
    {
     "data": {
      "text/html": [
       "<div>\n",
       "<style scoped>\n",
       "    .dataframe tbody tr th:only-of-type {\n",
       "        vertical-align: middle;\n",
       "    }\n",
       "\n",
       "    .dataframe tbody tr th {\n",
       "        vertical-align: top;\n",
       "    }\n",
       "\n",
       "    .dataframe thead th {\n",
       "        text-align: right;\n",
       "    }\n",
       "</style>\n",
       "<table border=\"1\" class=\"dataframe\">\n",
       "  <thead>\n",
       "    <tr style=\"text-align: right;\">\n",
       "      <th></th>\n",
       "      <th>stim_id</th>\n",
       "      <th>cell_id</th>\n",
       "      <th>dfof</th>\n",
       "      <th>adp_pref</th>\n",
       "    </tr>\n",
       "  </thead>\n",
       "  <tbody>\n",
       "    <tr>\n",
       "      <th>0</th>\n",
       "      <td>1</td>\n",
       "      <td>230330_136</td>\n",
       "      <td>0.986366</td>\n",
       "      <td>-1.655030</td>\n",
       "    </tr>\n",
       "    <tr>\n",
       "      <th>1</th>\n",
       "      <td>1</td>\n",
       "      <td>230330_140</td>\n",
       "      <td>0.874818</td>\n",
       "      <td>-0.741070</td>\n",
       "    </tr>\n",
       "    <tr>\n",
       "      <th>2</th>\n",
       "      <td>1</td>\n",
       "      <td>230330_153</td>\n",
       "      <td>1.256782</td>\n",
       "      <td>-0.645777</td>\n",
       "    </tr>\n",
       "    <tr>\n",
       "      <th>3</th>\n",
       "      <td>1</td>\n",
       "      <td>230330_2</td>\n",
       "      <td>0.904460</td>\n",
       "      <td>-0.395211</td>\n",
       "    </tr>\n",
       "    <tr>\n",
       "      <th>4</th>\n",
       "      <td>1</td>\n",
       "      <td>230330_58</td>\n",
       "      <td>0.919261</td>\n",
       "      <td>0.071772</td>\n",
       "    </tr>\n",
       "    <tr>\n",
       "      <th>...</th>\n",
       "      <td>...</td>\n",
       "      <td>...</td>\n",
       "      <td>...</td>\n",
       "      <td>...</td>\n",
       "    </tr>\n",
       "    <tr>\n",
       "      <th>813</th>\n",
       "      <td>5</td>\n",
       "      <td>230425_147</td>\n",
       "      <td>0.850959</td>\n",
       "      <td>0.159320</td>\n",
       "    </tr>\n",
       "    <tr>\n",
       "      <th>814</th>\n",
       "      <td>5</td>\n",
       "      <td>230425_28</td>\n",
       "      <td>0.401071</td>\n",
       "      <td>0.363329</td>\n",
       "    </tr>\n",
       "    <tr>\n",
       "      <th>815</th>\n",
       "      <td>5</td>\n",
       "      <td>230425_47</td>\n",
       "      <td>0.303938</td>\n",
       "      <td>0.006234</td>\n",
       "    </tr>\n",
       "    <tr>\n",
       "      <th>816</th>\n",
       "      <td>5</td>\n",
       "      <td>230425_58</td>\n",
       "      <td>0.038706</td>\n",
       "      <td>-0.442366</td>\n",
       "    </tr>\n",
       "    <tr>\n",
       "      <th>817</th>\n",
       "      <td>5</td>\n",
       "      <td>230425_9</td>\n",
       "      <td>1.195204</td>\n",
       "      <td>0.629168</td>\n",
       "    </tr>\n",
       "  </tbody>\n",
       "</table>\n",
       "<p>818 rows × 4 columns</p>\n",
       "</div>"
      ],
      "text/plain": [
       "     stim_id     cell_id      dfof  adp_pref\n",
       "0          1  230330_136  0.986366 -1.655030\n",
       "1          1  230330_140  0.874818 -0.741070\n",
       "2          1  230330_153  1.256782 -0.645777\n",
       "3          1    230330_2  0.904460 -0.395211\n",
       "4          1   230330_58  0.919261  0.071772\n",
       "..       ...         ...       ...       ...\n",
       "813        5  230425_147  0.850959  0.159320\n",
       "814        5   230425_28  0.401071  0.363329\n",
       "815        5   230425_47  0.303938  0.006234\n",
       "816        5   230425_58  0.038706 -0.442366\n",
       "817        5    230425_9  1.195204  0.629168\n",
       "\n",
       "[818 rows x 4 columns]"
      ]
     },
     "execution_count": 197,
     "metadata": {},
     "output_type": "execute_result"
    }
   ],
   "source": [
    "# df_adp_pref.loc[df_adp_pref['stim_id'] == 0, 'stim_id'] = 1 # merge stim 0 and 1\n",
    "# df_adp_pref"
   ]
  },
  {
   "cell_type": "code",
   "execution_count": 25,
   "metadata": {},
   "outputs": [
    {
     "data": {
      "image/png": "[encoded data removed]",
      "text/plain": [
       "<Figure size 576x432 with 1 Axes>"
      ]
     },
     "metadata": {
      "needs_background": "light"
     },
     "output_type": "display_data"
    }
   ],
   "source": [
    "fig, ax = plt.subplots(figsize=(8, 6))\n",
    "sns.boxplot(x='stim_id', y='adp_pref', data=df_adp_pref, ax=ax, \n",
    "            notch=True, \n",
    "            boxprops=dict(alpha=.3), \n",
    "            whiskerprops=dict(alpha=.3),\n",
    "            capprops=dict(alpha=.3),\n",
    "            flierprops=dict(alpha=.3),\n",
    "            medianprops={\"color\": \"coral\", \"alpha\": .5},\n",
    "            meanprops={\"color\": \"orange\"},)\n",
    "# sns.swarmplot(x='stim_id', y='adp_pref', data=df_adp_pref, ax=ax, alpha=0.5) # set figsize to (18, 6) for swarmplot\n",
    "\n",
    "adp_pref_agg = df_adp_pref.groupby('stim_id')['adp_pref'].median().values # or use mean()\n",
    "adp_pref_std = df_adp_pref.groupby('stim_id')['adp_pref'].std().values\n",
    "adp_pref_sem = df_adp_pref.groupby('stim_id')['adp_pref'].sem().values\n",
    "ax.errorbar(np.arange(adp_pref_agg.shape[0])+0.05, adp_pref_agg,\n",
    "            yerr=adp_pref_std, fmt='none', color='gray', capsize=5)\n",
    "ax.errorbar(np.arange(adp_pref_agg.shape[0])-0.05, adp_pref_agg,\n",
    "            yerr=adp_pref_sem, fmt='none', color='gray', capsize=5)\n",
    "\n",
    "ncell_SF = df_adp_pref.groupby('stim_id')['cell_id'].nunique().values # ncell for each stim_id\n",
    "for i, ncell_iSF in enumerate(ncell_SF):\n",
    "    ncell_iSF = int(ncell_iSF)\n",
    "    ax.text(i, 1.5, ncell_iSF, ha='center', va='center', fontsize=16, color='blue')\n",
    "\n",
    "SF_ref = np.logspace(1, 6, num=6, base=2)/100 # 0.02-0.64 cpd. this should be updated to match # batch rewrite df tidy\n",
    "# SF_ref = SF_ref[1:] # if merged stim 0 and 1\n",
    "cpd_array = np.round(SF_ref, 2)\n",
    "ax.set_xticklabels(cpd_array)\n",
    "ax.set_xlabel('Preferred grating SF (cpd)', fontsize=18)\n",
    "ax.set_ylabel('Adaptation index', fontsize=18)\n",
    "ax.set_ylim([np.nanmin(df_adp_pref['adp_pref'].values * 1.05), np.nanmax(df_adp_pref['adp_pref'].values * 1.05)])\n",
    "\n",
    "ax.spines['right'].set_visible(False)\n",
    "ax.spines['top'].set_visible(False)\n",
    "fig.tight_layout()\n",
    "# dir_fig = r'C:\\Users\\ll357\\Documents\\inter\\results\\joint lab meeting 2023-03'.replace('\\\\', '/')\n",
    "# fig.savefig(os.path.join(dir_fig, 'adp_pref_grat_SF6_diff_over_R1.pdf'), bbox_inches='tight')"
   ]
  },
  {
   "cell_type": "code",
   "execution_count": 26,
   "metadata": {},
   "outputs": [
    {
     "data": {
      "image/png": "[encoded data removed]",
      "text/plain": [
       "<Figure size 576x432 with 1 Axes>"
      ]
     },
     "metadata": {
      "needs_background": "light"
     },
     "output_type": "display_data"
    }
   ],
   "source": [
    "fig, ax = plt.subplots(figsize=(8, 6))\n",
    "sns.stripplot(x='stim_id', y='adp_pref', data=df_adp_pref, ax=ax, alpha=0.5); # set figsize to (18, 6) for swarmplot\n",
    "ax.errorbar(np.arange(adp_pref_agg.shape[0])-0.2, \n",
    "            adp_pref_agg,\n",
    "            yerr=adp_pref_sem, \n",
    "            linewidth=5, capsize=5, capthick=5);\n",
    "ax.set_xticklabels(cpd_array);\n",
    "ax.set_xticklabels(cpd_array)\n",
    "ax.set_xlabel('Preferred grating SF (cpd)', fontsize=18)\n",
    "ax.set_ylabel('Adaptation index', fontsize=18);"
   ]
  },
  {
   "attachments": {},
   "cell_type": "markdown",
   "metadata": {},
   "source": [
    "## stats"
   ]
  },
  {
   "attachments": {},
   "cell_type": "markdown",
   "metadata": {},
   "source": [
    "### one way anova"
   ]
  },
  {
   "cell_type": "code",
   "execution_count": 27,
   "metadata": {},
   "outputs": [
    {
     "data": {
      "image/png": "[encoded data removed]",
      "text/plain": [
       "<Figure size 432x288 with 1 Axes>"
      ]
     },
     "metadata": {
      "needs_background": "light"
     },
     "output_type": "display_data"
    }
   ],
   "source": [
    "# test assumption of normality: looks maybe normal, need Shapiro-Wilk test\n",
    "\n",
    "df_adp_pref_dropna = df_adp_pref.dropna(subset=['adp_pref'])\n",
    "gb = df_adp_pref_dropna.groupby('stim_id')\n",
    "adp_SF = []\n",
    "for stim_id, group in gb:\n",
    "    # print(stim_id)\n",
    "    # print(group)\n",
    "    # print(group['adp_pref'].values[:5])\n",
    "    adp_iSF = group['adp_pref'].values\n",
    "    adp_SF.append(adp_iSF)\n",
    "    plt.hist(adp_iSF, bins=40, alpha=0.4, label=stim_id)\n",
    "plt.legend();"
   ]
  },
  {
   "cell_type": "code",
   "execution_count": 28,
   "metadata": {},
   "outputs": [
    {
     "data": {
      "text/plain": [
       "[0.2565924764785657,\n",
       " 0.22165874201110278,\n",
       " 0.14660475652107274,\n",
       " 0.1554904006296723,\n",
       " 0.19633739452017002,\n",
       " 0.3578646813361963]"
      ]
     },
     "execution_count": 28,
     "metadata": {},
     "output_type": "execute_result"
    }
   ],
   "source": [
    "# test assumption of equal variance: looks not equal, need Levene test, bartlett test, or fligner-killeen test\n",
    "# \"ANOVA is robust to heterogeneity of variance so long as the largest variance is not more than 4 times the smallest variance. general effect of heterogeneity of variance is to make the ANOVA less efficient. That is, you would have lower power\" - https://stats.stackexchange.com/questions/56971/alternative-to-one-way-anova-unequal-variance\n",
    "adp_SF_var = [np.var(adp_iSF) for adp_iSF in adp_SF]\n",
    "adp_SF_var\n",
    "\n",
    "# test assumption of independence: no idea"
   ]
  },
  {
   "cell_type": "code",
   "execution_count": 32,
   "metadata": {},
   "outputs": [
    {
     "data": {
      "text/plain": [
       "F_onewayResult(statistic=4.157539362649587, pvalue=0.000979028581628212)"
      ]
     },
     "execution_count": 32,
     "metadata": {},
     "output_type": "execute_result"
    }
   ],
   "source": [
    "import statsmodels.api as sm\n",
    "from statsmodels.formula.api import ols\n",
    "\n",
    "df_adp_pref_dropna = df_adp_pref.dropna()\n",
    "\n",
    "# perform one-way ANOVA\n",
    "import scipy.stats as stats\n",
    "stats.f_oneway(\n",
    "                df_adp_pref_dropna[df_adp_pref_dropna['stim_id']==0]['adp_pref'].values, # if merged stim 0 and 1\n",
    "                df_adp_pref_dropna[df_adp_pref_dropna['stim_id']==1]['adp_pref'].values,\n",
    "                df_adp_pref_dropna[df_adp_pref_dropna['stim_id']==2]['adp_pref'].values,\n",
    "                df_adp_pref_dropna[df_adp_pref_dropna['stim_id']==3]['adp_pref'].values,\n",
    "                df_adp_pref_dropna[df_adp_pref_dropna['stim_id']==4]['adp_pref'].values,\n",
    "                df_adp_pref_dropna[df_adp_pref_dropna['stim_id']==5]['adp_pref'].values,\n",
    "                )"
   ]
  },
  {
   "attachments": {},
   "cell_type": "markdown",
   "metadata": {},
   "source": [
    "### non parametric test: kruskal-wallis\n",
    "dont have to satisfy anova assumptions"
   ]
  },
  {
   "cell_type": "code",
   "execution_count": 31,
   "metadata": {},
   "outputs": [
    {
     "data": {
      "text/plain": [
       "KruskalResult(statistic=20.920875349254857, pvalue=0.0008384205395621565)"
      ]
     },
     "execution_count": 31,
     "metadata": {},
     "output_type": "execute_result"
    }
   ],
   "source": [
    "stats.kruskal(\n",
    "            df_adp_pref_dropna[df_adp_pref_dropna['stim_id']==0]['adp_pref'].values,\n",
    "            df_adp_pref_dropna[df_adp_pref_dropna['stim_id']==1]['adp_pref'].values,\n",
    "            df_adp_pref_dropna[df_adp_pref_dropna['stim_id']==2]['adp_pref'].values,\n",
    "            df_adp_pref_dropna[df_adp_pref_dropna['stim_id']==3]['adp_pref'].values,\n",
    "            df_adp_pref_dropna[df_adp_pref_dropna['stim_id']==4]['adp_pref'].values,\n",
    "            df_adp_pref_dropna[df_adp_pref_dropna['stim_id']==5]['adp_pref'].values,\n",
    "            )"
   ]
  },
  {
   "attachments": {},
   "cell_type": "markdown",
   "metadata": {},
   "source": [
    "# linear decoder"
   ]
  },
  {
   "attachments": {},
   "cell_type": "markdown",
   "metadata": {},
   "source": [
    "## subpop divide"
   ]
  },
  {
   "cell_type": "code",
   "execution_count": 39,
   "metadata": {},
   "outputs": [
    {
     "data": {
      "image/png": "[encoded data removed]",
      "text/plain": [
       "<Figure size 576x432 with 1 Axes>"
      ]
     },
     "metadata": {
      "needs_background": "light"
     },
     "output_type": "display_data"
    }
   ],
   "source": [
    "fig, ax = plt.subplots(figsize=(8, 6))\n",
    "ax.errorbar(np.arange(adp_pref_agg.shape[0]), \n",
    "            adp_pref_agg,\n",
    "            yerr=adp_pref_sem, \n",
    "            linewidth=5, capsize=5, capthick=5);\n",
    "\n",
    "ncell_SF = df_adp_pref.groupby('stim_id')['cell_id'].nunique().values # ncell for each stim_id\n",
    "for i, ncell_iSF in enumerate(ncell_SF):\n",
    "    ncell_iSF = int(ncell_iSF)\n",
    "    ax.text(i, 0.05, ncell_iSF, ha='center', va='center', fontsize=16, color='blue')\n",
    "\n",
    "ax.set_xticks(np.arange(adp_pref_agg.shape[0]));\n",
    "ax.set_xticklabels(cpd_array);\n",
    "ax.set_ylim([np.nanmin(adp_pref_agg - adp_pref_sem) * 1.05, np.nanmax(adp_pref_agg + adp_pref_sem) * 1.05]);"
   ]
  },
  {
   "cell_type": "code",
   "execution_count": 43,
   "metadata": {},
   "outputs": [
    {
     "data": {
      "text/plain": [
       "Ttest_indResult(statistic=-3.641886440344554, pvalue=0.00028772636654339896)"
      ]
     },
     "execution_count": 43,
     "metadata": {},
     "output_type": "execute_result"
    },
    {
     "data": {
      "image/png": "[encoded data removed]",
      "text/plain": [
       "<Figure size 432x288 with 1 Axes>"
      ]
     },
     "metadata": {
      "needs_background": "light"
     },
     "output_type": "display_data"
    }
   ],
   "source": [
    "## expectation: \"stable cells\" should be cells preferring stim 4-5, aka the highest SFs\n",
    "## \"adapting cells\" should be cells preferring stim 0-3, aka low-mid SFs\n",
    "## to ensure equal ncell, take all stable cells. for adapting cells, take all cells preferring stim 3, subsample cells preferring stim 1-2\n",
    "## lets test this grouping\n",
    "\n",
    "low_SF_adp = df_adp_pref[df_adp_pref.stim_id.isin([0, 1, 2, 3])].adp_pref\n",
    "high_SF_adp = df_adp_pref[df_adp_pref.stim_id.isin([4, 5])].adp_pref\n",
    "\n",
    "low_SF_adp.hist(bins=20, alpha=0.5);\n",
    "high_SF_adp.hist(bins=20, alpha=0.5);\n",
    "plt.xlabel('adp_pref');\n",
    "plt.ylabel('ncell');\n",
    "plt.legend(['low SF cells', 'high SF cells']);\n",
    "\n",
    "stats.ttest_ind(low_SF_adp, high_SF_adp) # significant difference, try linear decoder on these two groups"
   ]
  },
  {
   "cell_type": "code",
   "execution_count": 44,
   "metadata": {},
   "outputs": [],
   "source": [
    "low_SF_cell = df_adp_pref[df_adp_pref.stim_id.isin([0, 1])].cell_id.values # subsample from here, add to mid_SF_cell\n",
    "mid_SF_cell = df_adp_pref[df_adp_pref.stim_id.isin([2, 3])].cell_id.values # this should match stable subpop\n",
    "high_SF_cell = df_adp_pref[df_adp_pref.stim_id.isin([4, 5])].cell_id.values # this should match adapting subpop\n",
    "\n",
    "np.random.seed(123) # randomly subsample from low_SF_cell\n",
    "subsample_ncell = len(high_SF_cell) - len(mid_SF_cell)\n",
    "low_SF_cell_subsample = np.random.choice(low_SF_cell, size=subsample_ncell, replace=False)\n",
    "\n",
    "mid_SF_cell = np.concatenate((mid_SF_cell, low_SF_cell_subsample))\n",
    "assert len(mid_SF_cell) == len(high_SF_cell)"
   ]
  }
 ],
 "metadata": {
  "kernelspec": {
   "display_name": "base",
   "language": "python",
   "name": "python3"
  },
  "language_info": {
   "codemirror_mode": {
    "name": "ipython",
    "version": 3
   },
   "file_extension": ".py",
   "mimetype": "text/x-python",
   "name": "python",
   "nbconvert_exporter": "python",
   "pygments_lexer": "ipython3",
   "version": "3.9.12"
  },
  "orig_nbformat": 4
 },
 "nbformat": 4,
 "nbformat_minor": 2
}
