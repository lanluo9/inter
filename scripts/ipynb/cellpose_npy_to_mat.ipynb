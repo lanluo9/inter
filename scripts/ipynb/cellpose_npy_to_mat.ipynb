{
 "cells": [
  {
   "cell_type": "code",
   "execution_count": 28,
   "metadata": {},
   "outputs": [
    {
     "data": {
      "image/png": "[encoded data removed]",
      "text/plain": [
       "<Figure size 432x288 with 1 Axes>"
      ]
     },
     "metadata": {
      "needs_background": "light"
     },
     "output_type": "display_data"
    }
   ],
   "source": [
    "import os\n",
    "import numpy as np\n",
    "import matplotlib.pyplot as plt\n",
    "import scipy.io as sio\n",
    "\n",
    "dir_sess = r'Z:\\All_Staff\\home\\lan\\Analysis\\2P\\210113_i1329\\210113_i1329_runs-006'.replace('\\\\', '/')\n",
    "npy_list = [fn for fn in os.listdir(dir_sess) if fn.endswith('.npy')]\n",
    "npy_list = [fn for fn in npy_list if 'v1' not in fn] # drop item if contains 'v1', which is cellpose version 1, auto seg. bad for LI data\n",
    "assert len(npy_list) == 1\n",
    "\n",
    "cellpose_npy = npy_list[0]\n",
    "npy = np.load(os.path.join(dir_sess, cellpose_npy), allow_pickle=True)\n",
    "# npy.item().keys()\n",
    "# npy.item()['masks'].shape, npy.item()['ismanual']\n",
    "\n",
    "plt.imshow(npy.item()['masks'])\n",
    "\n",
    "# save as mat\n",
    "masks = npy.item()['masks']\n",
    "assert masks.shape == (264, 796)\n",
    "sio.savemat(os.path.join(dir_sess, 'cellpose_mask.mat'), mdict={'cellpose_mask': masks}) # save cellpose mask to mat"
   ]
  }
 ],
 "metadata": {
  "kernelspec": {
   "display_name": "base",
   "language": "python",
   "name": "python3"
  },
  "language_info": {
   "codemirror_mode": {
    "name": "ipython",
    "version": 3
   },
   "file_extension": ".py",
   "mimetype": "text/x-python",
   "name": "python",
   "nbconvert_exporter": "python",
   "pygments_lexer": "ipython3",
   "version": "3.9.12"
  },
  "orig_nbformat": 4
 },
 "nbformat": 4,
 "nbformat_minor": 2
}
