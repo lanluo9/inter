{
 "cells": [
  {
   "attachments": {},
   "cell_type": "markdown",
   "metadata": {},
   "source": [
    "# prep"
   ]
  },
  {
   "cell_type": "code",
   "execution_count": 1,
   "metadata": {},
   "outputs": [],
   "source": [
    "import numpy as np\n",
    "from numpy import dot\n",
    "from numpy.linalg import norm\n",
    "\n",
    "import pandas as pd\n",
    "import seaborn as sns\n",
    "import matplotlib.pyplot as plt\n",
    "from matplotlib.colors import ListedColormap\n",
    "%matplotlib inline\n",
    "\n",
    "plt.rcParams['pdf.fonttype'] = 42 # export pdf with editable text compatible with coreldraw\n",
    "plt.rcParams['ps.fonttype'] = 42\n",
    "plt.rcParams['svg.fonttype'] = 'none' # export svg compatible with coreldraw\n",
    "\n",
    "import scipy.io as sio\n",
    "import scipy.stats as stats\n",
    "\n",
    "from tqdm import tqdm\n",
    "from IPython.display import clear_output\n",
    "import os\n",
    "import pickle\n",
    "\n",
    "%load_ext autoreload\n",
    "%autoreload 2"
   ]
  },
  {
   "cell_type": "code",
   "execution_count": 2,
   "metadata": {},
   "outputs": [],
   "source": [
    "local_flag = False\n",
    "if local_flag:\n",
    "    repo_dir = r'D:\\repo\\inter_data\\inter'.replace(\"\\\\\", \"/\") # under env dimred\n",
    "else:\n",
    "    repo_dir = r'C:\\Users\\ll357\\Documents\\inter/'.replace(\"\\\\\", \"/\")\n",
    "os.chdir(repo_dir)\n",
    "from src import adp"
   ]
  },
  {
   "cell_type": "code",
   "execution_count": 9,
   "metadata": {},
   "outputs": [
    {
     "name": "stdout",
     "output_type": "stream",
     "text": [
      "area\n",
      "LM    22\n",
      "Name: count, dtype: int64 22\n",
      "area\n",
      "V1    6\n",
      "Name: count, dtype: int64 6\n",
      "area\n",
      "LI    18\n",
      "Name: count, dtype: int64 18\n"
     ]
    }
   ],
   "source": [
    "dir_inter = r'\\\\duhs-user-nc1.dhe.duke.edu\\dusom_glickfeldlab\\All_Staff\\home\\lan\\Data\\2P_images\\mat_inter/'.replace('\\\\', '/')\n",
    "dir_fig = repo_dir + r'\\results\\tuning bias'.replace('\\\\', '/')\n",
    "dir_file = os.path.join(dir_inter, 'adp_dataset_master.xlsx')\n",
    "data_info = pd.read_excel(dir_file)\n",
    "\n",
    "\n",
    "meta = data_info[(data_info.paradigm == 'grating') \n",
    "                 & (data_info.area == 'LM')\n",
    "                 & ((data_info.cellpose_seg == True) | (data_info.manual_seg == True))] # ensure segmentation\n",
    "meta = meta.reset_index(drop=True)\n",
    "nset = meta.shape[0]\n",
    "print(meta.area.value_counts(), nset)\n",
    "meta_LM = meta.copy()\n",
    "\n",
    "meta = data_info[(data_info.paradigm == 'grating') \n",
    "                 & (data_info.area == 'V1') \n",
    "                 & (data_info.gcamp == '6s') # avoid mixing in gcamp8f\n",
    "                 & ((data_info.cellpose_seg == True) | (data_info.manual_seg == True))] # there are 2 data in V1 that haven't been segmented due to cellpose failing with low quality tiff\n",
    "meta = meta.reset_index(drop=True)\n",
    "nset = meta.shape[0]\n",
    "print(meta.area.value_counts(), nset)\n",
    "meta_V1 = meta.copy()\n",
    "\n",
    "meta = data_info[(data_info.paradigm == 'grating') \n",
    "                 & (data_info.area == 'LI') \n",
    "                 & (data_info.gcamp == '6s') # avoid mixing in gcamp8f\n",
    "                 & (data_info.manual_seg != 'TODO') # 2 LI data still need manual segm\n",
    "                 & (data_info.note.str.contains('bad') != True) # exclude bad data\n",
    "                 ]\n",
    "meta = meta.reset_index(drop=True)\n",
    "nset = meta.shape[0]\n",
    "print(meta.area.value_counts(), nset)\n",
    "meta_LI = meta.copy()"
   ]
  },
  {
   "attachments": {},
   "cell_type": "markdown",
   "metadata": {},
   "source": [
    "# batch write df_tidy (don't rerun unless needed)"
   ]
  },
  {
   "cell_type": "code",
   "execution_count": 1059,
   "metadata": {},
   "outputs": [
    {
     "name": "stderr",
     "output_type": "stream",
     "text": [
      "  0%|          | 0/46 [00:00<?, ?it/s]"
     ]
    },
    {
     "name": "stdout",
     "output_type": "stream",
     "text": [
      "iset=0, nset=46\n",
      "1323 200720 V1 003\n",
      "ncell: 103, nstim: 8, ntrial: 463\n"
     ]
    },
    {
     "name": "stderr",
     "output_type": "stream",
     "text": [
      "  2%|▏         | 1/46 [00:04<03:36,  4.82s/it]"
     ]
    },
    {
     "name": "stdout",
     "output_type": "stream",
     "text": [
      "iset=1, nset=46\n",
      "1324 200728 V1 003\n",
      "ncell: 93, nstim: 8, ntrial: 463\n"
     ]
    },
    {
     "name": "stderr",
     "output_type": "stream",
     "text": [
      "  4%|▍         | 2/46 [00:16<06:26,  8.79s/it]"
     ]
    },
    {
     "name": "stdout",
     "output_type": "stream",
     "text": [
      "iset=2, nset=46\n",
      "1322 200803 V1 002\n",
      "ncell: 97, nstim: 8, ntrial: 463\n"
     ]
    },
    {
     "name": "stderr",
     "output_type": "stream",
     "text": [
      "  7%|▋         | 3/46 [00:31<08:20, 11.64s/it]"
     ]
    },
    {
     "name": "stdout",
     "output_type": "stream",
     "text": [
      "iset=3, nset=46\n",
      "1328 201015 V1 004\n",
      "ncell: 82, nstim: 8, ntrial: 464\n"
     ]
    },
    {
     "name": "stderr",
     "output_type": "stream",
     "text": [
      "  9%|▊         | 4/46 [00:45<08:44, 12.48s/it]"
     ]
    },
    {
     "name": "stdout",
     "output_type": "stream",
     "text": [
      "iset=4, nset=46\n",
      "1329 201209 V1 002\n",
      "ncell: 146, nstim: 8, ntrial: 463\n"
     ]
    },
    {
     "name": "stderr",
     "output_type": "stream",
     "text": [
      " 11%|█         | 5/46 [01:01<09:28, 13.86s/it]"
     ]
    },
    {
     "name": "stdout",
     "output_type": "stream",
     "text": [
      "iset=5, nset=46\n",
      "1337 210120 V1 003\n",
      "ncell: 62, nstim: 8, ntrial: 464\n"
     ]
    },
    {
     "name": "stderr",
     "output_type": "stream",
     "text": [
      " 13%|█▎        | 6/46 [01:13<08:42, 13.06s/it]"
     ]
    },
    {
     "name": "stdout",
     "output_type": "stream",
     "text": [
      "iset=6, nset=46\n",
      "1323 200721 LM 002\n",
      "ncell: 39, nstim: 8, ntrial: 465\n"
     ]
    },
    {
     "name": "stderr",
     "output_type": "stream",
     "text": [
      " 15%|█▌        | 7/46 [01:17<06:44, 10.36s/it]"
     ]
    },
    {
     "name": "stdout",
     "output_type": "stream",
     "text": [
      "iset=7, nset=46\n",
      "1324 200729 LM 003\n",
      "ncell: 52, nstim: 8, ntrial: 464\n"
     ]
    },
    {
     "name": "stderr",
     "output_type": "stream",
     "text": [
      " 17%|█▋        | 8/46 [01:25<05:56,  9.39s/it]"
     ]
    },
    {
     "name": "stdout",
     "output_type": "stream",
     "text": [
      "iset=8, nset=46\n",
      "1322 200804 LM 003\n",
      "ncell: 69, nstim: 8, ntrial: 464\n"
     ]
    },
    {
     "name": "stderr",
     "output_type": "stream",
     "text": [
      " 20%|█▉        | 9/46 [01:38<06:38, 10.77s/it]"
     ]
    },
    {
     "name": "stdout",
     "output_type": "stream",
     "text": [
      "iset=9, nset=46\n",
      "1328 201119 LM 003\n",
      "ncell: 71, nstim: 8, ntrial: 464\n"
     ]
    },
    {
     "name": "stderr",
     "output_type": "stream",
     "text": [
      " 22%|██▏       | 10/46 [01:49<06:24, 10.67s/it]"
     ]
    },
    {
     "name": "stdout",
     "output_type": "stream",
     "text": [
      "iset=10, nset=46\n",
      "1328 201127 LM 002\n",
      "ncell: 40, nstim: 8, ntrial: 463\n"
     ]
    },
    {
     "name": "stderr",
     "output_type": "stream",
     "text": [
      " 24%|██▍       | 11/46 [01:55<05:24,  9.26s/it]"
     ]
    },
    {
     "name": "stdout",
     "output_type": "stream",
     "text": [
      "iset=11, nset=46\n",
      "1329 201217 LM 002\n",
      "ncell: 107, nstim: 8, ntrial: 464\n"
     ]
    },
    {
     "name": "stderr",
     "output_type": "stream",
     "text": [
      " 26%|██▌       | 12/46 [02:07<05:48, 10.26s/it]"
     ]
    },
    {
     "name": "stdout",
     "output_type": "stream",
     "text": [
      "iset=12, nset=46\n",
      "1329 201217 LM 004\n",
      "ncell: 90, nstim: 8, ntrial: 463\n"
     ]
    },
    {
     "name": "stderr",
     "output_type": "stream",
     "text": [
      " 28%|██▊       | 13/46 [02:22<06:17, 11.43s/it]"
     ]
    },
    {
     "name": "stdout",
     "output_type": "stream",
     "text": [
      "iset=13, nset=46\n",
      "1337 210127 LM 002\n",
      "ncell: 86, nstim: 8, ntrial: 464\n"
     ]
    },
    {
     "name": "stderr",
     "output_type": "stream",
     "text": [
      " 30%|███       | 14/46 [02:35<06:20, 11.88s/it]"
     ]
    },
    {
     "name": "stdout",
     "output_type": "stream",
     "text": [
      "iset=14, nset=46\n",
      "1337 210127 LM 003\n",
      "ncell: 62, nstim: 8, ntrial: 463\n"
     ]
    },
    {
     "name": "stderr",
     "output_type": "stream",
     "text": [
      " 33%|███▎      | 15/46 [02:45<05:57, 11.54s/it]"
     ]
    },
    {
     "name": "stdout",
     "output_type": "stream",
     "text": [
      "iset=15, nset=46\n",
      "1338 210325 LM 002\n",
      "ncell: 85, nstim: 8, ntrial: 465\n"
     ]
    },
    {
     "name": "stderr",
     "output_type": "stream",
     "text": [
      " 35%|███▍      | 16/46 [02:58<05:55, 11.84s/it]"
     ]
    },
    {
     "name": "stdout",
     "output_type": "stream",
     "text": [
      "iset=16, nset=46\n",
      "1338 210805 LM 002\n",
      "ncell: 80, nstim: 8, ntrial: 463\n"
     ]
    },
    {
     "name": "stderr",
     "output_type": "stream",
     "text": [
      " 37%|███▋      | 17/46 [03:10<05:44, 11.87s/it]"
     ]
    },
    {
     "name": "stdout",
     "output_type": "stream",
     "text": [
      "iset=17, nset=46\n",
      "1350 211020 LM 002\n",
      "ncell: 62, nstim: 8, ntrial: 463\n"
     ]
    },
    {
     "name": "stderr",
     "output_type": "stream",
     "text": [
      " 39%|███▉      | 18/46 [03:21<05:28, 11.73s/it]"
     ]
    },
    {
     "name": "stdout",
     "output_type": "stream",
     "text": [
      "iset=18, nset=46\n",
      "1350 211020 LM 003\n",
      "ncell: 68, nstim: 8, ntrial: 463\n"
     ]
    },
    {
     "name": "stderr",
     "output_type": "stream",
     "text": [
      " 41%|████▏     | 19/46 [03:29<04:44, 10.54s/it]"
     ]
    },
    {
     "name": "stdout",
     "output_type": "stream",
     "text": [
      "iset=19, nset=46\n",
      "1351 220228 LM 002\n",
      "ncell: 63, nstim: 8, ntrial: 464\n"
     ]
    },
    {
     "name": "stderr",
     "output_type": "stream",
     "text": [
      " 43%|████▎     | 20/46 [03:36<04:07,  9.52s/it]"
     ]
    },
    {
     "name": "stdout",
     "output_type": "stream",
     "text": [
      "iset=20, nset=46\n",
      "1351 220228 LM 003\n",
      "ncell: 72, nstim: 8, ntrial: 464\n"
     ]
    },
    {
     "name": "stderr",
     "output_type": "stream",
     "text": [
      " 46%|████▌     | 21/46 [03:47<04:05,  9.82s/it]"
     ]
    },
    {
     "name": "stdout",
     "output_type": "stream",
     "text": [
      "iset=21, nset=46\n",
      "1380 230221 LM 002\n",
      "ncell: 67, nstim: 8, ntrial: 500\n"
     ]
    },
    {
     "name": "stderr",
     "output_type": "stream",
     "text": [
      " 48%|████▊     | 22/46 [03:59<04:16, 10.67s/it]"
     ]
    },
    {
     "name": "stdout",
     "output_type": "stream",
     "text": [
      "iset=22, nset=46\n",
      "1380 230221 LM 003\n",
      "ncell: 36, nstim: 8, ntrial: 501\n"
     ]
    },
    {
     "name": "stderr",
     "output_type": "stream",
     "text": [
      " 50%|█████     | 23/46 [04:05<03:28,  9.08s/it]"
     ]
    },
    {
     "name": "stdout",
     "output_type": "stream",
     "text": [
      "iset=23, nset=46\n",
      "1373 230302 LM 003\n",
      "ncell: 139, nstim: 8, ntrial: 502\n"
     ]
    },
    {
     "name": "stderr",
     "output_type": "stream",
     "text": [
      " 52%|█████▏    | 24/46 [04:23<04:19, 11.80s/it]"
     ]
    },
    {
     "name": "stdout",
     "output_type": "stream",
     "text": [
      "iset=24, nset=46\n",
      "1373 230302 LM 004\n",
      "ncell: 142, nstim: 8, ntrial: 500\n"
     ]
    },
    {
     "name": "stderr",
     "output_type": "stream",
     "text": [
      " 54%|█████▍    | 25/46 [04:44<05:05, 14.56s/it]"
     ]
    },
    {
     "name": "stdout",
     "output_type": "stream",
     "text": [
      "iset=25, nset=46\n",
      "1381 230307 LM 002\n",
      "ncell: 87, nstim: 8, ntrial: 500\n"
     ]
    },
    {
     "name": "stderr",
     "output_type": "stream",
     "text": [
      " 57%|█████▋    | 26/46 [05:02<05:13, 15.67s/it]"
     ]
    },
    {
     "name": "stdout",
     "output_type": "stream",
     "text": [
      "iset=26, nset=46\n",
      "1381 230307 LM 003\n",
      "ncell: 98, nstim: 8, ntrial: 500\n"
     ]
    },
    {
     "name": "stderr",
     "output_type": "stream",
     "text": [
      " 59%|█████▊    | 27/46 [05:16<04:47, 15.14s/it]"
     ]
    },
    {
     "name": "stdout",
     "output_type": "stream",
     "text": [
      "iset=27, nset=46\n",
      "1381 230307 LM 004\n",
      "ncell: 100, nstim: 8, ntrial: 500\n"
     ]
    },
    {
     "name": "stderr",
     "output_type": "stream",
     "text": [
      " 61%|██████    | 28/46 [05:31<04:33, 15.20s/it]"
     ]
    },
    {
     "name": "stdout",
     "output_type": "stream",
     "text": [
      "iset=28, nset=46\n",
      "1323 200723 LI 003\n",
      "ncell: 33, nstim: 8, ntrial: 464\n"
     ]
    },
    {
     "name": "stderr",
     "output_type": "stream",
     "text": [
      " 63%|██████▎   | 29/46 [05:36<03:23, 11.96s/it]"
     ]
    },
    {
     "name": "stdout",
     "output_type": "stream",
     "text": [
      "iset=29, nset=46\n",
      "1322 200806 LI 003\n",
      "ncell: 53, nstim: 8, ntrial: 464\n"
     ]
    },
    {
     "name": "stderr",
     "output_type": "stream",
     "text": [
      " 65%|██████▌   | 30/46 [05:42<02:45, 10.35s/it]"
     ]
    },
    {
     "name": "stdout",
     "output_type": "stream",
     "text": [
      "iset=30, nset=46\n",
      "1328 201202 LI 003\n",
      "ncell: 9, nstim: 8, ntrial: 463\n"
     ]
    },
    {
     "name": "stderr",
     "output_type": "stream",
     "text": [
      " 67%|██████▋   | 31/46 [05:43<01:53,  7.59s/it]"
     ]
    },
    {
     "name": "stdout",
     "output_type": "stream",
     "text": [
      "iset=31, nset=46\n",
      "1328 201202 LI 004\n",
      "ncell: 29, nstim: 8, ntrial: 463\n"
     ]
    },
    {
     "name": "stderr",
     "output_type": "stream",
     "text": [
      " 70%|██████▉   | 32/46 [05:49<01:38,  7.04s/it]"
     ]
    },
    {
     "name": "stdout",
     "output_type": "stream",
     "text": [
      "iset=32, nset=46\n",
      "1329 210113 LI 004\n",
      "ncell: 22, nstim: 8, ntrial: 464\n"
     ]
    },
    {
     "name": "stderr",
     "output_type": "stream",
     "text": [
      " 72%|███████▏  | 33/46 [05:56<01:28,  6.83s/it]"
     ]
    },
    {
     "name": "stdout",
     "output_type": "stream",
     "text": [
      "iset=33, nset=46\n",
      "1329 210113 LI 006\n",
      "ncell: 23, nstim: 8, ntrial: 463\n"
     ]
    },
    {
     "name": "stderr",
     "output_type": "stream",
     "text": [
      " 74%|███████▍  | 34/46 [05:59<01:09,  5.77s/it]"
     ]
    },
    {
     "name": "stdout",
     "output_type": "stream",
     "text": [
      "iset=34, nset=46\n",
      "1337 210203 LI 003\n",
      "ncell: 43, nstim: 8, ntrial: 463\n"
     ]
    },
    {
     "name": "stderr",
     "output_type": "stream",
     "text": [
      " 76%|███████▌  | 35/46 [06:06<01:06,  6.09s/it]"
     ]
    },
    {
     "name": "stdout",
     "output_type": "stream",
     "text": [
      "iset=35, nset=46\n",
      "1337 210203 LI 004\n",
      "ncell: 25, nstim: 8, ntrial: 463\n"
     ]
    },
    {
     "name": "stderr",
     "output_type": "stream",
     "text": [
      " 78%|███████▊  | 36/46 [06:10<00:56,  5.61s/it]"
     ]
    },
    {
     "name": "stdout",
     "output_type": "stream",
     "text": [
      "iset=36, nset=46\n",
      "1339 210930 LI 002\n",
      "ncell: 24, nstim: 8, ntrial: 462\n"
     ]
    },
    {
     "name": "stderr",
     "output_type": "stream",
     "text": [
      " 80%|████████  | 37/46 [06:13<00:42,  4.68s/it]"
     ]
    },
    {
     "name": "stdout",
     "output_type": "stream",
     "text": [
      "iset=37, nset=46\n",
      "1339 210930 LI 003\n",
      "ncell: 25, nstim: 8, ntrial: 463\n"
     ]
    },
    {
     "name": "stderr",
     "output_type": "stream",
     "text": [
      " 83%|████████▎ | 38/46 [06:18<00:38,  4.81s/it]"
     ]
    },
    {
     "name": "stdout",
     "output_type": "stream",
     "text": [
      "iset=38, nset=46\n",
      "1350 211028 LI 002\n",
      "ncell: 35, nstim: 8, ntrial: 464\n"
     ]
    },
    {
     "name": "stderr",
     "output_type": "stream",
     "text": [
      " 85%|████████▍ | 39/46 [06:23<00:35,  5.05s/it]"
     ]
    },
    {
     "name": "stdout",
     "output_type": "stream",
     "text": [
      "iset=39, nset=46\n",
      "1350 211028 LI 003\n",
      "ncell: 34, nstim: 8, ntrial: 462\n"
     ]
    },
    {
     "name": "stderr",
     "output_type": "stream",
     "text": [
      " 87%|████████▋ | 40/46 [06:29<00:31,  5.19s/it]"
     ]
    },
    {
     "name": "stdout",
     "output_type": "stream",
     "text": [
      "iset=40, nset=46\n",
      "1380 230110 LI 002\n",
      "ncell: 35, nstim: 8, ntrial: 463\n"
     ]
    },
    {
     "name": "stderr",
     "output_type": "stream",
     "text": [
      " 89%|████████▉ | 41/46 [06:33<00:24,  4.89s/it]"
     ]
    },
    {
     "name": "stdout",
     "output_type": "stream",
     "text": [
      "iset=41, nset=46\n",
      "1380 230110 LI 003\n",
      "ncell: 15, nstim: 8, ntrial: 462\n"
     ]
    },
    {
     "name": "stderr",
     "output_type": "stream",
     "text": [
      " 91%|█████████▏| 42/46 [06:36<00:16,  4.18s/it]"
     ]
    },
    {
     "name": "stdout",
     "output_type": "stream",
     "text": [
      "iset=42, nset=46\n",
      "1373 230228 LI 002\n",
      "ncell: 73, nstim: 8, ntrial: 501\n"
     ]
    },
    {
     "name": "stderr",
     "output_type": "stream",
     "text": [
      " 93%|█████████▎| 43/46 [06:50<00:21,  7.16s/it]"
     ]
    },
    {
     "name": "stdout",
     "output_type": "stream",
     "text": [
      "iset=43, nset=46\n",
      "1373 230228 LI 003\n",
      "ncell: 86, nstim: 8, ntrial: 502\n"
     ]
    },
    {
     "name": "stderr",
     "output_type": "stream",
     "text": [
      " 96%|█████████▌| 44/46 [07:04<00:18,  9.43s/it]"
     ]
    },
    {
     "name": "stdout",
     "output_type": "stream",
     "text": [
      "iset=44, nset=46\n",
      "1381 230309 LI 002\n",
      "ncell: 94, nstim: 8, ntrial: 501\n"
     ]
    },
    {
     "name": "stderr",
     "output_type": "stream",
     "text": [
      " 98%|█████████▊| 45/46 [07:17<00:10, 10.44s/it]"
     ]
    },
    {
     "name": "stdout",
     "output_type": "stream",
     "text": [
      "iset=45, nset=46\n",
      "1381 230309 LI 003\n",
      "ncell: 33, nstim: 8, ntrial: 478\n"
     ]
    },
    {
     "name": "stderr",
     "output_type": "stream",
     "text": [
      "100%|██████████| 46/46 [07:22<00:00,  9.62s/it]\n"
     ]
    }
   ],
   "source": [
    "# meta = pd.concat([meta_V1, meta_LM, meta_LI], axis=0).reset_index(drop=True)\n",
    "# nset = len(meta)\n",
    "\n",
    "# for iset in tqdm(range(nset)):\n",
    "#     print(f'iset={iset}, nset={nset}')\n",
    "\n",
    "\n",
    "#     ## load data\n",
    "#     mouse = meta.loc[iset, 'mouse'].astype(str)\n",
    "#     imouse = 'i' + mouse\n",
    "#     date = meta.loc[iset, 'date'].astype(str)\n",
    "#     area = meta.loc[iset, 'area']\n",
    "#     sess = meta.loc[iset, 'num']\n",
    "#     print(mouse, date, area, sess)\n",
    "#     dir_identifier = f'{area}_{imouse}_{date}_{sess}'\n",
    "\n",
    "#     mat_inter = r'\\\\duhs-user-nc1.dhe.duke.edu\\dusom_glickfeldlab\\All_Staff\\home\\lan\\Data\\2P_images\\mat_inter/'.replace('\\\\', '/')\n",
    "#     for dirname in os.listdir(mat_inter):\n",
    "#         if dir_identifier in dirname:\n",
    "#             dir_data = mat_inter + dirname\n",
    "#             break\n",
    "\n",
    "#     stim_id, resp_ad, resp_tg = adp.load_resp_trial(os.path.join(dir_data), vis_filter=False) # already sliced by resp time window from matlab. only differentiating isi in resp_tg by indexing into trial. match isi_nframe\n",
    "#     ## NOTE: stim_id contains the final trial, which should be cut off due to incomplete trial, to match trace_by_trial\n",
    "\n",
    "\n",
    "#     ## construct dfof\n",
    "#     R1_dfof = resp_ad.flatten() # cell x trial, row major flatten\n",
    "#     R2_dfof = resp_tg.flatten()\n",
    "#     dfof = np.hstack((R1_dfof, R2_dfof)) # sort by cell_id, then trial_id, finally resp_id\n",
    "\n",
    "\n",
    "#     ## construct cell, trial, resp id\n",
    "#     ncell = resp_ad.shape[0]\n",
    "#     ntrial = resp_ad.shape[1]\n",
    "#     cell_id = np.repeat(np.arange(ncell), ntrial) # repeat cell id arr for ntrial times == sort by cell_id, then trial_id\n",
    "#     cell_id = np.hstack((cell_id, cell_id)) # stack two copies for R1 and R2. finally sort by resp_id\n",
    "\n",
    "#     trial_id = np.tile(np.arange(ntrial), ncell) # for each cell, go over all trials\n",
    "#     trial_id = np.hstack((trial_id, trial_id))\n",
    "\n",
    "#     len_df = ncell * ntrial * 2 # 2 for (R1, R2)\n",
    "#     resp_id = ['R1'] * int(len_df/2) + ['R2'] * int(len_df/2) # first half is flattened resp_ad, second half is flattened resp_tg\n",
    "\n",
    "\n",
    "#     ## construct stim info col: stim 2 orientation, stim 1 orien, isi, adapter contrast\n",
    "#     trial_stim_orien = [item[0] for item in stim_id['stim_ori']] # print(np.sort(np.unique(trial_stim_orien)))\n",
    "#     trial_stim_orien_dict = {} ## map stim2 orientation to int. convert from grat ori in deg to 0-based indexing (ensured)\n",
    "#     for i, item in enumerate(np.sort(np.unique(trial_stim_orien))):\n",
    "#         trial_stim_orien_dict[item] = i\n",
    "#     trial_stim_orien_int = [trial_stim_orien_dict[item] for item in trial_stim_orien]\n",
    "\n",
    "#     trial_isi_nframe = [item[0] for item in stim_id['isi_nframe']]\n",
    "#     trial_adapter_contrast = [item[0] for item in stim_id['adapter_contrast']]\n",
    "\n",
    "#     trial_stim_orien_int = trial_stim_orien_int[:ntrial] # if any stim info longer than ntrial, slice off the last one\n",
    "#     trial_isi_nframe = trial_isi_nframe[:ntrial]\n",
    "#     trial_adapter_contrast = trial_adapter_contrast[:ntrial]\n",
    "    \n",
    "\n",
    "#     ## make stim info col: same as trial_id - tile then hstack\n",
    "#     stim_id_col = np.tile(trial_stim_orien_int, ncell)\n",
    "#     isi_col = np.tile(trial_isi_nframe, ncell)\n",
    "#     ad_con_col = np.tile(trial_adapter_contrast, ncell)\n",
    "\n",
    "#     stim_id_col = np.hstack((stim_id_col, stim_id_col)) # stim2 orientation\n",
    "#     isi_col = np.hstack((isi_col, isi_col))\n",
    "#     ad_con_col = np.hstack((ad_con_col, ad_con_col))\n",
    "\n",
    "#     df_tidy = pd.DataFrame({'dfof': dfof, 'cell_id': cell_id, 'trial_id': trial_id, 'resp_id': resp_id, \n",
    "#                             'isi': isi_col, 'stim1_contrast': ad_con_col, \n",
    "#                             'stim2_id': stim_id_col,})\n",
    "#     df_tidy['area'] = area\n",
    "#     df_tidy['stim1_id'] = 0 # adapter (stim1) is always 0 deg / vertical gratings\n",
    "#     df_tidy.loc[(df_tidy.stim1_contrast == 0) & (df_tidy.resp_id == 'R1'), 'dfof'] = np.nan # set R1 to nan if no adapter (stim1_contrast == 0)\n",
    "#     df_tidy = df_tidy.dropna().reset_index(drop=True) # drop nan rows\n",
    "\n",
    "#     df_tidy['isi'] = df_tidy['isi'].apply(lambda x: 250 if x <= 10 else 750) # convert isi_nframe to ms. 250 ms is about 8 frames, 750 ms is about 22-23 frames\n",
    "#     df_tidy.loc[df_tidy.stim1_contrast == 0, 'isi'] = 6000 # set ISI to 6000 ms (equal to ITI) if no adapter (stim1_contrast == 0)\n",
    "\n",
    "\n",
    "#     ## vis cell filter, well_fit filter, & img driven cell-stim filter\n",
    "#     df_tidy['filter_cell_vis'] = np.nan\n",
    "#     df_tidy['filter_cell_vis_pval'] = np.nan # allow continuous filtering on how significant the cell gets visually driven\n",
    "#     df_tidy['filter_cell_well_fit'] = np.nan\n",
    "#     df_tidy['filter_cell_stim'] = np.nan\n",
    "\n",
    "#     with open(os.path.join(dir_data, 'vis_driven_ttest_bonferroni.pickle'), 'rb') as f: # changed to strict bonferroni\n",
    "#     # with open(os.path.join(dir_data, 'vis_driven_ttest_bonferroni_strict.pickle'), 'rb') as f: # changed to strict bonferroni\n",
    "#         filter_file = pickle.load(f)\n",
    "#     filter_cell_stim = filter_file['img_driven']\n",
    "#     filter_cell_vis = filter_file['vis_driven']\n",
    "#     filter_cell_vis_pval = np.min(filter_file['p_ttest'], axis=1) # min pval across all stim\n",
    "        \n",
    "#     well_fit = sio.loadmat(os.path.join(dir_data, 'fit_bootstrap_90perc.mat'))\n",
    "#     well_fit_cell = np.array([x[0] for x in well_fit['well_fit_cell']])\n",
    "\n",
    "#     for icell in np.arange(filter_cell_stim.shape[0]): # filter_cell_stim is ncell x nstim\n",
    "#         df_tidy.loc[df_tidy['cell_id']==icell, 'filter_cell_vis'] = filter_cell_vis[icell]\n",
    "#         df_tidy.loc[df_tidy['cell_id']==icell, 'filter_cell_vis_pval'] = filter_cell_vis_pval[icell]\n",
    "#         df_tidy.loc[df_tidy['cell_id']==icell, 'filter_cell_well_fit'] = well_fit_cell[icell]\n",
    "#         for istim in np.arange(filter_cell_stim.shape[1]):\n",
    "#             df_tidy.loc[(df_tidy['stim2_id']==istim) & (df_tidy['cell_id']==icell), 'filter_cell_stim'] = filter_cell_stim[icell, istim]\n",
    "#     # df_tidy.filter_cell_vis.value_counts(), df_tidy.filter_cell_stim.value_counts()\n",
    "\n",
    "\n",
    "#     # ## cell tuning in 3 possible ISI, 2 runs (each run uses half of the trials)\n",
    "#     # fit_tuning_half = sio.loadmat(os.path.join(dir_data, 'fit_tuning_half_trials.mat'))\n",
    "#     # ori_pref_run1 = fit_tuning_half['ori_pref_runs'][:, :, 0] # ncell x 3isi x 2run, [noad vs ad750 vs ad250]\n",
    "#     # ori_pref_run2 = fit_tuning_half['ori_pref_runs'][:, :, 1]\n",
    "\n",
    "#     # ori_pref_runs_sorted = well_fit['ori_pref_runs']\n",
    "#     # # ori_pref_runs_sorted = np.array([np.sort(x) for x in well_fit['ori_pref_runs']]) # ncell x nrun. sort each row of ori_pref_runs\n",
    "#     # # for icell in np.arange(10):\n",
    "#     # #     plt.plot(ori_pref_runs_sorted[icell, :])\n",
    "\n",
    "#     # percentile_threshold = 0.9\n",
    "#     # # if area == 'LI':\n",
    "#     # #     percentile_threshold = 0.7 # taken from well_fit_cell_criteria(_relax).m, only relax for LI\n",
    "#     # nrun = ori_pref_runs_sorted.shape[1]\n",
    "#     # rand_idx = np.random.randint(nrun*(1-percentile_threshold), nrun*percentile_threshold, size=2) # # bc well_fit cells are defined as: 90% of bootstrapped ori_pref within 22.5 deg, randomly select 2 indices between 100-900 in ori_pref_runs_sorted\n",
    "#     # ori_pref_noad1 = ori_pref_runs_sorted[:, rand_idx[0]] # ncell x 1\n",
    "#     # ori_pref_noad2 = ori_pref_runs_sorted[:, rand_idx[1]]\n",
    "\n",
    "\n",
    "#     # ## goodness of fit (R square) in isi 250 or 750\n",
    "#     # fit_tuning = sio.loadmat(os.path.join(dir_data, 'fit_tuning_isi3.mat')) # fit_tuning['fit_param'].shape # ncell x nparam x nstim\n",
    "#     # R_square = fit_tuning['fit_param'][:, -1, :] # ncell x nstim, final param is R_square of fit\n",
    "#     # R_square_750 = R_square[:, 1] # use R_sq to determine well_fit_ad\n",
    "#     # R_square_250 = R_square[:, 2]\n",
    "#     # well_fit_ad_250 = R_square_250 >= np.percentile(R_square_250, 50) # ncell x 1. only take top 50% of R_sq\n",
    "#     # well_fit_ad_750 = R_square_750 >= np.percentile(R_square_750, 50)\n",
    "\n",
    "\n",
    "#     # ## write cell property to df_tidy\n",
    "#     # ncell = df_tidy.cell_id.unique().shape[0]\n",
    "#     # for icell in np.arange(ncell):\n",
    "#     #     df_tidy.loc[(df_tidy.cell_id == icell), 'ori_pref_noad'] = ori_pref_run1[icell, 0] # ori_pref_run1 is ncell x 3isi, [noad vs ad750 vs ad250]\n",
    "#     #     df_tidy.loc[(df_tidy.cell_id == icell), 'ori_pref_ad_750'] = ori_pref_run1[icell, 1]\n",
    "#     #     df_tidy.loc[(df_tidy.cell_id == icell), 'ori_pref_ad_250'] = ori_pref_run1[icell, 2]\n",
    "\n",
    "#     #     df_tidy.loc[(df_tidy.cell_id == icell), 'ori_pref_noad1'] = ori_pref_run1[icell, 0] # for control plot. ori_pref_noad1 is same as ori_pref_noad\n",
    "#     #     df_tidy.loc[(df_tidy.cell_id == icell), 'ori_pref_noad2'] = ori_pref_run2[icell, 0] # take from another run\n",
    "\n",
    "#     #     df_tidy.loc[df_tidy['cell_id']==icell, 'filter_cell_well_fit_ad_250'] = well_fit_ad_250[icell]\n",
    "#     #     df_tidy.loc[df_tidy['cell_id']==icell, 'filter_cell_well_fit_ad_750'] = well_fit_ad_750[icell]\n",
    "    \n",
    "#     # break\n",
    "\n",
    "#     ## save df_tidy as csv\n",
    "#     df_tidy.to_csv(os.path.join(dir_data, 'df_tidy_continuous_vis_pval.csv'), index=False)\n",
    "\n",
    "# # clear_output()"
   ]
  },
  {
   "attachments": {},
   "cell_type": "markdown",
   "metadata": {},
   "source": [
    "# batch load df_tidy"
   ]
  },
  {
   "cell_type": "code",
   "execution_count": 7,
   "metadata": {},
   "outputs": [],
   "source": [
    "meta = pd.concat([meta_V1, meta_LM, meta_LI], axis=0).reset_index(drop=True)\n",
    "nset = len(meta)\n",
    "df_tidy = pd.DataFrame()\n",
    "\n",
    "for iset in tqdm(range(nset)):\n",
    "    # print(f'iset={iset}, nset={nset}')\n",
    "\n",
    "    mouse = meta.loc[iset, 'mouse'].astype(str)\n",
    "    imouse = 'i' + mouse\n",
    "    date = meta.loc[iset, 'date'].astype(str)\n",
    "    area = meta.loc[iset, 'area']\n",
    "    sess = meta.loc[iset, 'num']\n",
    "    # print(imouse, date, area, sess)\n",
    "    dir_identifier = f'{area}_{imouse}_{date}_{sess}'\n",
    "\n",
    "    dir_data = r'\\\\duhs-user-nc1.dhe.duke.edu\\dusom_glickfeldlab\\All_Staff\\home\\lan\\Data\\2P_images\\mat_inter/'.replace('\\\\', '/')\n",
    "    csv_filename = 'df_tidy_continuous_vis_pval.csv'\n",
    "    try:\n",
    "        df_tidy_now = pd.read_csv(os.path.join(dir_data, dir_identifier, csv_filename))\n",
    "    except:\n",
    "        dir_identifier = dir_identifier + '_cellpose'\n",
    "        df_tidy_now = pd.read_csv(os.path.join(dir_data, dir_identifier, csv_filename))\n",
    "\n",
    "    df_tidy_now['mouse'] = mouse\n",
    "    df_tidy_now['date'] = date\n",
    "    df_tidy_now['sess'] = sess\n",
    "    df_tidy_now['cell_id'] = (df_tidy_now.date.astype(str) + '_' \n",
    "                               + df_tidy_now.sess.astype(str) + '_' \n",
    "                               + df_tidy_now.cell_id.astype(str)) # cell_id adjusted to be unique across mice, dates, sessions\n",
    "    df_tidy = pd.concat([df_tidy, df_tidy_now], axis=0).reset_index(drop=True)\n",
    "    # break\n",
    "    \n",
    "df_tidy['date_sess'] = df_tidy.date.astype(str) + '_' + df_tidy.sess.astype(str)\n",
    "clear_output()"
   ]
  },
  {
   "attachments": {},
   "cell_type": "markdown",
   "metadata": {},
   "source": [
    "# adaptation by area"
   ]
  },
  {
   "cell_type": "markdown",
   "metadata": {},
   "source": [
    "## R1 & adp across area"
   ]
  },
  {
   "cell_type": "code",
   "execution_count": 8,
   "metadata": {},
   "outputs": [
    {
     "data": {
      "image/png": "[encoded data removed]",
      "text/plain": [
       "<Figure size 640x480 with 1 Axes>"
      ]
     },
     "metadata": {},
     "output_type": "display_data"
    }
   ],
   "source": [
    "def R1_in_area(df_filter):\n",
    "\n",
    "    gb_R1 = df_filter[(df_filter.stim2_id == 0) & (df_filter.resp_id == 'R1') & (df_filter.isi == 250)].groupby(['area', 'cell_id']).sum()['dfof'].values\n",
    "    gb_R2 = df_filter[(df_filter.stim2_id == 0) & (df_filter.resp_id == 'R2') & (df_filter.isi == 250)].groupby(['area', 'cell_id']).sum()['dfof'].values\n",
    "    gb_adp = (gb_R2 - gb_R1) / (gb_R1 + 1e-7)\n",
    "\n",
    "    gb_R1 = gb_R1[(np.abs(gb_R1 >= 0.01)) \n",
    "                & (np.abs(gb_R1 <= 5))\n",
    "                & (np.abs(gb_adp) < 3) \n",
    "                ] # NOTE: use the same cell filter as func adp_in_area\n",
    "\n",
    "    return gb_R1\n",
    "\n",
    "\n",
    "df_filter = df_tidy[(df_tidy.filter_cell_vis == True)\n",
    "                    ]\n",
    "gb_R1_V1 = R1_in_area(df_filter[df_filter.area == 'V1'])\n",
    "gb_R1_LM = R1_in_area(df_filter[df_filter.area == 'LM'])\n",
    "gb_R1_LI = R1_in_area(df_filter[df_filter.area == 'LI'])\n",
    "\n",
    "\n",
    "ax = sns.violinplot(data=[gb_R1_V1, gb_R1_LM, gb_R1_LI], \n",
    "                    palette=['#85A7EB', '#F6CD51', '#D1A6DE'], \n",
    "                    )\n",
    "\n",
    "_, p_kruskal = stats.kruskal(gb_R1_V1, gb_R1_LM, gb_R1_LI)\n",
    "plt.text(1.3, 5, 'p={:.2f}'.format(p_kruskal), fontsize=14)\n",
    "\n",
    "plt.xticks([0, 1, 2], ['V1', 'LM', 'LI'], fontsize=16);\n",
    "plt.ylabel('R1', fontsize=16);\n",
    "sns.despine();\n",
    "plt.tight_layout();\n",
    "\n",
    "# plt.savefig(os.path.join(dir_fig, 'fig2_R1_by_area_grat8_vis_bonf_corel.svg'))"
   ]
  },
  {
   "cell_type": "code",
   "execution_count": 10,
   "metadata": {},
   "outputs": [
    {
     "name": "stdout",
     "output_type": "stream",
     "text": [
      "KruskalResult(statistic=5.201208368722291, pvalue=0.07422871683356748)\n"
     ]
    },
    {
     "data": {
      "text/plain": [
       "(MannwhitneyuResult(statistic=173663.0, pvalue=0.02376051098395452),\n",
       " MannwhitneyuResult(statistic=39041.0, pvalue=0.18682459542909824),\n",
       " MannwhitneyuResult(statistic=80582.0, pvalue=0.7403055133138545))"
      ]
     },
     "execution_count": 10,
     "metadata": {},
     "output_type": "execute_result"
    }
   ],
   "source": [
    "## kruskal wallis test\n",
    "print(stats.kruskal(gb_R1_V1, gb_R1_LM, gb_R1_LI))\n",
    "\n",
    "## mann whitney u test (Wilcoxon rank-sum test)\n",
    "stats.mannwhitneyu(gb_R1_V1, gb_R1_LM), stats.mannwhitneyu(gb_R1_V1, gb_R1_LI), stats.mannwhitneyu(gb_R1_LM, gb_R1_LI)"
   ]
  },
  {
   "cell_type": "code",
   "execution_count": 11,
   "metadata": {},
   "outputs": [
    {
     "data": {
      "image/png": "[encoded data removed]",
      "text/plain": [
       "<Figure size 640x480 with 1 Axes>"
      ]
     },
     "metadata": {},
     "output_type": "display_data"
    }
   ],
   "source": [
    "import warnings\n",
    "warnings.simplefilter(action='ignore', category=FutureWarning) ## suppress FutureWarning\n",
    "\n",
    "def adp_in_area(df_filter):\n",
    "\n",
    "    gb_R1 = df_filter[(df_filter.stim2_id == 0) & (df_filter.resp_id == 'R1') & (df_filter.isi == 250)].groupby(['area', 'cell_id']).sum()['dfof'].values\n",
    "    gb_R2 = df_filter[(df_filter.stim2_id == 0) & (df_filter.resp_id == 'R2') & (df_filter.isi == 250)].groupby(['area', 'cell_id']).sum()['dfof'].values\n",
    "    gb_adp = (gb_R2 - gb_R1) / (gb_R1 + 1e-7)\n",
    "    \n",
    "    # gb_adp = gb_adp[np.abs(gb_adp) < 2]\n",
    "    gb_adp = gb_adp[(np.abs(gb_R1 >= 0.01)) \n",
    "                    & (np.abs(gb_R1 <= 5))\n",
    "                    & (np.abs(gb_adp) < 3) \n",
    "                    ]\n",
    "\n",
    "    return gb_adp\n",
    "\n",
    "\n",
    "df_filter = df_tidy[(df_tidy.filter_cell_vis == True)\n",
    "                    ]\n",
    "gb_adp_V1 = adp_in_area(df_filter[df_filter.area == 'V1'])\n",
    "gb_adp_LM = adp_in_area(df_filter[df_filter.area == 'LM'])\n",
    "gb_adp_LI = adp_in_area(df_filter[df_filter.area == 'LI'])\n",
    "\n",
    "\n",
    "ax = sns.violinplot(data=[gb_adp_V1, gb_adp_LM, gb_adp_LI], \n",
    "                    palette=['#85A7EB', '#F6CD51', '#D1A6DE'], \n",
    "                    )\n",
    "\n",
    "_, p_kruskal = stats.kruskal(gb_adp_V1, gb_adp_LM, gb_adp_LI)\n",
    "plt.text(1.3, 2.5, 'p={:.1e}'.format(p_kruskal), fontsize=14)\n",
    "\n",
    "plt.xticks([0, 1, 2], ['V1', 'LM', 'LI'], fontsize=16);\n",
    "plt.ylabel('Adaptation index', fontsize=16);\n",
    "sns.despine();\n",
    "plt.tight_layout();\n",
    "\n",
    "# plt.savefig(os.path.join(dir_fig, 'fig2_adp_by_area_grat8_vis_bonf_corel_filterR1.svg'))"
   ]
  },
  {
   "cell_type": "code",
   "execution_count": 12,
   "metadata": {},
   "outputs": [
    {
     "name": "stdout",
     "output_type": "stream",
     "text": [
      "KruskalResult(statistic=32.064727246017355, pvalue=1.089514329794307e-07)\n"
     ]
    },
    {
     "data": {
      "text/plain": [
       "(MannwhitneyuResult(statistic=172891.0, pvalue=0.03347284244727577),\n",
       " MannwhitneyuResult(statistic=46921.0, pvalue=3.087061330014071e-08),\n",
       " MannwhitneyuResult(statistic=99331.0, pvalue=3.4548394949551472e-06))"
      ]
     },
     "execution_count": 12,
     "metadata": {},
     "output_type": "execute_result"
    }
   ],
   "source": [
    "## kruskal wallis test\n",
    "print(stats.kruskal(gb_adp_V1, gb_adp_LM, gb_adp_LI))\n",
    "\n",
    "## mann whitney u test (Wilcoxon rank-sum test)\n",
    "stats.mannwhitneyu(gb_adp_V1, gb_adp_LM), stats.mannwhitneyu(gb_adp_V1, gb_adp_LI), stats.mannwhitneyu(gb_adp_LM, gb_adp_LI)"
   ]
  },
  {
   "cell_type": "markdown",
   "metadata": {},
   "source": [
    "## vis cell % stacked histogram "
   ]
  },
  {
   "cell_type": "code",
   "execution_count": 14,
   "metadata": {},
   "outputs": [
    {
     "data": {
      "text/html": [
       "<div>\n",
       "<style scoped>\n",
       "    .dataframe tbody tr th:only-of-type {\n",
       "        vertical-align: middle;\n",
       "    }\n",
       "\n",
       "    .dataframe tbody tr th {\n",
       "        vertical-align: top;\n",
       "    }\n",
       "\n",
       "    .dataframe thead th {\n",
       "        text-align: right;\n",
       "    }\n",
       "</style>\n",
       "<table border=\"1\" class=\"dataframe\">\n",
       "  <thead>\n",
       "    <tr style=\"text-align: right;\">\n",
       "      <th>vis_str</th>\n",
       "      <th>not visually driven</th>\n",
       "      <th>moderately visually driven</th>\n",
       "      <th>strongly visually driven</th>\n",
       "    </tr>\n",
       "    <tr>\n",
       "      <th>area</th>\n",
       "      <th></th>\n",
       "      <th></th>\n",
       "      <th></th>\n",
       "    </tr>\n",
       "  </thead>\n",
       "  <tbody>\n",
       "    <tr>\n",
       "      <th>V1</th>\n",
       "      <td>297</td>\n",
       "      <td>99</td>\n",
       "      <td>187</td>\n",
       "    </tr>\n",
       "    <tr>\n",
       "      <th>LM</th>\n",
       "      <td>1095</td>\n",
       "      <td>217</td>\n",
       "      <td>403</td>\n",
       "    </tr>\n",
       "    <tr>\n",
       "      <th>LI</th>\n",
       "      <td>568</td>\n",
       "      <td>50</td>\n",
       "      <td>73</td>\n",
       "    </tr>\n",
       "  </tbody>\n",
       "</table>\n",
       "</div>"
      ],
      "text/plain": [
       "vis_str  not visually driven  moderately visually driven  \\\n",
       "area                                                       \n",
       "V1                       297                          99   \n",
       "LM                      1095                         217   \n",
       "LI                       568                          50   \n",
       "\n",
       "vis_str  strongly visually driven  \n",
       "area                               \n",
       "V1                            187  \n",
       "LM                            403  \n",
       "LI                             73  "
      ]
     },
     "execution_count": 14,
     "metadata": {},
     "output_type": "execute_result"
    }
   ],
   "source": [
    "df_cell_property = df_tidy.groupby('cell_id').first()\n",
    "df_cell_property['vis_str'] = 'not visually driven'\n",
    "\n",
    "nstim = df_tidy.stim2_id.nunique()\n",
    "df_cell_property.loc[df_cell_property.filter_cell_vis_pval < 0.05 / nstim, 'vis_str'] = 'moderately visually driven' # bonferroni correction\n",
    "df_cell_property.loc[df_cell_property.filter_cell_vis_pval < 0.01 / nstim, 'vis_str'] = 'strongly visually driven'\n",
    "\n",
    "df_vis_hist = df_cell_property.groupby('area').vis_str.value_counts().unstack()\n",
    "df_vis_hist = df_vis_hist.iloc[::-1] # row order: V1, LM, LI\n",
    "df_vis_hist = df_vis_hist.iloc[:, [1, 0, 2]] # column order: not visually driven -> moderately -> strongly visually driven\n",
    "df_vis_hist"
   ]
  },
  {
   "cell_type": "code",
   "execution_count": 16,
   "metadata": {},
   "outputs": [
    {
     "data": {
      "image/png": "[encoded data removed]",
      "text/plain": [
       "<Figure size 800x500 with 1 Axes>"
      ]
     },
     "metadata": {},
     "output_type": "display_data"
    }
   ],
   "source": [
    "(df_vis_hist\n",
    "    .plot(kind='bar', stacked=True, \n",
    "    figsize=(8, 5), \n",
    "    colormap=ListedColormap([\"black\", \"gray\", \"silver\"]), \n",
    "    width=0.8) # make bar thinner\n",
    "    );\n",
    "\n",
    "plt.legend(frameon=False, bbox_to_anchor=(1, 1));\n",
    "plt.xticks(rotation=0, fontsize=16); # rotate x tick labels back to horizontal\n",
    "plt.xlabel('')\n",
    "plt.ylabel('Number of cells', fontsize=16);\n",
    "sns.despine();\n",
    "plt.tight_layout();\n",
    "\n",
    "# plt.savefig(os.path.join(dir_fig, 'vis_cell_by_area.svg'))"
   ]
  },
  {
   "attachments": {},
   "cell_type": "markdown",
   "metadata": {},
   "source": [
    "# tuning bias with well-max\n",
    "take max resp as ori_pref"
   ]
  },
  {
   "attachments": {},
   "cell_type": "markdown",
   "metadata": {},
   "source": [
    "## filter cell well-max (no rerun)"
   ]
  },
  {
   "cell_type": "code",
   "execution_count": 26,
   "metadata": {},
   "outputs": [
    {
     "name": "stderr",
     "output_type": "stream",
     "text": [
      "100%|██████████| 50/50 [03:50<00:00,  4.61s/it]\n"
     ]
    }
   ],
   "source": [
    "## construct tuning_vec column\n",
    "\n",
    "max_ori_bootstrap = np.array([])\n",
    "nboot = 50\n",
    "\n",
    "for iboot in tqdm(range(nboot)):\n",
    "    max_ori = (df_tidy[df_tidy.resp_id == 'R2'] # only R2 has diff ori\n",
    "                [['dfof', 'cell_id', 'resp_id', 'isi', 'stim2_id']]\n",
    "                .groupby(['cell_id', 'isi', 'stim2_id'])\n",
    "                .sample(frac=.7, random_state=iboot) # sample x trials per group. min rep = 48\n",
    "                .groupby(['cell_id', 'isi', 'stim2_id'])\n",
    "                .agg({'dfof': 'mean'}) # aggregate resp by cell, isi, ori\n",
    "                .groupby(['cell_id', 'isi']).apply(lambda x: np.argmax(x)) # get ori with max resp\n",
    "                .reset_index() # NOTE: due to prev groupby, cell_id and isi are in order\n",
    "                .rename(columns={0: 'max_ori'}).max_ori.values\n",
    "                )\n",
    "    max_ori_bootstrap = np.append(max_ori_bootstrap, max_ori)"
   ]
  },
  {
   "cell_type": "code",
   "execution_count": 27,
   "metadata": {},
   "outputs": [
    {
     "data": {
      "text/html": [
       "<div>\n",
       "<style scoped>\n",
       "    .dataframe tbody tr th:only-of-type {\n",
       "        vertical-align: middle;\n",
       "    }\n",
       "\n",
       "    .dataframe tbody tr th {\n",
       "        vertical-align: top;\n",
       "    }\n",
       "\n",
       "    .dataframe thead th {\n",
       "        text-align: right;\n",
       "    }\n",
       "</style>\n",
       "<table border=\"1\" class=\"dataframe\">\n",
       "  <thead>\n",
       "    <tr style=\"text-align: right;\">\n",
       "      <th></th>\n",
       "      <th>cell_id</th>\n",
       "      <th>isi</th>\n",
       "      <th>filter_cell_well_max</th>\n",
       "    </tr>\n",
       "  </thead>\n",
       "  <tbody>\n",
       "    <tr>\n",
       "      <th>0</th>\n",
       "      <td>200720_003_0</td>\n",
       "      <td>250</td>\n",
       "      <td>False</td>\n",
       "    </tr>\n",
       "    <tr>\n",
       "      <th>1</th>\n",
       "      <td>200720_003_0</td>\n",
       "      <td>750</td>\n",
       "      <td>True</td>\n",
       "    </tr>\n",
       "    <tr>\n",
       "      <th>2</th>\n",
       "      <td>200720_003_0</td>\n",
       "      <td>6000</td>\n",
       "      <td>False</td>\n",
       "    </tr>\n",
       "    <tr>\n",
       "      <th>3</th>\n",
       "      <td>200720_003_1</td>\n",
       "      <td>250</td>\n",
       "      <td>True</td>\n",
       "    </tr>\n",
       "    <tr>\n",
       "      <th>4</th>\n",
       "      <td>200720_003_1</td>\n",
       "      <td>750</td>\n",
       "      <td>False</td>\n",
       "    </tr>\n",
       "    <tr>\n",
       "      <th>...</th>\n",
       "      <td>...</td>\n",
       "      <td>...</td>\n",
       "      <td>...</td>\n",
       "    </tr>\n",
       "    <tr>\n",
       "      <th>8962</th>\n",
       "      <td>230309_003_8</td>\n",
       "      <td>750</td>\n",
       "      <td>False</td>\n",
       "    </tr>\n",
       "    <tr>\n",
       "      <th>8963</th>\n",
       "      <td>230309_003_8</td>\n",
       "      <td>6000</td>\n",
       "      <td>True</td>\n",
       "    </tr>\n",
       "    <tr>\n",
       "      <th>8964</th>\n",
       "      <td>230309_003_9</td>\n",
       "      <td>250</td>\n",
       "      <td>True</td>\n",
       "    </tr>\n",
       "    <tr>\n",
       "      <th>8965</th>\n",
       "      <td>230309_003_9</td>\n",
       "      <td>750</td>\n",
       "      <td>False</td>\n",
       "    </tr>\n",
       "    <tr>\n",
       "      <th>8966</th>\n",
       "      <td>230309_003_9</td>\n",
       "      <td>6000</td>\n",
       "      <td>True</td>\n",
       "    </tr>\n",
       "  </tbody>\n",
       "</table>\n",
       "<p>8967 rows × 3 columns</p>\n",
       "</div>"
      ],
      "text/plain": [
       "           cell_id   isi  filter_cell_well_max\n",
       "0     200720_003_0   250                 False\n",
       "1     200720_003_0   750                  True\n",
       "2     200720_003_0  6000                 False\n",
       "3     200720_003_1   250                  True\n",
       "4     200720_003_1   750                 False\n",
       "...            ...   ...                   ...\n",
       "8962  230309_003_8   750                 False\n",
       "8963  230309_003_8  6000                  True\n",
       "8964  230309_003_9   250                  True\n",
       "8965  230309_003_9   750                 False\n",
       "8966  230309_003_9  6000                  True\n",
       "\n",
       "[8967 rows x 3 columns]"
      ]
     },
     "execution_count": 27,
     "metadata": {},
     "output_type": "execute_result"
    }
   ],
   "source": [
    "max_ori_bootstrap = max_ori_bootstrap.reshape(nboot, -1) # reshape max_ori_bootstrap to: nboot x (ncell x nisi)\n",
    "\n",
    "## sort max_ori_bootstrap in each col (across boots)\n",
    "max_ori_bootstrap = np.sort(max_ori_bootstrap, axis=0)\n",
    "# sns.heatmap(max_ori_bootstrap[:, 10:30], cmap='viridis', cbar=True, annot=True);\n",
    "\n",
    "## count the most freq value in each col (across boots)\n",
    "max_ori_mode_freq = stats.mode(max_ori_bootstrap, axis=0)[1] # count of mode (freq of most freq max_ori)\n",
    "filter_cell_well_max = (max_ori_mode_freq >= nboot * 0.7) # NOTE: strictness of well-max can be adjusted here\n",
    "\n",
    "## merge filter_cell_well_max with df\n",
    "df_well_max = (df_tidy[df_tidy.resp_id == 'R2'][['cell_id', 'isi']]\n",
    "                .groupby(['cell_id', 'isi'])\n",
    "                .first() # get first trial per cell, isi\n",
    "                .reset_index() # due to prev groupby, cell_id and isi are in the same order as max_ori\n",
    "                )\n",
    "df_well_max['filter_cell_well_max'] = filter_cell_well_max\n",
    "df_well_max"
   ]
  },
  {
   "cell_type": "code",
   "execution_count": 28,
   "metadata": {},
   "outputs": [
    {
     "data": {
      "text/html": [
       "<div>\n",
       "<style scoped>\n",
       "    .dataframe tbody tr th:only-of-type {\n",
       "        vertical-align: middle;\n",
       "    }\n",
       "\n",
       "    .dataframe tbody tr th {\n",
       "        vertical-align: top;\n",
       "    }\n",
       "\n",
       "    .dataframe thead th {\n",
       "        text-align: right;\n",
       "    }\n",
       "</style>\n",
       "<table border=\"1\" class=\"dataframe\">\n",
       "  <thead>\n",
       "    <tr style=\"text-align: right;\">\n",
       "      <th></th>\n",
       "      <th>dfof</th>\n",
       "      <th>cell_id</th>\n",
       "      <th>trial_id</th>\n",
       "      <th>resp_id</th>\n",
       "      <th>isi</th>\n",
       "      <th>stim1_contrast</th>\n",
       "      <th>stim2_id</th>\n",
       "      <th>area</th>\n",
       "      <th>stim1_id</th>\n",
       "      <th>filter_cell_vis</th>\n",
       "      <th>filter_cell_vis_pval</th>\n",
       "      <th>filter_cell_well_fit</th>\n",
       "      <th>filter_cell_stim</th>\n",
       "      <th>mouse</th>\n",
       "      <th>date</th>\n",
       "      <th>sess</th>\n",
       "      <th>date_sess</th>\n",
       "      <th>filter_cell_well_max</th>\n",
       "    </tr>\n",
       "  </thead>\n",
       "  <tbody>\n",
       "    <tr>\n",
       "      <th>0</th>\n",
       "      <td>-0.003253</td>\n",
       "      <td>200720_003_0</td>\n",
       "      <td>0</td>\n",
       "      <td>R1</td>\n",
       "      <td>750</td>\n",
       "      <td>1</td>\n",
       "      <td>5</td>\n",
       "      <td>V1</td>\n",
       "      <td>0</td>\n",
       "      <td>True</td>\n",
       "      <td>0.006817</td>\n",
       "      <td>1.0</td>\n",
       "      <td>False</td>\n",
       "      <td>1323</td>\n",
       "      <td>200720</td>\n",
       "      <td>003</td>\n",
       "      <td>200720_003</td>\n",
       "      <td>True</td>\n",
       "    </tr>\n",
       "    <tr>\n",
       "      <th>1</th>\n",
       "      <td>0.088726</td>\n",
       "      <td>200720_003_0</td>\n",
       "      <td>1</td>\n",
       "      <td>R1</td>\n",
       "      <td>250</td>\n",
       "      <td>1</td>\n",
       "      <td>2</td>\n",
       "      <td>V1</td>\n",
       "      <td>0</td>\n",
       "      <td>True</td>\n",
       "      <td>0.006817</td>\n",
       "      <td>1.0</td>\n",
       "      <td>False</td>\n",
       "      <td>1323</td>\n",
       "      <td>200720</td>\n",
       "      <td>003</td>\n",
       "      <td>200720_003</td>\n",
       "      <td>False</td>\n",
       "    </tr>\n",
       "    <tr>\n",
       "      <th>2</th>\n",
       "      <td>-0.010485</td>\n",
       "      <td>200720_003_0</td>\n",
       "      <td>2</td>\n",
       "      <td>R1</td>\n",
       "      <td>250</td>\n",
       "      <td>1</td>\n",
       "      <td>2</td>\n",
       "      <td>V1</td>\n",
       "      <td>0</td>\n",
       "      <td>True</td>\n",
       "      <td>0.006817</td>\n",
       "      <td>1.0</td>\n",
       "      <td>False</td>\n",
       "      <td>1323</td>\n",
       "      <td>200720</td>\n",
       "      <td>003</td>\n",
       "      <td>200720_003</td>\n",
       "      <td>False</td>\n",
       "    </tr>\n",
       "    <tr>\n",
       "      <th>3</th>\n",
       "      <td>-0.050493</td>\n",
       "      <td>200720_003_0</td>\n",
       "      <td>3</td>\n",
       "      <td>R1</td>\n",
       "      <td>750</td>\n",
       "      <td>1</td>\n",
       "      <td>3</td>\n",
       "      <td>V1</td>\n",
       "      <td>0</td>\n",
       "      <td>True</td>\n",
       "      <td>0.006817</td>\n",
       "      <td>1.0</td>\n",
       "      <td>False</td>\n",
       "      <td>1323</td>\n",
       "      <td>200720</td>\n",
       "      <td>003</td>\n",
       "      <td>200720_003</td>\n",
       "      <td>True</td>\n",
       "    </tr>\n",
       "    <tr>\n",
       "      <th>4</th>\n",
       "      <td>0.052611</td>\n",
       "      <td>200720_003_0</td>\n",
       "      <td>5</td>\n",
       "      <td>R1</td>\n",
       "      <td>750</td>\n",
       "      <td>1</td>\n",
       "      <td>0</td>\n",
       "      <td>V1</td>\n",
       "      <td>0</td>\n",
       "      <td>True</td>\n",
       "      <td>0.006817</td>\n",
       "      <td>1.0</td>\n",
       "      <td>False</td>\n",
       "      <td>1323</td>\n",
       "      <td>200720</td>\n",
       "      <td>003</td>\n",
       "      <td>200720_003</td>\n",
       "      <td>True</td>\n",
       "    </tr>\n",
       "    <tr>\n",
       "      <th>...</th>\n",
       "      <td>...</td>\n",
       "      <td>...</td>\n",
       "      <td>...</td>\n",
       "      <td>...</td>\n",
       "      <td>...</td>\n",
       "      <td>...</td>\n",
       "      <td>...</td>\n",
       "      <td>...</td>\n",
       "      <td>...</td>\n",
       "      <td>...</td>\n",
       "      <td>...</td>\n",
       "      <td>...</td>\n",
       "      <td>...</td>\n",
       "      <td>...</td>\n",
       "      <td>...</td>\n",
       "      <td>...</td>\n",
       "      <td>...</td>\n",
       "      <td>...</td>\n",
       "    </tr>\n",
       "    <tr>\n",
       "      <th>2413843</th>\n",
       "      <td>0.074167</td>\n",
       "      <td>230309_003_32</td>\n",
       "      <td>473</td>\n",
       "      <td>R2</td>\n",
       "      <td>750</td>\n",
       "      <td>1</td>\n",
       "      <td>6</td>\n",
       "      <td>LI</td>\n",
       "      <td>0</td>\n",
       "      <td>False</td>\n",
       "      <td>0.181598</td>\n",
       "      <td>0.0</td>\n",
       "      <td>False</td>\n",
       "      <td>1381</td>\n",
       "      <td>230309</td>\n",
       "      <td>003</td>\n",
       "      <td>230309_003</td>\n",
       "      <td>False</td>\n",
       "    </tr>\n",
       "    <tr>\n",
       "      <th>2413844</th>\n",
       "      <td>-0.023736</td>\n",
       "      <td>230309_003_32</td>\n",
       "      <td>474</td>\n",
       "      <td>R2</td>\n",
       "      <td>750</td>\n",
       "      <td>1</td>\n",
       "      <td>0</td>\n",
       "      <td>LI</td>\n",
       "      <td>0</td>\n",
       "      <td>False</td>\n",
       "      <td>0.181598</td>\n",
       "      <td>0.0</td>\n",
       "      <td>False</td>\n",
       "      <td>1381</td>\n",
       "      <td>230309</td>\n",
       "      <td>003</td>\n",
       "      <td>230309_003</td>\n",
       "      <td>False</td>\n",
       "    </tr>\n",
       "    <tr>\n",
       "      <th>2413845</th>\n",
       "      <td>0.060245</td>\n",
       "      <td>230309_003_32</td>\n",
       "      <td>475</td>\n",
       "      <td>R2</td>\n",
       "      <td>250</td>\n",
       "      <td>1</td>\n",
       "      <td>1</td>\n",
       "      <td>LI</td>\n",
       "      <td>0</td>\n",
       "      <td>False</td>\n",
       "      <td>0.181598</td>\n",
       "      <td>0.0</td>\n",
       "      <td>False</td>\n",
       "      <td>1381</td>\n",
       "      <td>230309</td>\n",
       "      <td>003</td>\n",
       "      <td>230309_003</td>\n",
       "      <td>True</td>\n",
       "    </tr>\n",
       "    <tr>\n",
       "      <th>2413846</th>\n",
       "      <td>0.009333</td>\n",
       "      <td>230309_003_32</td>\n",
       "      <td>476</td>\n",
       "      <td>R2</td>\n",
       "      <td>6000</td>\n",
       "      <td>0</td>\n",
       "      <td>2</td>\n",
       "      <td>LI</td>\n",
       "      <td>0</td>\n",
       "      <td>False</td>\n",
       "      <td>0.181598</td>\n",
       "      <td>0.0</td>\n",
       "      <td>False</td>\n",
       "      <td>1381</td>\n",
       "      <td>230309</td>\n",
       "      <td>003</td>\n",
       "      <td>230309_003</td>\n",
       "      <td>False</td>\n",
       "    </tr>\n",
       "    <tr>\n",
       "      <th>2413847</th>\n",
       "      <td>-0.079758</td>\n",
       "      <td>230309_003_32</td>\n",
       "      <td>477</td>\n",
       "      <td>R2</td>\n",
       "      <td>750</td>\n",
       "      <td>1</td>\n",
       "      <td>6</td>\n",
       "      <td>LI</td>\n",
       "      <td>0</td>\n",
       "      <td>False</td>\n",
       "      <td>0.181598</td>\n",
       "      <td>0.0</td>\n",
       "      <td>False</td>\n",
       "      <td>1381</td>\n",
       "      <td>230309</td>\n",
       "      <td>003</td>\n",
       "      <td>230309_003</td>\n",
       "      <td>False</td>\n",
       "    </tr>\n",
       "  </tbody>\n",
       "</table>\n",
       "<p>2413848 rows × 18 columns</p>\n",
       "</div>"
      ],
      "text/plain": [
       "             dfof        cell_id  trial_id resp_id   isi  stim1_contrast  \\\n",
       "0       -0.003253   200720_003_0         0      R1   750               1   \n",
       "1        0.088726   200720_003_0         1      R1   250               1   \n",
       "2       -0.010485   200720_003_0         2      R1   250               1   \n",
       "3       -0.050493   200720_003_0         3      R1   750               1   \n",
       "4        0.052611   200720_003_0         5      R1   750               1   \n",
       "...           ...            ...       ...     ...   ...             ...   \n",
       "2413843  0.074167  230309_003_32       473      R2   750               1   \n",
       "2413844 -0.023736  230309_003_32       474      R2   750               1   \n",
       "2413845  0.060245  230309_003_32       475      R2   250               1   \n",
       "2413846  0.009333  230309_003_32       476      R2  6000               0   \n",
       "2413847 -0.079758  230309_003_32       477      R2   750               1   \n",
       "\n",
       "         stim2_id area  stim1_id  filter_cell_vis  filter_cell_vis_pval  \\\n",
       "0               5   V1         0             True              0.006817   \n",
       "1               2   V1         0             True              0.006817   \n",
       "2               2   V1         0             True              0.006817   \n",
       "3               3   V1         0             True              0.006817   \n",
       "4               0   V1         0             True              0.006817   \n",
       "...           ...  ...       ...              ...                   ...   \n",
       "2413843         6   LI         0            False              0.181598   \n",
       "2413844         0   LI         0            False              0.181598   \n",
       "2413845         1   LI         0            False              0.181598   \n",
       "2413846         2   LI         0            False              0.181598   \n",
       "2413847         6   LI         0            False              0.181598   \n",
       "\n",
       "         filter_cell_well_fit  filter_cell_stim mouse    date sess  \\\n",
       "0                         1.0             False  1323  200720  003   \n",
       "1                         1.0             False  1323  200720  003   \n",
       "2                         1.0             False  1323  200720  003   \n",
       "3                         1.0             False  1323  200720  003   \n",
       "4                         1.0             False  1323  200720  003   \n",
       "...                       ...               ...   ...     ...  ...   \n",
       "2413843                   0.0             False  1381  230309  003   \n",
       "2413844                   0.0             False  1381  230309  003   \n",
       "2413845                   0.0             False  1381  230309  003   \n",
       "2413846                   0.0             False  1381  230309  003   \n",
       "2413847                   0.0             False  1381  230309  003   \n",
       "\n",
       "          date_sess  filter_cell_well_max  \n",
       "0        200720_003                  True  \n",
       "1        200720_003                 False  \n",
       "2        200720_003                 False  \n",
       "3        200720_003                  True  \n",
       "4        200720_003                  True  \n",
       "...             ...                   ...  \n",
       "2413843  230309_003                 False  \n",
       "2413844  230309_003                 False  \n",
       "2413845  230309_003                  True  \n",
       "2413846  230309_003                 False  \n",
       "2413847  230309_003                 False  \n",
       "\n",
       "[2413848 rows x 18 columns]"
      ]
     },
     "execution_count": 28,
     "metadata": {},
     "output_type": "execute_result"
    }
   ],
   "source": [
    "## inherit df_well_max['filter_cell_well_max']\n",
    "df_tidy = df_tidy.merge(\n",
    "      df_well_max, \n",
    "      on=['cell_id', 'isi'], how='left') # take filter_cell_well_max from df_well_max, for each cell and isi\n",
    "df_tidy"
   ]
  },
  {
   "attachments": {},
   "cell_type": "markdown",
   "metadata": {},
   "source": [
    "## pref-ori as max-ori (no rerun)\n",
    "crude preference: take max-resp orientation as the preferred orien"
   ]
  },
  {
   "cell_type": "code",
   "execution_count": 29,
   "metadata": {},
   "outputs": [
    {
     "data": {
      "text/html": [
       "<div>\n",
       "<style scoped>\n",
       "    .dataframe tbody tr th:only-of-type {\n",
       "        vertical-align: middle;\n",
       "    }\n",
       "\n",
       "    .dataframe tbody tr th {\n",
       "        vertical-align: top;\n",
       "    }\n",
       "\n",
       "    .dataframe thead th {\n",
       "        text-align: right;\n",
       "    }\n",
       "</style>\n",
       "<table border=\"1\" class=\"dataframe\">\n",
       "  <thead>\n",
       "    <tr style=\"text-align: right;\">\n",
       "      <th></th>\n",
       "      <th>dfof</th>\n",
       "      <th>cell_id</th>\n",
       "      <th>trial_id</th>\n",
       "      <th>resp_id</th>\n",
       "      <th>isi</th>\n",
       "      <th>stim1_contrast</th>\n",
       "      <th>stim2_id</th>\n",
       "      <th>area</th>\n",
       "      <th>stim1_id</th>\n",
       "      <th>filter_cell_vis</th>\n",
       "      <th>...</th>\n",
       "      <th>filter_cell_well_fit</th>\n",
       "      <th>filter_cell_stim</th>\n",
       "      <th>mouse</th>\n",
       "      <th>date</th>\n",
       "      <th>sess</th>\n",
       "      <th>date_sess</th>\n",
       "      <th>filter_cell_well_max</th>\n",
       "      <th>pref_ori_noad</th>\n",
       "      <th>pref_ori_ad_250</th>\n",
       "      <th>pref_ori_ad_750</th>\n",
       "    </tr>\n",
       "  </thead>\n",
       "  <tbody>\n",
       "    <tr>\n",
       "      <th>0</th>\n",
       "      <td>-0.003253</td>\n",
       "      <td>200720_003_0</td>\n",
       "      <td>0</td>\n",
       "      <td>R1</td>\n",
       "      <td>750</td>\n",
       "      <td>1</td>\n",
       "      <td>5</td>\n",
       "      <td>V1</td>\n",
       "      <td>0</td>\n",
       "      <td>True</td>\n",
       "      <td>...</td>\n",
       "      <td>1.0</td>\n",
       "      <td>False</td>\n",
       "      <td>1323</td>\n",
       "      <td>200720</td>\n",
       "      <td>003</td>\n",
       "      <td>200720_003</td>\n",
       "      <td>True</td>\n",
       "      <td>4</td>\n",
       "      <td>3</td>\n",
       "      <td>3</td>\n",
       "    </tr>\n",
       "    <tr>\n",
       "      <th>1</th>\n",
       "      <td>0.088726</td>\n",
       "      <td>200720_003_0</td>\n",
       "      <td>1</td>\n",
       "      <td>R1</td>\n",
       "      <td>250</td>\n",
       "      <td>1</td>\n",
       "      <td>2</td>\n",
       "      <td>V1</td>\n",
       "      <td>0</td>\n",
       "      <td>True</td>\n",
       "      <td>...</td>\n",
       "      <td>1.0</td>\n",
       "      <td>False</td>\n",
       "      <td>1323</td>\n",
       "      <td>200720</td>\n",
       "      <td>003</td>\n",
       "      <td>200720_003</td>\n",
       "      <td>False</td>\n",
       "      <td>4</td>\n",
       "      <td>3</td>\n",
       "      <td>3</td>\n",
       "    </tr>\n",
       "    <tr>\n",
       "      <th>2</th>\n",
       "      <td>-0.010485</td>\n",
       "      <td>200720_003_0</td>\n",
       "      <td>2</td>\n",
       "      <td>R1</td>\n",
       "      <td>250</td>\n",
       "      <td>1</td>\n",
       "      <td>2</td>\n",
       "      <td>V1</td>\n",
       "      <td>0</td>\n",
       "      <td>True</td>\n",
       "      <td>...</td>\n",
       "      <td>1.0</td>\n",
       "      <td>False</td>\n",
       "      <td>1323</td>\n",
       "      <td>200720</td>\n",
       "      <td>003</td>\n",
       "      <td>200720_003</td>\n",
       "      <td>False</td>\n",
       "      <td>4</td>\n",
       "      <td>3</td>\n",
       "      <td>3</td>\n",
       "    </tr>\n",
       "    <tr>\n",
       "      <th>3</th>\n",
       "      <td>-0.050493</td>\n",
       "      <td>200720_003_0</td>\n",
       "      <td>3</td>\n",
       "      <td>R1</td>\n",
       "      <td>750</td>\n",
       "      <td>1</td>\n",
       "      <td>3</td>\n",
       "      <td>V1</td>\n",
       "      <td>0</td>\n",
       "      <td>True</td>\n",
       "      <td>...</td>\n",
       "      <td>1.0</td>\n",
       "      <td>False</td>\n",
       "      <td>1323</td>\n",
       "      <td>200720</td>\n",
       "      <td>003</td>\n",
       "      <td>200720_003</td>\n",
       "      <td>True</td>\n",
       "      <td>4</td>\n",
       "      <td>3</td>\n",
       "      <td>3</td>\n",
       "    </tr>\n",
       "    <tr>\n",
       "      <th>4</th>\n",
       "      <td>0.052611</td>\n",
       "      <td>200720_003_0</td>\n",
       "      <td>5</td>\n",
       "      <td>R1</td>\n",
       "      <td>750</td>\n",
       "      <td>1</td>\n",
       "      <td>0</td>\n",
       "      <td>V1</td>\n",
       "      <td>0</td>\n",
       "      <td>True</td>\n",
       "      <td>...</td>\n",
       "      <td>1.0</td>\n",
       "      <td>False</td>\n",
       "      <td>1323</td>\n",
       "      <td>200720</td>\n",
       "      <td>003</td>\n",
       "      <td>200720_003</td>\n",
       "      <td>True</td>\n",
       "      <td>4</td>\n",
       "      <td>3</td>\n",
       "      <td>3</td>\n",
       "    </tr>\n",
       "    <tr>\n",
       "      <th>...</th>\n",
       "      <td>...</td>\n",
       "      <td>...</td>\n",
       "      <td>...</td>\n",
       "      <td>...</td>\n",
       "      <td>...</td>\n",
       "      <td>...</td>\n",
       "      <td>...</td>\n",
       "      <td>...</td>\n",
       "      <td>...</td>\n",
       "      <td>...</td>\n",
       "      <td>...</td>\n",
       "      <td>...</td>\n",
       "      <td>...</td>\n",
       "      <td>...</td>\n",
       "      <td>...</td>\n",
       "      <td>...</td>\n",
       "      <td>...</td>\n",
       "      <td>...</td>\n",
       "      <td>...</td>\n",
       "      <td>...</td>\n",
       "      <td>...</td>\n",
       "    </tr>\n",
       "    <tr>\n",
       "      <th>2413843</th>\n",
       "      <td>0.074167</td>\n",
       "      <td>230309_003_32</td>\n",
       "      <td>473</td>\n",
       "      <td>R2</td>\n",
       "      <td>750</td>\n",
       "      <td>1</td>\n",
       "      <td>6</td>\n",
       "      <td>LI</td>\n",
       "      <td>0</td>\n",
       "      <td>False</td>\n",
       "      <td>...</td>\n",
       "      <td>0.0</td>\n",
       "      <td>False</td>\n",
       "      <td>1381</td>\n",
       "      <td>230309</td>\n",
       "      <td>003</td>\n",
       "      <td>230309_003</td>\n",
       "      <td>False</td>\n",
       "      <td>5</td>\n",
       "      <td>0</td>\n",
       "      <td>7</td>\n",
       "    </tr>\n",
       "    <tr>\n",
       "      <th>2413844</th>\n",
       "      <td>-0.023736</td>\n",
       "      <td>230309_003_32</td>\n",
       "      <td>474</td>\n",
       "      <td>R2</td>\n",
       "      <td>750</td>\n",
       "      <td>1</td>\n",
       "      <td>0</td>\n",
       "      <td>LI</td>\n",
       "      <td>0</td>\n",
       "      <td>False</td>\n",
       "      <td>...</td>\n",
       "      <td>0.0</td>\n",
       "      <td>False</td>\n",
       "      <td>1381</td>\n",
       "      <td>230309</td>\n",
       "      <td>003</td>\n",
       "      <td>230309_003</td>\n",
       "      <td>False</td>\n",
       "      <td>5</td>\n",
       "      <td>0</td>\n",
       "      <td>7</td>\n",
       "    </tr>\n",
       "    <tr>\n",
       "      <th>2413845</th>\n",
       "      <td>0.060245</td>\n",
       "      <td>230309_003_32</td>\n",
       "      <td>475</td>\n",
       "      <td>R2</td>\n",
       "      <td>250</td>\n",
       "      <td>1</td>\n",
       "      <td>1</td>\n",
       "      <td>LI</td>\n",
       "      <td>0</td>\n",
       "      <td>False</td>\n",
       "      <td>...</td>\n",
       "      <td>0.0</td>\n",
       "      <td>False</td>\n",
       "      <td>1381</td>\n",
       "      <td>230309</td>\n",
       "      <td>003</td>\n",
       "      <td>230309_003</td>\n",
       "      <td>True</td>\n",
       "      <td>5</td>\n",
       "      <td>0</td>\n",
       "      <td>7</td>\n",
       "    </tr>\n",
       "    <tr>\n",
       "      <th>2413846</th>\n",
       "      <td>0.009333</td>\n",
       "      <td>230309_003_32</td>\n",
       "      <td>476</td>\n",
       "      <td>R2</td>\n",
       "      <td>6000</td>\n",
       "      <td>0</td>\n",
       "      <td>2</td>\n",
       "      <td>LI</td>\n",
       "      <td>0</td>\n",
       "      <td>False</td>\n",
       "      <td>...</td>\n",
       "      <td>0.0</td>\n",
       "      <td>False</td>\n",
       "      <td>1381</td>\n",
       "      <td>230309</td>\n",
       "      <td>003</td>\n",
       "      <td>230309_003</td>\n",
       "      <td>False</td>\n",
       "      <td>5</td>\n",
       "      <td>0</td>\n",
       "      <td>7</td>\n",
       "    </tr>\n",
       "    <tr>\n",
       "      <th>2413847</th>\n",
       "      <td>-0.079758</td>\n",
       "      <td>230309_003_32</td>\n",
       "      <td>477</td>\n",
       "      <td>R2</td>\n",
       "      <td>750</td>\n",
       "      <td>1</td>\n",
       "      <td>6</td>\n",
       "      <td>LI</td>\n",
       "      <td>0</td>\n",
       "      <td>False</td>\n",
       "      <td>...</td>\n",
       "      <td>0.0</td>\n",
       "      <td>False</td>\n",
       "      <td>1381</td>\n",
       "      <td>230309</td>\n",
       "      <td>003</td>\n",
       "      <td>230309_003</td>\n",
       "      <td>False</td>\n",
       "      <td>5</td>\n",
       "      <td>0</td>\n",
       "      <td>7</td>\n",
       "    </tr>\n",
       "  </tbody>\n",
       "</table>\n",
       "<p>2413848 rows × 21 columns</p>\n",
       "</div>"
      ],
      "text/plain": [
       "             dfof        cell_id  trial_id resp_id   isi  stim1_contrast  \\\n",
       "0       -0.003253   200720_003_0         0      R1   750               1   \n",
       "1        0.088726   200720_003_0         1      R1   250               1   \n",
       "2       -0.010485   200720_003_0         2      R1   250               1   \n",
       "3       -0.050493   200720_003_0         3      R1   750               1   \n",
       "4        0.052611   200720_003_0         5      R1   750               1   \n",
       "...           ...            ...       ...     ...   ...             ...   \n",
       "2413843  0.074167  230309_003_32       473      R2   750               1   \n",
       "2413844 -0.023736  230309_003_32       474      R2   750               1   \n",
       "2413845  0.060245  230309_003_32       475      R2   250               1   \n",
       "2413846  0.009333  230309_003_32       476      R2  6000               0   \n",
       "2413847 -0.079758  230309_003_32       477      R2   750               1   \n",
       "\n",
       "         stim2_id area  stim1_id  filter_cell_vis  ...  filter_cell_well_fit  \\\n",
       "0               5   V1         0             True  ...                   1.0   \n",
       "1               2   V1         0             True  ...                   1.0   \n",
       "2               2   V1         0             True  ...                   1.0   \n",
       "3               3   V1         0             True  ...                   1.0   \n",
       "4               0   V1         0             True  ...                   1.0   \n",
       "...           ...  ...       ...              ...  ...                   ...   \n",
       "2413843         6   LI         0            False  ...                   0.0   \n",
       "2413844         0   LI         0            False  ...                   0.0   \n",
       "2413845         1   LI         0            False  ...                   0.0   \n",
       "2413846         2   LI         0            False  ...                   0.0   \n",
       "2413847         6   LI         0            False  ...                   0.0   \n",
       "\n",
       "         filter_cell_stim  mouse    date sess   date_sess  \\\n",
       "0                   False   1323  200720  003  200720_003   \n",
       "1                   False   1323  200720  003  200720_003   \n",
       "2                   False   1323  200720  003  200720_003   \n",
       "3                   False   1323  200720  003  200720_003   \n",
       "4                   False   1323  200720  003  200720_003   \n",
       "...                   ...    ...     ...  ...         ...   \n",
       "2413843             False   1381  230309  003  230309_003   \n",
       "2413844             False   1381  230309  003  230309_003   \n",
       "2413845             False   1381  230309  003  230309_003   \n",
       "2413846             False   1381  230309  003  230309_003   \n",
       "2413847             False   1381  230309  003  230309_003   \n",
       "\n",
       "        filter_cell_well_max  pref_ori_noad  pref_ori_ad_250  pref_ori_ad_750  \n",
       "0                       True              4                3                3  \n",
       "1                      False              4                3                3  \n",
       "2                      False              4                3                3  \n",
       "3                       True              4                3                3  \n",
       "4                       True              4                3                3  \n",
       "...                      ...            ...              ...              ...  \n",
       "2413843                False              5                0                7  \n",
       "2413844                False              5                0                7  \n",
       "2413845                 True              5                0                7  \n",
       "2413846                False              5                0                7  \n",
       "2413847                False              5                0                7  \n",
       "\n",
       "[2413848 rows x 21 columns]"
      ]
     },
     "execution_count": 29,
     "metadata": {},
     "output_type": "execute_result"
    }
   ],
   "source": [
    "pref_ori_noad = (df_tidy[(df_tidy.resp_id == 'R2') & (df_tidy.isi == 6000)]\n",
    "                .groupby(['cell_id', 'stim2_id'])\n",
    "                [['dfof']].sum().reset_index()\n",
    "                .groupby('cell_id') # NOTE: stim2_id is sorted due to prev groupby\n",
    "                ['dfof'].apply(list).to_frame()\n",
    "                .dfof.apply(lambda x: np.argmax(x)).to_frame()\n",
    "                .rename(columns={'dfof': 'pref_ori_noad'})\n",
    "                )\n",
    "\n",
    "pref_ori_ad_250 = (df_tidy[(df_tidy.resp_id == 'R2') & (df_tidy.isi == 250)]\n",
    "                .groupby(['cell_id', 'stim2_id'])\n",
    "                [['dfof']].sum().reset_index()\n",
    "                .groupby('cell_id') # NOTE: stim2_id is sorted due to prev groupby\n",
    "                ['dfof'].apply(list).to_frame()\n",
    "                .dfof.apply(lambda x: np.argmax(x)).to_frame()\n",
    "                .rename(columns={'dfof': 'pref_ori_ad_250'})\n",
    "                )\n",
    "\n",
    "pref_ori_ad_750 = (df_tidy[(df_tidy.resp_id == 'R2') & (df_tidy.isi == 750)]\n",
    "                .groupby(['cell_id', 'stim2_id'])\n",
    "                [['dfof']].sum().reset_index()\n",
    "                .groupby('cell_id') # NOTE: stim2_id is sorted due to prev groupby\n",
    "                ['dfof'].apply(list).to_frame()\n",
    "                .dfof.apply(lambda x: np.argmax(x)).to_frame()\n",
    "                .rename(columns={'dfof': 'pref_ori_ad_750'})\n",
    "                )\n",
    "\n",
    "df_tidy = (df_tidy.merge(pref_ori_noad, on='cell_id')\n",
    "            .merge(pref_ori_ad_250, on='cell_id')\n",
    "            .merge(pref_ori_ad_750, on='cell_id'))\n",
    "df_tidy"
   ]
  },
  {
   "cell_type": "code",
   "execution_count": 30,
   "metadata": {},
   "outputs": [
    {
     "data": {
      "text/html": [
       "<div>\n",
       "<style scoped>\n",
       "    .dataframe tbody tr th:only-of-type {\n",
       "        vertical-align: middle;\n",
       "    }\n",
       "\n",
       "    .dataframe tbody tr th {\n",
       "        vertical-align: top;\n",
       "    }\n",
       "\n",
       "    .dataframe thead th {\n",
       "        text-align: right;\n",
       "    }\n",
       "</style>\n",
       "<table border=\"1\" class=\"dataframe\">\n",
       "  <thead>\n",
       "    <tr style=\"text-align: right;\">\n",
       "      <th></th>\n",
       "      <th>dfof</th>\n",
       "      <th>cell_id</th>\n",
       "      <th>trial_id</th>\n",
       "      <th>resp_id</th>\n",
       "      <th>isi</th>\n",
       "      <th>stim1_contrast</th>\n",
       "      <th>stim2_id</th>\n",
       "      <th>area</th>\n",
       "      <th>stim1_id</th>\n",
       "      <th>filter_cell_vis</th>\n",
       "      <th>...</th>\n",
       "      <th>sess</th>\n",
       "      <th>date_sess</th>\n",
       "      <th>filter_cell_well_max</th>\n",
       "      <th>pref_ori_noad</th>\n",
       "      <th>pref_ori_ad_250</th>\n",
       "      <th>pref_ori_ad_750</th>\n",
       "      <th>pref_unadapted_distance</th>\n",
       "      <th>pref_unadapted_distance_bin</th>\n",
       "      <th>pref_adapted_distance</th>\n",
       "      <th>tuning_bias</th>\n",
       "    </tr>\n",
       "  </thead>\n",
       "  <tbody>\n",
       "    <tr>\n",
       "      <th>1535086</th>\n",
       "      <td>0.070788</td>\n",
       "      <td>230302_004_53</td>\n",
       "      <td>353</td>\n",
       "      <td>R2</td>\n",
       "      <td>750</td>\n",
       "      <td>1</td>\n",
       "      <td>3</td>\n",
       "      <td>LM</td>\n",
       "      <td>0</td>\n",
       "      <td>True</td>\n",
       "      <td>...</td>\n",
       "      <td>004</td>\n",
       "      <td>230302_004</td>\n",
       "      <td>True</td>\n",
       "      <td>5</td>\n",
       "      <td>3</td>\n",
       "      <td>3</td>\n",
       "      <td>67.5</td>\n",
       "      <td>90</td>\n",
       "      <td>67.5</td>\n",
       "      <td>0.0</td>\n",
       "    </tr>\n",
       "    <tr>\n",
       "      <th>1498362</th>\n",
       "      <td>-0.001468</td>\n",
       "      <td>230302_004_10</td>\n",
       "      <td>50</td>\n",
       "      <td>R2</td>\n",
       "      <td>250</td>\n",
       "      <td>1</td>\n",
       "      <td>7</td>\n",
       "      <td>LM</td>\n",
       "      <td>0</td>\n",
       "      <td>True</td>\n",
       "      <td>...</td>\n",
       "      <td>004</td>\n",
       "      <td>230302_004</td>\n",
       "      <td>False</td>\n",
       "      <td>0</td>\n",
       "      <td>0</td>\n",
       "      <td>7</td>\n",
       "      <td>0.0</td>\n",
       "      <td>0</td>\n",
       "      <td>0.0</td>\n",
       "      <td>0.0</td>\n",
       "    </tr>\n",
       "    <tr>\n",
       "      <th>10251</th>\n",
       "      <td>-0.030888</td>\n",
       "      <td>200720_003_13</td>\n",
       "      <td>84</td>\n",
       "      <td>R1</td>\n",
       "      <td>250</td>\n",
       "      <td>1</td>\n",
       "      <td>6</td>\n",
       "      <td>V1</td>\n",
       "      <td>0</td>\n",
       "      <td>True</td>\n",
       "      <td>...</td>\n",
       "      <td>003</td>\n",
       "      <td>200720_003</td>\n",
       "      <td>True</td>\n",
       "      <td>0</td>\n",
       "      <td>0</td>\n",
       "      <td>0</td>\n",
       "      <td>0.0</td>\n",
       "      <td>0</td>\n",
       "      <td>0.0</td>\n",
       "      <td>0.0</td>\n",
       "    </tr>\n",
       "    <tr>\n",
       "      <th>26153</th>\n",
       "      <td>-0.020128</td>\n",
       "      <td>200720_003_33</td>\n",
       "      <td>401</td>\n",
       "      <td>R1</td>\n",
       "      <td>250</td>\n",
       "      <td>1</td>\n",
       "      <td>0</td>\n",
       "      <td>V1</td>\n",
       "      <td>0</td>\n",
       "      <td>False</td>\n",
       "      <td>...</td>\n",
       "      <td>003</td>\n",
       "      <td>200720_003</td>\n",
       "      <td>True</td>\n",
       "      <td>7</td>\n",
       "      <td>7</td>\n",
       "      <td>3</td>\n",
       "      <td>22.5</td>\n",
       "      <td>0</td>\n",
       "      <td>22.5</td>\n",
       "      <td>0.0</td>\n",
       "    </tr>\n",
       "    <tr>\n",
       "      <th>1794444</th>\n",
       "      <td>0.021428</td>\n",
       "      <td>230307_004_31</td>\n",
       "      <td>149</td>\n",
       "      <td>R2</td>\n",
       "      <td>250</td>\n",
       "      <td>1</td>\n",
       "      <td>3</td>\n",
       "      <td>LM</td>\n",
       "      <td>0</td>\n",
       "      <td>False</td>\n",
       "      <td>...</td>\n",
       "      <td>004</td>\n",
       "      <td>230307_004</td>\n",
       "      <td>True</td>\n",
       "      <td>6</td>\n",
       "      <td>6</td>\n",
       "      <td>7</td>\n",
       "      <td>45.0</td>\n",
       "      <td>45</td>\n",
       "      <td>45.0</td>\n",
       "      <td>0.0</td>\n",
       "    </tr>\n",
       "  </tbody>\n",
       "</table>\n",
       "<p>5 rows × 25 columns</p>\n",
       "</div>"
      ],
      "text/plain": [
       "             dfof        cell_id  trial_id resp_id  isi  stim1_contrast  \\\n",
       "1535086  0.070788  230302_004_53       353      R2  750               1   \n",
       "1498362 -0.001468  230302_004_10        50      R2  250               1   \n",
       "10251   -0.030888  200720_003_13        84      R1  250               1   \n",
       "26153   -0.020128  200720_003_33       401      R1  250               1   \n",
       "1794444  0.021428  230307_004_31       149      R2  250               1   \n",
       "\n",
       "         stim2_id area  stim1_id  filter_cell_vis  ...  sess   date_sess  \\\n",
       "1535086         3   LM         0             True  ...   004  230302_004   \n",
       "1498362         7   LM         0             True  ...   004  230302_004   \n",
       "10251           6   V1         0             True  ...   003  200720_003   \n",
       "26153           0   V1         0            False  ...   003  200720_003   \n",
       "1794444         3   LM         0            False  ...   004  230307_004   \n",
       "\n",
       "         filter_cell_well_max pref_ori_noad pref_ori_ad_250 pref_ori_ad_750  \\\n",
       "1535086                  True             5               3               3   \n",
       "1498362                 False             0               0               7   \n",
       "10251                    True             0               0               0   \n",
       "26153                    True             7               7               3   \n",
       "1794444                  True             6               6               7   \n",
       "\n",
       "        pref_unadapted_distance  pref_unadapted_distance_bin  \\\n",
       "1535086                    67.5                           90   \n",
       "1498362                     0.0                            0   \n",
       "10251                       0.0                            0   \n",
       "26153                      22.5                            0   \n",
       "1794444                    45.0                           45   \n",
       "\n",
       "         pref_adapted_distance  tuning_bias  \n",
       "1535086                   67.5          0.0  \n",
       "1498362                    0.0          0.0  \n",
       "10251                      0.0          0.0  \n",
       "26153                     22.5          0.0  \n",
       "1794444                   45.0          0.0  \n",
       "\n",
       "[5 rows x 25 columns]"
      ]
     },
     "execution_count": 30,
     "metadata": {},
     "output_type": "execute_result"
    }
   ],
   "source": [
    "def bin_ori(x):\n",
    "    # bin pref ori to 0, 45, 90\n",
    "    if x < 30:\n",
    "        return 0\n",
    "    elif x <= 60:\n",
    "        return 45\n",
    "    else:\n",
    "        return 90\n",
    "\n",
    "def distace_from_adapter(x):\n",
    "    # adapter is always 0 deg\n",
    "    x = 22.5*x # convert from stim id int to degree\n",
    "    if x > 90:\n",
    "        x = 180 - x\n",
    "    return x\n",
    "\n",
    "\n",
    "df_tidy['pref_unadapted_distance'] = df_tidy['pref_ori_noad'].apply(lambda x: distace_from_adapter(x)) # unadapted pref ori, distance from adapter\n",
    "df_tidy['pref_unadapted_distance_bin'] = df_tidy['pref_unadapted_distance'].apply(lambda x: bin_ori(x)) # bin the distance to 0, 45, 90\n",
    "\n",
    "df_tidy.loc[(df_tidy.isi == 250), 'pref_adapted_distance'] = df_tidy['pref_ori_ad_250'].apply(lambda x: distace_from_adapter(x)) # isi 250 adapted pref ori, distance from adapter # TODO: refactor pref_ori_ad_250 similarly, so it's only one column of pref_ori_ad, but can filter by isi\n",
    "df_tidy.loc[(df_tidy.isi == 750), 'pref_adapted_distance'] = df_tidy['pref_ori_ad_750'].apply(lambda x: distace_from_adapter(x)) # isi 750 adapted pref ori, distance from adapter\n",
    "\n",
    "df_tidy['tuning_bias'] = df_tidy['pref_adapted_distance'] - df_tidy['pref_unadapted_distance'] # distance from adapter, adapted - unadapted. if tuning repelled from adapter, this is positive; attracted, negative\n",
    "\n",
    "df_tidy.sample(5, random_state=0)"
   ]
  },
  {
   "cell_type": "markdown",
   "metadata": {},
   "source": [
    "## read csv for well-max"
   ]
  },
  {
   "cell_type": "code",
   "execution_count": 31,
   "metadata": {},
   "outputs": [
    {
     "data": {
      "text/html": [
       "<div>\n",
       "<style scoped>\n",
       "    .dataframe tbody tr th:only-of-type {\n",
       "        vertical-align: middle;\n",
       "    }\n",
       "\n",
       "    .dataframe tbody tr th {\n",
       "        vertical-align: top;\n",
       "    }\n",
       "\n",
       "    .dataframe thead th {\n",
       "        text-align: right;\n",
       "    }\n",
       "</style>\n",
       "<table border=\"1\" class=\"dataframe\">\n",
       "  <thead>\n",
       "    <tr style=\"text-align: right;\">\n",
       "      <th></th>\n",
       "      <th>dfof</th>\n",
       "      <th>cell_id</th>\n",
       "      <th>trial_id</th>\n",
       "      <th>resp_id</th>\n",
       "      <th>isi</th>\n",
       "      <th>stim1_contrast</th>\n",
       "      <th>stim2_id</th>\n",
       "      <th>area</th>\n",
       "      <th>stim1_id</th>\n",
       "      <th>filter_cell_vis</th>\n",
       "      <th>...</th>\n",
       "      <th>date</th>\n",
       "      <th>sess</th>\n",
       "      <th>filter_cell_well_max</th>\n",
       "      <th>pref_ori_noad</th>\n",
       "      <th>pref_ori_ad_250</th>\n",
       "      <th>pref_ori_ad_750</th>\n",
       "      <th>pref_unadapted_distance</th>\n",
       "      <th>pref_unadapted_distance_bin</th>\n",
       "      <th>pref_adapted_distance</th>\n",
       "      <th>tuning_bias</th>\n",
       "    </tr>\n",
       "  </thead>\n",
       "  <tbody>\n",
       "    <tr>\n",
       "      <th>1535086</th>\n",
       "      <td>0.070788</td>\n",
       "      <td>230302_004_53</td>\n",
       "      <td>353</td>\n",
       "      <td>R2</td>\n",
       "      <td>750</td>\n",
       "      <td>1</td>\n",
       "      <td>3</td>\n",
       "      <td>LM</td>\n",
       "      <td>0</td>\n",
       "      <td>True</td>\n",
       "      <td>...</td>\n",
       "      <td>230302</td>\n",
       "      <td>4</td>\n",
       "      <td>True</td>\n",
       "      <td>5</td>\n",
       "      <td>3</td>\n",
       "      <td>3</td>\n",
       "      <td>67.5</td>\n",
       "      <td>90</td>\n",
       "      <td>67.5</td>\n",
       "      <td>0.0</td>\n",
       "    </tr>\n",
       "    <tr>\n",
       "      <th>1498362</th>\n",
       "      <td>-0.001468</td>\n",
       "      <td>230302_004_10</td>\n",
       "      <td>50</td>\n",
       "      <td>R2</td>\n",
       "      <td>250</td>\n",
       "      <td>1</td>\n",
       "      <td>7</td>\n",
       "      <td>LM</td>\n",
       "      <td>0</td>\n",
       "      <td>True</td>\n",
       "      <td>...</td>\n",
       "      <td>230302</td>\n",
       "      <td>4</td>\n",
       "      <td>False</td>\n",
       "      <td>0</td>\n",
       "      <td>0</td>\n",
       "      <td>7</td>\n",
       "      <td>0.0</td>\n",
       "      <td>0</td>\n",
       "      <td>0.0</td>\n",
       "      <td>0.0</td>\n",
       "    </tr>\n",
       "    <tr>\n",
       "      <th>10251</th>\n",
       "      <td>-0.030888</td>\n",
       "      <td>200720_003_13</td>\n",
       "      <td>84</td>\n",
       "      <td>R1</td>\n",
       "      <td>250</td>\n",
       "      <td>1</td>\n",
       "      <td>6</td>\n",
       "      <td>V1</td>\n",
       "      <td>0</td>\n",
       "      <td>True</td>\n",
       "      <td>...</td>\n",
       "      <td>200720</td>\n",
       "      <td>3</td>\n",
       "      <td>True</td>\n",
       "      <td>0</td>\n",
       "      <td>0</td>\n",
       "      <td>0</td>\n",
       "      <td>0.0</td>\n",
       "      <td>0</td>\n",
       "      <td>0.0</td>\n",
       "      <td>0.0</td>\n",
       "    </tr>\n",
       "    <tr>\n",
       "      <th>26153</th>\n",
       "      <td>-0.020128</td>\n",
       "      <td>200720_003_33</td>\n",
       "      <td>401</td>\n",
       "      <td>R1</td>\n",
       "      <td>250</td>\n",
       "      <td>1</td>\n",
       "      <td>0</td>\n",
       "      <td>V1</td>\n",
       "      <td>0</td>\n",
       "      <td>False</td>\n",
       "      <td>...</td>\n",
       "      <td>200720</td>\n",
       "      <td>3</td>\n",
       "      <td>True</td>\n",
       "      <td>7</td>\n",
       "      <td>7</td>\n",
       "      <td>3</td>\n",
       "      <td>22.5</td>\n",
       "      <td>0</td>\n",
       "      <td>22.5</td>\n",
       "      <td>0.0</td>\n",
       "    </tr>\n",
       "    <tr>\n",
       "      <th>1794444</th>\n",
       "      <td>0.021428</td>\n",
       "      <td>230307_004_31</td>\n",
       "      <td>149</td>\n",
       "      <td>R2</td>\n",
       "      <td>250</td>\n",
       "      <td>1</td>\n",
       "      <td>3</td>\n",
       "      <td>LM</td>\n",
       "      <td>0</td>\n",
       "      <td>False</td>\n",
       "      <td>...</td>\n",
       "      <td>230307</td>\n",
       "      <td>4</td>\n",
       "      <td>True</td>\n",
       "      <td>6</td>\n",
       "      <td>6</td>\n",
       "      <td>7</td>\n",
       "      <td>45.0</td>\n",
       "      <td>45</td>\n",
       "      <td>45.0</td>\n",
       "      <td>0.0</td>\n",
       "    </tr>\n",
       "  </tbody>\n",
       "</table>\n",
       "<p>5 rows × 24 columns</p>\n",
       "</div>"
      ],
      "text/plain": [
       "             dfof        cell_id  trial_id resp_id  isi  stim1_contrast  \\\n",
       "1535086  0.070788  230302_004_53       353      R2  750               1   \n",
       "1498362 -0.001468  230302_004_10        50      R2  250               1   \n",
       "10251   -0.030888  200720_003_13        84      R1  250               1   \n",
       "26153   -0.020128  200720_003_33       401      R1  250               1   \n",
       "1794444  0.021428  230307_004_31       149      R2  250               1   \n",
       "\n",
       "         stim2_id area  stim1_id  filter_cell_vis  ...    date  sess  \\\n",
       "1535086         3   LM         0             True  ...  230302     4   \n",
       "1498362         7   LM         0             True  ...  230302     4   \n",
       "10251           6   V1         0             True  ...  200720     3   \n",
       "26153           0   V1         0            False  ...  200720     3   \n",
       "1794444         3   LM         0            False  ...  230307     4   \n",
       "\n",
       "         filter_cell_well_max  pref_ori_noad  pref_ori_ad_250  \\\n",
       "1535086                  True              5                3   \n",
       "1498362                 False              0                0   \n",
       "10251                    True              0                0   \n",
       "26153                    True              7                7   \n",
       "1794444                  True              6                6   \n",
       "\n",
       "         pref_ori_ad_750  pref_unadapted_distance  \\\n",
       "1535086                3                     67.5   \n",
       "1498362                7                      0.0   \n",
       "10251                  0                      0.0   \n",
       "26153                  3                     22.5   \n",
       "1794444                7                     45.0   \n",
       "\n",
       "         pref_unadapted_distance_bin  pref_adapted_distance  tuning_bias  \n",
       "1535086                           90                   67.5          0.0  \n",
       "1498362                            0                    0.0          0.0  \n",
       "10251                              0                    0.0          0.0  \n",
       "26153                              0                   22.5          0.0  \n",
       "1794444                           45                   45.0          0.0  \n",
       "\n",
       "[5 rows x 24 columns]"
      ]
     },
     "execution_count": 31,
     "metadata": {},
     "output_type": "execute_result"
    }
   ],
   "source": [
    "dir_data = r'\\\\duhs-user-nc1.dhe.duke.edu\\dusom_glickfeldlab\\All_Staff\\home\\lan\\Data\\2P_images\\mat_inter\\df tidy for plots/'.replace('\\\\', '/')\n",
    "# df_tidy.to_csv(os.path.join(dir_data, 'df_tidy_tuning_bias_wellmax.csv'), index=False) # takes 80 sec\n",
    "df_tidy = pd.read_csv(os.path.join(dir_data, 'df_tidy_tuning_bias_wellmax.csv'))\n",
    "df_tidy.sample(5, random_state=0)"
   ]
  },
  {
   "cell_type": "markdown",
   "metadata": {},
   "source": [
    "## well-max cell % stacked histogram"
   ]
  },
  {
   "cell_type": "code",
   "execution_count": null,
   "metadata": {},
   "outputs": [
    {
     "data": {
      "text/plain": [
       "area\n",
       "LI    0.136364\n",
       "LM    0.364238\n",
       "V1    0.426667\n",
       "Name: filter_cell_well_fit, dtype: float64"
      ]
     },
     "metadata": {},
     "output_type": "display_data"
    }
   ],
   "source": [
    "tmp = df_tidy.groupby('cell_id').first().reset_index()\n",
    "tmp[(tmp.filter_cell_vis == True) & (tmp.isi == 250)].groupby(['area']).filter_cell_well_fit.mean()"
   ]
  },
  {
   "cell_type": "code",
   "execution_count": null,
   "metadata": {},
   "outputs": [
    {
     "data": {
      "text/plain": [
       "area\n",
       "LI    0.528409\n",
       "LM    0.543046\n",
       "V1    0.560000\n",
       "Name: filter_cell_well_max, dtype: float64"
      ]
     },
     "metadata": {},
     "output_type": "display_data"
    }
   ],
   "source": [
    "tmp[(tmp.filter_cell_vis == True) & (tmp.isi == 250)].groupby(['area']).filter_cell_well_max.mean()"
   ]
  },
  {
   "cell_type": "code",
   "execution_count": 61,
   "metadata": {},
   "outputs": [
    {
     "data": {
      "text/html": [
       "<div>\n",
       "<style scoped>\n",
       "    .dataframe tbody tr th:only-of-type {\n",
       "        vertical-align: middle;\n",
       "    }\n",
       "\n",
       "    .dataframe tbody tr th {\n",
       "        vertical-align: top;\n",
       "    }\n",
       "\n",
       "    .dataframe thead th {\n",
       "        text-align: right;\n",
       "    }\n",
       "</style>\n",
       "<table border=\"1\" class=\"dataframe\">\n",
       "  <thead>\n",
       "    <tr style=\"text-align: right;\">\n",
       "      <th>well_str</th>\n",
       "      <th>neither</th>\n",
       "      <th>only consistent-fit</th>\n",
       "      <th>both</th>\n",
       "      <th>only consistent-max</th>\n",
       "    </tr>\n",
       "    <tr>\n",
       "      <th>area</th>\n",
       "      <th></th>\n",
       "      <th></th>\n",
       "      <th></th>\n",
       "      <th></th>\n",
       "    </tr>\n",
       "  </thead>\n",
       "  <tbody>\n",
       "    <tr>\n",
       "      <th>V1</th>\n",
       "      <td>161</td>\n",
       "      <td>67</td>\n",
       "      <td>171</td>\n",
       "      <td>184</td>\n",
       "    </tr>\n",
       "    <tr>\n",
       "      <th>LM</th>\n",
       "      <td>695</td>\n",
       "      <td>123</td>\n",
       "      <td>285</td>\n",
       "      <td>612</td>\n",
       "    </tr>\n",
       "    <tr>\n",
       "      <th>LI</th>\n",
       "      <td>359</td>\n",
       "      <td>22</td>\n",
       "      <td>20</td>\n",
       "      <td>290</td>\n",
       "    </tr>\n",
       "  </tbody>\n",
       "</table>\n",
       "</div>"
      ],
      "text/plain": [
       "well_str  neither  only consistent-fit  both  only consistent-max\n",
       "area                                                             \n",
       "V1            161                   67   171                  184\n",
       "LM            695                  123   285                  612\n",
       "LI            359                   22    20                  290"
      ]
     },
     "execution_count": 61,
     "metadata": {},
     "output_type": "execute_result"
    }
   ],
   "source": [
    "df_cell_property = df_tidy.groupby('cell_id').first()\n",
    "df_cell_property['filter_cell_well_fit'] = df_cell_property['filter_cell_well_fit'].astype(bool)\n",
    "\n",
    "df_cell_property['well_str'] = 'neither'\n",
    "df_cell_property.loc[(df_cell_property.filter_cell_well_max == False) \n",
    "                     & (df_cell_property.filter_cell_well_fit == True), 'well_str'] = 'only consistent-fit' # bonferroni correction\n",
    "df_cell_property.loc[(df_cell_property.filter_cell_well_max == True) \n",
    "                     & (df_cell_property.filter_cell_well_fit == False), 'well_str'] = 'only consistent-max'\n",
    "df_cell_property.loc[(df_cell_property.filter_cell_well_max == True) \n",
    "                     & (df_cell_property.filter_cell_well_fit == True), 'well_str'] = 'both'\n",
    "\n",
    "\n",
    "df_well_hist = df_cell_property.groupby('area')[['well_str']].value_counts().unstack()\n",
    "df_well_hist = df_well_hist.iloc[::-1] # row order: V1, LM, LI\n",
    "df_well_hist = df_well_hist.iloc[:, [1, 2, 0, 3]] # column order\n",
    "df_well_hist"
   ]
  },
  {
   "cell_type": "code",
   "execution_count": 83,
   "metadata": {},
   "outputs": [
    {
     "data": {
      "image/png": "[encoded data removed]",
      "text/plain": [
       "<Figure size 800x500 with 1 Axes>"
      ]
     },
     "metadata": {},
     "output_type": "display_data"
    }
   ],
   "source": [
    "(df_well_hist\n",
    "    .plot(kind='bar', stacked=True, \n",
    "    figsize=(8, 5), \n",
    "    colormap=ListedColormap([\"teal\", \"darkturquoise\", \"turquoise\", 'aquamarine']), \n",
    "    width=0.8) # make bar thinner\n",
    "    );\n",
    "\n",
    "plt.legend();\n",
    "ax = plt.gca()\n",
    "handles, labels = ax.get_legend_handles_labels()\n",
    "ax.legend(handles[::-1], labels[::-1], frameon=False, bbox_to_anchor=(1, 1))\n",
    "\n",
    "plt.xticks(rotation=0, fontsize=16); # rotate x tick labels back to horizontal\n",
    "plt.xlabel('')\n",
    "plt.ylabel('Number of cells', fontsize=16);\n",
    "sns.despine();\n",
    "plt.tight_layout();\n",
    "\n",
    "# plt.savefig(os.path.join(dir_fig, 'well_fit_well_max_cell_by_area.svg'))"
   ]
  },
  {
   "attachments": {},
   "cell_type": "markdown",
   "metadata": {},
   "source": [
    "## tuning bias plot"
   ]
  },
  {
   "cell_type": "code",
   "execution_count": 32,
   "metadata": {},
   "outputs": [
    {
     "data": {
      "text/plain": [
       "area\n",
       "LI    112\n",
       "LM    532\n",
       "V1    281\n",
       "Name: cell_id, dtype: int64"
      ]
     },
     "execution_count": 32,
     "metadata": {},
     "output_type": "execute_result"
    }
   ],
   "source": [
    "df_filter = df_tidy[(df_tidy.filter_cell_vis == True) \n",
    "                    & (df_tidy.filter_cell_well_max == True)\n",
    "                    & (df_tidy.isi == 250)\n",
    "                    ]\n",
    "df_filter = df_filter.groupby('cell_id').first().reset_index() # drop duplicate cell_id\n",
    "df_filter.groupby('area').cell_id.nunique()"
   ]
  },
  {
   "cell_type": "code",
   "execution_count": null,
   "metadata": {},
   "outputs": [
    {
     "name": "stdout",
     "output_type": "stream",
     "text": [
      "KruskalResult(statistic=21.597479716168692, pvalue=2.0425225884058178e-05)\n",
      "KruskalResult(statistic=5.2026785459656955, pvalue=0.07417417219844605)\n",
      "KruskalResult(statistic=3.2773047556309245, pvalue=0.19424163032056777)\n"
     ]
    }
   ],
   "source": [
    "bias_0_V1 = df_filter[(df_filter.pref_unadapted_distance_bin == 0) & (df_filter.area == 'V1')].tuning_bias.values\n",
    "bias_0_LM = df_filter[(df_filter.pref_unadapted_distance_bin == 0) & (df_filter.area == 'LM')].tuning_bias.values\n",
    "bias_0_LI = df_filter[(df_filter.pref_unadapted_distance_bin == 0) & (df_filter.area == 'LI')].tuning_bias.values\n",
    "print(stats.kruskal(bias_0_V1, bias_0_LM, bias_0_LI))\n",
    "\n",
    "bias_45_V1 = df_filter[(df_filter.pref_unadapted_distance_bin == 45) & (df_filter.area == 'V1')].tuning_bias.values\n",
    "bias_45_LM = df_filter[(df_filter.pref_unadapted_distance_bin == 45) & (df_filter.area == 'LM')].tuning_bias.values\n",
    "bias_45_LI = df_filter[(df_filter.pref_unadapted_distance_bin == 45) & (df_filter.area == 'LI')].tuning_bias.values\n",
    "print(stats.kruskal(bias_45_V1, bias_45_LM, bias_45_LI))\n",
    "\n",
    "bias_90_V1 = df_filter[(df_filter.pref_unadapted_distance_bin == 90) & (df_filter.area == 'V1')].tuning_bias.values\n",
    "bias_90_LM = df_filter[(df_filter.pref_unadapted_distance_bin == 90) & (df_filter.area == 'LM')].tuning_bias.values\n",
    "bias_90_LI = df_filter[(df_filter.pref_unadapted_distance_bin == 90) & (df_filter.area == 'LI')].tuning_bias.values\n",
    "print(stats.kruskal(bias_90_V1, bias_90_LM, bias_90_LI))"
   ]
  },
  {
   "cell_type": "code",
   "execution_count": 33,
   "metadata": {},
   "outputs": [
    {
     "data": {
      "image/png": "[encoded data removed]",
      "text/plain": [
       "<Figure size 600x500 with 1 Axes>"
      ]
     },
     "metadata": {},
     "output_type": "display_data"
    }
   ],
   "source": [
    "fig, axes = plt.subplots(1, 1, figsize=(6, 5), sharey=True)\n",
    "ax = sns.pointplot(x='pref_unadapted_distance_bin', y='tuning_bias', data=df_filter, hue='area',\n",
    "                   dodge=True, markers='.', palette=['#85A7EB', '#F6CD51', '#D1A6DE'],\n",
    "                   errorbar=('ci', 68), #errwidthfloat=1, capsize=.1,\n",
    "                   )\n",
    "\n",
    "\n",
    "y_sig = 0.05\n",
    "ax.text(0.14, y_sig, '***', transform=ax.transAxes, fontsize=14)\n",
    "ax.text(0.47, y_sig, 'n.s.', transform=ax.transAxes, fontsize=14)\n",
    "ax.text(0.8, y_sig, 'n.s.', transform=ax.transAxes, fontsize=14)\n",
    "\n",
    "plt.setp(ax.collections, alpha=.5);\n",
    "plt.setp(ax.lines, alpha=.5);\n",
    "plt.axhline(0, color='gray', linestyle='-', alpha=.3);\n",
    "\n",
    "plt.legend(frameon=False, loc='right');\n",
    "plt.xlabel('Preference distance from adapter', fontsize=16);\n",
    "plt.xticks([0, 1, 2], ['0', '45', '90'], fontsize=16);\n",
    "plt.ylabel('Tuning bias', fontsize=16);\n",
    "sns.despine();\n",
    "plt.tight_layout();\n",
    "\n",
    "# plt.savefig(os.path.join(dir_fig, 'tuning_bias_wellmax_by_area_grat8_vis_bonf_corel.svg'))"
   ]
  },
  {
   "attachments": {},
   "cell_type": "markdown",
   "metadata": {},
   "source": [
    "# tuning curve"
   ]
  },
  {
   "cell_type": "code",
   "execution_count": 84,
   "metadata": {},
   "outputs": [
    {
     "data": {
      "text/html": [
       "<div>\n",
       "<style scoped>\n",
       "    .dataframe tbody tr th:only-of-type {\n",
       "        vertical-align: middle;\n",
       "    }\n",
       "\n",
       "    .dataframe tbody tr th {\n",
       "        vertical-align: top;\n",
       "    }\n",
       "\n",
       "    .dataframe thead th {\n",
       "        text-align: right;\n",
       "    }\n",
       "</style>\n",
       "<table border=\"1\" class=\"dataframe\">\n",
       "  <thead>\n",
       "    <tr style=\"text-align: right;\">\n",
       "      <th></th>\n",
       "      <th>dfof</th>\n",
       "      <th>cell_id</th>\n",
       "      <th>trial_id</th>\n",
       "      <th>resp_id</th>\n",
       "      <th>isi</th>\n",
       "      <th>stim1_contrast</th>\n",
       "      <th>stim2_id</th>\n",
       "      <th>area</th>\n",
       "      <th>stim1_id</th>\n",
       "      <th>filter_cell_vis</th>\n",
       "      <th>...</th>\n",
       "      <th>date</th>\n",
       "      <th>sess</th>\n",
       "      <th>filter_cell_well_max</th>\n",
       "      <th>pref_ori_noad</th>\n",
       "      <th>pref_ori_ad_250</th>\n",
       "      <th>pref_ori_ad_750</th>\n",
       "      <th>pref_unadapted_distance</th>\n",
       "      <th>pref_unadapted_distance_bin</th>\n",
       "      <th>pref_adapted_distance</th>\n",
       "      <th>tuning_bias</th>\n",
       "    </tr>\n",
       "  </thead>\n",
       "  <tbody>\n",
       "    <tr>\n",
       "      <th>1535086</th>\n",
       "      <td>0.070788</td>\n",
       "      <td>230302_004_53</td>\n",
       "      <td>353</td>\n",
       "      <td>R2</td>\n",
       "      <td>750</td>\n",
       "      <td>1</td>\n",
       "      <td>3</td>\n",
       "      <td>LM</td>\n",
       "      <td>0</td>\n",
       "      <td>True</td>\n",
       "      <td>...</td>\n",
       "      <td>230302</td>\n",
       "      <td>4</td>\n",
       "      <td>True</td>\n",
       "      <td>5</td>\n",
       "      <td>3</td>\n",
       "      <td>3</td>\n",
       "      <td>67.5</td>\n",
       "      <td>90</td>\n",
       "      <td>67.5</td>\n",
       "      <td>0.0</td>\n",
       "    </tr>\n",
       "    <tr>\n",
       "      <th>1498362</th>\n",
       "      <td>-0.001468</td>\n",
       "      <td>230302_004_10</td>\n",
       "      <td>50</td>\n",
       "      <td>R2</td>\n",
       "      <td>250</td>\n",
       "      <td>1</td>\n",
       "      <td>7</td>\n",
       "      <td>LM</td>\n",
       "      <td>0</td>\n",
       "      <td>True</td>\n",
       "      <td>...</td>\n",
       "      <td>230302</td>\n",
       "      <td>4</td>\n",
       "      <td>False</td>\n",
       "      <td>0</td>\n",
       "      <td>0</td>\n",
       "      <td>7</td>\n",
       "      <td>0.0</td>\n",
       "      <td>0</td>\n",
       "      <td>0.0</td>\n",
       "      <td>0.0</td>\n",
       "    </tr>\n",
       "    <tr>\n",
       "      <th>10251</th>\n",
       "      <td>-0.030888</td>\n",
       "      <td>200720_003_13</td>\n",
       "      <td>84</td>\n",
       "      <td>R1</td>\n",
       "      <td>250</td>\n",
       "      <td>1</td>\n",
       "      <td>6</td>\n",
       "      <td>V1</td>\n",
       "      <td>0</td>\n",
       "      <td>True</td>\n",
       "      <td>...</td>\n",
       "      <td>200720</td>\n",
       "      <td>3</td>\n",
       "      <td>True</td>\n",
       "      <td>0</td>\n",
       "      <td>0</td>\n",
       "      <td>0</td>\n",
       "      <td>0.0</td>\n",
       "      <td>0</td>\n",
       "      <td>0.0</td>\n",
       "      <td>0.0</td>\n",
       "    </tr>\n",
       "    <tr>\n",
       "      <th>26153</th>\n",
       "      <td>-0.020128</td>\n",
       "      <td>200720_003_33</td>\n",
       "      <td>401</td>\n",
       "      <td>R1</td>\n",
       "      <td>250</td>\n",
       "      <td>1</td>\n",
       "      <td>0</td>\n",
       "      <td>V1</td>\n",
       "      <td>0</td>\n",
       "      <td>False</td>\n",
       "      <td>...</td>\n",
       "      <td>200720</td>\n",
       "      <td>3</td>\n",
       "      <td>True</td>\n",
       "      <td>7</td>\n",
       "      <td>7</td>\n",
       "      <td>3</td>\n",
       "      <td>22.5</td>\n",
       "      <td>0</td>\n",
       "      <td>22.5</td>\n",
       "      <td>0.0</td>\n",
       "    </tr>\n",
       "    <tr>\n",
       "      <th>1794444</th>\n",
       "      <td>0.021428</td>\n",
       "      <td>230307_004_31</td>\n",
       "      <td>149</td>\n",
       "      <td>R2</td>\n",
       "      <td>250</td>\n",
       "      <td>1</td>\n",
       "      <td>3</td>\n",
       "      <td>LM</td>\n",
       "      <td>0</td>\n",
       "      <td>False</td>\n",
       "      <td>...</td>\n",
       "      <td>230307</td>\n",
       "      <td>4</td>\n",
       "      <td>True</td>\n",
       "      <td>6</td>\n",
       "      <td>6</td>\n",
       "      <td>7</td>\n",
       "      <td>45.0</td>\n",
       "      <td>45</td>\n",
       "      <td>45.0</td>\n",
       "      <td>0.0</td>\n",
       "    </tr>\n",
       "  </tbody>\n",
       "</table>\n",
       "<p>5 rows × 24 columns</p>\n",
       "</div>"
      ],
      "text/plain": [
       "             dfof        cell_id  trial_id resp_id  isi  stim1_contrast  \\\n",
       "1535086  0.070788  230302_004_53       353      R2  750               1   \n",
       "1498362 -0.001468  230302_004_10        50      R2  250               1   \n",
       "10251   -0.030888  200720_003_13        84      R1  250               1   \n",
       "26153   -0.020128  200720_003_33       401      R1  250               1   \n",
       "1794444  0.021428  230307_004_31       149      R2  250               1   \n",
       "\n",
       "         stim2_id area  stim1_id  filter_cell_vis  ...    date  sess  \\\n",
       "1535086         3   LM         0             True  ...  230302     4   \n",
       "1498362         7   LM         0             True  ...  230302     4   \n",
       "10251           6   V1         0             True  ...  200720     3   \n",
       "26153           0   V1         0            False  ...  200720     3   \n",
       "1794444         3   LM         0            False  ...  230307     4   \n",
       "\n",
       "         filter_cell_well_max  pref_ori_noad  pref_ori_ad_250  \\\n",
       "1535086                  True              5                3   \n",
       "1498362                 False              0                0   \n",
       "10251                    True              0                0   \n",
       "26153                    True              7                7   \n",
       "1794444                  True              6                6   \n",
       "\n",
       "         pref_ori_ad_750  pref_unadapted_distance  \\\n",
       "1535086                3                     67.5   \n",
       "1498362                7                      0.0   \n",
       "10251                  0                      0.0   \n",
       "26153                  3                     22.5   \n",
       "1794444                7                     45.0   \n",
       "\n",
       "         pref_unadapted_distance_bin  pref_adapted_distance  tuning_bias  \n",
       "1535086                           90                   67.5          0.0  \n",
       "1498362                            0                    0.0          0.0  \n",
       "10251                              0                    0.0          0.0  \n",
       "26153                              0                   22.5          0.0  \n",
       "1794444                           45                   45.0          0.0  \n",
       "\n",
       "[5 rows x 24 columns]"
      ]
     },
     "execution_count": 84,
     "metadata": {},
     "output_type": "execute_result"
    }
   ],
   "source": [
    "dir_data = r'\\\\duhs-user-nc1.dhe.duke.edu\\dusom_glickfeldlab\\All_Staff\\home\\lan\\Data\\2P_images\\mat_inter\\df tidy for plots/'.replace('\\\\', '/')\n",
    "# df_tidy.to_csv(os.path.join(dir_data, 'df_tidy_tuning_bias_wellmax.csv'), index=False) # takes 80 sec\n",
    "df_tidy = pd.read_csv(os.path.join(dir_data, 'df_tidy_tuning_bias_wellmax.csv'))\n",
    "df_tidy.sample(5, random_state=0)"
   ]
  },
  {
   "cell_type": "code",
   "execution_count": 86,
   "metadata": {},
   "outputs": [
    {
     "name": "stderr",
     "output_type": "stream",
     "text": [
      "100%|██████████| 606/606 [01:19<00:00,  7.58it/s]\n"
     ]
    }
   ],
   "source": [
    "df_tuning = df_tidy[['dfof', 'cell_id', 'resp_id', 'isi', 'stim2_id', \n",
    "                    'area', 'filter_cell_vis', 'filter_cell_well_fit', \n",
    "                    'pref_ori_noad', 'pref_ori_ad_250', \n",
    "                    'pref_unadapted_distance', 'pref_unadapted_distance_bin', 'pref_adapted_distance', \n",
    "                    'tuning_bias', #'tuning_bias_control',\n",
    "                    ]]\n",
    "df_tuning = df_tuning[(df_tuning.isi > -1) # placeholder, always true\n",
    "                    & (df_tuning.filter_cell_vis == True)\n",
    "                    & (df_tuning.filter_cell_well_fit == True)\n",
    "                    & ((df_tuning.isi == 250) | (df_tuning.isi == 6000))\n",
    "                    ]\n",
    "                    \n",
    "df_tuning['tuning_noad'] = np.pi\n",
    "df_tuning['tuning_250'] = np.pi\n",
    "\n",
    "for icell in tqdm(df_tuning.cell_id.unique()):\n",
    "    ## tuning curve when isi = 6000, no adapter\n",
    "    tuning_noad = df_tuning.loc[(df_tuning.cell_id == icell) & (df_tuning.isi == 6000) & (df_tuning.resp_id == 'R2'), :].groupby(['stim2_id'], sort=True).dfof.agg(np.nanmean).values # groupby sort: sorted by key, aka stim2_id. take R2 of no adapter trials to get tuning curve when no adapter\n",
    "    df_tuning.loc[(df_tuning.cell_id == icell), 'tuning_noad'] = df_tuning.loc[(df_tuning.cell_id == icell), 'tuning_noad'].apply(lambda x: tuning_noad)\n",
    "    \n",
    "    ## tuning curve when isi = 250\n",
    "    tuning_250 = df_tuning.loc[(df_tuning.cell_id == icell) & (df_tuning.isi == 250) & (df_tuning.resp_id == 'R2'), :].groupby(['stim2_id'], sort=True).dfof.agg(np.nanmean).values\n",
    "    df_tuning.loc[(df_tuning.cell_id == icell), 'tuning_250'] = df_tuning.loc[(df_tuning.cell_id == icell), 'tuning_250'].apply(lambda x: tuning_250)\n",
    "\n",
    "df_tuning.sort_values(by=['tuning_bias'], inplace=True, ascending=False) # df_tuning sort by tuning_bias_distance\n",
    "df_tuning.sample(5, random_state=0) # NOTE: where isi=6000, pref_adapted_distance and tuning_bias are NaN"
   ]
  },
  {
   "cell_type": "code",
   "execution_count": 90,
   "metadata": {},
   "outputs": [
    {
     "data": {
      "text/html": [
       "<div>\n",
       "<style scoped>\n",
       "    .dataframe tbody tr th:only-of-type {\n",
       "        vertical-align: middle;\n",
       "    }\n",
       "\n",
       "    .dataframe tbody tr th {\n",
       "        vertical-align: top;\n",
       "    }\n",
       "\n",
       "    .dataframe thead th {\n",
       "        text-align: right;\n",
       "    }\n",
       "</style>\n",
       "<table border=\"1\" class=\"dataframe\">\n",
       "  <thead>\n",
       "    <tr style=\"text-align: right;\">\n",
       "      <th></th>\n",
       "      <th>dfof</th>\n",
       "      <th>cell_id</th>\n",
       "      <th>resp_id</th>\n",
       "      <th>isi</th>\n",
       "      <th>stim2_id</th>\n",
       "      <th>area</th>\n",
       "      <th>filter_cell_vis</th>\n",
       "      <th>filter_cell_well_fit</th>\n",
       "      <th>pref_ori_noad</th>\n",
       "      <th>pref_ori_ad_250</th>\n",
       "      <th>pref_unadapted_distance</th>\n",
       "      <th>pref_unadapted_distance_bin</th>\n",
       "      <th>pref_adapted_distance</th>\n",
       "      <th>tuning_bias</th>\n",
       "      <th>tuning_noad</th>\n",
       "      <th>tuning_250</th>\n",
       "    </tr>\n",
       "  </thead>\n",
       "  <tbody>\n",
       "    <tr>\n",
       "      <th>85629</th>\n",
       "      <td>0.199545</td>\n",
       "      <td>200728_003_6</td>\n",
       "      <td>R1</td>\n",
       "      <td>250</td>\n",
       "      <td>7</td>\n",
       "      <td>V1</td>\n",
       "      <td>True</td>\n",
       "      <td>1.0</td>\n",
       "      <td>6</td>\n",
       "      <td>6</td>\n",
       "      <td>45.0</td>\n",
       "      <td>45</td>\n",
       "      <td>45.0</td>\n",
       "      <td>0.0</td>\n",
       "      <td>[0.07665864035436883, 0.05438069871789963, 0.0...</td>\n",
       "      <td>[0.018548901748557767, 0.0644251113963998, 0.0...</td>\n",
       "    </tr>\n",
       "    <tr>\n",
       "      <th>1440782</th>\n",
       "      <td>0.519859</td>\n",
       "      <td>230302_003_82</td>\n",
       "      <td>R1</td>\n",
       "      <td>250</td>\n",
       "      <td>7</td>\n",
       "      <td>LM</td>\n",
       "      <td>True</td>\n",
       "      <td>1.0</td>\n",
       "      <td>7</td>\n",
       "      <td>0</td>\n",
       "      <td>22.5</td>\n",
       "      <td>0</td>\n",
       "      <td>0.0</td>\n",
       "      <td>-22.5</td>\n",
       "      <td>[0.1972596495128979, 0.09541345424151308, 0.07...</td>\n",
       "      <td>[0.14575854938290445, 0.1365680314586618, 0.08...</td>\n",
       "    </tr>\n",
       "    <tr>\n",
       "      <th>1462619</th>\n",
       "      <td>0.172272</td>\n",
       "      <td>230302_003_107</td>\n",
       "      <td>R2</td>\n",
       "      <td>250</td>\n",
       "      <td>6</td>\n",
       "      <td>LM</td>\n",
       "      <td>True</td>\n",
       "      <td>1.0</td>\n",
       "      <td>7</td>\n",
       "      <td>7</td>\n",
       "      <td>22.5</td>\n",
       "      <td>0</td>\n",
       "      <td>22.5</td>\n",
       "      <td>0.0</td>\n",
       "      <td>[0.09107714490474358, 0.026065924826003777, 0....</td>\n",
       "      <td>[0.0354991277305511, 0.015237766940885194, -0....</td>\n",
       "    </tr>\n",
       "    <tr>\n",
       "      <th>1592584</th>\n",
       "      <td>0.082055</td>\n",
       "      <td>230302_004_121</td>\n",
       "      <td>R2</td>\n",
       "      <td>6000</td>\n",
       "      <td>3</td>\n",
       "      <td>LM</td>\n",
       "      <td>True</td>\n",
       "      <td>1.0</td>\n",
       "      <td>3</td>\n",
       "      <td>3</td>\n",
       "      <td>67.5</td>\n",
       "      <td>90</td>\n",
       "      <td>NaN</td>\n",
       "      <td>NaN</td>\n",
       "      <td>[0.044849609411425115, 0.02850850542643437, 0....</td>\n",
       "      <td>[-0.00886822606415649, 0.03394591823757845, 0....</td>\n",
       "    </tr>\n",
       "    <tr>\n",
       "      <th>1416587</th>\n",
       "      <td>-0.065986</td>\n",
       "      <td>230302_003_53</td>\n",
       "      <td>R2</td>\n",
       "      <td>250</td>\n",
       "      <td>0</td>\n",
       "      <td>LM</td>\n",
       "      <td>True</td>\n",
       "      <td>1.0</td>\n",
       "      <td>3</td>\n",
       "      <td>3</td>\n",
       "      <td>67.5</td>\n",
       "      <td>90</td>\n",
       "      <td>67.5</td>\n",
       "      <td>0.0</td>\n",
       "      <td>[0.1270732780734014, 0.35774974152364364, 0.65...</td>\n",
       "      <td>[0.015339250510076537, 0.08376715997280944, 0....</td>\n",
       "    </tr>\n",
       "  </tbody>\n",
       "</table>\n",
       "</div>"
      ],
      "text/plain": [
       "             dfof         cell_id resp_id   isi  stim2_id area  \\\n",
       "85629    0.199545    200728_003_6      R1   250         7   V1   \n",
       "1440782  0.519859   230302_003_82      R1   250         7   LM   \n",
       "1462619  0.172272  230302_003_107      R2   250         6   LM   \n",
       "1592584  0.082055  230302_004_121      R2  6000         3   LM   \n",
       "1416587 -0.065986   230302_003_53      R2   250         0   LM   \n",
       "\n",
       "         filter_cell_vis  filter_cell_well_fit  pref_ori_noad  \\\n",
       "85629               True                   1.0              6   \n",
       "1440782             True                   1.0              7   \n",
       "1462619             True                   1.0              7   \n",
       "1592584             True                   1.0              3   \n",
       "1416587             True                   1.0              3   \n",
       "\n",
       "         pref_ori_ad_250  pref_unadapted_distance  \\\n",
       "85629                  6                     45.0   \n",
       "1440782                0                     22.5   \n",
       "1462619                7                     22.5   \n",
       "1592584                3                     67.5   \n",
       "1416587                3                     67.5   \n",
       "\n",
       "         pref_unadapted_distance_bin  pref_adapted_distance  tuning_bias  \\\n",
       "85629                             45                   45.0          0.0   \n",
       "1440782                            0                    0.0        -22.5   \n",
       "1462619                            0                   22.5          0.0   \n",
       "1592584                           90                    NaN          NaN   \n",
       "1416587                           90                   67.5          0.0   \n",
       "\n",
       "                                               tuning_noad  \\\n",
       "85629    [0.07665864035436883, 0.05438069871789963, 0.0...   \n",
       "1440782  [0.1972596495128979, 0.09541345424151308, 0.07...   \n",
       "1462619  [0.09107714490474358, 0.026065924826003777, 0....   \n",
       "1592584  [0.044849609411425115, 0.02850850542643437, 0....   \n",
       "1416587  [0.1270732780734014, 0.35774974152364364, 0.65...   \n",
       "\n",
       "                                                tuning_250  \n",
       "85629    [0.018548901748557767, 0.0644251113963998, 0.0...  \n",
       "1440782  [0.14575854938290445, 0.1365680314586618, 0.08...  \n",
       "1462619  [0.0354991277305511, 0.015237766940885194, -0....  \n",
       "1592584  [-0.00886822606415649, 0.03394591823757845, 0....  \n",
       "1416587  [0.015339250510076537, 0.08376715997280944, 0....  "
      ]
     },
     "execution_count": 90,
     "metadata": {},
     "output_type": "execute_result"
    }
   ],
   "source": [
    "dir_data = r'\\\\duhs-user-nc1.dhe.duke.edu\\dusom_glickfeldlab\\All_Staff\\home\\lan\\Data\\2P_images\\mat_inter\\df tidy for plots/'.replace('\\\\', '/')\n",
    "# df_tuning.to_csv(os.path.join(dir_data, 'df_tidy_tuning_curve.csv'), index=False) # takes 80 sec\n",
    "df_tidy = pd.read_csv(os.path.join(dir_data, 'df_tidy_tuning_curve.csv'))\n",
    "df_tuning.sample(5, random_state=0)"
   ]
  },
  {
   "cell_type": "markdown",
   "metadata": {},
   "source": [
    "## tuning across area & ISI"
   ]
  },
  {
   "cell_type": "code",
   "execution_count": 107,
   "metadata": {},
   "outputs": [
    {
     "data": {
      "image/png": "[encoded data removed]",
      "text/plain": [
       "<Figure size 1200x500 with 2 Axes>"
      ]
     },
     "metadata": {},
     "output_type": "display_data"
    }
   ],
   "source": [
    "fig, ax = plt.subplots(1, 2, figsize=(12, 5), sharex=True, sharey=True)\n",
    "color_list = '85a7eb-3e51cc-f6cd51-c48a5a-d1a6de-c715f4' # from https://coolors.co/85a7eb-3e51cc-f6cd51-c48a5a-d1a6de-c715f4\n",
    "color_list = color_list.split('-') # V1 (unadapted, adapted) - LM (unadapted, adapted) - LI (unadapted, adapted)\n",
    "color_list = ['#' + i for i in color_list]\n",
    "color_list_noad = color_list[::2]\n",
    "color_list_250 = color_list[1::2]\n",
    "\n",
    "\n",
    "for i, iarea in enumerate(['V1', 'LM', 'LI']):\n",
    "    tuning_pop = df_tuning[df_tuning.area == iarea].groupby(['cell_id']).tuning_noad.first().values\n",
    "    tuning_pop_250 = df_tuning[df_tuning.area == iarea].groupby(['cell_id']).tuning_250.first().values\n",
    "    nori = len(tuning_pop[0])\n",
    "    tuning_pop = np.concatenate(tuning_pop).reshape(-1, nori) # reshape array of arrays to 2d array. ncell x nstim (nori)\n",
    "    tuning_pop_250 = np.concatenate(tuning_pop_250).reshape(-1, nori)\n",
    "\n",
    "    ## find pref ori by argmax along ori axis. determined in noad trials\n",
    "    pref_ori = np.argmax(tuning_pop, axis=1) # ncell\n",
    "\n",
    "    ## align tuning curve by pref ori\n",
    "    tuning_pop_aligned = np.zeros_like(tuning_pop)\n",
    "    tuning_pop_aligned_250 = np.zeros_like(tuning_pop_250)\n",
    "    for icell in range(tuning_pop.shape[0]):\n",
    "        tuning_pop_aligned[icell] = np.roll(tuning_pop[icell], nori//2 - pref_ori[icell]) # shift by nori//2 - pref_ori\n",
    "        tuning_pop_aligned_250[icell] = np.roll(tuning_pop_250[icell], nori//2 - pref_ori[icell]) # align by pref_ori of noad (before adp)\n",
    "\n",
    "    tuning_pop_avg = np.nanmean(tuning_pop_aligned, axis=0) # average across cells\n",
    "    tuning_pop_avg = np.append(tuning_pop_avg, tuning_pop_avg[0]) # append first element to the end, so it's a circle\n",
    "    tuning_pop_avg_250 = np.nanmean(tuning_pop_aligned_250, axis=0)\n",
    "    tuning_pop_avg_250 = np.append(tuning_pop_avg_250, tuning_pop_avg_250[0])\n",
    "\n",
    "    tuning_pop_sem = np.nanstd(tuning_pop_aligned, axis=0) / np.sqrt(tuning_pop.shape[0]) # sem across cells\n",
    "    tuning_pop_sem = np.append(tuning_pop_sem, tuning_pop_sem[0])\n",
    "    tuning_pop_sem_250 = np.nanstd(tuning_pop_aligned_250, axis=0) / np.sqrt(tuning_pop_250.shape[0])\n",
    "    tuning_pop_sem_250 = np.append(tuning_pop_sem_250, tuning_pop_sem_250[0])\n",
    "\n",
    "    ax[0].errorbar(np.arange(len(tuning_pop_avg)) + i*0.1, \n",
    "                tuning_pop_avg, \n",
    "                yerr=tuning_pop_sem, \n",
    "                label=iarea, alpha=1, \n",
    "                color=color_list_noad[i],)\n",
    "    \n",
    "    ax[1].errorbar(np.arange(len(tuning_pop_avg_250)) + i*0.1, \n",
    "                tuning_pop_avg_250, \n",
    "                yerr=tuning_pop_sem_250, \n",
    "                label=iarea, alpha=.6, \n",
    "                color=color_list_250[i],)\n",
    "\n",
    "ax[0].set_ylabel('dF/F', fontsize=16)\n",
    "ax[0].set_xlabel('Distance from max responsive orientation (deg)', fontsize=16)\n",
    "ax[1].set_xlabel('Distance from max responsive orientation (deg)', fontsize=16)\n",
    "\n",
    "xlabels = [str(int(t)) for t in np.arange(-90, 90 + 180/nori*2, 180/nori*2)]\n",
    "ax[0].set_xticks(np.arange(0, len(tuning_pop_avg), 2), xlabels);\n",
    "\n",
    "ax[0].legend(frameon=False, loc='upper right', fontsize=16);\n",
    "ax[1].legend(frameon=False, loc='upper right', fontsize=16);\n",
    "sns.despine();\n",
    "plt.tight_layout();\n",
    "\n",
    "# fig.savefig(os.path.join(dir_fig, 'tuning_curve_by_area, noad vs ad250.svg'))"
   ]
  },
  {
   "attachments": {},
   "cell_type": "markdown",
   "metadata": {},
   "source": [
    "## polar plot of tuning\n",
    "before and after adaptation  \n",
    "filter cells "
   ]
  },
  {
   "cell_type": "code",
   "execution_count": 108,
   "metadata": {},
   "outputs": [],
   "source": [
    "# https://stackoverflow.com/questions/58065055/floor-and-ceil-with-number-of-decimals\n",
    "\n",
    "def my_ceil(a, decimal=0):\n",
    "    # my_ceil(0.123, decimal=2) = 0.13\n",
    "    return np.true_divide(np.ceil(a * 10**decimal), 10**decimal)\n",
    "\n",
    "def my_floor(a, decimal=0):\n",
    "    # my_floor(0.123, decimal=2) = 0.12\n",
    "    return np.true_divide(np.floor(a * 10**decimal), 10**decimal)"
   ]
  },
  {
   "cell_type": "code",
   "execution_count": 209,
   "metadata": {},
   "outputs": [
    {
     "name": "stderr",
     "output_type": "stream",
     "text": [
      "100%|██████████| 10/10 [00:04<00:00,  2.47it/s]\n"
     ]
    }
   ],
   "source": [
    "# color_list = '85a7eb-ced3f2-f6cd51-e4cab4-d1a6de-fa9ce0'\n",
    "color_list = '85a7eb-3e51cc-f6cd51-c48a5a-d1a6de-c715f4' # from https://coolors.co/85a7eb-3e51cc-f6cd51-c48a5a-d1a6de-c715f4\n",
    "color_list = color_list.split('-') # V1 (unadapted, adapted) - LM (unadapted, adapted) - LI (unadapted, adapted)\n",
    "color_list = ['#' + i for i in color_list]\n",
    "\n",
    "# for icell in ['200803_002_55']:\n",
    "for icell in tqdm(df_tuning[(df_tuning.area == 'LM') \n",
    "                            # & (df_tuning.tuning_bias >= 45)\n",
    "                            ].cell_id.unique()[10:20]):\n",
    "\n",
    "    icell_area = df_tuning[df_tuning.cell_id == icell].area.values[0]\n",
    "    if icell_area == 'V1':\n",
    "        color_unadapted = color_list[0]\n",
    "        color_adapted = color_list[1]\n",
    "    elif icell_area == 'LM':\n",
    "        color_unadapted = color_list[2]\n",
    "        color_adapted = color_list[3]\n",
    "    elif icell_area == 'LI':\n",
    "        color_unadapted = color_list[4]\n",
    "        color_adapted = color_list[5]\n",
    "\n",
    "    # gOSI_noad = df_tuning[df_tuning.cell_id == icell].gOSI_noad.values[0]\n",
    "    # gOSI_250 = df_tuning[df_tuning.cell_id == icell].gOSI_250.values[0]\n",
    "\n",
    "    tuning_noad = df_tuning[df_tuning.cell_id == icell].tuning_noad.values[0]\n",
    "    tuning_noad = np.append(tuning_noad, tuning_noad) # repeat 8 values twice to make 16 values for polar plot\n",
    "    tuning_noad = np.append(tuning_noad, tuning_noad[0]) # repeat first value at the end to close the circle\n",
    "\n",
    "    # ori_pref_noad = df_tuning[df_tuning.cell_id == icell].ori_pref_noad.values[0]\n",
    "    ori_pref_noad = df_tuning[df_tuning.cell_id == icell].pref_ori_noad.values[0]\n",
    "    # print('ori_pref_noad deg: ', np.round(ori_pref_noad, 2))\n",
    "    ori_pref_noad = ori_pref_noad * np.pi / 180 # degree to radian\n",
    "\n",
    "    tuning_250 = df_tuning[df_tuning.cell_id == icell].tuning_250.values[0]\n",
    "    tuning_250 = np.append(tuning_250, tuning_250)\n",
    "    tuning_250 = np.append(tuning_250, tuning_250[0])\n",
    "    # ori_pref_ad_250 = df_tuning[df_tuning.cell_id == icell].ori_pref_ad_250.values[0]\n",
    "    ori_pref_ad_250 = df_tuning[df_tuning.cell_id == icell].pref_ori_ad_250.values[0]\n",
    "    # print('ori_pref_ad_250 deg: ', np.round(ori_pref_ad_250, 2))\n",
    "    ori_pref_ad_250 = ori_pref_ad_250 * np.pi / 180\n",
    "\n",
    "    tuning_bias = df_tuning[df_tuning.cell_id == icell].tuning_bias.values[0]\n",
    "    # print('no adapter: ', np.round(tuning_noad, 2))\n",
    "    # print('250 ms: ', np.round(tuning_250, 2))\n",
    "    # print('tuning_bias: ', np.round(tuning_bias, 2))\n",
    "\n",
    "\n",
    "    fig, ax = plt.subplots(1, 1, figsize=(12, 12), subplot_kw=dict(projection='polar'))\n",
    "    ax.plot(np.linspace(0, 2*np.pi, 17), tuning_noad, \n",
    "            alpha=.7, linewidth=10, label='unadapted', color=color_unadapted)\n",
    "    ax.plot(np.linspace(0, 2*np.pi, 17), tuning_250, \n",
    "            alpha=.7, linewidth=10, label='adapted', color=color_adapted)\n",
    "\n",
    "    # plot adapter ori as a line\n",
    "    min_val = np.min([np.min(tuning_noad), np.min(tuning_250)])\n",
    "    max_val = np.max([np.max(tuning_noad), np.max(tuning_250)])\n",
    "    # ax.plot([0, np.pi], [max_val, max_val], color='gray', linewidth=5, alpha=.5, label='adapter ori')\n",
    "\n",
    "    # ## plot 90 deg as a line\n",
    "    # ax.plot([np.pi/2, np.pi/2], [min_val, max_val], color='cyan', linewidth=5, alpha=.5, linestyle='-')\n",
    "    # ax.plot([np.pi*3/2, np.pi*3/2], [min_val, max_val], color='cyan', linewidth=5, alpha=.5, linestyle='-')\n",
    "\n",
    "    # ## plot pref ori (noad) as a line\n",
    "    # ax.plot([ori_pref_noad, ori_pref_noad], [min_val, max_val], color='blue', linewidth=5, alpha=.5, label='pref ori no adapter')\n",
    "    # ori_pref_noad_opp = ori_pref_noad + np.pi # find opposite orientation of pref ori\n",
    "    # if ori_pref_noad_opp > 2*np.pi:\n",
    "    #     ori_pref_noad_opp = ori_pref_noad_opp - 2*np.pi\n",
    "    # ax.plot([ori_pref_noad_opp, ori_pref_noad_opp], [min_val, max_val], color='blue', linewidth=5, alpha=.5, linestyle='-')\n",
    "\n",
    "    # ## plot pref ori (ad 250) as a line\n",
    "    # ax.plot([ori_pref_ad_250, ori_pref_ad_250], [min_val, max_val], color='orange', linewidth=5, alpha=.5, label='pref ori isi=250')\n",
    "    # ori_pref_ad_250_opp = ori_pref_ad_250 + np.pi\n",
    "    # if ori_pref_ad_250_opp > 2*np.pi:\n",
    "    #     ori_pref_ad_250_opp = ori_pref_ad_250_opp - 2*np.pi\n",
    "    # ax.plot([ori_pref_ad_250_opp, ori_pref_ad_250_opp], [min_val, max_val], color='orange', linewidth=5, alpha=.5, linestyle='-')\n",
    "\n",
    "    # ## add text at top left\n",
    "    # bias_color = 'blue'\n",
    "    # minus_flag = 'pos'\n",
    "    # if tuning_bias < 0: # attractive bias\n",
    "    #     bias_color = 'red'\n",
    "    #     minus_flag = 'neg'\n",
    "    # plt.text(0.05, 0.9, f'tuning_bias: {np.round(tuning_bias, 2)}', transform=plt.gcf().transFigure, color=bias_color, fontsize=16) # in cartesian coordinates\n",
    "\n",
    "    # gOSI_color = 'green'\n",
    "    # if gOSI_noad < 0.5 or gOSI_250 < 0.5:\n",
    "    #     gOSI_color = 'orange'\n",
    "    # if gOSI_noad < 0.5 and gOSI_250 < 0.5:\n",
    "    #     gOSI_color = 'red'\n",
    "    # plt.text(0.05, 0.85, f'gOSI_noad: {np.round(gOSI_noad, 2)}', transform=plt.gcf().transFigure, color=gOSI_color, fontsize=16) # in cartesian coordinates\n",
    "    # plt.text(0.05, 0.8, f'gOSI_250: {np.round(gOSI_250, 2)}', transform=plt.gcf().transFigure, color=gOSI_color, fontsize=16) # in cartesian coordinates\n",
    "\n",
    "    rticks = np.arange(0, max_val, step=0.05)\n",
    "    ax.set_rticks(rticks)  # fewer radial ticks\n",
    "\n",
    "    ax.set_xticks(np.linspace(0, 2*np.pi, 17))\n",
    "    ax.tick_params(pad=10) # set tick label distance from axis\n",
    "    ax.set_xticklabels(np.arange(0, 360+22.5, 22.5))\n",
    "    xticklabels = [label.get_text() for label in ax.get_xticklabels()]\n",
    "    xticklabels[-1] = '' # set final xticklabel invisible\n",
    "    ax.set_xticklabels(xticklabels)\n",
    "\n",
    "    yticklabels = np.linspace(my_floor(min_val, 2), my_ceil(max_val, 2), 5)\n",
    "    ax.set_yticks(yticklabels)\n",
    "    yticklabels = [np.round(float(label), 2) for label in yticklabels] # round yticklabels to 2 decimal places\n",
    "    ax.set_yticklabels(yticklabels)\n",
    "    ax.set_ylim(min_val, max_val)\n",
    "\n",
    "    area = df_tuning[df_tuning.cell_id == icell].area.values[0]\n",
    "    ax.set_title(f'cell {icell} in {area}', pad=30, fontsize=20)\n",
    "    ax.set_theta_zero_location(\"N\")\n",
    "    ax.set_theta_direction(-1)\n",
    "    ax.legend(bbox_to_anchor=(1.1, 1.1), frameon=False); # set legend position out of the way\n",
    "\n",
    "    # break\n",
    "\n",
    "    # save figure\n",
    "    dir_result = r'C:\\Users\\ll357\\Documents\\inter\\results\\tuning bias\\polar plot - tuning bias single cell/'.replace('\\\\', '/')\n",
    "    # fig.savefig(os.path.join(dir_result, f'gOSI_{np.round(gOSI_noad, 2)}_{icell}_tuning_curve.pdf'), bbox_inches='tight')\n",
    "    # fig.savefig(os.path.join(dir_result, f'{icell_area}_{icell}_tuning_curve.svg'), bbox_inches='tight')\n",
    "    plt.close(fig)\n",
    "    clear_output(wait=True)"
   ]
  }
 ],
 "metadata": {
  "kernelspec": {
   "display_name": "base",
   "language": "python",
   "name": "python3"
  },
  "language_info": {
   "codemirror_mode": {
    "name": "ipython",
    "version": 3
   },
   "file_extension": ".py",
   "mimetype": "text/x-python",
   "name": "python",
   "nbconvert_exporter": "python",
   "pygments_lexer": "ipython3",
   "version": "3.11.5"
  },
  "orig_nbformat": 4
 },
 "nbformat": 4,
 "nbformat_minor": 2
}
