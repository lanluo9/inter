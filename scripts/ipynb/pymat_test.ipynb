{
 "cells": [
  {
   "cell_type": "markdown",
   "metadata": {},
   "source": [
    "# test pymat bridge"
   ]
  },
  {
   "cell_type": "code",
   "execution_count": 1,
   "metadata": {},
   "outputs": [],
   "source": [
    "from pymatbridge import Matlab\n",
    "mlab = Matlab()"
   ]
  },
  {
   "cell_type": "code",
   "execution_count": 2,
   "metadata": {},
   "outputs": [
    {
     "name": "stdout",
     "output_type": "stream",
     "text": [
      "Starting MATLAB on ZMQ socket tcp://127.0.0.1:57907\n",
      "Send 'exit' command to kill the server\n",
      ".........MATLAB started and connected!\n"
     ]
    },
    {
     "data": {
      "text/plain": [
       "<pymatbridge.pymatbridge.Matlab at 0x20561eecc70>"
      ]
     },
     "execution_count": 2,
     "metadata": {},
     "output_type": "execute_result"
    }
   ],
   "source": [
    "mlab.start()"
   ]
  },
  {
   "cell_type": "code",
   "execution_count": 3,
   "metadata": {},
   "outputs": [
    {
     "data": {
      "text/plain": [
       "1"
      ]
     },
     "execution_count": 3,
     "metadata": {},
     "output_type": "execute_result"
    }
   ],
   "source": [
    "results = mlab.run_code('a=1')\n",
    "# print(results)\n",
    "mlab.get_variable('a')"
   ]
  },
  {
   "cell_type": "code",
   "execution_count": 4,
   "metadata": {},
   "outputs": [
    {
     "name": "stdout",
     "output_type": "stream",
     "text": [
      "8\n"
     ]
    },
    {
     "data": {
      "text/plain": [
       "{'result': 8,\n",
       " 'success': True,\n",
       " 'content': {'stdout': '',\n",
       "  'figures': [],\n",
       "  'datadir': 'C:\\\\Users\\\\GlickfeldLab\\\\AppData\\\\Local\\\\Temp\\\\2\\\\MatlabData\\\\'}}"
      ]
     },
     "execution_count": 4,
     "metadata": {},
     "output_type": "execute_result"
    }
   ],
   "source": [
    "dir_func = r'C:\\Users\\GlickfeldLab\\Documents\\test\\inter\\scripts\\misc\\personalized_matlab\\draft.m'.replace('\\\\', '/')\n",
    "res = mlab.run_func(dir_func, {'arg1': 3, 'arg2': 5})\n",
    "print(res['result'])\n",
    "res"
   ]
  },
  {
   "cell_type": "code",
   "execution_count": 5,
   "metadata": {},
   "outputs": [
    {
     "name": "stdout",
     "output_type": "stream",
     "text": [
      "MATLAB closed\n"
     ]
    },
    {
     "data": {
      "text/plain": [
       "True"
      ]
     },
     "execution_count": 5,
     "metadata": {},
     "output_type": "execute_result"
    }
   ],
   "source": [
    "mlab.stop()"
   ]
  },
  {
   "cell_type": "markdown",
   "metadata": {},
   "source": [
    "# cell magic bug"
   ]
  },
  {
   "cell_type": "code",
   "execution_count": 7,
   "metadata": {},
   "outputs": [
    {
     "name": "stdout",
     "output_type": "stream",
     "text": [
      "The pymatbridge module is not an IPython extension.\n"
     ]
    }
   ],
   "source": [
    "%load_ext pymatbridge"
   ]
  },
  {
   "cell_type": "code",
   "execution_count": 8,
   "metadata": {},
   "outputs": [
    {
     "name": "stderr",
     "output_type": "stream",
     "text": [
      "UsageError: Cell magic `%%matlab` not found.\n"
     ]
    }
   ],
   "source": [
    "%%matlab \n",
    "\n",
    "disp('hello');\n",
    "\n",
    "a = linspace(0.01,6*pi,100);\n",
    "plot(sin(a))\n",
    "grid on\n",
    "hold on\n",
    "plot(cos(a),'r')"
   ]
  }
 ],
 "metadata": {
  "interpreter": {
   "hash": "47a555caca16e16f7cc56b37ebdfc3ca1388989e249f47911ec229cde1cc9624"
  },
  "kernelspec": {
   "display_name": "Python 3.7.11 ('misc_test')",
   "language": "python",
   "name": "python3"
  },
  "language_info": {
   "codemirror_mode": {
    "name": "ipython",
    "version": 3
   },
   "file_extension": ".py",
   "mimetype": "text/x-python",
   "name": "python",
   "nbconvert_exporter": "python",
   "pygments_lexer": "ipython3",
   "version": "3.8.13"
  },
  "orig_nbformat": 4
 },
 "nbformat": 4,
 "nbformat_minor": 2
}
