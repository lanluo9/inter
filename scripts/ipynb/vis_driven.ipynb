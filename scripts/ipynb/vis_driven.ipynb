{
 "cells": [
  {
   "cell_type": "code",
   "execution_count": 35,
   "id": "d71f713e",
   "metadata": {},
   "outputs": [],
   "source": [
    "import numpy as np\n",
    "import pandas as pd\n",
    "import scipy.io\n",
    "from scipy import stats\n",
    "\n",
    "# import seaborn as sns\n",
    "import matplotlib.pyplot as plt\n",
    "%matplotlib inline\n",
    "\n",
    "from tqdm import tqdm\n",
    "import os\n",
    "import pickle"
   ]
  },
  {
   "cell_type": "code",
   "execution_count": 36,
   "id": "6659cd6b",
   "metadata": {},
   "outputs": [
    {
     "name": "stdout",
     "output_type": "stream",
     "text": [
      "1372 220529\n",
      "(250, 5) (218, 1)\n"
     ]
    }
   ],
   "source": [
    "mat_inter_path = r'\\\\duhs-user-nc1.dhe.duke.edu\\dusom_glickfeldlab\\All_Staff\\home\\lan\\Data\\2P_images\\mat_inter/'.replace('\\\\', '/')\n",
    "meta = pd.read_excel(mat_inter_path + 'adp_dataset_master.xlsx')\n",
    "\n",
    "date_str = str(220529)\n",
    "mouse_str = meta.loc[meta['date'] == int(date_str), 'mouse'].values#[0]\n",
    "if len(mouse_str) > 1:\n",
    "    print('duplicate dates with maybe different mouse. select which mouse?')\n",
    "else:\n",
    "    mouse_str = str(mouse_str[0])\n",
    "print(mouse_str, date_str)\n",
    "\n",
    "dir_sub = 'V1' + '_i' + mouse_str + '_' + date_str + '_lindsey' # '_cellpose'\n",
    "dfof_trialwise = scipy.io.loadmat(os.path.join(mat_inter_path, dir_sub, 'resp_base_trialwise' + '.mat')) # dir_sub[:-7] delete caiman in dir_sub\n",
    "print(dfof_trialwise['dfof_ad_trial'].shape, dfof_trialwise['dfof_ad_trial'][0,0].shape)\n",
    "\n",
    "dfof_ad_trial = dfof_trialwise['dfof_ad_trial'] # do not subtract baseline here: stim resp will be compared to base resp\n",
    "dfof_tg_trial = dfof_trialwise['dfof_tg_trial']"
   ]
  },
  {
   "attachments": {},
   "cell_type": "markdown",
   "id": "46456b4b",
   "metadata": {},
   "source": [
    "# AND gate for cell filter\n",
    "according to Ohki 2020  \n",
    "anova -> visually driven cells,  \n",
    "t test -> certain image responsive cells,  \n",
    "amp thresh -> lower false positive rate"
   ]
  },
  {
   "cell_type": "code",
   "execution_count": 37,
   "id": "6b51367d",
   "metadata": {},
   "outputs": [
    {
     "name": "stderr",
     "output_type": "stream",
     "text": [
      "100%|██████████| 250/250 [00:00<00:00, 425.78it/s]\n"
     ]
    }
   ],
   "source": [
    "ncell = dfof_ad_trial.shape[0]\n",
    "nstim = dfof_ad_trial.shape[1]\n",
    "\n",
    "p_anova = np.ones((ncell, 1)) * np.nan\n",
    "p_kruskal = np.ones((ncell, 1)) * np.nan\n",
    "p_ttest = np.ones((ncell, nstim)) * np.nan\n",
    "evoked = np.ones((ncell, nstim)) * np.nan\n",
    "\n",
    "for icell in tqdm(np.arange(ncell)):\n",
    "    base_cell_anova = np.concatenate([dfof_trialwise['dfof_base_trial'][icell, stim] for stim in range(nstim)])\n",
    "    stim_cell_anova = [] \n",
    "    for istim in np.arange(nstim):\n",
    "        stim_cell_anova.append(np.array(dfof_ad_trial[icell, istim]).flatten())\n",
    "\n",
    "        base_cell = dfof_trialwise['dfof_base_trial'][icell, istim]\n",
    "        stim_cell = dfof_trialwise['dfof_ad_trial'][icell, istim]\n",
    "        _, p_ttest_i = stats.ttest_ind(base_cell.flatten(), stim_cell.flatten(), equal_var=False, alternative='less')\n",
    "        p_ttest[icell, istim] = p_ttest_i\n",
    "\n",
    "        evoked_cell = (stim_cell - base_cell) / (base_cell + 1e-7)\n",
    "        evoked_i = np.mean(evoked_cell, axis=0) # trial averaged evoked resp\n",
    "        evoked[icell, istim] = evoked_i\n",
    "    \n",
    "    _, p_anova_cell = stats.f_oneway(np.array(base_cell_anova).flatten(), *stim_cell_anova)\n",
    "    p_anova[icell] = p_anova_cell\n",
    "    _, p_kruskal_cell = stats.kruskal(np.array(base_cell_anova).flatten(), *stim_cell_anova)\n",
    "    p_kruskal[icell] = p_kruskal_cell"
   ]
  },
  {
   "cell_type": "code",
   "execution_count": 38,
   "id": "395531aa",
   "metadata": {},
   "outputs": [
    {
     "name": "stdout",
     "output_type": "stream",
     "text": [
      "222 cells are visually driven, \n",
      "    proportion 0.89 out of 250 cells\n",
      "401 cells are image driven - with overlap between images, \n",
      "    proportion 0.32 out of 1250 cell-stim combos. \n",
      "    1-30 image evokes resp from [76 78 89 90 68] cells\n",
      "img driven cells are driven by [1 3 2 1 4 4 3 3 1 1 3 1 1 2 2 3 3 4 3 2 3 3 3 1 1 2 2 3 4 2 2 2 3 2 1 2 1\n",
      " 3 2 3 1 1 2 2 1 2 1 2 1 5 4 2 2 1 3 1 2 1 2 1 2 3 5 3 3 2 3 1 3 1 2 2 2 2\n",
      " 5 2 3 4 2 2 2 5 3 1 3 2 1 2 1 4 2 1 3 3 4 2 4 1 4 1 1 3 1 1 2 2 2 4 2 4 2\n",
      " 2 3 1 2 1 1 2 4 3 4 1 1 2 1 1 2 2 2 3 1 2 3 1 2 2 2 1 2 3 1 2 3 4 1 1 2 1\n",
      " 2 2 2 2 2 1 1 2 1 1 1 3 1 1 3 3 1 1 2 2 1 1 2 3 1 2 4 2 1 2 2 2 2 1 1 3 2\n",
      " 1 4 1 1 2] images\n"
     ]
    }
   ],
   "source": [
    "# visually driven cells: pass (anova OR kruskal) AND amp threshold for >=1 image\n",
    "p_sig = 0.01\n",
    "vis_driven = ((p_anova < p_sig) | (p_kruskal < p_sig)) & (sum(evoked.T > 0.1) > 0).reshape(-1, 1)\n",
    "print(f'{vis_driven.sum()} cells are visually driven, \\n\\\n",
    "    proportion {np.round(vis_driven.sum()/ncell, 2)} out of {ncell} cells')\n",
    "\n",
    "# cells responsive to image i: pass visually driven (anova OR kruskal) AND t-test AND amp threshold for *this* image\n",
    "img_driven = vis_driven & (p_ttest < p_sig) & (evoked > 0.1)\n",
    "print(f'{img_driven.sum()} cells are image driven - with overlap between images, \\n\\\n",
    "    proportion {np.round(img_driven.sum() / (ncell*nstim), 2)} out of {ncell*nstim} cell-stim combos. \\n\\\n",
    "    1-30 image evokes resp from {np.sum(img_driven, axis=0)} cells')\n",
    "\n",
    "t = np.sum(img_driven, axis=1)\n",
    "print(f'img driven cells are driven by {t[t>0]} images')"
   ]
  },
  {
   "cell_type": "code",
   "execution_count": 39,
   "id": "fabf9263",
   "metadata": {},
   "outputs": [
    {
     "name": "stdout",
     "output_type": "stream",
     "text": [
      "\\\\duhs-user-nc1.dhe.duke.edu\\dusom_glickfeldlab\\All_Staff\\home\\lan\\Data\\2P_images\\mat_inter\\V1_i1372_220529_lindsey\n"
     ]
    }
   ],
   "source": [
    "os.chdir(os.path.join(mat_inter_path, dir_sub))\n",
    "print(os.getcwd())\n",
    "\n",
    "# with open('vis_driven' + '.pickle', 'wb') as handle:\n",
    "#     pickle.dump(p_anova, handle, protocol=pickle.HIGHEST_PROTOCOL)\n",
    "#     pickle.dump(p_kruskal, handle, protocol=pickle.HIGHEST_PROTOCOL)\n",
    "#     pickle.dump(evoked, handle, protocol=pickle.HIGHEST_PROTOCOL)\n",
    "#     pickle.dump(p_ttest, handle, protocol=pickle.HIGHEST_PROTOCOL)\n",
    "\n",
    "# with open('vis_driven.pickle', 'wb') as f:\n",
    "#     pickle.dump([p_anova, p_kruskal, evoked, p_ttest], f)\n",
    "\n",
    "vis_driven_re = {}\n",
    "vis_driven_re['p_anova'] = p_anova\n",
    "vis_driven_re['p_kruskal'] = p_kruskal\n",
    "vis_driven_re['evoked'] = evoked\n",
    "vis_driven_re['p_ttest'] = p_ttest\n",
    "vis_driven_re['vis_driven'] = vis_driven\n",
    "vis_driven_re['img_driven'] = img_driven\n",
    "\n",
    "with open('vis_driven.pickle', 'wb') as f:\n",
    "    pickle.dump(vis_driven_re, f)\n",
    "\n",
    "# with open('vis_driven.pickle', 'rb') as f: \n",
    "#     p_anova, p_kruskal, evoked, p_ttest = pickle.load(f)"
   ]
  }
 ],
 "metadata": {
  "kernelspec": {
   "display_name": "base",
   "language": "python",
   "name": "python3"
  },
  "language_info": {
   "codemirror_mode": {
    "name": "ipython",
    "version": 3
   },
   "file_extension": ".py",
   "mimetype": "text/x-python",
   "name": "python",
   "nbconvert_exporter": "python",
   "pygments_lexer": "ipython3",
   "version": "3.9.12"
  },
  "vscode": {
   "interpreter": {
    "hash": "654a1d97444558a991daa59b50de40303e0e66ccc3f29b4958db12481daba1c4"
   }
  }
 },
 "nbformat": 4,
 "nbformat_minor": 5
}
