{
 "cells": [
  {
   "attachments": {},
   "cell_type": "markdown",
   "metadata": {},
   "source": [
    "## import"
   ]
  },
  {
   "cell_type": "code",
   "execution_count": 66,
   "metadata": {},
   "outputs": [
    {
     "name": "stdout",
     "output_type": "stream",
     "text": [
      "The autoreload extension is already loaded. To reload it, use:\n",
      "  %reload_ext autoreload\n"
     ]
    }
   ],
   "source": [
    "## on hubel, set python interpreter path: C:\\Users\\ll357\\AppData\\Local\\anaconda3\\python.exe\n",
    "\n",
    "import os\n",
    "import warnings\n",
    "from tqdm import tqdm\n",
    "import pickle\n",
    "from IPython.display import clear_output\n",
    "\n",
    "import numpy as np\n",
    "from numpy import dot\n",
    "from numpy.linalg import norm\n",
    "import scipy.io as sio\n",
    "import pandas as pd\n",
    "import seaborn as sns\n",
    "import matplotlib.pyplot as plt\n",
    "plt.rcParams['pdf.fonttype'] = 42\n",
    "plt.rcParams['ps.fonttype'] = 42\n",
    "plt.rcParams['svg.fonttype'] = 'none' # export svg compatible with coreldraw\n",
    "%matplotlib inline\n",
    "\n",
    "from statsmodels.stats.proportion import proportion_confint\n",
    "from sklearn.svm import LinearSVC\n",
    "    # Similar to SVC with parameter kernel=’linear’, but implemented in terms of liblinear rather than libsvm, \n",
    "    # so it scale better to large numbers of samples.\n",
    "from sklearn.svm import SVC\n",
    "from sklearn.ensemble import RandomForestClassifier\n",
    "from sklearn.pipeline import make_pipeline\n",
    "from sklearn.preprocessing import StandardScaler\n",
    "from sklearn.model_selection import cross_validate\n",
    "from sklearn.model_selection import train_test_split\n",
    "from sklearn.model_selection import LeaveOneOut\n",
    "\n",
    "from sklearn.decomposition import PCA\n",
    "import umap\n",
    "\n",
    "pd.options.mode.chained_assignment = None  # default='warn'\n",
    "%load_ext autoreload\n",
    "%autoreload 2"
   ]
  },
  {
   "attachments": {},
   "cell_type": "markdown",
   "metadata": {},
   "source": [
    "## func"
   ]
  },
  {
   "cell_type": "code",
   "execution_count": 8,
   "metadata": {},
   "outputs": [],
   "source": [
    "def calc_SNR(df_tidy):\n",
    "    ## SNR of R1, aka (R2 without adapter, isi=6k)\n",
    "    tmp = df_tidy[(df_tidy.resp_id == 'R2') & (df_tidy.isi == 6000)].groupby(['cell_id', 'stim2_id']).dfof\n",
    "    SNR_R1 = (tmp.mean() / tmp.std()).reset_index()\n",
    "    \n",
    "    ## modified SNR of R1: for cell, (max-min resp) / (median std over ori)\n",
    "    dfof_range_ori = (df_tidy[(df_tidy.resp_id == 'R2') & (df_tidy.isi == 6000)]\n",
    "                    .groupby(['cell_id', 'stim2_id'])\n",
    "                    .dfof.mean().reset_index() # mean dfof for each cell and each stim2_id\n",
    "                    .groupby('cell_id').dfof.apply(lambda x: x.max() - x.min()) # (max - min) resp for each cell over all stim2_id\n",
    "                    .reset_index()\n",
    "                    .rename(columns={'dfof': 'dfof_range'})\n",
    "                    )\n",
    "    dfof_std_ori  = (df_tidy[(df_tidy.resp_id == 'R2') & (df_tidy.isi == 6000)]\n",
    "                    .groupby(['cell_id', 'stim2_id'])\n",
    "                    .dfof.std().reset_index()\n",
    "                    .groupby('cell_id').dfof.median() # median std over stim2_id\n",
    "                    .reset_index()\n",
    "                    .rename(columns={'dfof': 'dfof_std_med'})\n",
    "                    )\n",
    "    SNR_R1_mod = dfof_range_ori.dfof_range / dfof_std_ori.dfof_std_med\n",
    "    dfof_SNR_R1_mod = dfof_range_ori.copy()\n",
    "    dfof_SNR_R1_mod['SNR_R1_mod'] = SNR_R1_mod\n",
    "\n",
    "    ## SNR of R2, aka (R2 with adapter, isi=250)\n",
    "    tmp = df_tidy[(df_tidy.resp_id == 'R2') & (df_tidy.isi == 250)].groupby(['cell_id', 'stim2_id']).dfof\n",
    "    SNR_R2 = (tmp.mean() / tmp.std()).reset_index()\n",
    "\n",
    "    ## merge to df\n",
    "    df_SNR = SNR_R1.merge(SNR_R2, on=['cell_id', 'stim2_id'], suffixes=('_R1', '_R2'))\n",
    "    df_SNR.columns = ['cell_id', 'stim2_id', 'SNR_R1', 'SNR_R2'] # rename columns\n",
    "    df_SNR = df_SNR.merge(dfof_SNR_R1_mod, on=['cell_id'])\n",
    "    df_SNR = df_SNR.sort_values(by='SNR_R1_mod', ascending=False)\n",
    "    return df_SNR\n",
    "\n",
    "\n",
    "def get_df_svc(df_tidy, iarea='V1', idatesess=0, ncell_keep=15, filter_cell='vis_pval'):\n",
    "    df_svc = df_tidy[['dfof', \n",
    "                    'cell_id', 'resp_id', 'isi', 'stim2_id', 'stim2_dist_id', 'trial_id',\n",
    "                    'filter_cell_vis', 'filter_cell_stim', 'filter_cell_vis_pval', 'filter_cell_well_fit', \n",
    "                    'area', 'mouse', 'date', 'sess'\n",
    "                    ]]\n",
    "\n",
    "    df_svc['stim2_dist'] = df_svc.stim2_id.apply(lambda x: 22.5*(8-x) if x > 4 else 22.5*x) \n",
    "                            # stim2 distance from 0 deg, hard coded for 8 ori. TODO: modify if needed\n",
    "    df_svc['date_sess'] = df_svc.date + '_' + df_svc.sess\n",
    "    \n",
    "    df_svc = df_svc[\n",
    "                    # (df_svc.isi != 750)\n",
    "                    # & \n",
    "                    (df_svc.filter_cell_vis == True)\n",
    "                    & (df_svc.resp_id == 'R2') # only decode R2, with or without adapter (differentiate by isi)\n",
    "                    & (df_svc.area == iarea)\n",
    "                    ]\n",
    "    date_sess_now = df_svc.date_sess.unique()[idatesess] # sess id in a specific area, with filter_cell_vis=True\n",
    "    df_svc = df_svc[df_svc.date_sess == date_sess_now]\n",
    "\n",
    "    if df_svc.cell_id.nunique() > ncell_keep:\n",
    "        \n",
    "        if filter_cell == 'vis_pval':\n",
    "            vis_pval_thresh = (df_svc.groupby('cell_id').first()\n",
    "                            .filter_cell_vis_pval.sort_values() # ascending, smaller pval better\n",
    "                            [ncell_keep]) # nsample (nrep trial) too small, need to reduce nfeature (ncell)\n",
    "            df_svc = df_svc[df_svc.filter_cell_vis_pval < vis_pval_thresh]\n",
    "\n",
    "        if filter_cell == 'well_fit':\n",
    "            df_svc = df_svc[df_svc.filter_cell_well_fit == True]\n",
    "        \n",
    "        if filter_cell == 'SNR':\n",
    "            df_SNR = calc_SNR(df_svc)\n",
    "            model_cell_id = (df_SNR.groupby('cell_id')\n",
    "                            .SNR_R1.max().reset_index()\n",
    "                            .sort_values('SNR_R1', ascending=False)\n",
    "                            .head(ncell_keep).cell_id.values\n",
    "                            )\n",
    "            df_svc = df_svc[df_svc.cell_id.isin(model_cell_id)]\n",
    "            assert set(df_svc.cell_id.unique()) == set(sorted(model_cell_id))\n",
    "            \n",
    "        if filter_cell == 'SNR_R1_mod':\n",
    "            df_SNR = calc_SNR(df_svc)\n",
    "            model_cell_id = (df_SNR.groupby('cell_id')\n",
    "                            .SNR_R1_mod.first().reset_index()\n",
    "                            .sort_values('SNR_R1_mod', ascending=False)\n",
    "                            .head(ncell_keep).cell_id.values\n",
    "                            )\n",
    "            df_svc = df_svc[df_svc.cell_id.isin(model_cell_id)]\n",
    "            assert set(df_svc.cell_id.unique()) == set(sorted(model_cell_id))\n",
    "            \n",
    "        # if filter_cell == 'gOSI':\n",
    "        #     df_gOSI_sess = df_gOSI[df_gOSI.date_sess == date_sess_now]\n",
    "        #     model_cell_id = (df_gOSI_sess.sort_values('gOSI_noad', ascending=False)\n",
    "        #                      .head(ncell_keep).cell_id.values\n",
    "        #                      )\n",
    "        #     df_svc = df_svc[df_svc.cell_id.isin(model_cell_id)]\n",
    "        \n",
    "    return df_svc\n",
    "\n",
    "\n",
    "def df_to_train_test(df, ref_ori_id=0, train_only=True, multiclass=False):\n",
    "    # input: filtered df_svc\n",
    "    # output: X_train, X_test, y_train, y_test (of the filter condition)\n",
    "        # X shape = ntrial x ncell, y shape = ntrial\n",
    "    # train_only: only get train data from df, no test. \n",
    "        # use only train-val split in cross val, not train-val-test split\n",
    "    # double checked 2023-10-17\n",
    "    \n",
    "    label_arr = df.groupby('trial_id').stim2_id.first().values\n",
    "    if multiclass == False:\n",
    "        label_arr = (label_arr == ref_ori_id) # True = ref ori, False = other ori\n",
    "    # else: multiclass label keeps stim2_id (0-7)\n",
    "    \n",
    "    feature_mat = (df\n",
    "                   .pivot_table(index=['trial_id'], # row = observation\n",
    "                                columns='cell_id', # col = feature\n",
    "                                values='dfof')\n",
    "                   .to_numpy())\n",
    "    \n",
    "    assert feature_mat.shape[0] == label_arr.shape[0]\n",
    "    \n",
    "    if train_only == False:\n",
    "        X_train, X_test, y_train, y_test = train_test_split(\n",
    "            feature_mat, label_arr, \n",
    "            test_size=0.2,\n",
    "            # test_size=int(1), # 1 trial for test\n",
    "            random_state=0, shuffle=True) \n",
    "    \n",
    "    if train_only == True:\n",
    "        X_train, y_train = feature_mat, label_arr\n",
    "        X_test, y_test = None, None\n",
    "    \n",
    "    return X_train, y_train, X_test, y_test"
   ]
  },
  {
   "cell_type": "markdown",
   "metadata": {},
   "source": [
    "# write df_tidy (don't rerun unless needed)\n",
    "modified to apply to grat 2ori 2isi, multisess"
   ]
  },
  {
   "cell_type": "code",
   "execution_count": 27,
   "metadata": {},
   "outputs": [
    {
     "data": {
      "text/html": [
       "<div>\n",
       "<style scoped>\n",
       "    .dataframe tbody tr th:only-of-type {\n",
       "        vertical-align: middle;\n",
       "    }\n",
       "\n",
       "    .dataframe tbody tr th {\n",
       "        vertical-align: top;\n",
       "    }\n",
       "\n",
       "    .dataframe thead th {\n",
       "        text-align: right;\n",
       "    }\n",
       "</style>\n",
       "<table border=\"1\" class=\"dataframe\">\n",
       "  <thead>\n",
       "    <tr style=\"text-align: right;\">\n",
       "      <th></th>\n",
       "      <th>mouse</th>\n",
       "      <th>date</th>\n",
       "      <th>area</th>\n",
       "      <th>depth</th>\n",
       "      <th>num</th>\n",
       "      <th>cellpose_seg</th>\n",
       "      <th>manual_seg</th>\n",
       "      <th>paradigm</th>\n",
       "      <th>gcamp</th>\n",
       "      <th>time</th>\n",
       "      <th>AWS</th>\n",
       "      <th>note</th>\n",
       "    </tr>\n",
       "  </thead>\n",
       "  <tbody>\n",
       "    <tr>\n",
       "      <th>0</th>\n",
       "      <td>1380</td>\n",
       "      <td>240206</td>\n",
       "      <td>V1</td>\n",
       "      <td>NaN</td>\n",
       "      <td>002</td>\n",
       "      <td>1.0</td>\n",
       "      <td>NaN</td>\n",
       "      <td>grating_2ori_multisess</td>\n",
       "      <td>6s</td>\n",
       "      <td>951.0</td>\n",
       "      <td>NaN</td>\n",
       "      <td>grating_2ori_multisess: ori = 22 or 0, isi = 6...</td>\n",
       "    </tr>\n",
       "    <tr>\n",
       "      <th>1</th>\n",
       "      <td>1380</td>\n",
       "      <td>240206</td>\n",
       "      <td>V1</td>\n",
       "      <td>NaN</td>\n",
       "      <td>003</td>\n",
       "      <td>1.0</td>\n",
       "      <td>NaN</td>\n",
       "      <td>grating_2ori_multisess</td>\n",
       "      <td>6s</td>\n",
       "      <td>1139.0</td>\n",
       "      <td>NaN</td>\n",
       "      <td>marked timestamp because lindsey use pdf not x...</td>\n",
       "    </tr>\n",
       "  </tbody>\n",
       "</table>\n",
       "</div>"
      ],
      "text/plain": [
       "   mouse    date area  depth  num  cellpose_seg manual_seg  \\\n",
       "0   1380  240206   V1    NaN  002           1.0        NaN   \n",
       "1   1380  240206   V1    NaN  003           1.0        NaN   \n",
       "\n",
       "                 paradigm gcamp    time  AWS  \\\n",
       "0  grating_2ori_multisess    6s   951.0  NaN   \n",
       "1  grating_2ori_multisess    6s  1139.0  NaN   \n",
       "\n",
       "                                                note  \n",
       "0  grating_2ori_multisess: ori = 22 or 0, isi = 6...  \n",
       "1  marked timestamp because lindsey use pdf not x...  "
      ]
     },
     "execution_count": 27,
     "metadata": {},
     "output_type": "execute_result"
    }
   ],
   "source": [
    "dir_repo = r'C:\\Users\\ll357\\Documents\\inter/'.replace('\\\\', '/')\n",
    "os.chdir(dir_repo)\n",
    "from src import adp\n",
    "\n",
    "dir_data = r'\\\\duhs-user-nc1.dhe.duke.edu\\dusom_glickfeldlab\\All_Staff\\home\\lan\\Data\\2P_images\\mat_inter/'.replace('\\\\', '/')\n",
    "dir_xls = os.path.join(dir_data, 'adp_dataset_master.xlsx')\n",
    "data_info = pd.read_excel(dir_xls)\n",
    "\n",
    "meta = data_info[(data_info.paradigm == 'grating_2ori_multisess') \n",
    "                #  & ((data_info.cellpose_seg == True) | (data_info.manual_seg == True)) # ensure segmentation\n",
    "                 ].reset_index(drop=True)\n",
    "nset = meta.shape[0]\n",
    "meta"
   ]
  },
  {
   "cell_type": "code",
   "execution_count": 30,
   "metadata": {},
   "outputs": [
    {
     "name": "stdout",
     "output_type": "stream",
     "text": [
      "//duhs-user-nc1.dhe.duke.edu/dusom_glickfeldlab/All_Staff/home/lan/Data/2P_images/mat_inter/V1_i1380_240206_cellpose\n",
      "ncell: 126, nstim: 2, ntrial: 1556\n",
      "{0.0: 0, 157.5: 1}\n"
     ]
    }
   ],
   "source": [
    "# iset = 1 # multisess, only 1 dataset\n",
    "\n",
    "# ## load data\n",
    "# mouse = meta.loc[iset, 'mouse'].astype(str)\n",
    "# imouse = 'i' + mouse\n",
    "# date = meta.loc[iset, 'date'].astype(str)\n",
    "# area = meta.loc[iset, 'area']\n",
    "# # sess = meta.loc[iset, 'num']\n",
    "# # print(mouse, date, area, sess)\n",
    "# dir_identifier = f'{area}_{imouse}_{date}_cellpose' # multisess. TODO: fix hard code\n",
    "# # dir_identifier = f'{area}_{imouse}_{date}_{sess}_cellpose'# single sess\n",
    "\n",
    "# mat_inter = r'\\\\duhs-user-nc1.dhe.duke.edu\\dusom_glickfeldlab\\All_Staff\\home\\lan\\Data\\2P_images\\mat_inter/'.replace('\\\\', '/')\n",
    "# for dirname in os.listdir(mat_inter):\n",
    "#     if dir_identifier in dirname:\n",
    "#         dir_data = mat_inter + dirname\n",
    "#         break\n",
    "# print(dir_data)\n",
    "\n",
    "# stim_id, resp_ad, resp_tg = adp.load_resp_trial(os.path.join(dir_data), vis_filter=False) # already sliced by resp time window from matlab. only differentiating isi in resp_tg by indexing into trial. match isi_nframe\n",
    "# ## NOTE: stim_id contains the final trial, which should be cut off due to incomplete trial, to match trace_by_trial\n",
    "\n",
    "\n",
    "# ## construct dfof\n",
    "# R1_dfof = resp_ad.flatten() # cell x trial, row major flatten\n",
    "# R2_dfof = resp_tg.flatten()\n",
    "# dfof = np.hstack((R1_dfof, R2_dfof)) # sort by cell_id, then trial_id, finally resp_id\n",
    "\n",
    "\n",
    "# ## construct cell, trial, resp id\n",
    "# ncell = resp_ad.shape[0]\n",
    "# ntrial = resp_ad.shape[1]\n",
    "# cell_id = np.repeat(np.arange(ncell), ntrial) # repeat cell id arr for ntrial times == sort by cell_id, then trial_id\n",
    "# cell_id = np.hstack((cell_id, cell_id)) # stack two copies for R1 and R2. finally sort by resp_id\n",
    "\n",
    "# trial_id = np.tile(np.arange(ntrial), ncell) # for each cell, go over all trials\n",
    "# trial_id = np.hstack((trial_id, trial_id))\n",
    "\n",
    "# len_df = ncell * ntrial * 2 # 2 for (R1, R2)\n",
    "# resp_id = ['R1'] * int(len_df/2) + ['R2'] * int(len_df/2) # first half is flattened resp_ad, second half is flattened resp_tg\n",
    "\n",
    "\n",
    "# ## construct stim info col: stim 2 orientation, stim 1 orien, isi, adapter contrast\n",
    "# trial_stim_orien = stim_id['stim_ori'][0]\n",
    "# # trial_stim_orien = [item[0] for item in stim_id['stim_ori']] # print(np.sort(np.unique(trial_stim_orien)))\n",
    "# trial_stim_orien_dict = {} ## map stim2 orientation to int. convert from grat ori in deg to 0-based indexing (ensured)\n",
    "# for i, item in enumerate(np.sort(np.unique(trial_stim_orien))):\n",
    "#     trial_stim_orien_dict[item] = i\n",
    "# trial_stim_orien_int = [trial_stim_orien_dict[item] for item in trial_stim_orien]\n",
    "# print(trial_stim_orien_dict)\n",
    "\n",
    "# trial_isi_nframe = stim_id['isi_nframe'][0]\n",
    "# # trial_isi_nframe = [item[0] for item in stim_id['isi_nframe']]\n",
    "# trial_adapter_contrast = stim_id['adapter_contrast'][0]\n",
    "# # trial_adapter_contrast = [item[0] for item in stim_id['adapter_contrast']]\n",
    "\n",
    "# trial_stim_orien_int = trial_stim_orien_int[:ntrial] # if any stim info longer than ntrial, slice off the last one\n",
    "# trial_isi_nframe = trial_isi_nframe[:ntrial]\n",
    "# trial_adapter_contrast = trial_adapter_contrast[:ntrial]\n",
    "\n",
    "\n",
    "# ## make stim info col: same as trial_id - tile then hstack\n",
    "# stim_id_col = np.tile(trial_stim_orien_int, ncell)\n",
    "# isi_col = np.tile(trial_isi_nframe, ncell)\n",
    "# ad_con_col = np.tile(trial_adapter_contrast, ncell)\n",
    "\n",
    "# stim_id_col = np.hstack((stim_id_col, stim_id_col)) # stim2 orientation\n",
    "# isi_col = np.hstack((isi_col, isi_col))\n",
    "# ad_con_col = np.hstack((ad_con_col, ad_con_col))\n",
    "\n",
    "\n",
    "# df_tidy = pd.DataFrame({'dfof': dfof, 'cell_id': cell_id, 'trial_id': trial_id, 'resp_id': resp_id, \n",
    "#                         'isi': isi_col, 'stim1_contrast': ad_con_col, \n",
    "#                         'stim2_id': stim_id_col,})\n",
    "# df_tidy['area'] = area\n",
    "# df_tidy['stim1_id'] = 0 # adapter (stim1) is always 0 deg / vertical gratings\n",
    "# df_tidy.loc[(df_tidy.stim1_contrast == 0) & (df_tidy.resp_id == 'R1'), 'dfof'] = np.nan # set R1 to nan if no adapter (stim1_contrast == 0)\n",
    "# df_tidy = df_tidy.dropna().reset_index(drop=True) # drop nan rows\n",
    "\n",
    "# df_tidy['isi'] = df_tidy['isi'].apply(lambda x: 250 if x <= 10 else 750) # convert isi_nframe to ms. 250 ms is about 8 frames, 750 ms is about 22-23 frames\n",
    "# df_tidy.loc[df_tidy.stim1_contrast == 0, 'isi'] = 6000 # set ISI to 6000 ms (equal to ITI) if no adapter (stim1_contrast == 0)\n",
    "\n",
    "\n",
    "# ## vis cell filter, well_fit filter, & img driven cell-stim filter\n",
    "# df_tidy['filter_cell_vis'] = np.nan\n",
    "# df_tidy['filter_cell_vis_pval'] = np.nan # allow continuous filtering on how significant the cell gets visually driven\n",
    "# # df_tidy['filter_cell_well_fit'] = np.nan\n",
    "# df_tidy['filter_cell_stim'] = np.nan\n",
    "\n",
    "# with open(os.path.join(dir_data, 'vis_driven_ttest_bonferroni.pickle'), 'rb') as f:\n",
    "#     filter_file = pickle.load(f)\n",
    "# filter_cell_stim = filter_file['img_driven']\n",
    "# filter_cell_vis = filter_file['vis_driven']\n",
    "# filter_cell_vis_pval = np.min(filter_file['p_ttest'], axis=1) # min pval across all stim\n",
    "    \n",
    "# # well_fit = sio.loadmat(os.path.join(dir_data, 'fit_bootstrap_90perc.mat'))\n",
    "# # well_fit_cell = np.array([x[0] for x in well_fit['well_fit_cell']])\n",
    "\n",
    "# for icell in np.arange(filter_cell_stim.shape[0]): # filter_cell_stim is ncell x nstim\n",
    "#     df_tidy.loc[df_tidy['cell_id']==icell, 'filter_cell_vis'] = filter_cell_vis[icell]\n",
    "#     df_tidy.loc[df_tidy['cell_id']==icell, 'filter_cell_vis_pval'] = filter_cell_vis_pval[icell]\n",
    "#     # df_tidy.loc[df_tidy['cell_id']==icell, 'filter_cell_well_fit'] = well_fit_cell[icell]\n",
    "#     for istim in np.arange(filter_cell_stim.shape[1]):\n",
    "#         df_tidy.loc[(df_tidy['stim2_id']==istim) & (df_tidy['cell_id']==icell), 'filter_cell_stim'] = filter_cell_stim[icell, istim]\n",
    "\n",
    "# ## save df_tidy as csv\n",
    "# df_tidy.to_csv(os.path.join(dir_data, 'df_tidy_continuous_vis_pval.csv'), index=False)"
   ]
  },
  {
   "attachments": {},
   "cell_type": "markdown",
   "metadata": {},
   "source": [
    "# load df_tidy"
   ]
  },
  {
   "cell_type": "code",
   "execution_count": 33,
   "metadata": {},
   "outputs": [
    {
     "data": {
      "text/html": [
       "<div>\n",
       "<style scoped>\n",
       "    .dataframe tbody tr th:only-of-type {\n",
       "        vertical-align: middle;\n",
       "    }\n",
       "\n",
       "    .dataframe tbody tr th {\n",
       "        vertical-align: top;\n",
       "    }\n",
       "\n",
       "    .dataframe thead th {\n",
       "        text-align: right;\n",
       "    }\n",
       "</style>\n",
       "<table border=\"1\" class=\"dataframe\">\n",
       "  <thead>\n",
       "    <tr style=\"text-align: right;\">\n",
       "      <th></th>\n",
       "      <th>mouse</th>\n",
       "      <th>date</th>\n",
       "      <th>area</th>\n",
       "      <th>depth</th>\n",
       "      <th>num</th>\n",
       "      <th>cellpose_seg</th>\n",
       "      <th>manual_seg</th>\n",
       "      <th>paradigm</th>\n",
       "      <th>gcamp</th>\n",
       "      <th>time</th>\n",
       "      <th>AWS</th>\n",
       "      <th>note</th>\n",
       "    </tr>\n",
       "  </thead>\n",
       "  <tbody>\n",
       "    <tr>\n",
       "      <th>0</th>\n",
       "      <td>1380</td>\n",
       "      <td>240206</td>\n",
       "      <td>V1</td>\n",
       "      <td>NaN</td>\n",
       "      <td>002</td>\n",
       "      <td>1.0</td>\n",
       "      <td>NaN</td>\n",
       "      <td>grating_2ori_multisess</td>\n",
       "      <td>6s</td>\n",
       "      <td>951.0</td>\n",
       "      <td>NaN</td>\n",
       "      <td>grating_2ori_multisess: ori = 22 or 0, isi = 6...</td>\n",
       "    </tr>\n",
       "    <tr>\n",
       "      <th>1</th>\n",
       "      <td>1380</td>\n",
       "      <td>240206</td>\n",
       "      <td>V1</td>\n",
       "      <td>NaN</td>\n",
       "      <td>003</td>\n",
       "      <td>1.0</td>\n",
       "      <td>NaN</td>\n",
       "      <td>grating_2ori_multisess</td>\n",
       "      <td>6s</td>\n",
       "      <td>1139.0</td>\n",
       "      <td>NaN</td>\n",
       "      <td>marked timestamp because lindsey use pdf not x...</td>\n",
       "    </tr>\n",
       "  </tbody>\n",
       "</table>\n",
       "</div>"
      ],
      "text/plain": [
       "   mouse    date area  depth  num  cellpose_seg manual_seg  \\\n",
       "0   1380  240206   V1    NaN  002           1.0        NaN   \n",
       "1   1380  240206   V1    NaN  003           1.0        NaN   \n",
       "\n",
       "                 paradigm gcamp    time  AWS  \\\n",
       "0  grating_2ori_multisess    6s   951.0  NaN   \n",
       "1  grating_2ori_multisess    6s  1139.0  NaN   \n",
       "\n",
       "                                                note  \n",
       "0  grating_2ori_multisess: ori = 22 or 0, isi = 6...  \n",
       "1  marked timestamp because lindsey use pdf not x...  "
      ]
     },
     "execution_count": 33,
     "metadata": {},
     "output_type": "execute_result"
    }
   ],
   "source": [
    "dir_data = r'\\\\duhs-user-nc1.dhe.duke.edu\\dusom_glickfeldlab\\All_Staff\\home\\lan\\Data\\2P_images\\mat_inter/'.replace('\\\\', '/')\n",
    "dir_xls = os.path.join(dir_data, 'adp_dataset_master.xlsx')\n",
    "data_info = pd.read_excel(dir_xls)\n",
    "meta = data_info[(data_info.paradigm == 'grating_2ori_multisess') \n",
    "                 & ((data_info.cellpose_seg == True) | (data_info.manual_seg == True))].reset_index(drop=True)\n",
    "nset = meta.shape[0]\n",
    "meta"
   ]
  },
  {
   "cell_type": "code",
   "execution_count": 36,
   "metadata": {},
   "outputs": [],
   "source": [
    "nset = len(meta)\n",
    "df_tidy = pd.DataFrame()\n",
    "\n",
    "# for iset in tqdm(range(nset)):\n",
    "    # print(f'iset={iset}, nset={nset}')\n",
    "\n",
    "iset = 1 # multisess, only 1 dataset\n",
    "mouse = meta.loc[iset, 'mouse'].astype(str)\n",
    "imouse = 'i' + mouse\n",
    "date = meta.loc[iset, 'date'].astype(str)\n",
    "area = meta.loc[iset, 'area']\n",
    "sess = meta.loc[iset, 'num']\n",
    "# dir_identifier = f'{area}_{imouse}_{date}_{sess}'\n",
    "dir_identifier = f'{area}_{imouse}_{date}'\n",
    "\n",
    "dir_data = r'\\\\duhs-user-nc1.dhe.duke.edu\\dusom_glickfeldlab\\All_Staff\\home\\lan\\Data\\2P_images\\mat_inter/'.replace('\\\\', '/')\n",
    "csv_filename = 'df_tidy_continuous_vis_pval.csv'\n",
    "try:\n",
    "    df_tidy_now = pd.read_csv(os.path.join(dir_data, dir_identifier, csv_filename))\n",
    "except:\n",
    "    dir_identifier = dir_identifier + '_cellpose'\n",
    "    df_tidy_now = pd.read_csv(os.path.join(dir_data, dir_identifier, csv_filename))\n",
    "\n",
    "df_tidy_now['mouse'] = mouse\n",
    "df_tidy_now['date'] = date\n",
    "df_tidy_now['sess'] = sess\n",
    "df_tidy_now['cell_id'] = (df_tidy_now.date.astype(str) + '_' \n",
    "                            + df_tidy_now.sess.astype(str) + '_' \n",
    "                            + df_tidy_now.cell_id.astype(str)) # cell_id adjusted to be unique across mice, dates, sessions\n",
    "df_tidy = pd.concat([df_tidy, df_tidy_now], axis=0).reset_index(drop=True)\n",
    "    \n",
    "# clear_output()"
   ]
  },
  {
   "cell_type": "code",
   "execution_count": 41,
   "metadata": {},
   "outputs": [],
   "source": [
    "## for now, well-fit = NaN. TODO: add well max col\n",
    "df_tidy['filter_cell_well_fit'] = np.nan"
   ]
  },
  {
   "cell_type": "code",
   "execution_count": 39,
   "metadata": {},
   "outputs": [
    {
     "data": {
      "text/html": [
       "<div>\n",
       "<style scoped>\n",
       "    .dataframe tbody tr th:only-of-type {\n",
       "        vertical-align: middle;\n",
       "    }\n",
       "\n",
       "    .dataframe tbody tr th {\n",
       "        vertical-align: top;\n",
       "    }\n",
       "\n",
       "    .dataframe thead th {\n",
       "        text-align: right;\n",
       "    }\n",
       "</style>\n",
       "<table border=\"1\" class=\"dataframe\">\n",
       "  <thead>\n",
       "    <tr style=\"text-align: right;\">\n",
       "      <th></th>\n",
       "      <th>stim2_id</th>\n",
       "      <th>stim2_dist_id</th>\n",
       "    </tr>\n",
       "  </thead>\n",
       "  <tbody>\n",
       "    <tr>\n",
       "      <th>2</th>\n",
       "      <td>0</td>\n",
       "      <td>0</td>\n",
       "    </tr>\n",
       "    <tr>\n",
       "      <th>0</th>\n",
       "      <td>1</td>\n",
       "      <td>1</td>\n",
       "    </tr>\n",
       "  </tbody>\n",
       "</table>\n",
       "</div>"
      ],
      "text/plain": [
       "   stim2_id  stim2_dist_id\n",
       "2         0              0\n",
       "0         1              1"
      ]
     },
     "execution_count": 39,
     "metadata": {},
     "output_type": "execute_result"
    }
   ],
   "source": [
    "## pair up stim2_id who have the same stim2_dist from adapter (0 deg)\n",
    "## also works for pairing up those with same distance from ref=90 deg\n",
    "stim2_dict = {0:0, 1:1, 2:2, 3:3, 4:4, 5:3, 6:2, 7:1}\n",
    "df_tidy['stim2_dist_id'] = df_tidy.stim2_id.apply(lambda x: stim2_dict[x])\n",
    "df_tidy[['stim2_id', 'stim2_dist_id']].drop_duplicates().sort_values(by='stim2_id')"
   ]
  },
  {
   "cell_type": "markdown",
   "metadata": {},
   "source": [
    "## feature engineering (depre)\n",
    "use PCA to reduce dimension"
   ]
  },
  {
   "cell_type": "code",
   "execution_count": 189,
   "metadata": {},
   "outputs": [
    {
     "data": {
      "text/plain": [
       "90"
      ]
     },
     "execution_count": 189,
     "metadata": {},
     "output_type": "execute_result"
    }
   ],
   "source": [
    "ncell_keep = 999\n",
    "iarea = 'V1'\n",
    "idatesess = 1 # Li, sess=9: not enough cells\n",
    "\n",
    "filter_cell = 'vis_pval'\n",
    "# filter_cell = 'SNR'\n",
    "# filter_cell = 'SNR_R1_mod'\n",
    "# filter_cell = 'well_fit'\n",
    "# filter_cell = 'gOSI'\n",
    "\n",
    "df_svc = get_df_svc(df_tidy, iarea=iarea, idatesess=idatesess, \n",
    "                    ncell_keep=ncell_keep, \n",
    "                    filter_cell=filter_cell)\n",
    "\n",
    "df_svc.cell_id.nunique()"
   ]
  },
  {
   "cell_type": "code",
   "execution_count": 194,
   "metadata": {},
   "outputs": [
    {
     "name": "stdout",
     "output_type": "stream",
     "text": [
      "Explained variation per principal component: [0.14255453 0.06377805 0.0532789 ]\n",
      "Explained variation per principal component: [0.10620993 0.05624148 0.05090528]\n"
     ]
    },
    {
     "data": {
      "image/png": "[encoded data removed]",
      "text/plain": [
       "<Figure size 1000x500 with 2 Axes>"
      ]
     },
     "metadata": {},
     "output_type": "display_data"
    }
   ],
   "source": [
    "def prep_dimred(df_svc, isi_now=250):\n",
    "    # input: df_svc, isi_now (250, 750, 6000)\n",
    "    # output: features_normed (feature mat, standard scaled), stim2_id_arr (label across trials)\n",
    "    df_pca = df_svc[df_svc.isi == isi_now].pivot_table(index=['trial_id'], columns='cell_id', values='dfof')\n",
    "    stim2_id_arr = df_svc[df_svc.isi == isi_now].groupby('trial_id').stim2_id.first().values\n",
    "    features = df_pca.values\n",
    "    features_normed = StandardScaler().fit_transform(features) # normalize features before PCA\n",
    "    return features_normed, stim2_id_arr\n",
    "\n",
    "\n",
    "\n",
    "fig, ax = plt.subplots(1, 2, figsize=(10,5))\n",
    "\n",
    "isi_now = 6000\n",
    "features_normed, stim2_id_arr = prep_dimred(df_svc, isi_now=isi_now)\n",
    "stim2_id_unique = np.unique(stim2_id_arr)\n",
    "\n",
    "pca = PCA(n_components=3)\n",
    "pc = pca.fit_transform(features_normed)\n",
    "print('Explained variation per principal component: {}'.format(pca.explained_variance_ratio_))\n",
    "df_pc = pd.DataFrame(data=pc, columns=['principal component 1', \n",
    "                                       'principal component 2', \n",
    "                                       'principal component 3'\n",
    "                                    ])\n",
    "\n",
    "for stim2_id in list(stim2_id_unique):\n",
    "    trial_id_now = (stim2_id_arr == stim2_id)\n",
    "    ax[0].scatter(df_pc.loc[trial_id_now, 'principal component 1'], \n",
    "                df_pc.loc[trial_id_now, 'principal component 2'], \n",
    "                s=20, alpha=0.7)\n",
    "ax[0].set_title(f'{iarea} isi={isi_now}', fontsize=20);\n",
    "\n",
    "\n",
    "    \n",
    "isi_now = 250\n",
    "features_normed, stim2_id_arr = prep_dimred(df_svc, isi_now=isi_now)\n",
    "stim2_id_unique = np.unique(stim2_id_arr)\n",
    "\n",
    "pca = PCA(n_components=3)\n",
    "pc = pca.fit_transform(features_normed)\n",
    "print('Explained variation per principal component: {}'.format(pca.explained_variance_ratio_))\n",
    "df_pc = pd.DataFrame(data=pc, columns=['principal component 1', \n",
    "                                       'principal component 2', \n",
    "                                       'principal component 3'\n",
    "                                    ])\n",
    "\n",
    "for stim2_id in list(stim2_id_unique):\n",
    "    trial_id_now = (stim2_id_arr == stim2_id)\n",
    "    ax[1].scatter(df_pc.loc[trial_id_now, 'principal component 1'], \n",
    "                df_pc.loc[trial_id_now, 'principal component 2'], \n",
    "                s=20, alpha=0.7)\n",
    "ax[1].set_title(f'{iarea} isi={isi_now}', fontsize=20);\n",
    "\n",
    "# plt.legend(list(stim2_id_unique), prop={'size': 15}, bbox_to_anchor=(1.3, 1), loc='upper right');\n",
    "# plt.xlabel('Principal Component 1', fontsize=20)\n",
    "# plt.ylabel('Principal Component 2', fontsize=20)"
   ]
  },
  {
   "cell_type": "code",
   "execution_count": 193,
   "metadata": {},
   "outputs": [
    {
     "data": {
      "image/png": "[encoded data removed]",
      "text/plain": [
       "<Figure size 1000x500 with 2 Axes>"
      ]
     },
     "metadata": {},
     "output_type": "display_data"
    }
   ],
   "source": [
    "fig, ax = plt.subplots(1, 2, figsize=(10,5))\n",
    "\n",
    "isi_now = 6000\n",
    "features_normed, stim2_id_arr = prep_dimred(df_svc, isi_now=isi_now)\n",
    "stim2_id_unique = np.unique(stim2_id_arr)\n",
    "\n",
    "reducer = umap.UMAP()\n",
    "embedding = reducer.fit_transform(features_normed)\n",
    "\n",
    "ax[0].scatter(\n",
    "    embedding[:, 0],\n",
    "    embedding[:, 1],\n",
    "    c=[sns.color_palette()[stim2_id] for stim2_id in stim2_id_arr]\n",
    "    )\n",
    "# plt.gca().set_aspect('equal', 'datalim')\n",
    "# plt.title(f'{iarea} isi={isi_now}', fontsize=20);\n",
    "ax[0].set_title(f'{iarea} isi={isi_now}', fontsize=20);\n",
    "\n",
    "\n",
    "    \n",
    "isi_now = 250\n",
    "features_normed, stim2_id_arr = prep_dimred(df_svc, isi_now=isi_now)\n",
    "stim2_id_unique = np.unique(stim2_id_arr)\n",
    "\n",
    "reducer = umap.UMAP()\n",
    "embedding = reducer.fit_transform(features_normed)\n",
    "\n",
    "ax[1].scatter(\n",
    "    embedding[:, 0],\n",
    "    embedding[:, 1],\n",
    "    c=[sns.color_palette()[stim2_id] for stim2_id in stim2_id_arr]\n",
    "    )\n",
    "ax[1].set_title(f'{iarea} isi={isi_now}', fontsize=20);\n",
    "\n",
    "# plt.legend(list(stim2_id_unique), prop={'size': 15}, bbox_to_anchor=(1.3, 1), loc='upper right');\n",
    "# plt.xlabel('Principal Component 1', fontsize=20)\n",
    "# plt.ylabel('Principal Component 2', fontsize=20)"
   ]
  },
  {
   "attachments": {},
   "cell_type": "markdown",
   "metadata": {},
   "source": [
    "## feature selection\n",
    "reduce ncell in model to prevent overfit"
   ]
  },
  {
   "attachments": {},
   "cell_type": "markdown",
   "metadata": {},
   "source": [
    "### filter cell gOSI (deprecated, no rerun)\n",
    "calculate global orientation selectivity index (gOSI)  \n",
    "formula taken from [Causal importance of orientation selectivity for generalization in image recognition](https://openreview.net/pdf?id=Bkx_Dj09tQ)"
   ]
  },
  {
   "cell_type": "code",
   "execution_count": 88,
   "metadata": {},
   "outputs": [
    {
     "name": "stderr",
     "output_type": "stream",
     "text": [
      "100%|██████████| 1654/1654 [17:19<00:00,  1.59it/s]\n"
     ]
    },
    {
     "data": {
      "text/html": [
       "<div>\n",
       "<style scoped>\n",
       "    .dataframe tbody tr th:only-of-type {\n",
       "        vertical-align: middle;\n",
       "    }\n",
       "\n",
       "    .dataframe tbody tr th {\n",
       "        vertical-align: top;\n",
       "    }\n",
       "\n",
       "    .dataframe thead th {\n",
       "        text-align: right;\n",
       "    }\n",
       "</style>\n",
       "<table border=\"1\" class=\"dataframe\">\n",
       "  <thead>\n",
       "    <tr style=\"text-align: right;\">\n",
       "      <th></th>\n",
       "      <th>dfof</th>\n",
       "      <th>cell_id</th>\n",
       "      <th>resp_id</th>\n",
       "      <th>isi</th>\n",
       "      <th>stim2_id</th>\n",
       "      <th>area</th>\n",
       "      <th>filter_cell_vis</th>\n",
       "      <th>tuning_noad</th>\n",
       "      <th>tuning_250</th>\n",
       "    </tr>\n",
       "  </thead>\n",
       "  <tbody>\n",
       "    <tr>\n",
       "      <th>2379998</th>\n",
       "      <td>-0.025242</td>\n",
       "      <td>230309_002_79</td>\n",
       "      <td>R2</td>\n",
       "      <td>6000</td>\n",
       "      <td>3</td>\n",
       "      <td>LI</td>\n",
       "      <td>True</td>\n",
       "      <td>[0.027171706755775783, 0.09794865820137698, 0....</td>\n",
       "      <td>[-0.008992726503453645, 0.003331566276028924, ...</td>\n",
       "    </tr>\n",
       "    <tr>\n",
       "      <th>2379999</th>\n",
       "      <td>0.081034</td>\n",
       "      <td>230309_002_79</td>\n",
       "      <td>R2</td>\n",
       "      <td>6000</td>\n",
       "      <td>2</td>\n",
       "      <td>LI</td>\n",
       "      <td>True</td>\n",
       "      <td>[0.027171706755775783, 0.09794865820137698, 0....</td>\n",
       "      <td>[-0.008992726503453645, 0.003331566276028924, ...</td>\n",
       "    </tr>\n",
       "    <tr>\n",
       "      <th>2380001</th>\n",
       "      <td>0.108352</td>\n",
       "      <td>230309_002_79</td>\n",
       "      <td>R2</td>\n",
       "      <td>6000</td>\n",
       "      <td>0</td>\n",
       "      <td>LI</td>\n",
       "      <td>True</td>\n",
       "      <td>[0.027171706755775783, 0.09794865820137698, 0....</td>\n",
       "      <td>[-0.008992726503453645, 0.003331566276028924, ...</td>\n",
       "    </tr>\n",
       "    <tr>\n",
       "      <th>2380002</th>\n",
       "      <td>0.269638</td>\n",
       "      <td>230309_002_79</td>\n",
       "      <td>R2</td>\n",
       "      <td>250</td>\n",
       "      <td>4</td>\n",
       "      <td>LI</td>\n",
       "      <td>True</td>\n",
       "      <td>[0.027171706755775783, 0.09794865820137698, 0....</td>\n",
       "      <td>[-0.008992726503453645, 0.003331566276028924, ...</td>\n",
       "    </tr>\n",
       "    <tr>\n",
       "      <th>2380003</th>\n",
       "      <td>0.345687</td>\n",
       "      <td>230309_002_79</td>\n",
       "      <td>R2</td>\n",
       "      <td>6000</td>\n",
       "      <td>2</td>\n",
       "      <td>LI</td>\n",
       "      <td>True</td>\n",
       "      <td>[0.027171706755775783, 0.09794865820137698, 0....</td>\n",
       "      <td>[-0.008992726503453645, 0.003331566276028924, ...</td>\n",
       "    </tr>\n",
       "  </tbody>\n",
       "</table>\n",
       "</div>"
      ],
      "text/plain": [
       "             dfof        cell_id resp_id   isi  stim2_id area  \\\n",
       "2379998 -0.025242  230309_002_79      R2  6000         3   LI   \n",
       "2379999  0.081034  230309_002_79      R2  6000         2   LI   \n",
       "2380001  0.108352  230309_002_79      R2  6000         0   LI   \n",
       "2380002  0.269638  230309_002_79      R2   250         4   LI   \n",
       "2380003  0.345687  230309_002_79      R2  6000         2   LI   \n",
       "\n",
       "         filter_cell_vis                                        tuning_noad  \\\n",
       "2379998             True  [0.027171706755775783, 0.09794865820137698, 0....   \n",
       "2379999             True  [0.027171706755775783, 0.09794865820137698, 0....   \n",
       "2380001             True  [0.027171706755775783, 0.09794865820137698, 0....   \n",
       "2380002             True  [0.027171706755775783, 0.09794865820137698, 0....   \n",
       "2380003             True  [0.027171706755775783, 0.09794865820137698, 0....   \n",
       "\n",
       "                                                tuning_250  \n",
       "2379998  [-0.008992726503453645, 0.003331566276028924, ...  \n",
       "2379999  [-0.008992726503453645, 0.003331566276028924, ...  \n",
       "2380001  [-0.008992726503453645, 0.003331566276028924, ...  \n",
       "2380002  [-0.008992726503453645, 0.003331566276028924, ...  \n",
       "2380003  [-0.008992726503453645, 0.003331566276028924, ...  "
      ]
     },
     "execution_count": 88,
     "metadata": {},
     "output_type": "execute_result"
    }
   ],
   "source": [
    "## df for tuning curve\n",
    "df_tuning = df_tidy[['dfof', 'cell_id', 'resp_id', 'isi', 'stim2_id', \n",
    "                    'area', 'filter_cell_vis'\n",
    "                    ]]\n",
    "df_tuning = df_tuning[(df_tuning.isi > -1) # placeholder, always true\n",
    "                    & (df_tuning.filter_cell_vis == True)\n",
    "                    & ((df_tuning.isi == 250) | (df_tuning.isi == 6000))\n",
    "                    ]\n",
    "                    \n",
    "df_tuning['tuning_noad'] = np.pi\n",
    "df_tuning['tuning_250'] = np.pi\n",
    "\n",
    "for icell in tqdm(df_tuning.cell_id.unique()):\n",
    "    ## tuning curve when no adapter\n",
    "    tuning_noad = (df_tuning.loc[(df_tuning.cell_id == icell) \n",
    "                                & (df_tuning.isi == 6000) # take R2 of no adapter trials\n",
    "                                & (df_tuning.resp_id == 'R2'), :]\n",
    "                   .groupby(['stim2_id'], sort=True) # sorted by key aka stim2_id\n",
    "                   .dfof.agg(np.nanmean).values\n",
    "                   )\n",
    "    df_tuning.loc[(df_tuning.cell_id == icell), 'tuning_noad'] = (df_tuning\n",
    "                                                                  .loc[(df_tuning.cell_id == icell), 'tuning_noad']\n",
    "                                                                  .apply(lambda x: tuning_noad))\n",
    "    \n",
    "    ## tuning curve when there is adapter\n",
    "    tuning_250 = (df_tuning.loc[(df_tuning.cell_id == icell) \n",
    "                                & (df_tuning.isi == 250) \n",
    "                                & (df_tuning.resp_id == 'R2'), :]\n",
    "                  .groupby(['stim2_id'], sort=True)\n",
    "                  .dfof.agg(np.nanmean).values\n",
    "                  )\n",
    "    df_tuning.loc[(df_tuning.cell_id == icell), 'tuning_250'] = (df_tuning\n",
    "                                                                 .loc[(df_tuning.cell_id == icell), 'tuning_250']\n",
    "                                                                 .apply(lambda x: tuning_250))\n",
    "    # break\n",
    "\n",
    "df_tuning.tail(5)"
   ]
  },
  {
   "cell_type": "code",
   "execution_count": 89,
   "metadata": {},
   "outputs": [
    {
     "name": "stderr",
     "output_type": "stream",
     "text": [
      "100%|██████████| 1654/1654 [06:46<00:00,  4.07it/s]\n",
      "C:\\Users\\lan\\AppData\\Local\\Temp\\6\\ipykernel_44780\\3524770447.py:18: FutureWarning: Indexing with multiple keys (implicitly converted to a tuple of keys) will be deprecated, use a list instead.\n",
      "  df_tuning.groupby('cell_id', sort=False)['area', 'gOSI_noad', 'gOSI_250'].first()\n"
     ]
    },
    {
     "data": {
      "text/html": [
       "<div>\n",
       "<style scoped>\n",
       "    .dataframe tbody tr th:only-of-type {\n",
       "        vertical-align: middle;\n",
       "    }\n",
       "\n",
       "    .dataframe tbody tr th {\n",
       "        vertical-align: top;\n",
       "    }\n",
       "\n",
       "    .dataframe thead th {\n",
       "        text-align: right;\n",
       "    }\n",
       "</style>\n",
       "<table border=\"1\" class=\"dataframe\">\n",
       "  <thead>\n",
       "    <tr style=\"text-align: right;\">\n",
       "      <th></th>\n",
       "      <th>area</th>\n",
       "      <th>gOSI_noad</th>\n",
       "      <th>gOSI_250</th>\n",
       "    </tr>\n",
       "    <tr>\n",
       "      <th>cell_id</th>\n",
       "      <th></th>\n",
       "      <th></th>\n",
       "      <th></th>\n",
       "    </tr>\n",
       "  </thead>\n",
       "  <tbody>\n",
       "    <tr>\n",
       "      <th>201209_002_88</th>\n",
       "      <td>V1</td>\n",
       "      <td>0.876308</td>\n",
       "      <td>0.682645</td>\n",
       "    </tr>\n",
       "    <tr>\n",
       "      <th>200728_003_33</th>\n",
       "      <td>V1</td>\n",
       "      <td>0.866154</td>\n",
       "      <td>0.729479</td>\n",
       "    </tr>\n",
       "    <tr>\n",
       "      <th>201015_004_15</th>\n",
       "      <td>V1</td>\n",
       "      <td>0.849340</td>\n",
       "      <td>0.496406</td>\n",
       "    </tr>\n",
       "    <tr>\n",
       "      <th>201015_004_12</th>\n",
       "      <td>V1</td>\n",
       "      <td>0.846736</td>\n",
       "      <td>0.789616</td>\n",
       "    </tr>\n",
       "    <tr>\n",
       "      <th>220228_002_16</th>\n",
       "      <td>LM</td>\n",
       "      <td>0.845744</td>\n",
       "      <td>0.809035</td>\n",
       "    </tr>\n",
       "    <tr>\n",
       "      <th>...</th>\n",
       "      <td>...</td>\n",
       "      <td>...</td>\n",
       "      <td>...</td>\n",
       "    </tr>\n",
       "    <tr>\n",
       "      <th>200728_003_72</th>\n",
       "      <td>V1</td>\n",
       "      <td>0.017878</td>\n",
       "      <td>0.317335</td>\n",
       "    </tr>\n",
       "    <tr>\n",
       "      <th>200804_003_68</th>\n",
       "      <td>LM</td>\n",
       "      <td>0.015051</td>\n",
       "      <td>0.136653</td>\n",
       "    </tr>\n",
       "    <tr>\n",
       "      <th>230302_003_136</th>\n",
       "      <td>LM</td>\n",
       "      <td>0.014923</td>\n",
       "      <td>0.443175</td>\n",
       "    </tr>\n",
       "    <tr>\n",
       "      <th>210120_003_34</th>\n",
       "      <td>V1</td>\n",
       "      <td>0.011596</td>\n",
       "      <td>0.026943</td>\n",
       "    </tr>\n",
       "    <tr>\n",
       "      <th>200806_003_45</th>\n",
       "      <td>LI</td>\n",
       "      <td>0.010661</td>\n",
       "      <td>0.140247</td>\n",
       "    </tr>\n",
       "  </tbody>\n",
       "</table>\n",
       "<p>1654 rows × 3 columns</p>\n",
       "</div>"
      ],
      "text/plain": [
       "               area  gOSI_noad  gOSI_250\n",
       "cell_id                                 \n",
       "201209_002_88    V1   0.876308  0.682645\n",
       "200728_003_33    V1   0.866154  0.729479\n",
       "201015_004_15    V1   0.849340  0.496406\n",
       "201015_004_12    V1   0.846736  0.789616\n",
       "220228_002_16    LM   0.845744  0.809035\n",
       "...             ...        ...       ...\n",
       "200728_003_72    V1   0.017878  0.317335\n",
       "200804_003_68    LM   0.015051  0.136653\n",
       "230302_003_136   LM   0.014923  0.443175\n",
       "210120_003_34    V1   0.011596  0.026943\n",
       "200806_003_45    LI   0.010661  0.140247\n",
       "\n",
       "[1654 rows x 3 columns]"
      ]
     },
     "execution_count": 89,
     "metadata": {},
     "output_type": "execute_result"
    }
   ],
   "source": [
    "for icell in tqdm(df_tuning.cell_id.unique()):\n",
    "    df_cell = df_tuning[df_tuning.cell_id == icell]\n",
    "\n",
    "    tuning_noad = df_cell.tuning_noad.values[0] - min(df_cell.tuning_noad.values[0]) # ensure all values are non negative\n",
    "    tuning_250 = df_cell.tuning_250.values[0] - min(df_cell.tuning_250.values[0])\n",
    "\n",
    "    theta_arr = np.linspace(0, 180-22.5, 8) # according to formula: unit deg, not rad\n",
    "    sin_arr = np.sin(2 * theta_arr)\n",
    "    cos_arr = np.cos(2 * theta_arr)\n",
    "\n",
    "    gOSI_noad = np.sqrt((np.sum(tuning_noad * sin_arr))**2 + (np.sum(tuning_noad * cos_arr))**2) / np.sum(tuning_noad)\n",
    "    gOSI_250 = np.sqrt((np.sum(tuning_250 * sin_arr))**2 + (np.sum(tuning_250 * cos_arr))**2) / np.sum(tuning_250)\n",
    "\n",
    "    df_tuning.loc[df_tuning.cell_id == icell, 'gOSI_noad'] = gOSI_noad\n",
    "    df_tuning.loc[df_tuning.cell_id == icell, 'gOSI_250'] = gOSI_250\n",
    "\n",
    "df_tuning = df_tuning.sort_values(by=['gOSI_noad', 'gOSI_250'], ascending=False)\n",
    "df_tuning.groupby('cell_id', sort=False)['area', 'gOSI_noad', 'gOSI_250'].first()\n",
    "# df_tuning.to_csv('df_tuning_grat8ori.csv', index=False)"
   ]
  },
  {
   "cell_type": "code",
   "execution_count": 98,
   "metadata": {},
   "outputs": [
    {
     "data": {
      "text/html": [
       "<div>\n",
       "<style scoped>\n",
       "    .dataframe tbody tr th:only-of-type {\n",
       "        vertical-align: middle;\n",
       "    }\n",
       "\n",
       "    .dataframe tbody tr th {\n",
       "        vertical-align: top;\n",
       "    }\n",
       "\n",
       "    .dataframe thead th {\n",
       "        text-align: right;\n",
       "    }\n",
       "</style>\n",
       "<table border=\"1\" class=\"dataframe\">\n",
       "  <thead>\n",
       "    <tr style=\"text-align: right;\">\n",
       "      <th></th>\n",
       "      <th>cell_id</th>\n",
       "      <th>gOSI_noad</th>\n",
       "      <th>gOSI_250</th>\n",
       "      <th>date_sess</th>\n",
       "    </tr>\n",
       "  </thead>\n",
       "  <tbody>\n",
       "    <tr>\n",
       "      <th>0</th>\n",
       "      <td>201209_002_88</td>\n",
       "      <td>0.876308</td>\n",
       "      <td>0.682645</td>\n",
       "      <td>201209_002</td>\n",
       "    </tr>\n",
       "    <tr>\n",
       "      <th>1</th>\n",
       "      <td>200728_003_33</td>\n",
       "      <td>0.866154</td>\n",
       "      <td>0.729479</td>\n",
       "      <td>200728_003</td>\n",
       "    </tr>\n",
       "    <tr>\n",
       "      <th>2</th>\n",
       "      <td>201015_004_15</td>\n",
       "      <td>0.849340</td>\n",
       "      <td>0.496406</td>\n",
       "      <td>201015_004</td>\n",
       "    </tr>\n",
       "    <tr>\n",
       "      <th>3</th>\n",
       "      <td>201015_004_12</td>\n",
       "      <td>0.846736</td>\n",
       "      <td>0.789616</td>\n",
       "      <td>201015_004</td>\n",
       "    </tr>\n",
       "    <tr>\n",
       "      <th>4</th>\n",
       "      <td>220228_002_16</td>\n",
       "      <td>0.845744</td>\n",
       "      <td>0.809035</td>\n",
       "      <td>220228_002</td>\n",
       "    </tr>\n",
       "    <tr>\n",
       "      <th>...</th>\n",
       "      <td>...</td>\n",
       "      <td>...</td>\n",
       "      <td>...</td>\n",
       "      <td>...</td>\n",
       "    </tr>\n",
       "    <tr>\n",
       "      <th>1649</th>\n",
       "      <td>200728_003_72</td>\n",
       "      <td>0.017878</td>\n",
       "      <td>0.317335</td>\n",
       "      <td>200728_003</td>\n",
       "    </tr>\n",
       "    <tr>\n",
       "      <th>1650</th>\n",
       "      <td>200804_003_68</td>\n",
       "      <td>0.015051</td>\n",
       "      <td>0.136653</td>\n",
       "      <td>200804_003</td>\n",
       "    </tr>\n",
       "    <tr>\n",
       "      <th>1651</th>\n",
       "      <td>230302_003_136</td>\n",
       "      <td>0.014923</td>\n",
       "      <td>0.443175</td>\n",
       "      <td>230302_003</td>\n",
       "    </tr>\n",
       "    <tr>\n",
       "      <th>1652</th>\n",
       "      <td>210120_003_34</td>\n",
       "      <td>0.011596</td>\n",
       "      <td>0.026943</td>\n",
       "      <td>210120_003</td>\n",
       "    </tr>\n",
       "    <tr>\n",
       "      <th>1653</th>\n",
       "      <td>200806_003_45</td>\n",
       "      <td>0.010661</td>\n",
       "      <td>0.140247</td>\n",
       "      <td>200806_003</td>\n",
       "    </tr>\n",
       "  </tbody>\n",
       "</table>\n",
       "<p>1654 rows × 4 columns</p>\n",
       "</div>"
      ],
      "text/plain": [
       "             cell_id  gOSI_noad  gOSI_250   date_sess\n",
       "0      201209_002_88   0.876308  0.682645  201209_002\n",
       "1      200728_003_33   0.866154  0.729479  200728_003\n",
       "2      201015_004_15   0.849340  0.496406  201015_004\n",
       "3      201015_004_12   0.846736  0.789616  201015_004\n",
       "4      220228_002_16   0.845744  0.809035  220228_002\n",
       "...              ...        ...       ...         ...\n",
       "1649   200728_003_72   0.017878  0.317335  200728_003\n",
       "1650   200804_003_68   0.015051  0.136653  200804_003\n",
       "1651  230302_003_136   0.014923  0.443175  230302_003\n",
       "1652   210120_003_34   0.011596  0.026943  210120_003\n",
       "1653   200806_003_45   0.010661  0.140247  200806_003\n",
       "\n",
       "[1654 rows x 4 columns]"
      ]
     },
     "execution_count": 98,
     "metadata": {},
     "output_type": "execute_result"
    }
   ],
   "source": [
    "df_gOSI = df_tuning.groupby('cell_id', sort=False)[['gOSI_noad', 'gOSI_250']].first().reset_index()\n",
    "df_gOSI['date_sess'] = df_gOSI['cell_id'].str.split('_').str[0] + '_' + df_gOSI['cell_id'].str.split('_').str[1]\n",
    "df_gOSI"
   ]
  },
  {
   "cell_type": "code",
   "execution_count": null,
   "metadata": {},
   "outputs": [
    {
     "data": {
      "image/png": "[encoded data removed]",
      "text/plain": [
       "<Figure size 640x480 with 1 Axes>"
      ]
     },
     "metadata": {},
     "output_type": "display_data"
    }
   ],
   "source": [
    "tmp1 = df_tuning.sort_values(by=['gOSI_noad', 'gOSI_250'], ascending=False).gOSI_noad.values\n",
    "tmp2 = df_tuning.sort_values(by=['gOSI_noad', 'gOSI_250'], ascending=False).gOSI_250.values\n",
    "\n",
    "plt.scatter(tmp1, tmp2, alpha=.1, s=1);\n",
    "plt.plot([0, 1], [0, 1], color='k', linestyle='-', linewidth=1); # draw diagonal line\n",
    "\n",
    "plt.xlim([0, 1]);\n",
    "plt.ylim([0, 1]);\n",
    "plt.xticks([0, .5, 1]);\n",
    "plt.yticks([0, .5, 1]);\n",
    "plt.xlabel('gOSI_noad');\n",
    "plt.ylabel('gOSI_250');\n",
    "plt.gca().set_aspect('equal', adjustable='box'); # set axis square\n",
    "\n",
    "## gOSI noad is usually higher. gOSI noad vs 250 is correlated"
   ]
  },
  {
   "attachments": {},
   "cell_type": "markdown",
   "metadata": {},
   "source": [
    "### filter cell SNR_mod, validate tuning\n",
    "neuron in model should have diff tuning curves"
   ]
  },
  {
   "cell_type": "code",
   "execution_count": 44,
   "metadata": {},
   "outputs": [
    {
     "data": {
      "text/plain": [
       "15"
      ]
     },
     "execution_count": 44,
     "metadata": {},
     "output_type": "execute_result"
    }
   ],
   "source": [
    "ncell_keep = 15\n",
    "iarea = 'V1'\n",
    "idatesess = 0\n",
    "\n",
    "# filter_cell = 'vis_pval'\n",
    "# filter_cell = 'SNR'\n",
    "filter_cell = 'SNR_R1_mod'\n",
    "# filter_cell = 'well_fit'\n",
    "# filter_cell = 'gOSI'\n",
    "\n",
    "df_svc = get_df_svc(df_tidy, iarea=iarea, idatesess=idatesess, \n",
    "                    ncell_keep=ncell_keep, \n",
    "                    filter_cell=filter_cell)\n",
    "\n",
    "df_svc.cell_id.nunique()"
   ]
  },
  {
   "cell_type": "code",
   "execution_count": 47,
   "metadata": {},
   "outputs": [
    {
     "data": {
      "image/png": "[encoded data removed]",
      "text/plain": [
       "<Figure size 1000x2000 with 15 Axes>"
      ]
     },
     "metadata": {},
     "output_type": "display_data"
    }
   ],
   "source": [
    "model_cell_resp = df_svc.groupby(['cell_id', 'stim2_id']).dfof.mean().reset_index()\n",
    "model_cell_sem = df_svc.groupby(['cell_id', 'stim2_id']).dfof.sem().reset_index()\n",
    "\n",
    "tuning_pop = []\n",
    "tuning_pop_sem = []\n",
    "for icell in sorted(df_svc.cell_id.unique()):\n",
    "    tuning_cell = model_cell_resp[model_cell_resp.cell_id==icell].dfof.tolist()\n",
    "    tuning_cell_sem = model_cell_sem[model_cell_sem.cell_id==icell].dfof.tolist()\n",
    "    # tuning_cell = (tuning_cell - np.min(tuning_cell)) / (np.max(tuning_cell) - np.min(tuning_cell)) # min-max normalization\n",
    "    tuning_pop.append(tuning_cell)\n",
    "    tuning_pop_sem.append(tuning_cell_sem)\n",
    "\n",
    "tuning_pop = np.array(tuning_pop) # ncell_keep x nori\n",
    "tuning_pop_sem = np.array(tuning_pop_sem)\n",
    "tuning_pop = tuning_pop[np.argsort(np.argmax(tuning_pop, axis=1)), :] # sort cells by tuning argmax\n",
    "tuning_pop_sem = tuning_pop_sem[np.argsort(np.argmax(tuning_pop, axis=1)), :]\n",
    "\n",
    "if ncell_keep > 15:\n",
    "    nrow = 13\n",
    "    ncol = df_svc.cell_id.nunique() // nrow\n",
    "    fig, ax = plt.subplots(nrow, ncol, figsize=(10, 40), sharex=True, sharey=True)\n",
    "else:\n",
    "    nrow = 5\n",
    "    ncol = df_svc.cell_id.nunique() // nrow\n",
    "    fig, ax = plt.subplots(nrow, ncol, figsize=(10, 20), sharex=True, sharey=True)\n",
    "\n",
    "nstim = df_tidy.stim2_id.nunique()\n",
    "for isubplot in np.arange(nrow*ncol): # plot each cell in a subplot\n",
    "    ax[isubplot//ncol, isubplot%ncol].errorbar(x=np.arange(nstim), \n",
    "                                               y=tuning_pop[isubplot], \n",
    "                                               yerr=tuning_pop_sem[isubplot], \n",
    "                                               alpha=0.5)\n",
    "    # ax[isubplot//ncol, isubplot%ncol].text(0.5, 0.9, \n",
    "    #             f'cell ' + sorted(df_svc.cell_id.unique())[isubplot].split('_')[2],\n",
    "    #             horizontalalignment='center',\n",
    "    #             transform=ax[isubplot//ncol, isubplot%ncol].transAxes,\n",
    "    #             fontsize=14)\n",
    "        \n",
    "fig.text(0.5, -0.05, 'stim2 orientation', ha='center', fontsize=18)\n",
    "fig.text(-0.02, 0.5, 'tuning', va='center', rotation='vertical', fontsize=18)\n",
    "fig.tight_layout()\n",
    "\n",
    "dir_fig = os.path.join(dir_repo, r'\\results\\decoder_grat8\\filter cell selection/'.replace('\\\\', '/'))\n",
    "# fig.savefig(dir_fig + 'tuning_of_model_cells_SNR_R1_mod.pdf', bbox_inches='tight')"
   ]
  },
  {
   "cell_type": "markdown",
   "metadata": {},
   "source": [
    "# data cleaning"
   ]
  },
  {
   "cell_type": "markdown",
   "metadata": {},
   "source": [
    "### filter sess SVM (deprecated)\n",
    "filter sess by perf at isi=6k, easiest decoding task, val acc > thresh"
   ]
  },
  {
   "cell_type": "code",
   "execution_count": 28,
   "metadata": {},
   "outputs": [
    {
     "name": "stderr",
     "output_type": "stream",
     "text": [
      " 33%|███▎      | 2/6 [00:02<00:05,  1.48s/it]"
     ]
    },
    {
     "name": "stdout",
     "output_type": "stream",
     "text": [
      "train acc overfit: area=V1, sess=1, isi=isi=6k\n"
     ]
    },
    {
     "name": "stderr",
     "output_type": "stream",
     "text": [
      "100%|██████████| 6/6 [00:08<00:00,  1.45s/it]\n",
      " 36%|███▋      | 8/22 [00:12<00:21,  1.52s/it]"
     ]
    },
    {
     "name": "stdout",
     "output_type": "stream",
     "text": [
      "train acc overfit: area=LM, sess=7, isi=isi=6k\n"
     ]
    },
    {
     "name": "stderr",
     "output_type": "stream",
     "text": [
      " 41%|████      | 9/22 [00:13<00:20,  1.54s/it]"
     ]
    },
    {
     "name": "stdout",
     "output_type": "stream",
     "text": [
      "train acc overfit: area=LM, sess=8, isi=isi=6k\n"
     ]
    },
    {
     "name": "stderr",
     "output_type": "stream",
     "text": [
      " 82%|████████▏ | 18/22 [00:27<00:06,  1.54s/it]"
     ]
    },
    {
     "name": "stdout",
     "output_type": "stream",
     "text": [
      "train acc overfit: area=LM, sess=17, isi=isi=6k\n"
     ]
    },
    {
     "name": "stderr",
     "output_type": "stream",
     "text": [
      "100%|██████████| 22/22 [00:33<00:00,  1.52s/it]\n",
      " 20%|██        | 3/15 [00:04<00:16,  1.39s/it]"
     ]
    },
    {
     "name": "stdout",
     "output_type": "stream",
     "text": [
      "not enough vis cells: area=LI, sess=2\n"
     ]
    },
    {
     "name": "stderr",
     "output_type": "stream",
     "text": [
      " 33%|███▎      | 5/15 [00:06<00:13,  1.37s/it]"
     ]
    },
    {
     "name": "stdout",
     "output_type": "stream",
     "text": [
      "not enough vis cells: area=LI, sess=4\n"
     ]
    },
    {
     "name": "stderr",
     "output_type": "stream",
     "text": [
      " 40%|████      | 6/15 [00:08<00:12,  1.36s/it]"
     ]
    },
    {
     "name": "stdout",
     "output_type": "stream",
     "text": [
      "not enough vis cells: area=LI, sess=5\n"
     ]
    },
    {
     "name": "stderr",
     "output_type": "stream",
     "text": [
      " 60%|██████    | 9/15 [00:12<00:08,  1.38s/it]"
     ]
    },
    {
     "name": "stdout",
     "output_type": "stream",
     "text": [
      "not enough vis cells: area=LI, sess=8\n"
     ]
    },
    {
     "name": "stderr",
     "output_type": "stream",
     "text": [
      " 67%|██████▋   | 10/15 [00:13<00:06,  1.37s/it]"
     ]
    },
    {
     "name": "stdout",
     "output_type": "stream",
     "text": [
      "not enough vis cells: area=LI, sess=9\n"
     ]
    },
    {
     "name": "stderr",
     "output_type": "stream",
     "text": [
      " 80%|████████  | 12/15 [00:16<00:04,  1.37s/it]"
     ]
    },
    {
     "name": "stdout",
     "output_type": "stream",
     "text": [
      "not enough vis cells: area=LI, sess=11\n"
     ]
    },
    {
     "name": "stderr",
     "output_type": "stream",
     "text": [
      "100%|██████████| 15/15 [00:20<00:00,  1.39s/it]"
     ]
    },
    {
     "name": "stdout",
     "output_type": "stream",
     "text": [
      "not enough vis cells: area=LI, sess=14\n"
     ]
    },
    {
     "name": "stderr",
     "output_type": "stream",
     "text": [
      "\n"
     ]
    }
   ],
   "source": [
    "## for each sess, take easiest task (isi=6k, 0 vs 90, flexible C), record val acc\n",
    "\n",
    "ncell_keep = 999\n",
    "C_init = 0.1\n",
    "\n",
    "# if ncell_keep <= 15:\n",
    "#     C_init = 0.1\n",
    "# elif ncell_keep == 999:\n",
    "#     C_init = 0.05\n",
    "# C_init = 1 # if without standard scaler z score\n",
    "# C_init = 1 # RBF kernel SVM, 15 cell\n",
    "# C_init = 0.1 # decode stim2_dist, 15 cell -> very bad perf\n",
    "\n",
    "\n",
    "val_acc_history = []\n",
    "bad_sess_history = []\n",
    "for iarea in ['V1', 'LM', 'LI']:\n",
    "\n",
    "    use_data = 'isi=6k'\n",
    "    nsess_iarea = (df_tidy[(df_tidy.area == iarea) \n",
    "                        & (df_tidy.filter_cell_vis == True)] # some LI sessions have no vis cell\n",
    "                    .groupby(['date', 'sess'])\n",
    "                    .first().__len__())\n",
    "    \n",
    "    for isess in tqdm(range(nsess_iarea)):\n",
    "        df_svc = get_df_svc(df_tidy, iarea=iarea, idatesess=isess, \n",
    "                            ncell_keep=ncell_keep, filter_cell='SNR_R1_mod')\n",
    "        if df_svc.cell_id.nunique() < 5:\n",
    "            print(f'not enough vis cells: area={iarea}, sess={isess}')\n",
    "            continue\n",
    "\n",
    "        ref_ori_id = 4\n",
    "        df_pair = df_svc[((df_svc.stim2_id == ref_ori_id) | (df_svc.stim2_id == 0))] # only decode 0 vs 90 deg\n",
    "        # df_pair = df_svc[((df_svc.stim2_dist_id == 0) | (df_svc.stim2_dist_id == 4))]\n",
    "\n",
    "        df_pair_6000 = df_pair[df_pair.isi == 6000]\n",
    "        X_train_6000, y_train_6000, _, _ = df_to_train_test(df_pair_6000, ref_ori_id, train_only=True)\n",
    "\n",
    "        C_current = C_init # reset C_current, then find optimal C for this area-isi-sess-ori\n",
    "        niter = 0\n",
    "        while niter < 4: # limit number of iteration to avoid infinite loop (can't believe I didn't foresee this)\n",
    "            clf = make_pipeline(StandardScaler(),\n",
    "                                LinearSVC(tol=1e-5, max_iter=int(1e7), \n",
    "                                        penalty='l1', dual='auto', C=C_current)\n",
    "                                # LinearSVR(epsilon=0, \n",
    "                                #     tol=1e-5, max_iter=int(1e7), \n",
    "                                #     C=C_current, \n",
    "                                #     dual=\"auto\", random_state=0,)\n",
    "                                )\n",
    "            # clf = make_pipeline(StandardScaler(),\n",
    "            #                     SVC(C=C_current, kernel='rbf', gamma='scale', \n",
    "            #                         max_iter=int(1e6))\n",
    "            #                     )\n",
    "            score_val = cross_validate(clf, X_train_6000, y_train_6000, cv=LeaveOneOut(), return_train_score=True)\n",
    "\n",
    "            if (np.mean(score_val['train_score']) <= 0.5) or (np.mean(score_val['test_score']) <= 0.5): # train acc is too low, underfit\n",
    "                C_current *= 2\n",
    "                niter += 1\n",
    "                print(f'train acc underfit: area={iarea}, sess={isess}, isi={use_data}')\n",
    "            elif (np.mean(score_val['train_score'])) >= 1: # train acc is too high, overfit\n",
    "                C_current /= 2\n",
    "                niter += 1\n",
    "                print(f'train acc overfit: area={iarea}, sess={isess}, isi={use_data}')\n",
    "            else:\n",
    "                val_acc = np.mean(score_val['test_score'])\n",
    "                val_acc_history.append(val_acc)\n",
    "                if val_acc < 0.7: # NOTE: adjust according to hist\n",
    "                    bad_sess = (df_svc.date.unique() + '_' + df_svc.sess.unique())[0]\n",
    "                    bad_sess_history.append(bad_sess)\n",
    "                break # record res, stop searching for C\n",
    "\n",
    "            if niter == 4: # too many tries, give up fitting\n",
    "                print(f'unable to fit: area={iarea}, sess={isess}, isi={use_data}, C={C_current}')"
   ]
  },
  {
   "cell_type": "code",
   "execution_count": 29,
   "metadata": {},
   "outputs": [
    {
     "data": {
      "text/plain": [
       "(36,\n",
       " 12,\n",
       " ['201209_002',\n",
       "  '200721_002',\n",
       "  '200729_003',\n",
       "  '211020_002',\n",
       "  '211020_003',\n",
       "  '230221_002',\n",
       "  '230221_003',\n",
       "  '230307_004',\n",
       "  '201202_004',\n",
       "  '210203_003',\n",
       "  '210203_004',\n",
       "  '230228_003'])"
      ]
     },
     "execution_count": 29,
     "metadata": {},
     "output_type": "execute_result"
    },
    {
     "data": {
      "image/png": "[encoded data removed]",
      "text/plain": [
       "<Figure size 640x480 with 1 Axes>"
      ]
     },
     "metadata": {},
     "output_type": "display_data"
    }
   ],
   "source": [
    "plt.hist(val_acc_history, bins=36);\n",
    "plt.xlabel('val acc')\n",
    "plt.ylabel('count');\n",
    "\n",
    "len(val_acc_history), len(bad_sess_history), bad_sess_history\n",
    "# ['200729_003',\n",
    "#   '211020_002',\n",
    "#   '230221_002',\n",
    "#   '230221_003',\n",
    "#   '201202_004',\n",
    "#   '210203_004']"
   ]
  },
  {
   "cell_type": "markdown",
   "metadata": {},
   "source": [
    "#### filter by auROC (deprecated)\n",
    "- https://glassboxmedicine.com/2019/02/23/measuring-performance-auc-auroc/\n",
    "- https://scikit-learn.org/stable/modules/generated/sklearn.model_selection.cross_val_predict.html#sklearn.model_selection.cross_val_predict\n",
    "- https://scikit-learn.org/stable/modules/model_evaluation.html#scoring-parameter\n",
    "- https://scikit-learn.org/stable/modules/generated/sklearn.metrics.roc_auc_score.html#sklearn.metrics.roc_auc_score"
   ]
  },
  {
   "cell_type": "code",
   "execution_count": 143,
   "metadata": {},
   "outputs": [
    {
     "name": "stderr",
     "output_type": "stream",
     "text": [
      "100%|██████████| 6/6 [00:08<00:00,  1.35s/it]\n",
      " 77%|███████▋  | 17/22 [00:23<00:07,  1.41s/it]"
     ]
    },
    {
     "name": "stdout",
     "output_type": "stream",
     "text": [
      "train acc underfit: area=LM, sess=16, isi=isi=6k\n",
      "train acc underfit: area=LM, sess=16, isi=isi=6k\n",
      "train acc underfit: area=LM, sess=16, isi=isi=6k\n",
      "train acc underfit: area=LM, sess=16, isi=isi=6k\n",
      "unable to fit: area=LM, sess=16, isi=isi=6k, C=1.6\n"
     ]
    },
    {
     "name": "stderr",
     "output_type": "stream",
     "text": [
      "100%|██████████| 22/22 [00:30<00:00,  1.40s/it]\n",
      " 13%|█▎        | 2/15 [00:02<00:17,  1.36s/it]"
     ]
    },
    {
     "name": "stdout",
     "output_type": "stream",
     "text": [
      "train acc underfit: area=LI, sess=1, isi=isi=6k\n"
     ]
    },
    {
     "name": "stderr",
     "output_type": "stream",
     "text": [
      " 20%|██        | 3/15 [00:04<00:16,  1.33s/it]"
     ]
    },
    {
     "name": "stdout",
     "output_type": "stream",
     "text": [
      "not enough vis cells: area=LI, sess=2\n"
     ]
    },
    {
     "name": "stderr",
     "output_type": "stream",
     "text": [
      " 33%|███▎      | 5/15 [00:06<00:13,  1.31s/it]"
     ]
    },
    {
     "name": "stdout",
     "output_type": "stream",
     "text": [
      "not enough vis cells: area=LI, sess=4\n"
     ]
    },
    {
     "name": "stderr",
     "output_type": "stream",
     "text": [
      " 40%|████      | 6/15 [00:07<00:11,  1.31s/it]"
     ]
    },
    {
     "name": "stdout",
     "output_type": "stream",
     "text": [
      "not enough vis cells: area=LI, sess=5\n"
     ]
    },
    {
     "name": "stderr",
     "output_type": "stream",
     "text": [
      " 53%|█████▎    | 8/15 [00:10<00:09,  1.33s/it]"
     ]
    },
    {
     "name": "stdout",
     "output_type": "stream",
     "text": [
      "train acc underfit: area=LI, sess=7, isi=isi=6k\n",
      "train acc underfit: area=LI, sess=7, isi=isi=6k\n",
      "train acc underfit: area=LI, sess=7, isi=isi=6k\n",
      "train acc underfit: area=LI, sess=7, isi=isi=6k\n",
      "unable to fit: area=LI, sess=7, isi=isi=6k, C=1.6\n"
     ]
    },
    {
     "name": "stderr",
     "output_type": "stream",
     "text": [
      " 60%|██████    | 9/15 [00:11<00:07,  1.32s/it]"
     ]
    },
    {
     "name": "stdout",
     "output_type": "stream",
     "text": [
      "not enough vis cells: area=LI, sess=8\n"
     ]
    },
    {
     "name": "stderr",
     "output_type": "stream",
     "text": [
      " 67%|██████▋   | 10/15 [00:13<00:06,  1.31s/it]"
     ]
    },
    {
     "name": "stdout",
     "output_type": "stream",
     "text": [
      "not enough vis cells: area=LI, sess=9\n"
     ]
    },
    {
     "name": "stderr",
     "output_type": "stream",
     "text": [
      " 80%|████████  | 12/15 [00:15<00:03,  1.31s/it]"
     ]
    },
    {
     "name": "stdout",
     "output_type": "stream",
     "text": [
      "not enough vis cells: area=LI, sess=11\n"
     ]
    },
    {
     "name": "stderr",
     "output_type": "stream",
     "text": [
      "100%|██████████| 15/15 [00:19<00:00,  1.32s/it]"
     ]
    },
    {
     "name": "stdout",
     "output_type": "stream",
     "text": [
      "not enough vis cells: area=LI, sess=14\n"
     ]
    },
    {
     "name": "stderr",
     "output_type": "stream",
     "text": [
      "\n"
     ]
    }
   ],
   "source": [
    "## for each sess, take easiest task (isi=6k, 0 vs 90, flexible C), record val acc\n",
    "\n",
    "ncell_keep = 15\n",
    "if ncell_keep <= 15:\n",
    "    C_init = 0.1\n",
    "elif ncell_keep == 999:\n",
    "    C_init = 0.05\n",
    "# C_init = 1 # if without standard scaler z score\n",
    "# C_init = 1 # RBF kernel SVM, 15 cell\n",
    "# C_init = 0.1 # decode stim2_dist, 15 cell -> very bad perf\n",
    "\n",
    "\n",
    "val_acc_history = []\n",
    "bad_sess_history = []\n",
    "for iarea in ['V1', 'LM', 'LI']:\n",
    "\n",
    "    use_data = 'isi=6k'\n",
    "    nsess_iarea = (df_tidy[(df_tidy.area == iarea) \n",
    "                        & (df_tidy.filter_cell_vis == True)] # some LI sessions have no vis cell\n",
    "                    .groupby(['date', 'sess'])\n",
    "                    .first().__len__())\n",
    "    \n",
    "    for isess in tqdm(range(nsess_iarea)):\n",
    "        df_svc = get_df_svc(df_tidy, iarea=iarea, idatesess=isess, \n",
    "                            ncell_keep=ncell_keep, filter_cell='SNR_R1_mod')\n",
    "        if df_svc.cell_id.nunique() < 5:\n",
    "            print(f'not enough vis cells: area={iarea}, sess={isess}')\n",
    "            continue\n",
    "\n",
    "        ref_ori_id = 4\n",
    "        df_pair = df_svc[((df_svc.stim2_id == ref_ori_id) | (df_svc.stim2_id == 0))] # only decode 0 vs 90 deg\n",
    "        # df_pair = df_svc[((df_svc.stim2_dist_id == 0) | (df_svc.stim2_dist_id == 4))]\n",
    "\n",
    "        df_pair_6000 = df_pair[df_pair.isi == 6000]\n",
    "        X_train_6000, y_train_6000, _, _ = df_to_train_test(df_pair_6000, ref_ori_id, train_only=True)\n",
    "        \n",
    "        scaler = StandardScaler(with_mean=False, with_std=True)\n",
    "        X_train_6000 = scaler.fit_transform(X_train_6000, y=y_train_6000) # supervised fit then transform\n",
    "\n",
    "        C_current = C_init # reset C_current, then find optimal C for this area-isi-sess-ori\n",
    "        niter = 0\n",
    "        while niter < 4: # limit number of iteration to avoid infinite loop (can't believe I didn't foresee this)\n",
    "            # clf = make_pipeline(StandardScaler(),\n",
    "            #                     LinearSVC(tol=1e-5, max_iter=int(1e7), \n",
    "            #                             penalty='l1', dual='auto', C=C_current)\n",
    "            #                     )\n",
    "            # clf = make_pipeline(StandardScaler(),\n",
    "            #                     SVC(C=C_current, kernel='rbf', gamma='scale', \n",
    "            #                         max_iter=int(1e6))\n",
    "            #                     )\n",
    "            # score_val = cross_validate(clf, X_train_6000, y_train_6000, cv=LeaveOneOut(), return_train_score=True)\n",
    "\n",
    "            clf = SVC(kernel='linear', \n",
    "                    C=C_current, # penalty has to be L2. NOTE: we no longer use L1 reg\n",
    "                    probability=True, random_state=42,\n",
    "                    max_iter=-1, \n",
    "                    decision_function_shape='ovo',\n",
    "                    )\n",
    "            score_val = cross_validate(clf, X_train_6000, y_train_6000, \n",
    "                                    #    cv=LeaveOneOut(), \n",
    "                                    cv=5, \n",
    "                                    scoring='roc_auc_ovo', # val auROC\n",
    "                                    return_train_score=True, # train auROC\n",
    "                                    )\n",
    "            \n",
    "\n",
    "            if np.mean(score_val['train_score']) - np.std(score_val['train_score']) <= 0.5: # lower errbar too low, underfit\n",
    "                C_current *= 2\n",
    "                niter += 1\n",
    "                print(f'train acc underfit: area={iarea}, sess={isess}, isi={use_data}')\n",
    "            # elif np.mean(score_val['train_score']) >= 1: # upper errbar too high, overfit\n",
    "            #     C_current /= 2\n",
    "            #     niter += 1\n",
    "            #     print(f'train acc overfit: area={iarea}, sess={isess}, isi={use_data}')\n",
    "            else:\n",
    "                val_acc = np.mean(score_val['test_score']) # actually is val auROC, not acc\n",
    "                val_acc_history.append(val_acc)\n",
    "                if val_acc < 0.75: # NOTE: adjust according to hist\n",
    "                    bad_sess = (df_svc.date.unique() + '_' + df_svc.sess.unique())[0]\n",
    "                    bad_sess_history.append(bad_sess)\n",
    "                    print(f'bad val perf: {bad_sess}. area={iarea}, sess={isess}, isi={use_data}, C={C_current}')\n",
    "                break # record res, stop searching for C\n",
    "\n",
    "            if niter == 4: # too many tries, give up fitting\n",
    "                bad_sess = (df_svc.date.unique() + '_' + df_svc.sess.unique())[0]\n",
    "                bad_sess_history.append(bad_sess)\n",
    "                print(f'unable to fit: {bad_sess}. area={iarea}, sess={isess}, isi={use_data}, C={C_current}')"
   ]
  },
  {
   "cell_type": "code",
   "execution_count": 145,
   "metadata": {},
   "outputs": [
    {
     "data": {
      "text/plain": [
       "(34,\n",
       " 6,\n",
       " ['211020_002',\n",
       "  '211020_003',\n",
       "  '230221_002',\n",
       "  '230221_003',\n",
       "  '200806_003',\n",
       "  '210203_004'])"
      ]
     },
     "execution_count": 145,
     "metadata": {},
     "output_type": "execute_result"
    },
    {
     "data": {
      "image/png": "[encoded data removed]",
      "text/plain": [
       "<Figure size 640x480 with 1 Axes>"
      ]
     },
     "metadata": {},
     "output_type": "display_data"
    }
   ],
   "source": [
    "plt.hist(val_acc_history, bins=36);\n",
    "plt.xlabel('val acc')\n",
    "plt.ylabel('count');\n",
    "\n",
    "len(val_acc_history), len(bad_sess_history), bad_sess_history\n",
    "# ['200729_003',\n",
    "#   '211020_002',\n",
    "#   '230221_002',\n",
    "#   '230221_003',\n",
    "#   '201202_004',\n",
    "#   '210203_004']"
   ]
  },
  {
   "cell_type": "markdown",
   "metadata": {},
   "source": [
    "### filter sess rand forest"
   ]
  },
  {
   "cell_type": "code",
   "execution_count": 30,
   "metadata": {},
   "outputs": [
    {
     "name": "stderr",
     "output_type": "stream",
     "text": [
      "100%|██████████| 6/6 [00:09<00:00,  1.54s/it]\n",
      "100%|██████████| 22/22 [00:35<00:00,  1.63s/it]\n",
      " 20%|██        | 3/15 [00:04<00:17,  1.42s/it]"
     ]
    },
    {
     "name": "stdout",
     "output_type": "stream",
     "text": [
      "not enough vis cells: area=LI, sess=2\n"
     ]
    },
    {
     "name": "stderr",
     "output_type": "stream",
     "text": [
      " 33%|███▎      | 5/15 [00:07<00:14,  1.42s/it]"
     ]
    },
    {
     "name": "stdout",
     "output_type": "stream",
     "text": [
      "not enough vis cells: area=LI, sess=4\n"
     ]
    },
    {
     "name": "stderr",
     "output_type": "stream",
     "text": [
      " 40%|████      | 6/15 [00:08<00:12,  1.39s/it]"
     ]
    },
    {
     "name": "stdout",
     "output_type": "stream",
     "text": [
      "not enough vis cells: area=LI, sess=5\n"
     ]
    },
    {
     "name": "stderr",
     "output_type": "stream",
     "text": [
      " 60%|██████    | 9/15 [00:12<00:08,  1.42s/it]"
     ]
    },
    {
     "name": "stdout",
     "output_type": "stream",
     "text": [
      "not enough vis cells: area=LI, sess=8\n"
     ]
    },
    {
     "name": "stderr",
     "output_type": "stream",
     "text": [
      " 67%|██████▋   | 10/15 [00:14<00:06,  1.39s/it]"
     ]
    },
    {
     "name": "stdout",
     "output_type": "stream",
     "text": [
      "not enough vis cells: area=LI, sess=9\n"
     ]
    },
    {
     "name": "stderr",
     "output_type": "stream",
     "text": [
      " 80%|████████  | 12/15 [00:17<00:04,  1.40s/it]"
     ]
    },
    {
     "name": "stdout",
     "output_type": "stream",
     "text": [
      "not enough vis cells: area=LI, sess=11\n"
     ]
    },
    {
     "name": "stderr",
     "output_type": "stream",
     "text": [
      "100%|██████████| 15/15 [00:21<00:00,  1.43s/it]"
     ]
    },
    {
     "name": "stdout",
     "output_type": "stream",
     "text": [
      "not enough vis cells: area=LI, sess=14\n"
     ]
    },
    {
     "name": "stderr",
     "output_type": "stream",
     "text": [
      "\n"
     ]
    }
   ],
   "source": [
    "## for each sess, take easiest task (isi=6k, 0 vs 90), record val acc\n",
    "\n",
    "ncell_keep = 999\n",
    "val_acc_history = []\n",
    "bad_sess_history = []\n",
    "\n",
    "for iarea in ['V1', 'LM', 'LI']:\n",
    "\n",
    "    use_data = 'isi=6k'\n",
    "    nsess_iarea = (df_tidy[(df_tidy.area == iarea) \n",
    "                        & (df_tidy.filter_cell_vis == True)] # some LI sessions have no vis cell\n",
    "                    .groupby(['date', 'sess'])\n",
    "                    .first().__len__())\n",
    "    \n",
    "    for isess in tqdm(range(nsess_iarea)):\n",
    "        df_svc = get_df_svc(df_tidy, iarea=iarea, idatesess=isess, \n",
    "                            ncell_keep=ncell_keep, filter_cell='SNR_R1_mod')\n",
    "        if df_svc.cell_id.nunique() < 5:\n",
    "            print(f'not enough vis cells: area={iarea}, sess={isess}')\n",
    "            continue\n",
    "\n",
    "        ref_ori_id = 4\n",
    "        df_pair = df_svc[((df_svc.stim2_id == ref_ori_id) | (df_svc.stim2_id == 0))] # only decode 0 vs 90 deg\n",
    "\n",
    "        df_pair_6000 = df_pair[df_pair.isi == 6000]\n",
    "        X_train_6000, y_train_6000, _, _ = df_to_train_test(df_pair_6000, ref_ori_id, train_only=True)\n",
    "\n",
    "        clf = make_pipeline(StandardScaler(),\n",
    "                            RandomForestClassifier(n_estimators=100, # max_depth=10,\n",
    "                                                   random_state=42,\n",
    "                                                   bootstrap=True, oob_score=True, \n",
    "                                                   n_jobs=-1)\n",
    "                            )\n",
    "        clf.fit(X_train_6000, y_train_6000)\n",
    "        val_acc = clf.named_steps.randomforestclassifier.oob_score_ # out of bag score, basically val acc (data left out in bootstrap / each tree)\n",
    "        val_acc_history.append(val_acc)\n",
    "        \n",
    "        if val_acc < 0.7: # NOTE: adjust according to hist\n",
    "            bad_sess = (df_svc.date.unique() + '_' + df_svc.sess.unique())[0]\n",
    "            bad_sess_history.append(bad_sess)"
   ]
  },
  {
   "cell_type": "code",
   "execution_count": 31,
   "metadata": {},
   "outputs": [
    {
     "data": {
      "text/plain": [
       "(36,\n",
       " 10,\n",
       " ['200729_003',\n",
       "  '211020_002',\n",
       "  '211020_003',\n",
       "  '230221_002',\n",
       "  '230221_003',\n",
       "  '200806_003',\n",
       "  '201202_004',\n",
       "  '210203_003',\n",
       "  '210203_004',\n",
       "  '230228_003'])"
      ]
     },
     "execution_count": 31,
     "metadata": {},
     "output_type": "execute_result"
    },
    {
     "data": {
      "image/png": "[encoded data removed]",
      "text/plain": [
       "<Figure size 640x480 with 1 Axes>"
      ]
     },
     "metadata": {},
     "output_type": "display_data"
    }
   ],
   "source": [
    "plt.hist(val_acc_history, bins=36);\n",
    "plt.xlabel('val acc')\n",
    "plt.ylabel('count');\n",
    "\n",
    "val_acc_history = np.array(val_acc_history)\n",
    "len(val_acc_history), len(val_acc_history[val_acc_history < 0.7]), bad_sess_history"
   ]
  },
  {
   "attachments": {},
   "cell_type": "markdown",
   "metadata": {},
   "source": [
    "# SVM cross val search reg\n",
    "find optimal reg param C"
   ]
  },
  {
   "attachments": {},
   "cell_type": "markdown",
   "metadata": {},
   "source": [
    "## aware decoder\n",
    "\n",
    "two separate models for two isi.  \n",
    "one model: train and test with isi=6k  \n",
    "another model: train and test with isi=250  "
   ]
  },
  {
   "cell_type": "code",
   "execution_count": 54,
   "metadata": {},
   "outputs": [
    {
     "name": "stdout",
     "output_type": "stream",
     "text": [
      "V1\n",
      "isi=250\n"
     ]
    },
    {
     "name": "stderr",
     "output_type": "stream",
     "text": [
      "100%|██████████| 5/5 [00:10<00:00,  2.01s/it]\n"
     ]
    },
    {
     "name": "stdout",
     "output_type": "stream",
     "text": [
      "isi=6k\n"
     ]
    },
    {
     "name": "stderr",
     "output_type": "stream",
     "text": [
      "100%|██████████| 5/5 [00:09<00:00,  1.98s/it]\n"
     ]
    }
   ],
   "source": [
    "for iarea in ['V1']: #, 'LM', 'LI']:\n",
    "    print(iarea)\n",
    "    nsess = df_tidy[df_tidy.area == iarea].groupby(['date', 'sess']).__len__()\n",
    "    \n",
    "    for idatesess in (range(1)): # nsess\n",
    "        \n",
    "        # ncell_keep = 999 # check how much overfit if keep all cells\n",
    "        # filter_cell = 'well_fit'\n",
    "        ncell_keep = 15\n",
    "        filter_cell = 'SNR_R1_mod'\n",
    "\n",
    "        df_svc = get_df_svc(df_tidy, \n",
    "                            iarea=iarea, idatesess=idatesess, \n",
    "                            ncell_keep=ncell_keep, \n",
    "                            filter_cell=filter_cell\n",
    "                            )\n",
    "        \n",
    "        if df_svc.cell_id.nunique() < 5:\n",
    "            print(f'not enough vis cells: area={iarea}, sess={idatesess}')\n",
    "            continue\n",
    "\n",
    "        # tmp = (df_svc.date.unique() + '_' + df_svc.sess.unique())[0]\n",
    "        # if tmp in bad_sess_history:\n",
    "        #     print(f'bad sess due to low val acc on easy task: area={iarea}, sess={idatesess}')\n",
    "        #     continue\n",
    "\n",
    "        tmp = df_svc.stim2_id.unique()\n",
    "        # tmp = df_svc.stim2_dist_id.unique()\n",
    "        ref_ori_id = 0 # decode which ori vs others. 0=0 deg, 4=90 deg, etc\n",
    "        other_ori = sorted(tmp[tmp != ref_ori_id]) # decode task: ref vs not ref\n",
    "\n",
    "        for use_data in ['isi=250', 'isi=6k']:\n",
    "            print(use_data)\n",
    "\n",
    "            nrow = 4\n",
    "            ncol = 2\n",
    "            fig, ax = plt.subplots(4, 2, figsize=(12, 20), sharey=True)\n",
    "\n",
    "            acc_val_mean_iori = []\n",
    "            acc_val_ci_iori = [] # confidence interval based on binomial distribution\n",
    "\n",
    "            for iori in (other_ori):\n",
    "                df_pair = df_svc[((df_svc.stim2_id == ref_ori_id) | (df_svc.stim2_id == iori))]\n",
    "                # df_pair = df_svc[((df_svc.stim2_dist_id == ref_ori_id) | (df_svc.stim2_dist_id == iori))]\n",
    "                df_pair_250 = df_pair[df_pair.isi == 250]\n",
    "                df_pair_6000 = df_pair[df_pair.isi == 6000]\n",
    "\n",
    "                ## split train vs test for each isi\n",
    "                X_train_250, y_train_250, _, _ = df_to_train_test(df_pair_250, ref_ori_id, train_only=True) # no test data\n",
    "                X_train_6000, y_train_6000, _, _ = df_to_train_test(df_pair_6000, ref_ori_id, train_only=True)\n",
    "\n",
    "                ## standard scaler normalization\n",
    "                scaler = StandardScaler(with_mean=False, with_std=True)\n",
    "                X_train_250 = scaler.fit_transform(X_train_250, y=y_train_250)\n",
    "                X_train_6000 = scaler.fit_transform(X_train_6000, y=y_train_6000)\n",
    "\n",
    "                ## cross validation to find optimal C\n",
    "                acc_train_mean = []\n",
    "                acc_train_ci = []\n",
    "                acc_val_mean = []\n",
    "                acc_val_ci = [] # confidence interval based on binomial distribution\n",
    "                \n",
    "                C_list = [1e-2 * 10**i for i in range(5)]\n",
    "                # C_list = [0.1, 0.2, 0.5, 1, 2, 5, 10, 20] # zoom in around 1\n",
    "                # C_list = [0.01, 0.02, 0.05, 0.1, 0.2, 0.5, 1] # zoom in around 0.1\n",
    "                for C_val in tqdm(C_list):\n",
    "                    \n",
    "                    clf = make_pipeline(StandardScaler(),\n",
    "                                        LinearSVC(tol=1e-5, max_iter=int(1e6), \n",
    "                                                penalty='l1', dual=False, C=C_val)\n",
    "                    #                     # SVC(C=C_val, kernel='rbf', gamma='auto', \n",
    "                    #                     #     max_iter=int(1e6))\n",
    "                                        )\n",
    "                    # clf = SVC(kernel='linear', \n",
    "                    #         C=C_val, # penalty has to be L2. NOTE: we no longer use L1 reg\n",
    "                    #         probability=True, random_state=42,\n",
    "                    #         max_iter=-1, \n",
    "                    #         decision_function_shape='ovo',\n",
    "                    #         )\n",
    "                    \n",
    "                    if use_data == 'isi=250':\n",
    "                        score_val = cross_validate(clf, X_train_250, y_train_250, cv=LeaveOneOut(), return_train_score=True)\n",
    "                        # score_val = cross_validate(clf, X_train_250, y_train_250, \n",
    "                        #                     #    cv=LeaveOneOut(), \n",
    "                        #                     cv=5, \n",
    "                        #                     scoring='roc_auc_ovo', # val auROC\n",
    "                        #                     return_train_score=True, # train auROC\n",
    "                        #                     )\n",
    "                    \n",
    "                    elif use_data == 'isi=6k':\n",
    "                        score_val = cross_validate(clf, X_train_6000, y_train_6000, cv=LeaveOneOut(), return_train_score=True)\n",
    "                        # score_val = cross_validate(clf, X_train_6000, y_train_6000, \n",
    "                        #                     #    cv=LeaveOneOut(), \n",
    "                        #                     cv=5, \n",
    "                        #                     scoring='roc_auc_ovo', # val auROC\n",
    "                        #                     return_train_score=True, # train auROC\n",
    "                        #                     )\n",
    "                    \n",
    "                    ## from here on, if using scoring='roc_auc_ovo', then acc_xx is actually auROC_xx\n",
    "                    acc_train_mean.append(np.mean(score_val['train_score']))\n",
    "                    ci_low, ci_high = proportion_confint(count=score_val['train_score'].sum(), nobs=len(score_val['train_score']))\n",
    "                    acc_train_ci.append((ci_high - ci_low) / 2)\n",
    "                    # acc_train_ci.append(np.std(score_val['train_score']))\n",
    "                    \n",
    "                    acc_val_mean.append(np.mean(score_val['test_score']))\n",
    "                    ci_low, ci_high = proportion_confint(count=score_val['test_score'].sum(), nobs=len(score_val['test_score']))\n",
    "                    acc_val_ci.append((ci_high - ci_low) / 2)\n",
    "                    # acc_val_ci.append(np.std(score_val['test_score']))\n",
    "                    \n",
    "                acc_val_mean_iori.append(acc_val_mean)\n",
    "                acc_val_ci_iori.append(acc_val_ci)\n",
    "                    \n",
    "                    \n",
    "                ax[int(iori/ncol), iori%ncol].errorbar(x=C_list, y=acc_train_mean, \n",
    "                            yerr=acc_train_ci, fmt='o', capsize=5, capthick=2, label='train', alpha=0.5)\n",
    "                ax[int(iori/ncol), iori%ncol].errorbar(x=C_list, y=acc_val_mean,\n",
    "                            yerr=acc_val_ci, fmt='o', capsize=5, capthick=2, label='val', alpha=0.5)\n",
    "                \n",
    "                ax[int(iori/ncol), iori%ncol].axhline(y=0.5, color='gray', alpha=0.2, label='chance')\n",
    "                ax[int(iori/ncol), iori%ncol].axhline(y=1, color='k', alpha=0.2, label='1')\n",
    "\n",
    "                ax[int(iori/ncol), iori%ncol].set_xscale('log') # set x axis to log scale\n",
    "                ax[int(iori/ncol), iori%ncol].legend(frameon=False);\n",
    "                ax[int(iori/ncol), iori%ncol].set_title(f'decoder: {int(22.5*iori)} vs {22.5*ref_ori_id} deg');\n",
    "                ax[int(iori/ncol), iori%ncol].set_xlabel('more reg ... <-- C --> ... less reg');\n",
    "                ax[int(iori/ncol), iori%ncol].set_ylabel('accuracy');\n",
    "                \n",
    "            plt.tight_layout()\n",
    "            dir_fig = os.path.join(dir_repo, r'results/decoder_grat8/decoder_grat_2ori/'.replace('\\\\', '/'))\n",
    "            if not os.path.exists(dir_fig): # mkdir if not exist\n",
    "                os.makedirs(dir_fig)\n",
    "            fig.savefig(dir_fig + f'aware_decoder_2ori_{use_data}_{filter_cell}_{ncell_keep}_{iarea}_{idatesess}.pdf', bbox_inches='tight')\n",
    "            plt.close(fig)\n",
    "        \n",
    "        \n",
    "            # fix_C = 1\n",
    "            # acc_val_C = np.array(acc_val_mean_iori)[:, np.where(np.array(C_list)==fix_C)[0][0]]\n",
    "            # acc_val_ci_C = np.array(acc_val_ci_iori)[:, np.where(np.array(C_list)==fix_C)[0][0]]\n",
    "            # stim2_ori_list = ['0', '22.5', '45', '67.5', '112.5', '135', '157.5']\n",
    "\n",
    "            # plt.errorbar(x=np.arange(len(stim2_ori_list)), \n",
    "            #             y=acc_val_C, \n",
    "            #             yerr=acc_val_ci_C, \n",
    "            #             fmt='o', color='b', alpha=0.5, ecolor='lightgray', elinewidth=3, capsize=0);\n",
    "\n",
    "            # stim2_ori_list = ['0', '22.5', '45', '67.5', '112.5', '135', '157.5']\n",
    "            # plt.xticks(np.arange(len(stim2_ori_list)), stim2_ori_list);\n",
    "            # plt.xlabel('stim2_ori')\n",
    "            # plt.ylabel(f'acc_val');\n",
    "\n",
    "            # title_str = f'aware decoder stim2_dist, C={fix_C}, {use_data}, {filter_cell}_{iarea}_{idatesess}'\n",
    "            # plt.title(title_str);\n",
    "            # plt.savefig(dir_fig + f'{title_str}.pdf', bbox_inches='tight')\n",
    "            # plt.close()"
   ]
  },
  {
   "cell_type": "markdown",
   "metadata": {},
   "source": [
    "### aware decoder neighbor"
   ]
  },
  {
   "cell_type": "code",
   "execution_count": 198,
   "metadata": {},
   "outputs": [
    {
     "name": "stdout",
     "output_type": "stream",
     "text": [
      "V1\n"
     ]
    },
    {
     "name": "stderr",
     "output_type": "stream",
     "text": [
      "  0%|          | 0/5 [00:00<?, ?it/s]"
     ]
    },
    {
     "name": "stdout",
     "output_type": "stream",
     "text": [
      "isi=250\n",
      "isi=6k\n"
     ]
    },
    {
     "name": "stderr",
     "output_type": "stream",
     "text": [
      " 20%|██        | 1/5 [00:15<01:02, 15.69s/it]"
     ]
    },
    {
     "name": "stdout",
     "output_type": "stream",
     "text": [
      "isi=250\n",
      "isi=6k\n"
     ]
    },
    {
     "name": "stderr",
     "output_type": "stream",
     "text": [
      " 40%|████      | 2/5 [00:32<00:48, 16.17s/it]"
     ]
    },
    {
     "name": "stdout",
     "output_type": "stream",
     "text": [
      "isi=250\n"
     ]
    },
    {
     "name": "stderr",
     "output_type": "stream",
     "text": [
      "c:\\Users\\ll357\\AppData\\Local\\anaconda3\\Lib\\site-packages\\sklearn\\svm\\_base.py:1242: ConvergenceWarning: Liblinear failed to converge, increase the number of iterations.\n",
      "  warnings.warn(\n"
     ]
    },
    {
     "name": "stdout",
     "output_type": "stream",
     "text": [
      "isi=6k\n"
     ]
    },
    {
     "name": "stderr",
     "output_type": "stream",
     "text": [
      " 60%|██████    | 3/5 [00:49<00:33, 16.65s/it]"
     ]
    },
    {
     "name": "stdout",
     "output_type": "stream",
     "text": [
      "isi=250\n",
      "isi=6k\n"
     ]
    },
    {
     "name": "stderr",
     "output_type": "stream",
     "text": [
      " 80%|████████  | 4/5 [01:05<00:16, 16.38s/it]"
     ]
    },
    {
     "name": "stdout",
     "output_type": "stream",
     "text": [
      "isi=250\n",
      "isi=6k\n"
     ]
    },
    {
     "name": "stderr",
     "output_type": "stream",
     "text": [
      "100%|██████████| 5/5 [01:21<00:00, 16.31s/it]\n"
     ]
    },
    {
     "name": "stdout",
     "output_type": "stream",
     "text": [
      "LM\n"
     ]
    },
    {
     "name": "stderr",
     "output_type": "stream",
     "text": [
      "  0%|          | 0/5 [00:00<?, ?it/s]"
     ]
    },
    {
     "name": "stdout",
     "output_type": "stream",
     "text": [
      "isi=250\n",
      "isi=6k\n"
     ]
    },
    {
     "name": "stderr",
     "output_type": "stream",
     "text": [
      " 40%|████      | 2/5 [00:16<00:20,  6.97s/it]"
     ]
    },
    {
     "name": "stdout",
     "output_type": "stream",
     "text": [
      "bad sess due to low val acc on easy task: area=LM, sess=1\n",
      "isi=250\n",
      "isi=6k\n"
     ]
    },
    {
     "name": "stderr",
     "output_type": "stream",
     "text": [
      " 60%|██████    | 3/5 [00:32<00:22, 11.31s/it]"
     ]
    },
    {
     "name": "stdout",
     "output_type": "stream",
     "text": [
      "isi=250\n",
      "isi=6k\n"
     ]
    },
    {
     "name": "stderr",
     "output_type": "stream",
     "text": [
      " 80%|████████  | 4/5 [00:46<00:12, 12.36s/it]"
     ]
    },
    {
     "name": "stdout",
     "output_type": "stream",
     "text": [
      "isi=250\n",
      "isi=6k\n"
     ]
    },
    {
     "name": "stderr",
     "output_type": "stream",
     "text": [
      "100%|██████████| 5/5 [01:01<00:00, 12.34s/it]\n"
     ]
    },
    {
     "name": "stdout",
     "output_type": "stream",
     "text": [
      "LI\n"
     ]
    },
    {
     "name": "stderr",
     "output_type": "stream",
     "text": [
      "  0%|          | 0/5 [00:00<?, ?it/s]"
     ]
    },
    {
     "name": "stdout",
     "output_type": "stream",
     "text": [
      "isi=250\n",
      "isi=6k\n"
     ]
    },
    {
     "name": "stderr",
     "output_type": "stream",
     "text": [
      " 40%|████      | 2/5 [00:16<00:21,  7.01s/it]"
     ]
    },
    {
     "name": "stdout",
     "output_type": "stream",
     "text": [
      "bad sess due to low val acc on easy task: area=LI, sess=1\n"
     ]
    },
    {
     "name": "stderr",
     "output_type": "stream",
     "text": [
      " 60%|██████    | 3/5 [00:17<00:08,  4.43s/it]"
     ]
    },
    {
     "name": "stdout",
     "output_type": "stream",
     "text": [
      "not enough vis cells: area=LI, sess=2\n"
     ]
    },
    {
     "name": "stderr",
     "output_type": "stream",
     "text": [
      " 80%|████████  | 4/5 [00:19<00:03,  3.21s/it]"
     ]
    },
    {
     "name": "stdout",
     "output_type": "stream",
     "text": [
      "bad sess due to low val acc on easy task: area=LI, sess=3\n"
     ]
    },
    {
     "name": "stderr",
     "output_type": "stream",
     "text": [
      "100%|██████████| 5/5 [00:20<00:00,  4.10s/it]"
     ]
    },
    {
     "name": "stdout",
     "output_type": "stream",
     "text": [
      "not enough vis cells: area=LI, sess=4\n"
     ]
    },
    {
     "name": "stderr",
     "output_type": "stream",
     "text": [
      "\n"
     ]
    }
   ],
   "source": [
    "neighbor_ori_pair = {1:0, 2:1, 3:2, 4:3, # decode 22 vs 0, 45 vs 22, ... 90 vs 67\n",
    "                    7:0, 6:7, 5:6, 4:5,} # decode -22 vs 0, -45 vs -22, ... -90 vs -67 \n",
    "\n",
    "for iarea in ['V1', 'LM', 'LI']:\n",
    "    print(iarea)\n",
    "    nsess = df_tidy[df_tidy.area == iarea].groupby(['date', 'sess']).__len__()\n",
    "    \n",
    "    for idatesess in tqdm(range(5)): # nsess\n",
    "        \n",
    "        ncell_keep = 999 # check how much overfit if keep all cells\n",
    "        filter_cell = 'vis_pval'\n",
    "\n",
    "        df_svc = get_df_svc(df_tidy, \n",
    "                            iarea=iarea, idatesess=idatesess, \n",
    "                            ncell_keep=ncell_keep, \n",
    "                            filter_cell=filter_cell\n",
    "                            )\n",
    "        if df_svc.cell_id.nunique() < 5:\n",
    "            print(f'not enough vis cells: area={iarea}, sess={idatesess}')\n",
    "            continue\n",
    "        tmp = (df_svc.date.unique() + '_' + df_svc.sess.unique())[0]\n",
    "        if tmp in bad_sess_history:\n",
    "            print(f'bad sess due to low val acc on easy task: area={iarea}, sess={idatesess}')\n",
    "            continue\n",
    "\n",
    "\n",
    "        for use_data in ['isi=250', 'isi=6k']:\n",
    "            print(use_data)\n",
    "\n",
    "            nrow = 4\n",
    "            ncol = 2\n",
    "            fig, ax = plt.subplots(4, 2, figsize=(12, 20), sharey=True)\n",
    "\n",
    "            acc_val_mean_iori = []\n",
    "            acc_val_ci_iori = [] # confidence interval based on binomial distribution\n",
    "\n",
    "            for iori in neighbor_ori_pair.keys():\n",
    "                df_pair = df_svc[((df_svc.stim2_id == neighbor_ori_pair[iori]) | (df_svc.stim2_id == iori))]\n",
    "                df_pair_250 = df_pair[df_pair.isi == 250]\n",
    "                df_pair_6000 = df_pair[df_pair.isi == 6000]\n",
    "\n",
    "                ## split train vs test for each isi\n",
    "                X_train_250, y_train_250, _, _ = df_to_train_test(df_pair_250, ref_ori_id=iori, train_only=True) # no test data\n",
    "                X_train_6000, y_train_6000, _, _ = df_to_train_test(df_pair_6000, ref_ori_id=iori, train_only=True)\n",
    "\n",
    "                ## standard scaler normalization\n",
    "                scaler = StandardScaler(with_mean=False, with_std=True)\n",
    "                X_train_250 = scaler.fit_transform(X_train_250, y=y_train_250)\n",
    "                X_train_6000 = scaler.fit_transform(X_train_6000, y=y_train_6000)\n",
    "\n",
    "                ## cross validation to find optimal C\n",
    "                acc_train_mean = []\n",
    "                acc_train_ci = []\n",
    "                acc_val_mean = []\n",
    "                acc_val_ci = [] # confidence interval based on binomial distribution\n",
    "                \n",
    "                # C_list = [1e-2 * 10**i for i in range(5)]\n",
    "                # C_list = [0.1, 0.2, 0.5, 1, 2, 5, 10, 20] # zoom in around 1\n",
    "                C_list = [0.01, 0.02, 0.05, 0.1, 0.2, 0.5, 1] # zoom in around 0.1\n",
    "                for C_val in C_list:\n",
    "                    \n",
    "                    clf = make_pipeline(StandardScaler(),\n",
    "                                        LinearSVC(tol=1e-5, max_iter=int(1e6), \n",
    "                                                penalty='l1', dual=False, C=C_val)\n",
    "                    #                     # SVC(C=C_val, kernel='rbf', gamma='auto', \n",
    "                    #                     #     max_iter=int(1e6))\n",
    "                                        )\n",
    "                    # clf = SVC(kernel='linear', \n",
    "                    #         C=C_val, # penalty has to be L2. NOTE: we no longer use L1 reg\n",
    "                    #         probability=True, random_state=42,\n",
    "                    #         max_iter=-1, \n",
    "                    #         decision_function_shape='ovo',\n",
    "                    #         )\n",
    "                    \n",
    "                    if use_data == 'isi=250':\n",
    "                        score_val = cross_validate(clf, X_train_250, y_train_250, cv=LeaveOneOut(), return_train_score=True)\n",
    "                        # score_val = cross_validate(clf, X_train_250, y_train_250, \n",
    "                        #                     #    cv=LeaveOneOut(), \n",
    "                        #                     cv=5, \n",
    "                        #                     scoring='roc_auc_ovo', # val auROC\n",
    "                        #                     return_train_score=True, # train auROC\n",
    "                        #                     )\n",
    "                    \n",
    "                    elif use_data == 'isi=6k':\n",
    "                        score_val = cross_validate(clf, X_train_6000, y_train_6000, cv=LeaveOneOut(), return_train_score=True)\n",
    "                        # score_val = cross_validate(clf, X_train_6000, y_train_6000, \n",
    "                        #                     #    cv=LeaveOneOut(), \n",
    "                        #                     cv=5, \n",
    "                        #                     scoring='roc_auc_ovo', # val auROC\n",
    "                        #                     return_train_score=True, # train auROC\n",
    "                        #                     )\n",
    "                    \n",
    "                    ## from here on, if using scoring='roc_auc_ovo', then acc_xx is actually auROC_xx\n",
    "                    acc_train_mean.append(np.mean(score_val['train_score']))\n",
    "                    ci_low, ci_high = proportion_confint(count=score_val['train_score'].sum(), nobs=len(score_val['train_score']))\n",
    "                    acc_train_ci.append((ci_high - ci_low) / 2)\n",
    "                    # acc_train_ci.append(np.std(score_val['train_score']))\n",
    "                    \n",
    "                    acc_val_mean.append(np.mean(score_val['test_score']))\n",
    "                    ci_low, ci_high = proportion_confint(count=score_val['test_score'].sum(), nobs=len(score_val['test_score']))\n",
    "                    acc_val_ci.append((ci_high - ci_low) / 2)\n",
    "                    # acc_val_ci.append(np.std(score_val['test_score']))\n",
    "                    \n",
    "                acc_val_mean_iori.append(acc_val_mean)\n",
    "                acc_val_ci_iori.append(acc_val_ci)\n",
    "                    \n",
    "                    \n",
    "                ax[int(iori/ncol), iori%ncol].errorbar(x=C_list, y=acc_train_mean, \n",
    "                            yerr=acc_train_ci, fmt='o', capsize=5, capthick=2, label='train', alpha=0.5)\n",
    "                ax[int(iori/ncol), iori%ncol].errorbar(x=C_list, y=acc_val_mean,\n",
    "                            yerr=acc_val_ci, fmt='o', capsize=5, capthick=2, label='val', alpha=0.5)\n",
    "                \n",
    "                ax[int(iori/ncol), iori%ncol].axhline(y=0.5, color='gray', alpha=0.2, label='chance')\n",
    "                ax[int(iori/ncol), iori%ncol].axhline(y=1, color='k', alpha=0.2, label='1')\n",
    "\n",
    "                ax[int(iori/ncol), iori%ncol].set_xscale('log') # set x axis to log scale\n",
    "                ax[int(iori/ncol), iori%ncol].legend(frameon=False);\n",
    "                ax[int(iori/ncol), iori%ncol].set_title(f'decoder: {int(22.5*iori)} vs {int(22.5*neighbor_ori_pair[iori])} deg');\n",
    "                ax[int(iori/ncol), iori%ncol].set_xlabel('more reg ... <-- C --> ... less reg');\n",
    "                ax[int(iori/ncol), iori%ncol].set_ylabel('accuracy');\n",
    "                \n",
    "            plt.tight_layout()\n",
    "            dir_fig = os.path.join(dir_repo, r'results/decoder_grat8/aware decoder/neighbor, C param tuning/'.replace('\\\\', '/'))\n",
    "            if not os.path.exists(dir_fig): # mkdir if not exist\n",
    "                os.makedirs(dir_fig)\n",
    "            fig.savefig(dir_fig + f'aware_decoder_{use_data}_{filter_cell}_{iarea}_{idatesess}.pdf', bbox_inches='tight')\n",
    "            plt.close(fig)"
   ]
  },
  {
   "cell_type": "markdown",
   "metadata": {},
   "source": [
    "## xp unaware decoder\n",
    "train with both, test with either - assume decoder learned from visual xp"
   ]
  },
  {
   "cell_type": "code",
   "execution_count": 55,
   "metadata": {},
   "outputs": [
    {
     "name": "stdout",
     "output_type": "stream",
     "text": [
      "V1\n",
      "isi=250\n"
     ]
    },
    {
     "name": "stderr",
     "output_type": "stream",
     "text": [
      "100%|██████████| 5/5 [00:23<00:00,  4.79s/it]\n"
     ]
    },
    {
     "name": "stdout",
     "output_type": "stream",
     "text": [
      "isi=6k\n"
     ]
    },
    {
     "name": "stderr",
     "output_type": "stream",
     "text": [
      "100%|██████████| 5/5 [00:23<00:00,  4.78s/it]\n"
     ]
    }
   ],
   "source": [
    "for iarea in ['V1']:\n",
    "            #   , 'LM', 'LI']:\n",
    "    print(iarea)\n",
    "    nsess = df_tidy[df_tidy.area == iarea].groupby(['date', 'sess']).__len__()\n",
    "    \n",
    "    for idatesess in (range(1)): # nsess\n",
    "\n",
    "        # ncell_keep = 999 # check how much overfit if keep all cells\n",
    "        # filter_cell = 'well_fit'\n",
    "        ncell_keep = 15\n",
    "        filter_cell = 'SNR_R1_mod'\n",
    "\n",
    "        df_svc = get_df_svc(df_tidy, \n",
    "                            iarea=iarea, idatesess=idatesess, \n",
    "                            ncell_keep=ncell_keep, \n",
    "                            filter_cell=filter_cell\n",
    "                            )\n",
    "        # if df_svc.cell_id.nunique() < 5:\n",
    "        #     print(f'not enough vis cells: area={iarea}, sess={idatesess}')\n",
    "        #     continue\n",
    "        # tmp = (df_svc.date.unique() + '_' + df_svc.sess.unique())[0]\n",
    "        # if tmp in bad_sess_history: # for xp unaware decoder, inherit bad sess from aware decoder\n",
    "        #     print(f'bad sess due to low val acc on easy task: area={iarea}, sess={idatesess}')\n",
    "        #     continue\n",
    "\n",
    "        tmp = df_svc.stim2_id.unique()\n",
    "        ref_ori_id = 0 # decode which ori vs others. 0=0 deg, 4=90 deg, etc\n",
    "        other_ori = sorted(tmp[tmp != ref_ori_id]) # decode ref vs not ref\n",
    "\n",
    "        for use_data in ['isi=250', 'isi=6k']:\n",
    "            print(use_data)\n",
    "\n",
    "            nrow = 4\n",
    "            ncol = 2\n",
    "            fig, ax = plt.subplots(4, 2, figsize=(12, 20), sharey=True)\n",
    "\n",
    "            acc_val_mean_iori = []\n",
    "            acc_val_ci_iori = [] # confidence interval based on binomial distribution\n",
    "\n",
    "            for iori in (other_ori):\n",
    "                df_pair = df_svc[((df_svc.stim2_id == ref_ori_id) | (df_svc.stim2_id == iori))]\n",
    "                X_train, y_train, _, _ = df_to_train_test(df_pair, ref_ori_id, train_only=True)\n",
    "\n",
    "                ## cross validation to find optimal C\n",
    "                acc_train_mean = []\n",
    "                acc_train_ci = []\n",
    "                acc_val_mean = []\n",
    "                acc_val_ci = [] # confidence interval based on binomial distribution\n",
    "                \n",
    "                C_list = [1e-2 * 10**i for i in range(5)]\n",
    "                # C_list = [0.1, 0.2, 0.5, 1, 2, 5, 10, 20] # zoom in around 1\n",
    "                # C_list = [0.01, 0.02, 0.05, 0.1, 0.2, 0.5, 1] # zoom in around 0.1\n",
    "                for C_val in tqdm(C_list):\n",
    "                    \n",
    "                    clf = make_pipeline(StandardScaler(),\n",
    "                                        LinearSVC(tol=1e-5, max_iter=int(1e6), \n",
    "                                                penalty='l1', dual=False, C=C_val)\n",
    "                                        # SVC(C=C_val, kernel='rbf', gamma='auto', \n",
    "                                        #     max_iter=int(1e6))\n",
    "                                        )\n",
    "                    \n",
    "                    score_val = cross_validate(clf, X_train, y_train, cv=LeaveOneOut(), return_train_score=True)\n",
    "\n",
    "                    ## LeaveOneOut() keeps the order of train data. inherit ISI info from df_to_train_test(df_pair...) & separately calculate acc for each ISI\n",
    "                    isi_arr = df_pair.groupby('trial_id').isi.first().values # same as how we get label_arr (y_train) in df_to_train_test\n",
    "                    if use_data == 'isi=250':\n",
    "                        score_val['train_score'] = score_val['train_score'][isi_arr==250]\n",
    "                        score_val['test_score'] = score_val['test_score'][isi_arr==250]\n",
    "                    elif use_data == 'isi=6k':\n",
    "                        score_val['train_score'] = score_val['train_score'][isi_arr==6000]\n",
    "                        score_val['test_score'] = score_val['test_score'][isi_arr==6000]\n",
    "\n",
    "                    \n",
    "                    acc_train_mean.append(np.mean(score_val['train_score']))\n",
    "                    ci_low, ci_high = proportion_confint(count=score_val['train_score'].sum(), nobs=len(score_val['train_score']))\n",
    "                    acc_train_ci.append((ci_high - ci_low) / 2)\n",
    "                    \n",
    "                    acc_val_mean.append(np.mean(score_val['test_score']))\n",
    "                    ci_low, ci_high = proportion_confint(count=score_val['test_score'].sum(), nobs=len(score_val['test_score']))\n",
    "                    acc_val_ci.append((ci_high - ci_low) / 2)\n",
    "                    \n",
    "                acc_val_mean_iori.append(acc_val_mean)\n",
    "                acc_val_ci_iori.append(acc_val_ci)\n",
    "                    \n",
    "                    \n",
    "                ax[int(iori/ncol), iori%ncol].errorbar(x=C_list, y=acc_train_mean, \n",
    "                            yerr=acc_train_ci, fmt='o', capsize=5, capthick=2, label='train', alpha=0.5)\n",
    "                ax[int(iori/ncol), iori%ncol].errorbar(x=C_list, y=acc_val_mean,\n",
    "                            yerr=acc_val_ci, fmt='o', capsize=5, capthick=2, label='val', alpha=0.5)\n",
    "                \n",
    "                ax[int(iori/ncol), iori%ncol].axhline(y=0.5, color='gray', alpha=0.2, label='chance')\n",
    "                ax[int(iori/ncol), iori%ncol].axhline(y=1, color='k', alpha=0.2, label='1')\n",
    "\n",
    "                ax[int(iori/ncol), iori%ncol].set_xscale('log') # set x axis to log scale\n",
    "                ax[int(iori/ncol), iori%ncol].legend(frameon=False);\n",
    "                ax[int(iori/ncol), iori%ncol].set_title(f'decoder: {int(22.5*iori)} vs {22.5*ref_ori_id} deg');\n",
    "                ax[int(iori/ncol), iori%ncol].set_xlabel('more reg ... <-- C --> ... less reg');\n",
    "                ax[int(iori/ncol), iori%ncol].set_ylabel('accuracy');\n",
    "                \n",
    "            fig.tight_layout()\n",
    "            dir_fig = os.path.join(dir_repo, r'results/decoder_grat8/decoder_grat_2ori/'.replace('\\\\', '/'))\n",
    "            if not os.path.exists(dir_fig): # mkdir if not exist\n",
    "                os.makedirs(dir_fig)\n",
    "            fig.savefig(dir_fig + f'xp_unaware_decoder_2ori_{use_data}_{filter_cell}_{ncell_keep}_{iarea}_{idatesess}.pdf', bbox_inches='tight')\n",
    "            plt.close(fig)\n",
    "        \n",
    "        \n",
    "            # fix_C = 1\n",
    "            # acc_val_C = np.array(acc_val_mean_iori)[:, np.where(np.array(C_list)==fix_C)[0][0]]\n",
    "            # acc_val_ci_C = np.array(acc_val_ci_iori)[:, np.where(np.array(C_list)==fix_C)[0][0]]\n",
    "            # stim2_ori_list = ['0', '22.5', '45', '67.5', '112.5', '135', '157.5']\n",
    "\n",
    "            # plt.errorbar(x=np.arange(len(stim2_ori_list)), \n",
    "            #             y=acc_val_C, \n",
    "            #             yerr=acc_val_ci_C, \n",
    "            #             fmt='o', color='b', alpha=0.5, ecolor='lightgray', elinewidth=3, capsize=0);\n",
    "\n",
    "            # stim2_ori_list = ['0', '22.5', '45', '67.5', '112.5', '135', '157.5']\n",
    "            # plt.xticks(np.arange(len(stim2_ori_list)), stim2_ori_list);\n",
    "            # plt.xlabel('stim2_ori')\n",
    "            # plt.ylabel(f'acc_val');\n",
    "\n",
    "            # title_str = f'aware decoder stim2_dist, C={fix_C}, {use_data}, {filter_cell}_{iarea}_{idatesess}'\n",
    "            # plt.title(title_str);\n",
    "            # plt.savefig(dir_fig + f'{title_str}.pdf', bbox_inches='tight')\n",
    "            # plt.close()"
   ]
  },
  {
   "cell_type": "markdown",
   "metadata": {},
   "source": [
    "# decoder across isi\n",
    "area subplot, isi color, date_sess concat acc errorbar  \n",
    "fixed C"
   ]
  },
  {
   "cell_type": "markdown",
   "metadata": {},
   "source": [
    "## aware decoder neighbor"
   ]
  },
  {
   "cell_type": "code",
   "execution_count": 118,
   "metadata": {},
   "outputs": [
    {
     "name": "stdout",
     "output_type": "stream",
     "text": [
      "V1\n"
     ]
    },
    {
     "name": "stderr",
     "output_type": "stream",
     "text": [
      "100%|██████████| 1/1 [00:02<00:00,  2.32s/it]\n",
      "100%|██████████| 1/1 [00:02<00:00,  2.30s/it]\n"
     ]
    }
   ],
   "source": [
    "decoder_type = 'linear SVM'\n",
    "neighbor_ori_pair = {1:0, 2:1, 3:2, 4:3, # decode 22 vs 0, 45 vs 22, ... 90 vs 67\n",
    "                    7:0, 6:7, 5:6, 4:5,} # decode -22 vs 0, -45 vs -22, ... -90 vs -67\n",
    "ncell_keep = 15\n",
    "filter_cell = 'SNR_R1_mod' # TODO: try well-max\n",
    "C_init = 0.1\n",
    "\n",
    "\n",
    "if decoder_type == 'random forest':\n",
    "    df_perf = pd.DataFrame(columns=['area', 'isi', 'sess', 'ori', \n",
    "                                    'true_pos', 'n_sample', 'val_acc', # three var for val acc\n",
    "                                    ])\n",
    "elif decoder_type == 'linear SVM':\n",
    "    df_perf = pd.DataFrame(columns=['area', 'isi', 'sess', 'ori', \n",
    "                                    'true_pos', 'n_sample', 'val_acc', # three var for val acc\n",
    "                                    'true_pos_train', 'n_sample_train', 'train_acc', # three var for train acc\n",
    "                                    'C', 'bad_fit'])\n",
    "    \n",
    "for iarea in ['V1',]:\n",
    "    print(iarea)\n",
    "\n",
    "    for use_data in ['isi=250', 'isi=6k']:\n",
    "        nsess_iarea = (df_tidy[(df_tidy.area == iarea) \n",
    "                            & (df_tidy.filter_cell_vis == True)] # some LI sessions have no vis cell\n",
    "                        .groupby(['date', 'sess'])\n",
    "                        .first().__len__())\n",
    "        \n",
    "        for isess in tqdm(range(nsess_iarea)):\n",
    "            df_svc = get_df_svc(df_tidy, iarea=iarea, idatesess=isess, \n",
    "                                ncell_keep=ncell_keep, \n",
    "                                filter_cell=filter_cell)\n",
    "            # if df_svc.cell_id.nunique() < 5:\n",
    "            #     print(f'not enough vis cells: area={iarea}, sess={isess}')\n",
    "            #     continue\n",
    "            # tmp = (df_svc.date.unique() + '_' + df_svc.sess.unique())[0]\n",
    "            # if tmp in bad_sess_history:\n",
    "            #     print(f'bad sess due to low val acc on easy task: area={iarea}, sess={isess}')\n",
    "            #     continue # NOTE: don't skip bad sess, bc we switched to neighbor ori pair\n",
    "\n",
    "            for iori in (other_ori):\n",
    "                df_pair = df_svc[((df_svc.stim2_id == neighbor_ori_pair[iori]) | (df_svc.stim2_id == iori))]\n",
    "                df_pair_250 = df_pair[df_pair.isi == 250]\n",
    "                df_pair_6000 = df_pair[df_pair.isi == 6000]\n",
    "\n",
    "                X_train_250, y_train_250, _, _ = df_to_train_test(df_pair_250, ref_ori_id=iori, train_only=True) # no test data\n",
    "                X_train_6000, y_train_6000, _, _ = df_to_train_test(df_pair_6000, ref_ori_id=iori, train_only=True)\n",
    "\n",
    "                ## standard scaler normalization\n",
    "                scaler = StandardScaler(with_mean=False, with_std=True)\n",
    "                X_train_250 = scaler.fit_transform(X_train_250, y=y_train_250)\n",
    "                X_train_6000 = scaler.fit_transform(X_train_6000, y=y_train_6000)\n",
    "\n",
    "                if decoder_type == 'random forest':\n",
    "                    clf = make_pipeline(StandardScaler(),\n",
    "                                        RandomForestClassifier(n_estimators=100,\n",
    "                                                            random_state=42,\n",
    "                                                            bootstrap=True, oob_score=True, \n",
    "                                                            n_jobs=-1)\n",
    "                                        )\n",
    "                    \n",
    "                    if use_data == 'isi=250':\n",
    "                        clf.fit(X_train_250, y_train_250)\n",
    "                        n_sample = len(y_train_250)\n",
    "                    elif use_data == 'isi=6k':\n",
    "                        clf.fit(X_train_6000, y_train_6000)\n",
    "                        n_sample = len(y_train_6000)\n",
    "\n",
    "                    val_acc = clf.named_steps.randomforestclassifier.oob_score_\n",
    "                    true_pos = val_acc * n_sample\n",
    "                    df_newline = pd.DataFrame({'area': iarea, 'isi': use_data, 'sess': isess, 'ori': iori,\n",
    "                                                'true_pos': true_pos, 'n_sample': n_sample, \n",
    "                                                'val_acc': val_acc\n",
    "                                                }, \n",
    "                                                columns=df_perf.columns, \n",
    "                                                index=[0])\n",
    "                    df_perf = pd.concat([df_newline, df_perf], ignore_index=True)\n",
    "\n",
    "\n",
    "                elif decoder_type == 'linear SVM':\n",
    "                    C_current = C_init # reset C_current, then find optimal C for this area-isi-sess-ori\n",
    "                    niter = 0\n",
    "                    max_iter = 4\n",
    "                    while niter < max_iter: # limit number of iteration to avoid infinite loop (can't believe I didn't foresee this)\n",
    "                        clf = make_pipeline(StandardScaler(),\n",
    "                                            LinearSVC(tol=1e-5, max_iter=int(1e7), \n",
    "                                                    penalty='l1', dual='auto', C=C_current))\n",
    "                        # clf = SVC(kernel='linear', \n",
    "                        #     C=C_val, # penalty has to be L2. NOTE: this no longer use L1 reg\n",
    "                        #     probability=True, random_state=42,\n",
    "                        #     max_iter=-1, \n",
    "                        #     decision_function_shape='ovo',\n",
    "                        #     )\n",
    "                        # clf = LinearSVC(max_iter=int(1e7), \n",
    "                        #                 penalty='l1', dual='auto', C=C_current)\n",
    "                        # nfold = 5\n",
    "\n",
    "                        if use_data == 'isi=250':\n",
    "                            # score_val = cross_validate(clf, X_train_250, y_train_250, cv=LeaveOneOut(), return_train_score=True)\n",
    "                            X_train = X_train_250.copy()\n",
    "                            y_train = y_train_250.copy()\n",
    "                        elif use_data == 'isi=6k':\n",
    "                            # score_val = cross_validate(clf, X_train_6000, y_train_6000, cv=LeaveOneOut(), return_train_score=True)\n",
    "                            X_train = X_train_6000.copy()\n",
    "                            y_train = y_train_6000.copy()\n",
    "                        score_val = cross_validate(clf, X_train, y_train, \n",
    "                                                    cv=LeaveOneOut(), \n",
    "                                                    # cv=nfold, \n",
    "                                                    # scoring='roc_auc_ovo', # val auROC\n",
    "                                                    return_train_score=True, # train auROC\n",
    "                                                    )\n",
    "\n",
    "                        ## from here on, if using scoring='roc_auc_ovo', then acc_xx is actually auROC_xx\n",
    "                        if (np.mean(score_val['train_score']) <= 0.5) or (np.mean(score_val['test_score']) <= 0.5): # acc is too low, underfit\n",
    "                            C_current *= 2\n",
    "                            niter += 1\n",
    "                            print(f'train acc underfit: area={iarea}, sess={isess}, isi={use_data}, ori={iori}')\n",
    "                        elif np.min(score_val['train_score']) >= 1: # NOTE: had to relax from mean to min, somehow very easy to get train auROC=1\n",
    "                            C_current /= 2\n",
    "                            niter += 1\n",
    "                            print(f'train acc overfit: area={iarea}, sess={isess}, isi={use_data}, ori={iori}')\n",
    "                        else:\n",
    "                            break # record res, stop searching for C\n",
    "\n",
    "                    ## outside of while loop, record res\n",
    "                    # n_sample = len(y_train) / nfold\n",
    "                    # true_pos = score_val['test_score'].mean() * n_sample\n",
    "                    # n_sample_train = len(y_train) - n_sample\n",
    "                    # true_pos_train = score_val['train_score'].mean() * n_sample_train\n",
    "                    true_pos = score_val['test_score'].sum()\n",
    "                    n_sample = len(score_val['test_score'])\n",
    "                    n_sample_train = n_sample - 1 # leave one out (LOO)\n",
    "                    true_pos_train = score_val['train_score'].mean() * n_sample_train # mean train acc across LOO attempts\n",
    "\n",
    "                    bad_fit = False\n",
    "                    if niter == max_iter: # too many tries, this is a bad fit\n",
    "                        print(f'unable to fit: area={iarea}, sess={isess}, isi={use_data}, ori={iori}, C={C_current}')\n",
    "                        bad_fit = True\n",
    "\n",
    "                    df_newline = pd.DataFrame({'area': iarea, 'isi': use_data, 'sess': isess, 'ori': iori,\n",
    "                                                'true_pos': true_pos, 'n_sample': n_sample, \n",
    "                                                'val_acc': np.mean(score_val['test_score']), \n",
    "                                                'true_pos_train': true_pos_train, 'n_sample_train': n_sample_train, \n",
    "                                                'train_acc': np.mean(score_val['train_score']),\n",
    "                                                'C': C_current, 'bad_fit': bad_fit}, \n",
    "                                                columns=df_perf.columns, \n",
    "                                                index=[0])\n",
    "                    df_perf = pd.concat([df_newline, df_perf], ignore_index=True)\n",
    "\n",
    "## 3 min to run linear SVM, ? min to run random forest"
   ]
  },
  {
   "cell_type": "code",
   "execution_count": 121,
   "metadata": {},
   "outputs": [
    {
     "data": {
      "text/html": [
       "<div>\n",
       "<style scoped>\n",
       "    .dataframe tbody tr th:only-of-type {\n",
       "        vertical-align: middle;\n",
       "    }\n",
       "\n",
       "    .dataframe tbody tr th {\n",
       "        vertical-align: top;\n",
       "    }\n",
       "\n",
       "    .dataframe thead th {\n",
       "        text-align: right;\n",
       "    }\n",
       "</style>\n",
       "<table border=\"1\" class=\"dataframe\">\n",
       "  <thead>\n",
       "    <tr style=\"text-align: right;\">\n",
       "      <th></th>\n",
       "      <th>area</th>\n",
       "      <th>isi</th>\n",
       "      <th>sess</th>\n",
       "      <th>ori</th>\n",
       "      <th>true_pos</th>\n",
       "      <th>n_sample</th>\n",
       "      <th>val_acc</th>\n",
       "      <th>true_pos_train</th>\n",
       "      <th>n_sample_train</th>\n",
       "      <th>train_acc</th>\n",
       "      <th>C</th>\n",
       "      <th>bad_fit</th>\n",
       "    </tr>\n",
       "  </thead>\n",
       "  <tbody>\n",
       "    <tr>\n",
       "      <th>0</th>\n",
       "      <td>V1</td>\n",
       "      <td>isi=6k</td>\n",
       "      <td>0</td>\n",
       "      <td>1</td>\n",
       "      <td>490.0</td>\n",
       "      <td>779</td>\n",
       "      <td>0.629012</td>\n",
       "      <td>501.453145</td>\n",
       "      <td>778</td>\n",
       "      <td>0.644541</td>\n",
       "      <td>0.1</td>\n",
       "      <td>False</td>\n",
       "    </tr>\n",
       "    <tr>\n",
       "      <th>1</th>\n",
       "      <td>V1</td>\n",
       "      <td>isi=250</td>\n",
       "      <td>0</td>\n",
       "      <td>1</td>\n",
       "      <td>440.0</td>\n",
       "      <td>777</td>\n",
       "      <td>0.566281</td>\n",
       "      <td>461.320463</td>\n",
       "      <td>776</td>\n",
       "      <td>0.594485</td>\n",
       "      <td>0.1</td>\n",
       "      <td>False</td>\n",
       "    </tr>\n",
       "  </tbody>\n",
       "</table>\n",
       "</div>"
      ],
      "text/plain": [
       "  area      isi sess ori  true_pos n_sample   val_acc  true_pos_train  \\\n",
       "0   V1   isi=6k    0   1     490.0      779  0.629012      501.453145   \n",
       "1   V1  isi=250    0   1     440.0      777  0.566281      461.320463   \n",
       "\n",
       "  n_sample_train  train_acc    C bad_fit  \n",
       "0            778   0.644541  0.1   False  \n",
       "1            776   0.594485  0.1   False  "
      ]
     },
     "execution_count": 121,
     "metadata": {},
     "output_type": "execute_result"
    }
   ],
   "source": [
    "df_perf"
   ]
  },
  {
   "cell_type": "markdown",
   "metadata": {},
   "source": [
    "## errorbar as binomial CI"
   ]
  },
  {
   "cell_type": "code",
   "execution_count": 129,
   "metadata": {},
   "outputs": [
    {
     "data": {
      "image/png": "[encoded data removed]",
      "text/plain": [
       "<Figure size 1000x400 with 3 Axes>"
      ]
     },
     "metadata": {},
     "output_type": "display_data"
    }
   ],
   "source": [
    "plot_perf = 'val'\n",
    "df_perf['ori_dist_id'] = df_perf.ori.apply(lambda x: stim2_dict[x])\n",
    "\n",
    "if plot_perf == 'val':\n",
    "    tmp = df_perf.groupby(['area', 'isi', 'ori_dist_id'])[['true_pos', 'n_sample']].sum().reset_index()\n",
    "    tmp['acc'] = tmp.true_pos / tmp.n_sample\n",
    "    tmp['ci'] = tmp.apply(lambda x: proportion_confint(count=x.true_pos, nobs=x.n_sample), axis=1)\n",
    "    tmp['err'] = tmp.apply(lambda x: (x.ci[1] - x.ci[0]) / 2, axis=1)\n",
    "\n",
    "elif plot_perf == 'train':\n",
    "    tmp = df_perf.groupby(['area', 'isi', 'ori_dist_id'])[['true_pos_train', 'n_sample_train']].sum().reset_index()\n",
    "    tmp['acc'] = tmp.true_pos_train / tmp.n_sample_train\n",
    "    tmp['ci'] = tmp.apply(lambda x: proportion_confint(count=x.true_pos_train, nobs=x.n_sample_train), axis=1)\n",
    "    tmp['err'] = tmp.apply(lambda x: (x.ci[1] - x.ci[0]) / 2, axis=1)\n",
    "\n",
    "color_list = '85a7eb-3e51cc-f6cd51-c48a5a-d1a6de-8c75e6'\n",
    "color_list = color_list.split('-') # V1 (unadapted, adapted) - LM (unadapted, adapted) - LI (unadapted, adapted)\n",
    "color_list = ['#' + i for i in color_list]\n",
    "color_list_noad = color_list[::2]\n",
    "color_list_250 = color_list[1::2]\n",
    "\n",
    "fig, ax = plt.subplots(1, 3, figsize=(10, 4), sharex=True, sharey=True)\n",
    "for (i, iarea) in enumerate(['V1', 'LM', 'LI']):\n",
    "    for (j, iisi) in enumerate(['isi=250', 'isi=6k', ]):\n",
    "        \n",
    "        tmp1 = tmp[(tmp.area == iarea) & (tmp.isi == iisi)].acc.values\n",
    "        tmp2 = tmp[(tmp.area == iarea) & (tmp.isi == iisi)].err.values\n",
    "\n",
    "        ## insert chance level acc to start of array (where ori_dist_id = 0)\n",
    "        tmp1 = np.insert(tmp1, 0, 0.5)\n",
    "        tmp2 = np.insert(tmp2, 0, 0)\n",
    "        \n",
    "        ax[i].errorbar(x=np.arange(len(tmp1)) + j*0.05, \n",
    "                    y=tmp1, \n",
    "                    yerr=tmp2, \n",
    "                    # fmt='o', \n",
    "                    linewidth=3,\n",
    "                    alpha=0.9, \n",
    "                    label=f'{iarea} {iisi} ms', \n",
    "                    color=color_list[i*2+j], #ecolor='lightgray', elinewidth=3, capsize=0\n",
    "                    );\n",
    "\n",
    "    \n",
    "    ax[i].set_xticks(np.arange(len(tmp1)));\n",
    "    # if ref_ori_id == 0:\n",
    "    #     ax[i].set_xticklabels(['0', '22.5', '45', '67.5', '90']);\n",
    "    # elif ref_ori_id == 4:\n",
    "    #     ax[i].set_xticklabels(['90', '67.5', '45', '22.5']);\n",
    "    ax[i].tick_params(axis='both', which='major', labelsize=14)\n",
    "    ax[i].set_ylim(0.4, 1);\n",
    "    ax[i].legend(frameon=False, loc='upper right', fontsize=12);\n",
    "    # ax[i].set_title(iarea);\n",
    "\n",
    "ax[0].set_ylabel('Linear SVM Accuracy', fontsize=16);\n",
    "ax[1].set_xlabel('Stim2 Distance from Adapter (Deg)', fontsize=16);\n",
    "    \n",
    "# plt.suptitle(f'err=binom, {plot_perf} acc')\n",
    "plt.tight_layout();\n",
    "sns.despine();\n",
    "dir_fig = os.path.join(dir_repo, r'results\\decoder_grat8/'.replace('\\\\', '/'))\n",
    "# fig.savefig(dir_fig + 'aware_decoder_large_ntrial.svg', bbox_inches='tight')"
   ]
  },
  {
   "cell_type": "markdown",
   "metadata": {},
   "source": [
    "# fig4: decorr"
   ]
  },
  {
   "cell_type": "markdown",
   "metadata": {},
   "source": [
    "## read csv for well-max"
   ]
  },
  {
   "cell_type": "code",
   "execution_count": 56,
   "metadata": {},
   "outputs": [
    {
     "data": {
      "text/html": [
       "<div>\n",
       "<style scoped>\n",
       "    .dataframe tbody tr th:only-of-type {\n",
       "        vertical-align: middle;\n",
       "    }\n",
       "\n",
       "    .dataframe tbody tr th {\n",
       "        vertical-align: top;\n",
       "    }\n",
       "\n",
       "    .dataframe thead th {\n",
       "        text-align: right;\n",
       "    }\n",
       "</style>\n",
       "<table border=\"1\" class=\"dataframe\">\n",
       "  <thead>\n",
       "    <tr style=\"text-align: right;\">\n",
       "      <th></th>\n",
       "      <th>dfof</th>\n",
       "      <th>cell_id</th>\n",
       "      <th>trial_id</th>\n",
       "      <th>resp_id</th>\n",
       "      <th>isi</th>\n",
       "      <th>stim1_contrast</th>\n",
       "      <th>stim2_id</th>\n",
       "      <th>area</th>\n",
       "      <th>stim1_id</th>\n",
       "      <th>filter_cell_vis</th>\n",
       "      <th>filter_cell_vis_pval</th>\n",
       "      <th>filter_cell_stim</th>\n",
       "      <th>mouse</th>\n",
       "      <th>date</th>\n",
       "      <th>sess</th>\n",
       "      <th>stim2_dist_id</th>\n",
       "      <th>filter_cell_well_fit</th>\n",
       "    </tr>\n",
       "  </thead>\n",
       "  <tbody>\n",
       "    <tr>\n",
       "      <th>200785</th>\n",
       "      <td>0.079458</td>\n",
       "      <td>240206_003_66</td>\n",
       "      <td>187</td>\n",
       "      <td>R2</td>\n",
       "      <td>250</td>\n",
       "      <td>1</td>\n",
       "      <td>0</td>\n",
       "      <td>V1</td>\n",
       "      <td>0</td>\n",
       "      <td>True</td>\n",
       "      <td>3.289156e-16</td>\n",
       "      <td>True</td>\n",
       "      <td>1380</td>\n",
       "      <td>240206</td>\n",
       "      <td>003</td>\n",
       "      <td>0</td>\n",
       "      <td>NaN</td>\n",
       "    </tr>\n",
       "    <tr>\n",
       "      <th>80419</th>\n",
       "      <td>0.013861</td>\n",
       "      <td>240206_003_103</td>\n",
       "      <td>779</td>\n",
       "      <td>R1</td>\n",
       "      <td>250</td>\n",
       "      <td>1</td>\n",
       "      <td>1</td>\n",
       "      <td>V1</td>\n",
       "      <td>0</td>\n",
       "      <td>True</td>\n",
       "      <td>3.298843e-14</td>\n",
       "      <td>True</td>\n",
       "      <td>1380</td>\n",
       "      <td>240206</td>\n",
       "      <td>003</td>\n",
       "      <td>1</td>\n",
       "      <td>NaN</td>\n",
       "    </tr>\n",
       "    <tr>\n",
       "      <th>270833</th>\n",
       "      <td>0.000347</td>\n",
       "      <td>240206_003_111</td>\n",
       "      <td>215</td>\n",
       "      <td>R2</td>\n",
       "      <td>6000</td>\n",
       "      <td>0</td>\n",
       "      <td>1</td>\n",
       "      <td>V1</td>\n",
       "      <td>0</td>\n",
       "      <td>False</td>\n",
       "      <td>4.697552e-14</td>\n",
       "      <td>False</td>\n",
       "      <td>1380</td>\n",
       "      <td>240206</td>\n",
       "      <td>003</td>\n",
       "      <td>1</td>\n",
       "      <td>NaN</td>\n",
       "    </tr>\n",
       "    <tr>\n",
       "      <th>204754</th>\n",
       "      <td>0.053211</td>\n",
       "      <td>240206_003_68</td>\n",
       "      <td>1044</td>\n",
       "      <td>R2</td>\n",
       "      <td>250</td>\n",
       "      <td>1</td>\n",
       "      <td>1</td>\n",
       "      <td>V1</td>\n",
       "      <td>0</td>\n",
       "      <td>True</td>\n",
       "      <td>3.470334e-30</td>\n",
       "      <td>True</td>\n",
       "      <td>1380</td>\n",
       "      <td>240206</td>\n",
       "      <td>003</td>\n",
       "      <td>1</td>\n",
       "      <td>NaN</td>\n",
       "    </tr>\n",
       "    <tr>\n",
       "      <th>72266</th>\n",
       "      <td>-0.008494</td>\n",
       "      <td>240206_003_93</td>\n",
       "      <td>9</td>\n",
       "      <td>R1</td>\n",
       "      <td>250</td>\n",
       "      <td>1</td>\n",
       "      <td>1</td>\n",
       "      <td>V1</td>\n",
       "      <td>0</td>\n",
       "      <td>False</td>\n",
       "      <td>1.894864e-12</td>\n",
       "      <td>False</td>\n",
       "      <td>1380</td>\n",
       "      <td>240206</td>\n",
       "      <td>003</td>\n",
       "      <td>1</td>\n",
       "      <td>NaN</td>\n",
       "    </tr>\n",
       "  </tbody>\n",
       "</table>\n",
       "</div>"
      ],
      "text/plain": [
       "            dfof         cell_id  trial_id resp_id   isi  stim1_contrast  \\\n",
       "200785  0.079458   240206_003_66       187      R2   250               1   \n",
       "80419   0.013861  240206_003_103       779      R1   250               1   \n",
       "270833  0.000347  240206_003_111       215      R2  6000               0   \n",
       "204754  0.053211   240206_003_68      1044      R2   250               1   \n",
       "72266  -0.008494   240206_003_93         9      R1   250               1   \n",
       "\n",
       "        stim2_id area  stim1_id  filter_cell_vis  filter_cell_vis_pval  \\\n",
       "200785         0   V1         0             True          3.289156e-16   \n",
       "80419          1   V1         0             True          3.298843e-14   \n",
       "270833         1   V1         0            False          4.697552e-14   \n",
       "204754         1   V1         0             True          3.470334e-30   \n",
       "72266          1   V1         0            False          1.894864e-12   \n",
       "\n",
       "        filter_cell_stim mouse    date sess  stim2_dist_id  \\\n",
       "200785              True  1380  240206  003              0   \n",
       "80419               True  1380  240206  003              1   \n",
       "270833             False  1380  240206  003              1   \n",
       "204754              True  1380  240206  003              1   \n",
       "72266              False  1380  240206  003              1   \n",
       "\n",
       "        filter_cell_well_fit  \n",
       "200785                   NaN  \n",
       "80419                    NaN  \n",
       "270833                   NaN  \n",
       "204754                   NaN  \n",
       "72266                    NaN  "
      ]
     },
     "execution_count": 56,
     "metadata": {},
     "output_type": "execute_result"
    }
   ],
   "source": [
    "# dir_data = r'\\\\duhs-user-nc1.dhe.duke.edu\\dusom_glickfeldlab\\All_Staff\\home\\lan\\Data\\2P_images\\mat_inter\\df tidy for plots/'.replace('\\\\', '/')\n",
    "# # df_tidy.to_csv(os.path.join(dir_data, 'df_tidy_tuning_bias_wellmax.csv'), index=False) # takes 80 sec\n",
    "# df_tidy = pd.read_csv(os.path.join(dir_data, 'df_tidy_tuning_bias_wellmax.csv')) # 9 sec\n",
    "df_tidy.sample(5, random_state=0)"
   ]
  },
  {
   "cell_type": "markdown",
   "metadata": {},
   "source": [
    "## bootstrap for decorr"
   ]
  },
  {
   "cell_type": "code",
   "execution_count": 67,
   "metadata": {},
   "outputs": [],
   "source": [
    "pd.options.mode.chained_assignment = None  # default='warn' # suppress SettingWithCopyWarning\n",
    "\n",
    "def get_df_decorr(df_tidy, current_area, filter_cell=None):\n",
    "    ## TODO: add back filter cell well_fit, well_max\n",
    "    df_decorr = df_tidy[['dfof', \n",
    "                        'cell_id', 'resp_id', 'isi', 'stim2_id', 'trial_id', \n",
    "                        'filter_cell_vis', 'filter_cell_stim', # 'filter_cell_well_fit', 'filter_cell_well_max',\n",
    "                        'area', 'mouse', 'date', 'sess'\n",
    "                        ]]\n",
    "\n",
    "    df_decorr['stim2_dist'] = df_decorr.stim2_id.apply(lambda x: 22.5*(8-x) if x > 4 else 22.5*x) \n",
    "                              # stim2 distance from 0 deg, hard coded for 8 ori. TODO: modify if needed\n",
    "    \n",
    "    df_decorr['date_sess'] = df_decorr.date.astype(str) + '_' + df_decorr.sess.astype(str)\n",
    "    df_decorr['trial_id'] = df_decorr['date_sess'] + '_' + df_decorr['trial_id'].astype(str) # make trial_id unique across datesess\n",
    "\n",
    "    df_decorr = df_decorr[(df_decorr.isi != 750)\n",
    "                          & (df_decorr.resp_id == 'R2') # repre of 8ori, with or without 0 deg adapter\n",
    "                          & (df_decorr.area == current_area)\n",
    "                          & (df_decorr.filter_cell_vis == True)\n",
    "                         ]\n",
    "    if filter_cell == 'well_fit':\n",
    "        df_decorr = df_decorr[(df_decorr.filter_cell_well_fit == True)]\n",
    "    elif filter_cell == 'well_max':\n",
    "        well_max_cell = df_decorr[(df_decorr.filter_cell_well_max == True)].cell_id.unique() # NOTE: well_max is for each cell and isi\n",
    "        df_decorr = df_decorr[df_decorr.cell_id.isin(well_max_cell)]\n",
    "    \n",
    "    return df_decorr"
   ]
  },
  {
   "cell_type": "code",
   "execution_count": 68,
   "metadata": {},
   "outputs": [],
   "source": [
    "def sim_sess(df_decorr, ref_ori=90, metric='cos_sim'):\n",
    "    df_sim = pd.DataFrame(columns=['isi', 'stim2_dist', 'date_sess', 'sim'])\n",
    "    sim_across_sess = []\n",
    "    for idatesess in tqdm(df_decorr.date_sess.unique()):\n",
    "\n",
    "        ## discard if not enough ncell (when using well-max filter)\n",
    "        if df_decorr[df_decorr.date_sess == idatesess].cell_id.nunique() <= 10: \n",
    "            continue\n",
    "        \n",
    "        df_pop_vec = (df_decorr[df_decorr.date_sess == idatesess]\n",
    "                    .groupby(['isi', 'stim2_dist', 'cell_id'])\n",
    "                    .dfof.mean().reset_index()\n",
    "                    .pivot_table(index=['isi', 'stim2_dist'], columns='cell_id', values='dfof')\n",
    "                    ) # rows: isi 250 -> 6000, within each isi, stim2_dist 0 -> 90. cols: cell_id\n",
    "        nori = df_decorr.stim2_dist.nunique()\n",
    "        nisi_now = df_decorr.isi.nunique() # discarded isi 750\n",
    "        # isi_list = df_decorr.isi.unique()\n",
    "        isi_list = [250, 6000] # same as df_pop_vec isi order\n",
    "\n",
    "        sim_isess = []\n",
    "        for iisi in range(nisi_now):\n",
    "            if ref_ori == 90:\n",
    "                iref = iisi*nori + 4  # -1 (0-based indexing) and +1 (go to next isi) cancel out\n",
    "                pop_vec_ref = df_pop_vec.iloc[iref, :].values # reference pop vec: ref ori target resp\n",
    "            elif ref_ori == 0:\n",
    "                iref = iisi*nori\n",
    "                pop_vec_ref = df_pop_vec.iloc[iref, :].values\n",
    "\n",
    "            for iori in range(nori): # iori = 0-4, aka ori distance from ref ori\n",
    "                irow = iisi * nori + iori\n",
    "                pop_vec_ori = df_pop_vec.iloc[irow, :].values\n",
    "\n",
    "                if ref_ori == 'neighbor':\n",
    "                    if iori > 0:\n",
    "                        pop_vec_ref = df_pop_vec.iloc[irow-1, :].values # take the previous ori (aka left neighbor) as ref\n",
    "                    else:\n",
    "                        pop_vec_ref = pop_vec_ori.copy() # for iori = 0, ref is itself\n",
    "\n",
    "                if metric == 'cos_sim':\n",
    "                    sim = dot(pop_vec_ref, pop_vec_ori) / (norm(pop_vec_ref) * norm(pop_vec_ori))\n",
    "                elif metric == 'dot_prod':\n",
    "                    sim = dot(pop_vec_ref, pop_vec_ori)\n",
    "                elif metric == 'neural_angle':\n",
    "                    tmp = dot(pop_vec_ref, pop_vec_ori) / (norm(pop_vec_ref) * norm(pop_vec_ori))\n",
    "                    tmp = np.round(tmp, 4) # prevent numerical error like 1.0000000000000002\n",
    "                    sim = np.arccos(tmp) * 180 / np.pi # cos_simil to simil rad to deg, \"neural angle\"\n",
    "                    \n",
    "                df_sim = pd.concat([df_sim, pd.DataFrame({'isi': isi_list[iisi], 'stim2_dist': iori, 'date_sess': idatesess, 'sim': sim}, index=[0])])\n",
    "                sim_isess.append(sim)\n",
    "        sim_across_sess.append(sim_isess) # n of decorrelation pairs (nisi * nori)    \n",
    "    sim_across_sess = np.array(sim_across_sess) # n of boot x n of decorrelation pairs (nisi * nori). NOTE: isi order is 250 -> 6000\n",
    "    return sim_across_sess, df_sim"
   ]
  },
  {
   "cell_type": "code",
   "execution_count": 70,
   "metadata": {},
   "outputs": [
    {
     "name": "stderr",
     "output_type": "stream",
     "text": [
      "100%|██████████| 1/1 [00:00<00:00,  9.80it/s]\n",
      "100%|██████████| 1/1 [00:00<00:00, 10.31it/s]\n"
     ]
    }
   ],
   "source": [
    "# ### well max filter\n",
    "\n",
    "# df_decorr_V1 = get_df_decorr(df_tidy, current_area='V1', filter_cell='well_max')\n",
    "# df_decorr_LM = get_df_decorr(df_tidy, current_area='LM', filter_cell='well_max')\n",
    "# df_decorr_LI = get_df_decorr(df_tidy, current_area='LI', filter_cell='well_max')\n",
    "\n",
    "df_decorr_V1 = get_df_decorr(df_tidy, current_area='V1', filter_cell=None)\n",
    "cos_sim_V1_neighbor_sess, df_cossim_V1_neighbor_sess = sim_sess(df_decorr_V1, ref_ori='neighbor', metric='cos_sim')\n",
    "dot_prod_V1_neighbor_sess, df_prod_V1_neighbor_sess = sim_sess(df_decorr_V1, ref_ori='neighbor', metric='dot_prod')"
   ]
  },
  {
   "cell_type": "markdown",
   "metadata": {},
   "source": [
    "### noise"
   ]
  },
  {
   "cell_type": "code",
   "execution_count": 73,
   "metadata": {},
   "outputs": [],
   "source": [
    "def snr_pop_vec_sess_1trial(df_decorr):\n",
    "    df_noise = pd.DataFrame(columns=['isi', 'stim2_dist', 'date_sess', 'noise'])\n",
    "    noise_sess = []\n",
    "    for idatesess in tqdm(df_decorr.date_sess.unique()):\n",
    "        \n",
    "        ## discard if not enough ncell (when using well-max filter)\n",
    "        if df_decorr[df_decorr.date_sess == idatesess].cell_id.nunique() <= 5: \n",
    "            continue\n",
    "\n",
    "        df_decorr_sess = df_decorr[df_decorr.date_sess == idatesess]\n",
    "        ncell_sess = df_decorr_sess.cell_id.nunique()\n",
    "\n",
    "        ## get pop_vec_avg of each isi-stim2_dist condition\n",
    "        df_pop_vec_agg = (df_decorr_sess\n",
    "                            .groupby(['isi', 'stim2_dist', 'cell_id'])\n",
    "                            .dfof.mean().reset_index() # cell-level agg, under each isi-stim2_dist condition\n",
    "                            .pivot_table(index=['isi', 'stim2_dist'], columns='cell_id', values='dfof') # df allows duplicate columns\n",
    "                            )\n",
    "        \n",
    "        ## get pop_vec of single trials\n",
    "        noise_isess = [] # noise in sess, across isi-stim2_dist condition\n",
    "        isi_arr = np.array([250, 6000]) # isi is sorted in df_pop_vec_agg due to pivot_table\n",
    "        stim2_dist_arr = np.arange(0, 22.5+1, 22.5)\n",
    "\n",
    "        for iisi, isi_val in enumerate(isi_arr):\n",
    "            for idist, dist_val in enumerate(stim2_dist_arr):\n",
    "                pop_vec_1trial_cond = (df_decorr_sess[(df_decorr_sess.isi == isi_val) \n",
    "                                                        & (df_decorr_sess.stim2_dist == dist_val)]\n",
    "                                                        .pivot_table(index='trial_id', columns='cell_id', values='dfof')\n",
    "                                                        .values) # ntrial x ncell\n",
    "                pop_vec_agg_cond = df_pop_vec_agg.loc[(isi_val, dist_val), :].values # 1 x ncell\n",
    "                noise = pop_vec_1trial_cond - pop_vec_agg_cond\n",
    "                noise_across_trial = np.mean(noise, axis=0) # avg across trials\n",
    "                noise_norm = np.linalg.norm(noise_across_trial) / np.sqrt(ncell_sess) # linalg.norm across cells (pop vec), then normalize by sqrt(ncell)\n",
    "                \n",
    "                noise_isess.append(noise_norm)\n",
    "                df_noise = pd.concat([df_noise, pd.DataFrame({'isi': isi_val, 'stim2_dist': dist_val, 'date_sess': idatesess, 'noise': noise_norm}, index=[0])])\n",
    "        noise_sess.append(noise_isess) # n of decorrelation pairs (nisi * nori)\n",
    "    noise_sess = np.array(noise_sess) # NOTE: isi order is 250 -> 6000\n",
    "    return noise_sess, df_noise.reset_index(drop=True)"
   ]
  },
  {
   "cell_type": "code",
   "execution_count": 74,
   "metadata": {},
   "outputs": [
    {
     "name": "stderr",
     "output_type": "stream",
     "text": [
      "100%|██████████| 1/1 [00:00<00:00,  5.05it/s]\n"
     ]
    }
   ],
   "source": [
    "noise_sess_V1_1trial, df_noise_V1_1trial = snr_pop_vec_sess_1trial(df_decorr_V1)"
   ]
  },
  {
   "cell_type": "code",
   "execution_count": 106,
   "metadata": {},
   "outputs": [
    {
     "data": {
      "image/png": "[encoded data removed]",
      "text/plain": [
       "<Figure size 402.047x158.976 with 3 Axes>"
      ]
     },
     "metadata": {},
     "output_type": "display_data"
    }
   ],
   "source": [
    "cm_to_in = 1/2.54  # centimeters in inches\n",
    "scale = 1.5\n",
    "fig, ax = plt.subplots(1, 3, figsize=(3.404 * cm_to_in * scale * 2, 2.692 * cm_to_in * scale), sharex=True, sharey=True)\n",
    "\n",
    "color_list = '85a7eb-3e51cc-f6cd51-c48a5a-d1a6de-8c75e6' # from https://coolors.co/85a7eb-3e51cc-f6cd51-c48a5a-d1a6de-c715f4\n",
    "color_list = color_list.split('-') # V1 (unadapted, adapted) - LM (unadapted, adapted) - LI (unadapted, adapted)\n",
    "color_list = ['#' + i for i in color_list]\n",
    "color_list_noad = color_list[::2]\n",
    "color_list_250 = color_list[1::2]\n",
    "area_list = ['V1', ]\n",
    "\n",
    "## get ncell in df_decorr for each area\n",
    "ncell_area = []\n",
    "for df_decorr in [df_decorr_V1, ]:\n",
    "    ncell_area.append(df_decorr.cell_id.nunique())\n",
    "\n",
    "# for iarea, df in enumerate([df_noise_V1_1trial, df_noise_LM_1trial, df_noise_LI_1trial]):\n",
    "\n",
    "    # df['noise'] = df.noise.apply(lambda x: x*1e17 if x < 1e-17 else x) # scale up for plotting\n",
    "    # ax[iarea] = sns.lineplot(data=df, \n",
    "    #                          x='stim2_dist', y='noise', hue='isi', \n",
    "    #                         errorbar='se', err_style=\"bars\", err_kws={'elinewidth': 1},\n",
    "    #                         ax=ax[iarea],\n",
    "    #                         palette=color_list[iarea*2 : iarea*2+1+1], linewidth=1, alpha=0.9)\n",
    "    \n",
    "for iarea, cos_sim_boots in enumerate([noise_sess_V1_1trial, ]):\n",
    "    if np.min(cos_sim_boots) < 1e-17:\n",
    "        cos_sim_boots *= 1e17\n",
    "    # cos_sim_boots = cos_sim_boots / np.max(cos_sim_boots, axis=1, keepdims=True) # normalize by max across isi-stim2_dist\n",
    "    cos_sim_avg = np.mean(cos_sim_boots, axis=0) # across boots\n",
    "    cos_sim_sem = np.std(cos_sim_boots, axis=0) / np.sqrt(cos_sim_boots.shape[0])\n",
    "    nori = df_decorr_V1.stim2_dist.nunique()\n",
    "\n",
    "    ax[iarea].errorbar(x=np.arange(nori) + 0.01, \n",
    "                       y=cos_sim_avg[nori:],\n",
    "                       yerr=cos_sim_sem[nori:],\n",
    "                       color=color_list_noad[iarea], label=f'{area_list[iarea]} unadapted',\n",
    "                       linewidth=1, alpha=0.9, )\n",
    "    \n",
    "    ax[iarea].errorbar(x=np.arange(nori) - 0.01, \n",
    "                       y=cos_sim_avg[:nori],\n",
    "                       yerr=cos_sim_sem[:nori],\n",
    "                       color=color_list_250[iarea], label=f'{area_list[iarea]} adapted',\n",
    "                       linewidth=1, alpha=0.9, )\n",
    "\n",
    "    # xticks = np.arange(0, 90+1, 22.5)\n",
    "    xticks = np.arange(0, 2)\n",
    "    ax[iarea].set_xticks(xticks, ['0', '22.5', ], rotation=45, fontsize=8);\n",
    "    ylim_lower = np.round(ax[iarea].get_ylim()[0], 1)\n",
    "    ylim_upper = np.round(ax[iarea].get_ylim()[1], 1)\n",
    "    # yticks = np.linspace(ylim_lower, ylim_upper, 3)\n",
    "    yticks = np.arange(ylim_lower, ylim_upper+0.1, 0.2)\n",
    "    ax[iarea].set_yticks(yticks, [str(np.round(i, 2)) for i in yticks], fontsize=8);\n",
    "    ax[iarea].tick_params(axis='y', which='major', pad=1) # adjust y tick label position (paddding)\n",
    "    ax[iarea].tick_params(direction='out', length=3, width=1)\n",
    "\n",
    "    xlim_lower = ax[iarea].get_xlim()[0]\n",
    "    xlim_upper = ax[iarea].get_xlim()[1]\n",
    "    # xlim_pad = 0.5\n",
    "    xlim_pad = 0.1\n",
    "    ax[iarea].set_xlim(xlim_lower-xlim_pad, xlim_upper+xlim_pad)\n",
    "    ax[iarea].spines['left'].set_linewidth(1) # set axis width\n",
    "    ax[iarea].spines['bottom'].set_linewidth(1)\n",
    "\n",
    "    # ax[iarea].legend_.remove()\n",
    "    ax[iarea].set_xlabel('');\n",
    "    ax[iarea].set_ylabel('');\n",
    "\n",
    "    \n",
    "\n",
    "ax[0].set_ylabel('Normalized Noise', fontsize=8);\n",
    "sns.despine();\n",
    "fig.tight_layout(); \n",
    "\n",
    "fig_dir = r'C:\\Users\\ll357\\Documents\\inter\\results\\grat_work_fig/'.replace('\\\\', '/')\n",
    "fig_name = f'decorr_noise_grat2ori.svg'\n",
    "fig.savefig(os.path.join(fig_dir, fig_name), bbox_inches='tight')"
   ]
  },
  {
   "cell_type": "markdown",
   "metadata": {},
   "source": [
    "### cos simil"
   ]
  },
  {
   "cell_type": "code",
   "execution_count": 110,
   "metadata": {},
   "outputs": [
    {
     "data": {
      "image/png": "[encoded data removed]",
      "text/plain": [
       "<Figure size 402.047x158.976 with 3 Axes>"
      ]
     },
     "metadata": {},
     "output_type": "display_data"
    }
   ],
   "source": [
    "cm_to_in = 1/2.54  # centimeters in inches\n",
    "scale = 1.5\n",
    "fig, ax = plt.subplots(1, 3, figsize=(3.404 * cm_to_in * scale*2, 2.692 * cm_to_in * scale), sharex=True, sharey=True)\n",
    "\n",
    "color_list = '85a7eb-3e51cc-f6cd51-c48a5a-d1a6de-8c75e6' # from https://coolors.co/85a7eb-3e51cc-f6cd51-c48a5a-d1a6de-c715f4\n",
    "color_list = color_list.split('-') # V1 (unadapted, adapted) - LM (unadapted, adapted) - LI (unadapted, adapted)\n",
    "color_list = ['#' + i for i in color_list]\n",
    "color_list_noad = color_list[::2]\n",
    "color_list_250 = color_list[1::2]\n",
    "area_list = ['V1', ] # 'LM', 'LI']\n",
    "\n",
    "# cos_sim_LI_neighbor_sess, _ = sim_sess(df_decorr_LI, ref_ori='neighbor', metric='cos_sim')\n",
    "# cos_sim_LI_neighbor_sess[:, 1][cos_sim_LI_neighbor_sess[:, 1] < 0] = np.median(cos_sim_LI_neighbor_sess[:, 1][cos_sim_LI_neighbor_sess[:, 1] > 0]) # LI adapted 22-0 exclude an outlier\n",
    "\n",
    "for iarea, cos_sim_boots in enumerate([cos_sim_V1_neighbor_sess, ]): # cos_sim_LM_neighbor_sess, cos_sim_LI_neighbor_sess]):\n",
    "\n",
    "    cos_sim_avg = np.mean(cos_sim_boots, axis=0) # across boots\n",
    "    nori = df_decorr_V1.stim2_dist.nunique()\n",
    "\n",
    "    scatter_size = 3\n",
    "    ax[iarea].scatter(np.arange(nori)[1:] + 0.01, \n",
    "                       cos_sim_avg[nori+1:],\n",
    "                    #    yerr=np.std(cos_sim_boots, axis=0)[nori+1:] / np.sqrt(cos_sim_boots.shape[0]),\n",
    "                       color=color_list_noad[iarea], label=f'{area_list[iarea]} unadapted',\n",
    "                       linewidth=1, alpha=0.9, s=scatter_size)\n",
    "    \n",
    "    ax[iarea].scatter(np.arange(nori)[1:] - 0.01, \n",
    "                       cos_sim_avg[1:nori],\n",
    "                    #    yerr=np.std(cos_sim_boots, axis=0)[1:nori] / np.sqrt(cos_sim_boots.shape[0]),\n",
    "                       color=color_list_250[iarea], label=f'{area_list[iarea]} adapted',\n",
    "                       linewidth=1, alpha=0.9, s=scatter_size)\n",
    "\n",
    "\n",
    "    ax[iarea].set_xticks(range(nori)[1:], ['22-0', ], rotation=45, fontsize=8);\n",
    "    yticks = np.arange(0, 1.1, 0.5)\n",
    "    ax[iarea].set_yticks(yticks, [str(i) for i in yticks], fontsize=8);\n",
    "    ax[iarea].tick_params(axis='y', which='major', pad=1) # adjust y tick label position (paddding)\n",
    "    ax[iarea].tick_params(direction='out', length=3, width=1)\n",
    "\n",
    "    xlim_upper = ax[iarea].get_xlim()[1]\n",
    "    ax[iarea].set_xlim(1-0.2, xlim_upper+0.1)\n",
    "    ax[iarea].spines['left'].set_linewidth(1) # set axis width\n",
    "    ax[iarea].spines['bottom'].set_linewidth(1)\n",
    "    # ax[iarea].legend(frameon=False, loc='lower right', fontsize=8)\n",
    "\n",
    "ax[1].set_xlabel('');\n",
    "ax[0].set_ylabel('Cosine similarity', fontsize=8);\n",
    "sns.despine();\n",
    "fig.tight_layout();\n",
    "\n",
    "fig_dir = r'C:\\Users\\ll357\\Documents\\inter\\results\\grat_work_fig/'.replace('\\\\', '/')\n",
    "fig_name = f'decorr_cossim_grat2ori.svg'\n",
    "# fig.savefig(os.path.join(fig_dir, fig_name), bbox_inches='tight')"
   ]
  },
  {
   "cell_type": "markdown",
   "metadata": {},
   "source": [
    "### dot product"
   ]
  },
  {
   "cell_type": "code",
   "execution_count": 109,
   "metadata": {},
   "outputs": [
    {
     "data": {
      "image/png": "[encoded data removed]",
      "text/plain": [
       "<Figure size 402.047x158.976 with 3 Axes>"
      ]
     },
     "metadata": {},
     "output_type": "display_data"
    }
   ],
   "source": [
    "cm_to_in = 1/2.54  # centimeters in inches\n",
    "scale = 1.5\n",
    "fig, ax = plt.subplots(1, 3, figsize=(3.404 * cm_to_in * scale*2, 2.692 * cm_to_in * scale), sharex=True, sharey=True)\n",
    "\n",
    "color_list = '85a7eb-3e51cc-f6cd51-c48a5a-d1a6de-8c75e6' # from https://coolors.co/85a7eb-3e51cc-f6cd51-c48a5a-d1a6de-c715f4\n",
    "color_list = color_list.split('-') # V1 (unadapted, adapted) - LM (unadapted, adapted) - LI (unadapted, adapted)\n",
    "color_list = ['#' + i for i in color_list]\n",
    "color_list_noad = color_list[::2]\n",
    "color_list_250 = color_list[1::2]\n",
    "area_list = ['V1', ]\n",
    "\n",
    "## get ncell in df_decorr for each area\n",
    "ncell_area = []\n",
    "for df_decorr in [df_decorr_V1, ]:\n",
    "    ncell_area.append(df_decorr.cell_id.nunique())\n",
    "\n",
    "for iarea, cos_sim_boots in enumerate([dot_prod_V1_neighbor_sess, ]):\n",
    "\n",
    "    ## normalize sim values in sim_boots by ncell, then by max\n",
    "    cos_sim_boots = cos_sim_boots / ncell_area[iarea]\n",
    "    cos_sim_boots = cos_sim_boots / np.max(cos_sim_boots)\n",
    "    cos_sim_avg = np.mean(cos_sim_boots, axis=0) # across boots\n",
    "    nori = df_decorr_V1.stim2_dist.nunique()\n",
    "\n",
    "\n",
    "    scatter_size = 3\n",
    "    ax[iarea].scatter(np.arange(nori)[1:] + 0.01, \n",
    "                       cos_sim_avg[nori+1:],\n",
    "                    #    yerr=np.std(cos_sim_boots, axis=0)[nori+1:] / np.sqrt(cos_sim_boots.shape[0]),\n",
    "                       color=color_list_noad[iarea], label=f'{area_list[iarea]} unadapted',\n",
    "                       linewidth=1, alpha=0.9, s=scatter_size)\n",
    "    \n",
    "    ax[iarea].scatter(np.arange(nori)[1:] - 0.01, \n",
    "                       cos_sim_avg[1:nori],\n",
    "                    #    yerr=np.std(cos_sim_boots, axis=0)[1:nori] / np.sqrt(cos_sim_boots.shape[0]),\n",
    "                       color=color_list_250[iarea], label=f'{area_list[iarea]} adapted',\n",
    "                       linewidth=1, alpha=0.9, s=scatter_size)\n",
    "\n",
    "\n",
    "    ax[iarea].set_xticks(range(nori)[1:], ['22-0', ], rotation=45, fontsize=8);\n",
    "    ylim_upper = ax[iarea].get_ylim()[1]\n",
    "    # yticks = np.linspace(ylim_lower, ylim_upper, 3)\n",
    "    yticks = np.arange(0, ylim_upper, 0.2)\n",
    "    ax[iarea].set_yticks(yticks, [str(np.round(i, 2)) for i in yticks], fontsize=8);\n",
    "    ax[iarea].tick_params(axis='y', which='major', pad=1) # adjust y tick label position (paddding)\n",
    "    ax[iarea].tick_params(direction='out', length=3, width=1)\n",
    "\n",
    "    xlim_upper = ax[iarea].get_xlim()[1]\n",
    "    ax[iarea].set_xlim(1-0.2, xlim_upper+0.1)\n",
    "    ax[iarea].spines['left'].set_linewidth(1) # set axis width\n",
    "    ax[iarea].spines['bottom'].set_linewidth(1)\n",
    "    # ax[iarea].legend(frameon=False, loc='upper right', fontsize=8)\n",
    "\n",
    "ax[1].set_xlabel('');\n",
    "ax[0].set_ylabel('Dot Product', fontsize=8);\n",
    "sns.despine();\n",
    "fig.tight_layout();\n",
    "\n",
    "fig_dir = r'C:\\Users\\ll357\\Documents\\inter\\results\\grat_work_fig/'.replace('\\\\', '/')\n",
    "fig_name = f'decorr_dotprod_grat2ori.svg'\n",
    "# fig.savefig(os.path.join(fig_dir, fig_name), bbox_inches='tight')"
   ]
  }
 ],
 "metadata": {
  "kernelspec": {
   "display_name": "Python 3",
   "language": "python",
   "name": "python3"
  },
  "language_info": {
   "codemirror_mode": {
    "name": "ipython",
    "version": 3
   },
   "file_extension": ".py",
   "mimetype": "text/x-python",
   "name": "python",
   "nbconvert_exporter": "python",
   "pygments_lexer": "ipython3",
   "version": "3.11.5"
  },
  "orig_nbformat": 4
 },
 "nbformat": 4,
 "nbformat_minor": 2
}
