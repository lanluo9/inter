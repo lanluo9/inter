{
 "cells": [
  {
   "cell_type": "code",
   "execution_count": 2,
   "id": "3cfebcbb",
   "metadata": {
    "ExecuteTime": {
     "end_time": "2021-12-26T17:35:52.213193Z",
     "start_time": "2021-12-26T17:35:52.189188Z"
    }
   },
   "outputs": [
    {
     "data": {
      "text/plain": [
       "0.0"
      ]
     },
     "execution_count": 2,
     "metadata": {},
     "output_type": "execute_result"
    }
   ],
   "source": [
    "import psutil\n",
    "psutil.cpu_percent()"
   ]
  },
  {
   "cell_type": "code",
   "execution_count": null,
   "id": "3c468175",
   "metadata": {
    "ExecuteTime": {
     "start_time": "2021-12-30T07:26:07.429Z"
    }
   },
   "outputs": [
    {
     "name": "stdout",
     "output_type": "stream",
     "text": [
      "cpu util = 0.3, start setting caiman nice\n",
      "setting low prio for all caiman process.\n",
      "pid = 11416\n",
      "pid = 12252\n",
      "pid = 13236\n",
      "pid = 13344\n",
      "pid = 15452\n",
      "pid = 18920\n",
      "pid = 19448\n",
      "pid = 19536\n",
      "pid = 20392\n",
      "pid = 21636\n",
      "pid = 21880\n",
      "pid = 23880\n",
      "pid = 27392\n",
      "pid = 28120\n",
      "pid = 28520\n",
      "pid = 29012\n",
      "pid = 29916\n",
      "pid = 32980\n",
      "pid = 33488\n",
      "pid = 33940\n",
      "pid = 33948\n",
      "pid = 33988\n",
      "pid = 34000\n",
      "pid = 34240\n",
      "pid = 34516\n",
      "pid = 34624\n",
      "pid = 34748\n",
      "pid = 34860\n",
      "pid = 35588\n",
      "pid = 36064\n",
      "pid = 36140\n",
      "pid = 36380\n",
      "pid = 37048\n",
      "pid = 37460\n",
      "pid = 38444\n",
      "pid = 38712\n",
      "pid = 38900\n",
      "pid = 38924\n",
      "pid = 39316\n",
      "pid = 39648\n",
      "pid = 39864\n",
      "pid = 39908\n",
      "pid = 39996\n",
      "pid = 41556\n",
      "pid = 41876\n",
      "pid = 43236\n",
      "pid = 43432\n",
      "pid = 43512\n",
      "pid = 43544\n",
      "pid = 43640\n",
      "pid = 43804\n",
      "pid = 44152\n",
      "pid = 44432\n",
      "pid = 44856\n",
      "pid = 44976\n",
      "pid = 45444\n",
      "pid = 45484\n",
      "pid = 45624\n",
      "pid = 46184\n",
      "pid = 46192\n",
      "pid = 46196\n",
      "pid = 46224\n",
      "pid = 46232\n",
      "pid = 46260\n",
      "pid = 47564\n",
      "pid = 48560\n",
      "pid = 50464\n",
      "pid = 51096\n"
     ]
    }
   ],
   "source": [
    "# 2.87 s ± 13 ms per loop\n",
    "\n",
    "import psutil\n",
    "import time\n",
    "import os\n",
    "from IPython.display import clear_output\n",
    "\n",
    "current_pid = os.getpid()\n",
    "print(f'setting high prio for set_caiman_nice.ipynb. pid = {current_pid}')\n",
    "psutil.Process(os.getpid()).nice(psutil.ABOVE_NORMAL_PRIORITY_CLASS)\n",
    "\n",
    "while 1>0: # forever set caiman nice\n",
    "# while psutil.cpu_percent() > 50: # when cpu too high, set caiman nice\n",
    "    cpu_util = psutil.cpu_percent()\n",
    "    print(f'cpu util = {cpu_util}, start setting caiman nice')\n",
    "\n",
    "    process_name = \"python\"\n",
    "    pids = []\n",
    "    for proc in psutil.process_iter():\n",
    "        if process_name in proc.name():\n",
    "            pids.append(proc.pid)\n",
    "    pids.remove(os.getpid()) # get pid for all python processes except for self\n",
    "    \n",
    "    print(f'setting low prio for all caiman process.')\n",
    "    for i in pids:\n",
    "        print(f'pid = {i}')\n",
    "        psutil.Process(i).nice(psutil.BELOW_NORMAL_PRIORITY_CLASS)\n",
    "\n",
    "    time.sleep(600) # check for new python process every n sec\n",
    "    clear_output(wait=True) # clear cell output after a pause, otherwise too long"
   ]
  }
 ],
 "metadata": {
  "kernelspec": {
   "display_name": "Python 3 (ipykernel)",
   "language": "python",
   "name": "python3"
  },
  "language_info": {
   "codemirror_mode": {
    "name": "ipython",
    "version": 3
   },
   "file_extension": ".py",
   "mimetype": "text/x-python",
   "name": "python",
   "nbconvert_exporter": "python",
   "pygments_lexer": "ipython3",
   "version": "3.7.10"
  },
  "toc": {
   "base_numbering": 1,
   "nav_menu": {},
   "number_sections": true,
   "sideBar": true,
   "skip_h1_title": false,
   "title_cell": "Table of Contents",
   "title_sidebar": "Contents",
   "toc_cell": false,
   "toc_position": {},
   "toc_section_display": true,
   "toc_window_display": false
  }
 },
 "nbformat": 4,
 "nbformat_minor": 5
}
