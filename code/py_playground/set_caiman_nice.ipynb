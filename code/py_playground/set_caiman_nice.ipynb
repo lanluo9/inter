{
 "cells": [
  {
   "cell_type": "code",
   "execution_count": 4,
   "id": "3c468175",
   "metadata": {
    "ExecuteTime": {
     "end_time": "2022-01-03T00:07:33.764871Z",
     "start_time": "2021-12-30T07:26:07.431544Z"
    }
   },
   "outputs": [
    {
     "name": "stdout",
     "output_type": "stream",
     "text": [
      "cpu util = 0.0, start setting low prio for current user's caiman process.\n"
     ]
    }
   ],
   "source": [
    "import psutil\n",
    "import time\n",
    "import os\n",
    "from IPython.display import clear_output\n",
    "\n",
    "clear_output(wait=False)\n",
    "\n",
    "current_pid = os.getpid()\n",
    "print(f'setting high prio for set_caiman_nice self pid = {current_pid}')\n",
    "psutil.Process(os.getpid()).nice(psutil.ABOVE_NORMAL_PRIORITY_CLASS)\n",
    "\n",
    "local_py_pids = []\n",
    "other_user_pids = []\n",
    "# while True:\n",
    "while psutil.cpu_percent() > 1:\n",
    "    print(f'cpu util = {psutil.cpu_percent()}, start setting low prio for current user\\'s caiman process.')\n",
    "\n",
    "    for proc in psutil.process_iter(): # reading psutil.process_iter into a df.DataFrame is even slower\n",
    "        try:\n",
    "            if (\"python\" in proc.name()) and (os.getlogin() in proc.username() and (proc.pid not in other_user_pids)):\n",
    "                local_py_pids.append(proc.pid)\n",
    "        except psutil.AccessDenied:\n",
    "            other_user_pids.append(proc.pid)\n",
    "            pass\n",
    "\n",
    "    local_py_pids.remove(os.getpid()) # get pid for all current user's python processes except for this script itself\n",
    "    for pid in local_py_pids:\n",
    "        if psutil.Process(pid).nice() != psutil.BELOW_NORMAL_PRIORITY_CLASS: # check prio is faster than setting prio\n",
    "            psutil.Process(pid).nice(psutil.BELOW_NORMAL_PRIORITY_CLASS)\n",
    "            print(\"lower prio of process {} owned by {}\".format(pid, psutil.Process(pid).username()))\n",
    "\n",
    "\n",
    "    time.sleep(60*60) # check for new python process every n sec\n",
    "    clear_output(wait=True) # clear long cell output after pause\n"
   ]
  }
 ],
 "metadata": {
  "kernelspec": {
   "display_name": "Python 3 (ipykernel)",
   "language": "python",
   "name": "python3"
  },
  "language_info": {
   "codemirror_mode": {
    "name": "ipython",
    "version": 3
   },
   "file_extension": ".py",
   "mimetype": "text/x-python",
   "name": "python",
   "nbconvert_exporter": "python",
   "pygments_lexer": "ipython3",
   "version": "3.7.10"
  },
  "toc": {
   "base_numbering": 1,
   "nav_menu": {},
   "number_sections": true,
   "sideBar": true,
   "skip_h1_title": false,
   "title_cell": "Table of Contents",
   "title_sidebar": "Contents",
   "toc_cell": false,
   "toc_position": {},
   "toc_section_display": true,
   "toc_window_display": false
  }
 },
 "nbformat": 4,
 "nbformat_minor": 5
}
