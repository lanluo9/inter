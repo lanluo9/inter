{
 "cells": [
  {
   "cell_type": "code",
   "execution_count": 3,
   "id": "3c468175",
   "metadata": {
    "ExecuteTime": {
     "end_time": "2022-01-03T00:07:33.764871Z",
     "start_time": "2021-12-30T07:26:07.431544Z"
    }
   },
   "outputs": [
    {
     "name": "stdout",
     "output_type": "stream",
     "text": [
      "setting high prio for set_caiman_nice self pid = 89316\n"
     ]
    }
   ],
   "source": [
    "import psutil\n",
    "import time\n",
    "import os\n",
    "from IPython.display import clear_output\n",
    "\n",
    "clear_output(wait=False)\n",
    "\n",
    "current_pid = os.getpid()\n",
    "print(f'setting high prio for set_caiman_nice self pid = {current_pid}')\n",
    "psutil.Process(os.getpid()).nice(psutil.ABOVE_NORMAL_PRIORITY_CLASS)\n",
    "\n",
    "local_py_pids = []\n",
    "other_user_pids = []\n",
    "# while True:\n",
    "while psutil.cpu_percent() > 10:\n",
    "    print(f'cpu util = {psutil.cpu_percent()}, start setting low prio for current user\\'s caiman process.')\n",
    "\n",
    "    for proc in psutil.process_iter(): # ['pid', 'name', 'username']\n",
    "        try:\n",
    "            if (\"python\" in proc.name()) and (os.getlogin() in proc.username() and (proc.pid not in other_user_pids)):\n",
    "                local_py_pids.append(proc.pid)\n",
    "        except psutil.AccessDenied:\n",
    "            other_user_pids.append(proc.pid)\n",
    "            pass\n",
    "\n",
    "    local_py_pids.remove(os.getpid()) # get pid for all current user's python processes except for this script itself\n",
    "    for pid in local_py_pids:\n",
    "        if psutil.Process(pid).nice() != psutil.BELOW_NORMAL_PRIORITY_CLASS:\n",
    "            psutil.Process(pid).nice(psutil.BELOW_NORMAL_PRIORITY_CLASS)\n",
    "            print(\"lower prio of process {} owned by {}\".format(pid, psutil.Process(pid).username()))\n",
    "\n",
    "\n",
    "    time.sleep(60*30) # check for new python process every n sec\n",
    "    clear_output(wait=True) # clear cell output after a pause, otherwise too lengthy\n"
   ]
  },
  {
   "cell_type": "code",
   "execution_count": 43,
   "id": "b8386399",
   "metadata": {},
   "outputs": [
    {
     "name": "stdout",
     "output_type": "stream",
     "text": [
      "120 µs ± 13.5 µs per loop (mean ± std. dev. of 7 runs, 10000 loops each)\n"
     ]
    }
   ],
   "source": [
    "%%timeit\n",
    "psutil.Process(pid).nice(psutil.NORMAL_PRIORITY_CLASS)\n",
    "# psutil.Process(pid).nice()\n"
   ]
  },
  {
   "cell_type": "code",
   "execution_count": 44,
   "id": "57304733",
   "metadata": {},
   "outputs": [
    {
     "name": "stdout",
     "output_type": "stream",
     "text": [
      "13.7 µs ± 1.14 µs per loop (mean ± std. dev. of 7 runs, 100000 loops each)\n"
     ]
    }
   ],
   "source": [
    "%%timeit\n",
    "# psutil.Process(pid).nice(psutil.NORMAL_PRIORITY_CLASS)\n",
    "psutil.Process(pid).nice()\n"
   ]
  },
  {
   "cell_type": "code",
   "execution_count": 33,
   "id": "b308b720",
   "metadata": {},
   "outputs": [
    {
     "name": "stdout",
     "output_type": "stream",
     "text": [
      "cpu util = 100.0, start setting caiman nice\n",
      "setting low prio for current user's caiman process.\n",
      "cpu util = 100.0, start setting caiman nice\n",
      "setting low prio for current user's caiman process.\n",
      "cpu util = 100.0, start setting caiman nice\n",
      "setting low prio for current user's caiman process.\n",
      "cpu util = 100.0, start setting caiman nice\n",
      "setting low prio for current user's caiman process.\n",
      "cpu util = 100.0, start setting caiman nice\n",
      "setting low prio for current user's caiman process.\n",
      "cpu util = 100.0, start setting caiman nice\n",
      "setting low prio for current user's caiman process.\n",
      "cpu util = 100.0, start setting caiman nice\n",
      "setting low prio for current user's caiman process.\n",
      "cpu util = 100.0, start setting caiman nice\n",
      "setting low prio for current user's caiman process.\n",
      "16.8 s ± 860 ms per loop (mean ± std. dev. of 7 runs, 1 loop each)\n"
     ]
    }
   ],
   "source": [
    "%%timeit\n",
    "\n",
    "cpu_util = psutil.cpu_percent()\n",
    "print(f'cpu util = {cpu_util}, start setting caiman nice')\n",
    "\n",
    "local_py_pids = []\n",
    "other_user_pids = []\n",
    "\n",
    "# while psutil.cpu_percent() > 10:\n",
    "# while True:\n",
    "for proc in psutil.process_iter(): # ['pid', 'name', 'username']\n",
    "    try:\n",
    "        if (\"python\" in proc.name()) and (os.getlogin() in proc.username() and (proc.pid not in other_user_pids)):\n",
    "            local_py_pids.append(proc.pid)\n",
    "    except psutil.AccessDenied:\n",
    "        other_user_pids.append(proc.pid)\n",
    "        pass\n",
    "\n",
    "print(f'setting low prio for current user\\'s caiman process.')\n",
    "local_py_pids.remove(os.getpid()) # get pid for all python processes except for self\n",
    "for pid in local_py_pids:\n",
    "    if psutil.Process(pid).nice() != psutil.BELOW_NORMAL_PRIORITY_CLASS:\n",
    "        psutil.Process(pid).nice(psutil.BELOW_NORMAL_PRIORITY_CLASS)\n",
    "        print(\"lower prio of process {} owned by {}\".format(pid, psutil.Process(pid).username()))"
   ]
  },
  {
   "cell_type": "code",
   "execution_count": 32,
   "id": "e04fa428",
   "metadata": {},
   "outputs": [
    {
     "name": "stdout",
     "output_type": "stream",
     "text": [
      "cpu util = 100.0, setting low prio for current user's caiman process.\n",
      "cpu util = 100.0, setting low prio for current user's caiman process.\n",
      "cpu util = 100.0, setting low prio for current user's caiman process.\n",
      "cpu util = 100.0, setting low prio for current user's caiman process.\n",
      "cpu util = 100.0, setting low prio for current user's caiman process.\n",
      "cpu util = 100.0, setting low prio for current user's caiman process.\n",
      "cpu util = 100.0, setting low prio for current user's caiman process.\n",
      "cpu util = 100.0, setting low prio for current user's caiman process.\n",
      "17.6 s ± 901 ms per loop (mean ± std. dev. of 7 runs, 1 loop each)\n"
     ]
    }
   ],
   "source": [
    "%%timeit\n",
    "\n",
    "cpu_util = psutil.cpu_percent()\n",
    "print(f'cpu util = {cpu_util}, setting low prio for current user\\'s caiman process.')\n",
    "\n",
    "# local_py_pids = []\n",
    "other_user_pids = []\n",
    "\n",
    "# while psutil.cpu_percent() > 10:\n",
    "# while True:\n",
    "for proc in psutil.process_iter(): # ['pid', 'name', 'username']\n",
    "    try:\n",
    "        if (\"python\" in proc.name()) and (os.getlogin() in proc.username() and (proc.pid not in other_user_pids) and (proc.pid != os.getpid())):\n",
    "            pid = proc.pid\n",
    "            if psutil.Process(pid).nice() != psutil.BELOW_NORMAL_PRIORITY_CLASS:\n",
    "                psutil.Process(pid).nice(psutil.BELOW_NORMAL_PRIORITY_CLASS)\n",
    "                print(\"lower prio of process {} owned by {}\".format(pid, psutil.Process(pid).username()))\n",
    "    except psutil.AccessDenied:\n",
    "        other_user_pids.append(proc.pid)\n"
   ]
  },
  {
   "cell_type": "code",
   "execution_count": 37,
   "id": "20841313",
   "metadata": {},
   "outputs": [
    {
     "name": "stdout",
     "output_type": "stream",
     "text": [
      "cpu util = 100.0, start setting caiman nice\n",
      "cpu util = 100.0, start setting caiman nice\n",
      "cpu util = 100.0, start setting caiman nice\n",
      "cpu util = 100.0, start setting caiman nice\n",
      "cpu util = 100.0, start setting caiman nice\n",
      "cpu util = 100.0, start setting caiman nice\n",
      "cpu util = 100.0, start setting caiman nice\n",
      "cpu util = 100.0, start setting caiman nice\n",
      "17.7 s ± 806 ms per loop (mean ± std. dev. of 7 runs, 1 loop each)\n"
     ]
    }
   ],
   "source": [
    "%%timeit\n",
    "\n",
    "import pandas as pd\n",
    "\n",
    "cpu_util = psutil.cpu_percent()\n",
    "print(f'cpu util = {cpu_util}, start setting caiman nice')\n",
    "\n",
    "df = pd.DataFrame(columns=['pid', 'name', 'username'])\n",
    "for proc in psutil.process_iter(['pid', 'name', 'username']):\n",
    "    if (\"python\" in proc.name()):\n",
    "        df = df.append(proc.info, ignore_index=True)\n",
    "\n",
    "# local_py_pids = []\n",
    "# other_user_pids = []\n",
    "\n",
    "# # while psutil.cpu_percent() > 10:\n",
    "# # while True:\n",
    "# for proc in psutil.process_iter(): # ['pid', 'name', 'username']\n",
    "#     try:\n",
    "#         if (\"python\" in proc.name()) and (os.getlogin() in proc.username() and (proc.pid not in other_user_pids)):\n",
    "#             local_py_pids.append(proc.pid)\n",
    "#     except psutil.AccessDenied:\n",
    "#         other_user_pids.append(proc.pid)\n",
    "#         pass\n",
    "\n",
    "# print(f'setting low prio for current user\\'s caiman process.')\n",
    "# local_py_pids.remove(os.getpid()) # get pid for all python processes except for self\n",
    "# for pid in local_py_pids:\n",
    "#     if psutil.Process(pid).nice() != psutil.BELOW_NORMAL_PRIORITY_CLASS:\n",
    "#         psutil.Process(pid).nice(psutil.BELOW_NORMAL_PRIORITY_CLASS)\n",
    "#         print(\"lower prio of process {} owned by {}\".format(pid, psutil.Process(pid).username()))"
   ]
  },
  {
   "cell_type": "code",
   "execution_count": 39,
   "id": "7c6de2a2",
   "metadata": {},
   "outputs": [
    {
     "name": "stdout",
     "output_type": "stream",
     "text": [
      "cpu util = 100.0, start setting caiman nice\n"
     ]
    },
    {
     "data": {
      "text/html": [
       "<div>\n",
       "<style scoped>\n",
       "    .dataframe tbody tr th:only-of-type {\n",
       "        vertical-align: middle;\n",
       "    }\n",
       "\n",
       "    .dataframe tbody tr th {\n",
       "        vertical-align: top;\n",
       "    }\n",
       "\n",
       "    .dataframe thead th {\n",
       "        text-align: right;\n",
       "    }\n",
       "</style>\n",
       "<table border=\"1\" class=\"dataframe\">\n",
       "  <thead>\n",
       "    <tr style=\"text-align: right;\">\n",
       "      <th></th>\n",
       "      <th>pid</th>\n",
       "      <th>name</th>\n",
       "      <th>username</th>\n",
       "    </tr>\n",
       "  </thead>\n",
       "  <tbody>\n",
       "    <tr>\n",
       "      <th>0</th>\n",
       "      <td>11364</td>\n",
       "      <td>python.exe</td>\n",
       "      <td>None</td>\n",
       "    </tr>\n",
       "    <tr>\n",
       "      <th>1</th>\n",
       "      <td>14144</td>\n",
       "      <td>python.exe</td>\n",
       "      <td>None</td>\n",
       "    </tr>\n",
       "    <tr>\n",
       "      <th>2</th>\n",
       "      <td>15640</td>\n",
       "      <td>python.exe</td>\n",
       "      <td>None</td>\n",
       "    </tr>\n",
       "    <tr>\n",
       "      <th>3</th>\n",
       "      <td>21156</td>\n",
       "      <td>python.exe</td>\n",
       "      <td>None</td>\n",
       "    </tr>\n",
       "    <tr>\n",
       "      <th>4</th>\n",
       "      <td>24460</td>\n",
       "      <td>python.exe</td>\n",
       "      <td>None</td>\n",
       "    </tr>\n",
       "    <tr>\n",
       "      <th>...</th>\n",
       "      <td>...</td>\n",
       "      <td>...</td>\n",
       "      <td>...</td>\n",
       "    </tr>\n",
       "    <tr>\n",
       "      <th>69</th>\n",
       "      <td>89316</td>\n",
       "      <td>python.exe</td>\n",
       "      <td>NB-HUBEL\\GlickfeldLab</td>\n",
       "    </tr>\n",
       "    <tr>\n",
       "      <th>70</th>\n",
       "      <td>89452</td>\n",
       "      <td>python.exe</td>\n",
       "      <td>None</td>\n",
       "    </tr>\n",
       "    <tr>\n",
       "      <th>71</th>\n",
       "      <td>89456</td>\n",
       "      <td>python.exe</td>\n",
       "      <td>None</td>\n",
       "    </tr>\n",
       "    <tr>\n",
       "      <th>72</th>\n",
       "      <td>89504</td>\n",
       "      <td>python.exe</td>\n",
       "      <td>None</td>\n",
       "    </tr>\n",
       "    <tr>\n",
       "      <th>73</th>\n",
       "      <td>89780</td>\n",
       "      <td>python.exe</td>\n",
       "      <td>None</td>\n",
       "    </tr>\n",
       "  </tbody>\n",
       "</table>\n",
       "<p>74 rows × 3 columns</p>\n",
       "</div>"
      ],
      "text/plain": [
       "      pid        name               username\n",
       "0   11364  python.exe                   None\n",
       "1   14144  python.exe                   None\n",
       "2   15640  python.exe                   None\n",
       "3   21156  python.exe                   None\n",
       "4   24460  python.exe                   None\n",
       "..    ...         ...                    ...\n",
       "69  89316  python.exe  NB-HUBEL\\GlickfeldLab\n",
       "70  89452  python.exe                   None\n",
       "71  89456  python.exe                   None\n",
       "72  89504  python.exe                   None\n",
       "73  89780  python.exe                   None\n",
       "\n",
       "[74 rows x 3 columns]"
      ]
     },
     "execution_count": 39,
     "metadata": {},
     "output_type": "execute_result"
    }
   ],
   "source": [
    "import pandas as pd\n",
    "\n",
    "cpu_util = psutil.cpu_percent()\n",
    "print(f'cpu util = {cpu_util}, start setting caiman nice')\n",
    "\n",
    "df = pd.DataFrame(columns=['pid', 'name', 'username'])\n",
    "for proc in psutil.process_iter(['pid', 'name', 'username']):\n",
    "    if (\"python\" in proc.name()):\n",
    "        df = df.append(proc.info, ignore_index=True)\n",
    "df"
   ]
  }
 ],
 "metadata": {
  "kernelspec": {
   "display_name": "Python 3 (ipykernel)",
   "language": "python",
   "name": "python3"
  },
  "language_info": {
   "codemirror_mode": {
    "name": "ipython",
    "version": 3
   },
   "file_extension": ".py",
   "mimetype": "text/x-python",
   "name": "python",
   "nbconvert_exporter": "python",
   "pygments_lexer": "ipython3",
   "version": "3.7.10"
  },
  "toc": {
   "base_numbering": 1,
   "nav_menu": {},
   "number_sections": true,
   "sideBar": true,
   "skip_h1_title": false,
   "title_cell": "Table of Contents",
   "title_sidebar": "Contents",
   "toc_cell": false,
   "toc_position": {},
   "toc_section_display": true,
   "toc_window_display": false
  }
 },
 "nbformat": 4,
 "nbformat_minor": 5
}
