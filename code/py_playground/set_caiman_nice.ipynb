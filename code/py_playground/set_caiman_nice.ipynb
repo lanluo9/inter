{
 "cells": [
  {
   "cell_type": "code",
   "execution_count": 161,
   "id": "60646a34",
   "metadata": {
    "ExecuteTime": {
     "end_time": "2021-11-18T22:48:30.359231Z",
     "start_time": "2021-11-18T22:48:30.354230Z"
    }
   },
   "outputs": [
    {
     "data": {
      "text/plain": [
       "1.6"
      ]
     },
     "execution_count": 161,
     "metadata": {},
     "output_type": "execute_result"
    }
   ],
   "source": [
    "psutil.cpu_percent()"
   ]
  },
  {
   "cell_type": "code",
   "execution_count": null,
   "id": "37fd6054",
   "metadata": {
    "ExecuteTime": {
     "start_time": "2021-11-18T22:50:58.023Z"
    }
   },
   "outputs": [
    {
     "name": "stdout",
     "output_type": "stream",
     "text": [
      "cpu util = 100.0, start setting caiman nice\n",
      "setting low prio for all caiman process. pid = 8684\n",
      "setting low prio for all caiman process. pid = 12156\n",
      "setting low prio for all caiman process. pid = 13224\n",
      "setting low prio for all caiman process. pid = 13492\n",
      "setting low prio for all caiman process. pid = 16576\n",
      "setting low prio for all caiman process. pid = 16980\n",
      "setting low prio for all caiman process. pid = 17196\n",
      "setting low prio for all caiman process. pid = 17524\n",
      "setting low prio for all caiman process. pid = 19224\n",
      "setting low prio for all caiman process. pid = 19900\n",
      "setting low prio for all caiman process. pid = 21888\n",
      "setting low prio for all caiman process. pid = 25640\n",
      "setting low prio for all caiman process. pid = 25888\n",
      "setting low prio for all caiman process. pid = 25956\n",
      "setting low prio for all caiman process. pid = 26292\n",
      "setting low prio for all caiman process. pid = 26304\n",
      "setting low prio for all caiman process. pid = 26332\n",
      "setting low prio for all caiman process. pid = 27372\n",
      "setting low prio for all caiman process. pid = 27520\n",
      "setting low prio for all caiman process. pid = 28304\n",
      "setting low prio for all caiman process. pid = 29260\n",
      "setting low prio for all caiman process. pid = 29596\n",
      "setting low prio for all caiman process. pid = 30652\n",
      "setting low prio for all caiman process. pid = 31820\n",
      "setting low prio for all caiman process. pid = 31900\n",
      "setting low prio for all caiman process. pid = 32096\n",
      "setting low prio for all caiman process. pid = 32352\n",
      "setting low prio for all caiman process. pid = 34132\n",
      "setting low prio for all caiman process. pid = 35164\n",
      "setting low prio for all caiman process. pid = 35172\n",
      "setting low prio for all caiman process. pid = 35952\n",
      "setting low prio for all caiman process. pid = 36820\n",
      "setting low prio for all caiman process. pid = 36916\n",
      "setting low prio for all caiman process. pid = 37656\n",
      "setting low prio for all caiman process. pid = 38136\n",
      "setting low prio for all caiman process. pid = 38248\n",
      "setting low prio for all caiman process. pid = 38872\n",
      "setting low prio for all caiman process. pid = 39852\n",
      "setting low prio for all caiman process. pid = 40104\n",
      "setting low prio for all caiman process. pid = 40328\n",
      "setting low prio for all caiman process. pid = 40520\n",
      "setting low prio for all caiman process. pid = 40584\n",
      "setting low prio for all caiman process. pid = 40996\n",
      "setting low prio for all caiman process. pid = 41076\n",
      "setting low prio for all caiman process. pid = 41116\n",
      "setting low prio for all caiman process. pid = 41252\n",
      "setting low prio for all caiman process. pid = 41296\n",
      "setting low prio for all caiman process. pid = 41412\n",
      "setting low prio for all caiman process. pid = 41604\n",
      "setting low prio for all caiman process. pid = 41860\n",
      "setting low prio for all caiman process. pid = 41960\n",
      "setting low prio for all caiman process. pid = 42228\n",
      "setting low prio for all caiman process. pid = 42244\n",
      "setting low prio for all caiman process. pid = 42876\n",
      "setting low prio for all caiman process. pid = 43080\n",
      "setting low prio for all caiman process. pid = 43536\n",
      "setting low prio for all caiman process. pid = 44052\n",
      "setting low prio for all caiman process. pid = 44100\n",
      "setting low prio for all caiman process. pid = 44868\n",
      "setting low prio for all caiman process. pid = 45200\n",
      "setting low prio for all caiman process. pid = 45464\n",
      "setting low prio for all caiman process. pid = 45860\n",
      "setting low prio for all caiman process. pid = 46288\n",
      "setting low prio for all caiman process. pid = 46712\n",
      "setting low prio for all caiman process. pid = 46804\n",
      "setting low prio for all caiman process. pid = 46920\n",
      "setting low prio for all caiman process. pid = 47032\n"
     ]
    }
   ],
   "source": [
    "# 2.87 s ± 13 ms per loop\n",
    "\n",
    "import psutil\n",
    "import time\n",
    "from IPython.display import clear_output\n",
    "\n",
    "current_pid = os.getpid()\n",
    "print(f'setting high prio for set_caiman_nice.ipynb. pid = {current_pid}')\n",
    "psutil.Process(os.getpid()).nice(psutil.ABOVE_NORMAL_PRIORITY_CLASS)\n",
    "\n",
    "while 1>0: # forever set caiman nice\n",
    "# while psutil.cpu_percent() > 7: # when cpu too high, set caiman nice\n",
    "    cpu_util = psutil.cpu_percent()\n",
    "    print(f'cpu util = {cpu_util}, start setting caiman nice')\n",
    "\n",
    "    process_name = \"python\"\n",
    "    pids = []\n",
    "    for proc in psutil.process_iter():\n",
    "        if process_name in proc.name():\n",
    "            pids.append(proc.pid)\n",
    "    pids.remove(os.getpid()) # get pid for all python processes except for self\n",
    "\n",
    "    for i in pids:\n",
    "        print(f'setting low prio for all caiman process. pid = {i}')\n",
    "        psutil.Process(i).nice(psutil.BELOW_NORMAL_PRIORITY_CLASS)\n",
    "\n",
    "    time.sleep(60) # check for new python process every 60 sec\n",
    "    clear_output(wait=True) # clear cell output after a pause, otherwise too long"
   ]
  }
 ],
 "metadata": {
  "kernelspec": {
   "display_name": "Python 3 (ipykernel)",
   "language": "python",
   "name": "python3"
  },
  "language_info": {
   "codemirror_mode": {
    "name": "ipython",
    "version": 3
   },
   "file_extension": ".py",
   "mimetype": "text/x-python",
   "name": "python",
   "nbconvert_exporter": "python",
   "pygments_lexer": "ipython3",
   "version": "3.7.10"
  },
  "toc": {
   "base_numbering": 1,
   "nav_menu": {},
   "number_sections": true,
   "sideBar": true,
   "skip_h1_title": false,
   "title_cell": "Table of Contents",
   "title_sidebar": "Contents",
   "toc_cell": false,
   "toc_position": {},
   "toc_section_display": true,
   "toc_window_display": false
  }
 },
 "nbformat": 4,
 "nbformat_minor": 5
}
