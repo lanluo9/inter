{
 "cells": [
  {
   "cell_type": "code",
   "execution_count": 2,
   "id": "3cfebcbb",
   "metadata": {
    "ExecuteTime": {
     "end_time": "2021-12-26T17:35:52.213193Z",
     "start_time": "2021-12-26T17:35:52.189188Z"
    }
   },
   "outputs": [
    {
     "data": {
      "text/plain": [
       "0.0"
      ]
     },
     "execution_count": 2,
     "metadata": {},
     "output_type": "execute_result"
    }
   ],
   "source": [
    "import psutil\n",
    "psutil.cpu_percent()"
   ]
  },
  {
   "cell_type": "code",
   "execution_count": 5,
   "id": "3c468175",
   "metadata": {
    "ExecuteTime": {
     "end_time": "2022-01-03T00:07:33.764871Z",
     "start_time": "2021-12-30T07:26:07.431544Z"
    }
   },
   "outputs": [
    {
     "name": "stdout",
     "output_type": "stream",
     "text": [
      "cpu util = 0.3, start setting caiman nice\n",
      "setting low prio for all caiman process.\n",
      "pid = 11416\n",
      "pid = 12252\n",
      "pid = 13236\n",
      "pid = 13344\n",
      "pid = 15452\n",
      "pid = 18920\n",
      "pid = 19448\n",
      "pid = 19536\n",
      "pid = 20392\n",
      "pid = 21636\n",
      "pid = 21880\n",
      "pid = 23880\n",
      "pid = 27392\n",
      "pid = 28120\n",
      "pid = 28520\n",
      "pid = 29012\n",
      "pid = 29916\n",
      "pid = 32980\n",
      "pid = 33488\n",
      "pid = 33940\n",
      "pid = 33948\n",
      "pid = 33988\n",
      "pid = 34000\n",
      "pid = 34240\n",
      "pid = 34516\n",
      "pid = 34624\n",
      "pid = 34748\n",
      "pid = 34860\n",
      "pid = 35588\n",
      "pid = 36064\n",
      "pid = 36140\n",
      "pid = 36176\n",
      "pid = 36380\n",
      "pid = 37048\n",
      "pid = 37460\n",
      "pid = 38444\n",
      "pid = 38712\n",
      "pid = 38900\n",
      "pid = 38924\n",
      "pid = 39316\n",
      "pid = 39648\n",
      "pid = 39864\n",
      "pid = 39908\n",
      "pid = 39996\n",
      "pid = 41556\n",
      "pid = 41876\n",
      "pid = 43236\n",
      "pid = 43432\n",
      "pid = 43512\n",
      "pid = 43544\n",
      "pid = 43804\n",
      "pid = 44152\n",
      "pid = 44432\n",
      "pid = 44856\n",
      "pid = 44976\n",
      "pid = 45008\n"
     ]
    },
    {
     "ename": "AccessDenied",
     "evalue": "psutil.AccessDenied (pid=45008)",
     "output_type": "error",
     "traceback": [
      "\u001b[1;31m---------------------------------------------------------------------------\u001b[0m",
      "\u001b[1;31mPermissionError\u001b[0m                           Traceback (most recent call last)",
      "\u001b[1;32m~\\Miniconda3\\envs\\caiman\\lib\\site-packages\\psutil\\_pswindows.py\u001b[0m in \u001b[0;36mwrapper\u001b[1;34m(self, *args, **kwargs)\u001b[0m\n\u001b[0;32m    678\u001b[0m         \u001b[1;32mtry\u001b[0m\u001b[1;33m:\u001b[0m\u001b[1;33m\u001b[0m\u001b[1;33m\u001b[0m\u001b[0m\n\u001b[1;32m--> 679\u001b[1;33m             \u001b[1;32mreturn\u001b[0m \u001b[0mfun\u001b[0m\u001b[1;33m(\u001b[0m\u001b[0mself\u001b[0m\u001b[1;33m,\u001b[0m \u001b[1;33m*\u001b[0m\u001b[0margs\u001b[0m\u001b[1;33m,\u001b[0m \u001b[1;33m**\u001b[0m\u001b[0mkwargs\u001b[0m\u001b[1;33m)\u001b[0m\u001b[1;33m\u001b[0m\u001b[1;33m\u001b[0m\u001b[0m\n\u001b[0m\u001b[0;32m    680\u001b[0m         \u001b[1;32mexcept\u001b[0m \u001b[0mOSError\u001b[0m \u001b[1;32mas\u001b[0m \u001b[0merr\u001b[0m\u001b[1;33m:\u001b[0m\u001b[1;33m\u001b[0m\u001b[1;33m\u001b[0m\u001b[0m\n",
      "\u001b[1;32m~\\Miniconda3\\envs\\caiman\\lib\\site-packages\\psutil\\_pswindows.py\u001b[0m in \u001b[0;36mnice_set\u001b[1;34m(self, value)\u001b[0m\n\u001b[0;32m   1015\u001b[0m     \u001b[1;32mdef\u001b[0m \u001b[0mnice_set\u001b[0m\u001b[1;33m(\u001b[0m\u001b[0mself\u001b[0m\u001b[1;33m,\u001b[0m \u001b[0mvalue\u001b[0m\u001b[1;33m)\u001b[0m\u001b[1;33m:\u001b[0m\u001b[1;33m\u001b[0m\u001b[1;33m\u001b[0m\u001b[0m\n\u001b[1;32m-> 1016\u001b[1;33m         \u001b[1;32mreturn\u001b[0m \u001b[0mcext\u001b[0m\u001b[1;33m.\u001b[0m\u001b[0mproc_priority_set\u001b[0m\u001b[1;33m(\u001b[0m\u001b[0mself\u001b[0m\u001b[1;33m.\u001b[0m\u001b[0mpid\u001b[0m\u001b[1;33m,\u001b[0m \u001b[0mvalue\u001b[0m\u001b[1;33m)\u001b[0m\u001b[1;33m\u001b[0m\u001b[1;33m\u001b[0m\u001b[0m\n\u001b[0m\u001b[0;32m   1017\u001b[0m \u001b[1;33m\u001b[0m\u001b[0m\n",
      "\u001b[1;31mPermissionError\u001b[0m: [WinError 5] Access is denied: '(originated from OpenProcess)'",
      "\nDuring handling of the above exception, another exception occurred:\n",
      "\u001b[1;31mAccessDenied\u001b[0m                              Traceback (most recent call last)",
      "\u001b[1;32m~\\AppData\\Local\\Temp\\7/ipykernel_33456/2448251452.py\u001b[0m in \u001b[0;36m<module>\u001b[1;34m\u001b[0m\n\u001b[0;32m     25\u001b[0m     \u001b[1;32mfor\u001b[0m \u001b[0mi\u001b[0m \u001b[1;32min\u001b[0m \u001b[0mpids\u001b[0m\u001b[1;33m:\u001b[0m\u001b[1;33m\u001b[0m\u001b[1;33m\u001b[0m\u001b[0m\n\u001b[0;32m     26\u001b[0m         \u001b[0mprint\u001b[0m\u001b[1;33m(\u001b[0m\u001b[1;34mf'pid = {i}'\u001b[0m\u001b[1;33m)\u001b[0m\u001b[1;33m\u001b[0m\u001b[1;33m\u001b[0m\u001b[0m\n\u001b[1;32m---> 27\u001b[1;33m         \u001b[0mpsutil\u001b[0m\u001b[1;33m.\u001b[0m\u001b[0mProcess\u001b[0m\u001b[1;33m(\u001b[0m\u001b[0mi\u001b[0m\u001b[1;33m)\u001b[0m\u001b[1;33m.\u001b[0m\u001b[0mnice\u001b[0m\u001b[1;33m(\u001b[0m\u001b[0mpsutil\u001b[0m\u001b[1;33m.\u001b[0m\u001b[0mBELOW_NORMAL_PRIORITY_CLASS\u001b[0m\u001b[1;33m)\u001b[0m\u001b[1;33m\u001b[0m\u001b[1;33m\u001b[0m\u001b[0m\n\u001b[0m\u001b[0;32m     28\u001b[0m \u001b[1;33m\u001b[0m\u001b[0m\n\u001b[0;32m     29\u001b[0m     \u001b[0mtime\u001b[0m\u001b[1;33m.\u001b[0m\u001b[0msleep\u001b[0m\u001b[1;33m(\u001b[0m\u001b[1;36m600\u001b[0m\u001b[1;33m)\u001b[0m \u001b[1;31m# check for new python process every n sec\u001b[0m\u001b[1;33m\u001b[0m\u001b[1;33m\u001b[0m\u001b[0m\n",
      "\u001b[1;32m~\\Miniconda3\\envs\\caiman\\lib\\site-packages\\psutil\\__init__.py\u001b[0m in \u001b[0;36mnice\u001b[1;34m(self, value)\u001b[0m\n\u001b[0;32m    722\u001b[0m             \u001b[1;32mif\u001b[0m \u001b[1;32mnot\u001b[0m \u001b[0mself\u001b[0m\u001b[1;33m.\u001b[0m\u001b[0mis_running\u001b[0m\u001b[1;33m(\u001b[0m\u001b[1;33m)\u001b[0m\u001b[1;33m:\u001b[0m\u001b[1;33m\u001b[0m\u001b[1;33m\u001b[0m\u001b[0m\n\u001b[0;32m    723\u001b[0m                 \u001b[1;32mraise\u001b[0m \u001b[0mNoSuchProcess\u001b[0m\u001b[1;33m(\u001b[0m\u001b[0mself\u001b[0m\u001b[1;33m.\u001b[0m\u001b[0mpid\u001b[0m\u001b[1;33m,\u001b[0m \u001b[0mself\u001b[0m\u001b[1;33m.\u001b[0m\u001b[0m_name\u001b[0m\u001b[1;33m)\u001b[0m\u001b[1;33m\u001b[0m\u001b[1;33m\u001b[0m\u001b[0m\n\u001b[1;32m--> 724\u001b[1;33m             \u001b[0mself\u001b[0m\u001b[1;33m.\u001b[0m\u001b[0m_proc\u001b[0m\u001b[1;33m.\u001b[0m\u001b[0mnice_set\u001b[0m\u001b[1;33m(\u001b[0m\u001b[0mvalue\u001b[0m\u001b[1;33m)\u001b[0m\u001b[1;33m\u001b[0m\u001b[1;33m\u001b[0m\u001b[0m\n\u001b[0m\u001b[0;32m    725\u001b[0m \u001b[1;33m\u001b[0m\u001b[0m\n\u001b[0;32m    726\u001b[0m     \u001b[1;32mif\u001b[0m \u001b[0mPOSIX\u001b[0m\u001b[1;33m:\u001b[0m\u001b[1;33m\u001b[0m\u001b[1;33m\u001b[0m\u001b[0m\n",
      "\u001b[1;32m~\\Miniconda3\\envs\\caiman\\lib\\site-packages\\psutil\\_pswindows.py\u001b[0m in \u001b[0;36mwrapper\u001b[1;34m(self, *args, **kwargs)\u001b[0m\n\u001b[0;32m    679\u001b[0m             \u001b[1;32mreturn\u001b[0m \u001b[0mfun\u001b[0m\u001b[1;33m(\u001b[0m\u001b[0mself\u001b[0m\u001b[1;33m,\u001b[0m \u001b[1;33m*\u001b[0m\u001b[0margs\u001b[0m\u001b[1;33m,\u001b[0m \u001b[1;33m**\u001b[0m\u001b[0mkwargs\u001b[0m\u001b[1;33m)\u001b[0m\u001b[1;33m\u001b[0m\u001b[1;33m\u001b[0m\u001b[0m\n\u001b[0;32m    680\u001b[0m         \u001b[1;32mexcept\u001b[0m \u001b[0mOSError\u001b[0m \u001b[1;32mas\u001b[0m \u001b[0merr\u001b[0m\u001b[1;33m:\u001b[0m\u001b[1;33m\u001b[0m\u001b[1;33m\u001b[0m\u001b[0m\n\u001b[1;32m--> 681\u001b[1;33m             \u001b[1;32mraise\u001b[0m \u001b[0mconvert_oserror\u001b[0m\u001b[1;33m(\u001b[0m\u001b[0merr\u001b[0m\u001b[1;33m,\u001b[0m \u001b[0mpid\u001b[0m\u001b[1;33m=\u001b[0m\u001b[0mself\u001b[0m\u001b[1;33m.\u001b[0m\u001b[0mpid\u001b[0m\u001b[1;33m,\u001b[0m \u001b[0mname\u001b[0m\u001b[1;33m=\u001b[0m\u001b[0mself\u001b[0m\u001b[1;33m.\u001b[0m\u001b[0m_name\u001b[0m\u001b[1;33m)\u001b[0m\u001b[1;33m\u001b[0m\u001b[1;33m\u001b[0m\u001b[0m\n\u001b[0m\u001b[0;32m    682\u001b[0m     \u001b[1;32mreturn\u001b[0m \u001b[0mwrapper\u001b[0m\u001b[1;33m\u001b[0m\u001b[1;33m\u001b[0m\u001b[0m\n\u001b[0;32m    683\u001b[0m \u001b[1;33m\u001b[0m\u001b[0m\n",
      "\u001b[1;31mAccessDenied\u001b[0m: psutil.AccessDenied (pid=45008)"
     ]
    }
   ],
   "source": [
    "import psutil\n",
    "import time\n",
    "import os\n",
    "from IPython.display import clear_output\n",
    "\n",
    "current_pid = os.getpid()\n",
    "print(f'setting high prio for set_caiman_nice self pid = {current_pid}')\n",
    "psutil.Process(os.getpid()).nice(psutil.ABOVE_NORMAL_PRIORITY_CLASS)\n",
    "\n",
    "while True: # forever set caiman nice\n",
    "# while psutil.cpu_percent() > 50: # when cpu too high, set caiman nice\n",
    "    cpu_util = psutil.cpu_percent()\n",
    "    print(f'cpu util = {cpu_util}, start setting caiman nice')\n",
    "\n",
    "    process_name = \"python\"\n",
    "    pids = []\n",
    "    for proc in psutil.process_iter():\n",
    "        if process_name in proc.name():\n",
    "            pids.append(proc.pid)\n",
    "    pids.remove(os.getpid()) # get pid for all python processes except for self\n",
    "\n",
    "    print(f'setting low prio for current user\\'s caiman process.')\n",
    "    for pid in pids:\n",
    "        try:\n",
    "            username = psutil.Process(pid).username()\n",
    "            print(\"lower prio of process {} owned by {}\".format(pid, username))\n",
    "            psutil.Process(pid).nice(psutil.BELOW_NORMAL_PRIORITY_CLASS)\n",
    "        except psutil.AccessDenied: # if access denied, this pid is not owned by current user\n",
    "            pass\n",
    "\n",
    "    time.sleep(600) # check for new python process every n sec\n",
    "    clear_output(wait=True) # clear cell output after a pause, otherwise too long\n"
   ]
  }
 ],
 "metadata": {
  "kernelspec": {
   "display_name": "Python 3 (ipykernel)",
   "language": "python",
   "name": "python3"
  },
  "language_info": {
   "codemirror_mode": {
    "name": "ipython",
    "version": 3
   },
   "file_extension": ".py",
   "mimetype": "text/x-python",
   "name": "python",
   "nbconvert_exporter": "python",
   "pygments_lexer": "ipython3",
   "version": "3.7.10"
  },
  "toc": {
   "base_numbering": 1,
   "nav_menu": {},
   "number_sections": true,
   "sideBar": true,
   "skip_h1_title": false,
   "title_cell": "Table of Contents",
   "title_sidebar": "Contents",
   "toc_cell": false,
   "toc_position": {},
   "toc_section_display": true,
   "toc_window_display": false
  }
 },
 "nbformat": 4,
 "nbformat_minor": 5
}
