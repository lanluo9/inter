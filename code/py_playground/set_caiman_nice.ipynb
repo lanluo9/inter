{
 "cells": [
  {
   "cell_type": "code",
   "execution_count": 1,
   "id": "3cfebcbb",
   "metadata": {
    "ExecuteTime": {
     "end_time": "2021-12-26T17:35:52.213193Z",
     "start_time": "2021-12-26T17:35:52.189188Z"
    }
   },
   "outputs": [
    {
     "data": {
      "text/plain": [
       "12.5"
      ]
     },
     "execution_count": 1,
     "metadata": {},
     "output_type": "execute_result"
    }
   ],
   "source": [
    "import psutil\n",
    "psutil.cpu_percent()"
   ]
  },
  {
   "cell_type": "code",
   "execution_count": 3,
   "id": "3c468175",
   "metadata": {
    "ExecuteTime": {
     "end_time": "2022-01-03T00:07:33.764871Z",
     "start_time": "2021-12-30T07:26:07.431544Z"
    }
   },
   "outputs": [
    {
     "name": "stdout",
     "output_type": "stream",
     "text": [
      "setting high prio for set_caiman_nice self pid = 85396\n",
      "cpu util = 100.0, start setting caiman nice\n",
      "setting low prio for current user's caiman process.\n",
      "lower prio of process 11364 owned by DHE\\ll357\n",
      "lower prio of process 14144 owned by DHE\\ll357\n",
      "lower prio of process 15640 owned by DHE\\ll357\n",
      "lower prio of process 21156 owned by DHE\\ll357\n",
      "lower prio of process 24460 owned by DHE\\ll357\n",
      "lower prio of process 27312 owned by DHE\\ll357\n",
      "lower prio of process 34796 owned by DHE\\ll357\n",
      "lower prio of process 46012 owned by DHE\\ll357\n",
      "lower prio of process 49144 owned by DHE\\ll357\n",
      "lower prio of process 54856 owned by DHE\\ll357\n",
      "lower prio of process 56328 owned by DHE\\ll357\n",
      "lower prio of process 56784 owned by DHE\\ll357\n",
      "lower prio of process 58924 owned by DHE\\ll357\n",
      "lower prio of process 60492 owned by DHE\\ll357\n",
      "lower prio of process 63264 owned by DHE\\ll357\n",
      "lower prio of process 64484 owned by DHE\\ll357\n",
      "lower prio of process 65084 owned by DHE\\ll357\n",
      "lower prio of process 65792 owned by DHE\\ll357\n",
      "lower prio of process 65880 owned by DHE\\ll357\n",
      "lower prio of process 65888 owned by DHE\\ll357\n",
      "lower prio of process 67492 owned by DHE\\ll357\n",
      "lower prio of process 67848 owned by DHE\\ll357\n",
      "lower prio of process 69484 owned by DHE\\ll357\n",
      "lower prio of process 69600 owned by DHE\\ll357\n",
      "lower prio of process 69744 owned by DHE\\ll357\n",
      "lower prio of process 70160 owned by DHE\\ll357\n",
      "lower prio of process 71620 owned by DHE\\ll357\n",
      "lower prio of process 71752 owned by DHE\\ll357\n",
      "lower prio of process 72316 owned by DHE\\ll357\n",
      "lower prio of process 72572 owned by DHE\\ll357\n",
      "lower prio of process 74020 owned by DHE\\ll357\n",
      "lower prio of process 74456 owned by DHE\\ll357\n",
      "lower prio of process 76124 owned by DHE\\ll357\n",
      "lower prio of process 76476 owned by DHE\\ll357\n",
      "lower prio of process 78516 owned by DHE\\ll357\n",
      "lower prio of process 78796 owned by DHE\\ll357\n",
      "lower prio of process 78928 owned by DHE\\ll357\n",
      "lower prio of process 79000 owned by DHE\\ll357\n",
      "lower prio of process 79576 owned by DHE\\ll357\n",
      "lower prio of process 79652 owned by DHE\\ll357\n",
      "lower prio of process 80504 owned by DHE\\ll357\n",
      "lower prio of process 80744 owned by DHE\\ll357\n",
      "lower prio of process 81268 owned by DHE\\ll357\n",
      "lower prio of process 81280 owned by DHE\\ll357\n",
      "lower prio of process 81804 owned by DHE\\ll357\n",
      "lower prio of process 82204 owned by DHE\\ll357\n",
      "lower prio of process 83272 owned by DHE\\ll357\n",
      "lower prio of process 83712 owned by DHE\\ll357\n",
      "lower prio of process 84156 owned by DHE\\ll357\n",
      "lower prio of process 84200 owned by DHE\\ll357\n",
      "lower prio of process 84752 owned by DHE\\ll357\n",
      "lower prio of process 84768 owned by DHE\\ll357\n",
      "lower prio of process 85808 owned by DHE\\ll357\n",
      "lower prio of process 85848 owned by DHE\\ll357\n",
      "lower prio of process 86072 owned by DHE\\ll357\n",
      "lower prio of process 86184 owned by DHE\\ll357\n",
      "lower prio of process 86780 owned by DHE\\ll357\n",
      "lower prio of process 86872 owned by DHE\\ll357\n",
      "lower prio of process 87044 owned by DHE\\ll357\n",
      "lower prio of process 87084 owned by DHE\\ll357\n",
      "lower prio of process 88344 owned by DHE\\ll357\n",
      "lower prio of process 88720 owned by DHE\\ll357\n",
      "lower prio of process 89452 owned by DHE\\ll357\n",
      "lower prio of process 89456 owned by DHE\\ll357\n",
      "lower prio of process 89504 owned by DHE\\ll357\n",
      "lower prio of process 89780 owned by DHE\\ll357\n"
     ]
    }
   ],
   "source": [
    "import psutil\n",
    "import time\n",
    "import os\n",
    "from IPython.display import clear_output\n",
    "\n",
    "current_pid = os.getpid()\n",
    "print(f'setting high prio for set_caiman_nice self pid = {current_pid}')\n",
    "psutil.Process(os.getpid()).nice(psutil.ABOVE_NORMAL_PRIORITY_CLASS)\n",
    "\n",
    "while True: # forever set caiman nice\n",
    "# while psutil.cpu_percent() > 50: # when cpu too high, set caiman nice\n",
    "    cpu_util = psutil.cpu_percent()\n",
    "    print(f'cpu util = {cpu_util}, start setting caiman nice')\n",
    "\n",
    "    process_name = \"python\"\n",
    "    pids = []\n",
    "    for proc in psutil.process_iter():\n",
    "        if process_name in proc.name():\n",
    "            pids.append(proc.pid)\n",
    "    pids.remove(os.getpid()) # get pid for all python processes except for self\n",
    "\n",
    "    print(f'setting low prio for current user\\'s caiman process.')\n",
    "    for pid in pids:\n",
    "        try:\n",
    "            username = psutil.Process(pid).username()\n",
    "            print(\"lower prio of process {} owned by {}\".format(pid, username))\n",
    "            psutil.Process(pid).nice(psutil.BELOW_NORMAL_PRIORITY_CLASS)\n",
    "        except psutil.AccessDenied: # if access denied, this pid is not owned by current user\n",
    "            pass\n",
    "\n",
    "    time.sleep(3600) # check for new python process every n sec\n",
    "    clear_output(wait=True) # clear cell output after a pause, otherwise too long\n"
   ]
  },
  {
   "cell_type": "code",
   "execution_count": null,
   "id": "7a3152ee",
   "metadata": {},
   "outputs": [],
   "source": []
  }
 ],
 "metadata": {
  "kernelspec": {
   "display_name": "Python 3 (ipykernel)",
   "language": "python",
   "name": "python3"
  },
  "language_info": {
   "codemirror_mode": {
    "name": "ipython",
    "version": 3
   },
   "file_extension": ".py",
   "mimetype": "text/x-python",
   "name": "python",
   "nbconvert_exporter": "python",
   "pygments_lexer": "ipython3",
   "version": "3.7.10"
  },
  "toc": {
   "base_numbering": 1,
   "nav_menu": {},
   "number_sections": true,
   "sideBar": true,
   "skip_h1_title": false,
   "title_cell": "Table of Contents",
   "title_sidebar": "Contents",
   "toc_cell": false,
   "toc_position": {},
   "toc_section_display": true,
   "toc_window_display": false
  }
 },
 "nbformat": 4,
 "nbformat_minor": 5
}
