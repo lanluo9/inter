{
 "cells": [
  {
   "cell_type": "code",
   "execution_count": 161,
   "id": "5dee45e2",
   "metadata": {
    "ExecuteTime": {
     "end_time": "2021-11-18T22:48:30.359231Z",
     "start_time": "2021-11-18T22:48:30.354230Z"
    }
   },
   "outputs": [
    {
     "data": {
      "text/plain": [
       "1.6"
      ]
     },
     "execution_count": 161,
     "metadata": {},
     "output_type": "execute_result"
    }
   ],
   "source": [
    "psutil.cpu_percent()"
   ]
  },
  {
   "cell_type": "code",
   "execution_count": null,
   "id": "ab1412c6",
   "metadata": {
    "ExecuteTime": {
     "start_time": "2021-11-24T16:07:08.775Z"
    }
   },
   "outputs": [
    {
     "name": "stdout",
     "output_type": "stream",
     "text": [
      "cpu util = 0.5, start setting caiman nice\n",
      "setting low prio for all caiman process.\n",
      "pid = 408\n",
      "pid = 8652\n",
      "pid = 11480\n",
      "pid = 13268\n",
      "pid = 14860\n",
      "pid = 16556\n",
      "pid = 17404\n",
      "pid = 20044\n",
      "pid = 26052\n",
      "pid = 26236\n",
      "pid = 26292\n",
      "pid = 31592\n",
      "pid = 31732\n",
      "pid = 35336\n",
      "pid = 35584\n",
      "pid = 35860\n",
      "pid = 35912\n",
      "pid = 35952\n",
      "pid = 36064\n",
      "pid = 36244\n",
      "pid = 36768\n",
      "pid = 37200\n",
      "pid = 37804\n",
      "pid = 40440\n",
      "pid = 41032\n",
      "pid = 41424\n",
      "pid = 42552\n",
      "pid = 42656\n",
      "pid = 43152\n",
      "pid = 43192\n",
      "pid = 43244\n",
      "pid = 45612\n",
      "pid = 46228\n",
      "pid = 46472\n",
      "pid = 47616\n",
      "pid = 48276\n",
      "pid = 48804\n",
      "pid = 49060\n",
      "pid = 49432\n",
      "pid = 49548\n",
      "pid = 50212\n",
      "pid = 50324\n",
      "pid = 51636\n",
      "pid = 51908\n",
      "pid = 52432\n",
      "pid = 54052\n",
      "pid = 54144\n",
      "pid = 54932\n",
      "pid = 55864\n",
      "pid = 56304\n",
      "pid = 56348\n",
      "pid = 59428\n",
      "pid = 59628\n",
      "pid = 59708\n",
      "pid = 59752\n",
      "pid = 59896\n",
      "pid = 59936\n",
      "pid = 60340\n",
      "pid = 60428\n",
      "pid = 60460\n",
      "pid = 60788\n",
      "pid = 61624\n",
      "pid = 61708\n",
      "pid = 61836\n",
      "pid = 64004\n",
      "pid = 64660\n",
      "pid = 65004\n",
      "pid = 65248\n",
      "pid = 65792\n"
     ]
    }
   ],
   "source": [
    "# 2.87 s ± 13 ms per loop\n",
    "\n",
    "import psutil\n",
    "import time\n",
    "from IPython.display import clear_output\n",
    "\n",
    "current_pid = os.getpid()\n",
    "print(f'setting high prio for set_caiman_nice.ipynb. pid = {current_pid}')\n",
    "psutil.Process(os.getpid()).nice(psutil.ABOVE_NORMAL_PRIORITY_CLASS)\n",
    "\n",
    "while 1>0: # forever set caiman nice\n",
    "# while psutil.cpu_percent() > 50: # when cpu too high, set caiman nice\n",
    "    cpu_util = psutil.cpu_percent()\n",
    "    print(f'cpu util = {cpu_util}, start setting caiman nice')\n",
    "\n",
    "    process_name = \"python\"\n",
    "    pids = []\n",
    "    for proc in psutil.process_iter():\n",
    "        if process_name in proc.name():\n",
    "            pids.append(proc.pid)\n",
    "    pids.remove(os.getpid()) # get pid for all python processes except for self\n",
    "    \n",
    "    print(f'setting low prio for all caiman process.')\n",
    "    for i in pids:\n",
    "        print(f'pid = {i}')\n",
    "        psutil.Process(i).nice(psutil.BELOW_NORMAL_PRIORITY_CLASS)\n",
    "\n",
    "    time.sleep(600) # check for new python process every n sec\n",
    "    clear_output(wait=True) # clear cell output after a pause, otherwise too long"
   ]
  }
 ],
 "metadata": {
  "kernelspec": {
   "display_name": "Python 3 (ipykernel)",
   "language": "python",
   "name": "python3"
  },
  "language_info": {
   "codemirror_mode": {
    "name": "ipython",
    "version": 3
   },
   "file_extension": ".py",
   "mimetype": "text/x-python",
   "name": "python",
   "nbconvert_exporter": "python",
   "pygments_lexer": "ipython3",
   "version": "3.7.10"
  },
  "toc": {
   "base_numbering": 1,
   "nav_menu": {},
   "number_sections": true,
   "sideBar": true,
   "skip_h1_title": false,
   "title_cell": "Table of Contents",
   "title_sidebar": "Contents",
   "toc_cell": false,
   "toc_position": {},
   "toc_section_display": true,
   "toc_window_display": false
  }
 },
 "nbformat": 4,
 "nbformat_minor": 5
}
