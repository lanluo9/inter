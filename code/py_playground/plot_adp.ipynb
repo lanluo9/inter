{
 "cells": [
  {
   "cell_type": "code",
   "execution_count": 122,
   "metadata": {},
   "outputs": [],
   "source": [
    "import pandas as pd\n",
    "import numpy as np\n",
    "import scipy\n",
    "from scipy.io import loadmat\n",
    "from sklearn.linear_model import LinearRegression\n",
    "import seaborn as sns\n",
    "import matplotlib.pyplot as plt\n",
    "from astropy.stats import circvar\n",
    "from astropy import units as u"
   ]
  },
  {
   "cell_type": "code",
   "execution_count": 123,
   "metadata": {},
   "outputs": [],
   "source": [
    "def replace_area_name(df, area_key):\n",
    "# df = dataframe containing an area array column\n",
    "# area_key = string\n",
    "\n",
    "    df[area_key] = df[area_key].replace(1, 'V1')\n",
    "    df[area_key] = df[area_key].replace(2, 'LM')\n",
    "    df[area_key] = df[area_key].replace(3, 'LI')\n",
    "    \n",
    "    return df"
   ]
  },
  {
   "cell_type": "markdown",
   "metadata": {},
   "source": [
    "### OSI by area\n",
    "#### for only well-fit cells"
   ]
  },
  {
   "cell_type": "code",
   "execution_count": 27,
   "metadata": {},
   "outputs": [
    {
     "data": {
      "text/html": [
       "<div>\n",
       "<style scoped>\n",
       "    .dataframe tbody tr th:only-of-type {\n",
       "        vertical-align: middle;\n",
       "    }\n",
       "\n",
       "    .dataframe tbody tr th {\n",
       "        vertical-align: top;\n",
       "    }\n",
       "\n",
       "    .dataframe thead th {\n",
       "        text-align: right;\n",
       "    }\n",
       "</style>\n",
       "<table border=\"1\" class=\"dataframe\">\n",
       "  <thead>\n",
       "    <tr style=\"text-align: right;\">\n",
       "      <th></th>\n",
       "      <th>OSI</th>\n",
       "      <th>area</th>\n",
       "    </tr>\n",
       "  </thead>\n",
       "  <tbody>\n",
       "    <tr>\n",
       "      <th>158</th>\n",
       "      <td>0.715140</td>\n",
       "      <td>V1</td>\n",
       "    </tr>\n",
       "    <tr>\n",
       "      <th>159</th>\n",
       "      <td>1.338073</td>\n",
       "      <td>V1</td>\n",
       "    </tr>\n",
       "    <tr>\n",
       "      <th>160</th>\n",
       "      <td>0.960019</td>\n",
       "      <td>V1</td>\n",
       "    </tr>\n",
       "    <tr>\n",
       "      <th>161</th>\n",
       "      <td>0.439901</td>\n",
       "      <td>V1</td>\n",
       "    </tr>\n",
       "    <tr>\n",
       "      <th>162</th>\n",
       "      <td>0.721108</td>\n",
       "      <td>LM</td>\n",
       "    </tr>\n",
       "  </tbody>\n",
       "</table>\n",
       "</div>"
      ],
      "text/plain": [
       "          OSI area\n",
       "158  0.715140   V1\n",
       "159  1.338073   V1\n",
       "160  0.960019   V1\n",
       "161  0.439901   V1\n",
       "162  0.721108   LM"
      ]
     },
     "execution_count": 27,
     "metadata": {},
     "output_type": "execute_result"
    }
   ],
   "source": [
    "OSI_area = loadmat('C:/Users/lan/Documents/repos/inter/plot/OSI_area.mat')\n",
    "df = pd.DataFrame(OSI_area['OSI'], columns=['OSI'])\n",
    "df['area'] = OSI_area['area_merge']\n",
    "df['area'] = df['area'].replace(1, 'V1')\n",
    "df['area'] = df['area'].replace(2, 'LM')\n",
    "df['area'] = df['area'].replace(3, 'LI')\n",
    "df.tail()"
   ]
  },
  {
   "cell_type": "code",
   "execution_count": 33,
   "metadata": {},
   "outputs": [
    {
     "data": {
      "text/html": [
       "<div>\n",
       "<style scoped>\n",
       "    .dataframe tbody tr th:only-of-type {\n",
       "        vertical-align: middle;\n",
       "    }\n",
       "\n",
       "    .dataframe tbody tr th {\n",
       "        vertical-align: top;\n",
       "    }\n",
       "\n",
       "    .dataframe thead tr th {\n",
       "        text-align: left;\n",
       "    }\n",
       "</style>\n",
       "<table border=\"1\" class=\"dataframe\">\n",
       "  <thead>\n",
       "    <tr>\n",
       "      <th></th>\n",
       "      <th>area</th>\n",
       "      <th colspan=\"8\" halign=\"left\">OSI</th>\n",
       "    </tr>\n",
       "    <tr>\n",
       "      <th></th>\n",
       "      <th></th>\n",
       "      <th>count</th>\n",
       "      <th>mean</th>\n",
       "      <th>std</th>\n",
       "      <th>min</th>\n",
       "      <th>25%</th>\n",
       "      <th>50%</th>\n",
       "      <th>75%</th>\n",
       "      <th>max</th>\n",
       "    </tr>\n",
       "  </thead>\n",
       "  <tbody>\n",
       "    <tr>\n",
       "      <th>0</th>\n",
       "      <td>V1</td>\n",
       "      <td>127.0</td>\n",
       "      <td>0.837365</td>\n",
       "      <td>0.258645</td>\n",
       "      <td>0.223475</td>\n",
       "      <td>0.681109</td>\n",
       "      <td>0.813228</td>\n",
       "      <td>1.007458</td>\n",
       "      <td>1.724458</td>\n",
       "    </tr>\n",
       "    <tr>\n",
       "      <th>1</th>\n",
       "      <td>LM</td>\n",
       "      <td>26.0</td>\n",
       "      <td>0.779780</td>\n",
       "      <td>0.317639</td>\n",
       "      <td>0.269632</td>\n",
       "      <td>0.553851</td>\n",
       "      <td>0.814957</td>\n",
       "      <td>0.982178</td>\n",
       "      <td>1.697787</td>\n",
       "    </tr>\n",
       "    <tr>\n",
       "      <th>2</th>\n",
       "      <td>LI</td>\n",
       "      <td>10.0</td>\n",
       "      <td>1.045070</td>\n",
       "      <td>0.452064</td>\n",
       "      <td>0.534157</td>\n",
       "      <td>0.863942</td>\n",
       "      <td>0.940161</td>\n",
       "      <td>1.028255</td>\n",
       "      <td>2.231971</td>\n",
       "    </tr>\n",
       "  </tbody>\n",
       "</table>\n",
       "</div>"
      ],
      "text/plain": [
       "  area    OSI                                                              \\\n",
       "        count      mean       std       min       25%       50%       75%   \n",
       "0   V1  127.0  0.837365  0.258645  0.223475  0.681109  0.813228  1.007458   \n",
       "1   LM   26.0  0.779780  0.317639  0.269632  0.553851  0.814957  0.982178   \n",
       "2   LI   10.0  1.045070  0.452064  0.534157  0.863942  0.940161  1.028255   \n",
       "\n",
       "             \n",
       "        max  \n",
       "0  1.724458  \n",
       "1  1.697787  \n",
       "2  2.231971  "
      ]
     },
     "execution_count": 33,
     "metadata": {},
     "output_type": "execute_result"
    }
   ],
   "source": [
    "df.groupby('area', sort=False).describe().reset_index()"
   ]
  },
  {
   "cell_type": "code",
   "execution_count": 30,
   "metadata": {
    "scrolled": true
   },
   "outputs": [
    {
     "data": {
      "image/png": "[encoded data removed]",
      "text/plain": [
       "<Figure size 432x288 with 1 Axes>"
      ]
     },
     "metadata": {
      "needs_background": "light"
     },
     "output_type": "display_data"
    }
   ],
   "source": [
    "ax = sns.violinplot(x=\"area\", y=\"OSI\", data=df)"
   ]
  },
  {
   "cell_type": "markdown",
   "metadata": {},
   "source": [
    "#### OSI by area for all vis driven (by tg) cells"
   ]
  },
  {
   "cell_type": "code",
   "execution_count": 246,
   "metadata": {},
   "outputs": [
    {
     "data": {
      "text/html": [
       "<div>\n",
       "<style scoped>\n",
       "    .dataframe tbody tr th:only-of-type {\n",
       "        vertical-align: middle;\n",
       "    }\n",
       "\n",
       "    .dataframe tbody tr th {\n",
       "        vertical-align: top;\n",
       "    }\n",
       "\n",
       "    .dataframe thead th {\n",
       "        text-align: right;\n",
       "    }\n",
       "</style>\n",
       "<table border=\"1\" class=\"dataframe\">\n",
       "  <thead>\n",
       "    <tr style=\"text-align: right;\">\n",
       "      <th></th>\n",
       "      <th>OSI</th>\n",
       "      <th>well_fit</th>\n",
       "      <th>area</th>\n",
       "    </tr>\n",
       "  </thead>\n",
       "  <tbody>\n",
       "    <tr>\n",
       "      <th>407</th>\n",
       "      <td>1.313234</td>\n",
       "      <td>0</td>\n",
       "      <td>LM</td>\n",
       "    </tr>\n",
       "    <tr>\n",
       "      <th>408</th>\n",
       "      <td>1.094038</td>\n",
       "      <td>0</td>\n",
       "      <td>LM</td>\n",
       "    </tr>\n",
       "    <tr>\n",
       "      <th>409</th>\n",
       "      <td>0.674029</td>\n",
       "      <td>0</td>\n",
       "      <td>LM</td>\n",
       "    </tr>\n",
       "    <tr>\n",
       "      <th>410</th>\n",
       "      <td>0.052561</td>\n",
       "      <td>0</td>\n",
       "      <td>LM</td>\n",
       "    </tr>\n",
       "    <tr>\n",
       "      <th>411</th>\n",
       "      <td>0.129447</td>\n",
       "      <td>0</td>\n",
       "      <td>LM</td>\n",
       "    </tr>\n",
       "  </tbody>\n",
       "</table>\n",
       "</div>"
      ],
      "text/plain": [
       "          OSI  well_fit area\n",
       "407  1.313234         0   LM\n",
       "408  1.094038         0   LM\n",
       "409  0.674029         0   LM\n",
       "410  0.052561         0   LM\n",
       "411  0.129447         0   LM"
      ]
     },
     "execution_count": 246,
     "metadata": {},
     "output_type": "execute_result"
    }
   ],
   "source": [
    "OSI_area = loadmat('C:/Users/lan/Documents/repos/inter/plot/OSI_area_vis.mat')\n",
    "df = pd.DataFrame(OSI_area['OSI_all'], columns=['OSI'])\n",
    "df['well_fit'] = OSI_area['well_fit']\n",
    "df['area'] = OSI_area['area']\n",
    "df = replace_area_name(df, 'area')\n",
    "df.tail()"
   ]
  },
  {
   "cell_type": "code",
   "execution_count": 247,
   "metadata": {
    "scrolled": true
   },
   "outputs": [
    {
     "data": {
      "text/html": [
       "<div>\n",
       "<style scoped>\n",
       "    .dataframe tbody tr th:only-of-type {\n",
       "        vertical-align: middle;\n",
       "    }\n",
       "\n",
       "    .dataframe tbody tr th {\n",
       "        vertical-align: top;\n",
       "    }\n",
       "\n",
       "    .dataframe thead tr th {\n",
       "        text-align: left;\n",
       "    }\n",
       "</style>\n",
       "<table border=\"1\" class=\"dataframe\">\n",
       "  <thead>\n",
       "    <tr>\n",
       "      <th></th>\n",
       "      <th>well_fit</th>\n",
       "      <th colspan=\"8\" halign=\"left\">OSI</th>\n",
       "    </tr>\n",
       "    <tr>\n",
       "      <th></th>\n",
       "      <th></th>\n",
       "      <th>count</th>\n",
       "      <th>mean</th>\n",
       "      <th>std</th>\n",
       "      <th>min</th>\n",
       "      <th>25%</th>\n",
       "      <th>50%</th>\n",
       "      <th>75%</th>\n",
       "      <th>max</th>\n",
       "    </tr>\n",
       "  </thead>\n",
       "  <tbody>\n",
       "    <tr>\n",
       "      <th>0</th>\n",
       "      <td>1</td>\n",
       "      <td>140.0</td>\n",
       "      <td>0.803572</td>\n",
       "      <td>0.253224</td>\n",
       "      <td>0.223475</td>\n",
       "      <td>0.659068</td>\n",
       "      <td>0.797842</td>\n",
       "      <td>0.996368</td>\n",
       "      <td>1.697787</td>\n",
       "    </tr>\n",
       "    <tr>\n",
       "      <th>1</th>\n",
       "      <td>0</td>\n",
       "      <td>272.0</td>\n",
       "      <td>0.423970</td>\n",
       "      <td>0.361699</td>\n",
       "      <td>-0.504607</td>\n",
       "      <td>0.184252</td>\n",
       "      <td>0.410097</td>\n",
       "      <td>0.618741</td>\n",
       "      <td>1.515452</td>\n",
       "    </tr>\n",
       "  </tbody>\n",
       "</table>\n",
       "</div>"
      ],
      "text/plain": [
       "  well_fit    OSI                                                              \\\n",
       "            count      mean       std       min       25%       50%       75%   \n",
       "0        1  140.0  0.803572  0.253224  0.223475  0.659068  0.797842  0.996368   \n",
       "1        0  272.0  0.423970  0.361699 -0.504607  0.184252  0.410097  0.618741   \n",
       "\n",
       "             \n",
       "        max  \n",
       "0  1.697787  \n",
       "1  1.515452  "
      ]
     },
     "execution_count": 247,
     "metadata": {},
     "output_type": "execute_result"
    }
   ],
   "source": [
    "df.groupby('well_fit', sort=False).describe().reset_index()"
   ]
  },
  {
   "cell_type": "code",
   "execution_count": 257,
   "metadata": {},
   "outputs": [
    {
     "data": {
      "text/html": [
       "<div>\n",
       "<style scoped>\n",
       "    .dataframe tbody tr th:only-of-type {\n",
       "        vertical-align: middle;\n",
       "    }\n",
       "\n",
       "    .dataframe tbody tr th {\n",
       "        vertical-align: top;\n",
       "    }\n",
       "\n",
       "    .dataframe thead th {\n",
       "        text-align: right;\n",
       "    }\n",
       "</style>\n",
       "<table border=\"1\" class=\"dataframe\">\n",
       "  <thead>\n",
       "    <tr style=\"text-align: right;\">\n",
       "      <th></th>\n",
       "      <th>area</th>\n",
       "      <th>well_fit</th>\n",
       "    </tr>\n",
       "  </thead>\n",
       "  <tbody>\n",
       "    <tr>\n",
       "      <th>0</th>\n",
       "      <td>V1</td>\n",
       "      <td>239</td>\n",
       "    </tr>\n",
       "    <tr>\n",
       "      <th>1</th>\n",
       "      <td>LM</td>\n",
       "      <td>107</td>\n",
       "    </tr>\n",
       "    <tr>\n",
       "      <th>2</th>\n",
       "      <td>LI</td>\n",
       "      <td>66</td>\n",
       "    </tr>\n",
       "  </tbody>\n",
       "</table>\n",
       "</div>"
      ],
      "text/plain": [
       "  area  well_fit\n",
       "0   V1       239\n",
       "1   LM       107\n",
       "2   LI        66"
      ]
     },
     "execution_count": 257,
     "metadata": {},
     "output_type": "execute_result"
    }
   ],
   "source": [
    "df[['area','well_fit']].groupby('area', sort=False).count().reset_index()"
   ]
  },
  {
   "cell_type": "code",
   "execution_count": 250,
   "metadata": {},
   "outputs": [
    {
     "data": {
      "image/png": "[encoded data removed]",
      "text/plain": [
       "<Figure size 432x288 with 1 Axes>"
      ]
     },
     "metadata": {
      "needs_background": "light"
     },
     "output_type": "display_data"
    }
   ],
   "source": [
    "# plt.figure(figsize=(15, 10))\n",
    "ax = sns.violinplot(x=\"area\", y=\"OSI\", hue=\"well_fit\",\n",
    "                    data=df, palette=\"Set3\", split=True)"
   ]
  },
  {
   "cell_type": "markdown",
   "metadata": {},
   "source": [
    "### Circular Variance by area\n",
    "\n",
    "https://stackoverflow.com/questions/52856232/scipy-circular-variance  \n",
    "https://ncss-wpengine.netdna-ssl.com/wp-content/themes/ncss/pdf/Procedures/NCSS/Circular_Data_Analysis.pdf  \n",
    "https://docs.astropy.org/en/stable/api/astropy.stats.circvar.html"
   ]
  },
  {
   "cell_type": "code",
   "execution_count": 48,
   "metadata": {},
   "outputs": [
    {
     "data": {
      "text/plain": [
       "array([[ 95.,  53.,  38., ..., 185., 186., 185.],\n",
       "       [ 83.,  13.,   6., ...,  18.,  78., 331.],\n",
       "       [192., 334., 332., ...,  38.,  46.,  88.],\n",
       "       ...,\n",
       "       [ 61.,  65.,  91., ...,  28.,   2.,  27.],\n",
       "       [ 87.,  54., 105., ..., 130., 269., 200.],\n",
       "       [ 21.,  34.,   2., ...,  71.,  42.,  26.]])"
      ]
     },
     "execution_count": 48,
     "metadata": {},
     "output_type": "execute_result"
    }
   ],
   "source": [
    "temp = loadmat('C:/Users/lan/Documents/repos/inter/plot/CirVar_area.mat')\n",
    "ori_list = np.arange(0, 180, 22.5)\n",
    "temp['dfof_tg_ori']"
   ]
  },
  {
   "cell_type": "code",
   "execution_count": 170,
   "metadata": {},
   "outputs": [
    {
     "name": "stderr",
     "output_type": "stream",
     "text": [
      "C:\\Users\\lan\\anaconda3\\lib\\site-packages\\astropy\\units\\quantity.py:477: RuntimeWarning: invalid value encountered in true_divide\n",
      "  result = super().__array_ufunc__(function, method, *arrays, **kwargs)\n"
     ]
    }
   ],
   "source": [
    "ncell = temp['dfof_tg_ori'].shape[0]\n",
    "nori = 8\n",
    "cirvar = np.pi * np.ones((ncell, 1))\n",
    "\n",
    "for icell in range(0, ncell):\n",
    "    pseudo = [] # pretend there is a dist of angles, to calculate circular variance\n",
    "    \n",
    "    for j in range(0, nori):\n",
    "        pseudo.append([ori_list[j]] * int(temp['dfof_tg_ori'][icell][j])) \n",
    "        pseudo_flat = [item for sublist in pseudo for item in sublist]\n",
    "        cell_data = np.asarray(pseudo_flat)*u.deg\n",
    "        cirvar[icell] = float(circvar(cell_data))"
   ]
  },
  {
   "cell_type": "code",
   "execution_count": 172,
   "metadata": {},
   "outputs": [
    {
     "data": {
      "text/plain": [
       "(163, 1)"
      ]
     },
     "execution_count": 172,
     "metadata": {},
     "output_type": "execute_result"
    }
   ],
   "source": [
    "cirvar.shape"
   ]
  },
  {
   "cell_type": "code",
   "execution_count": 174,
   "metadata": {},
   "outputs": [
    {
     "data": {
      "text/html": [
       "<div>\n",
       "<style scoped>\n",
       "    .dataframe tbody tr th:only-of-type {\n",
       "        vertical-align: middle;\n",
       "    }\n",
       "\n",
       "    .dataframe tbody tr th {\n",
       "        vertical-align: top;\n",
       "    }\n",
       "\n",
       "    .dataframe thead th {\n",
       "        text-align: right;\n",
       "    }\n",
       "</style>\n",
       "<table border=\"1\" class=\"dataframe\">\n",
       "  <thead>\n",
       "    <tr style=\"text-align: right;\">\n",
       "      <th></th>\n",
       "      <th>cirvar</th>\n",
       "      <th>area</th>\n",
       "    </tr>\n",
       "  </thead>\n",
       "  <tbody>\n",
       "    <tr>\n",
       "      <th>158</th>\n",
       "      <td>0.227349</td>\n",
       "      <td>V1</td>\n",
       "    </tr>\n",
       "    <tr>\n",
       "      <th>159</th>\n",
       "      <td>0.214398</td>\n",
       "      <td>V1</td>\n",
       "    </tr>\n",
       "    <tr>\n",
       "      <th>160</th>\n",
       "      <td>0.217707</td>\n",
       "      <td>V1</td>\n",
       "    </tr>\n",
       "    <tr>\n",
       "      <th>161</th>\n",
       "      <td>0.324340</td>\n",
       "      <td>V1</td>\n",
       "    </tr>\n",
       "    <tr>\n",
       "      <th>162</th>\n",
       "      <td>0.216299</td>\n",
       "      <td>LM</td>\n",
       "    </tr>\n",
       "  </tbody>\n",
       "</table>\n",
       "</div>"
      ],
      "text/plain": [
       "       cirvar area\n",
       "158  0.227349   V1\n",
       "159  0.214398   V1\n",
       "160  0.217707   V1\n",
       "161  0.324340   V1\n",
       "162  0.216299   LM"
      ]
     },
     "execution_count": 174,
     "metadata": {},
     "output_type": "execute_result"
    }
   ],
   "source": [
    "df2 = pd.DataFrame(cirvar, columns=['cirvar'])\n",
    "df2['area'] = temp['area_merge']\n",
    "df2['area'] = df['area'].replace(1, 'V1')\n",
    "df2['area'] = df['area'].replace(2, 'LM')\n",
    "df2['area'] = df['area'].replace(3, 'LI')\n",
    "df2.tail()"
   ]
  },
  {
   "cell_type": "code",
   "execution_count": 175,
   "metadata": {},
   "outputs": [
    {
     "data": {
      "text/html": [
       "<div>\n",
       "<style scoped>\n",
       "    .dataframe tbody tr th:only-of-type {\n",
       "        vertical-align: middle;\n",
       "    }\n",
       "\n",
       "    .dataframe tbody tr th {\n",
       "        vertical-align: top;\n",
       "    }\n",
       "\n",
       "    .dataframe thead tr th {\n",
       "        text-align: left;\n",
       "    }\n",
       "</style>\n",
       "<table border=\"1\" class=\"dataframe\">\n",
       "  <thead>\n",
       "    <tr>\n",
       "      <th></th>\n",
       "      <th>area</th>\n",
       "      <th colspan=\"8\" halign=\"left\">cirvar</th>\n",
       "    </tr>\n",
       "    <tr>\n",
       "      <th></th>\n",
       "      <th></th>\n",
       "      <th>count</th>\n",
       "      <th>mean</th>\n",
       "      <th>std</th>\n",
       "      <th>min</th>\n",
       "      <th>25%</th>\n",
       "      <th>50%</th>\n",
       "      <th>75%</th>\n",
       "      <th>max</th>\n",
       "    </tr>\n",
       "  </thead>\n",
       "  <tbody>\n",
       "    <tr>\n",
       "      <th>0</th>\n",
       "      <td>V1</td>\n",
       "      <td>127.0</td>\n",
       "      <td>0.259590</td>\n",
       "      <td>0.158499</td>\n",
       "      <td>0.019122</td>\n",
       "      <td>0.155170</td>\n",
       "      <td>0.220654</td>\n",
       "      <td>0.321424</td>\n",
       "      <td>0.740979</td>\n",
       "    </tr>\n",
       "    <tr>\n",
       "      <th>1</th>\n",
       "      <td>LM</td>\n",
       "      <td>26.0</td>\n",
       "      <td>0.262714</td>\n",
       "      <td>0.139670</td>\n",
       "      <td>0.082699</td>\n",
       "      <td>0.154470</td>\n",
       "      <td>0.242382</td>\n",
       "      <td>0.317231</td>\n",
       "      <td>0.604651</td>\n",
       "    </tr>\n",
       "    <tr>\n",
       "      <th>2</th>\n",
       "      <td>LI</td>\n",
       "      <td>10.0</td>\n",
       "      <td>0.172558</td>\n",
       "      <td>0.152244</td>\n",
       "      <td>0.064808</td>\n",
       "      <td>0.090716</td>\n",
       "      <td>0.127283</td>\n",
       "      <td>0.175689</td>\n",
       "      <td>0.579904</td>\n",
       "    </tr>\n",
       "  </tbody>\n",
       "</table>\n",
       "</div>"
      ],
      "text/plain": [
       "  area cirvar                                                              \\\n",
       "        count      mean       std       min       25%       50%       75%   \n",
       "0   V1  127.0  0.259590  0.158499  0.019122  0.155170  0.220654  0.321424   \n",
       "1   LM   26.0  0.262714  0.139670  0.082699  0.154470  0.242382  0.317231   \n",
       "2   LI   10.0  0.172558  0.152244  0.064808  0.090716  0.127283  0.175689   \n",
       "\n",
       "             \n",
       "        max  \n",
       "0  0.740979  \n",
       "1  0.604651  \n",
       "2  0.579904  "
      ]
     },
     "execution_count": 175,
     "metadata": {},
     "output_type": "execute_result"
    }
   ],
   "source": [
    "df2.groupby('area', sort=False).describe().reset_index()"
   ]
  },
  {
   "cell_type": "code",
   "execution_count": 177,
   "metadata": {},
   "outputs": [
    {
     "data": {
      "image/png": "[encoded data removed]",
      "text/plain": [
       "<Figure size 432x288 with 1 Axes>"
      ]
     },
     "metadata": {
      "needs_background": "light"
     },
     "output_type": "display_data"
    }
   ],
   "source": [
    "ax = sns.violinplot(x=\"area\", y=\"cirvar\", data=df2)"
   ]
  },
  {
   "cell_type": "code",
   "execution_count": 184,
   "metadata": {},
   "outputs": [
    {
     "data": {
      "text/html": [
       "<div>\n",
       "<style scoped>\n",
       "    .dataframe tbody tr th:only-of-type {\n",
       "        vertical-align: middle;\n",
       "    }\n",
       "\n",
       "    .dataframe tbody tr th {\n",
       "        vertical-align: top;\n",
       "    }\n",
       "\n",
       "    .dataframe thead tr th {\n",
       "        text-align: left;\n",
       "    }\n",
       "</style>\n",
       "<table border=\"1\" class=\"dataframe\">\n",
       "  <thead>\n",
       "    <tr>\n",
       "      <th></th>\n",
       "      <th>area</th>\n",
       "      <th colspan=\"8\" halign=\"left\">cir_converge</th>\n",
       "    </tr>\n",
       "    <tr>\n",
       "      <th></th>\n",
       "      <th></th>\n",
       "      <th>count</th>\n",
       "      <th>mean</th>\n",
       "      <th>std</th>\n",
       "      <th>min</th>\n",
       "      <th>25%</th>\n",
       "      <th>50%</th>\n",
       "      <th>75%</th>\n",
       "      <th>max</th>\n",
       "    </tr>\n",
       "  </thead>\n",
       "  <tbody>\n",
       "    <tr>\n",
       "      <th>0</th>\n",
       "      <td>V1</td>\n",
       "      <td>127.0</td>\n",
       "      <td>0.740410</td>\n",
       "      <td>0.158499</td>\n",
       "      <td>0.259021</td>\n",
       "      <td>0.678576</td>\n",
       "      <td>0.779346</td>\n",
       "      <td>0.844830</td>\n",
       "      <td>0.980878</td>\n",
       "    </tr>\n",
       "    <tr>\n",
       "      <th>1</th>\n",
       "      <td>LM</td>\n",
       "      <td>26.0</td>\n",
       "      <td>0.737286</td>\n",
       "      <td>0.139670</td>\n",
       "      <td>0.395349</td>\n",
       "      <td>0.682769</td>\n",
       "      <td>0.757618</td>\n",
       "      <td>0.845530</td>\n",
       "      <td>0.917301</td>\n",
       "    </tr>\n",
       "    <tr>\n",
       "      <th>2</th>\n",
       "      <td>LI</td>\n",
       "      <td>10.0</td>\n",
       "      <td>0.827442</td>\n",
       "      <td>0.152244</td>\n",
       "      <td>0.420096</td>\n",
       "      <td>0.824311</td>\n",
       "      <td>0.872717</td>\n",
       "      <td>0.909284</td>\n",
       "      <td>0.935192</td>\n",
       "    </tr>\n",
       "  </tbody>\n",
       "</table>\n",
       "</div>"
      ],
      "text/plain": [
       "  area cir_converge                                                    \\\n",
       "              count      mean       std       min       25%       50%   \n",
       "0   V1        127.0  0.740410  0.158499  0.259021  0.678576  0.779346   \n",
       "1   LM         26.0  0.737286  0.139670  0.395349  0.682769  0.757618   \n",
       "2   LI         10.0  0.827442  0.152244  0.420096  0.824311  0.872717   \n",
       "\n",
       "                       \n",
       "        75%       max  \n",
       "0  0.844830  0.980878  \n",
       "1  0.845530  0.917301  \n",
       "2  0.909284  0.935192  "
      ]
     },
     "execution_count": 184,
     "metadata": {},
     "output_type": "execute_result"
    }
   ],
   "source": [
    "df3 = pd.DataFrame(df2['area'], columns=['area'])\n",
    "df3['cir_converge'] = 1 - df2['cirvar']\n",
    "df3.groupby('area', sort=False).describe().reset_index()"
   ]
  },
  {
   "cell_type": "code",
   "execution_count": 186,
   "metadata": {},
   "outputs": [
    {
     "data": {
      "image/png": "[encoded data removed]",
      "text/plain": [
       "<Figure size 432x288 with 1 Axes>"
      ]
     },
     "metadata": {
      "needs_background": "light"
     },
     "output_type": "display_data"
    }
   ],
   "source": [
    "ax = sns.violinplot(x=\"area\", y=\"cir_converge\", data=df3)"
   ]
  },
  {
   "cell_type": "markdown",
   "metadata": {},
   "source": [
    "### Coefficient of variance (reverse SNR) by area"
   ]
  },
  {
   "cell_type": "code",
   "execution_count": 188,
   "metadata": {},
   "outputs": [
    {
     "data": {
      "text/html": [
       "<div>\n",
       "<style scoped>\n",
       "    .dataframe tbody tr th:only-of-type {\n",
       "        vertical-align: middle;\n",
       "    }\n",
       "\n",
       "    .dataframe tbody tr th {\n",
       "        vertical-align: top;\n",
       "    }\n",
       "\n",
       "    .dataframe thead th {\n",
       "        text-align: right;\n",
       "    }\n",
       "</style>\n",
       "<table border=\"1\" class=\"dataframe\">\n",
       "  <thead>\n",
       "    <tr style=\"text-align: right;\">\n",
       "      <th></th>\n",
       "      <th>coeff_var</th>\n",
       "      <th>area</th>\n",
       "    </tr>\n",
       "  </thead>\n",
       "  <tbody>\n",
       "    <tr>\n",
       "      <th>158</th>\n",
       "      <td>1.380920</td>\n",
       "      <td>V1</td>\n",
       "    </tr>\n",
       "    <tr>\n",
       "      <th>159</th>\n",
       "      <td>1.713989</td>\n",
       "      <td>V1</td>\n",
       "    </tr>\n",
       "    <tr>\n",
       "      <th>160</th>\n",
       "      <td>1.560342</td>\n",
       "      <td>V1</td>\n",
       "    </tr>\n",
       "    <tr>\n",
       "      <th>161</th>\n",
       "      <td>0.881934</td>\n",
       "      <td>V1</td>\n",
       "    </tr>\n",
       "    <tr>\n",
       "      <th>162</th>\n",
       "      <td>1.071561</td>\n",
       "      <td>LM</td>\n",
       "    </tr>\n",
       "  </tbody>\n",
       "</table>\n",
       "</div>"
      ],
      "text/plain": [
       "     coeff_var area\n",
       "158   1.380920   V1\n",
       "159   1.713989   V1\n",
       "160   1.560342   V1\n",
       "161   0.881934   V1\n",
       "162   1.071561   LM"
      ]
     },
     "execution_count": 188,
     "metadata": {},
     "output_type": "execute_result"
    }
   ],
   "source": [
    "temp = loadmat('C:/Users/lan/Documents/repos/inter/plot/CV_area_well_fit.mat')\n",
    "df4 = pd.DataFrame(temp['coeff_var'], columns=['coeff_var'])\n",
    "df4['area'] = temp['area_merge']\n",
    "df4['area'] = df4['area'].replace(1, 'V1')\n",
    "df4['area'] = df4['area'].replace(2, 'LM')\n",
    "df4['area'] = df4['area'].replace(3, 'LI')\n",
    "df4.tail()"
   ]
  },
  {
   "cell_type": "code",
   "execution_count": 189,
   "metadata": {},
   "outputs": [
    {
     "data": {
      "text/html": [
       "<div>\n",
       "<style scoped>\n",
       "    .dataframe tbody tr th:only-of-type {\n",
       "        vertical-align: middle;\n",
       "    }\n",
       "\n",
       "    .dataframe tbody tr th {\n",
       "        vertical-align: top;\n",
       "    }\n",
       "\n",
       "    .dataframe thead tr th {\n",
       "        text-align: left;\n",
       "    }\n",
       "</style>\n",
       "<table border=\"1\" class=\"dataframe\">\n",
       "  <thead>\n",
       "    <tr>\n",
       "      <th></th>\n",
       "      <th>area</th>\n",
       "      <th colspan=\"8\" halign=\"left\">coeff_var</th>\n",
       "    </tr>\n",
       "    <tr>\n",
       "      <th></th>\n",
       "      <th></th>\n",
       "      <th>count</th>\n",
       "      <th>mean</th>\n",
       "      <th>std</th>\n",
       "      <th>min</th>\n",
       "      <th>25%</th>\n",
       "      <th>50%</th>\n",
       "      <th>75%</th>\n",
       "      <th>max</th>\n",
       "    </tr>\n",
       "  </thead>\n",
       "  <tbody>\n",
       "    <tr>\n",
       "      <th>0</th>\n",
       "      <td>V1</td>\n",
       "      <td>127.0</td>\n",
       "      <td>1.236659</td>\n",
       "      <td>0.509785</td>\n",
       "      <td>0.427586</td>\n",
       "      <td>0.896022</td>\n",
       "      <td>1.122228</td>\n",
       "      <td>1.418747</td>\n",
       "      <td>3.221728</td>\n",
       "    </tr>\n",
       "    <tr>\n",
       "      <th>1</th>\n",
       "      <td>LM</td>\n",
       "      <td>26.0</td>\n",
       "      <td>1.078049</td>\n",
       "      <td>0.247304</td>\n",
       "      <td>0.582420</td>\n",
       "      <td>0.931758</td>\n",
       "      <td>1.089826</td>\n",
       "      <td>1.261921</td>\n",
       "      <td>1.491390</td>\n",
       "    </tr>\n",
       "    <tr>\n",
       "      <th>2</th>\n",
       "      <td>LI</td>\n",
       "      <td>10.0</td>\n",
       "      <td>1.546099</td>\n",
       "      <td>0.712729</td>\n",
       "      <td>0.543830</td>\n",
       "      <td>1.004850</td>\n",
       "      <td>1.422070</td>\n",
       "      <td>2.033735</td>\n",
       "      <td>2.863492</td>\n",
       "    </tr>\n",
       "  </tbody>\n",
       "</table>\n",
       "</div>"
      ],
      "text/plain": [
       "  area coeff_var                                                              \\\n",
       "           count      mean       std       min       25%       50%       75%   \n",
       "0   V1     127.0  1.236659  0.509785  0.427586  0.896022  1.122228  1.418747   \n",
       "1   LM      26.0  1.078049  0.247304  0.582420  0.931758  1.089826  1.261921   \n",
       "2   LI      10.0  1.546099  0.712729  0.543830  1.004850  1.422070  2.033735   \n",
       "\n",
       "             \n",
       "        max  \n",
       "0  3.221728  \n",
       "1  1.491390  \n",
       "2  2.863492  "
      ]
     },
     "execution_count": 189,
     "metadata": {},
     "output_type": "execute_result"
    }
   ],
   "source": [
    "df4.groupby('area', sort=False).describe().reset_index()"
   ]
  },
  {
   "cell_type": "code",
   "execution_count": 192,
   "metadata": {},
   "outputs": [
    {
     "data": {
      "image/png": "[encoded data removed]",
      "text/plain": [
       "<Figure size 432x288 with 1 Axes>"
      ]
     },
     "metadata": {
      "needs_background": "light"
     },
     "output_type": "display_data"
    }
   ],
   "source": [
    "ax = sns.violinplot(x=\"area\", y=\"coeff_var\", data=df4)"
   ]
  },
  {
   "cell_type": "code",
   "execution_count": 2,
   "metadata": {},
   "outputs": [
    {
     "data": {
      "text/html": [
       "<div>\n",
       "<style scoped>\n",
       "    .dataframe tbody tr th:only-of-type {\n",
       "        vertical-align: middle;\n",
       "    }\n",
       "\n",
       "    .dataframe tbody tr th {\n",
       "        vertical-align: top;\n",
       "    }\n",
       "\n",
       "    .dataframe thead th {\n",
       "        text-align: right;\n",
       "    }\n",
       "</style>\n",
       "<table border=\"1\" class=\"dataframe\">\n",
       "  <thead>\n",
       "    <tr style=\"text-align: right;\">\n",
       "      <th></th>\n",
       "      <th>CV</th>\n",
       "      <th>well_fit</th>\n",
       "      <th>area</th>\n",
       "    </tr>\n",
       "  </thead>\n",
       "  <tbody>\n",
       "    <tr>\n",
       "      <th>0</th>\n",
       "      <td>0.535121</td>\n",
       "      <td>1</td>\n",
       "      <td>V1</td>\n",
       "    </tr>\n",
       "    <tr>\n",
       "      <th>1</th>\n",
       "      <td>1.031213</td>\n",
       "      <td>1</td>\n",
       "      <td>V1</td>\n",
       "    </tr>\n",
       "    <tr>\n",
       "      <th>2</th>\n",
       "      <td>0.654318</td>\n",
       "      <td>1</td>\n",
       "      <td>V1</td>\n",
       "    </tr>\n",
       "    <tr>\n",
       "      <th>3</th>\n",
       "      <td>1.473593</td>\n",
       "      <td>1</td>\n",
       "      <td>V1</td>\n",
       "    </tr>\n",
       "    <tr>\n",
       "      <th>4</th>\n",
       "      <td>1.196315</td>\n",
       "      <td>1</td>\n",
       "      <td>V1</td>\n",
       "    </tr>\n",
       "  </tbody>\n",
       "</table>\n",
       "</div>"
      ],
      "text/plain": [
       "         CV  well_fit area\n",
       "0  0.535121         1   V1\n",
       "1  1.031213         1   V1\n",
       "2  0.654318         1   V1\n",
       "3  1.473593         1   V1\n",
       "4  1.196315         1   V1"
      ]
     },
     "execution_count": 2,
     "metadata": {},
     "output_type": "execute_result"
    }
   ],
   "source": [
    "temp = loadmat('C:/Users/lan/Documents/repos/inter/plot/CV_area.mat')\n",
    "df5 = pd.DataFrame(temp['CV'], columns=['CV'])\n",
    "df5['well_fit'] = temp['well_fit']\n",
    "df5['area'] = temp['area']\n",
    "\n",
    "df5['area'] = df5['area'].replace(1, 'V1')\n",
    "df5['area'] = df5['area'].replace(2, 'LM')\n",
    "df5['area'] = df5['area'].replace(3, 'LI')\n",
    "df5.head()"
   ]
  },
  {
   "cell_type": "code",
   "execution_count": 3,
   "metadata": {
    "scrolled": true
   },
   "outputs": [
    {
     "data": {
      "text/html": [
       "<div>\n",
       "<style scoped>\n",
       "    .dataframe tbody tr th:only-of-type {\n",
       "        vertical-align: middle;\n",
       "    }\n",
       "\n",
       "    .dataframe tbody tr th {\n",
       "        vertical-align: top;\n",
       "    }\n",
       "\n",
       "    .dataframe thead tr th {\n",
       "        text-align: left;\n",
       "    }\n",
       "</style>\n",
       "<table border=\"1\" class=\"dataframe\">\n",
       "  <thead>\n",
       "    <tr>\n",
       "      <th></th>\n",
       "      <th>area</th>\n",
       "      <th colspan=\"8\" halign=\"left\">CV</th>\n",
       "      <th colspan=\"8\" halign=\"left\">well_fit</th>\n",
       "    </tr>\n",
       "    <tr>\n",
       "      <th></th>\n",
       "      <th></th>\n",
       "      <th>count</th>\n",
       "      <th>mean</th>\n",
       "      <th>std</th>\n",
       "      <th>min</th>\n",
       "      <th>25%</th>\n",
       "      <th>50%</th>\n",
       "      <th>75%</th>\n",
       "      <th>max</th>\n",
       "      <th>count</th>\n",
       "      <th>mean</th>\n",
       "      <th>std</th>\n",
       "      <th>min</th>\n",
       "      <th>25%</th>\n",
       "      <th>50%</th>\n",
       "      <th>75%</th>\n",
       "      <th>max</th>\n",
       "    </tr>\n",
       "  </thead>\n",
       "  <tbody>\n",
       "    <tr>\n",
       "      <th>0</th>\n",
       "      <td>V1</td>\n",
       "      <td>239.0</td>\n",
       "      <td>1.459157</td>\n",
       "      <td>0.851228</td>\n",
       "      <td>0.427586</td>\n",
       "      <td>0.960352</td>\n",
       "      <td>1.243850</td>\n",
       "      <td>1.705039</td>\n",
       "      <td>9.317377</td>\n",
       "      <td>239.0</td>\n",
       "      <td>0.451883</td>\n",
       "      <td>0.498724</td>\n",
       "      <td>0.0</td>\n",
       "      <td>0.0</td>\n",
       "      <td>0.0</td>\n",
       "      <td>1.0</td>\n",
       "      <td>1.0</td>\n",
       "    </tr>\n",
       "    <tr>\n",
       "      <th>1</th>\n",
       "      <td>LM</td>\n",
       "      <td>107.0</td>\n",
       "      <td>1.467266</td>\n",
       "      <td>0.926974</td>\n",
       "      <td>0.373075</td>\n",
       "      <td>1.017019</td>\n",
       "      <td>1.261939</td>\n",
       "      <td>1.654310</td>\n",
       "      <td>7.091795</td>\n",
       "      <td>107.0</td>\n",
       "      <td>0.242991</td>\n",
       "      <td>0.430908</td>\n",
       "      <td>0.0</td>\n",
       "      <td>0.0</td>\n",
       "      <td>0.0</td>\n",
       "      <td>0.0</td>\n",
       "      <td>1.0</td>\n",
       "    </tr>\n",
       "    <tr>\n",
       "      <th>2</th>\n",
       "      <td>LI</td>\n",
       "      <td>66.0</td>\n",
       "      <td>1.442375</td>\n",
       "      <td>0.756953</td>\n",
       "      <td>0.543830</td>\n",
       "      <td>0.981726</td>\n",
       "      <td>1.233344</td>\n",
       "      <td>1.731662</td>\n",
       "      <td>4.719363</td>\n",
       "      <td>66.0</td>\n",
       "      <td>0.090909</td>\n",
       "      <td>0.289683</td>\n",
       "      <td>0.0</td>\n",
       "      <td>0.0</td>\n",
       "      <td>0.0</td>\n",
       "      <td>0.0</td>\n",
       "      <td>1.0</td>\n",
       "    </tr>\n",
       "  </tbody>\n",
       "</table>\n",
       "</div>"
      ],
      "text/plain": [
       "  area     CV                                                              \\\n",
       "        count      mean       std       min       25%       50%       75%   \n",
       "0   V1  239.0  1.459157  0.851228  0.427586  0.960352  1.243850  1.705039   \n",
       "1   LM  107.0  1.467266  0.926974  0.373075  1.017019  1.261939  1.654310   \n",
       "2   LI   66.0  1.442375  0.756953  0.543830  0.981726  1.233344  1.731662   \n",
       "\n",
       "            well_fit                                               \n",
       "        max    count      mean       std  min  25%  50%  75%  max  \n",
       "0  9.317377    239.0  0.451883  0.498724  0.0  0.0  0.0  1.0  1.0  \n",
       "1  7.091795    107.0  0.242991  0.430908  0.0  0.0  0.0  0.0  1.0  \n",
       "2  4.719363     66.0  0.090909  0.289683  0.0  0.0  0.0  0.0  1.0  "
      ]
     },
     "execution_count": 3,
     "metadata": {},
     "output_type": "execute_result"
    }
   ],
   "source": [
    "df5.groupby('area', sort=False).describe().reset_index()"
   ]
  },
  {
   "cell_type": "code",
   "execution_count": 9,
   "metadata": {},
   "outputs": [
    {
     "data": {
      "text/html": [
       "<div>\n",
       "<style scoped>\n",
       "    .dataframe tbody tr th:only-of-type {\n",
       "        vertical-align: middle;\n",
       "    }\n",
       "\n",
       "    .dataframe tbody tr th {\n",
       "        vertical-align: top;\n",
       "    }\n",
       "\n",
       "    .dataframe thead tr th {\n",
       "        text-align: left;\n",
       "    }\n",
       "</style>\n",
       "<table border=\"1\" class=\"dataframe\">\n",
       "  <thead>\n",
       "    <tr>\n",
       "      <th></th>\n",
       "      <th>well_fit</th>\n",
       "      <th colspan=\"8\" halign=\"left\">CV</th>\n",
       "    </tr>\n",
       "    <tr>\n",
       "      <th></th>\n",
       "      <th></th>\n",
       "      <th>count</th>\n",
       "      <th>mean</th>\n",
       "      <th>std</th>\n",
       "      <th>min</th>\n",
       "      <th>25%</th>\n",
       "      <th>50%</th>\n",
       "      <th>75%</th>\n",
       "      <th>max</th>\n",
       "    </tr>\n",
       "  </thead>\n",
       "  <tbody>\n",
       "    <tr>\n",
       "      <th>0</th>\n",
       "      <td>1</td>\n",
       "      <td>140.0</td>\n",
       "      <td>1.119959</td>\n",
       "      <td>0.372940</td>\n",
       "      <td>0.427586</td>\n",
       "      <td>0.864508</td>\n",
       "      <td>1.071845</td>\n",
       "      <td>1.317039</td>\n",
       "      <td>2.697592</td>\n",
       "    </tr>\n",
       "    <tr>\n",
       "      <th>1</th>\n",
       "      <td>0</td>\n",
       "      <td>272.0</td>\n",
       "      <td>1.632862</td>\n",
       "      <td>0.974125</td>\n",
       "      <td>0.373075</td>\n",
       "      <td>1.050323</td>\n",
       "      <td>1.428570</td>\n",
       "      <td>1.961307</td>\n",
       "      <td>9.317377</td>\n",
       "    </tr>\n",
       "  </tbody>\n",
       "</table>\n",
       "</div>"
      ],
      "text/plain": [
       "  well_fit     CV                                                              \\\n",
       "            count      mean       std       min       25%       50%       75%   \n",
       "0        1  140.0  1.119959  0.372940  0.427586  0.864508  1.071845  1.317039   \n",
       "1        0  272.0  1.632862  0.974125  0.373075  1.050323  1.428570  1.961307   \n",
       "\n",
       "             \n",
       "        max  \n",
       "0  2.697592  \n",
       "1  9.317377  "
      ]
     },
     "execution_count": 9,
     "metadata": {},
     "output_type": "execute_result"
    }
   ],
   "source": [
    "df5.groupby(['well_fit'], sort=False).describe().reset_index()"
   ]
  },
  {
   "cell_type": "code",
   "execution_count": 4,
   "metadata": {},
   "outputs": [
    {
     "data": {
      "image/png": "[encoded data removed]",
      "text/plain": [
       "<Figure size 432x288 with 1 Axes>"
      ]
     },
     "metadata": {
      "needs_background": "light"
     },
     "output_type": "display_data"
    }
   ],
   "source": [
    "# plt.figure(figsize=(15, 10))\n",
    "ax = sns.violinplot(x=\"area\", y=\"CV\", hue=\"well_fit\",\n",
    "                    data=df5, palette=\"Set3\", split=True)"
   ]
  },
  {
   "cell_type": "code",
   "execution_count": 5,
   "metadata": {
    "scrolled": true
   },
   "outputs": [
    {
     "data": {
      "text/plain": [
       "[(-1.0, 5.0)]"
      ]
     },
     "execution_count": 5,
     "metadata": {},
     "output_type": "execute_result"
    },
    {
     "data": {
      "image/png": "[encoded data removed]",
      "text/plain": [
       "<Figure size 576x288 with 1 Axes>"
      ]
     },
     "metadata": {
      "needs_background": "light"
     },
     "output_type": "display_data"
    }
   ],
   "source": [
    "plt.figure(figsize=(8, 4))\n",
    "ax = sns.violinplot(x=\"area\", y=\"CV\", hue=\"well_fit\",\n",
    "                    data=df5, palette=\"Set3\", split=True)\n",
    "ax.set(ylim=(-1, 5))"
   ]
  },
  {
   "cell_type": "markdown",
   "metadata": {},
   "source": [
    "### Response Amplitude by area"
   ]
  },
  {
   "cell_type": "code",
   "execution_count": 6,
   "metadata": {},
   "outputs": [
    {
     "data": {
      "text/html": [
       "<div>\n",
       "<style scoped>\n",
       "    .dataframe tbody tr th:only-of-type {\n",
       "        vertical-align: middle;\n",
       "    }\n",
       "\n",
       "    .dataframe tbody tr th {\n",
       "        vertical-align: top;\n",
       "    }\n",
       "\n",
       "    .dataframe thead th {\n",
       "        text-align: right;\n",
       "    }\n",
       "</style>\n",
       "<table border=\"1\" class=\"dataframe\">\n",
       "  <thead>\n",
       "    <tr style=\"text-align: right;\">\n",
       "      <th></th>\n",
       "      <th>resp_ad</th>\n",
       "      <th>area_ad</th>\n",
       "    </tr>\n",
       "  </thead>\n",
       "  <tbody>\n",
       "    <tr>\n",
       "      <th>479</th>\n",
       "      <td>0.010215</td>\n",
       "      <td>LM</td>\n",
       "    </tr>\n",
       "    <tr>\n",
       "      <th>480</th>\n",
       "      <td>0.040586</td>\n",
       "      <td>LM</td>\n",
       "    </tr>\n",
       "    <tr>\n",
       "      <th>481</th>\n",
       "      <td>0.037092</td>\n",
       "      <td>LM</td>\n",
       "    </tr>\n",
       "    <tr>\n",
       "      <th>482</th>\n",
       "      <td>0.035262</td>\n",
       "      <td>LM</td>\n",
       "    </tr>\n",
       "    <tr>\n",
       "      <th>483</th>\n",
       "      <td>0.038123</td>\n",
       "      <td>LM</td>\n",
       "    </tr>\n",
       "  </tbody>\n",
       "</table>\n",
       "</div>"
      ],
      "text/plain": [
       "      resp_ad area_ad\n",
       "479  0.010215      LM\n",
       "480  0.040586      LM\n",
       "481  0.037092      LM\n",
       "482  0.035262      LM\n",
       "483  0.038123      LM"
      ]
     },
     "execution_count": 6,
     "metadata": {},
     "output_type": "execute_result"
    }
   ],
   "source": [
    "temp = loadmat('C:/Users/lan/Documents/repos/inter/plot/amp_area.mat')\n",
    "df = pd.DataFrame(temp['resp_ad'], columns=['resp_ad'])\n",
    "df['area_ad'] = temp['area_ad']\n",
    "df['area_ad'] = df['area_ad'].replace(1, 'V1')\n",
    "df['area_ad'] = df['area_ad'].replace(2, 'LM')\n",
    "df['area_ad'] = df['area_ad'].replace(3, 'LI')\n",
    "df.tail()"
   ]
  },
  {
   "cell_type": "code",
   "execution_count": 12,
   "metadata": {},
   "outputs": [
    {
     "data": {
      "text/html": [
       "<div>\n",
       "<style scoped>\n",
       "    .dataframe tbody tr th:only-of-type {\n",
       "        vertical-align: middle;\n",
       "    }\n",
       "\n",
       "    .dataframe tbody tr th {\n",
       "        vertical-align: top;\n",
       "    }\n",
       "\n",
       "    .dataframe thead th {\n",
       "        text-align: right;\n",
       "    }\n",
       "</style>\n",
       "<table border=\"1\" class=\"dataframe\">\n",
       "  <thead>\n",
       "    <tr style=\"text-align: right;\">\n",
       "      <th></th>\n",
       "      <th>resp_tg_avg_ori</th>\n",
       "      <th>area_tg</th>\n",
       "    </tr>\n",
       "  </thead>\n",
       "  <tbody>\n",
       "    <tr>\n",
       "      <th>407</th>\n",
       "      <td>0.025418</td>\n",
       "      <td>LM</td>\n",
       "    </tr>\n",
       "    <tr>\n",
       "      <th>408</th>\n",
       "      <td>0.021595</td>\n",
       "      <td>LM</td>\n",
       "    </tr>\n",
       "    <tr>\n",
       "      <th>409</th>\n",
       "      <td>0.058434</td>\n",
       "      <td>LM</td>\n",
       "    </tr>\n",
       "    <tr>\n",
       "      <th>410</th>\n",
       "      <td>0.046758</td>\n",
       "      <td>LM</td>\n",
       "    </tr>\n",
       "    <tr>\n",
       "      <th>411</th>\n",
       "      <td>0.040096</td>\n",
       "      <td>LM</td>\n",
       "    </tr>\n",
       "  </tbody>\n",
       "</table>\n",
       "</div>"
      ],
      "text/plain": [
       "     resp_tg_avg_ori area_tg\n",
       "407         0.025418      LM\n",
       "408         0.021595      LM\n",
       "409         0.058434      LM\n",
       "410         0.046758      LM\n",
       "411         0.040096      LM"
      ]
     },
     "execution_count": 12,
     "metadata": {},
     "output_type": "execute_result"
    }
   ],
   "source": [
    "df2 = pd.DataFrame(temp['resp_tg_collapse_ori'], columns=['resp_tg_avg_ori'])\n",
    "df2['area_tg'] = temp['area_tg']\n",
    "df2['area_tg'] = df2['area_tg'].replace(1, 'V1')\n",
    "df2['area_tg'] = df2['area_tg'].replace(2, 'LM')\n",
    "df2['area_tg'] = df2['area_tg'].replace(3, 'LI')\n",
    "df2.tail()"
   ]
  },
  {
   "cell_type": "code",
   "execution_count": 13,
   "metadata": {},
   "outputs": [
    {
     "data": {
      "text/html": [
       "<div>\n",
       "<style scoped>\n",
       "    .dataframe tbody tr th:only-of-type {\n",
       "        vertical-align: middle;\n",
       "    }\n",
       "\n",
       "    .dataframe tbody tr th {\n",
       "        vertical-align: top;\n",
       "    }\n",
       "\n",
       "    .dataframe thead tr th {\n",
       "        text-align: left;\n",
       "    }\n",
       "</style>\n",
       "<table border=\"1\" class=\"dataframe\">\n",
       "  <thead>\n",
       "    <tr>\n",
       "      <th></th>\n",
       "      <th>area_ad</th>\n",
       "      <th colspan=\"8\" halign=\"left\">resp_ad</th>\n",
       "    </tr>\n",
       "    <tr>\n",
       "      <th></th>\n",
       "      <th></th>\n",
       "      <th>count</th>\n",
       "      <th>mean</th>\n",
       "      <th>std</th>\n",
       "      <th>min</th>\n",
       "      <th>25%</th>\n",
       "      <th>50%</th>\n",
       "      <th>75%</th>\n",
       "      <th>max</th>\n",
       "    </tr>\n",
       "  </thead>\n",
       "  <tbody>\n",
       "    <tr>\n",
       "      <th>0</th>\n",
       "      <td>V1</td>\n",
       "      <td>267.0</td>\n",
       "      <td>0.080751</td>\n",
       "      <td>0.069315</td>\n",
       "      <td>0.011885</td>\n",
       "      <td>0.033769</td>\n",
       "      <td>0.057628</td>\n",
       "      <td>0.108478</td>\n",
       "      <td>0.486399</td>\n",
       "    </tr>\n",
       "    <tr>\n",
       "      <th>1</th>\n",
       "      <td>LM</td>\n",
       "      <td>141.0</td>\n",
       "      <td>0.077834</td>\n",
       "      <td>0.092100</td>\n",
       "      <td>0.010215</td>\n",
       "      <td>0.033665</td>\n",
       "      <td>0.051986</td>\n",
       "      <td>0.092534</td>\n",
       "      <td>0.755541</td>\n",
       "    </tr>\n",
       "    <tr>\n",
       "      <th>2</th>\n",
       "      <td>LI</td>\n",
       "      <td>76.0</td>\n",
       "      <td>0.068316</td>\n",
       "      <td>0.058048</td>\n",
       "      <td>0.012089</td>\n",
       "      <td>0.029422</td>\n",
       "      <td>0.050297</td>\n",
       "      <td>0.087156</td>\n",
       "      <td>0.319786</td>\n",
       "    </tr>\n",
       "  </tbody>\n",
       "</table>\n",
       "</div>"
      ],
      "text/plain": [
       "  area_ad resp_ad                                                              \\\n",
       "            count      mean       std       min       25%       50%       75%   \n",
       "0      V1   267.0  0.080751  0.069315  0.011885  0.033769  0.057628  0.108478   \n",
       "1      LM   141.0  0.077834  0.092100  0.010215  0.033665  0.051986  0.092534   \n",
       "2      LI    76.0  0.068316  0.058048  0.012089  0.029422  0.050297  0.087156   \n",
       "\n",
       "             \n",
       "        max  \n",
       "0  0.486399  \n",
       "1  0.755541  \n",
       "2  0.319786  "
      ]
     },
     "execution_count": 13,
     "metadata": {},
     "output_type": "execute_result"
    }
   ],
   "source": [
    "df.groupby('area_ad', sort=False).describe().reset_index()"
   ]
  },
  {
   "cell_type": "code",
   "execution_count": 14,
   "metadata": {},
   "outputs": [
    {
     "data": {
      "text/html": [
       "<div>\n",
       "<style scoped>\n",
       "    .dataframe tbody tr th:only-of-type {\n",
       "        vertical-align: middle;\n",
       "    }\n",
       "\n",
       "    .dataframe tbody tr th {\n",
       "        vertical-align: top;\n",
       "    }\n",
       "\n",
       "    .dataframe thead tr th {\n",
       "        text-align: left;\n",
       "    }\n",
       "</style>\n",
       "<table border=\"1\" class=\"dataframe\">\n",
       "  <thead>\n",
       "    <tr>\n",
       "      <th></th>\n",
       "      <th>area_tg</th>\n",
       "      <th colspan=\"8\" halign=\"left\">resp_tg_avg_ori</th>\n",
       "    </tr>\n",
       "    <tr>\n",
       "      <th></th>\n",
       "      <th></th>\n",
       "      <th>count</th>\n",
       "      <th>mean</th>\n",
       "      <th>std</th>\n",
       "      <th>min</th>\n",
       "      <th>25%</th>\n",
       "      <th>50%</th>\n",
       "      <th>75%</th>\n",
       "      <th>max</th>\n",
       "    </tr>\n",
       "  </thead>\n",
       "  <tbody>\n",
       "    <tr>\n",
       "      <th>0</th>\n",
       "      <td>V1</td>\n",
       "      <td>239.0</td>\n",
       "      <td>0.083117</td>\n",
       "      <td>0.062466</td>\n",
       "      <td>0.009222</td>\n",
       "      <td>0.043842</td>\n",
       "      <td>0.063730</td>\n",
       "      <td>0.100160</td>\n",
       "      <td>0.435435</td>\n",
       "    </tr>\n",
       "    <tr>\n",
       "      <th>1</th>\n",
       "      <td>LM</td>\n",
       "      <td>107.0</td>\n",
       "      <td>0.086615</td>\n",
       "      <td>0.092219</td>\n",
       "      <td>0.015696</td>\n",
       "      <td>0.037610</td>\n",
       "      <td>0.057234</td>\n",
       "      <td>0.103541</td>\n",
       "      <td>0.644160</td>\n",
       "    </tr>\n",
       "    <tr>\n",
       "      <th>2</th>\n",
       "      <td>LI</td>\n",
       "      <td>66.0</td>\n",
       "      <td>0.078257</td>\n",
       "      <td>0.049079</td>\n",
       "      <td>0.022743</td>\n",
       "      <td>0.042143</td>\n",
       "      <td>0.064019</td>\n",
       "      <td>0.099516</td>\n",
       "      <td>0.241633</td>\n",
       "    </tr>\n",
       "  </tbody>\n",
       "</table>\n",
       "</div>"
      ],
      "text/plain": [
       "  area_tg resp_tg_avg_ori                                                    \\\n",
       "                    count      mean       std       min       25%       50%   \n",
       "0      V1           239.0  0.083117  0.062466  0.009222  0.043842  0.063730   \n",
       "1      LM           107.0  0.086615  0.092219  0.015696  0.037610  0.057234   \n",
       "2      LI            66.0  0.078257  0.049079  0.022743  0.042143  0.064019   \n",
       "\n",
       "                       \n",
       "        75%       max  \n",
       "0  0.100160  0.435435  \n",
       "1  0.103541  0.644160  \n",
       "2  0.099516  0.241633  "
      ]
     },
     "execution_count": 14,
     "metadata": {},
     "output_type": "execute_result"
    }
   ],
   "source": [
    "df2.groupby('area_tg', sort=False).describe().reset_index()"
   ]
  },
  {
   "cell_type": "code",
   "execution_count": 28,
   "metadata": {},
   "outputs": [
    {
     "data": {
      "text/plain": [
       "[(-0.1, 0.4)]"
      ]
     },
     "execution_count": 28,
     "metadata": {},
     "output_type": "execute_result"
    },
    {
     "data": {
      "image/png": "[encoded data removed]",
      "text/plain": [
       "<Figure size 1080x720 with 4 Axes>"
      ]
     },
     "metadata": {
      "needs_background": "light"
     },
     "output_type": "display_data"
    }
   ],
   "source": [
    "fig, axes = plt.subplots(2, 2, figsize=(15, 10), sharey=False)\n",
    "fig.suptitle('resp ad or tg by area')\n",
    "\n",
    "# resp ad\n",
    "ax = sns.violinplot(ax=axes[0,0], x=\"area_ad\", y=\"resp_ad\", data=df)\n",
    "# axes[0,0].set_title('resp ad')\n",
    "\n",
    "# resp tg\n",
    "ax = sns.violinplot(ax=axes[0,1], x=\"area_tg\", y=\"resp_tg_avg_ori\", data=df2)\n",
    "# axes[0,1].set_title('resp tg')\n",
    "\n",
    "# resp ad zoom in\n",
    "ax = sns.violinplot(ax=axes[1,0], x=\"area_ad\", y=\"resp_ad\", data=df)\n",
    "ax.set(ylim=(-0.1, 0.4))\n",
    "# axes[1,0].set_title('resp ad zoom in')\n",
    "\n",
    "# resp tg zoom in\n",
    "ax = sns.violinplot(ax=axes[1,1], x=\"area_tg\", y=\"resp_tg_avg_ori\", data=df2)\n",
    "ax.set(ylim=(-0.1, 0.4))\n",
    "# axes[1,1].set_title('resp tg zoom in')"
   ]
  },
  {
   "cell_type": "markdown",
   "metadata": {},
   "source": [
    "### Polar plot of resp_ori by area"
   ]
  },
  {
   "cell_type": "code",
   "execution_count": 79,
   "metadata": {},
   "outputs": [],
   "source": [
    "ncell_tg = temp['resp_tg'].shape[0]\n",
    "nori = temp['resp_tg'].shape[1]\n",
    "resp_tg_cell = []\n",
    "resp_tg_sorted = np.zeros((ncell_tg, nori))"
   ]
  },
  {
   "cell_type": "code",
   "execution_count": 117,
   "metadata": {},
   "outputs": [],
   "source": [
    "for icell in np.arange(ncell_tg):\n",
    "    resp_tg_cell = temp['resp_tg'][icell, :]\n",
    "    resp_tg_sorted[icell, :] = np.concatenate((resp_tg_cell[np.argmax(resp_tg_cell):len(resp_tg_cell)], resp_tg_cell[0:np.argmax(resp_tg_cell)]))"
   ]
  },
  {
   "cell_type": "code",
   "execution_count": 132,
   "metadata": {},
   "outputs": [
    {
     "data": {
      "text/html": [
       "<div>\n",
       "<style scoped>\n",
       "    .dataframe tbody tr th:only-of-type {\n",
       "        vertical-align: middle;\n",
       "    }\n",
       "\n",
       "    .dataframe tbody tr th {\n",
       "        vertical-align: top;\n",
       "    }\n",
       "\n",
       "    .dataframe thead th {\n",
       "        text-align: right;\n",
       "    }\n",
       "</style>\n",
       "<table border=\"1\" class=\"dataframe\">\n",
       "  <thead>\n",
       "    <tr style=\"text-align: right;\">\n",
       "      <th></th>\n",
       "      <th>0</th>\n",
       "      <th>1</th>\n",
       "      <th>2</th>\n",
       "      <th>3</th>\n",
       "      <th>4</th>\n",
       "      <th>5</th>\n",
       "      <th>6</th>\n",
       "      <th>7</th>\n",
       "      <th>area</th>\n",
       "    </tr>\n",
       "  </thead>\n",
       "  <tbody>\n",
       "    <tr>\n",
       "      <th>0</th>\n",
       "      <td>0.186297</td>\n",
       "      <td>0.184818</td>\n",
       "      <td>0.095037</td>\n",
       "      <td>0.053145</td>\n",
       "      <td>0.037715</td>\n",
       "      <td>0.041623</td>\n",
       "      <td>0.050704</td>\n",
       "      <td>0.185359</td>\n",
       "      <td>V1</td>\n",
       "    </tr>\n",
       "    <tr>\n",
       "      <th>1</th>\n",
       "      <td>0.108755</td>\n",
       "      <td>0.042337</td>\n",
       "      <td>-0.003442</td>\n",
       "      <td>0.007771</td>\n",
       "      <td>-0.021082</td>\n",
       "      <td>-0.017110</td>\n",
       "      <td>0.035048</td>\n",
       "      <td>0.096532</td>\n",
       "      <td>V1</td>\n",
       "    </tr>\n",
       "    <tr>\n",
       "      <th>2</th>\n",
       "      <td>0.334310</td>\n",
       "      <td>0.331804</td>\n",
       "      <td>0.054893</td>\n",
       "      <td>0.075347</td>\n",
       "      <td>0.037645</td>\n",
       "      <td>0.046042</td>\n",
       "      <td>0.088307</td>\n",
       "      <td>0.192283</td>\n",
       "      <td>V1</td>\n",
       "    </tr>\n",
       "    <tr>\n",
       "      <th>3</th>\n",
       "      <td>0.866983</td>\n",
       "      <td>0.851523</td>\n",
       "      <td>0.237683</td>\n",
       "      <td>0.124013</td>\n",
       "      <td>0.058653</td>\n",
       "      <td>0.050948</td>\n",
       "      <td>0.023531</td>\n",
       "      <td>0.501670</td>\n",
       "      <td>V1</td>\n",
       "    </tr>\n",
       "    <tr>\n",
       "      <th>4</th>\n",
       "      <td>0.094991</td>\n",
       "      <td>0.010616</td>\n",
       "      <td>0.023006</td>\n",
       "      <td>0.033687</td>\n",
       "      <td>0.009473</td>\n",
       "      <td>0.022536</td>\n",
       "      <td>0.073898</td>\n",
       "      <td>0.083687</td>\n",
       "      <td>V1</td>\n",
       "    </tr>\n",
       "    <tr>\n",
       "      <th>...</th>\n",
       "      <td>...</td>\n",
       "      <td>...</td>\n",
       "      <td>...</td>\n",
       "      <td>...</td>\n",
       "      <td>...</td>\n",
       "      <td>...</td>\n",
       "      <td>...</td>\n",
       "      <td>...</td>\n",
       "      <td>...</td>\n",
       "    </tr>\n",
       "    <tr>\n",
       "      <th>407</th>\n",
       "      <td>0.092442</td>\n",
       "      <td>0.050402</td>\n",
       "      <td>0.049153</td>\n",
       "      <td>-0.021308</td>\n",
       "      <td>-0.012517</td>\n",
       "      <td>0.032724</td>\n",
       "      <td>0.009602</td>\n",
       "      <td>0.002845</td>\n",
       "      <td>LM</td>\n",
       "    </tr>\n",
       "    <tr>\n",
       "      <th>408</th>\n",
       "      <td>0.059946</td>\n",
       "      <td>-0.015757</td>\n",
       "      <td>0.048349</td>\n",
       "      <td>0.010541</td>\n",
       "      <td>-0.002692</td>\n",
       "      <td>0.018728</td>\n",
       "      <td>0.034506</td>\n",
       "      <td>0.019142</td>\n",
       "      <td>LM</td>\n",
       "    </tr>\n",
       "    <tr>\n",
       "      <th>409</th>\n",
       "      <td>0.100901</td>\n",
       "      <td>0.012366</td>\n",
       "      <td>0.078618</td>\n",
       "      <td>0.058513</td>\n",
       "      <td>0.019648</td>\n",
       "      <td>0.067646</td>\n",
       "      <td>0.069631</td>\n",
       "      <td>0.060153</td>\n",
       "      <td>LM</td>\n",
       "    </tr>\n",
       "    <tr>\n",
       "      <th>410</th>\n",
       "      <td>0.091941</td>\n",
       "      <td>0.039788</td>\n",
       "      <td>0.039541</td>\n",
       "      <td>0.031566</td>\n",
       "      <td>0.082758</td>\n",
       "      <td>0.014472</td>\n",
       "      <td>0.040642</td>\n",
       "      <td>0.033356</td>\n",
       "      <td>LM</td>\n",
       "    </tr>\n",
       "    <tr>\n",
       "      <th>411</th>\n",
       "      <td>0.076454</td>\n",
       "      <td>0.053832</td>\n",
       "      <td>-0.007853</td>\n",
       "      <td>0.013479</td>\n",
       "      <td>0.071623</td>\n",
       "      <td>0.063177</td>\n",
       "      <td>0.032568</td>\n",
       "      <td>0.017487</td>\n",
       "      <td>LM</td>\n",
       "    </tr>\n",
       "  </tbody>\n",
       "</table>\n",
       "<p>412 rows × 9 columns</p>\n",
       "</div>"
      ],
      "text/plain": [
       "            0         1         2         3         4         5         6  \\\n",
       "0    0.186297  0.184818  0.095037  0.053145  0.037715  0.041623  0.050704   \n",
       "1    0.108755  0.042337 -0.003442  0.007771 -0.021082 -0.017110  0.035048   \n",
       "2    0.334310  0.331804  0.054893  0.075347  0.037645  0.046042  0.088307   \n",
       "3    0.866983  0.851523  0.237683  0.124013  0.058653  0.050948  0.023531   \n",
       "4    0.094991  0.010616  0.023006  0.033687  0.009473  0.022536  0.073898   \n",
       "..        ...       ...       ...       ...       ...       ...       ...   \n",
       "407  0.092442  0.050402  0.049153 -0.021308 -0.012517  0.032724  0.009602   \n",
       "408  0.059946 -0.015757  0.048349  0.010541 -0.002692  0.018728  0.034506   \n",
       "409  0.100901  0.012366  0.078618  0.058513  0.019648  0.067646  0.069631   \n",
       "410  0.091941  0.039788  0.039541  0.031566  0.082758  0.014472  0.040642   \n",
       "411  0.076454  0.053832 -0.007853  0.013479  0.071623  0.063177  0.032568   \n",
       "\n",
       "            7 area  \n",
       "0    0.185359   V1  \n",
       "1    0.096532   V1  \n",
       "2    0.192283   V1  \n",
       "3    0.501670   V1  \n",
       "4    0.083687   V1  \n",
       "..        ...  ...  \n",
       "407  0.002845   LM  \n",
       "408  0.019142   LM  \n",
       "409  0.060153   LM  \n",
       "410  0.033356   LM  \n",
       "411  0.017487   LM  \n",
       "\n",
       "[412 rows x 9 columns]"
      ]
     },
     "execution_count": 132,
     "metadata": {},
     "output_type": "execute_result"
    }
   ],
   "source": [
    "df3 = pd.DataFrame(resp_tg_sorted)\n",
    "df3['area'] = temp['area_tg']\n",
    "df3 = replace_area_name(df3, 'area')\n",
    "df3"
   ]
  },
  {
   "cell_type": "code",
   "execution_count": 135,
   "metadata": {},
   "outputs": [
    {
     "data": {
      "text/html": [
       "<div>\n",
       "<style scoped>\n",
       "    .dataframe tbody tr th:only-of-type {\n",
       "        vertical-align: middle;\n",
       "    }\n",
       "\n",
       "    .dataframe tbody tr th {\n",
       "        vertical-align: top;\n",
       "    }\n",
       "\n",
       "    .dataframe thead th {\n",
       "        text-align: right;\n",
       "    }\n",
       "</style>\n",
       "<table border=\"1\" class=\"dataframe\">\n",
       "  <thead>\n",
       "    <tr style=\"text-align: right;\">\n",
       "      <th></th>\n",
       "      <th>area</th>\n",
       "      <th>0</th>\n",
       "      <th>1</th>\n",
       "      <th>2</th>\n",
       "      <th>3</th>\n",
       "      <th>4</th>\n",
       "      <th>5</th>\n",
       "      <th>6</th>\n",
       "      <th>7</th>\n",
       "    </tr>\n",
       "  </thead>\n",
       "  <tbody>\n",
       "    <tr>\n",
       "      <th>0</th>\n",
       "      <td>V1</td>\n",
       "      <td>239</td>\n",
       "      <td>239</td>\n",
       "      <td>239</td>\n",
       "      <td>239</td>\n",
       "      <td>239</td>\n",
       "      <td>239</td>\n",
       "      <td>239</td>\n",
       "      <td>239</td>\n",
       "    </tr>\n",
       "    <tr>\n",
       "      <th>1</th>\n",
       "      <td>LM</td>\n",
       "      <td>107</td>\n",
       "      <td>107</td>\n",
       "      <td>107</td>\n",
       "      <td>107</td>\n",
       "      <td>107</td>\n",
       "      <td>107</td>\n",
       "      <td>107</td>\n",
       "      <td>107</td>\n",
       "    </tr>\n",
       "    <tr>\n",
       "      <th>2</th>\n",
       "      <td>LI</td>\n",
       "      <td>66</td>\n",
       "      <td>66</td>\n",
       "      <td>66</td>\n",
       "      <td>66</td>\n",
       "      <td>66</td>\n",
       "      <td>66</td>\n",
       "      <td>66</td>\n",
       "      <td>66</td>\n",
       "    </tr>\n",
       "  </tbody>\n",
       "</table>\n",
       "</div>"
      ],
      "text/plain": [
       "  area    0    1    2    3    4    5    6    7\n",
       "0   V1  239  239  239  239  239  239  239  239\n",
       "1   LM  107  107  107  107  107  107  107  107\n",
       "2   LI   66   66   66   66   66   66   66   66"
      ]
     },
     "execution_count": 135,
     "metadata": {},
     "output_type": "execute_result"
    }
   ],
   "source": [
    "df3.groupby('area', sort=False).count().reset_index()"
   ]
  },
  {
   "cell_type": "code",
   "execution_count": 139,
   "metadata": {},
   "outputs": [
    {
     "data": {
      "text/html": [
       "<div>\n",
       "<style scoped>\n",
       "    .dataframe tbody tr th:only-of-type {\n",
       "        vertical-align: middle;\n",
       "    }\n",
       "\n",
       "    .dataframe tbody tr th {\n",
       "        vertical-align: top;\n",
       "    }\n",
       "\n",
       "    .dataframe thead th {\n",
       "        text-align: right;\n",
       "    }\n",
       "</style>\n",
       "<table border=\"1\" class=\"dataframe\">\n",
       "  <thead>\n",
       "    <tr style=\"text-align: right;\">\n",
       "      <th></th>\n",
       "      <th>area</th>\n",
       "      <th>0</th>\n",
       "      <th>1</th>\n",
       "      <th>2</th>\n",
       "      <th>3</th>\n",
       "      <th>4</th>\n",
       "      <th>5</th>\n",
       "      <th>6</th>\n",
       "      <th>7</th>\n",
       "    </tr>\n",
       "  </thead>\n",
       "  <tbody>\n",
       "    <tr>\n",
       "      <th>0</th>\n",
       "      <td>V1</td>\n",
       "      <td>0.144829</td>\n",
       "      <td>0.074164</td>\n",
       "      <td>0.049312</td>\n",
       "      <td>0.036211</td>\n",
       "      <td>0.034849</td>\n",
       "      <td>0.035739</td>\n",
       "      <td>0.044892</td>\n",
       "      <td>0.072835</td>\n",
       "    </tr>\n",
       "    <tr>\n",
       "      <th>1</th>\n",
       "      <td>LM</td>\n",
       "      <td>0.118889</td>\n",
       "      <td>0.068838</td>\n",
       "      <td>0.051055</td>\n",
       "      <td>0.040134</td>\n",
       "      <td>0.030842</td>\n",
       "      <td>0.039416</td>\n",
       "      <td>0.047986</td>\n",
       "      <td>0.068135</td>\n",
       "    </tr>\n",
       "    <tr>\n",
       "      <th>2</th>\n",
       "      <td>LI</td>\n",
       "      <td>0.106541</td>\n",
       "      <td>0.074895</td>\n",
       "      <td>0.054512</td>\n",
       "      <td>0.049813</td>\n",
       "      <td>0.041845</td>\n",
       "      <td>0.056051</td>\n",
       "      <td>0.057500</td>\n",
       "      <td>0.073321</td>\n",
       "    </tr>\n",
       "  </tbody>\n",
       "</table>\n",
       "</div>"
      ],
      "text/plain": [
       "  area         0         1         2         3         4         5         6  \\\n",
       "0   V1  0.144829  0.074164  0.049312  0.036211  0.034849  0.035739  0.044892   \n",
       "1   LM  0.118889  0.068838  0.051055  0.040134  0.030842  0.039416  0.047986   \n",
       "2   LI  0.106541  0.074895  0.054512  0.049813  0.041845  0.056051  0.057500   \n",
       "\n",
       "          7  \n",
       "0  0.072835  \n",
       "1  0.068135  \n",
       "2  0.073321  "
      ]
     },
     "execution_count": 139,
     "metadata": {},
     "output_type": "execute_result"
    }
   ],
   "source": [
    "df_median = df3.groupby('area', sort=False).median().reset_index()\n",
    "df_median"
   ]
  },
  {
   "cell_type": "code",
   "execution_count": 140,
   "metadata": {
    "scrolled": true
   },
   "outputs": [
    {
     "data": {
      "text/html": [
       "<div>\n",
       "<style scoped>\n",
       "    .dataframe tbody tr th:only-of-type {\n",
       "        vertical-align: middle;\n",
       "    }\n",
       "\n",
       "    .dataframe tbody tr th {\n",
       "        vertical-align: top;\n",
       "    }\n",
       "\n",
       "    .dataframe thead th {\n",
       "        text-align: right;\n",
       "    }\n",
       "</style>\n",
       "<table border=\"1\" class=\"dataframe\">\n",
       "  <thead>\n",
       "    <tr style=\"text-align: right;\">\n",
       "      <th></th>\n",
       "      <th>area</th>\n",
       "      <th>0</th>\n",
       "      <th>1</th>\n",
       "      <th>2</th>\n",
       "      <th>3</th>\n",
       "      <th>4</th>\n",
       "      <th>5</th>\n",
       "      <th>6</th>\n",
       "      <th>7</th>\n",
       "    </tr>\n",
       "  </thead>\n",
       "  <tbody>\n",
       "    <tr>\n",
       "      <th>0</th>\n",
       "      <td>V1</td>\n",
       "      <td>0.189429</td>\n",
       "      <td>0.105789</td>\n",
       "      <td>0.061552</td>\n",
       "      <td>0.050540</td>\n",
       "      <td>0.043605</td>\n",
       "      <td>0.048948</td>\n",
       "      <td>0.060476</td>\n",
       "      <td>0.104599</td>\n",
       "    </tr>\n",
       "    <tr>\n",
       "      <th>1</th>\n",
       "      <td>LM</td>\n",
       "      <td>0.159020</td>\n",
       "      <td>0.100637</td>\n",
       "      <td>0.078627</td>\n",
       "      <td>0.058909</td>\n",
       "      <td>0.058579</td>\n",
       "      <td>0.063240</td>\n",
       "      <td>0.077658</td>\n",
       "      <td>0.096254</td>\n",
       "    </tr>\n",
       "    <tr>\n",
       "      <th>2</th>\n",
       "      <td>LI</td>\n",
       "      <td>0.135697</td>\n",
       "      <td>0.087246</td>\n",
       "      <td>0.066252</td>\n",
       "      <td>0.053657</td>\n",
       "      <td>0.057660</td>\n",
       "      <td>0.068695</td>\n",
       "      <td>0.070728</td>\n",
       "      <td>0.086117</td>\n",
       "    </tr>\n",
       "  </tbody>\n",
       "</table>\n",
       "</div>"
      ],
      "text/plain": [
       "  area         0         1         2         3         4         5         6  \\\n",
       "0   V1  0.189429  0.105789  0.061552  0.050540  0.043605  0.048948  0.060476   \n",
       "1   LM  0.159020  0.100637  0.078627  0.058909  0.058579  0.063240  0.077658   \n",
       "2   LI  0.135697  0.087246  0.066252  0.053657  0.057660  0.068695  0.070728   \n",
       "\n",
       "          7  \n",
       "0  0.104599  \n",
       "1  0.096254  \n",
       "2  0.086117  "
      ]
     },
     "execution_count": 140,
     "metadata": {},
     "output_type": "execute_result"
    }
   ],
   "source": [
    "df_mean = df3.groupby('area', sort=False).mean().reset_index()\n",
    "df_mean"
   ]
  },
  {
   "cell_type": "code",
   "execution_count": 138,
   "metadata": {},
   "outputs": [
    {
     "data": {
      "text/html": [
       "<div>\n",
       "<style scoped>\n",
       "    .dataframe tbody tr th:only-of-type {\n",
       "        vertical-align: middle;\n",
       "    }\n",
       "\n",
       "    .dataframe tbody tr th {\n",
       "        vertical-align: top;\n",
       "    }\n",
       "\n",
       "    .dataframe thead th {\n",
       "        text-align: right;\n",
       "    }\n",
       "</style>\n",
       "<table border=\"1\" class=\"dataframe\">\n",
       "  <thead>\n",
       "    <tr style=\"text-align: right;\">\n",
       "      <th></th>\n",
       "      <th>area</th>\n",
       "      <th>0</th>\n",
       "      <th>1</th>\n",
       "      <th>2</th>\n",
       "      <th>3</th>\n",
       "      <th>4</th>\n",
       "      <th>5</th>\n",
       "      <th>6</th>\n",
       "      <th>7</th>\n",
       "    </tr>\n",
       "  </thead>\n",
       "  <tbody>\n",
       "    <tr>\n",
       "      <th>0</th>\n",
       "      <td>V1</td>\n",
       "      <td>0.137807</td>\n",
       "      <td>0.106330</td>\n",
       "      <td>0.062236</td>\n",
       "      <td>0.057600</td>\n",
       "      <td>0.046306</td>\n",
       "      <td>0.062865</td>\n",
       "      <td>0.064945</td>\n",
       "      <td>0.104128</td>\n",
       "    </tr>\n",
       "    <tr>\n",
       "      <th>1</th>\n",
       "      <td>LM</td>\n",
       "      <td>0.124312</td>\n",
       "      <td>0.111539</td>\n",
       "      <td>0.096953</td>\n",
       "      <td>0.080087</td>\n",
       "      <td>0.086121</td>\n",
       "      <td>0.084268</td>\n",
       "      <td>0.103900</td>\n",
       "      <td>0.105930</td>\n",
       "    </tr>\n",
       "    <tr>\n",
       "      <th>2</th>\n",
       "      <td>LI</td>\n",
       "      <td>0.079208</td>\n",
       "      <td>0.057271</td>\n",
       "      <td>0.051583</td>\n",
       "      <td>0.046024</td>\n",
       "      <td>0.050421</td>\n",
       "      <td>0.054776</td>\n",
       "      <td>0.061219</td>\n",
       "      <td>0.066770</td>\n",
       "    </tr>\n",
       "  </tbody>\n",
       "</table>\n",
       "</div>"
      ],
      "text/plain": [
       "  area         0         1         2         3         4         5         6  \\\n",
       "0   V1  0.137807  0.106330  0.062236  0.057600  0.046306  0.062865  0.064945   \n",
       "1   LM  0.124312  0.111539  0.096953  0.080087  0.086121  0.084268  0.103900   \n",
       "2   LI  0.079208  0.057271  0.051583  0.046024  0.050421  0.054776  0.061219   \n",
       "\n",
       "          7  \n",
       "0  0.104128  \n",
       "1  0.105930  \n",
       "2  0.066770  "
      ]
     },
     "execution_count": 138,
     "metadata": {},
     "output_type": "execute_result"
    }
   ],
   "source": [
    "df3.groupby('area', sort=False).std().reset_index()"
   ]
  },
  {
   "cell_type": "code",
   "execution_count": 214,
   "metadata": {},
   "outputs": [],
   "source": [
    "arr_median = df_median.to_numpy()\n",
    "arr_median = arr_median[0:3, 1:nori+1]\n",
    "\n",
    "arr_mean = df_mean.to_numpy()\n",
    "arr_mean = arr_mean[0:3, 1:nori+1]\n",
    "\n",
    "N = nori * 2\n",
    "theta = np.linspace(0.0, 2 * np.pi, N, endpoint=False)\n",
    "radii_V1_med = np.concatenate((arr_median[0], arr_median[0]))\n",
    "radii_LM_med = np.concatenate((arr_median[1], arr_median[1]))\n",
    "radii_LI_med = np.concatenate((arr_median[2], arr_median[2]))\n",
    "radii_V1_mean = np.concatenate((arr_mean[0], arr_mean[0]))\n",
    "radii_LM_mean = np.concatenate((arr_mean[1], arr_mean[1]))\n",
    "radii_LI_mean = np.concatenate((arr_mean[2], arr_mean[2]))\n",
    "width = np.pi / nori"
   ]
  },
  {
   "cell_type": "code",
   "execution_count": 233,
   "metadata": {},
   "outputs": [
    {
     "data": {
      "image/png": "[encoded data removed]",
      "text/plain": [
       "<Figure size 1080x720 with 2 Axes>"
      ]
     },
     "metadata": {
      "needs_background": "light"
     },
     "output_type": "display_data"
    }
   ],
   "source": [
    "plt.figure(figsize=(15, 10))\n",
    "ax = plt.subplot(121, projection='polar')\n",
    "ax.bar(theta, radii_V1_med, width=width/1.2, bottom=0.0, color='C0', alpha=0.4)\n",
    "ax.bar(theta, radii_LM_med, width=width/1.1, bottom=0.0, color='C1', alpha=0.4)\n",
    "ax.bar(theta, radii_LI_med, width=width/1.0, bottom=0.0, color='C3', alpha=0.4)\n",
    "plt.yticks(np.arange(0, 0.16, step=0.04))\n",
    "ax.legend(['V1 239', 'LM 107', 'LI 66'])\n",
    "\n",
    "ax = plt.subplot(122, projection='polar')\n",
    "ax.bar(theta, radii_V1_mean, width=width/1.2, bottom=0.0, color='C0', alpha=0.4)\n",
    "ax.bar(theta, radii_LM_mean, width=width/1.1, bottom=0.0, color='C1', alpha=0.4)\n",
    "ax.bar(theta, radii_LI_mean, width=width/1.0, bottom=0.0, color='C3', alpha=0.4)\n",
    "plt.yticks(np.arange(0, 0.18, step=0.04))\n",
    "plt.show()"
   ]
  },
  {
   "cell_type": "markdown",
   "metadata": {},
   "source": [
    "### R2/SSE by area"
   ]
  },
  {
   "cell_type": "code",
   "execution_count": 5,
   "metadata": {},
   "outputs": [
    {
     "data": {
      "text/html": [
       "<div>\n",
       "<style scoped>\n",
       "    .dataframe tbody tr th:only-of-type {\n",
       "        vertical-align: middle;\n",
       "    }\n",
       "\n",
       "    .dataframe tbody tr th {\n",
       "        vertical-align: top;\n",
       "    }\n",
       "\n",
       "    .dataframe thead th {\n",
       "        text-align: right;\n",
       "    }\n",
       "</style>\n",
       "<table border=\"1\" class=\"dataframe\">\n",
       "  <thead>\n",
       "    <tr style=\"text-align: right;\">\n",
       "      <th></th>\n",
       "      <th>area</th>\n",
       "      <th>R2</th>\n",
       "      <th>SSE</th>\n",
       "    </tr>\n",
       "  </thead>\n",
       "  <tbody>\n",
       "    <tr>\n",
       "      <th>0</th>\n",
       "      <td>V1</td>\n",
       "      <td>0.909820</td>\n",
       "      <td>0.003040</td>\n",
       "    </tr>\n",
       "    <tr>\n",
       "      <th>1</th>\n",
       "      <td>V1</td>\n",
       "      <td>0.982684</td>\n",
       "      <td>0.001656</td>\n",
       "    </tr>\n",
       "    <tr>\n",
       "      <th>2</th>\n",
       "      <td>V1</td>\n",
       "      <td>0.936868</td>\n",
       "      <td>0.006974</td>\n",
       "    </tr>\n",
       "    <tr>\n",
       "      <th>3</th>\n",
       "      <td>V1</td>\n",
       "      <td>0.954914</td>\n",
       "      <td>0.039923</td>\n",
       "    </tr>\n",
       "    <tr>\n",
       "      <th>4</th>\n",
       "      <td>V1</td>\n",
       "      <td>0.786928</td>\n",
       "      <td>0.001786</td>\n",
       "    </tr>\n",
       "    <tr>\n",
       "      <th>...</th>\n",
       "      <td>...</td>\n",
       "      <td>...</td>\n",
       "      <td>...</td>\n",
       "    </tr>\n",
       "    <tr>\n",
       "      <th>158</th>\n",
       "      <td>V1</td>\n",
       "      <td>0.942606</td>\n",
       "      <td>0.000784</td>\n",
       "    </tr>\n",
       "    <tr>\n",
       "      <th>159</th>\n",
       "      <td>V1</td>\n",
       "      <td>0.885957</td>\n",
       "      <td>0.000836</td>\n",
       "    </tr>\n",
       "    <tr>\n",
       "      <th>160</th>\n",
       "      <td>V1</td>\n",
       "      <td>0.734667</td>\n",
       "      <td>0.003140</td>\n",
       "    </tr>\n",
       "    <tr>\n",
       "      <th>161</th>\n",
       "      <td>V1</td>\n",
       "      <td>0.897751</td>\n",
       "      <td>0.003376</td>\n",
       "    </tr>\n",
       "    <tr>\n",
       "      <th>162</th>\n",
       "      <td>LM</td>\n",
       "      <td>0.920117</td>\n",
       "      <td>0.000880</td>\n",
       "    </tr>\n",
       "  </tbody>\n",
       "</table>\n",
       "<p>163 rows × 3 columns</p>\n",
       "</div>"
      ],
      "text/plain": [
       "    area        R2       SSE\n",
       "0     V1  0.909820  0.003040\n",
       "1     V1  0.982684  0.001656\n",
       "2     V1  0.936868  0.006974\n",
       "3     V1  0.954914  0.039923\n",
       "4     V1  0.786928  0.001786\n",
       "..   ...       ...       ...\n",
       "158   V1  0.942606  0.000784\n",
       "159   V1  0.885957  0.000836\n",
       "160   V1  0.734667  0.003140\n",
       "161   V1  0.897751  0.003376\n",
       "162   LM  0.920117  0.000880\n",
       "\n",
       "[163 rows x 3 columns]"
      ]
     },
     "execution_count": 5,
     "metadata": {},
     "output_type": "execute_result"
    }
   ],
   "source": [
    "temp = loadmat('C:/Users/lan/Documents/repos/inter/plot/R2_SSE_area.mat')\n",
    "df = pd.DataFrame(temp['area'], columns=['area'])\n",
    "df['R2'] = temp['R2']\n",
    "df['SSE'] = temp['SSE']\n",
    "replace_area_name(df, 'area')"
   ]
  },
  {
   "cell_type": "code",
   "execution_count": 10,
   "metadata": {},
   "outputs": [
    {
     "data": {
      "text/html": [
       "<div>\n",
       "<style scoped>\n",
       "    .dataframe tbody tr th:only-of-type {\n",
       "        vertical-align: middle;\n",
       "    }\n",
       "\n",
       "    .dataframe tbody tr th {\n",
       "        vertical-align: top;\n",
       "    }\n",
       "\n",
       "    .dataframe thead tr th {\n",
       "        text-align: left;\n",
       "    }\n",
       "</style>\n",
       "<table border=\"1\" class=\"dataframe\">\n",
       "  <thead>\n",
       "    <tr>\n",
       "      <th></th>\n",
       "      <th>area</th>\n",
       "      <th colspan=\"8\" halign=\"left\">R2</th>\n",
       "    </tr>\n",
       "    <tr>\n",
       "      <th></th>\n",
       "      <th></th>\n",
       "      <th>count</th>\n",
       "      <th>mean</th>\n",
       "      <th>std</th>\n",
       "      <th>min</th>\n",
       "      <th>25%</th>\n",
       "      <th>50%</th>\n",
       "      <th>75%</th>\n",
       "      <th>max</th>\n",
       "    </tr>\n",
       "  </thead>\n",
       "  <tbody>\n",
       "    <tr>\n",
       "      <th>0</th>\n",
       "      <td>V1</td>\n",
       "      <td>127.0</td>\n",
       "      <td>0.898126</td>\n",
       "      <td>0.081856</td>\n",
       "      <td>0.607792</td>\n",
       "      <td>0.849890</td>\n",
       "      <td>0.916412</td>\n",
       "      <td>0.961780</td>\n",
       "      <td>0.997551</td>\n",
       "    </tr>\n",
       "    <tr>\n",
       "      <th>1</th>\n",
       "      <td>LM</td>\n",
       "      <td>26.0</td>\n",
       "      <td>0.913381</td>\n",
       "      <td>0.064245</td>\n",
       "      <td>0.692570</td>\n",
       "      <td>0.881454</td>\n",
       "      <td>0.924761</td>\n",
       "      <td>0.954968</td>\n",
       "      <td>0.994080</td>\n",
       "    </tr>\n",
       "    <tr>\n",
       "      <th>2</th>\n",
       "      <td>LI</td>\n",
       "      <td>10.0</td>\n",
       "      <td>0.916711</td>\n",
       "      <td>0.056700</td>\n",
       "      <td>0.805935</td>\n",
       "      <td>0.909021</td>\n",
       "      <td>0.928038</td>\n",
       "      <td>0.952924</td>\n",
       "      <td>0.976053</td>\n",
       "    </tr>\n",
       "  </tbody>\n",
       "</table>\n",
       "</div>"
      ],
      "text/plain": [
       "  area     R2                                                              \\\n",
       "        count      mean       std       min       25%       50%       75%   \n",
       "0   V1  127.0  0.898126  0.081856  0.607792  0.849890  0.916412  0.961780   \n",
       "1   LM   26.0  0.913381  0.064245  0.692570  0.881454  0.924761  0.954968   \n",
       "2   LI   10.0  0.916711  0.056700  0.805935  0.909021  0.928038  0.952924   \n",
       "\n",
       "             \n",
       "        max  \n",
       "0  0.997551  \n",
       "1  0.994080  \n",
       "2  0.976053  "
      ]
     },
     "execution_count": 10,
     "metadata": {},
     "output_type": "execute_result"
    }
   ],
   "source": [
    "df[['area','R2']].groupby('area', sort=False).describe().reset_index()"
   ]
  },
  {
   "cell_type": "code",
   "execution_count": 11,
   "metadata": {},
   "outputs": [
    {
     "data": {
      "text/html": [
       "<div>\n",
       "<style scoped>\n",
       "    .dataframe tbody tr th:only-of-type {\n",
       "        vertical-align: middle;\n",
       "    }\n",
       "\n",
       "    .dataframe tbody tr th {\n",
       "        vertical-align: top;\n",
       "    }\n",
       "\n",
       "    .dataframe thead tr th {\n",
       "        text-align: left;\n",
       "    }\n",
       "</style>\n",
       "<table border=\"1\" class=\"dataframe\">\n",
       "  <thead>\n",
       "    <tr>\n",
       "      <th></th>\n",
       "      <th>area</th>\n",
       "      <th colspan=\"8\" halign=\"left\">SSE</th>\n",
       "    </tr>\n",
       "    <tr>\n",
       "      <th></th>\n",
       "      <th></th>\n",
       "      <th>count</th>\n",
       "      <th>mean</th>\n",
       "      <th>std</th>\n",
       "      <th>min</th>\n",
       "      <th>25%</th>\n",
       "      <th>50%</th>\n",
       "      <th>75%</th>\n",
       "      <th>max</th>\n",
       "    </tr>\n",
       "  </thead>\n",
       "  <tbody>\n",
       "    <tr>\n",
       "      <th>0</th>\n",
       "      <td>V1</td>\n",
       "      <td>127.0</td>\n",
       "      <td>0.004237</td>\n",
       "      <td>0.006489</td>\n",
       "      <td>0.000059</td>\n",
       "      <td>0.001155</td>\n",
       "      <td>0.002518</td>\n",
       "      <td>0.004275</td>\n",
       "      <td>0.042927</td>\n",
       "    </tr>\n",
       "    <tr>\n",
       "      <th>1</th>\n",
       "      <td>LM</td>\n",
       "      <td>26.0</td>\n",
       "      <td>0.003188</td>\n",
       "      <td>0.004202</td>\n",
       "      <td>0.000206</td>\n",
       "      <td>0.000862</td>\n",
       "      <td>0.001422</td>\n",
       "      <td>0.004325</td>\n",
       "      <td>0.020104</td>\n",
       "    </tr>\n",
       "    <tr>\n",
       "      <th>2</th>\n",
       "      <td>LI</td>\n",
       "      <td>10.0</td>\n",
       "      <td>0.002108</td>\n",
       "      <td>0.001678</td>\n",
       "      <td>0.000124</td>\n",
       "      <td>0.000637</td>\n",
       "      <td>0.001921</td>\n",
       "      <td>0.003553</td>\n",
       "      <td>0.004730</td>\n",
       "    </tr>\n",
       "  </tbody>\n",
       "</table>\n",
       "</div>"
      ],
      "text/plain": [
       "  area    SSE                                                              \\\n",
       "        count      mean       std       min       25%       50%       75%   \n",
       "0   V1  127.0  0.004237  0.006489  0.000059  0.001155  0.002518  0.004275   \n",
       "1   LM   26.0  0.003188  0.004202  0.000206  0.000862  0.001422  0.004325   \n",
       "2   LI   10.0  0.002108  0.001678  0.000124  0.000637  0.001921  0.003553   \n",
       "\n",
       "             \n",
       "        max  \n",
       "0  0.042927  \n",
       "1  0.020104  \n",
       "2  0.004730  "
      ]
     },
     "execution_count": 11,
     "metadata": {},
     "output_type": "execute_result"
    }
   ],
   "source": [
    "df[['area','SSE']].groupby('area', sort=False).describe().reset_index()"
   ]
  },
  {
   "cell_type": "code",
   "execution_count": 7,
   "metadata": {},
   "outputs": [
    {
     "data": {
      "image/png": "[encoded data removed]",
      "text/plain": [
       "<Figure size 432x288 with 1 Axes>"
      ]
     },
     "metadata": {
      "needs_background": "light"
     },
     "output_type": "display_data"
    }
   ],
   "source": [
    "ax = sns.violinplot(x=\"area\", y=\"R2\", data=df)"
   ]
  },
  {
   "cell_type": "code",
   "execution_count": 8,
   "metadata": {},
   "outputs": [
    {
     "data": {
      "image/png": "[encoded data removed]",
      "text/plain": [
       "<Figure size 432x288 with 1 Axes>"
      ]
     },
     "metadata": {
      "needs_background": "light"
     },
     "output_type": "display_data"
    }
   ],
   "source": [
    "ax = sns.violinplot(x=\"area\", y=\"SSE\", data=df)"
   ]
  },
  {
   "cell_type": "code",
   "execution_count": 117,
   "metadata": {},
   "outputs": [
    {
     "data": {
      "text/html": [
       "<div>\n",
       "<style scoped>\n",
       "    .dataframe tbody tr th:only-of-type {\n",
       "        vertical-align: middle;\n",
       "    }\n",
       "\n",
       "    .dataframe tbody tr th {\n",
       "        vertical-align: top;\n",
       "    }\n",
       "\n",
       "    .dataframe thead th {\n",
       "        text-align: right;\n",
       "    }\n",
       "</style>\n",
       "<table border=\"1\" class=\"dataframe\">\n",
       "  <thead>\n",
       "    <tr style=\"text-align: right;\">\n",
       "      <th></th>\n",
       "      <th>area</th>\n",
       "      <th>R2</th>\n",
       "      <th>SSE</th>\n",
       "    </tr>\n",
       "  </thead>\n",
       "  <tbody>\n",
       "    <tr>\n",
       "      <th>0</th>\n",
       "      <td>V1</td>\n",
       "      <td>0.909820</td>\n",
       "      <td>0.003040</td>\n",
       "    </tr>\n",
       "    <tr>\n",
       "      <th>1</th>\n",
       "      <td>V1</td>\n",
       "      <td>0.912416</td>\n",
       "      <td>0.001510</td>\n",
       "    </tr>\n",
       "    <tr>\n",
       "      <th>2</th>\n",
       "      <td>V1</td>\n",
       "      <td>0.982684</td>\n",
       "      <td>0.001656</td>\n",
       "    </tr>\n",
       "    <tr>\n",
       "      <th>3</th>\n",
       "      <td>V1</td>\n",
       "      <td>0.936868</td>\n",
       "      <td>0.006974</td>\n",
       "    </tr>\n",
       "    <tr>\n",
       "      <th>4</th>\n",
       "      <td>V1</td>\n",
       "      <td>0.954914</td>\n",
       "      <td>0.039923</td>\n",
       "    </tr>\n",
       "    <tr>\n",
       "      <th>...</th>\n",
       "      <td>...</td>\n",
       "      <td>...</td>\n",
       "      <td>...</td>\n",
       "    </tr>\n",
       "    <tr>\n",
       "      <th>534</th>\n",
       "      <td>LM</td>\n",
       "      <td>0.475880</td>\n",
       "      <td>0.002292</td>\n",
       "    </tr>\n",
       "    <tr>\n",
       "      <th>535</th>\n",
       "      <td>LM</td>\n",
       "      <td>0.399251</td>\n",
       "      <td>0.001712</td>\n",
       "    </tr>\n",
       "    <tr>\n",
       "      <th>536</th>\n",
       "      <td>LM</td>\n",
       "      <td>0.096769</td>\n",
       "      <td>0.015097</td>\n",
       "    </tr>\n",
       "    <tr>\n",
       "      <th>537</th>\n",
       "      <td>LM</td>\n",
       "      <td>0.262120</td>\n",
       "      <td>0.004684</td>\n",
       "    </tr>\n",
       "    <tr>\n",
       "      <th>538</th>\n",
       "      <td>LM</td>\n",
       "      <td>0.030361</td>\n",
       "      <td>0.006412</td>\n",
       "    </tr>\n",
       "  </tbody>\n",
       "</table>\n",
       "<p>539 rows × 3 columns</p>\n",
       "</div>"
      ],
      "text/plain": [
       "    area        R2       SSE\n",
       "0     V1  0.909820  0.003040\n",
       "1     V1  0.912416  0.001510\n",
       "2     V1  0.982684  0.001656\n",
       "3     V1  0.936868  0.006974\n",
       "4     V1  0.954914  0.039923\n",
       "..   ...       ...       ...\n",
       "534   LM  0.475880  0.002292\n",
       "535   LM  0.399251  0.001712\n",
       "536   LM  0.096769  0.015097\n",
       "537   LM  0.262120  0.004684\n",
       "538   LM  0.030361  0.006412\n",
       "\n",
       "[539 rows x 3 columns]"
      ]
     },
     "execution_count": 117,
     "metadata": {},
     "output_type": "execute_result"
    }
   ],
   "source": [
    "temp = loadmat('C:/Users/lan/Documents/repos/inter/plot/R2_SSE_all_area.mat')\n",
    "df = pd.DataFrame(temp['area'], columns=['area'])\n",
    "df['R2'] = temp['R2']\n",
    "df['SSE'] = temp['SSE']\n",
    "replace_area_name(df, 'area')"
   ]
  },
  {
   "cell_type": "code",
   "execution_count": 118,
   "metadata": {},
   "outputs": [
    {
     "data": {
      "text/html": [
       "<div>\n",
       "<style scoped>\n",
       "    .dataframe tbody tr th:only-of-type {\n",
       "        vertical-align: middle;\n",
       "    }\n",
       "\n",
       "    .dataframe tbody tr th {\n",
       "        vertical-align: top;\n",
       "    }\n",
       "\n",
       "    .dataframe thead tr th {\n",
       "        text-align: left;\n",
       "    }\n",
       "</style>\n",
       "<table border=\"1\" class=\"dataframe\">\n",
       "  <thead>\n",
       "    <tr>\n",
       "      <th></th>\n",
       "      <th>area</th>\n",
       "      <th colspan=\"8\" halign=\"left\">R2</th>\n",
       "    </tr>\n",
       "    <tr>\n",
       "      <th></th>\n",
       "      <th></th>\n",
       "      <th>count</th>\n",
       "      <th>mean</th>\n",
       "      <th>std</th>\n",
       "      <th>min</th>\n",
       "      <th>25%</th>\n",
       "      <th>50%</th>\n",
       "      <th>75%</th>\n",
       "      <th>max</th>\n",
       "    </tr>\n",
       "  </thead>\n",
       "  <tbody>\n",
       "    <tr>\n",
       "      <th>0</th>\n",
       "      <td>V1</td>\n",
       "      <td>293.0</td>\n",
       "      <td>0.697709</td>\n",
       "      <td>0.281087</td>\n",
       "      <td>-6.950965e-01</td>\n",
       "      <td>0.554520</td>\n",
       "      <td>0.795207</td>\n",
       "      <td>0.915681</td>\n",
       "      <td>0.997551</td>\n",
       "    </tr>\n",
       "    <tr>\n",
       "      <th>1</th>\n",
       "      <td>LM</td>\n",
       "      <td>160.0</td>\n",
       "      <td>0.608380</td>\n",
       "      <td>0.263517</td>\n",
       "      <td>-3.298091e-01</td>\n",
       "      <td>0.403744</td>\n",
       "      <td>0.665774</td>\n",
       "      <td>0.835812</td>\n",
       "      <td>0.994080</td>\n",
       "    </tr>\n",
       "    <tr>\n",
       "      <th>2</th>\n",
       "      <td>LI</td>\n",
       "      <td>86.0</td>\n",
       "      <td>0.588485</td>\n",
       "      <td>0.253185</td>\n",
       "      <td>-6.166112e-11</td>\n",
       "      <td>0.438111</td>\n",
       "      <td>0.594939</td>\n",
       "      <td>0.794711</td>\n",
       "      <td>0.976053</td>\n",
       "    </tr>\n",
       "  </tbody>\n",
       "</table>\n",
       "</div>"
      ],
      "text/plain": [
       "  area     R2                                                                  \\\n",
       "        count      mean       std           min       25%       50%       75%   \n",
       "0   V1  293.0  0.697709  0.281087 -6.950965e-01  0.554520  0.795207  0.915681   \n",
       "1   LM  160.0  0.608380  0.263517 -3.298091e-01  0.403744  0.665774  0.835812   \n",
       "2   LI   86.0  0.588485  0.253185 -6.166112e-11  0.438111  0.594939  0.794711   \n",
       "\n",
       "             \n",
       "        max  \n",
       "0  0.997551  \n",
       "1  0.994080  \n",
       "2  0.976053  "
      ]
     },
     "execution_count": 118,
     "metadata": {},
     "output_type": "execute_result"
    }
   ],
   "source": [
    "df[['area','R2']].groupby('area', sort=False).describe().reset_index()"
   ]
  },
  {
   "cell_type": "code",
   "execution_count": 119,
   "metadata": {},
   "outputs": [
    {
     "data": {
      "text/html": [
       "<div>\n",
       "<style scoped>\n",
       "    .dataframe tbody tr th:only-of-type {\n",
       "        vertical-align: middle;\n",
       "    }\n",
       "\n",
       "    .dataframe tbody tr th {\n",
       "        vertical-align: top;\n",
       "    }\n",
       "\n",
       "    .dataframe thead tr th {\n",
       "        text-align: left;\n",
       "    }\n",
       "</style>\n",
       "<table border=\"1\" class=\"dataframe\">\n",
       "  <thead>\n",
       "    <tr>\n",
       "      <th></th>\n",
       "      <th>area</th>\n",
       "      <th colspan=\"8\" halign=\"left\">SSE</th>\n",
       "    </tr>\n",
       "    <tr>\n",
       "      <th></th>\n",
       "      <th></th>\n",
       "      <th>count</th>\n",
       "      <th>mean</th>\n",
       "      <th>std</th>\n",
       "      <th>min</th>\n",
       "      <th>25%</th>\n",
       "      <th>50%</th>\n",
       "      <th>75%</th>\n",
       "      <th>max</th>\n",
       "    </tr>\n",
       "  </thead>\n",
       "  <tbody>\n",
       "    <tr>\n",
       "      <th>0</th>\n",
       "      <td>V1</td>\n",
       "      <td>293.0</td>\n",
       "      <td>0.004984</td>\n",
       "      <td>0.010519</td>\n",
       "      <td>0.000059</td>\n",
       "      <td>0.001273</td>\n",
       "      <td>0.002644</td>\n",
       "      <td>0.004777</td>\n",
       "      <td>0.142692</td>\n",
       "    </tr>\n",
       "    <tr>\n",
       "      <th>1</th>\n",
       "      <td>LM</td>\n",
       "      <td>160.0</td>\n",
       "      <td>0.003071</td>\n",
       "      <td>0.003400</td>\n",
       "      <td>0.000146</td>\n",
       "      <td>0.001020</td>\n",
       "      <td>0.001981</td>\n",
       "      <td>0.003832</td>\n",
       "      <td>0.020755</td>\n",
       "    </tr>\n",
       "    <tr>\n",
       "      <th>2</th>\n",
       "      <td>LI</td>\n",
       "      <td>86.0</td>\n",
       "      <td>0.003095</td>\n",
       "      <td>0.002588</td>\n",
       "      <td>0.000124</td>\n",
       "      <td>0.001113</td>\n",
       "      <td>0.002728</td>\n",
       "      <td>0.004359</td>\n",
       "      <td>0.015255</td>\n",
       "    </tr>\n",
       "  </tbody>\n",
       "</table>\n",
       "</div>"
      ],
      "text/plain": [
       "  area    SSE                                                              \\\n",
       "        count      mean       std       min       25%       50%       75%   \n",
       "0   V1  293.0  0.004984  0.010519  0.000059  0.001273  0.002644  0.004777   \n",
       "1   LM  160.0  0.003071  0.003400  0.000146  0.001020  0.001981  0.003832   \n",
       "2   LI   86.0  0.003095  0.002588  0.000124  0.001113  0.002728  0.004359   \n",
       "\n",
       "             \n",
       "        max  \n",
       "0  0.142692  \n",
       "1  0.020755  \n",
       "2  0.015255  "
      ]
     },
     "execution_count": 119,
     "metadata": {},
     "output_type": "execute_result"
    }
   ],
   "source": [
    "df[['area','SSE']].groupby('area', sort=False).describe().reset_index()"
   ]
  },
  {
   "cell_type": "code",
   "execution_count": 120,
   "metadata": {},
   "outputs": [
    {
     "data": {
      "image/png": "[encoded data removed]",
      "text/plain": [
       "<Figure size 432x288 with 1 Axes>"
      ]
     },
     "metadata": {
      "needs_background": "light"
     },
     "output_type": "display_data"
    }
   ],
   "source": [
    "ax = sns.violinplot(x=\"area\", y=\"R2\", data=df)"
   ]
  },
  {
   "cell_type": "code",
   "execution_count": 121,
   "metadata": {},
   "outputs": [
    {
     "data": {
      "image/png": "[encoded data removed]",
      "text/plain": [
       "<Figure size 432x288 with 1 Axes>"
      ]
     },
     "metadata": {
      "needs_background": "light"
     },
     "output_type": "display_data"
    }
   ],
   "source": [
    "ax = sns.violinplot(x=\"area\", y=\"SSE\", data=df)"
   ]
  },
  {
   "cell_type": "markdown",
   "metadata": {},
   "source": [
    "## Stableness of fit (ori_perc) by area"
   ]
  },
  {
   "cell_type": "code",
   "execution_count": 14,
   "metadata": {},
   "outputs": [
    {
     "data": {
      "text/html": [
       "<div>\n",
       "<style scoped>\n",
       "    .dataframe tbody tr th:only-of-type {\n",
       "        vertical-align: middle;\n",
       "    }\n",
       "\n",
       "    .dataframe tbody tr th {\n",
       "        vertical-align: top;\n",
       "    }\n",
       "\n",
       "    .dataframe thead th {\n",
       "        text-align: right;\n",
       "    }\n",
       "</style>\n",
       "<table border=\"1\" class=\"dataframe\">\n",
       "  <thead>\n",
       "    <tr style=\"text-align: right;\">\n",
       "      <th></th>\n",
       "      <th>area</th>\n",
       "      <th>ori_perc</th>\n",
       "      <th>OSI</th>\n",
       "    </tr>\n",
       "  </thead>\n",
       "  <tbody>\n",
       "    <tr>\n",
       "      <th>158</th>\n",
       "      <td>V1</td>\n",
       "      <td>11.202270</td>\n",
       "      <td>0.715140</td>\n",
       "    </tr>\n",
       "    <tr>\n",
       "      <th>159</th>\n",
       "      <td>V1</td>\n",
       "      <td>22.473120</td>\n",
       "      <td>1.338073</td>\n",
       "    </tr>\n",
       "    <tr>\n",
       "      <th>160</th>\n",
       "      <td>V1</td>\n",
       "      <td>15.087448</td>\n",
       "      <td>0.960019</td>\n",
       "    </tr>\n",
       "    <tr>\n",
       "      <th>161</th>\n",
       "      <td>V1</td>\n",
       "      <td>15.883065</td>\n",
       "      <td>0.439901</td>\n",
       "    </tr>\n",
       "    <tr>\n",
       "      <th>162</th>\n",
       "      <td>LM</td>\n",
       "      <td>12.140680</td>\n",
       "      <td>0.721108</td>\n",
       "    </tr>\n",
       "  </tbody>\n",
       "</table>\n",
       "</div>"
      ],
      "text/plain": [
       "    area   ori_perc       OSI\n",
       "158   V1  11.202270  0.715140\n",
       "159   V1  22.473120  1.338073\n",
       "160   V1  15.087448  0.960019\n",
       "161   V1  15.883065  0.439901\n",
       "162   LM  12.140680  0.721108"
      ]
     },
     "execution_count": 14,
     "metadata": {},
     "output_type": "execute_result"
    }
   ],
   "source": [
    "temp = loadmat('C:/Users/lan/Documents/repos/inter/plot/ori_perc_area.mat')\n",
    "df = pd.DataFrame(temp['area'], columns=['area'])\n",
    "df['ori_perc'] = temp['ori_perc']\n",
    "replace_area_name(df, 'area')\n",
    "\n",
    "OSI_area = loadmat('C:/Users/lan/Documents/repos/inter/plot/OSI_area.mat')\n",
    "df['OSI'] = OSI_area['OSI']\n",
    "df.tail()"
   ]
  },
  {
   "cell_type": "code",
   "execution_count": 15,
   "metadata": {},
   "outputs": [
    {
     "data": {
      "text/html": [
       "<div>\n",
       "<style scoped>\n",
       "    .dataframe tbody tr th:only-of-type {\n",
       "        vertical-align: middle;\n",
       "    }\n",
       "\n",
       "    .dataframe tbody tr th {\n",
       "        vertical-align: top;\n",
       "    }\n",
       "\n",
       "    .dataframe thead th {\n",
       "        text-align: right;\n",
       "    }\n",
       "</style>\n",
       "<table border=\"1\" class=\"dataframe\">\n",
       "  <thead>\n",
       "    <tr style=\"text-align: right;\">\n",
       "      <th></th>\n",
       "      <th>area</th>\n",
       "      <th>ori_perc</th>\n",
       "    </tr>\n",
       "  </thead>\n",
       "  <tbody>\n",
       "    <tr>\n",
       "      <th>158</th>\n",
       "      <td>V1</td>\n",
       "      <td>11.202270</td>\n",
       "    </tr>\n",
       "    <tr>\n",
       "      <th>159</th>\n",
       "      <td>V1</td>\n",
       "      <td>22.473120</td>\n",
       "    </tr>\n",
       "    <tr>\n",
       "      <th>160</th>\n",
       "      <td>V1</td>\n",
       "      <td>15.087448</td>\n",
       "    </tr>\n",
       "    <tr>\n",
       "      <th>161</th>\n",
       "      <td>V1</td>\n",
       "      <td>15.883065</td>\n",
       "    </tr>\n",
       "    <tr>\n",
       "      <th>162</th>\n",
       "      <td>LM</td>\n",
       "      <td>12.140680</td>\n",
       "    </tr>\n",
       "  </tbody>\n",
       "</table>\n",
       "</div>"
      ],
      "text/plain": [
       "    area   ori_perc\n",
       "158   V1  11.202270\n",
       "159   V1  22.473120\n",
       "160   V1  15.087448\n",
       "161   V1  15.883065\n",
       "162   LM  12.140680"
      ]
     },
     "execution_count": 15,
     "metadata": {},
     "output_type": "execute_result"
    }
   ],
   "source": [
    "df2 = df[['area', 'ori_perc']]\n",
    "df2.tail()"
   ]
  },
  {
   "cell_type": "code",
   "execution_count": 16,
   "metadata": {},
   "outputs": [
    {
     "data": {
      "text/html": [
       "<div>\n",
       "<style scoped>\n",
       "    .dataframe tbody tr th:only-of-type {\n",
       "        vertical-align: middle;\n",
       "    }\n",
       "\n",
       "    .dataframe tbody tr th {\n",
       "        vertical-align: top;\n",
       "    }\n",
       "\n",
       "    .dataframe thead tr th {\n",
       "        text-align: left;\n",
       "    }\n",
       "</style>\n",
       "<table border=\"1\" class=\"dataframe\">\n",
       "  <thead>\n",
       "    <tr>\n",
       "      <th></th>\n",
       "      <th>area</th>\n",
       "      <th colspan=\"8\" halign=\"left\">ori_perc</th>\n",
       "    </tr>\n",
       "    <tr>\n",
       "      <th></th>\n",
       "      <th></th>\n",
       "      <th>count</th>\n",
       "      <th>mean</th>\n",
       "      <th>std</th>\n",
       "      <th>min</th>\n",
       "      <th>25%</th>\n",
       "      <th>50%</th>\n",
       "      <th>75%</th>\n",
       "      <th>max</th>\n",
       "    </tr>\n",
       "  </thead>\n",
       "  <tbody>\n",
       "    <tr>\n",
       "      <th>0</th>\n",
       "      <td>V1</td>\n",
       "      <td>127.0</td>\n",
       "      <td>12.002190</td>\n",
       "      <td>5.103152</td>\n",
       "      <td>2.408343</td>\n",
       "      <td>7.814508</td>\n",
       "      <td>10.891305</td>\n",
       "      <td>16.038360</td>\n",
       "      <td>22.473120</td>\n",
       "    </tr>\n",
       "    <tr>\n",
       "      <th>1</th>\n",
       "      <td>LM</td>\n",
       "      <td>26.0</td>\n",
       "      <td>12.818037</td>\n",
       "      <td>4.478191</td>\n",
       "      <td>6.739403</td>\n",
       "      <td>10.024139</td>\n",
       "      <td>12.021577</td>\n",
       "      <td>16.127206</td>\n",
       "      <td>21.728753</td>\n",
       "    </tr>\n",
       "    <tr>\n",
       "      <th>2</th>\n",
       "      <td>LI</td>\n",
       "      <td>10.0</td>\n",
       "      <td>13.453151</td>\n",
       "      <td>5.927197</td>\n",
       "      <td>4.411661</td>\n",
       "      <td>9.991636</td>\n",
       "      <td>14.203159</td>\n",
       "      <td>16.472494</td>\n",
       "      <td>22.381476</td>\n",
       "    </tr>\n",
       "  </tbody>\n",
       "</table>\n",
       "</div>"
      ],
      "text/plain": [
       "  area ori_perc                                                       \\\n",
       "          count       mean       std       min        25%        50%   \n",
       "0   V1    127.0  12.002190  5.103152  2.408343   7.814508  10.891305   \n",
       "1   LM     26.0  12.818037  4.478191  6.739403  10.024139  12.021577   \n",
       "2   LI     10.0  13.453151  5.927197  4.411661   9.991636  14.203159   \n",
       "\n",
       "                         \n",
       "         75%        max  \n",
       "0  16.038360  22.473120  \n",
       "1  16.127206  21.728753  \n",
       "2  16.472494  22.381476  "
      ]
     },
     "execution_count": 16,
     "metadata": {},
     "output_type": "execute_result"
    }
   ],
   "source": [
    "df2.groupby('area', sort=False).describe().reset_index()"
   ]
  },
  {
   "cell_type": "markdown",
   "metadata": {},
   "source": [
    "### CDF of ori_perc dist of all cells across areas"
   ]
  },
  {
   "cell_type": "code",
   "execution_count": 62,
   "metadata": {},
   "outputs": [
    {
     "data": {
      "text/html": [
       "<div>\n",
       "<style scoped>\n",
       "    .dataframe tbody tr th:only-of-type {\n",
       "        vertical-align: middle;\n",
       "    }\n",
       "\n",
       "    .dataframe tbody tr th {\n",
       "        vertical-align: top;\n",
       "    }\n",
       "\n",
       "    .dataframe thead th {\n",
       "        text-align: right;\n",
       "    }\n",
       "</style>\n",
       "<table border=\"1\" class=\"dataframe\">\n",
       "  <thead>\n",
       "    <tr style=\"text-align: right;\">\n",
       "      <th></th>\n",
       "      <th>area</th>\n",
       "      <th>ori_perc_all</th>\n",
       "    </tr>\n",
       "  </thead>\n",
       "  <tbody>\n",
       "    <tr>\n",
       "      <th>534</th>\n",
       "      <td>LM</td>\n",
       "      <td>63.430514</td>\n",
       "    </tr>\n",
       "    <tr>\n",
       "      <th>535</th>\n",
       "      <td>LM</td>\n",
       "      <td>66.002012</td>\n",
       "    </tr>\n",
       "    <tr>\n",
       "      <th>536</th>\n",
       "      <td>LM</td>\n",
       "      <td>48.838387</td>\n",
       "    </tr>\n",
       "    <tr>\n",
       "      <th>537</th>\n",
       "      <td>LM</td>\n",
       "      <td>47.597539</td>\n",
       "    </tr>\n",
       "    <tr>\n",
       "      <th>538</th>\n",
       "      <td>LM</td>\n",
       "      <td>55.128342</td>\n",
       "    </tr>\n",
       "  </tbody>\n",
       "</table>\n",
       "</div>"
      ],
      "text/plain": [
       "    area  ori_perc_all\n",
       "534   LM     63.430514\n",
       "535   LM     66.002012\n",
       "536   LM     48.838387\n",
       "537   LM     47.597539\n",
       "538   LM     55.128342"
      ]
     },
     "execution_count": 62,
     "metadata": {},
     "output_type": "execute_result"
    }
   ],
   "source": [
    "temp = loadmat('C:/Users/lan/Documents/repos/inter/plot/ori_perc_all_area.mat')\n",
    "df = pd.DataFrame(temp['area'], columns=['area'])\n",
    "df['ori_perc_all'] = temp['ori_perc_all']\n",
    "replace_area_name(df, 'area')\n",
    "df.tail()"
   ]
  },
  {
   "cell_type": "code",
   "execution_count": 23,
   "metadata": {},
   "outputs": [
    {
     "data": {
      "text/html": [
       "<div>\n",
       "<style scoped>\n",
       "    .dataframe tbody tr th:only-of-type {\n",
       "        vertical-align: middle;\n",
       "    }\n",
       "\n",
       "    .dataframe tbody tr th {\n",
       "        vertical-align: top;\n",
       "    }\n",
       "\n",
       "    .dataframe thead tr th {\n",
       "        text-align: left;\n",
       "    }\n",
       "</style>\n",
       "<table border=\"1\" class=\"dataframe\">\n",
       "  <thead>\n",
       "    <tr>\n",
       "      <th></th>\n",
       "      <th>area</th>\n",
       "      <th colspan=\"8\" halign=\"left\">ori_perc_all</th>\n",
       "    </tr>\n",
       "    <tr>\n",
       "      <th></th>\n",
       "      <th></th>\n",
       "      <th>count</th>\n",
       "      <th>mean</th>\n",
       "      <th>std</th>\n",
       "      <th>min</th>\n",
       "      <th>25%</th>\n",
       "      <th>50%</th>\n",
       "      <th>75%</th>\n",
       "      <th>max</th>\n",
       "    </tr>\n",
       "  </thead>\n",
       "  <tbody>\n",
       "    <tr>\n",
       "      <th>0</th>\n",
       "      <td>V1</td>\n",
       "      <td>293.0</td>\n",
       "      <td>35.309524</td>\n",
       "      <td>24.534247</td>\n",
       "      <td>2.408343</td>\n",
       "      <td>12.242160</td>\n",
       "      <td>29.871945</td>\n",
       "      <td>54.162026</td>\n",
       "      <td>89.977356</td>\n",
       "    </tr>\n",
       "    <tr>\n",
       "      <th>1</th>\n",
       "      <td>LM</td>\n",
       "      <td>160.0</td>\n",
       "      <td>46.266620</td>\n",
       "      <td>20.676110</td>\n",
       "      <td>6.739403</td>\n",
       "      <td>33.317660</td>\n",
       "      <td>47.014913</td>\n",
       "      <td>60.638608</td>\n",
       "      <td>88.446008</td>\n",
       "    </tr>\n",
       "    <tr>\n",
       "      <th>2</th>\n",
       "      <td>LI</td>\n",
       "      <td>86.0</td>\n",
       "      <td>47.898473</td>\n",
       "      <td>20.088672</td>\n",
       "      <td>4.411661</td>\n",
       "      <td>31.862034</td>\n",
       "      <td>49.248869</td>\n",
       "      <td>62.593065</td>\n",
       "      <td>84.334332</td>\n",
       "    </tr>\n",
       "  </tbody>\n",
       "</table>\n",
       "</div>"
      ],
      "text/plain": [
       "  area ori_perc_all                                                        \\\n",
       "              count       mean        std       min        25%        50%   \n",
       "0   V1        293.0  35.309524  24.534247  2.408343  12.242160  29.871945   \n",
       "1   LM        160.0  46.266620  20.676110  6.739403  33.317660  47.014913   \n",
       "2   LI         86.0  47.898473  20.088672  4.411661  31.862034  49.248869   \n",
       "\n",
       "                         \n",
       "         75%        max  \n",
       "0  54.162026  89.977356  \n",
       "1  60.638608  88.446008  \n",
       "2  62.593065  84.334332  "
      ]
     },
     "execution_count": 23,
     "metadata": {},
     "output_type": "execute_result"
    }
   ],
   "source": [
    "df.groupby('area', sort=False).describe().reset_index()"
   ]
  },
  {
   "cell_type": "code",
   "execution_count": 37,
   "metadata": {},
   "outputs": [
    {
     "data": {
      "text/html": [
       "<div>\n",
       "<style scoped>\n",
       "    .dataframe tbody tr th:only-of-type {\n",
       "        vertical-align: middle;\n",
       "    }\n",
       "\n",
       "    .dataframe tbody tr th {\n",
       "        vertical-align: top;\n",
       "    }\n",
       "\n",
       "    .dataframe thead th {\n",
       "        text-align: right;\n",
       "    }\n",
       "</style>\n",
       "<table border=\"1\" class=\"dataframe\">\n",
       "  <thead>\n",
       "    <tr style=\"text-align: right;\">\n",
       "      <th></th>\n",
       "      <th></th>\n",
       "      <th>ori_perc_all</th>\n",
       "    </tr>\n",
       "    <tr>\n",
       "      <th>area</th>\n",
       "      <th></th>\n",
       "      <th></th>\n",
       "    </tr>\n",
       "  </thead>\n",
       "  <tbody>\n",
       "    <tr>\n",
       "      <th rowspan=\"5\" valign=\"top\">LI</th>\n",
       "      <th>0.96</th>\n",
       "      <td>77.580110</td>\n",
       "    </tr>\n",
       "    <tr>\n",
       "      <th>0.97</th>\n",
       "      <td>78.613986</td>\n",
       "    </tr>\n",
       "    <tr>\n",
       "      <th>0.98</th>\n",
       "      <td>80.947016</td>\n",
       "    </tr>\n",
       "    <tr>\n",
       "      <th>0.99</th>\n",
       "      <td>84.096219</td>\n",
       "    </tr>\n",
       "    <tr>\n",
       "      <th>1.00</th>\n",
       "      <td>84.334332</td>\n",
       "    </tr>\n",
       "  </tbody>\n",
       "</table>\n",
       "</div>"
      ],
      "text/plain": [
       "           ori_perc_all\n",
       "area                   \n",
       "LI   0.96     77.580110\n",
       "     0.97     78.613986\n",
       "     0.98     80.947016\n",
       "     0.99     84.096219\n",
       "     1.00     84.334332"
      ]
     },
     "execution_count": 37,
     "metadata": {},
     "output_type": "execute_result"
    }
   ],
   "source": [
    "# df_perc = df.groupby('area', sort=False).quantile(np.linspace(0,1,101)).copy()\n",
    "# df_perc.tail()"
   ]
  },
  {
   "cell_type": "code",
   "execution_count": 72,
   "metadata": {},
   "outputs": [
    {
     "data": {
      "text/plain": [
       "Text(0.5, 1.0, 'LI')"
      ]
     },
     "execution_count": 72,
     "metadata": {},
     "output_type": "execute_result"
    },
    {
     "data": {
      "image/png": "[encoded data removed]",
      "text/plain": [
       "<Figure size 720x360 with 3 Axes>"
      ]
     },
     "metadata": {
      "needs_background": "light"
     },
     "output_type": "display_data"
    }
   ],
   "source": [
    "data1 = df['ori_perc_all'][df['area'] == 'V1']; data_sorted1 = np.sort(data1)\n",
    "data2 = df['ori_perc_all'][df['area'] == 'LM']; data_sorted2 = np.sort(data2)\n",
    "data3 = df['ori_perc_all'][df['area'] == 'LI']; data_sorted3 = np.sort(data3)\n",
    "\n",
    "p1 = 1. * np.arange(len(data1)) / (len(data1) - 1) # calculate the proportional values of samples\n",
    "p2 = 1. * np.arange(len(data2)) / (len(data2) - 1)\n",
    "p3 = 1. * np.arange(len(data3)) / (len(data3) - 1)\n",
    "\n",
    "fig, axes = plt.subplots(1, 3, figsize=(10, 5), sharey=True)\n",
    "fig.suptitle('CDF of ori_perc')\n",
    "\n",
    "ax = axes[0].plot(data_sorted1, p1)\n",
    "axes[0].set_title('V1')\n",
    "ax = axes[1].plot(data_sorted2, p2)\n",
    "axes[1].set_title('LM')\n",
    "ax = axes[2].plot(data_sorted3, p3)\n",
    "axes[2].set_title('LI')\n",
    "\n",
    "# fig = plt.figure()\n",
    "# ax1 = fig.add_subplot(131)\n",
    "# ax1.plot(data_sorted1, p1)\n",
    "# ax1.set_xlabel('$x$')\n",
    "# ax1.set_ylabel('$p$')\n",
    "\n",
    "# ax2 = fig.add_subplot(132)\n",
    "# ax2.plot(data_sorted2, p2)\n",
    "# ax3 = fig.add_subplot(133)\n",
    "# ax3.plot(data_sorted3, p3)"
   ]
  },
  {
   "cell_type": "code",
   "execution_count": 78,
   "metadata": {},
   "outputs": [
    {
     "data": {
      "text/plain": [
       "Text(0, 0.5, 'prob')"
      ]
     },
     "execution_count": 78,
     "metadata": {},
     "output_type": "execute_result"
    },
    {
     "data": {
      "image/png": "[encoded data removed]",
      "text/plain": [
       "<Figure size 432x288 with 1 Axes>"
      ]
     },
     "metadata": {
      "needs_background": "light"
     },
     "output_type": "display_data"
    }
   ],
   "source": [
    "fig = plt.figure()\n",
    "plt.plot(data_sorted1, p1)\n",
    "plt.plot(data_sorted2, p2)\n",
    "plt.plot(data_sorted3, p3)\n",
    "plt.legend(['V1','LM','LI'])\n",
    "plt.xlabel(\"ori_perc\")\n",
    "plt.ylabel(\"prob\")"
   ]
  },
  {
   "cell_type": "markdown",
   "metadata": {},
   "source": [
    "### ori_perc vs OSI"
   ]
  },
  {
   "cell_type": "code",
   "execution_count": 124,
   "metadata": {},
   "outputs": [
    {
     "data": {
      "text/html": [
       "<div>\n",
       "<style scoped>\n",
       "    .dataframe tbody tr th:only-of-type {\n",
       "        vertical-align: middle;\n",
       "    }\n",
       "\n",
       "    .dataframe tbody tr th {\n",
       "        vertical-align: top;\n",
       "    }\n",
       "\n",
       "    .dataframe thead th {\n",
       "        text-align: right;\n",
       "    }\n",
       "</style>\n",
       "<table border=\"1\" class=\"dataframe\">\n",
       "  <thead>\n",
       "    <tr style=\"text-align: right;\">\n",
       "      <th></th>\n",
       "      <th>area</th>\n",
       "      <th>ori_perc</th>\n",
       "      <th>OSI</th>\n",
       "    </tr>\n",
       "  </thead>\n",
       "  <tbody>\n",
       "    <tr>\n",
       "      <th>158</th>\n",
       "      <td>1</td>\n",
       "      <td>11.202270</td>\n",
       "      <td>0.715140</td>\n",
       "    </tr>\n",
       "    <tr>\n",
       "      <th>159</th>\n",
       "      <td>1</td>\n",
       "      <td>22.473120</td>\n",
       "      <td>1.338073</td>\n",
       "    </tr>\n",
       "    <tr>\n",
       "      <th>160</th>\n",
       "      <td>1</td>\n",
       "      <td>15.087448</td>\n",
       "      <td>0.960019</td>\n",
       "    </tr>\n",
       "    <tr>\n",
       "      <th>161</th>\n",
       "      <td>1</td>\n",
       "      <td>15.883065</td>\n",
       "      <td>0.439901</td>\n",
       "    </tr>\n",
       "    <tr>\n",
       "      <th>162</th>\n",
       "      <td>2</td>\n",
       "      <td>12.140680</td>\n",
       "      <td>0.721108</td>\n",
       "    </tr>\n",
       "  </tbody>\n",
       "</table>\n",
       "</div>"
      ],
      "text/plain": [
       "     area   ori_perc       OSI\n",
       "158     1  11.202270  0.715140\n",
       "159     1  22.473120  1.338073\n",
       "160     1  15.087448  0.960019\n",
       "161     1  15.883065  0.439901\n",
       "162     2  12.140680  0.721108"
      ]
     },
     "execution_count": 124,
     "metadata": {},
     "output_type": "execute_result"
    }
   ],
   "source": [
    "# for well_fit cells\n",
    "temp = loadmat('C:/Users/lan/Documents/repos/inter/plot/ori_perc_area.mat')\n",
    "df = pd.DataFrame(temp['area'], columns=['area'])\n",
    "df['ori_perc'] = temp['ori_perc']\n",
    "# replace_area_name(df, 'area')\n",
    "\n",
    "OSI_area = loadmat('C:/Users/lan/Documents/repos/inter/plot/OSI_area.mat')\n",
    "df['OSI'] = OSI_area['OSI']\n",
    "df.tail()"
   ]
  },
  {
   "cell_type": "code",
   "execution_count": 91,
   "metadata": {},
   "outputs": [
    {
     "data": {
      "text/plain": [
       "Text(0, 0.5, 'OSI')"
      ]
     },
     "execution_count": 91,
     "metadata": {},
     "output_type": "execute_result"
    },
    {
     "data": {
      "image/png": "[encoded data removed]",
      "text/plain": [
       "<Figure size 720x576 with 1 Axes>"
      ]
     },
     "metadata": {
      "needs_background": "light"
     },
     "output_type": "display_data"
    }
   ],
   "source": [
    "# rng = np.random.RandomState(0)\n",
    "x = df['ori_perc']\n",
    "y = df['OSI']\n",
    "colors = 4 - df['area']\n",
    "sizes = 100\n",
    "\n",
    "plt.figure(figsize=(10,8))\n",
    "plt.scatter(x, y, c=colors, s=sizes, alpha=0.5, cmap='viridis')\n",
    "# plt.colorbar();\n",
    "plt.xlabel(\"ori_perc of well-fit cells\")\n",
    "plt.ylabel(\"OSI\")"
   ]
  },
  {
   "cell_type": "code",
   "execution_count": null,
   "metadata": {},
   "outputs": [],
   "source": [
    "# for all vis cells"
   ]
  },
  {
   "cell_type": "code",
   "execution_count": 89,
   "metadata": {},
   "outputs": [
    {
     "data": {
      "text/plain": [
       "163"
      ]
     },
     "execution_count": 89,
     "metadata": {},
     "output_type": "execute_result"
    }
   ],
   "source": [
    "X = df['ori_perc'].copy().to_numpy().reshape(-1, 1)\n",
    "len(X)"
   ]
  },
  {
   "cell_type": "code",
   "execution_count": 101,
   "metadata": {},
   "outputs": [
    {
     "data": {
      "text/plain": [
       "0.055819151859039406"
      ]
     },
     "execution_count": 101,
     "metadata": {},
     "output_type": "execute_result"
    }
   ],
   "source": [
    "X = df['ori_perc'][df['area'] == 1].copy().to_numpy().reshape(-1, 1)\n",
    "y = df['OSI'][df['area'] == 1].copy().to_numpy().reshape(-1, 1)\n",
    "reg = LinearRegression().fit(X, y)\n",
    "reg.score(X, y)"
   ]
  },
  {
   "cell_type": "code",
   "execution_count": 102,
   "metadata": {},
   "outputs": [
    {
     "data": {
      "text/plain": [
       "0.04453978250961188"
      ]
     },
     "execution_count": 102,
     "metadata": {},
     "output_type": "execute_result"
    }
   ],
   "source": [
    "X = df['ori_perc'].copy().to_numpy().reshape(-1, 1)\n",
    "y = df['OSI'].copy().to_numpy().reshape(-1, 1)\n",
    "reg = LinearRegression().fit(X, y)\n",
    "reg.score(X, y)"
   ]
  },
  {
   "cell_type": "code",
   "execution_count": 112,
   "metadata": {},
   "outputs": [
    {
     "data": {
      "text/plain": [
       "-0.23626077088471426"
      ]
     },
     "execution_count": 112,
     "metadata": {},
     "output_type": "execute_result"
    }
   ],
   "source": [
    "X = df['ori_perc'][df['area'] == 1].copy().to_numpy()\n",
    "y = df['OSI'][df['area'] == 1].copy().to_numpy()\n",
    "r, p = scipy.stats.pearsonr(X, y)\n",
    "r"
   ]
  },
  {
   "cell_type": "code",
   "execution_count": 113,
   "metadata": {},
   "outputs": [
    {
     "data": {
      "text/plain": [
       "0.007491507101103418"
      ]
     },
     "execution_count": 113,
     "metadata": {},
     "output_type": "execute_result"
    }
   ],
   "source": [
    "p"
   ]
  },
  {
   "cell_type": "code",
   "execution_count": 114,
   "metadata": {
    "scrolled": true
   },
   "outputs": [
    {
     "data": {
      "text/plain": [
       "array([[ 1.        , -0.23626077],\n",
       "       [-0.23626077,  1.        ]])"
      ]
     },
     "execution_count": 114,
     "metadata": {},
     "output_type": "execute_result"
    }
   ],
   "source": [
    "np.corrcoef(X, y)"
   ]
  },
  {
   "cell_type": "code",
   "execution_count": 125,
   "metadata": {},
   "outputs": [
    {
     "data": {
      "text/plain": [
       "-0.21104450362331573"
      ]
     },
     "execution_count": 125,
     "metadata": {},
     "output_type": "execute_result"
    }
   ],
   "source": [
    "X = df['ori_perc'].copy().to_numpy()\n",
    "y = df['OSI'].copy().to_numpy()\n",
    "r, p = scipy.stats.pearsonr(X, y)\n",
    "r"
   ]
  },
  {
   "cell_type": "code",
   "execution_count": 126,
   "metadata": {},
   "outputs": [
    {
     "data": {
      "text/plain": [
       "0.006846336331989404"
      ]
     },
     "execution_count": 126,
     "metadata": {},
     "output_type": "execute_result"
    }
   ],
   "source": [
    "p"
   ]
  },
  {
   "cell_type": "code",
   "execution_count": null,
   "metadata": {},
   "outputs": [],
   "source": []
  }
 ],
 "metadata": {
  "kernelspec": {
   "display_name": "Python 3",
   "language": "python",
   "name": "python3"
  },
  "language_info": {
   "codemirror_mode": {
    "name": "ipython",
    "version": 3
   },
   "file_extension": ".py",
   "mimetype": "text/x-python",
   "name": "python",
   "nbconvert_exporter": "python",
   "pygments_lexer": "ipython3",
   "version": "3.7.9"
  }
 },
 "nbformat": 4,
 "nbformat_minor": 4
}
