{
 "cells": [
  {
   "cell_type": "markdown",
   "metadata": {},
   "source": [
    "# Import & function"
   ]
  },
  {
   "cell_type": "code",
   "execution_count": 42,
   "metadata": {},
   "outputs": [],
   "source": [
    "from PIL import Image, ImageDraw\n",
    "\n",
    "import os\n",
    "import numpy as np\n",
    "import math"
   ]
  },
  {
   "cell_type": "markdown",
   "metadata": {},
   "source": [
    "# Convert to grayscale & cut"
   ]
  },
  {
   "cell_type": "code",
   "execution_count": 25,
   "metadata": {},
   "outputs": [
    {
     "name": "stdout",
     "output_type": "stream",
     "text": [
      "1.7777777777777777\n",
      "1.7763466042154568\n",
      "0.0014311735623209199\n",
      "556.440281030445\n",
      "556.8885959129861\n"
     ]
    },
    {
     "data": {
      "text/plain": [
       "557"
      ]
     },
     "execution_count": 25,
     "metadata": {},
     "output_type": "execute_result"
    }
   ],
   "source": [
    "display_resolution = 1920/1080 # stim presentation display resolution\n",
    "screenshot_resolution = 1517/854 # measured by snipaste (grid on)\n",
    "print(display_resolution), print(screenshot_resolution)\n",
    "print(display_resolution - screenshot_resolution) # aspect ratio error 0.1%\n",
    "\n",
    "grating_radius_screenshot = 440 # grating radius pixel in screenshot\n",
    "print(grating_radius_screenshot / 854 * 1080), print(grating_radius_screenshot / 1517 * 1920)\n",
    "grating_radius = math.ceil(np.max([grating_radius_screenshot / 854 * 1080, \n",
    "                                grating_radius_screenshot / 1517 * 1920])) # estimations are similar\n",
    "grating_radius # this should also be the radius of natural image cropped to squares"
   ]
  },
  {
   "cell_type": "code",
   "execution_count": 51,
   "metadata": {},
   "outputs": [],
   "source": [
    "def crop(input_path, input_img, chunk_height, chunk_width, save_path):\n",
    "\n",
    "    if input_path[-1] != \"/\": input_path = input_path + \"/\"\n",
    "    if save_path[-1] != \"/\": save_path = save_path + \"/\" # input_path & save_path must end with slash\n",
    "    input_full = input_path + input_img\n",
    "    \n",
    "    im = Image.open(input_full).convert('L') # convert to grayscale\n",
    "    img_width, img_height = im.size\n",
    "#     print(img_width), print(img_height)\n",
    "    \n",
    "    k = 0\n",
    "    for i in range(0, img_height-chunk_height, chunk_height):\n",
    "        for j in range(0, img_width-chunk_width, chunk_width):\n",
    "            \n",
    "            box = (j, i, j+chunk_width, i+chunk_height)\n",
    "            chunk = im.crop(box) # cut into square piece\n",
    "            \n",
    "            lum_img = Image.new('L', [chunk_height, chunk_width] , 0)\n",
    "            draw = ImageDraw.Draw(lum_img)\n",
    "            draw.pieslice([(0,0), (chunk_height, chunk_width)], 0, 360, \n",
    "                          fill = 255, outline = \"white\")\n",
    "            chunk_arr =np.array(chunk)\n",
    "            lum_img_arr =np.array(lum_img)\n",
    "            chunk_circle = np.dstack((chunk_arr,lum_img_arr)) # cut square into circle\n",
    "            chunk_circle = Image.fromarray(chunk_circle)\n",
    "#             display(chunk_circle)\n",
    "            \n",
    "            chunk_circle.save(save_path + input_img[:-4] + \"_\" + str(k) + \".png\")\n",
    "            k = k+1\n",
    "    "
   ]
  },
  {
   "cell_type": "code",
   "execution_count": 56,
   "metadata": {},
   "outputs": [],
   "source": [
    "input_path = 'Z:/All_Staff/home/lan/Data/stimulus_image/McGill/Shadows_high_reso/'\n",
    "save_path = 'C:/Users/lan/Documents/repos/inter/code/mwork/cut/'\n",
    "\n",
    "input_img = 'merry_mexico0141.TIF'\n",
    "chunk_height = grating_radius\n",
    "chunk_width = grating_radius\n",
    "\n",
    "crop(input_path, input_img, chunk_height, chunk_width, save_path)"
   ]
  },
  {
   "cell_type": "markdown",
   "metadata": {},
   "source": [
    "# Apply Gaussian mask on image"
   ]
  },
  {
   "cell_type": "code",
   "execution_count": 54,
   "metadata": {},
   "outputs": [],
   "source": [
    "import numpy as np\n",
    "import scipy.stats as st\n",
    "\n",
    "def gkern(kernlen=21, nsig=3):\n",
    "\n",
    "    \"\"\"Returns a 2D Gaussian kernel array.\n",
    "    https://stackoverflow.com/questions/50788432/masking-a-grayscale-image-with-a-2d-gaussian-mask-fails\"\"\"\n",
    "\n",
    "    interval = (2*nsig+1.)/(kernlen)\n",
    "    x = np.linspace(-nsig-interval/2., nsig+interval/2., kernlen+1)\n",
    "    kern1d = np.diff(st.norm.cdf(x))\n",
    "    kernel_raw = np.sqrt(np.outer(kern1d, kern1d))\n",
    "    kernel = kernel_raw/kernel_raw.sum()\n",
    "    return kernel"
   ]
  },
  {
   "cell_type": "code",
   "execution_count": 55,
   "metadata": {},
   "outputs": [
    {
     "data": {
      "text/plain": [
       "<matplotlib.image.AxesImage at 0xf2f54e7490>"
      ]
     },
     "execution_count": 55,
     "metadata": {},
     "output_type": "execute_result"
    },
    {
     "data": {
      "image/png": "[encoded data removed]",
      "text/plain": [
       "<Figure size 432x288 with 1 Axes>"
      ]
     },
     "metadata": {
      "needs_background": "light"
     },
     "output_type": "display_data"
    }
   ],
   "source": [
    "import matplotlib.pyplot as plt\n",
    "plt.imshow(gkern(21), interpolation='none')"
   ]
  },
  {
   "cell_type": "code",
   "execution_count": null,
   "metadata": {},
   "outputs": [],
   "source": []
  }
 ],
 "metadata": {
  "kernelspec": {
   "display_name": "Python 3",
   "language": "python",
   "name": "python3"
  },
  "language_info": {
   "codemirror_mode": {
    "name": "ipython",
    "version": 3
   },
   "file_extension": ".py",
   "mimetype": "text/x-python",
   "name": "python",
   "nbconvert_exporter": "python",
   "pygments_lexer": "ipython3",
   "version": "3.8.3"
  },
  "toc": {
   "base_numbering": 1,
   "nav_menu": {},
   "number_sections": true,
   "sideBar": true,
   "skip_h1_title": false,
   "title_cell": "Table of Contents",
   "title_sidebar": "Contents",
   "toc_cell": false,
   "toc_position": {
    "height": "calc(100% - 180px)",
    "left": "10px",
    "top": "150px",
    "width": "240px"
   },
   "toc_section_display": true,
   "toc_window_display": true
  }
 },
 "nbformat": 4,
 "nbformat_minor": 4
}
