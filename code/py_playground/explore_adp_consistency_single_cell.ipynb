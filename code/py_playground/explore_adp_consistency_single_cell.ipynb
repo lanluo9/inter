{
 "cells": [
  {
   "cell_type": "code",
   "execution_count": 1,
   "metadata": {},
   "outputs": [],
   "source": [
    "import numpy as np\n",
    "import pandas as pd\n",
    "import scipy.io\n",
    "from scipy import stats\n",
    "\n",
    "import seaborn as sns\n",
    "import matplotlib.pyplot as plt\n",
    "%matplotlib inline\n",
    "\n",
    "from tqdm import tqdm\n",
    "import os"
   ]
  },
  {
   "cell_type": "markdown",
   "metadata": {},
   "source": [
    "# Func"
   ]
  },
  {
   "cell_type": "code",
   "execution_count": 119,
   "metadata": {},
   "outputs": [],
   "source": [
    "def load_metadata(root_path, paradigm_setting, session_num):\n",
    "    meta = pd.read_excel(root_path + 'mat/adp_dataset_master.xlsx', index_col=None)\n",
    "    meta = meta[meta.paradigm == paradigm_setting].reset_index()\n",
    "    meta = meta[['mouse','date','area','num']]\n",
    "\n",
    "    meta.mouse = meta.mouse.astype(int)\n",
    "    \n",
    "    if isinstance(session_num, int):\n",
    "        meta.date = meta.date.astype(int).astype(str) + '_00' + meta.num.astype(int).astype(str) + '_caiman'\n",
    "        meta.num = meta.num.astype(int)\n",
    "        meta = meta.loc[meta['num'] == session_num].reset_index()\n",
    "    elif session_num == '':\n",
    "        meta.date = meta.date.astype(int).astype(str) + '_caiman'\n",
    "        meta = meta.head(1) # multisession, only keep one metadata\n",
    "    return meta"
   ]
  },
  {
   "cell_type": "code",
   "execution_count": 173,
   "metadata": {},
   "outputs": [],
   "source": [
    "def df_adp_mag(adp_mag, dfof_ad, dfof_tg):\n",
    "    mag = adp_mag.flatten('F')\n",
    "    ad = dfof_ad.flatten('F')\n",
    "    tg = dfof_tg.flatten('F')\n",
    "\n",
    "    cell_num = [np.arange(adp_mag.shape[0])] * adp_mag.shape[1]\n",
    "    cell_num = np.concatenate(cell_num)\n",
    "    stim = [np.arange(nstim)] * adp_mag.shape[0]\n",
    "    stim_flat = np.sort([item for sublist in stim for item in sublist])\n",
    "    \n",
    "    df = pd.DataFrame({'cell':cell_num ,'stim':stim_flat, 'ad':ad, 'tg':tg, 'mag':mag, 'abs_mag':np.abs(mag)})\n",
    "    return stim_flat, mag, ad, df\n",
    "\n",
    "\n",
    "def threshold_adp_mag(df, dfof_threshold=0.00025, adp_threshold=10): \n",
    "    '''no threshold for dfof_ad bc too few shared stim for side A/B'''\n",
    "    df_th = df.copy()\n",
    "    # df_th.loc[df_th[(df.ad) < dfof_threshold].index.to_numpy(),'mag'] = np.nan # not threshold by abs, bc 1-tail ttest originally\n",
    "    df_th.loc[df_th[np.abs(df.mag) > adp_threshold].index.to_numpy(),'mag'] = np.nan # bug / todo: fix vis_ad and filter normally by vis_ad, not filter by adp_mag\n",
    "    \n",
    "    mag_mean = df_th[['mag','stim']].groupby(['stim'], sort=False).mean().to_numpy().flatten()\n",
    "    mag_median = df_th[['mag','stim']].groupby(['stim'], sort=False).median().to_numpy().flatten()\n",
    "    mag_std = df_th[['mag','stim']].groupby(['stim'], sort=False).std().to_numpy().flatten()\n",
    "    mag_sem = df_th[['mag','stim']].groupby(['stim'], sort=False).sem().to_numpy().flatten()\n",
    "    return df_th, mag_mean, mag_median, mag_std, mag_sem"
   ]
  },
  {
   "cell_type": "markdown",
   "metadata": {},
   "source": [
    "# Load"
   ]
  },
  {
   "cell_type": "code",
   "execution_count": 174,
   "metadata": {},
   "outputs": [
    {
     "name": "stdout",
     "output_type": "stream",
     "text": [
      "   mouse           date area  num\n",
      "0   1350  211222_caiman   V1  2.0\n"
     ]
    }
   ],
   "source": [
    "root_path = 'C:/Users/ll357/Documents/inter/'\n",
    "meta = load_metadata(root_path, paradigm_setting='bunnytop', session_num='')\n",
    "print(meta)\n",
    "\n",
    "dir_name = root_path + 'mat/'\n",
    "iset = 0\n",
    "dir_sub = str(meta.area[iset]) + '_i' + str(meta.mouse[iset]) + '_' + str(meta.date[iset])\n",
    "\n",
    "dfof_trialwise = scipy.io.loadmat(os.path.join(dir_name, dir_sub, 'resp_base_trialwise' + '.mat'))\n",
    "# dfof_trialwise.keys(), dfof_trialwise['dfof_ad_trial'].shape, dfof_trialwise['dfof_ad_trial'][0,0].shape\n",
    "\n",
    "dfof_ad_trial = dfof_trialwise['dfof_ad_trial'] - dfof_trialwise['dfof_base_trial'] # subtract baseline???\n",
    "dfof_tg_trial = dfof_trialwise['dfof_tg_trial'] - dfof_trialwise['dfof_base2_trial']\n"
   ]
  },
  {
   "cell_type": "markdown",
   "metadata": {},
   "source": [
    "# split side A/B bootstrap"
   ]
  },
  {
   "cell_type": "code",
   "execution_count": 197,
   "metadata": {},
   "outputs": [
    {
     "name": "stderr",
     "output_type": "stream",
     "text": [
      "100%|██████████| 10/10 [00:53<00:00,  5.34s/it]\n"
     ]
    }
   ],
   "source": [
    "ncell = dfof_ad_trial.shape[0]\n",
    "nstim = dfof_ad_trial.shape[1]\n",
    "\n",
    "dfof_ad_sideA = np.empty((ncell, nstim))\n",
    "dfof_ad_sideB = np.empty((ncell, nstim))\n",
    "dfof_tg_sideA = np.empty((ncell, nstim))\n",
    "dfof_tg_sideB = np.empty((ncell, nstim))\n",
    "\n",
    "niter = 10\n",
    "corr_pearson_iter = np.zeros((1, ncell))\n",
    "p_pearson_iter = np.zeros((1, ncell))\n",
    "corr_spearman_iter = np.zeros((1, ncell))\n",
    "nstim_shared_iter = np.zeros((1, ncell))\n",
    "\n",
    "for i in tqdm(np.arange(niter)):\n",
    "    for icell in np.arange(ncell):\n",
    "        for istim in np.arange(nstim):\n",
    "            ntrial_cond = dfof_ad_trial[icell,istim].shape[0]\n",
    "\n",
    "            idx_trial = np.random.choice(np.arange(ntrial_cond), size=ntrial_cond//2, replace=False)\n",
    "            dfof_ad_sideA[icell,istim] = np.mean(dfof_ad_trial[icell,istim][idx_trial,:])\n",
    "            dfof_tg_sideA[icell,istim] = np.mean(dfof_tg_trial[icell,istim][idx_trial,:])\n",
    "\n",
    "            idx_trial_diff = np.setdiff1d(np.arange(ntrial_cond), idx_trial)\n",
    "            dfof_ad_sideB[icell,istim] = np.mean(dfof_ad_trial[icell,istim][idx_trial_diff,:])\n",
    "            dfof_tg_sideB[icell,istim] = np.mean(dfof_tg_trial[icell,istim][idx_trial_diff,:])\n",
    "\n",
    "    adp_sideA = (dfof_tg_sideA - dfof_ad_sideA) / (dfof_ad_sideA + 1e-7)\n",
    "    adp_sideB = (dfof_tg_sideB - dfof_ad_sideB) / (dfof_ad_sideB + 1e-7)\n",
    "    _, _, _, df_sideA = df_adp_mag(adp_sideA, dfof_ad_sideA, dfof_tg_sideA)\n",
    "    _, _, _, df_sideB = df_adp_mag(adp_sideB, dfof_ad_sideB, dfof_tg_sideB)\n",
    "\n",
    "    corr_pearson_pop = []\n",
    "    p_pearson_pop = []\n",
    "    corr_spearman_pop = []\n",
    "    nstim_shared = []\n",
    "\n",
    "    for icell in np.arange(ncell):\n",
    "        df_sideA_cell = df_sideA.loc[df_sideA['cell'] == icell]\n",
    "        df_sideB_cell = df_sideB.loc[df_sideB['cell'] == icell]\n",
    "        _, mag_mean_sideA_cell, _, _, _ = threshold_adp_mag(df_sideA_cell, dfof_threshold=0.00025, adp_threshold=10)\n",
    "        _, mag_mean_sideB_cell, _, _, _ = threshold_adp_mag(df_sideB_cell, dfof_threshold=0.00025, adp_threshold=10)\n",
    "\n",
    "        not_nan_mask = (~np.isnan(mag_mean_sideA_cell)) & (~np.isnan(mag_mean_sideB_cell))\n",
    "        nstim_shared.append(sum(not_nan_mask))\n",
    "\n",
    "        corr_pearson_cell, p_pearson_cell = stats.pearsonr(mag_mean_sideA_cell[not_nan_mask], mag_mean_sideB_cell[not_nan_mask])\n",
    "        corr_spearman_cell, _ = stats.spearmanr(mag_mean_sideA_cell[not_nan_mask], mag_mean_sideB_cell[not_nan_mask]) # spearman p is only probably reasonable for datasets larger than 500\n",
    "\n",
    "        corr_pearson_pop.append(corr_pearson_cell)\n",
    "        p_pearson_pop.append(p_pearson_cell)\n",
    "        corr_spearman_pop.append(corr_spearman_cell)\n",
    "        \n",
    "    nstim_shared_iter = np.vstack((nstim_shared_iter, nstim_shared))\n",
    "    corr_pearson_iter = np.vstack((corr_pearson_iter, corr_pearson_pop))\n",
    "    p_pearson_iter = np.vstack((p_pearson_iter, p_pearson_pop))\n",
    "    corr_spearman_iter = np.vstack((corr_spearman_iter, corr_spearman_pop))\n",
    "\n",
    "nstim_shared_iter = nstim_shared_iter[1:,:] # remove the first row of zeros\n",
    "corr_pearson_iter = corr_pearson_iter[1:,:]\n",
    "p_pearson_iter = p_pearson_iter[1:,:]\n",
    "corr_spearman_iter = corr_spearman_iter[1:,:]"
   ]
  },
  {
   "cell_type": "code",
   "execution_count": 210,
   "metadata": {},
   "outputs": [
    {
     "data": {
      "text/plain": [
       "0.1565217391304348"
      ]
     },
     "execution_count": 210,
     "metadata": {},
     "output_type": "execute_result"
    },
    {
     "data": {
      "image/png": "[encoded data removed]",
      "text/plain": [
       "<Figure size 432x288 with 1 Axes>"
      ]
     },
     "metadata": {
      "needs_background": "light"
     },
     "output_type": "display_data"
    }
   ],
   "source": [
    "# check shared stim number large enough\n",
    "plt.hist(nstim_shared_iter.flatten(), 10);\n",
    "sum(nstim_shared_iter.flatten() < 25) / nstim_shared_iter.flatten().shape[0]"
   ]
  },
  {
   "cell_type": "code",
   "execution_count": 270,
   "metadata": {},
   "outputs": [
    {
     "data": {
      "text/plain": [
       "Text(0, 0.5, 'Pearson correlation')"
      ]
     },
     "execution_count": 270,
     "metadata": {},
     "output_type": "execute_result"
    },
    {
     "data": {
      "image/png": "[encoded data removed]",
      "text/plain": [
       "<Figure size 432x288 with 1 Axes>"
      ]
     },
     "metadata": {
      "needs_background": "light"
     },
     "output_type": "display_data"
    }
   ],
   "source": [
    "corr_avg = np.nanmean(corr_pearson_iter, axis=0)\n",
    "corr_avg_sort_id = np.argsort(corr_avg)\n",
    "corr_avg_sort = corr_avg[corr_avg_sort_id]\n",
    "corr_sem = np.nanstd(corr_pearson_iter, axis=0) / np.sqrt(corr_pearson_iter.shape[0])\n",
    "corr_sem_sort = corr_sem[corr_avg_sort_id]\n",
    "plt.errorbar(np.arange(ncell), corr_avg_sort, yerr=corr_sem_sort, fmt='o', alpha=0.5)\n",
    "plt.plot(np.arange(ncell), corr_avg_sort, color='orange', zorder=10, linewidth=2)\n",
    "plt.xlabel('Cell sorted by correlation')\n",
    "plt.ylabel('Pearson correlation')"
   ]
  },
  {
   "cell_type": "code",
   "execution_count": 272,
   "metadata": {},
   "outputs": [
    {
     "data": {
      "image/png": "[encoded data removed]",
      "text/plain": [
       "<Figure size 432x288 with 1 Axes>"
      ]
     },
     "metadata": {
      "needs_background": "light"
     },
     "output_type": "display_data"
    }
   ],
   "source": [
    "corr_abs = np.abs(corr_avg)\n",
    "plt.hist(corr_abs, 100);\n",
    "plt.xlabel('Pearson correlation absolue value')\n",
    "plt.ylabel('Count');"
   ]
  },
  {
   "cell_type": "code",
   "execution_count": 273,
   "metadata": {},
   "outputs": [
    {
     "data": {
      "image/png": "[encoded data removed]",
      "text/plain": [
       "<Figure size 432x288 with 1 Axes>"
      ]
     },
     "metadata": {
      "needs_background": "light"
     },
     "output_type": "display_data"
    }
   ],
   "source": [
    "# plt.imshow(p_pearson_iter[:,:5], cmap='viridis', aspect='auto')\n",
    "# plt.colorbar()\n",
    "# p_pearson_iter.shape\n",
    "\n",
    "sig = np.sum(p_pearson_iter < 0.05, axis=0)\n",
    "sns.histplot(sig);\n",
    "plt.xlabel('Number of significant correlations among iterations')\n",
    "plt.ylabel('Cell count');\n",
    "\n",
    "# plt.figure(figsize=(10,15))\n",
    "# plt.imshow(p_pearson_iter.T < 0.05); plt.colorbar()\n"
   ]
  },
  {
   "cell_type": "code",
   "execution_count": 276,
   "metadata": {},
   "outputs": [
    {
     "data": {
      "text/plain": [
       "0.05524296675191816"
      ]
     },
     "execution_count": 276,
     "metadata": {},
     "output_type": "execute_result"
    },
    {
     "data": {
      "image/png": "[encoded data removed]",
      "text/plain": [
       "<Figure size 432x288 with 1 Axes>"
      ]
     },
     "metadata": {
      "needs_background": "light"
     },
     "output_type": "display_data"
    }
   ],
   "source": [
    "plt.hist(p_pearson_iter.flatten(), 100);\n",
    "plt.xlabel('p-value of Pearson correlation')\n",
    "plt.ylabel('Cell x iteration count');\n",
    "sum(np.array(p_pearson_iter.flatten()) < 0.05) / len(p_pearson_iter.flatten())"
   ]
  }
 ],
 "metadata": {
  "interpreter": {
   "hash": "bb427df37c2fc79fcea5adb39991ccd99ca2b909e869dda25b1ff04f4a29c591"
  },
  "kernelspec": {
   "display_name": "Python 3.7.10 64-bit ('base': conda)",
   "language": "python",
   "name": "python3"
  },
  "language_info": {
   "codemirror_mode": {
    "name": "ipython",
    "version": 3
   },
   "file_extension": ".py",
   "mimetype": "text/x-python",
   "name": "python",
   "nbconvert_exporter": "python",
   "pygments_lexer": "ipython3",
   "version": "3.7.10"
  },
  "orig_nbformat": 4
 },
 "nbformat": 4,
 "nbformat_minor": 2
}
