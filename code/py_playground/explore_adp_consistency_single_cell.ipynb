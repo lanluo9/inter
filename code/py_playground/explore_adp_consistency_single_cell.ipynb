{
 "cells": [
  {
   "cell_type": "code",
   "execution_count": 1,
   "metadata": {},
   "outputs": [],
   "source": [
    "import numpy as np\n",
    "import pandas as pd\n",
    "import scipy.io\n",
    "from scipy import stats\n",
    "\n",
    "import seaborn as sns\n",
    "import matplotlib.pyplot as plt\n",
    "%matplotlib inline\n",
    "\n",
    "from tqdm import tqdm\n",
    "import os"
   ]
  },
  {
   "cell_type": "markdown",
   "metadata": {},
   "source": [
    "# Func"
   ]
  },
  {
   "cell_type": "code",
   "execution_count": 119,
   "metadata": {},
   "outputs": [],
   "source": [
    "def load_metadata(root_path, paradigm_setting, session_num):\n",
    "    meta = pd.read_excel(root_path + 'mat/adp_dataset_master.xlsx', index_col=None)\n",
    "    meta = meta[meta.paradigm == paradigm_setting].reset_index()\n",
    "    meta = meta[['mouse','date','area','num']]\n",
    "\n",
    "    meta.mouse = meta.mouse.astype(int)\n",
    "    \n",
    "    if isinstance(session_num, int):\n",
    "        meta.date = meta.date.astype(int).astype(str) + '_00' + meta.num.astype(int).astype(str) + '_caiman'\n",
    "        meta.num = meta.num.astype(int)\n",
    "        meta = meta.loc[meta['num'] == session_num].reset_index()\n",
    "    elif session_num == '':\n",
    "        meta.date = meta.date.astype(int).astype(str) + '_caiman'\n",
    "        meta = meta.head(1) # multisession, only keep one metadata\n",
    "    return meta"
   ]
  },
  {
   "cell_type": "code",
   "execution_count": 133,
   "metadata": {},
   "outputs": [],
   "source": [
    "def df_adp_mag(adp_mag, dfof_ad, dfof_tg):\n",
    "    mag = adp_mag.flatten('F')\n",
    "    ad = dfof_ad.flatten('F')\n",
    "    tg = dfof_tg.flatten('F')\n",
    "\n",
    "    cell_num = [np.arange(adp_mag.shape[0])] * adp_mag.shape[1]\n",
    "    cell_num = np.concatenate(cell_num)\n",
    "    stim = [np.arange(nstim)] * adp_mag.shape[0]\n",
    "    stim_flat = np.sort([item for sublist in stim for item in sublist])\n",
    "    \n",
    "    df = pd.DataFrame({'cell':cell_num ,'stim':stim_flat, 'ad':ad, 'tg':tg, 'mag':mag, 'abs_mag':np.abs(mag)})\n",
    "    return stim_flat, mag, ad, df\n",
    "\n",
    "\n",
    "def threshold_adp_mag(df, dfof_threshold=0.00025, adp_threshold=10):\n",
    "    df_th = df.copy()\n",
    "    # df_th.loc[df_th[(df.ad) < dfof_threshold].index.to_numpy(),'mag'] = np.nan # not threshold by abs, bc 1-tail ttest originally\n",
    "    df_th.loc[df_th[np.abs(df.mag) > adp_threshold].index.to_numpy(),'mag'] = np.nan # bug / todo: fix vis_ad and filter normally by vis_ad, not filter by adp_mag\n",
    "    \n",
    "    mag_mean = df_th[['mag','stim']].groupby(['stim'], sort=False).mean().to_numpy().flatten()\n",
    "    mag_median = df_th[['mag','stim']].groupby(['stim'], sort=False).median().to_numpy().flatten()\n",
    "    mag_std = df_th[['mag','stim']].groupby(['stim'], sort=False).std().to_numpy().flatten()\n",
    "    mag_sem = df_th[['mag','stim']].groupby(['stim'], sort=False).sem().to_numpy().flatten()\n",
    "    return df_th, mag_mean, mag_median, mag_std, mag_sem"
   ]
  },
  {
   "cell_type": "markdown",
   "metadata": {},
   "source": [
    "# Load"
   ]
  },
  {
   "cell_type": "code",
   "execution_count": 147,
   "metadata": {},
   "outputs": [
    {
     "name": "stdout",
     "output_type": "stream",
     "text": [
      "   mouse           date area  num\n",
      "0   1350  211222_caiman   V1  2.0\n"
     ]
    }
   ],
   "source": [
    "root_path = 'C:/Users/ll357/Documents/inter/'\n",
    "meta = load_metadata(root_path, paradigm_setting='bunnytop', session_num='')\n",
    "print(meta)\n",
    "\n",
    "dir_name = root_path + 'mat/'\n",
    "iset = 0\n",
    "dir_sub = str(meta.area[iset]) + '_i' + str(meta.mouse[iset]) + '_' + str(meta.date[iset])\n",
    "\n",
    "dfof_trialwise = scipy.io.loadmat(os.path.join(dir_name, dir_sub, 'resp_base_trialwise' + '.mat'))\n",
    "# dfof_trialwise.keys(), dfof_trialwise['dfof_ad_trial'].shape, dfof_trialwise['dfof_ad_trial'][0,0].shape\n",
    "\n",
    "dfof_ad_trial = dfof_trialwise['dfof_ad_trial'] - dfof_trialwise['dfof_base_trial'] # subtract baseline???\n",
    "dfof_tg_trial = dfof_trialwise['dfof_tg_trial'] - dfof_trialwise['dfof_base2_trial']\n"
   ]
  },
  {
   "cell_type": "markdown",
   "metadata": {},
   "source": [
    "# split side A/B bootstrap"
   ]
  },
  {
   "cell_type": "code",
   "execution_count": 112,
   "metadata": {},
   "outputs": [],
   "source": [
    "ncell = dfof_ad_trial.shape[0]\n",
    "nstim = dfof_ad_trial.shape[1]\n",
    "dfof_ad_sideA = np.empty((ncell, nstim))\n",
    "dfof_ad_sideB = np.empty((ncell, nstim))\n",
    "dfof_tg_sideA = np.empty((ncell, nstim))\n",
    "dfof_tg_sideB = np.empty((ncell, nstim))\n",
    "\n",
    "for icell in np.arange(ncell):\n",
    "    for istim in np.arange(nstim):\n",
    "        ntrial_cond = dfof_ad_trial[icell,istim].shape[0]\n",
    "\n",
    "        idx_trial = np.random.choice(np.arange(ntrial_cond), size=ntrial_cond//2, replace=False)\n",
    "        dfof_ad_sideA[icell,istim] = np.mean(dfof_ad_trial[icell,istim][idx_trial,:])\n",
    "        dfof_tg_sideA[icell,istim] = np.mean(dfof_tg_trial[icell,istim][idx_trial,:])\n",
    "\n",
    "        idx_trial_diff = np.setdiff1d(np.arange(ntrial_cond), idx_trial)\n",
    "        dfof_ad_sideB[icell,istim] = np.mean(dfof_ad_trial[icell,istim][idx_trial_diff,:])\n",
    "        dfof_tg_sideB[icell,istim] = np.mean(dfof_tg_trial[icell,istim][idx_trial_diff,:])\n",
    "\n",
    "adp_sideA = (dfof_tg_sideA - dfof_ad_sideA) / (dfof_ad_sideA + 1e-7)\n",
    "adp_sideB = (dfof_tg_sideB - dfof_ad_sideB) / (dfof_ad_sideB + 1e-7)"
   ]
  },
  {
   "cell_type": "code",
   "execution_count": 158,
   "metadata": {},
   "outputs": [
    {
     "name": "stdout",
     "output_type": "stream",
     "text": [
      "[25, 25, 26, 25, 27, 26, 24, 29, 29, 28, 25, 25, 26, 25, 24, 28, 23, 26, 26, 26, 24, 27, 30, 30, 25, 26, 24, 23, 28, 25, 30, 25, 25, 26, 26, 28, 27, 25, 24, 28, 27, 27, 25, 26, 24, 25, 27, 22, 26, 25, 28, 29, 27, 27, 28, 25, 27, 29, 29, 26, 28, 26, 27, 27, 28, 26, 23, 22, 27, 29, 22, 28, 26, 23, 28, 27, 28, 27, 27, 29, 25, 28, 26, 27, 27, 25, 27, 29, 29, 24, 28, 26, 25, 24, 29, 27, 27, 26, 26, 26, 25, 25, 25, 27, 29, 27, 26, 27, 28, 24, 28, 27, 30, 26, 26, 27, 28, 23, 27, 26, 30, 24, 26, 27, 27, 24, 25, 25, 25, 26, 27, 26, 26, 27, 27, 29, 27, 26, 20, 27, 27, 28, 22, 28, 26, 25, 26, 24, 28, 23, 27, 27, 26, 26, 26, 25, 27, 27, 26, 28, 25, 26, 26, 24, 25, 25, 29, 24, 28, 27, 24, 27, 28, 26, 24, 27, 28, 28, 25, 25, 22, 28, 28, 26, 26, 26, 25, 29, 28, 28, 25, 25, 26, 27, 27, 27, 26, 25, 30, 26, 25, 27, 25, 27, 27, 26, 27, 29, 24, 26, 28, 25, 26, 28, 24, 23, 26, 29, 22, 25, 23, 28, 29, 24, 26, 28, 25, 27, 26, 26, 23, 26, 25, 29, 24, 24, 24, 26, 25, 29, 27, 23, 26, 25, 24, 28, 24, 26, 27, 27, 27, 26, 25, 28, 28, 24, 24, 27, 28, 25, 26, 25, 26, 28, 27, 24, 28, 27, 28, 27, 29, 27, 26, 22, 26, 27, 27, 27, 25, 28, 27, 26, 25, 26, 27, 24, 27, 26, 29, 24, 25, 24, 28, 27, 28, 24, 27, 27, 27, 25, 24, 25, 27, 28, 28, 27, 28, 27, 23, 26, 25, 26, 27, 29, 26, 27, 26, 23, 24, 26, 26, 27, 27, 25, 28, 24, 30, 26, 28, 26, 26, 29, 26, 25, 25, 23, 26, 28, 23, 29, 29, 22, 26, 25, 24, 22, 27, 27, 26, 25, 26, 26, 23, 24, 25, 27, 27, 26, 26, 28, 29, 24, 26, 23, 24, 30, 24, 25, 26, 26, 25, 25, 25, 29, 26, 25, 28, 28, 28, 26, 29, 28, 26, 25, 27, 23, 27, 26, 25, 25, 28]\n"
     ]
    }
   ],
   "source": [
    "_, _, _, df_sideA = df_adp_mag(adp_sideA, dfof_ad_sideA, dfof_tg_sideA)\n",
    "_, _, _, df_sideB = df_adp_mag(adp_sideB, dfof_ad_sideB, dfof_tg_sideB)\n",
    "\n",
    "corr_pearson_pop = []\n",
    "p_pearson_pop = []\n",
    "corr_spearman_pop = []\n",
    "nstim_shared = []\n",
    "\n",
    "for icell in np.arange(ncell):\n",
    "    df_sideA_cell = df_sideA.loc[df_sideA['cell'] == icell]\n",
    "    df_sideB_cell = df_sideB.loc[df_sideB['cell'] == icell]\n",
    "    _, mag_mean_sideA_cell, _, _, _ = threshold_adp_mag(df_sideA_cell, dfof_threshold=0.00025, adp_threshold=10)\n",
    "    _, mag_mean_sideB_cell, _, _, _ = threshold_adp_mag(df_sideB_cell, dfof_threshold=0.00025, adp_threshold=10)\n",
    "\n",
    "    not_nan_mask = (~np.isnan(mag_mean_sideA_cell)) & (~np.isnan(mag_mean_sideB_cell))\n",
    "    nstim_shared.append(sum(not_nan_mask))\n",
    "\n",
    "    corr_pearson_cell, p_pearson_cell = stats.pearsonr(mag_mean_sideA_cell[not_nan_mask], mag_mean_sideB_cell[not_nan_mask])\n",
    "    corr_spearman_cell, _ = stats.spearmanr(mag_mean_sideA_cell[not_nan_mask], mag_mean_sideB_cell[not_nan_mask]) # spearman p is only probably reasonable for datasets larger than 500 or so\n",
    "    # print(icell, corr_pearson_cell, p_pearson_cell, corr_spearman_cell)\n",
    "\n",
    "    corr_pearson_pop.append(corr_pearson_cell)\n",
    "    p_pearson_pop.append(p_pearson_cell)\n",
    "    corr_spearman_pop.append(corr_spearman_cell)\n",
    "    \n",
    "# print(nstim_shared)#, corr_pearson_pop, p_pearson_pop, corr_spearman_pop)"
   ]
  },
  {
   "cell_type": "code",
   "execution_count": 167,
   "metadata": {},
   "outputs": [
    {
     "data": {
      "text/plain": [
       "0.06649616368286446"
      ]
     },
     "execution_count": 167,
     "metadata": {},
     "output_type": "execute_result"
    }
   ],
   "source": [
    "sum(np.array(p_pearson_pop) < 0.05) / len(p_pearson_pop)"
   ]
  },
  {
   "cell_type": "code",
   "execution_count": 165,
   "metadata": {},
   "outputs": [
    {
     "data": {
      "image/png": "[encoded data removed]",
      "text/plain": [
       "<Figure size 432x288 with 1 Axes>"
      ]
     },
     "metadata": {
      "needs_background": "light"
     },
     "output_type": "display_data"
    }
   ],
   "source": [
    "plt.hist(p_pearson_pop, 100);"
   ]
  }
 ],
 "metadata": {
  "interpreter": {
   "hash": "bb427df37c2fc79fcea5adb39991ccd99ca2b909e869dda25b1ff04f4a29c591"
  },
  "kernelspec": {
   "display_name": "Python 3.7.10 64-bit ('base': conda)",
   "language": "python",
   "name": "python3"
  },
  "language_info": {
   "codemirror_mode": {
    "name": "ipython",
    "version": 3
   },
   "file_extension": ".py",
   "mimetype": "text/x-python",
   "name": "python",
   "nbconvert_exporter": "python",
   "pygments_lexer": "ipython3",
   "version": "3.7.10"
  },
  "orig_nbformat": 4
 },
 "nbformat": 4,
 "nbformat_minor": 2
}
