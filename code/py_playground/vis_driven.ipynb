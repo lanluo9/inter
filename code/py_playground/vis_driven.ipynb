{
 "cells": [
  {
   "cell_type": "code",
   "execution_count": 1,
   "metadata": {},
   "outputs": [],
   "source": [
    "import numpy as np\n",
    "import pandas as pd\n",
    "import scipy.io\n",
    "from scipy import stats\n",
    "\n",
    "# import seaborn as sns\n",
    "import matplotlib.pyplot as plt\n",
    "%matplotlib inline\n",
    "\n",
    "from tqdm import tqdm\n",
    "import os\n",
    "import pickle"
   ]
  },
  {
   "cell_type": "markdown",
   "id": "9da8d201",
   "metadata": {},
   "source": [
    "# Func & Load"
   ]
  },
  {
   "cell_type": "code",
   "execution_count": 6,
   "id": "4acf43af",
   "metadata": {},
   "outputs": [],
   "source": [
    "def load_metadata(root_path, paradigm_setting, session_num):\n",
    "    meta = pd.read_excel(root_path + 'mat/adp_dataset_master.xlsx', index_col=None)\n",
    "    meta = meta[meta.paradigm == paradigm_setting].reset_index()\n",
    "    meta = meta[['mouse','date','area','num']]\n",
    "\n",
    "    meta.mouse = meta.mouse.astype(int)\n",
    "    \n",
    "    if isinstance(session_num, int):\n",
    "        meta.date = meta.date.astype(int).astype(str) + '_00' + meta.num.astype(int).astype(str) + '_caiman'\n",
    "        meta.num = meta.num.astype(int)\n",
    "        meta = meta.loc[meta['num'] == session_num].reset_index()\n",
    "    elif session_num == '':\n",
    "        meta.date = meta.date.astype(int).astype(str) + '_caiman'\n",
    "        # meta = meta.head(1) # multisession, only keep one metadata\n",
    "    return meta"
   ]
  },
  {
   "cell_type": "code",
   "execution_count": 14,
   "id": "611aa34d",
   "metadata": {},
   "outputs": [
    {
     "name": "stdout",
     "output_type": "stream",
     "text": [
      "   mouse           date area  num\n",
      "0   1350  211222_caiman   V1  2.0\n",
      "1   1350  211222_caiman   V1  3.0\n",
      "2   1350  211222_caiman   V1  4.0\n",
      "3   1350  220124_caiman   LM  2.0\n",
      "4   1350  220124_caiman   LM  3.0\n"
     ]
    },
    {
     "data": {
      "text/html": [
       "<div>\n",
       "<style scoped>\n",
       "    .dataframe tbody tr th:only-of-type {\n",
       "        vertical-align: middle;\n",
       "    }\n",
       "\n",
       "    .dataframe tbody tr th {\n",
       "        vertical-align: top;\n",
       "    }\n",
       "\n",
       "    .dataframe thead th {\n",
       "        text-align: right;\n",
       "    }\n",
       "</style>\n",
       "<table border=\"1\" class=\"dataframe\">\n",
       "  <thead>\n",
       "    <tr style=\"text-align: right;\">\n",
       "      <th></th>\n",
       "      <th>index</th>\n",
       "      <th>mouse</th>\n",
       "      <th>date</th>\n",
       "      <th>area</th>\n",
       "      <th>num</th>\n",
       "    </tr>\n",
       "  </thead>\n",
       "  <tbody>\n",
       "    <tr>\n",
       "      <th>0</th>\n",
       "      <td>3</td>\n",
       "      <td>1350</td>\n",
       "      <td>220124_caiman</td>\n",
       "      <td>LM</td>\n",
       "      <td>2.0</td>\n",
       "    </tr>\n",
       "  </tbody>\n",
       "</table>\n",
       "</div>"
      ],
      "text/plain": [
       "   index mouse           date area  num\n",
       "0      3  1350  220124_caiman   LM  2.0"
      ]
     },
     "execution_count": 14,
     "metadata": {},
     "output_type": "execute_result"
    }
   ],
   "source": [
    "root_path = r'C:\\Users\\GlickfeldLab\\Documents\\test\\inter/'.replace('\\\\', '/')\n",
    "meta = load_metadata(root_path, paradigm_setting='bunnytop', session_num='')\n",
    "print(meta)\n",
    "\n",
    "meta = meta.iloc[3].to_frame().T.reset_index()\n",
    "meta"
   ]
  },
  {
   "cell_type": "code",
   "execution_count": 29,
   "id": "b8fb2073",
   "metadata": {},
   "outputs": [
    {
     "name": "stdout",
     "output_type": "stream",
     "text": [
      "(516, 30) (51, 1)\n"
     ]
    }
   ],
   "source": [
    "# root_path = 'C:/Users/ll357/Documents/inter/'\n",
    "# meta = load_metadata(root_path, paradigm_setting='bunnytop', session_num='')\n",
    "# print(meta)\n",
    "\n",
    "dir_name = root_path + 'mat/'\n",
    "iset = 0\n",
    "dir_sub = str(meta.area[iset]) + '_i' + str(meta.mouse[iset]) + '_' + str(meta.date[iset])\n",
    "\n",
    "dfof_trialwise = scipy.io.loadmat(os.path.join(dir_name, dir_sub, 'resp_base_trialwise' + '.mat'))\n",
    "print(dfof_trialwise['dfof_ad_trial'].shape, dfof_trialwise['dfof_ad_trial'][0,0].shape)\n",
    "\n",
    "dfof_ad_trial = dfof_trialwise['dfof_ad_trial'] # do not subtract baseline here: stim resp will be compared to base resp\n",
    "dfof_tg_trial = dfof_trialwise['dfof_tg_trial']"
   ]
  },
  {
   "cell_type": "markdown",
   "id": "be44754f",
   "metadata": {},
   "source": [
    "# One way anova\n",
    "for each cell, base = [ntrial, 1], stim_resp = [ntrial_stim, nstim].  \n",
    "base vs stim anova or kruskal wallis"
   ]
  },
  {
   "cell_type": "code",
   "execution_count": 30,
   "id": "1ad1b467",
   "metadata": {},
   "outputs": [
    {
     "name": "stderr",
     "output_type": "stream",
     "text": [
      "100%|██████████| 516/516 [00:02<00:00, 246.01it/s]\n"
     ]
    }
   ],
   "source": [
    "ncell = dfof_ad_trial.shape[0]\n",
    "nstim = dfof_ad_trial.shape[1]\n",
    "\n",
    "p_anova = np.ones((ncell, 1)) * np.nan\n",
    "p_kruskal = np.ones((ncell, 1)) * np.nan\n",
    "# p_alexandergovern = np.ones((ncell, 1)) * np.nan\n",
    "\n",
    "for icell in tqdm(np.arange(ncell)):\n",
    "    base_cell = np.concatenate([dfof_trialwise['dfof_base_trial'][icell, stim] for stim in range(nstim)])\n",
    "    stim_cell = [] \n",
    "    for istim in np.arange(nstim):\n",
    "        stim_cell.append(np.array(dfof_ad_trial[icell, istim]).flatten())\n",
    "    \n",
    "    _, p_anova_cell = stats.f_oneway(np.array(base_cell).flatten(), *stim_cell)\n",
    "    p_anova[icell] = p_anova_cell\n",
    "    _, p_kruskal_cell = stats.kruskal(np.array(base_cell).flatten(), *stim_cell)\n",
    "    p_kruskal[icell] = p_kruskal_cell\n",
    "    # _, p_alexandergovern_cell = stats.alexandergovern(np.array(base_cell).flatten(), *stim_cell)\n",
    "    # p_alexandergovern[icell] = p_alexandergovern_cell\n",
    "    # print(stats.alexandergovern(np.array(base_cell).flatten(), *stim_cell)) # alexandergovern result cannot extract p-value"
   ]
  },
  {
   "cell_type": "code",
   "execution_count": 38,
   "id": "464ede73",
   "metadata": {},
   "outputs": [
    {
     "data": {
      "text/plain": [
       "(array([310]), array([355]))"
      ]
     },
     "execution_count": 38,
     "metadata": {},
     "output_type": "execute_result"
    },
    {
     "data": {
      "image/png": "[encoded data removed]",
      "text/plain": [
       "<Figure size 1080x432 with 1 Axes>"
      ]
     },
     "metadata": {
      "needs_background": "light"
     },
     "output_type": "display_data"
    }
   ],
   "source": [
    "plt.figure(figsize=(15,6))\n",
    "plt.hist(p_anova, 50, alpha=0.5);\n",
    "plt.hist(p_kruskal, 50, alpha=0.3);\n",
    "sum(p_anova < 0.1), sum(p_kruskal < 0.1)"
   ]
  },
  {
   "cell_type": "markdown",
   "id": "99c0ac65",
   "metadata": {},
   "source": [
    "# One sided t test\n",
    "for each cell, base = [ntrial_stim, 1], stim_resp = [ntrial_stim, nstim].  \n",
    "base vs stim : 1 sided t test"
   ]
  },
  {
   "cell_type": "code",
   "execution_count": 39,
   "id": "446034a5",
   "metadata": {},
   "outputs": [
    {
     "name": "stderr",
     "output_type": "stream",
     "text": [
      "100%|██████████| 516/516 [00:06<00:00, 81.48it/s] \n"
     ]
    }
   ],
   "source": [
    "p_ttest = np.ones((ncell, nstim)) * np.nan\n",
    "\n",
    "for icell in tqdm(np.arange(ncell)):\n",
    "    for istim in np.arange(nstim):\n",
    "        base_cell = dfof_trialwise['dfof_base_trial'][icell, istim]\n",
    "        stim_cell = dfof_trialwise['dfof_ad_trial'][icell, istim]\n",
    "        \n",
    "        _, p_ttest_i = stats.ttest_ind(base_cell.flatten(), stim_cell.flatten(), equal_var=False, alternative='less')\n",
    "        p_ttest[icell, istim] = p_ttest_i"
   ]
  },
  {
   "cell_type": "code",
   "execution_count": 45,
   "id": "54bef7d7",
   "metadata": {},
   "outputs": [
    {
     "name": "stdout",
     "output_type": "stream",
     "text": [
      "25.8\n"
     ]
    },
    {
     "data": {
      "text/plain": [
       "array([41, 41, 38, 23, 19, 55, 46, 59, 50, 14, 45, 35, 33, 33, 53, 38, 43,\n",
       "       39, 52, 37, 44, 48, 36, 39, 41, 25, 55, 49, 31, 27])"
      ]
     },
     "execution_count": 45,
     "metadata": {},
     "output_type": "execute_result"
    }
   ],
   "source": [
    "print(0.05*ncell)\n",
    "sum(p_ttest < 0.05)#.mean()"
   ]
  },
  {
   "cell_type": "code",
   "execution_count": 46,
   "id": "d389be8a",
   "metadata": {},
   "outputs": [
    {
     "data": {
      "text/plain": [
       "203"
      ]
     },
     "execution_count": 46,
     "metadata": {},
     "output_type": "execute_result"
    }
   ],
   "source": [
    "# sum(p_ttest.T < 0.05)\n",
    "(sum(p_ttest.T < 0.05) > 0).sum()"
   ]
  },
  {
   "cell_type": "markdown",
   "id": "013b0040",
   "metadata": {},
   "source": [
    "# Amp thresh\n",
    "trial averaged stim resp > 10%"
   ]
  },
  {
   "cell_type": "code",
   "execution_count": 47,
   "id": "6f8faec6",
   "metadata": {},
   "outputs": [
    {
     "name": "stderr",
     "output_type": "stream",
     "text": [
      "100%|██████████| 516/516 [00:00<00:00, 2158.47it/s]\n"
     ]
    }
   ],
   "source": [
    "evoked = np.ones((ncell, nstim)) * np.nan\n",
    "\n",
    "for icell in tqdm(np.arange(ncell)):\n",
    "    for istim in np.arange(nstim):\n",
    "        base_cell = dfof_trialwise['dfof_base_trial'][icell, istim]\n",
    "        stim_cell = dfof_trialwise['dfof_ad_trial'][icell, istim]\n",
    "        \n",
    "        evoked_cell = (stim_cell - base_cell) / (base_cell + 1e-7)\n",
    "        evoked_i = np.mean(evoked_cell, axis=0) # trial averaged evoked resp\n",
    "        evoked[icell, istim] = evoked_i"
   ]
  },
  {
   "cell_type": "code",
   "execution_count": 48,
   "id": "25468c80",
   "metadata": {},
   "outputs": [
    {
     "data": {
      "text/plain": [
       "((516, 30),\n",
       " array([159, 137, 151, 162, 136, 137, 143, 157, 127, 140, 154, 145, 145,\n",
       "        149, 140, 163, 150, 130, 141, 143, 156, 143, 160, 166, 159, 152,\n",
       "        151, 133, 150, 168]),\n",
       " 148.23333333333332,\n",
       " 516)"
      ]
     },
     "execution_count": 48,
     "metadata": {},
     "output_type": "execute_result"
    }
   ],
   "source": [
    "evoked.shape, sum(evoked > 0.1), sum(evoked > 0.1).mean(), (sum(evoked.T > 0.1) > 0).sum()"
   ]
  },
  {
   "cell_type": "markdown",
   "id": "46456b4b",
   "metadata": {},
   "source": [
    "# AND gate\n",
    "according to Ohki 2020  \n",
    "anova -> visually driven cells,  \n",
    "t test -> certain image responsive cells,  \n",
    "amp thresh -> lower false positive rate"
   ]
  },
  {
   "cell_type": "code",
   "execution_count": 49,
   "id": "6b51367d",
   "metadata": {},
   "outputs": [
    {
     "name": "stderr",
     "output_type": "stream",
     "text": [
      "100%|██████████| 516/516 [00:08<00:00, 57.88it/s]\n"
     ]
    }
   ],
   "source": [
    "ncell = dfof_ad_trial.shape[0]\n",
    "nstim = dfof_ad_trial.shape[1]\n",
    "\n",
    "p_anova = np.ones((ncell, 1)) * np.nan\n",
    "p_kruskal = np.ones((ncell, 1)) * np.nan\n",
    "p_ttest = np.ones((ncell, nstim)) * np.nan\n",
    "evoked = np.ones((ncell, nstim)) * np.nan\n",
    "\n",
    "for icell in tqdm(np.arange(ncell)):\n",
    "    base_cell_anova = np.concatenate([dfof_trialwise['dfof_base_trial'][icell, stim] for stim in range(nstim)])\n",
    "    stim_cell_anova = [] \n",
    "    for istim in np.arange(nstim):\n",
    "        stim_cell_anova.append(np.array(dfof_ad_trial[icell, istim]).flatten())\n",
    "\n",
    "        base_cell = dfof_trialwise['dfof_base_trial'][icell, istim]\n",
    "        stim_cell = dfof_trialwise['dfof_ad_trial'][icell, istim]\n",
    "        _, p_ttest_i = stats.ttest_ind(base_cell.flatten(), stim_cell.flatten(), equal_var=False, alternative='less')\n",
    "        p_ttest[icell, istim] = p_ttest_i\n",
    "\n",
    "        evoked_cell = (stim_cell - base_cell) / (base_cell + 1e-7)\n",
    "        evoked_i = np.mean(evoked_cell, axis=0) # trial averaged evoked resp\n",
    "        evoked[icell, istim] = evoked_i\n",
    "    \n",
    "    _, p_anova_cell = stats.f_oneway(np.array(base_cell_anova).flatten(), *stim_cell_anova)\n",
    "    p_anova[icell] = p_anova_cell\n",
    "    _, p_kruskal_cell = stats.kruskal(np.array(base_cell_anova).flatten(), *stim_cell_anova)\n",
    "    p_kruskal[icell] = p_kruskal_cell"
   ]
  },
  {
   "cell_type": "code",
   "execution_count": 52,
   "id": "395531aa",
   "metadata": {},
   "outputs": [
    {
     "name": "stdout",
     "output_type": "stream",
     "text": [
      "380 cells are visually driven, \n",
      "    proportion 0.74 out of 516 cells\n",
      "432 cells are image driven - with overlap between images, \n",
      "    proportion 0.03 out of 15480 cell-stim combos. \n",
      "    1-30 image evokes resp from [20  8 11 10  5 10 15 24 17  7 17 10 10 13 21 18 16 12 17 13 14 16 19 13\n",
      " 16 15 20 23 11 11] cells\n",
      "img driven cells are driven by [ 1  1  5  2  4  1  1  6  2  4  5  3  5  4 11  3  5  4  5 10  3  1  2  5\n",
      "  1  2  1  4  5  5  6  1  5  4  1  2  1  5  8  4  5  9  3  4  2  4  2  2\n",
      "  1  1  5  2  2  4  1  5  4  4  1  8  3  2  3  4  4  3  3  4  9  1  5  4\n",
      "  1  4  3  5  1  7  4  1  3  1  4  2  1  6  5  8  3  5  1  1  1  1  1  1\n",
      "  1  2  3  2  1  6  3  1  4  1  1  1  2  2  3  5  2  1  2  1  4  5  1  1\n",
      "  2  1  1  1  1  7  2  3  2 10  9  2  4] images\n"
     ]
    }
   ],
   "source": [
    "# visually driven cells: pass (anova OR kruskal) AND amp threshold for >=1 image\n",
    "p_sig = 0.1\n",
    "vis_driven = ((p_anova < p_sig) | (p_kruskal < p_sig)) & (sum(evoked.T > 0.1) > 0).reshape(-1, 1)\n",
    "print(f'{vis_driven.sum()} cells are visually driven, \\n\\\n",
    "    proportion {np.round(vis_driven.sum()/ncell, 2)} out of {ncell} cells')\n",
    "\n",
    "# cells responsive to image i: pass visually driven (anova OR kruskal) AND t-test AND amp threshold for *this* image\n",
    "img_driven = vis_driven & (p_ttest < p_sig) & (evoked > 0.1)\n",
    "print(f'{img_driven.sum()} cells are image driven - with overlap between images, \\n\\\n",
    "    proportion {np.round(img_driven.sum() / (ncell*nstim), 2)} out of {ncell*nstim} cell-stim combos. \\n\\\n",
    "    1-30 image evokes resp from {np.sum(img_driven, axis=0)} cells')\n",
    "\n",
    "t = np.sum(img_driven, axis=1)\n",
    "print(f'img driven cells are driven by {t[t>0]} images')"
   ]
  },
  {
   "cell_type": "code",
   "execution_count": 248,
   "id": "7de01efd",
   "metadata": {},
   "outputs": [
    {
     "name": "stdout",
     "output_type": "stream",
     "text": [
      "c:\\Users\\ll357\\Documents\\inter\\code\\py_playground\n"
     ]
    }
   ],
   "source": [
    "# print(os.getcwd())\n",
    "# with open('vis_img_driven_test_sig.pickle', 'wb') as handle:\n",
    "#     pickle.dump(p_anova, handle, protocol=pickle.HIGHEST_PROTOCOL)\n",
    "#     pickle.dump(p_kruskal, handle, protocol=pickle.HIGHEST_PROTOCOL)\n",
    "#     pickle.dump(evoked, handle, protocol=pickle.HIGHEST_PROTOCOL)\n",
    "#     pickle.dump(p_ttest, handle, protocol=pickle.HIGHEST_PROTOCOL)\n"
   ]
  }
 ],
 "metadata": {
  "interpreter": {
   "hash": "bb427df37c2fc79fcea5adb39991ccd99ca2b909e869dda25b1ff04f4a29c591"
  },
  "kernelspec": {
   "display_name": "Python 3.7.10 64-bit ('base': conda)",
   "language": "python",
   "name": "python3"
  },
  "language_info": {
   "codemirror_mode": {
    "name": "ipython",
    "version": 3
   },
   "file_extension": ".py",
   "mimetype": "text/x-python",
   "name": "python",
   "nbconvert_exporter": "python",
   "pygments_lexer": "ipython3",
   "version": "3.7.10"
  }
 },
 "nbformat": 4,
 "nbformat_minor": 5
}
