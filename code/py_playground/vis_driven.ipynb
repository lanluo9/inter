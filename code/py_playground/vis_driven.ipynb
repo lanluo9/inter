{
 "cells": [
  {
   "cell_type": "code",
   "execution_count": 3,
   "id": "d71f713e",
   "metadata": {},
   "outputs": [],
   "source": [
    "import numpy as np\n",
    "import pandas as pd\n",
    "import scipy.io\n",
    "from scipy import stats\n",
    "\n",
    "# import seaborn as sns\n",
    "import matplotlib.pyplot as plt\n",
    "%matplotlib inline\n",
    "\n",
    "from tqdm import tqdm\n",
    "import os\n",
    "# import pickle"
   ]
  },
  {
   "cell_type": "markdown",
   "id": "9da8d201",
   "metadata": {},
   "source": [
    "# Func & Load"
   ]
  },
  {
   "cell_type": "code",
   "execution_count": 4,
   "id": "4acf43af",
   "metadata": {},
   "outputs": [],
   "source": [
    "def load_metadata(root_path, paradigm_setting, session_num):\n",
    "    meta = pd.read_excel(root_path + 'adp_dataset_master.xlsx', index_col=None)\n",
    "    meta = meta[meta.paradigm == paradigm_setting].reset_index()\n",
    "    meta = meta[['mouse','date','area','num']]\n",
    "\n",
    "    meta.mouse = meta.mouse.astype(int)\n",
    "    \n",
    "    if isinstance(session_num, int):\n",
    "        meta.date = meta.date.astype(int).astype(str) + '_00' + meta.num.astype(int).astype(str) + '_caiman'\n",
    "        meta.num = meta.num.astype(int)\n",
    "        meta = meta.loc[meta['num'] == session_num].reset_index()\n",
    "    elif session_num == '':\n",
    "        meta.date = meta.date.astype(int).astype(str) + '_caiman'\n",
    "        # meta = meta.head(1) # multisession, only keep one metadata\n",
    "    return meta"
   ]
  },
  {
   "cell_type": "code",
   "execution_count": 6,
   "id": "611aa34d",
   "metadata": {},
   "outputs": [
    {
     "name": "stdout",
     "output_type": "stream",
     "text": [
      "   mouse           date area  num\n",
      "0   1350  220225_caiman   V1  2.0\n",
      "1   1350  220225_caiman   V1  3.0\n",
      "2   1369  220310_caiman   V1  2.0\n",
      "3   1369  220310_caiman   V1  3.0\n"
     ]
    },
    {
     "data": {
      "text/html": [
       "<div>\n",
       "<style scoped>\n",
       "    .dataframe tbody tr th:only-of-type {\n",
       "        vertical-align: middle;\n",
       "    }\n",
       "\n",
       "    .dataframe tbody tr th {\n",
       "        vertical-align: top;\n",
       "    }\n",
       "\n",
       "    .dataframe thead th {\n",
       "        text-align: right;\n",
       "    }\n",
       "</style>\n",
       "<table border=\"1\" class=\"dataframe\">\n",
       "  <thead>\n",
       "    <tr style=\"text-align: right;\">\n",
       "      <th></th>\n",
       "      <th>index</th>\n",
       "      <th>mouse</th>\n",
       "      <th>date</th>\n",
       "      <th>area</th>\n",
       "      <th>num</th>\n",
       "    </tr>\n",
       "  </thead>\n",
       "  <tbody>\n",
       "    <tr>\n",
       "      <th>0</th>\n",
       "      <td>2</td>\n",
       "      <td>1369</td>\n",
       "      <td>220310_caiman</td>\n",
       "      <td>V1</td>\n",
       "      <td>2.0</td>\n",
       "    </tr>\n",
       "  </tbody>\n",
       "</table>\n",
       "</div>"
      ],
      "text/plain": [
       "   index mouse           date area  num\n",
       "0      2  1369  220310_caiman   V1  2.0"
      ]
     },
     "execution_count": 6,
     "metadata": {},
     "output_type": "execute_result"
    }
   ],
   "source": [
    "# root_path = r'C:\\Users\\GlickfeldLab\\Documents\\test\\inter/'.replace('\\\\', '/')\n",
    "root_path = r'\\\\duhs-user-nc1.dhe.duke.edu\\dusom_glickfeldlab\\All_Staff\\home\\lan\\Data\\2P_images\\mat_inter/'.replace('\\\\', '/')\n",
    "meta = load_metadata(root_path, paradigm_setting='bunnytop high res', session_num='')\n",
    "print(meta)\n",
    "\n",
    "meta = meta.iloc[2].to_frame().T.reset_index()\n",
    "meta"
   ]
  },
  {
   "cell_type": "code",
   "execution_count": 8,
   "id": "b8fb2073",
   "metadata": {},
   "outputs": [
    {
     "name": "stdout",
     "output_type": "stream",
     "text": [
      "(256, 30) (34, 1)\n"
     ]
    }
   ],
   "source": [
    "# root_path = 'C:/Users/ll357/Documents/inter/'\n",
    "# meta = load_metadata(root_path, paradigm_setting='bunnytop', session_num='')\n",
    "# print(meta)\n",
    "\n",
    "dir_name = root_path # + 'mat/' # no need for mat folder\n",
    "iset = 0\n",
    "dir_sub = str(meta.area[iset]) + '_i' + str(meta.mouse[iset]) + '_' + str(meta.date[iset])\n",
    "\n",
    "dfof_trialwise = scipy.io.loadmat(os.path.join(dir_name, dir_sub, 'resp_base_trialwise' + '.mat')) # dir_sub[:-7] delete caiman in dir_sub\n",
    "print(dfof_trialwise['dfof_ad_trial'].shape, dfof_trialwise['dfof_ad_trial'][0,0].shape)\n",
    "\n",
    "dfof_ad_trial = dfof_trialwise['dfof_ad_trial'] # do not subtract baseline here: stim resp will be compared to base resp\n",
    "dfof_tg_trial = dfof_trialwise['dfof_tg_trial']"
   ]
  },
  {
   "cell_type": "markdown",
   "id": "be44754f",
   "metadata": {},
   "source": [
    "# One way anova\n",
    "for each cell, base = [ntrial, 1], stim_resp = [ntrial_stim, nstim].  \n",
    "base vs stim anova or kruskal wallis"
   ]
  },
  {
   "cell_type": "code",
   "execution_count": 9,
   "id": "1ad1b467",
   "metadata": {},
   "outputs": [
    {
     "name": "stderr",
     "output_type": "stream",
     "text": [
      "100%|██████████| 256/256 [00:00<00:00, 588.36it/s]\n"
     ]
    }
   ],
   "source": [
    "ncell = dfof_ad_trial.shape[0]\n",
    "nstim = dfof_ad_trial.shape[1]\n",
    "\n",
    "p_anova = np.ones((ncell, 1)) * np.nan\n",
    "p_kruskal = np.ones((ncell, 1)) * np.nan\n",
    "# p_alexandergovern = np.ones((ncell, 1)) * np.nan\n",
    "\n",
    "for icell in tqdm(np.arange(ncell)):\n",
    "    base_cell = np.concatenate([dfof_trialwise['dfof_base_trial'][icell, stim] for stim in range(nstim)])\n",
    "    stim_cell = [] \n",
    "    for istim in np.arange(nstim):\n",
    "        stim_cell.append(np.array(dfof_ad_trial[icell, istim]).flatten())\n",
    "    \n",
    "    _, p_anova_cell = stats.f_oneway(np.array(base_cell).flatten(), *stim_cell)\n",
    "    p_anova[icell] = p_anova_cell\n",
    "    _, p_kruskal_cell = stats.kruskal(np.array(base_cell).flatten(), *stim_cell)\n",
    "    p_kruskal[icell] = p_kruskal_cell\n",
    "    # _, p_alexandergovern_cell = stats.alexandergovern(np.array(base_cell).flatten(), *stim_cell)\n",
    "    # p_alexandergovern[icell] = p_alexandergovern_cell\n",
    "    # print(stats.alexandergovern(np.array(base_cell).flatten(), *stim_cell)) # alexandergovern result cannot extract p-value"
   ]
  },
  {
   "cell_type": "code",
   "execution_count": 10,
   "id": "464ede73",
   "metadata": {},
   "outputs": [
    {
     "data": {
      "text/plain": [
       "(array([133]), array([147]))"
      ]
     },
     "execution_count": 10,
     "metadata": {},
     "output_type": "execute_result"
    },
    {
     "data": {
      "image/png": "[encoded data removed]",
      "text/plain": [
       "<Figure size 1080x432 with 1 Axes>"
      ]
     },
     "metadata": {
      "needs_background": "light"
     },
     "output_type": "display_data"
    }
   ],
   "source": [
    "plt.figure(figsize=(15,6))\n",
    "plt.hist(p_anova, 50, alpha=0.5);\n",
    "plt.hist(p_kruskal, 50, alpha=0.3);\n",
    "sum(p_anova < 0.1), sum(p_kruskal < 0.1)"
   ]
  },
  {
   "cell_type": "markdown",
   "id": "99c0ac65",
   "metadata": {},
   "source": [
    "# One sided t test\n",
    "for each cell, base = [ntrial_stim, 1], stim_resp = [ntrial_stim, nstim].  \n",
    "base vs stim : 1 sided t test"
   ]
  },
  {
   "cell_type": "code",
   "execution_count": 11,
   "id": "446034a5",
   "metadata": {},
   "outputs": [
    {
     "name": "stderr",
     "output_type": "stream",
     "text": [
      "100%|██████████| 256/256 [00:01<00:00, 177.98it/s]\n"
     ]
    }
   ],
   "source": [
    "p_ttest = np.ones((ncell, nstim)) * np.nan\n",
    "\n",
    "for icell in tqdm(np.arange(ncell)):\n",
    "    for istim in np.arange(nstim):\n",
    "        base_cell = dfof_trialwise['dfof_base_trial'][icell, istim]\n",
    "        stim_cell = dfof_trialwise['dfof_ad_trial'][icell, istim]\n",
    "        \n",
    "        _, p_ttest_i = stats.ttest_ind(base_cell.flatten(), stim_cell.flatten(), equal_var=False, alternative='less')\n",
    "        p_ttest[icell, istim] = p_ttest_i"
   ]
  },
  {
   "cell_type": "code",
   "execution_count": 12,
   "id": "54bef7d7",
   "metadata": {},
   "outputs": [
    {
     "name": "stdout",
     "output_type": "stream",
     "text": [
      "12.8\n"
     ]
    },
    {
     "data": {
      "text/plain": [
       "array([ 4, 16, 18,  9,  8, 21, 19, 12,  9,  5, 12,  8, 11, 13, 26, 11, 18,\n",
       "       29, 29, 16,  9, 30, 11, 20, 11,  9, 18, 12, 11, 11])"
      ]
     },
     "execution_count": 12,
     "metadata": {},
     "output_type": "execute_result"
    }
   ],
   "source": [
    "print(0.05*ncell)\n",
    "sum(p_ttest < 0.05)#.mean()"
   ]
  },
  {
   "cell_type": "code",
   "execution_count": 13,
   "id": "d389be8a",
   "metadata": {},
   "outputs": [
    {
     "data": {
      "text/plain": [
       "117"
      ]
     },
     "execution_count": 13,
     "metadata": {},
     "output_type": "execute_result"
    }
   ],
   "source": [
    "# sum(p_ttest.T < 0.05)\n",
    "(sum(p_ttest.T < 0.05) > 0).sum()"
   ]
  },
  {
   "cell_type": "markdown",
   "id": "013b0040",
   "metadata": {},
   "source": [
    "# Amp thresh\n",
    "trial averaged stim resp > 10%"
   ]
  },
  {
   "cell_type": "code",
   "execution_count": 14,
   "id": "6f8faec6",
   "metadata": {},
   "outputs": [
    {
     "name": "stderr",
     "output_type": "stream",
     "text": [
      "100%|██████████| 256/256 [00:00<00:00, 2225.54it/s]\n"
     ]
    }
   ],
   "source": [
    "evoked = np.ones((ncell, nstim)) * np.nan\n",
    "\n",
    "for icell in tqdm(np.arange(ncell)):\n",
    "    for istim in np.arange(nstim):\n",
    "        base_cell = dfof_trialwise['dfof_base_trial'][icell, istim]\n",
    "        stim_cell = dfof_trialwise['dfof_ad_trial'][icell, istim]\n",
    "        \n",
    "        evoked_cell = (stim_cell - base_cell) / (base_cell + 1e-7)\n",
    "        evoked_i = np.mean(evoked_cell, axis=0) # trial averaged evoked resp\n",
    "        evoked[icell, istim] = evoked_i"
   ]
  },
  {
   "cell_type": "code",
   "execution_count": 15,
   "id": "25468c80",
   "metadata": {},
   "outputs": [
    {
     "data": {
      "text/plain": [
       "((256, 30),\n",
       " array([73, 72, 91, 66, 82, 81, 92, 88, 86, 71, 64, 81, 82, 65, 79, 74, 85,\n",
       "        83, 80, 84, 74, 79, 76, 76, 85, 82, 75, 88, 83, 69]),\n",
       " 78.86666666666666,\n",
       " 256)"
      ]
     },
     "execution_count": 15,
     "metadata": {},
     "output_type": "execute_result"
    }
   ],
   "source": [
    "evoked.shape, sum(evoked > 0.1), sum(evoked > 0.1).mean(), (sum(evoked.T > 0.1) > 0).sum()"
   ]
  },
  {
   "cell_type": "markdown",
   "id": "46456b4b",
   "metadata": {},
   "source": [
    "# AND gate\n",
    "according to Ohki 2020  \n",
    "anova -> visually driven cells,  \n",
    "t test -> certain image responsive cells,  \n",
    "amp thresh -> lower false positive rate"
   ]
  },
  {
   "cell_type": "code",
   "execution_count": 164,
   "id": "f2f6ab1e",
   "metadata": {},
   "outputs": [
    {
     "data": {
      "text/plain": [
       "Ttest_indResult(statistic=-395.0, pvalue=1.7891198862498212e-08)"
      ]
     },
     "execution_count": 164,
     "metadata": {},
     "output_type": "execute_result"
    }
   ],
   "source": [
    "# small_values = [1,1,1,2]\n",
    "# large_values = [100,100,100,100,100]\n",
    "\n",
    "# stats.ttest_ind(small_values, large_values, equal_var=False, alternative='less')"
   ]
  },
  {
   "cell_type": "code",
   "execution_count": 16,
   "id": "6b51367d",
   "metadata": {},
   "outputs": [
    {
     "name": "stderr",
     "output_type": "stream",
     "text": [
      "100%|██████████| 256/256 [00:02<00:00, 125.77it/s]\n"
     ]
    }
   ],
   "source": [
    "ncell = dfof_ad_trial.shape[0]\n",
    "nstim = dfof_ad_trial.shape[1]\n",
    "\n",
    "p_anova = np.ones((ncell, 1)) * np.nan\n",
    "p_kruskal = np.ones((ncell, 1)) * np.nan\n",
    "p_ttest = np.ones((ncell, nstim)) * np.nan\n",
    "evoked = np.ones((ncell, nstim)) * np.nan\n",
    "\n",
    "for icell in tqdm(np.arange(ncell)):\n",
    "    base_cell_anova = np.concatenate([dfof_trialwise['dfof_base_trial'][icell, stim] for stim in range(nstim)])\n",
    "    stim_cell_anova = [] \n",
    "    for istim in np.arange(nstim):\n",
    "        stim_cell_anova.append(np.array(dfof_ad_trial[icell, istim]).flatten())\n",
    "\n",
    "        base_cell = dfof_trialwise['dfof_base_trial'][icell, istim]\n",
    "        stim_cell = dfof_trialwise['dfof_ad_trial'][icell, istim]\n",
    "        _, p_ttest_i = stats.ttest_ind(base_cell.flatten(), stim_cell.flatten(), equal_var=False, alternative='less')\n",
    "        p_ttest[icell, istim] = p_ttest_i\n",
    "\n",
    "        evoked_cell = (stim_cell - base_cell) / (base_cell + 1e-7)\n",
    "        evoked_i = np.mean(evoked_cell, axis=0) # trial averaged evoked resp\n",
    "        evoked[icell, istim] = evoked_i\n",
    "    \n",
    "    _, p_anova_cell = stats.f_oneway(np.array(base_cell_anova).flatten(), *stim_cell_anova)\n",
    "    p_anova[icell] = p_anova_cell\n",
    "    _, p_kruskal_cell = stats.kruskal(np.array(base_cell_anova).flatten(), *stim_cell_anova)\n",
    "    p_kruskal[icell] = p_kruskal_cell"
   ]
  },
  {
   "cell_type": "code",
   "execution_count": 17,
   "id": "395531aa",
   "metadata": {},
   "outputs": [
    {
     "name": "stdout",
     "output_type": "stream",
     "text": [
      "124 cells are visually driven, \n",
      "    proportion 0.48 out of 256 cells\n",
      "33 cells are image driven - with overlap between images, \n",
      "    proportion 0.0 out of 7680 cell-stim combos. \n",
      "    1-30 image evokes resp from [0 1 2 0 0 3 2 0 2 0 3 0 0 0 3 0 0 4 3 2 0 2 1 1 0 0 2 1 1 0] cells\n",
      "img driven cells are driven by [2 1 2 3 2 1 1 1 1 2 1 1 1 3 1 2 1 2 2 1 2] images\n"
     ]
    }
   ],
   "source": [
    "# visually driven cells: pass (anova OR kruskal) AND amp threshold for >=1 image\n",
    "p_sig = 0.01\n",
    "vis_driven = ((p_anova < p_sig) | (p_kruskal < p_sig)) & (sum(evoked.T > 0.1) > 0).reshape(-1, 1)\n",
    "print(f'{vis_driven.sum()} cells are visually driven, \\n\\\n",
    "    proportion {np.round(vis_driven.sum()/ncell, 2)} out of {ncell} cells')\n",
    "\n",
    "# cells responsive to image i: pass visually driven (anova OR kruskal) AND t-test AND amp threshold for *this* image\n",
    "img_driven = vis_driven & (p_ttest < p_sig) & (evoked > 0.1)\n",
    "print(f'{img_driven.sum()} cells are image driven - with overlap between images, \\n\\\n",
    "    proportion {np.round(img_driven.sum() / (ncell*nstim), 2)} out of {ncell*nstim} cell-stim combos. \\n\\\n",
    "    1-30 image evokes resp from {np.sum(img_driven, axis=0)} cells')\n",
    "\n",
    "t = np.sum(img_driven, axis=1)\n",
    "print(f'img driven cells are driven by {t[t>0]} images')"
   ]
  },
  {
   "cell_type": "markdown",
   "id": "45465286",
   "metadata": {},
   "source": [
    "# Trace of vis cell"
   ]
  },
  {
   "cell_type": "code",
   "execution_count": 172,
   "id": "e46286eb",
   "metadata": {},
   "outputs": [],
   "source": [
    "# dir_sub = 'V1_i1350_211222_caiman'\n",
    "# ncell = 324\n",
    "# dir_data = r'\\\\duhs-user-nc1.dhe.duke.edu\\dusom_glickfeldlab\\All_Staff\\home\\lan\\Data\\2P_images\\mat_inter'.replace('\\\\', '/')\n",
    "# trace = scipy.io.loadmat(os.path.join(dir_data, dir_sub, 'trace_aligned' + '.mat')) # delete '_caiman'"
   ]
  },
  {
   "cell_type": "code",
   "execution_count": 25,
   "id": "cf5c6180",
   "metadata": {},
   "outputs": [
    {
     "name": "stdout",
     "output_type": "stream",
     "text": [
      "V1_i1369_220310_caiman\n",
      "(124, 30, 156)\n"
     ]
    },
    {
     "data": {
      "text/plain": [
       "(30, 156)"
      ]
     },
     "execution_count": 25,
     "metadata": {},
     "output_type": "execute_result"
    }
   ],
   "source": [
    "dir_data = r'\\\\duhs-user-nc1.dhe.duke.edu\\dusom_glickfeldlab\\All_Staff\\home\\lan\\Data\\2P_images\\mat_inter'.replace('\\\\', '/')\n",
    "dir_sub = str(meta.area[iset]) + '_i' + str(meta.mouse[iset]) + '_' + str(meta.date[iset])\n",
    "print(dir_sub)\n",
    "# ncell = 71\n",
    "trace = scipy.io.loadmat(os.path.join(dir_data, dir_sub, 'trace_aligned' + '.mat')) # delete '_caiman'\n",
    "\n",
    "trace_vis = []\n",
    "for icell in np.arange(ncell):\n",
    "    trace_cell = trace['trace_avg'][icell]\n",
    "    if vis_driven[icell]:\n",
    "        trace_vis.append(trace_cell)\n",
    "trace_vis = np.array(trace_vis)\n",
    "print(trace_vis.shape)\n",
    "# assert trace_vis.shape[0] == vis_driven.sum()\n",
    "\n",
    "# compare btw stim\n",
    "trace_mean = np.mean(trace_vis, axis=0)\n",
    "trace_std = np.std(trace_vis, axis=0)\n",
    "trace_sem = trace_std / np.sqrt(trace_vis.shape[0])\n",
    "trace_mean.shape"
   ]
  },
  {
   "cell_type": "code",
   "execution_count": 26,
   "id": "e78334ac",
   "metadata": {},
   "outputs": [
    {
     "data": {
      "text/plain": [
       "[<matplotlib.lines.Line2D at 0x1ee13dc8d48>]"
      ]
     },
     "execution_count": 26,
     "metadata": {},
     "output_type": "execute_result"
    },
    {
     "data": {
      "image/png": "[encoded data removed]",
      "text/plain": [
       "<Figure size 432x288 with 1 Axes>"
      ]
     },
     "metadata": {
      "needs_background": "light"
     },
     "output_type": "display_data"
    }
   ],
   "source": [
    "trace_mean_all = np.mean(np.mean(trace_vis, axis=0), axis=0)\n",
    "trace_end = trace_mean_all[100:]\n",
    "trace_start = trace_mean_all[:100]\n",
    "trace_reform = np.concatenate([trace_end, trace_start])\n",
    "plt.plot(trace_reform)\n",
    "# plt.axvline(x=0, color='grey')\n",
    "# plt.axvline(x=11, color='grey')\n",
    "# plt.xlim([-2, 60]);"
   ]
  },
  {
   "cell_type": "code",
   "execution_count": 175,
   "id": "7831bca3",
   "metadata": {},
   "outputs": [
    {
     "data": {
      "text/plain": [
       "[<matplotlib.lines.Line2D at 0x1c46b7a9608>]"
      ]
     },
     "execution_count": 175,
     "metadata": {},
     "output_type": "execute_result"
    },
    {
     "data": {
      "image/png": "[encoded data removed]",
      "text/plain": [
       "<Figure size 432x288 with 1 Axes>"
      ]
     },
     "metadata": {
      "needs_background": "light"
     },
     "output_type": "display_data"
    }
   ],
   "source": [
    "trace_mean_all = np.mean(np.mean(trace_vis, axis=0), axis=0)\n",
    "trace_end = trace_mean_all[100:]\n",
    "trace_start = trace_mean_all[:100]\n",
    "trace_reform = np.concatenate([trace_end, trace_start])\n",
    "plt.plot(trace_reform)\n",
    "# plt.axvline(x=0, color='grey')\n",
    "# plt.axvline(x=11, color='grey')\n",
    "# plt.xlim([-2, 60]);"
   ]
  },
  {
   "cell_type": "code",
   "execution_count": 20,
   "id": "a89edd92",
   "metadata": {},
   "outputs": [
    {
     "ename": "ModuleNotFoundError",
     "evalue": "No module named 'colorcet'",
     "output_type": "error",
     "traceback": [
      "\u001b[1;31m---------------------------------------------------------------------------\u001b[0m",
      "\u001b[1;31mModuleNotFoundError\u001b[0m                       Traceback (most recent call last)",
      "\u001b[1;32m~\\AppData\\Local\\Temp\\9/ipykernel_98320/470711508.py\u001b[0m in \u001b[0;36m<module>\u001b[1;34m\u001b[0m\n\u001b[0;32m      1\u001b[0m \u001b[1;32mimport\u001b[0m \u001b[0mseaborn\u001b[0m \u001b[1;32mas\u001b[0m \u001b[0msns\u001b[0m\u001b[1;33m\u001b[0m\u001b[1;33m\u001b[0m\u001b[0m\n\u001b[1;32m----> 2\u001b[1;33m \u001b[1;32mimport\u001b[0m \u001b[0mcolorcet\u001b[0m \u001b[1;32mas\u001b[0m \u001b[0mcc\u001b[0m\u001b[1;33m\u001b[0m\u001b[1;33m\u001b[0m\u001b[0m\n\u001b[0m\u001b[0;32m      3\u001b[0m \u001b[1;33m\u001b[0m\u001b[0m\n\u001b[0;32m      4\u001b[0m \u001b[0mfig\u001b[0m\u001b[1;33m,\u001b[0m \u001b[0max\u001b[0m \u001b[1;33m=\u001b[0m \u001b[0mplt\u001b[0m\u001b[1;33m.\u001b[0m\u001b[0msubplots\u001b[0m\u001b[1;33m(\u001b[0m\u001b[0mfigsize\u001b[0m\u001b[1;33m=\u001b[0m\u001b[1;33m(\u001b[0m\u001b[1;36m9\u001b[0m\u001b[1;33m,\u001b[0m\u001b[1;36m6\u001b[0m\u001b[1;33m)\u001b[0m\u001b[1;33m)\u001b[0m\u001b[1;33m\u001b[0m\u001b[1;33m\u001b[0m\u001b[0m\n\u001b[0;32m      5\u001b[0m \u001b[0mlong_palette\u001b[0m \u001b[1;33m=\u001b[0m \u001b[0msns\u001b[0m\u001b[1;33m.\u001b[0m\u001b[0mcolor_palette\u001b[0m\u001b[1;33m(\u001b[0m\u001b[0mcc\u001b[0m\u001b[1;33m.\u001b[0m\u001b[0mglasbey\u001b[0m\u001b[1;33m,\u001b[0m \u001b[0mn_colors\u001b[0m\u001b[1;33m=\u001b[0m\u001b[1;36m30\u001b[0m\u001b[1;33m)\u001b[0m\u001b[1;33m\u001b[0m\u001b[1;33m\u001b[0m\u001b[0m\n",
      "\u001b[1;31mModuleNotFoundError\u001b[0m: No module named 'colorcet'"
     ]
    }
   ],
   "source": [
    "import seaborn as sns\n",
    "import colorcet as cc\n",
    "\n",
    "fig, ax = plt.subplots(figsize=(9,6))\n",
    "long_palette = sns.color_palette(cc.glasbey, n_colors=30)\n",
    "for istim in np.arange(0, 10):\n",
    "    ax.plot(np.arange(trace_mean.shape[-1]), trace_mean[istim,:].flatten(), \n",
    "            color=long_palette[istim])\n",
    "    \n",
    "    ax.fill_between(np.arange(trace_mean.shape[-1]), \n",
    "                    trace_mean[istim,:].flatten() + trace_sem[istim,:].flatten(), \n",
    "                    trace_mean[istim,:].flatten() - trace_sem[istim,:].flatten(),\n",
    "                    color=long_palette[istim], alpha=0.1)\n",
    "plt.grid('minor')\n",
    "plt.xlim(0,70)\n",
    "plt.xlabel('frame number')\n",
    "plt.ylabel('dfof')\n",
    "# plt.legend(['inf', '750', '250'])\n",
    "plt.show()"
   ]
  },
  {
   "cell_type": "code",
   "execution_count": 248,
   "id": "7de01efd",
   "metadata": {},
   "outputs": [
    {
     "name": "stdout",
     "output_type": "stream",
     "text": [
      "c:\\Users\\ll357\\Documents\\inter\\code\\py_playground\n"
     ]
    }
   ],
   "source": [
    "# print(os.getcwd())\n",
    "# with open('vis_img_driven_test_sig.pickle', 'wb') as handle:\n",
    "#     pickle.dump(p_anova, handle, protocol=pickle.HIGHEST_PROTOCOL)\n",
    "#     pickle.dump(p_kruskal, handle, protocol=pickle.HIGHEST_PROTOCOL)\n",
    "#     pickle.dump(evoked, handle, protocol=pickle.HIGHEST_PROTOCOL)\n",
    "#     pickle.dump(p_ttest, handle, protocol=pickle.HIGHEST_PROTOCOL)\n"
   ]
  }
 ],
 "metadata": {
  "interpreter": {
   "hash": "bb427df37c2fc79fcea5adb39991ccd99ca2b909e869dda25b1ff04f4a29c591"
  },
  "kernelspec": {
   "display_name": "Python 3.7.10 64-bit ('base': conda)",
   "language": "python",
   "name": "python3"
  },
  "language_info": {
   "codemirror_mode": {
    "name": "ipython",
    "version": 3
   },
   "file_extension": ".py",
   "mimetype": "text/x-python",
   "name": "python",
   "nbconvert_exporter": "python",
   "pygments_lexer": "ipython3",
   "version": "3.7.10"
  }
 },
 "nbformat": 4,
 "nbformat_minor": 5
}
