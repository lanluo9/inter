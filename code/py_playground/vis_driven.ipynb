{
 "cells": [
  {
   "cell_type": "code",
   "execution_count": 2,
   "metadata": {},
   "outputs": [],
   "source": [
    "import numpy as np\n",
    "import pandas as pd\n",
    "import scipy.io\n",
    "from scipy import stats\n",
    "\n",
    "import seaborn as sns\n",
    "import matplotlib.pyplot as plt\n",
    "%matplotlib inline\n",
    "\n",
    "from tqdm import tqdm\n",
    "import os"
   ]
  },
  {
   "cell_type": "markdown",
   "id": "9da8d201",
   "metadata": {},
   "source": [
    "# Func & Load"
   ]
  },
  {
   "cell_type": "code",
   "execution_count": 3,
   "id": "4acf43af",
   "metadata": {},
   "outputs": [],
   "source": [
    "def load_metadata(root_path, paradigm_setting, session_num):\n",
    "    meta = pd.read_excel(root_path + 'mat/adp_dataset_master.xlsx', index_col=None)\n",
    "    meta = meta[meta.paradigm == paradigm_setting].reset_index()\n",
    "    meta = meta[['mouse','date','area','num']]\n",
    "\n",
    "    meta.mouse = meta.mouse.astype(int)\n",
    "    \n",
    "    if isinstance(session_num, int):\n",
    "        meta.date = meta.date.astype(int).astype(str) + '_00' + meta.num.astype(int).astype(str) + '_caiman'\n",
    "        meta.num = meta.num.astype(int)\n",
    "        meta = meta.loc[meta['num'] == session_num].reset_index()\n",
    "    elif session_num == '':\n",
    "        meta.date = meta.date.astype(int).astype(str) + '_caiman'\n",
    "        meta = meta.head(1) # multisession, only keep one metadata\n",
    "    return meta"
   ]
  },
  {
   "cell_type": "code",
   "execution_count": 6,
   "id": "b8fb2073",
   "metadata": {},
   "outputs": [
    {
     "name": "stdout",
     "output_type": "stream",
     "text": [
      "   mouse           date area  num\n",
      "0   1350  211222_caiman   V1  2.0\n"
     ]
    }
   ],
   "source": [
    "root_path = 'C:/Users/ll357/Documents/inter/'\n",
    "meta = load_metadata(root_path, paradigm_setting='bunnytop', session_num='')\n",
    "print(meta)\n",
    "\n",
    "dir_name = root_path + 'mat/'\n",
    "iset = 0\n",
    "dir_sub = str(meta.area[iset]) + '_i' + str(meta.mouse[iset]) + '_' + str(meta.date[iset])\n",
    "\n",
    "dfof_trialwise = scipy.io.loadmat(os.path.join(dir_name, dir_sub, 'resp_base_trialwise' + '.mat'))\n",
    "# dfof_trialwise.keys(), dfof_trialwise['dfof_ad_trial'].shape, dfof_trialwise['dfof_ad_trial'][0,0].shape\n",
    "\n",
    "dfof_ad_trial = dfof_trialwise['dfof_ad_trial'] #- dfof_trialwise['dfof_base_trial'] # subtract baseline???\n",
    "dfof_tg_trial = dfof_trialwise['dfof_tg_trial'] #- dfof_trialwise['dfof_base2_trial']"
   ]
  },
  {
   "cell_type": "code",
   "execution_count": 9,
   "id": "298bf63e",
   "metadata": {},
   "outputs": [
    {
     "data": {
      "text/plain": [
       "(dict_keys(['__header__', '__version__', '__globals__', 'dfof_ad_trial', 'dfof_base2_trial', 'dfof_base_trial', 'dfof_tg_trial']),\n",
       " (391, 30),\n",
       " (49, 1))"
      ]
     },
     "execution_count": 9,
     "metadata": {},
     "output_type": "execute_result"
    }
   ],
   "source": [
    "dfof_trialwise.keys(), dfof_trialwise['dfof_ad_trial'].shape, dfof_trialwise['dfof_ad_trial'][0,0].shape"
   ]
  },
  {
   "cell_type": "markdown",
   "id": "be44754f",
   "metadata": {},
   "source": [
    "# One way anova"
   ]
  },
  {
   "cell_type": "code",
   "execution_count": 77,
   "id": "8a2d571c",
   "metadata": {},
   "outputs": [
    {
     "name": "stdout",
     "output_type": "stream",
     "text": [
      "AlexanderGovernResult(statistic=4.65087071883494, pvalue=0.19922132490385214)\n"
     ]
    },
    {
     "data": {
      "text/plain": [
       "types.AlexanderGovernResult"
      ]
     },
     "execution_count": 77,
     "metadata": {},
     "output_type": "execute_result"
    }
   ],
   "source": [
    "atlanta = [13.75, 13.75, 13.5, 13.5, 13.0, 13.0, 13.0, 12.75, 12.5]\n",
    "chicago = [14.25, 13.0, 12.75, 12.5, 12.5, 12.4, 12.3, 11.9, 11.9]\n",
    "houston = [14.0, 14.0, 13.51, 13.5, 13.5, 13.25, 13.0, 12.5, 12.5]\n",
    "memphis = [15.0, 14.0, 13.75, 13.59, 13.25, 12.97, 12.5, 12.25,\n",
    "          11.89]\n",
    "p = stats.alexandergovern(atlanta, chicago, houston, memphis)\n",
    "print(p)\n",
    "type(p)"
   ]
  },
  {
   "cell_type": "code",
   "execution_count": 79,
   "id": "1ad1b467",
   "metadata": {},
   "outputs": [
    {
     "name": "stderr",
     "output_type": "stream",
     "text": [
      "100%|██████████| 391/391 [00:00<00:00, 610.79it/s]\n"
     ]
    }
   ],
   "source": [
    "ncell = dfof_ad_trial.shape[0]\n",
    "nstim = dfof_ad_trial.shape[1]\n",
    "\n",
    "p_anova = np.ones((ncell, 1)) * np.nan\n",
    "p_kruskal = np.ones((ncell, 1)) * np.nan\n",
    "# p_alexandergovern = np.ones((ncell, 1)) * np.nan\n",
    "\n",
    "for icell in tqdm(np.arange(ncell)):\n",
    "    base_cell = np.concatenate([dfof_trialwise['dfof_base_trial'][icell, stim] for stim in range(nstim)])\n",
    "    stim_cell = [] \n",
    "    for istim in np.arange(nstim):\n",
    "        stim_cell.append(np.array(dfof_ad_trial[icell, istim]).flatten())\n",
    "    \n",
    "    _, p_anova_cell = stats.f_oneway(np.array(base_cell).flatten(), *stim_cell)\n",
    "    p_anova[icell] = p_anova_cell\n",
    "    _, p_kruskal_cell = stats.kruskal(np.array(base_cell).flatten(), *stim_cell)\n",
    "    p_kruskal[icell] = p_kruskal_cell\n",
    "    # _, p_alexandergovern_cell = stats.alexandergovern(np.array(base_cell).flatten(), *stim_cell)\n",
    "    # p_alexandergovern[icell] = p_alexandergovern_cell\n",
    "    # print(stats.alexandergovern(np.array(base_cell).flatten(), *stim_cell))"
   ]
  },
  {
   "cell_type": "code",
   "execution_count": 42,
   "id": "464ede73",
   "metadata": {},
   "outputs": [
    {
     "data": {
      "text/plain": [
       "array([30])"
      ]
     },
     "execution_count": 42,
     "metadata": {},
     "output_type": "execute_result"
    },
    {
     "data": {
      "image/png": "[encoded data removed]",
      "text/plain": [
       "<Figure size 432x288 with 1 Axes>"
      ]
     },
     "metadata": {
      "needs_background": "light"
     },
     "output_type": "display_data"
    }
   ],
   "source": [
    "plt.hist(p_anova, 100);\n",
    "sum(p_anova < 0.1)"
   ]
  },
  {
   "cell_type": "code",
   "execution_count": 68,
   "id": "efa3f5df",
   "metadata": {},
   "outputs": [
    {
     "data": {
      "text/plain": [
       "array([34])"
      ]
     },
     "execution_count": 68,
     "metadata": {},
     "output_type": "execute_result"
    },
    {
     "data": {
      "image/png": "[encoded data removed]",
      "text/plain": [
       "<Figure size 432x288 with 1 Axes>"
      ]
     },
     "metadata": {
      "needs_background": "light"
     },
     "output_type": "display_data"
    }
   ],
   "source": [
    "plt.hist(p_kruskal, 100);\n",
    "sum(p_kruskal < 0.1)"
   ]
  },
  {
   "cell_type": "markdown",
   "id": "99c0ac65",
   "metadata": {},
   "source": [
    "# One tail ttest"
   ]
  },
  {
   "cell_type": "markdown",
   "id": "446034a5",
   "metadata": {},
   "source": []
  }
 ],
 "metadata": {
  "interpreter": {
   "hash": "bb427df37c2fc79fcea5adb39991ccd99ca2b909e869dda25b1ff04f4a29c591"
  },
  "kernelspec": {
   "display_name": "Python 3.7.10 64-bit ('base': conda)",
   "language": "python",
   "name": "python3"
  },
  "language_info": {
   "codemirror_mode": {
    "name": "ipython",
    "version": 3
   },
   "file_extension": ".py",
   "mimetype": "text/x-python",
   "name": "python",
   "nbconvert_exporter": "python",
   "pygments_lexer": "ipython3",
   "version": "3.7.10"
  }
 },
 "nbformat": 4,
 "nbformat_minor": 5
}
