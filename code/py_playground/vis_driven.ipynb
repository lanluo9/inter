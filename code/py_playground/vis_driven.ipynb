{
 "cells": [
  {
   "cell_type": "code",
   "execution_count": 114,
   "metadata": {},
   "outputs": [],
   "source": [
    "import numpy as np\n",
    "import pandas as pd\n",
    "import scipy.io\n",
    "from scipy import stats\n",
    "\n",
    "# import seaborn as sns\n",
    "import matplotlib.pyplot as plt\n",
    "%matplotlib inline\n",
    "\n",
    "from tqdm import tqdm\n",
    "import os\n",
    "import pickle"
   ]
  },
  {
   "cell_type": "markdown",
   "id": "9da8d201",
   "metadata": {},
   "source": [
    "# Func & Load"
   ]
  },
  {
   "cell_type": "code",
   "execution_count": 115,
   "id": "4acf43af",
   "metadata": {},
   "outputs": [],
   "source": [
    "def load_metadata(root_path, paradigm_setting, session_num):\n",
    "    meta = pd.read_excel(root_path + 'mat/adp_dataset_master.xlsx', index_col=None)\n",
    "    meta = meta[meta.paradigm == paradigm_setting].reset_index()\n",
    "    meta = meta[['mouse','date','area','num']]\n",
    "\n",
    "    meta.mouse = meta.mouse.astype(int)\n",
    "    \n",
    "    if isinstance(session_num, int):\n",
    "        meta.date = meta.date.astype(int).astype(str) + '_00' + meta.num.astype(int).astype(str) + '_caiman'\n",
    "        meta.num = meta.num.astype(int)\n",
    "        meta = meta.loc[meta['num'] == session_num].reset_index()\n",
    "    elif session_num == '':\n",
    "        meta.date = meta.date.astype(int).astype(str) + '_caiman'\n",
    "        meta = meta.head(1) # multisession, only keep one metadata\n",
    "    return meta"
   ]
  },
  {
   "cell_type": "code",
   "execution_count": 116,
   "id": "b8fb2073",
   "metadata": {},
   "outputs": [
    {
     "name": "stdout",
     "output_type": "stream",
     "text": [
      "   mouse           date area  num\n",
      "0   1350  211222_caiman   V1  2.0\n"
     ]
    }
   ],
   "source": [
    "root_path = 'C:/Users/ll357/Documents/inter/'\n",
    "meta = load_metadata(root_path, paradigm_setting='bunnytop', session_num='')\n",
    "print(meta)\n",
    "\n",
    "dir_name = root_path + 'mat/'\n",
    "iset = 0\n",
    "dir_sub = str(meta.area[iset]) + '_i' + str(meta.mouse[iset]) + '_' + str(meta.date[iset])\n",
    "\n",
    "dfof_trialwise = scipy.io.loadmat(os.path.join(dir_name, dir_sub, 'resp_base_trialwise' + '.mat'))\n",
    "# dfof_trialwise.keys(), dfof_trialwise['dfof_ad_trial'].shape, dfof_trialwise['dfof_ad_trial'][0,0].shape\n",
    "\n",
    "dfof_ad_trial = dfof_trialwise['dfof_ad_trial'] # do not subtract baseline here: stim resp will be compared to base resp\n",
    "dfof_tg_trial = dfof_trialwise['dfof_tg_trial']"
   ]
  },
  {
   "cell_type": "code",
   "execution_count": 117,
   "id": "298bf63e",
   "metadata": {},
   "outputs": [
    {
     "data": {
      "text/plain": [
       "(dict_keys(['__header__', '__version__', '__globals__', 'dfof_ad_trial', 'dfof_base2_trial', 'dfof_base_trial', 'dfof_tg_trial']),\n",
       " (324, 30),\n",
       " (49, 1))"
      ]
     },
     "execution_count": 117,
     "metadata": {},
     "output_type": "execute_result"
    }
   ],
   "source": [
    "dfof_trialwise.keys(), dfof_trialwise['dfof_ad_trial'].shape, dfof_trialwise['dfof_ad_trial'][0,0].shape"
   ]
  },
  {
   "cell_type": "markdown",
   "id": "be44754f",
   "metadata": {},
   "source": [
    "# One way anova\n",
    "for each cell, base = [ntrial, 1], stim_resp = [ntrial_stim, nstim].  \n",
    "base vs stim anova or kruskal wallis"
   ]
  },
  {
   "cell_type": "code",
   "execution_count": 118,
   "id": "1ad1b467",
   "metadata": {},
   "outputs": [
    {
     "name": "stderr",
     "output_type": "stream",
     "text": [
      "100%|██████████| 324/324 [00:00<00:00, 580.51it/s]\n"
     ]
    }
   ],
   "source": [
    "ncell = dfof_ad_trial.shape[0]\n",
    "nstim = dfof_ad_trial.shape[1]\n",
    "\n",
    "p_anova = np.ones((ncell, 1)) * np.nan\n",
    "p_kruskal = np.ones((ncell, 1)) * np.nan\n",
    "# p_alexandergovern = np.ones((ncell, 1)) * np.nan\n",
    "\n",
    "for icell in tqdm(np.arange(ncell)):\n",
    "    base_cell = np.concatenate([dfof_trialwise['dfof_base_trial'][icell, stim] for stim in range(nstim)])\n",
    "    stim_cell = [] \n",
    "    for istim in np.arange(nstim):\n",
    "        stim_cell.append(np.array(dfof_ad_trial[icell, istim]).flatten())\n",
    "    \n",
    "    _, p_anova_cell = stats.f_oneway(np.array(base_cell).flatten(), *stim_cell)\n",
    "    p_anova[icell] = p_anova_cell\n",
    "    _, p_kruskal_cell = stats.kruskal(np.array(base_cell).flatten(), *stim_cell)\n",
    "    p_kruskal[icell] = p_kruskal_cell\n",
    "    # _, p_alexandergovern_cell = stats.alexandergovern(np.array(base_cell).flatten(), *stim_cell)\n",
    "    # p_alexandergovern[icell] = p_alexandergovern_cell\n",
    "    # print(stats.alexandergovern(np.array(base_cell).flatten(), *stim_cell)) # alexandergovern result cannot extract p-value"
   ]
  },
  {
   "cell_type": "code",
   "execution_count": 119,
   "id": "464ede73",
   "metadata": {},
   "outputs": [
    {
     "data": {
      "text/plain": [
       "array([85])"
      ]
     },
     "execution_count": 119,
     "metadata": {},
     "output_type": "execute_result"
    },
    {
     "data": {
      "image/png": "[encoded data removed]",
      "text/plain": [
       "<Figure size 432x288 with 1 Axes>"
      ]
     },
     "metadata": {
      "needs_background": "light"
     },
     "output_type": "display_data"
    }
   ],
   "source": [
    "plt.hist(p_anova, 100);\n",
    "sum(p_anova < 0.1)"
   ]
  },
  {
   "cell_type": "code",
   "execution_count": 120,
   "id": "efa3f5df",
   "metadata": {},
   "outputs": [
    {
     "data": {
      "text/plain": [
       "array([103])"
      ]
     },
     "execution_count": 120,
     "metadata": {},
     "output_type": "execute_result"
    },
    {
     "data": {
      "image/png": "[encoded data removed]",
      "text/plain": [
       "<Figure size 432x288 with 1 Axes>"
      ]
     },
     "metadata": {
      "needs_background": "light"
     },
     "output_type": "display_data"
    }
   ],
   "source": [
    "plt.hist(p_kruskal, 100);\n",
    "sum(p_kruskal < 0.1)"
   ]
  },
  {
   "cell_type": "markdown",
   "id": "99c0ac65",
   "metadata": {},
   "source": [
    "# One sided t test\n",
    "for each cell, base = [ntrial_stim, 1], stim_resp = [ntrial_stim, nstim].  \n",
    "base vs stim : 1 sided t test"
   ]
  },
  {
   "cell_type": "code",
   "execution_count": 127,
   "id": "446034a5",
   "metadata": {},
   "outputs": [
    {
     "name": "stderr",
     "output_type": "stream",
     "text": [
      "100%|██████████| 324/324 [00:01<00:00, 197.88it/s]\n"
     ]
    }
   ],
   "source": [
    "p_ttest = np.ones((ncell, nstim)) * np.nan\n",
    "\n",
    "for icell in tqdm(np.arange(ncell)):\n",
    "    for istim in np.arange(nstim):\n",
    "        base_cell = dfof_trialwise['dfof_base_trial'][icell, istim]\n",
    "        stim_cell = dfof_trialwise['dfof_ad_trial'][icell, istim]\n",
    "        \n",
    "        _, p_ttest_i = stats.ttest_ind(base_cell.flatten(), stim_cell.flatten(), equal_var=False, alternative='less')\n",
    "        p_ttest[icell, istim] = p_ttest_i"
   ]
  },
  {
   "cell_type": "code",
   "execution_count": 137,
   "id": "54bef7d7",
   "metadata": {},
   "outputs": [
    {
     "name": "stdout",
     "output_type": "stream",
     "text": [
      "16.2\n"
     ]
    },
    {
     "data": {
      "text/plain": [
       "array([ 1, 14, 17,  8,  6, 19, 12, 17, 23,  6, 17,  0, 13,  8, 24, 11, 15,\n",
       "       21, 18, 18,  6, 20, 10, 14,  8, 11, 16, 14,  9, 12])"
      ]
     },
     "execution_count": 137,
     "metadata": {},
     "output_type": "execute_result"
    }
   ],
   "source": [
    "print(0.05*324)\n",
    "sum(p_ttest < 0.05)#.mean()"
   ]
  },
  {
   "cell_type": "code",
   "execution_count": 134,
   "id": "d389be8a",
   "metadata": {},
   "outputs": [
    {
     "data": {
      "text/plain": [
       "151"
      ]
     },
     "execution_count": 134,
     "metadata": {},
     "output_type": "execute_result"
    }
   ],
   "source": [
    "# sum(p_ttest.T < 0.05)\n",
    "(sum(p_ttest.T < 0.05) > 0).sum()"
   ]
  },
  {
   "cell_type": "markdown",
   "id": "013b0040",
   "metadata": {},
   "source": [
    "# Amp thresh\n",
    "trial averaged stim resp > 10%"
   ]
  },
  {
   "cell_type": "code",
   "execution_count": 141,
   "id": "6f8faec6",
   "metadata": {},
   "outputs": [
    {
     "name": "stderr",
     "output_type": "stream",
     "text": [
      "100%|██████████| 324/324 [00:00<00:00, 2945.05it/s]\n"
     ]
    }
   ],
   "source": [
    "evoked = np.ones((ncell, nstim)) * np.nan\n",
    "\n",
    "for icell in tqdm(np.arange(ncell)):\n",
    "    for istim in np.arange(nstim):\n",
    "        base_cell = dfof_trialwise['dfof_base_trial'][icell, istim]\n",
    "        stim_cell = dfof_trialwise['dfof_ad_trial'][icell, istim]\n",
    "        \n",
    "        evoked_cell = (stim_cell - base_cell) / (base_cell + 1e-7)\n",
    "        evoked_i = np.mean(evoked_cell, axis=0) # trial averaged evoked resp\n",
    "        evoked[icell, istim] = evoked_i"
   ]
  },
  {
   "cell_type": "code",
   "execution_count": 144,
   "id": "25468c80",
   "metadata": {},
   "outputs": [
    {
     "data": {
      "text/plain": [
       "(array([ 96, 102,  94, 101, 108, 111, 101, 105, 103, 109,  94, 115,  98,\n",
       "        103, 109, 100, 104,  91,  96, 110, 108, 114, 112, 101,  95,  94,\n",
       "        104,  99,  87, 110]),\n",
       " 102.46666666666667,\n",
       " 324)"
      ]
     },
     "execution_count": 144,
     "metadata": {},
     "output_type": "execute_result"
    }
   ],
   "source": [
    "sum(evoked > 0.1), sum(evoked > 0.1).mean(), (sum(evoked.T > 0.1) > 0).sum()"
   ]
  },
  {
   "cell_type": "markdown",
   "id": "46456b4b",
   "metadata": {},
   "source": [
    "# AND gate\n",
    "according to Ohki 2020  \n",
    "anova -> visually driven cells,  \n",
    "t test -> certain image responsive cells,  \n",
    "amp thresh -> lower false positive rate"
   ]
  },
  {
   "cell_type": "code",
   "execution_count": 145,
   "id": "6b51367d",
   "metadata": {},
   "outputs": [
    {
     "name": "stderr",
     "output_type": "stream",
     "text": [
      "100%|██████████| 324/324 [00:02<00:00, 142.82it/s]\n"
     ]
    }
   ],
   "source": [
    "ncell = dfof_ad_trial.shape[0]\n",
    "nstim = dfof_ad_trial.shape[1]\n",
    "\n",
    "p_anova = np.ones((ncell, 1)) * np.nan\n",
    "p_kruskal = np.ones((ncell, 1)) * np.nan\n",
    "p_ttest = np.ones((ncell, nstim)) * np.nan\n",
    "evoked = np.ones((ncell, nstim)) * np.nan\n",
    "\n",
    "for icell in tqdm(np.arange(ncell)):\n",
    "    base_cell_anova = np.concatenate([dfof_trialwise['dfof_base_trial'][icell, stim] for stim in range(nstim)])\n",
    "    stim_cell_anova = [] \n",
    "    for istim in np.arange(nstim):\n",
    "        stim_cell_anova.append(np.array(dfof_ad_trial[icell, istim]).flatten())\n",
    "\n",
    "        base_cell = dfof_trialwise['dfof_base_trial'][icell, istim]\n",
    "        stim_cell = dfof_trialwise['dfof_ad_trial'][icell, istim]\n",
    "        _, p_ttest_i = stats.ttest_ind(base_cell.flatten(), stim_cell.flatten(), equal_var=False, alternative='less')\n",
    "        p_ttest[icell, istim] = p_ttest_i\n",
    "\n",
    "        evoked_cell = (stim_cell - base_cell) / (base_cell + 1e-7)\n",
    "        evoked_i = np.mean(evoked_cell, axis=0) # trial averaged evoked resp\n",
    "        evoked[icell, istim] = evoked_i\n",
    "    \n",
    "    _, p_anova_cell = stats.f_oneway(np.array(base_cell_anova).flatten(), *stim_cell_anova)\n",
    "    p_anova[icell] = p_anova_cell\n",
    "    _, p_kruskal_cell = stats.kruskal(np.array(base_cell_anova).flatten(), *stim_cell_anova)\n",
    "    p_kruskal[icell] = p_kruskal_cell"
   ]
  },
  {
   "cell_type": "code",
   "execution_count": 229,
   "id": "395531aa",
   "metadata": {},
   "outputs": [
    {
     "name": "stdout",
     "output_type": "stream",
     "text": [
      "95 cells are visually driven, \n",
      "    proportion 0.29 out of 324 cells\n",
      "90 cells are image driven - with overlap between images, \n",
      "    proportion 0.28 out of 324 cells. \n",
      "    1-30 image evokes resp from [0 6 1 1 1 7 4 3 8 1 2 0 2 1 4 3 3 5 4 5 0 7 3 5 3 0 5 2 1 3] cells\n"
     ]
    }
   ],
   "source": [
    "# visually driven cells: pass (anova OR kruskal) AND amp threshold for >=1 image\n",
    "p_sig = 0.05\n",
    "vis_driven = ((p_anova < p_sig) | (p_kruskal < p_sig)) & (sum(evoked.T > 0.1) > 0).reshape(-1, 1)\n",
    "print(f'{vis_driven.sum()} cells are visually driven, \\n\\\n",
    "    proportion {np.round(vis_driven.sum()/ncell, 2)} out of {ncell} cells')\n",
    "\n",
    "# cells responsive to image i: pass visually driven (anova OR kruskal) AND t-test AND amp threshold for *this* image\n",
    "img_driven = vis_driven & (p_ttest < p_sig) & (evoked > 0.1)\n",
    "print(f'{img_driven.sum()} cells are image driven - with overlap between images, \\n\\\n",
    "    proportion {np.round(img_driven.sum()/ncell, 2)} out of {ncell} cells. \\n\\\n",
    "    1-30 image evokes resp from {np.sum(img_driven, axis=0)} cells')"
   ]
  },
  {
   "cell_type": "code",
   "execution_count": 222,
   "id": "7de01efd",
   "metadata": {},
   "outputs": [],
   "source": [
    "with open('vis_img_driven.pickle', 'wb') as handle:\n",
    "    pickle.dump(img_driven, handle, protocol=pickle.HIGHEST_PROTOCOL)\n",
    "    pickle.dump(vis_driven, handle, protocol=pickle.HIGHEST_PROTOCOL)\n"
   ]
  }
 ],
 "metadata": {
  "interpreter": {
   "hash": "bb427df37c2fc79fcea5adb39991ccd99ca2b909e869dda25b1ff04f4a29c591"
  },
  "kernelspec": {
   "display_name": "Python 3.7.10 64-bit ('base': conda)",
   "language": "python",
   "name": "python3"
  },
  "language_info": {
   "codemirror_mode": {
    "name": "ipython",
    "version": 3
   },
   "file_extension": ".py",
   "mimetype": "text/x-python",
   "name": "python",
   "nbconvert_exporter": "python",
   "pygments_lexer": "ipython3",
   "version": "3.7.10"
  }
 },
 "nbformat": 4,
 "nbformat_minor": 5
}
