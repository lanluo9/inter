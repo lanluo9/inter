{
 "cells": [
  {
   "cell_type": "code",
   "execution_count": 203,
   "metadata": {},
   "outputs": [],
   "source": [
    "import pandas as pd\n",
    "import numpy as np\n",
    "from scipy.io import loadmat\n",
    "import seaborn as sns\n",
    "import matplotlib.pyplot as plt\n",
    "from astropy.stats import circvar\n",
    "from astropy import units as u"
   ]
  },
  {
   "cell_type": "markdown",
   "metadata": {},
   "source": [
    "### OSI by area"
   ]
  },
  {
   "cell_type": "code",
   "execution_count": 27,
   "metadata": {},
   "outputs": [
    {
     "data": {
      "text/html": [
       "<div>\n",
       "<style scoped>\n",
       "    .dataframe tbody tr th:only-of-type {\n",
       "        vertical-align: middle;\n",
       "    }\n",
       "\n",
       "    .dataframe tbody tr th {\n",
       "        vertical-align: top;\n",
       "    }\n",
       "\n",
       "    .dataframe thead th {\n",
       "        text-align: right;\n",
       "    }\n",
       "</style>\n",
       "<table border=\"1\" class=\"dataframe\">\n",
       "  <thead>\n",
       "    <tr style=\"text-align: right;\">\n",
       "      <th></th>\n",
       "      <th>OSI</th>\n",
       "      <th>area</th>\n",
       "    </tr>\n",
       "  </thead>\n",
       "  <tbody>\n",
       "    <tr>\n",
       "      <th>158</th>\n",
       "      <td>0.715140</td>\n",
       "      <td>V1</td>\n",
       "    </tr>\n",
       "    <tr>\n",
       "      <th>159</th>\n",
       "      <td>1.338073</td>\n",
       "      <td>V1</td>\n",
       "    </tr>\n",
       "    <tr>\n",
       "      <th>160</th>\n",
       "      <td>0.960019</td>\n",
       "      <td>V1</td>\n",
       "    </tr>\n",
       "    <tr>\n",
       "      <th>161</th>\n",
       "      <td>0.439901</td>\n",
       "      <td>V1</td>\n",
       "    </tr>\n",
       "    <tr>\n",
       "      <th>162</th>\n",
       "      <td>0.721108</td>\n",
       "      <td>LM</td>\n",
       "    </tr>\n",
       "  </tbody>\n",
       "</table>\n",
       "</div>"
      ],
      "text/plain": [
       "          OSI area\n",
       "158  0.715140   V1\n",
       "159  1.338073   V1\n",
       "160  0.960019   V1\n",
       "161  0.439901   V1\n",
       "162  0.721108   LM"
      ]
     },
     "execution_count": 27,
     "metadata": {},
     "output_type": "execute_result"
    }
   ],
   "source": [
    "OSI_area = loadmat('C:/Users/lan/Documents/repos/inter/plot/OSI_area.mat')\n",
    "df = pd.DataFrame(OSI_area['OSI'], columns=['OSI'])\n",
    "df['area'] = OSI_area['area_merge']\n",
    "df['area'] = df['area'].replace(1, 'V1')\n",
    "df['area'] = df['area'].replace(2, 'LM')\n",
    "df['area'] = df['area'].replace(3, 'LI')\n",
    "df.tail()"
   ]
  },
  {
   "cell_type": "code",
   "execution_count": 33,
   "metadata": {},
   "outputs": [
    {
     "data": {
      "text/html": [
       "<div>\n",
       "<style scoped>\n",
       "    .dataframe tbody tr th:only-of-type {\n",
       "        vertical-align: middle;\n",
       "    }\n",
       "\n",
       "    .dataframe tbody tr th {\n",
       "        vertical-align: top;\n",
       "    }\n",
       "\n",
       "    .dataframe thead tr th {\n",
       "        text-align: left;\n",
       "    }\n",
       "</style>\n",
       "<table border=\"1\" class=\"dataframe\">\n",
       "  <thead>\n",
       "    <tr>\n",
       "      <th></th>\n",
       "      <th>area</th>\n",
       "      <th colspan=\"8\" halign=\"left\">OSI</th>\n",
       "    </tr>\n",
       "    <tr>\n",
       "      <th></th>\n",
       "      <th></th>\n",
       "      <th>count</th>\n",
       "      <th>mean</th>\n",
       "      <th>std</th>\n",
       "      <th>min</th>\n",
       "      <th>25%</th>\n",
       "      <th>50%</th>\n",
       "      <th>75%</th>\n",
       "      <th>max</th>\n",
       "    </tr>\n",
       "  </thead>\n",
       "  <tbody>\n",
       "    <tr>\n",
       "      <th>0</th>\n",
       "      <td>V1</td>\n",
       "      <td>127.0</td>\n",
       "      <td>0.837365</td>\n",
       "      <td>0.258645</td>\n",
       "      <td>0.223475</td>\n",
       "      <td>0.681109</td>\n",
       "      <td>0.813228</td>\n",
       "      <td>1.007458</td>\n",
       "      <td>1.724458</td>\n",
       "    </tr>\n",
       "    <tr>\n",
       "      <th>1</th>\n",
       "      <td>LM</td>\n",
       "      <td>26.0</td>\n",
       "      <td>0.779780</td>\n",
       "      <td>0.317639</td>\n",
       "      <td>0.269632</td>\n",
       "      <td>0.553851</td>\n",
       "      <td>0.814957</td>\n",
       "      <td>0.982178</td>\n",
       "      <td>1.697787</td>\n",
       "    </tr>\n",
       "    <tr>\n",
       "      <th>2</th>\n",
       "      <td>LI</td>\n",
       "      <td>10.0</td>\n",
       "      <td>1.045070</td>\n",
       "      <td>0.452064</td>\n",
       "      <td>0.534157</td>\n",
       "      <td>0.863942</td>\n",
       "      <td>0.940161</td>\n",
       "      <td>1.028255</td>\n",
       "      <td>2.231971</td>\n",
       "    </tr>\n",
       "  </tbody>\n",
       "</table>\n",
       "</div>"
      ],
      "text/plain": [
       "  area    OSI                                                              \\\n",
       "        count      mean       std       min       25%       50%       75%   \n",
       "0   V1  127.0  0.837365  0.258645  0.223475  0.681109  0.813228  1.007458   \n",
       "1   LM   26.0  0.779780  0.317639  0.269632  0.553851  0.814957  0.982178   \n",
       "2   LI   10.0  1.045070  0.452064  0.534157  0.863942  0.940161  1.028255   \n",
       "\n",
       "             \n",
       "        max  \n",
       "0  1.724458  \n",
       "1  1.697787  \n",
       "2  2.231971  "
      ]
     },
     "execution_count": 33,
     "metadata": {},
     "output_type": "execute_result"
    }
   ],
   "source": [
    "df.groupby('area', sort=False).describe().reset_index()"
   ]
  },
  {
   "cell_type": "code",
   "execution_count": 30,
   "metadata": {},
   "outputs": [
    {
     "data": {
      "image/png": "[encoded data removed]",
      "text/plain": [
       "<Figure size 432x288 with 1 Axes>"
      ]
     },
     "metadata": {
      "needs_background": "light"
     },
     "output_type": "display_data"
    }
   ],
   "source": [
    "ax = sns.violinplot(x=\"area\", y=\"OSI\", data=df)"
   ]
  },
  {
   "cell_type": "markdown",
   "metadata": {},
   "source": [
    "### Circular Variance by area\n",
    "\n",
    "https://stackoverflow.com/questions/52856232/scipy-circular-variance  \n",
    "https://ncss-wpengine.netdna-ssl.com/wp-content/themes/ncss/pdf/Procedures/NCSS/Circular_Data_Analysis.pdf  \n",
    "https://docs.astropy.org/en/stable/api/astropy.stats.circvar.html"
   ]
  },
  {
   "cell_type": "code",
   "execution_count": 48,
   "metadata": {},
   "outputs": [
    {
     "data": {
      "text/plain": [
       "array([[ 95.,  53.,  38., ..., 185., 186., 185.],\n",
       "       [ 83.,  13.,   6., ...,  18.,  78., 331.],\n",
       "       [192., 334., 332., ...,  38.,  46.,  88.],\n",
       "       ...,\n",
       "       [ 61.,  65.,  91., ...,  28.,   2.,  27.],\n",
       "       [ 87.,  54., 105., ..., 130., 269., 200.],\n",
       "       [ 21.,  34.,   2., ...,  71.,  42.,  26.]])"
      ]
     },
     "execution_count": 48,
     "metadata": {},
     "output_type": "execute_result"
    }
   ],
   "source": [
    "temp = loadmat('C:/Users/lan/Documents/repos/inter/plot/CirVar_area.mat')\n",
    "ori_list = np.arange(0, 180, 22.5)\n",
    "temp['dfof_tg_ori']"
   ]
  },
  {
   "cell_type": "code",
   "execution_count": 170,
   "metadata": {},
   "outputs": [
    {
     "name": "stderr",
     "output_type": "stream",
     "text": [
      "C:\\Users\\lan\\anaconda3\\lib\\site-packages\\astropy\\units\\quantity.py:477: RuntimeWarning: invalid value encountered in true_divide\n",
      "  result = super().__array_ufunc__(function, method, *arrays, **kwargs)\n"
     ]
    }
   ],
   "source": [
    "ncell = temp['dfof_tg_ori'].shape[0]\n",
    "nori = 8\n",
    "cirvar = np.pi * np.ones((ncell, 1))\n",
    "\n",
    "for icell in range(0, ncell):\n",
    "    pseudo = [] # pretend there is a dist of angles, to calculate circular variance\n",
    "    \n",
    "    for j in range(0, nori):\n",
    "        pseudo.append([ori_list[j]] * int(temp['dfof_tg_ori'][icell][j])) \n",
    "        pseudo_flat = [item for sublist in pseudo for item in sublist]\n",
    "        cell_data = np.asarray(pseudo_flat)*u.deg\n",
    "        cirvar[icell] = float(circvar(cell_data))"
   ]
  },
  {
   "cell_type": "code",
   "execution_count": 172,
   "metadata": {},
   "outputs": [
    {
     "data": {
      "text/plain": [
       "(163, 1)"
      ]
     },
     "execution_count": 172,
     "metadata": {},
     "output_type": "execute_result"
    }
   ],
   "source": [
    "cirvar.shape"
   ]
  },
  {
   "cell_type": "code",
   "execution_count": 174,
   "metadata": {},
   "outputs": [
    {
     "data": {
      "text/html": [
       "<div>\n",
       "<style scoped>\n",
       "    .dataframe tbody tr th:only-of-type {\n",
       "        vertical-align: middle;\n",
       "    }\n",
       "\n",
       "    .dataframe tbody tr th {\n",
       "        vertical-align: top;\n",
       "    }\n",
       "\n",
       "    .dataframe thead th {\n",
       "        text-align: right;\n",
       "    }\n",
       "</style>\n",
       "<table border=\"1\" class=\"dataframe\">\n",
       "  <thead>\n",
       "    <tr style=\"text-align: right;\">\n",
       "      <th></th>\n",
       "      <th>cirvar</th>\n",
       "      <th>area</th>\n",
       "    </tr>\n",
       "  </thead>\n",
       "  <tbody>\n",
       "    <tr>\n",
       "      <th>158</th>\n",
       "      <td>0.227349</td>\n",
       "      <td>V1</td>\n",
       "    </tr>\n",
       "    <tr>\n",
       "      <th>159</th>\n",
       "      <td>0.214398</td>\n",
       "      <td>V1</td>\n",
       "    </tr>\n",
       "    <tr>\n",
       "      <th>160</th>\n",
       "      <td>0.217707</td>\n",
       "      <td>V1</td>\n",
       "    </tr>\n",
       "    <tr>\n",
       "      <th>161</th>\n",
       "      <td>0.324340</td>\n",
       "      <td>V1</td>\n",
       "    </tr>\n",
       "    <tr>\n",
       "      <th>162</th>\n",
       "      <td>0.216299</td>\n",
       "      <td>LM</td>\n",
       "    </tr>\n",
       "  </tbody>\n",
       "</table>\n",
       "</div>"
      ],
      "text/plain": [
       "       cirvar area\n",
       "158  0.227349   V1\n",
       "159  0.214398   V1\n",
       "160  0.217707   V1\n",
       "161  0.324340   V1\n",
       "162  0.216299   LM"
      ]
     },
     "execution_count": 174,
     "metadata": {},
     "output_type": "execute_result"
    }
   ],
   "source": [
    "df2 = pd.DataFrame(cirvar, columns=['cirvar'])\n",
    "df2['area'] = temp['area_merge']\n",
    "df2['area'] = df['area'].replace(1, 'V1')\n",
    "df2['area'] = df['area'].replace(2, 'LM')\n",
    "df2['area'] = df['area'].replace(3, 'LI')\n",
    "df2.tail()"
   ]
  },
  {
   "cell_type": "code",
   "execution_count": 175,
   "metadata": {},
   "outputs": [
    {
     "data": {
      "text/html": [
       "<div>\n",
       "<style scoped>\n",
       "    .dataframe tbody tr th:only-of-type {\n",
       "        vertical-align: middle;\n",
       "    }\n",
       "\n",
       "    .dataframe tbody tr th {\n",
       "        vertical-align: top;\n",
       "    }\n",
       "\n",
       "    .dataframe thead tr th {\n",
       "        text-align: left;\n",
       "    }\n",
       "</style>\n",
       "<table border=\"1\" class=\"dataframe\">\n",
       "  <thead>\n",
       "    <tr>\n",
       "      <th></th>\n",
       "      <th>area</th>\n",
       "      <th colspan=\"8\" halign=\"left\">cirvar</th>\n",
       "    </tr>\n",
       "    <tr>\n",
       "      <th></th>\n",
       "      <th></th>\n",
       "      <th>count</th>\n",
       "      <th>mean</th>\n",
       "      <th>std</th>\n",
       "      <th>min</th>\n",
       "      <th>25%</th>\n",
       "      <th>50%</th>\n",
       "      <th>75%</th>\n",
       "      <th>max</th>\n",
       "    </tr>\n",
       "  </thead>\n",
       "  <tbody>\n",
       "    <tr>\n",
       "      <th>0</th>\n",
       "      <td>V1</td>\n",
       "      <td>127.0</td>\n",
       "      <td>0.259590</td>\n",
       "      <td>0.158499</td>\n",
       "      <td>0.019122</td>\n",
       "      <td>0.155170</td>\n",
       "      <td>0.220654</td>\n",
       "      <td>0.321424</td>\n",
       "      <td>0.740979</td>\n",
       "    </tr>\n",
       "    <tr>\n",
       "      <th>1</th>\n",
       "      <td>LM</td>\n",
       "      <td>26.0</td>\n",
       "      <td>0.262714</td>\n",
       "      <td>0.139670</td>\n",
       "      <td>0.082699</td>\n",
       "      <td>0.154470</td>\n",
       "      <td>0.242382</td>\n",
       "      <td>0.317231</td>\n",
       "      <td>0.604651</td>\n",
       "    </tr>\n",
       "    <tr>\n",
       "      <th>2</th>\n",
       "      <td>LI</td>\n",
       "      <td>10.0</td>\n",
       "      <td>0.172558</td>\n",
       "      <td>0.152244</td>\n",
       "      <td>0.064808</td>\n",
       "      <td>0.090716</td>\n",
       "      <td>0.127283</td>\n",
       "      <td>0.175689</td>\n",
       "      <td>0.579904</td>\n",
       "    </tr>\n",
       "  </tbody>\n",
       "</table>\n",
       "</div>"
      ],
      "text/plain": [
       "  area cirvar                                                              \\\n",
       "        count      mean       std       min       25%       50%       75%   \n",
       "0   V1  127.0  0.259590  0.158499  0.019122  0.155170  0.220654  0.321424   \n",
       "1   LM   26.0  0.262714  0.139670  0.082699  0.154470  0.242382  0.317231   \n",
       "2   LI   10.0  0.172558  0.152244  0.064808  0.090716  0.127283  0.175689   \n",
       "\n",
       "             \n",
       "        max  \n",
       "0  0.740979  \n",
       "1  0.604651  \n",
       "2  0.579904  "
      ]
     },
     "execution_count": 175,
     "metadata": {},
     "output_type": "execute_result"
    }
   ],
   "source": [
    "df2.groupby('area', sort=False).describe().reset_index()"
   ]
  },
  {
   "cell_type": "code",
   "execution_count": 177,
   "metadata": {},
   "outputs": [
    {
     "data": {
      "image/png": "[encoded data removed]",
      "text/plain": [
       "<Figure size 432x288 with 1 Axes>"
      ]
     },
     "metadata": {
      "needs_background": "light"
     },
     "output_type": "display_data"
    }
   ],
   "source": [
    "ax = sns.violinplot(x=\"area\", y=\"cirvar\", data=df2)"
   ]
  },
  {
   "cell_type": "code",
   "execution_count": 184,
   "metadata": {},
   "outputs": [
    {
     "data": {
      "text/html": [
       "<div>\n",
       "<style scoped>\n",
       "    .dataframe tbody tr th:only-of-type {\n",
       "        vertical-align: middle;\n",
       "    }\n",
       "\n",
       "    .dataframe tbody tr th {\n",
       "        vertical-align: top;\n",
       "    }\n",
       "\n",
       "    .dataframe thead tr th {\n",
       "        text-align: left;\n",
       "    }\n",
       "</style>\n",
       "<table border=\"1\" class=\"dataframe\">\n",
       "  <thead>\n",
       "    <tr>\n",
       "      <th></th>\n",
       "      <th>area</th>\n",
       "      <th colspan=\"8\" halign=\"left\">cir_converge</th>\n",
       "    </tr>\n",
       "    <tr>\n",
       "      <th></th>\n",
       "      <th></th>\n",
       "      <th>count</th>\n",
       "      <th>mean</th>\n",
       "      <th>std</th>\n",
       "      <th>min</th>\n",
       "      <th>25%</th>\n",
       "      <th>50%</th>\n",
       "      <th>75%</th>\n",
       "      <th>max</th>\n",
       "    </tr>\n",
       "  </thead>\n",
       "  <tbody>\n",
       "    <tr>\n",
       "      <th>0</th>\n",
       "      <td>V1</td>\n",
       "      <td>127.0</td>\n",
       "      <td>0.740410</td>\n",
       "      <td>0.158499</td>\n",
       "      <td>0.259021</td>\n",
       "      <td>0.678576</td>\n",
       "      <td>0.779346</td>\n",
       "      <td>0.844830</td>\n",
       "      <td>0.980878</td>\n",
       "    </tr>\n",
       "    <tr>\n",
       "      <th>1</th>\n",
       "      <td>LM</td>\n",
       "      <td>26.0</td>\n",
       "      <td>0.737286</td>\n",
       "      <td>0.139670</td>\n",
       "      <td>0.395349</td>\n",
       "      <td>0.682769</td>\n",
       "      <td>0.757618</td>\n",
       "      <td>0.845530</td>\n",
       "      <td>0.917301</td>\n",
       "    </tr>\n",
       "    <tr>\n",
       "      <th>2</th>\n",
       "      <td>LI</td>\n",
       "      <td>10.0</td>\n",
       "      <td>0.827442</td>\n",
       "      <td>0.152244</td>\n",
       "      <td>0.420096</td>\n",
       "      <td>0.824311</td>\n",
       "      <td>0.872717</td>\n",
       "      <td>0.909284</td>\n",
       "      <td>0.935192</td>\n",
       "    </tr>\n",
       "  </tbody>\n",
       "</table>\n",
       "</div>"
      ],
      "text/plain": [
       "  area cir_converge                                                    \\\n",
       "              count      mean       std       min       25%       50%   \n",
       "0   V1        127.0  0.740410  0.158499  0.259021  0.678576  0.779346   \n",
       "1   LM         26.0  0.737286  0.139670  0.395349  0.682769  0.757618   \n",
       "2   LI         10.0  0.827442  0.152244  0.420096  0.824311  0.872717   \n",
       "\n",
       "                       \n",
       "        75%       max  \n",
       "0  0.844830  0.980878  \n",
       "1  0.845530  0.917301  \n",
       "2  0.909284  0.935192  "
      ]
     },
     "execution_count": 184,
     "metadata": {},
     "output_type": "execute_result"
    }
   ],
   "source": [
    "df3 = pd.DataFrame(df2['area'], columns=['area'])\n",
    "df3['cir_converge'] = 1 - df2['cirvar']\n",
    "df3.groupby('area', sort=False).describe().reset_index()"
   ]
  },
  {
   "cell_type": "code",
   "execution_count": 186,
   "metadata": {},
   "outputs": [
    {
     "data": {
      "image/png": "[encoded data removed]",
      "text/plain": [
       "<Figure size 432x288 with 1 Axes>"
      ]
     },
     "metadata": {
      "needs_background": "light"
     },
     "output_type": "display_data"
    }
   ],
   "source": [
    "ax = sns.violinplot(x=\"area\", y=\"cir_converge\", data=df3)"
   ]
  },
  {
   "cell_type": "markdown",
   "metadata": {},
   "source": [
    "### Coefficient of variance by area"
   ]
  },
  {
   "cell_type": "code",
   "execution_count": 188,
   "metadata": {},
   "outputs": [
    {
     "data": {
      "text/html": [
       "<div>\n",
       "<style scoped>\n",
       "    .dataframe tbody tr th:only-of-type {\n",
       "        vertical-align: middle;\n",
       "    }\n",
       "\n",
       "    .dataframe tbody tr th {\n",
       "        vertical-align: top;\n",
       "    }\n",
       "\n",
       "    .dataframe thead th {\n",
       "        text-align: right;\n",
       "    }\n",
       "</style>\n",
       "<table border=\"1\" class=\"dataframe\">\n",
       "  <thead>\n",
       "    <tr style=\"text-align: right;\">\n",
       "      <th></th>\n",
       "      <th>coeff_var</th>\n",
       "      <th>area</th>\n",
       "    </tr>\n",
       "  </thead>\n",
       "  <tbody>\n",
       "    <tr>\n",
       "      <th>158</th>\n",
       "      <td>1.380920</td>\n",
       "      <td>V1</td>\n",
       "    </tr>\n",
       "    <tr>\n",
       "      <th>159</th>\n",
       "      <td>1.713989</td>\n",
       "      <td>V1</td>\n",
       "    </tr>\n",
       "    <tr>\n",
       "      <th>160</th>\n",
       "      <td>1.560342</td>\n",
       "      <td>V1</td>\n",
       "    </tr>\n",
       "    <tr>\n",
       "      <th>161</th>\n",
       "      <td>0.881934</td>\n",
       "      <td>V1</td>\n",
       "    </tr>\n",
       "    <tr>\n",
       "      <th>162</th>\n",
       "      <td>1.071561</td>\n",
       "      <td>LM</td>\n",
       "    </tr>\n",
       "  </tbody>\n",
       "</table>\n",
       "</div>"
      ],
      "text/plain": [
       "     coeff_var area\n",
       "158   1.380920   V1\n",
       "159   1.713989   V1\n",
       "160   1.560342   V1\n",
       "161   0.881934   V1\n",
       "162   1.071561   LM"
      ]
     },
     "execution_count": 188,
     "metadata": {},
     "output_type": "execute_result"
    }
   ],
   "source": [
    "temp = loadmat('C:/Users/lan/Documents/repos/inter/plot/CV_area_well_fit.mat')\n",
    "df4 = pd.DataFrame(temp['coeff_var'], columns=['coeff_var'])\n",
    "df4['area'] = temp['area_merge']\n",
    "df4['area'] = df4['area'].replace(1, 'V1')\n",
    "df4['area'] = df4['area'].replace(2, 'LM')\n",
    "df4['area'] = df4['area'].replace(3, 'LI')\n",
    "df4.tail()"
   ]
  },
  {
   "cell_type": "code",
   "execution_count": 189,
   "metadata": {},
   "outputs": [
    {
     "data": {
      "text/html": [
       "<div>\n",
       "<style scoped>\n",
       "    .dataframe tbody tr th:only-of-type {\n",
       "        vertical-align: middle;\n",
       "    }\n",
       "\n",
       "    .dataframe tbody tr th {\n",
       "        vertical-align: top;\n",
       "    }\n",
       "\n",
       "    .dataframe thead tr th {\n",
       "        text-align: left;\n",
       "    }\n",
       "</style>\n",
       "<table border=\"1\" class=\"dataframe\">\n",
       "  <thead>\n",
       "    <tr>\n",
       "      <th></th>\n",
       "      <th>area</th>\n",
       "      <th colspan=\"8\" halign=\"left\">coeff_var</th>\n",
       "    </tr>\n",
       "    <tr>\n",
       "      <th></th>\n",
       "      <th></th>\n",
       "      <th>count</th>\n",
       "      <th>mean</th>\n",
       "      <th>std</th>\n",
       "      <th>min</th>\n",
       "      <th>25%</th>\n",
       "      <th>50%</th>\n",
       "      <th>75%</th>\n",
       "      <th>max</th>\n",
       "    </tr>\n",
       "  </thead>\n",
       "  <tbody>\n",
       "    <tr>\n",
       "      <th>0</th>\n",
       "      <td>V1</td>\n",
       "      <td>127.0</td>\n",
       "      <td>1.236659</td>\n",
       "      <td>0.509785</td>\n",
       "      <td>0.427586</td>\n",
       "      <td>0.896022</td>\n",
       "      <td>1.122228</td>\n",
       "      <td>1.418747</td>\n",
       "      <td>3.221728</td>\n",
       "    </tr>\n",
       "    <tr>\n",
       "      <th>1</th>\n",
       "      <td>LM</td>\n",
       "      <td>26.0</td>\n",
       "      <td>1.078049</td>\n",
       "      <td>0.247304</td>\n",
       "      <td>0.582420</td>\n",
       "      <td>0.931758</td>\n",
       "      <td>1.089826</td>\n",
       "      <td>1.261921</td>\n",
       "      <td>1.491390</td>\n",
       "    </tr>\n",
       "    <tr>\n",
       "      <th>2</th>\n",
       "      <td>LI</td>\n",
       "      <td>10.0</td>\n",
       "      <td>1.546099</td>\n",
       "      <td>0.712729</td>\n",
       "      <td>0.543830</td>\n",
       "      <td>1.004850</td>\n",
       "      <td>1.422070</td>\n",
       "      <td>2.033735</td>\n",
       "      <td>2.863492</td>\n",
       "    </tr>\n",
       "  </tbody>\n",
       "</table>\n",
       "</div>"
      ],
      "text/plain": [
       "  area coeff_var                                                              \\\n",
       "           count      mean       std       min       25%       50%       75%   \n",
       "0   V1     127.0  1.236659  0.509785  0.427586  0.896022  1.122228  1.418747   \n",
       "1   LM      26.0  1.078049  0.247304  0.582420  0.931758  1.089826  1.261921   \n",
       "2   LI      10.0  1.546099  0.712729  0.543830  1.004850  1.422070  2.033735   \n",
       "\n",
       "             \n",
       "        max  \n",
       "0  3.221728  \n",
       "1  1.491390  \n",
       "2  2.863492  "
      ]
     },
     "execution_count": 189,
     "metadata": {},
     "output_type": "execute_result"
    }
   ],
   "source": [
    "df4.groupby('area', sort=False).describe().reset_index()"
   ]
  },
  {
   "cell_type": "code",
   "execution_count": 192,
   "metadata": {},
   "outputs": [
    {
     "data": {
      "image/png": "[encoded data removed]",
      "text/plain": [
       "<Figure size 432x288 with 1 Axes>"
      ]
     },
     "metadata": {
      "needs_background": "light"
     },
     "output_type": "display_data"
    }
   ],
   "source": [
    "ax = sns.violinplot(x=\"area\", y=\"coeff_var\", data=df4)"
   ]
  },
  {
   "cell_type": "code",
   "execution_count": 195,
   "metadata": {},
   "outputs": [
    {
     "data": {
      "text/html": [
       "<div>\n",
       "<style scoped>\n",
       "    .dataframe tbody tr th:only-of-type {\n",
       "        vertical-align: middle;\n",
       "    }\n",
       "\n",
       "    .dataframe tbody tr th {\n",
       "        vertical-align: top;\n",
       "    }\n",
       "\n",
       "    .dataframe thead th {\n",
       "        text-align: right;\n",
       "    }\n",
       "</style>\n",
       "<table border=\"1\" class=\"dataframe\">\n",
       "  <thead>\n",
       "    <tr style=\"text-align: right;\">\n",
       "      <th></th>\n",
       "      <th>CV</th>\n",
       "      <th>well_fit</th>\n",
       "      <th>area</th>\n",
       "    </tr>\n",
       "  </thead>\n",
       "  <tbody>\n",
       "    <tr>\n",
       "      <th>0</th>\n",
       "      <td>0.535121</td>\n",
       "      <td>1</td>\n",
       "      <td>V1</td>\n",
       "    </tr>\n",
       "    <tr>\n",
       "      <th>1</th>\n",
       "      <td>1.422472</td>\n",
       "      <td>1</td>\n",
       "      <td>V1</td>\n",
       "    </tr>\n",
       "    <tr>\n",
       "      <th>2</th>\n",
       "      <td>1.031213</td>\n",
       "      <td>1</td>\n",
       "      <td>V1</td>\n",
       "    </tr>\n",
       "    <tr>\n",
       "      <th>3</th>\n",
       "      <td>0.654318</td>\n",
       "      <td>1</td>\n",
       "      <td>V1</td>\n",
       "    </tr>\n",
       "    <tr>\n",
       "      <th>4</th>\n",
       "      <td>1.473593</td>\n",
       "      <td>1</td>\n",
       "      <td>V1</td>\n",
       "    </tr>\n",
       "  </tbody>\n",
       "</table>\n",
       "</div>"
      ],
      "text/plain": [
       "         CV  well_fit area\n",
       "0  0.535121         1   V1\n",
       "1  1.422472         1   V1\n",
       "2  1.031213         1   V1\n",
       "3  0.654318         1   V1\n",
       "4  1.473593         1   V1"
      ]
     },
     "execution_count": 195,
     "metadata": {},
     "output_type": "execute_result"
    }
   ],
   "source": [
    "temp = loadmat('C:/Users/lan/Documents/repos/inter/plot/CV_area.mat')\n",
    "df5 = pd.DataFrame(temp['CV'], columns=['CV'])\n",
    "df5['well_fit'] = temp['well_fit']\n",
    "df5['area'] = temp['area']\n",
    "\n",
    "df5['area'] = df5['area'].replace(1, 'V1')\n",
    "df5['area'] = df5['area'].replace(2, 'LM')\n",
    "df5['area'] = df5['area'].replace(3, 'LI')\n",
    "df5.head()"
   ]
  },
  {
   "cell_type": "code",
   "execution_count": 197,
   "metadata": {},
   "outputs": [
    {
     "data": {
      "text/html": [
       "<div>\n",
       "<style scoped>\n",
       "    .dataframe tbody tr th:only-of-type {\n",
       "        vertical-align: middle;\n",
       "    }\n",
       "\n",
       "    .dataframe tbody tr th {\n",
       "        vertical-align: top;\n",
       "    }\n",
       "\n",
       "    .dataframe thead tr th {\n",
       "        text-align: left;\n",
       "    }\n",
       "</style>\n",
       "<table border=\"1\" class=\"dataframe\">\n",
       "  <thead>\n",
       "    <tr>\n",
       "      <th></th>\n",
       "      <th>area</th>\n",
       "      <th colspan=\"8\" halign=\"left\">CV</th>\n",
       "      <th colspan=\"8\" halign=\"left\">well_fit</th>\n",
       "    </tr>\n",
       "    <tr>\n",
       "      <th></th>\n",
       "      <th></th>\n",
       "      <th>count</th>\n",
       "      <th>mean</th>\n",
       "      <th>std</th>\n",
       "      <th>min</th>\n",
       "      <th>25%</th>\n",
       "      <th>50%</th>\n",
       "      <th>75%</th>\n",
       "      <th>max</th>\n",
       "      <th>count</th>\n",
       "      <th>mean</th>\n",
       "      <th>std</th>\n",
       "      <th>min</th>\n",
       "      <th>25%</th>\n",
       "      <th>50%</th>\n",
       "      <th>75%</th>\n",
       "      <th>max</th>\n",
       "    </tr>\n",
       "  </thead>\n",
       "  <tbody>\n",
       "    <tr>\n",
       "      <th>0</th>\n",
       "      <td>V1</td>\n",
       "      <td>293.0</td>\n",
       "      <td>1.750137</td>\n",
       "      <td>1.772041</td>\n",
       "      <td>0.427586</td>\n",
       "      <td>1.026816</td>\n",
       "      <td>1.370924</td>\n",
       "      <td>1.939888</td>\n",
       "      <td>22.815658</td>\n",
       "      <td>293.0</td>\n",
       "      <td>0.433447</td>\n",
       "      <td>0.496399</td>\n",
       "      <td>0.0</td>\n",
       "      <td>0.0</td>\n",
       "      <td>0.0</td>\n",
       "      <td>1.0</td>\n",
       "      <td>1.0</td>\n",
       "    </tr>\n",
       "    <tr>\n",
       "      <th>1</th>\n",
       "      <td>LM</td>\n",
       "      <td>160.0</td>\n",
       "      <td>2.076209</td>\n",
       "      <td>1.641989</td>\n",
       "      <td>0.373075</td>\n",
       "      <td>1.133912</td>\n",
       "      <td>1.583869</td>\n",
       "      <td>2.379670</td>\n",
       "      <td>13.907149</td>\n",
       "      <td>160.0</td>\n",
       "      <td>0.162500</td>\n",
       "      <td>0.370067</td>\n",
       "      <td>0.0</td>\n",
       "      <td>0.0</td>\n",
       "      <td>0.0</td>\n",
       "      <td>0.0</td>\n",
       "      <td>1.0</td>\n",
       "    </tr>\n",
       "    <tr>\n",
       "      <th>2</th>\n",
       "      <td>LI</td>\n",
       "      <td>86.0</td>\n",
       "      <td>24.581564</td>\n",
       "      <td>211.500025</td>\n",
       "      <td>0.543830</td>\n",
       "      <td>1.062210</td>\n",
       "      <td>1.439483</td>\n",
       "      <td>2.140006</td>\n",
       "      <td>1963.122296</td>\n",
       "      <td>86.0</td>\n",
       "      <td>0.116279</td>\n",
       "      <td>0.322439</td>\n",
       "      <td>0.0</td>\n",
       "      <td>0.0</td>\n",
       "      <td>0.0</td>\n",
       "      <td>0.0</td>\n",
       "      <td>1.0</td>\n",
       "    </tr>\n",
       "  </tbody>\n",
       "</table>\n",
       "</div>"
      ],
      "text/plain": [
       "  area     CV                                                                 \\\n",
       "        count       mean         std       min       25%       50%       75%   \n",
       "0   V1  293.0   1.750137    1.772041  0.427586  1.026816  1.370924  1.939888   \n",
       "1   LM  160.0   2.076209    1.641989  0.373075  1.133912  1.583869  2.379670   \n",
       "2   LI   86.0  24.581564  211.500025  0.543830  1.062210  1.439483  2.140006   \n",
       "\n",
       "               well_fit                                               \n",
       "           max    count      mean       std  min  25%  50%  75%  max  \n",
       "0    22.815658    293.0  0.433447  0.496399  0.0  0.0  0.0  1.0  1.0  \n",
       "1    13.907149    160.0  0.162500  0.370067  0.0  0.0  0.0  0.0  1.0  \n",
       "2  1963.122296     86.0  0.116279  0.322439  0.0  0.0  0.0  0.0  1.0  "
      ]
     },
     "execution_count": 197,
     "metadata": {},
     "output_type": "execute_result"
    }
   ],
   "source": [
    "df5.groupby('area', sort=False).describe().reset_index()"
   ]
  },
  {
   "cell_type": "code",
   "execution_count": 212,
   "metadata": {},
   "outputs": [
    {
     "data": {
      "image/png": "[encoded data removed]",
      "text/plain": [
       "<Figure size 432x288 with 1 Axes>"
      ]
     },
     "metadata": {
      "needs_background": "light"
     },
     "output_type": "display_data"
    }
   ],
   "source": [
    "# plt.figure(figsize=(15, 10))\n",
    "ax = sns.violinplot(x=\"area\", y=\"CV\", hue=\"well_fit\",\n",
    "                    data=df5, palette=\"Set3\", split=True)"
   ]
  },
  {
   "cell_type": "code",
   "execution_count": 211,
   "metadata": {
    "scrolled": true
   },
   "outputs": [
    {
     "data": {
      "text/plain": [
       "[(-1.0, 5.0)]"
      ]
     },
     "execution_count": 211,
     "metadata": {},
     "output_type": "execute_result"
    },
    {
     "data": {
      "image/png": "[encoded data removed]",
      "text/plain": [
       "<Figure size 576x288 with 1 Axes>"
      ]
     },
     "metadata": {
      "needs_background": "light"
     },
     "output_type": "display_data"
    }
   ],
   "source": [
    "plt.figure(figsize=(8, 4))\n",
    "ax = sns.violinplot(x=\"area\", y=\"CV\", hue=\"well_fit\",\n",
    "                    data=df5, palette=\"Set3\", split=True)\n",
    "ax.set(ylim=(-1, 5))"
   ]
  },
  {
   "cell_type": "code",
   "execution_count": null,
   "metadata": {},
   "outputs": [],
   "source": []
  }
 ],
 "metadata": {
  "kernelspec": {
   "display_name": "Python 3",
   "language": "python",
   "name": "python3"
  },
  "language_info": {
   "codemirror_mode": {
    "name": "ipython",
    "version": 3
   },
   "file_extension": ".py",
   "mimetype": "text/x-python",
   "name": "python",
   "nbconvert_exporter": "python",
   "pygments_lexer": "ipython3",
   "version": "3.8.3"
  }
 },
 "nbformat": 4,
 "nbformat_minor": 4
}
