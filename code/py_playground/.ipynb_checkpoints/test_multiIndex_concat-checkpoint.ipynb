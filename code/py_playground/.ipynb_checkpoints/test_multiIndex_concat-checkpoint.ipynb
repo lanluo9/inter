{
 "cells": [
  {
   "cell_type": "code",
   "execution_count": 326,
   "metadata": {},
   "outputs": [],
   "source": [
    "import os\n",
    "import numpy as np\n",
    "import pandas as pd\n",
    "import scipy.io\n",
    "import seaborn as sns\n",
    "import matplotlib.pyplot as plt"
   ]
  },
  {
   "cell_type": "markdown",
   "metadata": {},
   "source": [
    "## Load data"
   ]
  },
  {
   "cell_type": "code",
   "execution_count": 365,
   "metadata": {},
   "outputs": [],
   "source": [
    "meta = pd.read_excel('C:/Users/lan/Documents/repos/inter/mat/adp_dataset_master.xlsx', index_col=None)\n",
    "meta = meta[meta.seg == 'segmented']\n",
    "meta = meta[['mouse','date','area']]"
   ]
  },
  {
   "cell_type": "code",
   "execution_count": 366,
   "metadata": {},
   "outputs": [
    {
     "data": {
      "text/plain": [
       "([97, 69, 53, 103, 39, 33, 93, 52],\n",
       " (539, 1),\n",
       " (539, 1),\n",
       " (539, 1),\n",
       " (539, 3),\n",
       " (539, 7, 3),\n",
       " (539, 1),\n",
       " (539, 8, 3),\n",
       " (539, 8, 3, 223))"
      ]
     },
     "execution_count": 366,
     "metadata": {},
     "output_type": "execute_result"
    }
   ],
   "source": [
    "nset = len(meta.index); ncell = []; nori = 8; nisi = 3; nframe_trial = 223\n",
    "dir_name = 'C:\\\\Users\\\\lan\\\\Documents\\\\repos\\\\inter\\\\mat\\\\'\n",
    "\n",
    "vis_ad = np.empty([0,1]); vis_tg = np.empty([0,1]); well_fit = np.empty([0,1])\n",
    "ori_pref = np.empty([0,nisi]); fit_param = np.empty([0,7,nisi])\n",
    "dfof_ad = np.empty([0,1]); dfof_tg = np.empty([0,nori,nisi])\n",
    "trace = np.empty([0,nori,nisi,nframe_trial])\n",
    "\n",
    "for iset in np.arange(nset):\n",
    "    dir_sub = str(meta.area[iset]) + '_i' + str(meta.mouse[iset]) + '_' + str(meta.date[iset])\n",
    "\n",
    "    cell_prop = scipy.io.loadmat(os.path.join(dir_name, dir_sub, 'cell_property_loose' + '.mat'))\n",
    "    dfof = scipy.io.loadmat(os.path.join(dir_name, dir_sub, 'dfof' + '.mat'))\n",
    "    trace_align = scipy.io.loadmat(os.path.join(dir_name, dir_sub, 'trace_aligned' + '.mat'))\n",
    "    fit_tuning = scipy.io.loadmat(os.path.join(dir_name, dir_sub, 'fit_tuning_isi3' + '.mat'))\n",
    "    \n",
    "    ncell.append(len(cell_prop['vis_cell_ad']))    \n",
    "    vis_ad = np.concatenate((vis_ad, cell_prop['vis_cell_ad']), axis=0)\n",
    "    vis_tg = np.concatenate((vis_tg, cell_prop['vis_cell_noad_tg']), axis=0)\n",
    "    well_fit = np.concatenate((well_fit, cell_prop['well_fit_cell']), axis=0)\n",
    "    \n",
    "    ori_pref = np.concatenate((ori_pref, cell_prop['ori_pref']), axis=0)\n",
    "    fit_param = np.concatenate((fit_param, fit_tuning['fit_param']), axis=0)\n",
    "\n",
    "    dfof_ad = np.concatenate((dfof_ad, dfof['dfof_ad']), axis=0)\n",
    "    dfof_tg = np.concatenate((dfof_tg, dfof['dfof_tg']), axis=0)\n",
    "    \n",
    "    trace_flat = np.empty([ncell[iset],nori,nisi,nframe_trial]);\n",
    "    for icell in np.arange(ncell[iset]):\n",
    "        for iori in np.arange(nori):\n",
    "            for iisi in np.arange(nisi):\n",
    "                trace_flat[icell][iori][iisi][:] = trace_align['trace_avg'][icell][iori][iisi].flatten()\n",
    "    trace = np.vstack((trace,trace_flat))\n",
    "\n",
    "ncell, vis_ad.shape, vis_tg.shape, well_fit.shape, ori_pref.shape, fit_param.shape, dfof_ad.shape, dfof_tg.shape, trace.shape"
   ]
  },
  {
   "cell_type": "code",
   "execution_count": 367,
   "metadata": {},
   "outputs": [
    {
     "data": {
      "text/html": [
       "<div>\n",
       "<style scoped>\n",
       "    .dataframe tbody tr th:only-of-type {\n",
       "        vertical-align: middle;\n",
       "    }\n",
       "\n",
       "    .dataframe tbody tr th {\n",
       "        vertical-align: top;\n",
       "    }\n",
       "\n",
       "    .dataframe thead th {\n",
       "        text-align: right;\n",
       "    }\n",
       "</style>\n",
       "<table border=\"1\" class=\"dataframe\">\n",
       "  <thead>\n",
       "    <tr style=\"text-align: right;\">\n",
       "      <th></th>\n",
       "      <th>mouse</th>\n",
       "      <th>date</th>\n",
       "      <th>area</th>\n",
       "      <th>ncell</th>\n",
       "    </tr>\n",
       "  </thead>\n",
       "  <tbody>\n",
       "    <tr>\n",
       "      <th>0</th>\n",
       "      <td>1322</td>\n",
       "      <td>200803</td>\n",
       "      <td>V1</td>\n",
       "      <td>97</td>\n",
       "    </tr>\n",
       "    <tr>\n",
       "      <th>1</th>\n",
       "      <td>1322</td>\n",
       "      <td>200804</td>\n",
       "      <td>LM</td>\n",
       "      <td>69</td>\n",
       "    </tr>\n",
       "    <tr>\n",
       "      <th>2</th>\n",
       "      <td>1322</td>\n",
       "      <td>200806</td>\n",
       "      <td>LI</td>\n",
       "      <td>53</td>\n",
       "    </tr>\n",
       "    <tr>\n",
       "      <th>3</th>\n",
       "      <td>1323</td>\n",
       "      <td>200720</td>\n",
       "      <td>V1</td>\n",
       "      <td>103</td>\n",
       "    </tr>\n",
       "    <tr>\n",
       "      <th>4</th>\n",
       "      <td>1323</td>\n",
       "      <td>200721</td>\n",
       "      <td>LM</td>\n",
       "      <td>39</td>\n",
       "    </tr>\n",
       "    <tr>\n",
       "      <th>5</th>\n",
       "      <td>1323</td>\n",
       "      <td>200723</td>\n",
       "      <td>LI</td>\n",
       "      <td>33</td>\n",
       "    </tr>\n",
       "    <tr>\n",
       "      <th>6</th>\n",
       "      <td>1324</td>\n",
       "      <td>200728</td>\n",
       "      <td>V1</td>\n",
       "      <td>93</td>\n",
       "    </tr>\n",
       "    <tr>\n",
       "      <th>7</th>\n",
       "      <td>1324</td>\n",
       "      <td>200729</td>\n",
       "      <td>LM</td>\n",
       "      <td>52</td>\n",
       "    </tr>\n",
       "  </tbody>\n",
       "</table>\n",
       "</div>"
      ],
      "text/plain": [
       "   mouse    date area  ncell\n",
       "0   1322  200803   V1     97\n",
       "1   1322  200804   LM     69\n",
       "2   1322  200806   LI     53\n",
       "3   1323  200720   V1    103\n",
       "4   1323  200721   LM     39\n",
       "5   1323  200723   LI     33\n",
       "6   1324  200728   V1     93\n",
       "7   1324  200729   LM     52"
      ]
     },
     "execution_count": 367,
     "metadata": {},
     "output_type": "execute_result"
    }
   ],
   "source": [
    "meta['ncell'] = ncell\n",
    "# meta = meta.replace({'area' : { 'V1':1, 'LM':2, 'LI':3 }})\n",
    "meta"
   ]
  },
  {
   "cell_type": "code",
   "execution_count": 369,
   "metadata": {},
   "outputs": [
    {
     "data": {
      "text/html": [
       "<div>\n",
       "<style scoped>\n",
       "    .dataframe tbody tr th:only-of-type {\n",
       "        vertical-align: middle;\n",
       "    }\n",
       "\n",
       "    .dataframe tbody tr th {\n",
       "        vertical-align: top;\n",
       "    }\n",
       "\n",
       "    .dataframe thead th {\n",
       "        text-align: right;\n",
       "    }\n",
       "</style>\n",
       "<table border=\"1\" class=\"dataframe\">\n",
       "  <thead>\n",
       "    <tr style=\"text-align: right;\">\n",
       "      <th></th>\n",
       "      <th>mouse</th>\n",
       "      <th>area</th>\n",
       "    </tr>\n",
       "  </thead>\n",
       "  <tbody>\n",
       "    <tr>\n",
       "      <th>0</th>\n",
       "      <td>1322</td>\n",
       "      <td>V1</td>\n",
       "    </tr>\n",
       "    <tr>\n",
       "      <th>1</th>\n",
       "      <td>1322</td>\n",
       "      <td>V1</td>\n",
       "    </tr>\n",
       "    <tr>\n",
       "      <th>2</th>\n",
       "      <td>1322</td>\n",
       "      <td>V1</td>\n",
       "    </tr>\n",
       "    <tr>\n",
       "      <th>3</th>\n",
       "      <td>1322</td>\n",
       "      <td>V1</td>\n",
       "    </tr>\n",
       "    <tr>\n",
       "      <th>4</th>\n",
       "      <td>1322</td>\n",
       "      <td>V1</td>\n",
       "    </tr>\n",
       "    <tr>\n",
       "      <th>...</th>\n",
       "      <td>...</td>\n",
       "      <td>...</td>\n",
       "    </tr>\n",
       "    <tr>\n",
       "      <th>534</th>\n",
       "      <td>1324</td>\n",
       "      <td>LM</td>\n",
       "    </tr>\n",
       "    <tr>\n",
       "      <th>535</th>\n",
       "      <td>1324</td>\n",
       "      <td>LM</td>\n",
       "    </tr>\n",
       "    <tr>\n",
       "      <th>536</th>\n",
       "      <td>1324</td>\n",
       "      <td>LM</td>\n",
       "    </tr>\n",
       "    <tr>\n",
       "      <th>537</th>\n",
       "      <td>1324</td>\n",
       "      <td>LM</td>\n",
       "    </tr>\n",
       "    <tr>\n",
       "      <th>538</th>\n",
       "      <td>1324</td>\n",
       "      <td>LM</td>\n",
       "    </tr>\n",
       "  </tbody>\n",
       "</table>\n",
       "<p>539 rows × 2 columns</p>\n",
       "</div>"
      ],
      "text/plain": [
       "     mouse area\n",
       "0     1322   V1\n",
       "1     1322   V1\n",
       "2     1322   V1\n",
       "3     1322   V1\n",
       "4     1322   V1\n",
       "..     ...  ...\n",
       "534   1324   LM\n",
       "535   1324   LM\n",
       "536   1324   LM\n",
       "537   1324   LM\n",
       "538   1324   LM\n",
       "\n",
       "[539 rows x 2 columns]"
      ]
     },
     "execution_count": 369,
     "metadata": {},
     "output_type": "execute_result"
    }
   ],
   "source": [
    "mouse_cell = [item for item, count in zip(meta.mouse, meta.ncell) for i in range(count)]\n",
    "area_cell = [item for item, count in zip(meta.area, meta.ncell) for i in range(count)]\n",
    "meta_cell = pd.DataFrame({'mouse': mouse_cell, 'area': area_cell})\n",
    "meta_cell"
   ]
  },
  {
   "cell_type": "markdown",
   "metadata": {},
   "source": [
    "## Adaptation magnitude"
   ]
  },
  {
   "cell_type": "markdown",
   "metadata": {},
   "source": [
    "adaptation mag = response to target ori==0 with adapter / response to adapter - 1  \n",
    "cell selection: vis_ad only, no dfof_ad thresholding"
   ]
  },
  {
   "cell_type": "code",
   "execution_count": 406,
   "metadata": {},
   "outputs": [
    {
     "data": {
      "text/html": [
       "<div>\n",
       "<style scoped>\n",
       "    .dataframe tbody tr th:only-of-type {\n",
       "        vertical-align: middle;\n",
       "    }\n",
       "\n",
       "    .dataframe tbody tr th {\n",
       "        vertical-align: top;\n",
       "    }\n",
       "\n",
       "    .dataframe thead th {\n",
       "        text-align: right;\n",
       "    }\n",
       "</style>\n",
       "<table border=\"1\" class=\"dataframe\">\n",
       "  <thead>\n",
       "    <tr style=\"text-align: right;\">\n",
       "      <th></th>\n",
       "      <th>index</th>\n",
       "      <th>mouse</th>\n",
       "      <th>area</th>\n",
       "      <th>isi</th>\n",
       "      <th>adp_mag</th>\n",
       "      <th>dfof_ad</th>\n",
       "      <th>vis_ad</th>\n",
       "    </tr>\n",
       "  </thead>\n",
       "  <tbody>\n",
       "    <tr>\n",
       "      <th>0</th>\n",
       "      <td>0</td>\n",
       "      <td>1322</td>\n",
       "      <td>V1</td>\n",
       "      <td>750</td>\n",
       "      <td>-0.239962</td>\n",
       "      <td>0.083296</td>\n",
       "      <td>1.0</td>\n",
       "    </tr>\n",
       "    <tr>\n",
       "      <th>1</th>\n",
       "      <td>1</td>\n",
       "      <td>1322</td>\n",
       "      <td>V1</td>\n",
       "      <td>750</td>\n",
       "      <td>-0.267440</td>\n",
       "      <td>0.079051</td>\n",
       "      <td>1.0</td>\n",
       "    </tr>\n",
       "    <tr>\n",
       "      <th>2</th>\n",
       "      <td>2</td>\n",
       "      <td>1322</td>\n",
       "      <td>V1</td>\n",
       "      <td>750</td>\n",
       "      <td>0.092123</td>\n",
       "      <td>0.089755</td>\n",
       "      <td>1.0</td>\n",
       "    </tr>\n",
       "    <tr>\n",
       "      <th>3</th>\n",
       "      <td>3</td>\n",
       "      <td>1322</td>\n",
       "      <td>V1</td>\n",
       "      <td>750</td>\n",
       "      <td>-0.258139</td>\n",
       "      <td>0.149961</td>\n",
       "      <td>1.0</td>\n",
       "    </tr>\n",
       "    <tr>\n",
       "      <th>4</th>\n",
       "      <td>4</td>\n",
       "      <td>1322</td>\n",
       "      <td>V1</td>\n",
       "      <td>750</td>\n",
       "      <td>-0.049561</td>\n",
       "      <td>0.242218</td>\n",
       "      <td>1.0</td>\n",
       "    </tr>\n",
       "    <tr>\n",
       "      <th>...</th>\n",
       "      <td>...</td>\n",
       "      <td>...</td>\n",
       "      <td>...</td>\n",
       "      <td>...</td>\n",
       "      <td>...</td>\n",
       "      <td>...</td>\n",
       "      <td>...</td>\n",
       "    </tr>\n",
       "    <tr>\n",
       "      <th>963</th>\n",
       "      <td>1072</td>\n",
       "      <td>1324</td>\n",
       "      <td>LM</td>\n",
       "      <td>250</td>\n",
       "      <td>-0.815490</td>\n",
       "      <td>0.010215</td>\n",
       "      <td>1.0</td>\n",
       "    </tr>\n",
       "    <tr>\n",
       "      <th>964</th>\n",
       "      <td>1073</td>\n",
       "      <td>1324</td>\n",
       "      <td>LM</td>\n",
       "      <td>250</td>\n",
       "      <td>-0.744829</td>\n",
       "      <td>0.040586</td>\n",
       "      <td>1.0</td>\n",
       "    </tr>\n",
       "    <tr>\n",
       "      <th>965</th>\n",
       "      <td>1074</td>\n",
       "      <td>1324</td>\n",
       "      <td>LM</td>\n",
       "      <td>250</td>\n",
       "      <td>-0.274517</td>\n",
       "      <td>0.037092</td>\n",
       "      <td>1.0</td>\n",
       "    </tr>\n",
       "    <tr>\n",
       "      <th>966</th>\n",
       "      <td>1076</td>\n",
       "      <td>1324</td>\n",
       "      <td>LM</td>\n",
       "      <td>250</td>\n",
       "      <td>-1.451877</td>\n",
       "      <td>0.035262</td>\n",
       "      <td>1.0</td>\n",
       "    </tr>\n",
       "    <tr>\n",
       "      <th>967</th>\n",
       "      <td>1077</td>\n",
       "      <td>1324</td>\n",
       "      <td>LM</td>\n",
       "      <td>250</td>\n",
       "      <td>0.107277</td>\n",
       "      <td>0.038123</td>\n",
       "      <td>1.0</td>\n",
       "    </tr>\n",
       "  </tbody>\n",
       "</table>\n",
       "<p>968 rows × 7 columns</p>\n",
       "</div>"
      ],
      "text/plain": [
       "     index  mouse area  isi   adp_mag   dfof_ad  vis_ad\n",
       "0        0   1322   V1  750 -0.239962  0.083296     1.0\n",
       "1        1   1322   V1  750 -0.267440  0.079051     1.0\n",
       "2        2   1322   V1  750  0.092123  0.089755     1.0\n",
       "3        3   1322   V1  750 -0.258139  0.149961     1.0\n",
       "4        4   1322   V1  750 -0.049561  0.242218     1.0\n",
       "..     ...    ...  ...  ...       ...       ...     ...\n",
       "963   1072   1324   LM  250 -0.815490  0.010215     1.0\n",
       "964   1073   1324   LM  250 -0.744829  0.040586     1.0\n",
       "965   1074   1324   LM  250 -0.274517  0.037092     1.0\n",
       "966   1076   1324   LM  250 -1.451877  0.035262     1.0\n",
       "967   1077   1324   LM  250  0.107277  0.038123     1.0\n",
       "\n",
       "[968 rows x 7 columns]"
      ]
     },
     "execution_count": 406,
     "metadata": {},
     "output_type": "execute_result"
    }
   ],
   "source": [
    "adp_mag = dfof_tg[:,0,[1,2]] / dfof_ad - 1\n",
    "\n",
    "meta_cell_750 = meta_cell.copy(); meta_cell_750['isi'] = 750\n",
    "meta_cell_250 = meta_cell.copy(); meta_cell_250['isi'] = 250\n",
    "meta_cell_isi = pd.concat([meta_cell_750, meta_cell_250], ignore_index=True)\n",
    "\n",
    "df_adp_mag = meta_cell_isi.copy()\n",
    "df_adp_mag['adp_mag'] = adp_mag.flatten('F')\n",
    "df_adp_mag['dfof_ad'] = np.concatenate((dfof_ad, dfof_ad), axis=0)\n",
    "\n",
    "df_adp_mag['vis_ad'] = np.concatenate((vis_ad, vis_ad), axis=0)\n",
    "df_adp_mag = df_adp_mag[ df_adp_mag['vis_ad'] == 1 ]\n",
    "df_adp_mag.reset_index()"
   ]
  },
  {
   "cell_type": "code",
   "execution_count": 408,
   "metadata": {},
   "outputs": [
    {
     "data": {
      "text/html": [
       "<div>\n",
       "<style scoped>\n",
       "    .dataframe tbody tr th:only-of-type {\n",
       "        vertical-align: middle;\n",
       "    }\n",
       "\n",
       "    .dataframe tbody tr th {\n",
       "        vertical-align: top;\n",
       "    }\n",
       "\n",
       "    .dataframe thead tr th {\n",
       "        text-align: left;\n",
       "    }\n",
       "\n",
       "    .dataframe thead tr:last-of-type th {\n",
       "        text-align: right;\n",
       "    }\n",
       "</style>\n",
       "<table border=\"1\" class=\"dataframe\">\n",
       "  <thead>\n",
       "    <tr>\n",
       "      <th></th>\n",
       "      <th></th>\n",
       "      <th colspan=\"8\" halign=\"left\">adp_mag</th>\n",
       "    </tr>\n",
       "    <tr>\n",
       "      <th></th>\n",
       "      <th></th>\n",
       "      <th>count</th>\n",
       "      <th>mean</th>\n",
       "      <th>std</th>\n",
       "      <th>min</th>\n",
       "      <th>25%</th>\n",
       "      <th>50%</th>\n",
       "      <th>75%</th>\n",
       "      <th>max</th>\n",
       "    </tr>\n",
       "    <tr>\n",
       "      <th>area</th>\n",
       "      <th>isi</th>\n",
       "      <th></th>\n",
       "      <th></th>\n",
       "      <th></th>\n",
       "      <th></th>\n",
       "      <th></th>\n",
       "      <th></th>\n",
       "      <th></th>\n",
       "      <th></th>\n",
       "    </tr>\n",
       "  </thead>\n",
       "  <tbody>\n",
       "    <tr>\n",
       "      <th rowspan=\"2\" valign=\"top\">V1</th>\n",
       "      <th>750</th>\n",
       "      <td>267.0</td>\n",
       "      <td>-0.180326</td>\n",
       "      <td>0.665569</td>\n",
       "      <td>-2.163029</td>\n",
       "      <td>-0.469887</td>\n",
       "      <td>-0.221775</td>\n",
       "      <td>0.077338</td>\n",
       "      <td>3.502958</td>\n",
       "    </tr>\n",
       "    <tr>\n",
       "      <th>250</th>\n",
       "      <td>267.0</td>\n",
       "      <td>-0.325477</td>\n",
       "      <td>0.616129</td>\n",
       "      <td>-3.004134</td>\n",
       "      <td>-0.654125</td>\n",
       "      <td>-0.378501</td>\n",
       "      <td>-0.058079</td>\n",
       "      <td>3.622513</td>\n",
       "    </tr>\n",
       "    <tr>\n",
       "      <th rowspan=\"2\" valign=\"top\">LM</th>\n",
       "      <th>750</th>\n",
       "      <td>141.0</td>\n",
       "      <td>-0.051040</td>\n",
       "      <td>0.598336</td>\n",
       "      <td>-1.923241</td>\n",
       "      <td>-0.409122</td>\n",
       "      <td>-0.033545</td>\n",
       "      <td>0.211504</td>\n",
       "      <td>2.132582</td>\n",
       "    </tr>\n",
       "    <tr>\n",
       "      <th>250</th>\n",
       "      <td>141.0</td>\n",
       "      <td>-0.648543</td>\n",
       "      <td>0.626268</td>\n",
       "      <td>-3.042202</td>\n",
       "      <td>-0.981837</td>\n",
       "      <td>-0.712494</td>\n",
       "      <td>-0.320640</td>\n",
       "      <td>1.490129</td>\n",
       "    </tr>\n",
       "    <tr>\n",
       "      <th rowspan=\"2\" valign=\"top\">LI</th>\n",
       "      <th>750</th>\n",
       "      <td>76.0</td>\n",
       "      <td>-0.291396</td>\n",
       "      <td>0.618888</td>\n",
       "      <td>-2.013799</td>\n",
       "      <td>-0.698398</td>\n",
       "      <td>-0.270519</td>\n",
       "      <td>0.103593</td>\n",
       "      <td>1.569319</td>\n",
       "    </tr>\n",
       "    <tr>\n",
       "      <th>250</th>\n",
       "      <td>76.0</td>\n",
       "      <td>-0.953516</td>\n",
       "      <td>0.612308</td>\n",
       "      <td>-2.862550</td>\n",
       "      <td>-1.238230</td>\n",
       "      <td>-0.989792</td>\n",
       "      <td>-0.658323</td>\n",
       "      <td>0.894041</td>\n",
       "    </tr>\n",
       "  </tbody>\n",
       "</table>\n",
       "</div>"
      ],
      "text/plain": [
       "         adp_mag                                                              \\\n",
       "           count      mean       std       min       25%       50%       75%   \n",
       "area isi                                                                       \n",
       "V1   750   267.0 -0.180326  0.665569 -2.163029 -0.469887 -0.221775  0.077338   \n",
       "     250   267.0 -0.325477  0.616129 -3.004134 -0.654125 -0.378501 -0.058079   \n",
       "LM   750   141.0 -0.051040  0.598336 -1.923241 -0.409122 -0.033545  0.211504   \n",
       "     250   141.0 -0.648543  0.626268 -3.042202 -0.981837 -0.712494 -0.320640   \n",
       "LI   750    76.0 -0.291396  0.618888 -2.013799 -0.698398 -0.270519  0.103593   \n",
       "     250    76.0 -0.953516  0.612308 -2.862550 -1.238230 -0.989792 -0.658323   \n",
       "\n",
       "                    \n",
       "               max  \n",
       "area isi            \n",
       "V1   750  3.502958  \n",
       "     250  3.622513  \n",
       "LM   750  2.132582  \n",
       "     250  1.490129  \n",
       "LI   750  1.569319  \n",
       "     250  0.894041  "
      ]
     },
     "execution_count": 408,
     "metadata": {},
     "output_type": "execute_result"
    }
   ],
   "source": [
    "df_adp_mag[['adp_mag','area','isi']].groupby(['area','isi'], sort=False).describe()"
   ]
  },
  {
   "cell_type": "code",
   "execution_count": 404,
   "metadata": {},
   "outputs": [
    {
     "data": {
      "image/png": "[encoded data removed]",
      "text/plain": [
       "<Figure size 576x360 with 1 Axes>"
      ]
     },
     "metadata": {},
     "output_type": "display_data"
    }
   ],
   "source": [
    "sns.set_style(\"whitegrid\")\n",
    "plt.figure(figsize=(8,5))\n",
    "sns.violinplot(data=df_adp_mag, x=\"area\", y=\"adp_mag\", hue=\"isi\",\n",
    "               split=True, inner=\"quart\", palette=\"Set3\")\n",
    "sns.despine(left=True)\n",
    "# plt.ylim([-7,7])\n",
    "plt.legend(bbox_to_anchor=(1.05, 1), loc=2, borderaxespad=0.);"
   ]
  },
  {
   "cell_type": "markdown",
   "metadata": {},
   "source": [
    "cell selection: vis_ad only, test dfof_ad thresholding"
   ]
  },
  {
   "cell_type": "code",
   "execution_count": 438,
   "metadata": {},
   "outputs": [
    {
     "data": {
      "text/plain": [
       "<Figure size 1080x648 with 0 Axes>"
      ]
     },
     "metadata": {},
     "output_type": "display_data"
    },
    {
     "data": {
      "image/png": "[encoded data removed]",
      "text/plain": [
       "<Figure size 432x288 with 2 Axes>"
      ]
     },
     "metadata": {},
     "output_type": "display_data"
    }
   ],
   "source": [
    "df_adp_mag_areacode = df_adp_mag.replace({'area' : { 'V1':1, 'LM':2, 'LI':3 }})\n",
    "plt.figure(figsize=(15,9))\n",
    "df_adp_mag_areacode.plot.scatter(x='dfof_ad', y='adp_mag', c='area', colormap='viridis');\n",
    "# locs, labels = xticks() \n",
    "# xticks(np.arange(0, 1, step=0.2));"
   ]
  },
  {
   "cell_type": "code",
   "execution_count": 441,
   "metadata": {},
   "outputs": [
    {
     "data": {
      "text/plain": [
       "array([1, 2, 3], dtype=int64)"
      ]
     },
     "execution_count": 441,
     "metadata": {},
     "output_type": "execute_result"
    }
   ],
   "source": [
    "df_adp_mag_areacode.area.unique()"
   ]
  },
  {
   "cell_type": "code",
   "execution_count": 442,
   "metadata": {},
   "outputs": [
    {
     "data": {
      "text/plain": [
       "<matplotlib.axes._subplots.AxesSubplot at 0xaf2dc3a3a0>"
      ]
     },
     "execution_count": 442,
     "metadata": {},
     "output_type": "execute_result"
    },
    {
     "data": {
      "image/png": "[encoded data removed]",
      "text/plain": [
       "<Figure size 432x288 with 1 Axes>"
      ]
     },
     "metadata": {},
     "output_type": "display_data"
    }
   ],
   "source": [
    "sns.scatterplot(data=df_adp_mag, x=\"dfof_ad\", y=\"adp_mag\", hue=\"area\", style=\"isi\")\n"
   ]
  },
  {
   "cell_type": "code",
   "execution_count": 417,
   "metadata": {},
   "outputs": [
    {
     "data": {
      "image/png": "[encoded data removed]",
      "text/plain": [
       "<Figure size 432x288 with 2 Axes>"
      ]
     },
     "metadata": {},
     "output_type": "display_data"
    }
   ],
   "source": [
    "df_adp_mag.plot.scatter(x='dfof_ad', y='adp_mag', c='isi', colormap='viridis');"
   ]
  }
 ],
 "metadata": {
  "kernelspec": {
   "display_name": "Python 3",
   "language": "python",
   "name": "python3"
  },
  "language_info": {
   "codemirror_mode": {
    "name": "ipython",
    "version": 3
   },
   "file_extension": ".py",
   "mimetype": "text/x-python",
   "name": "python",
   "nbconvert_exporter": "python",
   "pygments_lexer": "ipython3",
   "version": "3.8.3"
  }
 },
 "nbformat": 4,
 "nbformat_minor": 4
}
