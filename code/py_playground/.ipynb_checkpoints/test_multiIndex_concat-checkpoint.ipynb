{
 "cells": [
  {
   "cell_type": "code",
   "execution_count": 37,
   "metadata": {},
   "outputs": [],
   "source": [
    "import os\n",
    "import numpy as np\n",
    "import pandas as pd\n",
    "import scipy.io"
   ]
  },
  {
   "cell_type": "code",
   "execution_count": 286,
   "metadata": {},
   "outputs": [],
   "source": [
    "meta = pd.read_excel('C:/Users/lan/Documents/repos/inter/mat/adp_dataset_master.xlsx', index_col=None)\n",
    "meta = meta[meta.seg == 'segmented']\n",
    "meta = meta[['mouse','date','area']]"
   ]
  },
  {
   "cell_type": "code",
   "execution_count": 272,
   "metadata": {},
   "outputs": [
    {
     "data": {
      "text/plain": [
       "([97, 69, 53, 103, 39, 33, 93, 52],\n",
       " (539, 1),\n",
       " (539, 1),\n",
       " (539, 1),\n",
       " (539, 3),\n",
       " (539, 7, 3),\n",
       " (539, 1),\n",
       " (539, 8, 3),\n",
       " (539, 8, 3, 223))"
      ]
     },
     "execution_count": 272,
     "metadata": {},
     "output_type": "execute_result"
    }
   ],
   "source": [
    "nset = len(meta.index); ncell = []; nori = 8; nisi = 3; nframe_trial = 223\n",
    "dir_name = 'C:\\\\Users\\\\lan\\\\Documents\\\\repos\\\\inter\\\\mat\\\\'\n",
    "\n",
    "vis_ad = np.empty([0,1]); vis_tg = np.empty([0,1]); well_fit = np.empty([0,1])\n",
    "ori_pref = np.empty([0,nisi]); fit_param = np.empty([0,7,nisi])\n",
    "dfof_ad = np.empty([0,1]); dfof_tg = np.empty([0,nori,nisi])\n",
    "trace = np.empty([0,nori,nisi,nframe_trial])\n",
    "\n",
    "for iset in np.arange(nset):\n",
    "    dir_sub = str(meta.area[iset]) + '_i' + str(meta.mouse[iset]) + '_' + str(meta.date[iset])\n",
    "\n",
    "    cell_prop = scipy.io.loadmat(os.path.join(dir_name, dir_sub, 'cell_property_loose' + '.mat'))\n",
    "    dfof = scipy.io.loadmat(os.path.join(dir_name, dir_sub, 'dfof' + '.mat'))\n",
    "    trace_align = scipy.io.loadmat(os.path.join(dir_name, dir_sub, 'trace_aligned' + '.mat'))\n",
    "    fit_tuning = scipy.io.loadmat(os.path.join(dir_name, dir_sub, 'fit_tuning_isi3' + '.mat'))\n",
    "    \n",
    "    ncell.append(len(cell_prop['vis_cell_ad']))    \n",
    "    vis_ad = np.concatenate((vis_ad, cell_prop['vis_cell_ad']), axis=0)\n",
    "    vis_tg = np.concatenate((vis_tg, cell_prop['vis_cell_noad_tg']), axis=0)\n",
    "    well_fit = np.concatenate((well_fit, cell_prop['well_fit_cell']), axis=0)\n",
    "    \n",
    "    ori_pref = np.concatenate((ori_pref, cell_prop['ori_pref']), axis=0)\n",
    "    fit_param = np.concatenate((fit_param, fit_tuning['fit_param']), axis=0)\n",
    "\n",
    "    dfof_ad = np.concatenate((dfof_ad, dfof['dfof_ad']), axis=0)\n",
    "    dfof_tg = np.concatenate((dfof_tg, dfof['dfof_tg']), axis=0)\n",
    "    \n",
    "    trace_flat = np.empty([ncell[iset],nori,nisi,nframe_trial]);\n",
    "    for icell in np.arange(ncell[iset]):\n",
    "        for iori in np.arange(nori):\n",
    "            for iisi in np.arange(nisi):\n",
    "                trace_flat[icell][iori][iisi][:] = trace_align['trace_avg'][icell][iori][iisi].flatten()\n",
    "    trace = np.vstack((trace,trace_flat))\n",
    "\n",
    "ncell, vis_ad.shape, vis_tg.shape, well_fit.shape, ori_pref.shape, fit_param.shape, dfof_ad.shape, dfof_tg.shape, trace.shape"
   ]
  },
  {
   "cell_type": "code",
   "execution_count": 287,
   "metadata": {},
   "outputs": [
    {
     "data": {
      "text/html": [
       "<div>\n",
       "<style scoped>\n",
       "    .dataframe tbody tr th:only-of-type {\n",
       "        vertical-align: middle;\n",
       "    }\n",
       "\n",
       "    .dataframe tbody tr th {\n",
       "        vertical-align: top;\n",
       "    }\n",
       "\n",
       "    .dataframe thead th {\n",
       "        text-align: right;\n",
       "    }\n",
       "</style>\n",
       "<table border=\"1\" class=\"dataframe\">\n",
       "  <thead>\n",
       "    <tr style=\"text-align: right;\">\n",
       "      <th></th>\n",
       "      <th>mouse</th>\n",
       "      <th>date</th>\n",
       "      <th>area</th>\n",
       "      <th>ncell</th>\n",
       "    </tr>\n",
       "  </thead>\n",
       "  <tbody>\n",
       "    <tr>\n",
       "      <th>0</th>\n",
       "      <td>1322</td>\n",
       "      <td>200803</td>\n",
       "      <td>1</td>\n",
       "      <td>97</td>\n",
       "    </tr>\n",
       "    <tr>\n",
       "      <th>1</th>\n",
       "      <td>1322</td>\n",
       "      <td>200804</td>\n",
       "      <td>2</td>\n",
       "      <td>69</td>\n",
       "    </tr>\n",
       "    <tr>\n",
       "      <th>2</th>\n",
       "      <td>1322</td>\n",
       "      <td>200806</td>\n",
       "      <td>3</td>\n",
       "      <td>53</td>\n",
       "    </tr>\n",
       "    <tr>\n",
       "      <th>3</th>\n",
       "      <td>1323</td>\n",
       "      <td>200720</td>\n",
       "      <td>1</td>\n",
       "      <td>103</td>\n",
       "    </tr>\n",
       "    <tr>\n",
       "      <th>4</th>\n",
       "      <td>1323</td>\n",
       "      <td>200721</td>\n",
       "      <td>2</td>\n",
       "      <td>39</td>\n",
       "    </tr>\n",
       "    <tr>\n",
       "      <th>5</th>\n",
       "      <td>1323</td>\n",
       "      <td>200723</td>\n",
       "      <td>3</td>\n",
       "      <td>33</td>\n",
       "    </tr>\n",
       "    <tr>\n",
       "      <th>6</th>\n",
       "      <td>1324</td>\n",
       "      <td>200728</td>\n",
       "      <td>1</td>\n",
       "      <td>93</td>\n",
       "    </tr>\n",
       "    <tr>\n",
       "      <th>7</th>\n",
       "      <td>1324</td>\n",
       "      <td>200729</td>\n",
       "      <td>2</td>\n",
       "      <td>52</td>\n",
       "    </tr>\n",
       "  </tbody>\n",
       "</table>\n",
       "</div>"
      ],
      "text/plain": [
       "   mouse    date  area  ncell\n",
       "0   1322  200803     1     97\n",
       "1   1322  200804     2     69\n",
       "2   1322  200806     3     53\n",
       "3   1323  200720     1    103\n",
       "4   1323  200721     2     39\n",
       "5   1323  200723     3     33\n",
       "6   1324  200728     1     93\n",
       "7   1324  200729     2     52"
      ]
     },
     "execution_count": 287,
     "metadata": {},
     "output_type": "execute_result"
    }
   ],
   "source": [
    "meta['ncell'] = ncell\n",
    "meta = meta.replace({'area' : { 'V1':1, 'LM':2, 'LI':3 }})\n",
    "meta"
   ]
  },
  {
   "cell_type": "code",
   "execution_count": null,
   "metadata": {},
   "outputs": [],
   "source": []
  }
 ],
 "metadata": {
  "kernelspec": {
   "display_name": "Python 3",
   "language": "python",
   "name": "python3"
  },
  "language_info": {
   "codemirror_mode": {
    "name": "ipython",
    "version": 3
   },
   "file_extension": ".py",
   "mimetype": "text/x-python",
   "name": "python",
   "nbconvert_exporter": "python",
   "pygments_lexer": "ipython3",
   "version": "3.8.3"
  }
 },
 "nbformat": 4,
 "nbformat_minor": 4
}
