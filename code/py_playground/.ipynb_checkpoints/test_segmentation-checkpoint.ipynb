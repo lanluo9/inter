{
 "cells": [
  {
   "cell_type": "code",
   "execution_count": 1,
   "metadata": {},
   "outputs": [
    {
     "data": {
      "text/plain": [
       "'C:\\\\Users\\\\lan\\\\Documents\\\\repos\\\\inter\\\\code\\\\py_playground'"
      ]
     },
     "execution_count": 1,
     "metadata": {},
     "output_type": "execute_result"
    }
   ],
   "source": [
    "pwd"
   ]
  },
  {
   "cell_type": "code",
   "execution_count": 2,
   "metadata": {},
   "outputs": [],
   "source": [
    "# cd Z:\\All_Staff\\home\\lan\\Data\\2P_images\\i1322\\200803\\002\n",
    "# pwd"
   ]
  },
  {
   "cell_type": "code",
   "execution_count": 3,
   "metadata": {},
   "outputs": [
    {
     "data": {
      "text/plain": [
       "{'suite2p_version': '0.9.3.dev9+g17501ef',\n",
       " 'look_one_level_down': False,\n",
       " 'fast_disk': [],\n",
       " 'delete_bin': False,\n",
       " 'mesoscan': False,\n",
       " 'bruker': False,\n",
       " 'h5py': [],\n",
       " 'h5py_key': 'data',\n",
       " 'save_path0': [],\n",
       " 'save_folder': [],\n",
       " 'subfolders': [],\n",
       " 'move_bin': False,\n",
       " 'nplanes': 1,\n",
       " 'nchannels': 1,\n",
       " 'functional_chan': 1,\n",
       " 'tau': 1.0,\n",
       " 'fs': 10.0,\n",
       " 'force_sktiff': False,\n",
       " 'frames_include': -1,\n",
       " 'multiplane_parallel': False,\n",
       " 'preclassify': 0.0,\n",
       " 'save_mat': False,\n",
       " 'save_NWB': False,\n",
       " 'combined': True,\n",
       " 'aspect': 1.0,\n",
       " 'do_bidiphase': False,\n",
       " 'bidiphase': 0,\n",
       " 'bidi_corrected': False,\n",
       " 'do_registration': 1,\n",
       " 'two_step_registration': False,\n",
       " 'keep_movie_raw': False,\n",
       " 'nimg_init': 300,\n",
       " 'batch_size': 500,\n",
       " 'maxregshift': 0.1,\n",
       " 'align_by_chan': 1,\n",
       " 'reg_tif': False,\n",
       " 'reg_tif_chan2': False,\n",
       " 'subpixel': 10,\n",
       " 'smooth_sigma_time': 0,\n",
       " 'smooth_sigma': 1.15,\n",
       " 'th_badframes': 1.0,\n",
       " 'pad_fft': False,\n",
       " 'nonrigid': True,\n",
       " 'block_size': [128, 128],\n",
       " 'snr_thresh': 1.2,\n",
       " 'maxregshiftNR': 5,\n",
       " '1Preg': False,\n",
       " 'spatial_hp': 42,\n",
       " 'spatial_hp_reg': 42,\n",
       " 'spatial_hp_detect': 25,\n",
       " 'pre_smooth': 0,\n",
       " 'spatial_taper': 40,\n",
       " 'roidetect': True,\n",
       " 'spikedetect': True,\n",
       " 'sparse_mode': True,\n",
       " 'diameter': 12,\n",
       " 'spatial_scale': 0,\n",
       " 'connected': True,\n",
       " 'nbinned': 5000,\n",
       " 'max_iterations': 20,\n",
       " 'threshold_scaling': 1.0,\n",
       " 'max_overlap': 0.75,\n",
       " 'high_pass': 100,\n",
       " 'use_builtin_classifier': False,\n",
       " 'inner_neuropil_radius': 2,\n",
       " 'min_neuropil_pixels': 350,\n",
       " 'allow_overlap': False,\n",
       " 'chan2_thres': 0.65,\n",
       " 'baseline': 'maximin',\n",
       " 'win_baseline': 60.0,\n",
       " 'sig_baseline': 10.0,\n",
       " 'prctile_baseline': 8.0,\n",
       " 'neucoeff': 0.7}"
      ]
     },
     "execution_count": 3,
     "metadata": {},
     "output_type": "execute_result"
    }
   ],
   "source": [
    "import numpy as np\n",
    "import sys\n",
    "# # option to import from github folder\n",
    "sys.path.insert(0, 'C:/Users/lan/Documents/repos/suite2p')\n",
    "import suite2p\n",
    "from suite2p import run_s2p, default_ops\n",
    "ops = default_ops() # populates ops with the default options"
   ]
  },
  {
   "cell_type": "code",
   "execution_count": 6,
   "metadata": {},
   "outputs": [
    {
     "data": {
      "text/plain": [
       "{'suite2p_version': '0.9.3.dev9+g17501ef',\n",
       " 'look_one_level_down': False,\n",
       " 'fast_disk': [],\n",
       " 'delete_bin': False,\n",
       " 'mesoscan': False,\n",
       " 'bruker': False,\n",
       " 'h5py': [],\n",
       " 'h5py_key': 'data',\n",
       " 'save_path0': 'C:/Users/lan/Documents/repos/inter/code/py_playground',\n",
       " 'save_folder': [],\n",
       " 'subfolders': [],\n",
       " 'move_bin': False,\n",
       " 'nplanes': 1,\n",
       " 'nchannels': 1,\n",
       " 'functional_chan': 1,\n",
       " 'tau': 1.0,\n",
       " 'fs': 10.0,\n",
       " 'force_sktiff': False,\n",
       " 'frames_include': -1,\n",
       " 'multiplane_parallel': False,\n",
       " 'preclassify': 0.0,\n",
       " 'save_mat': False,\n",
       " 'save_NWB': False,\n",
       " 'combined': True,\n",
       " 'aspect': 1.0,\n",
       " 'do_bidiphase': False,\n",
       " 'bidiphase': 0,\n",
       " 'bidi_corrected': False,\n",
       " 'do_registration': 1,\n",
       " 'two_step_registration': False,\n",
       " 'keep_movie_raw': False,\n",
       " 'nimg_init': 300,\n",
       " 'batch_size': 500,\n",
       " 'maxregshift': 0.1,\n",
       " 'align_by_chan': 1,\n",
       " 'reg_tif': False,\n",
       " 'reg_tif_chan2': False,\n",
       " 'subpixel': 10,\n",
       " 'smooth_sigma_time': 0,\n",
       " 'smooth_sigma': 1.15,\n",
       " 'th_badframes': 1.0,\n",
       " 'pad_fft': False,\n",
       " 'nonrigid': True,\n",
       " 'block_size': [128, 128],\n",
       " 'snr_thresh': 1.2,\n",
       " 'maxregshiftNR': 5,\n",
       " '1Preg': False,\n",
       " 'spatial_hp': 42,\n",
       " 'spatial_hp_reg': 42,\n",
       " 'spatial_hp_detect': 25,\n",
       " 'pre_smooth': 0,\n",
       " 'spatial_taper': 40,\n",
       " 'roidetect': True,\n",
       " 'spikedetect': True,\n",
       " 'sparse_mode': True,\n",
       " 'diameter': 12,\n",
       " 'spatial_scale': 0,\n",
       " 'connected': True,\n",
       " 'nbinned': 5000,\n",
       " 'max_iterations': 20,\n",
       " 'threshold_scaling': 1.0,\n",
       " 'max_overlap': 0.75,\n",
       " 'high_pass': 100,\n",
       " 'use_builtin_classifier': False,\n",
       " 'inner_neuropil_radius': 2,\n",
       " 'min_neuropil_pixels': 350,\n",
       " 'allow_overlap': False,\n",
       " 'chan2_thres': 0.65,\n",
       " 'baseline': 'maximin',\n",
       " 'win_baseline': 60.0,\n",
       " 'sig_baseline': 10.0,\n",
       " 'prctile_baseline': 8.0,\n",
       " 'neucoeff': 0.7,\n",
       " 'input_format': 'sbx'}"
      ]
     },
     "execution_count": 6,
     "metadata": {},
     "output_type": "execute_result"
    }
   ],
   "source": [
    "ops['input_format'] = \"sbx\"\n",
    "ops['save_path0'] = \"C:/Users/lan/Documents/repos/inter/code/py_playground\"\n",
    "ops"
   ]
  },
  {
   "cell_type": "code",
   "execution_count": 10,
   "metadata": {},
   "outputs": [
    {
     "name": "stdout",
     "output_type": "stream",
     "text": [
      "\\\\duhs-user-nc1.dhe.duke.edu\\dusom_glickfeldlab\\All_Staff\\home\\lan\\Data\\2P_images\\i1322\\200803\\002\n"
     ]
    }
   ],
   "source": [
    "cd //duhs-user-nc1.dhe.duke.edu/dusom_glickfeldlab/All_Staff/home/lan/Data/2P_images/i1322/200803/002/"
   ]
  },
  {
   "cell_type": "code",
   "execution_count": 11,
   "metadata": {},
   "outputs": [
    {
     "name": "stdout",
     "output_type": "stream",
     "text": [
      " Volume in drive Y is dusom_glickfeldlab\n",
      " Volume Serial Number is 009A-9A03\n",
      "\n",
      " Directory of Y:\\All_Staff\\home\\lan\\Data\\2P_images\\i1322\\200803\\002\n",
      "\n",
      "08/03/2020  11:47 AM    <DIR>          .\n",
      "10/02/2020  10:36 AM    <DIR>          ..\n",
      "08/03/2020  11:25 AM       266,784,000 002_000_000.ephys\n",
      "08/03/2020  11:28 AM             1,151 002_000_000.mat\n",
      "08/03/2020  11:25 AM    42,028,800,000 002_000_000.sbx\n",
      "08/03/2020  11:28 AM     1,218,623,376 002_000_000_eye.mat\n",
      "08/03/2020  11:25 AM           929,860 002_000_000_realtime.mat\n",
      "               5 File(s) 43,515,138,387 bytes\n",
      "               2 Dir(s)  116,325,279,498,240 bytes free\n"
     ]
    }
   ],
   "source": [
    "ls"
   ]
  },
  {
   "cell_type": "code",
   "execution_count": 12,
   "metadata": {},
   "outputs": [
    {
     "name": "stdout",
     "output_type": "stream",
     "text": [
      "{'h5py': '//duhs-user-nc1.dhe.duke.edu/dusom_glickfeldlab/All_Staff/home/lan/Data/2P_images/i1322/200803/002/002_000_000.sbx', 'h5py_key': ['data'], 'look_one_level_down': False, 'data_path': []}\n",
      "h5\n"
     ]
    },
    {
     "ename": "OSError",
     "evalue": "Unable to open file (file signature not found)",
     "output_type": "error",
     "traceback": [
      "\u001b[1;31m---------------------------------------------------------------------------\u001b[0m",
      "\u001b[1;31mOSError\u001b[0m                                   Traceback (most recent call last)",
      "\u001b[1;32m<ipython-input-12-f2fc1d7bac77>\u001b[0m in \u001b[0;36m<module>\u001b[1;34m\u001b[0m\n\u001b[0;32m     12\u001b[0m     }\n\u001b[0;32m     13\u001b[0m \u001b[1;33m\u001b[0m\u001b[0m\n\u001b[1;32m---> 14\u001b[1;33m \u001b[0mopsEnd\u001b[0m \u001b[1;33m=\u001b[0m \u001b[0mrun_s2p\u001b[0m\u001b[1;33m(\u001b[0m\u001b[0mops\u001b[0m\u001b[1;33m=\u001b[0m\u001b[0mops\u001b[0m\u001b[1;33m,\u001b[0m \u001b[0mdb\u001b[0m\u001b[1;33m=\u001b[0m\u001b[0mdb\u001b[0m\u001b[1;33m)\u001b[0m\u001b[1;33m\u001b[0m\u001b[1;33m\u001b[0m\u001b[0m\n\u001b[0m",
      "\u001b[1;32mC:/Users/lan/Documents/repos/suite2p\\suite2p\\run_s2p.py\u001b[0m in \u001b[0;36mrun_s2p\u001b[1;34m(ops, db)\u001b[0m\n\u001b[0;32m    370\u001b[0m         }\n\u001b[0;32m    371\u001b[0m         \u001b[1;32mif\u001b[0m \u001b[0mops\u001b[0m\u001b[1;33m[\u001b[0m\u001b[1;34m'input_format'\u001b[0m\u001b[1;33m]\u001b[0m \u001b[1;32min\u001b[0m \u001b[0mconvert_funs\u001b[0m\u001b[1;33m:\u001b[0m\u001b[1;33m\u001b[0m\u001b[1;33m\u001b[0m\u001b[0m\n\u001b[1;32m--> 372\u001b[1;33m             \u001b[0mops0\u001b[0m \u001b[1;33m=\u001b[0m \u001b[0mconvert_funs\u001b[0m\u001b[1;33m[\u001b[0m\u001b[0mops\u001b[0m\u001b[1;33m[\u001b[0m\u001b[1;34m'input_format'\u001b[0m\u001b[1;33m]\u001b[0m\u001b[1;33m]\u001b[0m\u001b[1;33m(\u001b[0m\u001b[0mops\u001b[0m\u001b[1;33m.\u001b[0m\u001b[0mcopy\u001b[0m\u001b[1;33m(\u001b[0m\u001b[1;33m)\u001b[0m\u001b[1;33m)\u001b[0m\u001b[1;33m\u001b[0m\u001b[1;33m\u001b[0m\u001b[0m\n\u001b[0m\u001b[0;32m    373\u001b[0m             \u001b[1;32mif\u001b[0m \u001b[0misinstance\u001b[0m\u001b[1;33m(\u001b[0m\u001b[0mops\u001b[0m\u001b[1;33m,\u001b[0m \u001b[0mlist\u001b[0m\u001b[1;33m)\u001b[0m\u001b[1;33m:\u001b[0m\u001b[1;33m\u001b[0m\u001b[1;33m\u001b[0m\u001b[0m\n\u001b[0;32m    374\u001b[0m                 \u001b[0mops0\u001b[0m \u001b[1;33m=\u001b[0m \u001b[0mops0\u001b[0m\u001b[1;33m[\u001b[0m\u001b[1;36m0\u001b[0m\u001b[1;33m]\u001b[0m\u001b[1;33m\u001b[0m\u001b[1;33m\u001b[0m\u001b[0m\n",
      "\u001b[1;32mC:/Users/lan/Documents/repos/suite2p\\suite2p\\io\\h5.py\u001b[0m in \u001b[0;36mh5py_to_binary\u001b[1;34m(ops)\u001b[0m\n\u001b[0;32m     42\u001b[0m \u001b[1;33m\u001b[0m\u001b[0m\n\u001b[0;32m     43\u001b[0m     \u001b[1;32mfor\u001b[0m \u001b[0mih5\u001b[0m\u001b[1;33m,\u001b[0m\u001b[0mh5\u001b[0m \u001b[1;32min\u001b[0m \u001b[0menumerate\u001b[0m\u001b[1;33m(\u001b[0m\u001b[0mh5list\u001b[0m\u001b[1;33m)\u001b[0m\u001b[1;33m:\u001b[0m\u001b[1;33m\u001b[0m\u001b[1;33m\u001b[0m\u001b[0m\n\u001b[1;32m---> 44\u001b[1;33m         \u001b[1;32mwith\u001b[0m \u001b[0mh5py\u001b[0m\u001b[1;33m.\u001b[0m\u001b[0mFile\u001b[0m\u001b[1;33m(\u001b[0m\u001b[0mh5\u001b[0m\u001b[1;33m,\u001b[0m \u001b[1;34m'r'\u001b[0m\u001b[1;33m)\u001b[0m \u001b[1;32mas\u001b[0m \u001b[0mf\u001b[0m\u001b[1;33m:\u001b[0m\u001b[1;33m\u001b[0m\u001b[1;33m\u001b[0m\u001b[0m\n\u001b[0m\u001b[0;32m     45\u001b[0m             \u001b[1;31m# if h5py data is 4D instead of 3D, assume that\u001b[0m\u001b[1;33m\u001b[0m\u001b[1;33m\u001b[0m\u001b[1;33m\u001b[0m\u001b[0m\n\u001b[0;32m     46\u001b[0m             \u001b[1;31m# data = nframes x nplanes x pixels x pixels\u001b[0m\u001b[1;33m\u001b[0m\u001b[1;33m\u001b[0m\u001b[1;33m\u001b[0m\u001b[0m\n",
      "\u001b[1;32m~\\anaconda3\\envs\\suite2p\\lib\\site-packages\\h5py\\_hl\\files.py\u001b[0m in \u001b[0;36m__init__\u001b[1;34m(self, name, mode, driver, libver, userblock_size, swmr, rdcc_nslots, rdcc_nbytes, rdcc_w0, track_order, **kwds)\u001b[0m\n\u001b[0;32m    406\u001b[0m                 fid = make_fid(name, mode, userblock_size,\n\u001b[0;32m    407\u001b[0m                                \u001b[0mfapl\u001b[0m\u001b[1;33m,\u001b[0m \u001b[0mfcpl\u001b[0m\u001b[1;33m=\u001b[0m\u001b[0mmake_fcpl\u001b[0m\u001b[1;33m(\u001b[0m\u001b[0mtrack_order\u001b[0m\u001b[1;33m=\u001b[0m\u001b[0mtrack_order\u001b[0m\u001b[1;33m)\u001b[0m\u001b[1;33m,\u001b[0m\u001b[1;33m\u001b[0m\u001b[1;33m\u001b[0m\u001b[0m\n\u001b[1;32m--> 408\u001b[1;33m                                swmr=swmr)\n\u001b[0m\u001b[0;32m    409\u001b[0m \u001b[1;33m\u001b[0m\u001b[0m\n\u001b[0;32m    410\u001b[0m             \u001b[1;32mif\u001b[0m \u001b[0misinstance\u001b[0m\u001b[1;33m(\u001b[0m\u001b[0mlibver\u001b[0m\u001b[1;33m,\u001b[0m \u001b[0mtuple\u001b[0m\u001b[1;33m)\u001b[0m\u001b[1;33m:\u001b[0m\u001b[1;33m\u001b[0m\u001b[1;33m\u001b[0m\u001b[0m\n",
      "\u001b[1;32m~\\anaconda3\\envs\\suite2p\\lib\\site-packages\\h5py\\_hl\\files.py\u001b[0m in \u001b[0;36mmake_fid\u001b[1;34m(name, mode, userblock_size, fapl, fcpl, swmr)\u001b[0m\n\u001b[0;32m    171\u001b[0m         \u001b[1;32mif\u001b[0m \u001b[0mswmr\u001b[0m \u001b[1;32mand\u001b[0m \u001b[0mswmr_support\u001b[0m\u001b[1;33m:\u001b[0m\u001b[1;33m\u001b[0m\u001b[1;33m\u001b[0m\u001b[0m\n\u001b[0;32m    172\u001b[0m             \u001b[0mflags\u001b[0m \u001b[1;33m|=\u001b[0m \u001b[0mh5f\u001b[0m\u001b[1;33m.\u001b[0m\u001b[0mACC_SWMR_READ\u001b[0m\u001b[1;33m\u001b[0m\u001b[1;33m\u001b[0m\u001b[0m\n\u001b[1;32m--> 173\u001b[1;33m         \u001b[0mfid\u001b[0m \u001b[1;33m=\u001b[0m \u001b[0mh5f\u001b[0m\u001b[1;33m.\u001b[0m\u001b[0mopen\u001b[0m\u001b[1;33m(\u001b[0m\u001b[0mname\u001b[0m\u001b[1;33m,\u001b[0m \u001b[0mflags\u001b[0m\u001b[1;33m,\u001b[0m \u001b[0mfapl\u001b[0m\u001b[1;33m=\u001b[0m\u001b[0mfapl\u001b[0m\u001b[1;33m)\u001b[0m\u001b[1;33m\u001b[0m\u001b[1;33m\u001b[0m\u001b[0m\n\u001b[0m\u001b[0;32m    174\u001b[0m     \u001b[1;32melif\u001b[0m \u001b[0mmode\u001b[0m \u001b[1;33m==\u001b[0m \u001b[1;34m'r+'\u001b[0m\u001b[1;33m:\u001b[0m\u001b[1;33m\u001b[0m\u001b[1;33m\u001b[0m\u001b[0m\n\u001b[0;32m    175\u001b[0m         \u001b[0mfid\u001b[0m \u001b[1;33m=\u001b[0m \u001b[0mh5f\u001b[0m\u001b[1;33m.\u001b[0m\u001b[0mopen\u001b[0m\u001b[1;33m(\u001b[0m\u001b[0mname\u001b[0m\u001b[1;33m,\u001b[0m \u001b[0mh5f\u001b[0m\u001b[1;33m.\u001b[0m\u001b[0mACC_RDWR\u001b[0m\u001b[1;33m,\u001b[0m \u001b[0mfapl\u001b[0m\u001b[1;33m=\u001b[0m\u001b[0mfapl\u001b[0m\u001b[1;33m)\u001b[0m\u001b[1;33m\u001b[0m\u001b[1;33m\u001b[0m\u001b[0m\n",
      "\u001b[1;32mh5py\\_objects.pyx\u001b[0m in \u001b[0;36mh5py._objects.with_phil.wrapper\u001b[1;34m()\u001b[0m\n",
      "\u001b[1;32mh5py\\_objects.pyx\u001b[0m in \u001b[0;36mh5py._objects.with_phil.wrapper\u001b[1;34m()\u001b[0m\n",
      "\u001b[1;32mh5py\\h5f.pyx\u001b[0m in \u001b[0;36mh5py.h5f.open\u001b[1;34m()\u001b[0m\n",
      "\u001b[1;31mOSError\u001b[0m: Unable to open file (file signature not found)"
     ]
    }
   ],
   "source": [
    "# provide an h5 path in 'h5py' or a tiff path in 'data_path'\n",
    "# db overwrites any ops (allows for experiment specific settings)\n",
    "db = {\n",
    "      'h5py': '//duhs-user-nc1.dhe.duke.edu/dusom_glickfeldlab/All_Staff/home/lan/Data/2P_images/i1322/200803/002/002_000_000.sbx', # a single h5 file path\n",
    "#     Z:/All_Staff/home/lan/Data/2P_images/i1322/200803/002/002_000_000.sbx\n",
    "      'h5py_key': ['data'],\n",
    "      'look_one_level_down': False, # whether to look in ALL subfolders when searching for tiffs\n",
    "      'data_path': [], # a list of folders with tiffs (or folder of folders with tiffs if look_one_level_down is True, or subfolders is not empty)\n",
    "                                            \n",
    "#       'subfolders': [], # choose subfolders of 'data_path' to look in (optional)\n",
    "#       'fast_disk': 'C:/BIN', # string which specifies where the binary file will be stored (should be an SSD)\n",
    "    }\n",
    "\n",
    "opsEnd = run_s2p(ops=ops, db=db)"
   ]
  },
  {
   "cell_type": "code",
   "execution_count": null,
   "metadata": {},
   "outputs": [],
   "source": []
  }
 ],
 "metadata": {
  "kernelspec": {
   "display_name": "Python 3",
   "language": "python",
   "name": "python3"
  },
  "language_info": {
   "codemirror_mode": {
    "name": "ipython",
    "version": 3
   },
   "file_extension": ".py",
   "mimetype": "text/x-python",
   "name": "python",
   "nbconvert_exporter": "python",
   "pygments_lexer": "ipython3",
   "version": "3.7.9"
  }
 },
 "nbformat": 4,
 "nbformat_minor": 4
}
