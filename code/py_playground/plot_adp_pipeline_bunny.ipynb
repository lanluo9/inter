{
 "cells": [
  {
   "cell_type": "code",
   "execution_count": 1,
   "metadata": {},
   "outputs": [],
   "source": [
    "import os\n",
    "import numpy as np\n",
    "import pandas as pd\n",
    "import scipy.io\n",
    "\n",
    "import seaborn as sns\n",
    "import matplotlib.pyplot as plt\n",
    "from ipywidgets import interactive\n",
    "%matplotlib inline"
   ]
  },
  {
   "cell_type": "markdown",
   "metadata": {},
   "source": [
    "## Load data"
   ]
  },
  {
   "cell_type": "code",
   "execution_count": 19,
   "metadata": {},
   "outputs": [],
   "source": [
    "meta = pd.read_excel('C:/Users/lan/Documents/repos/inter/mat/adp_dataset_master.xlsx', index_col=None)\n",
    "meta = meta[meta.date == 210616].reset_index()\n",
    "meta = meta[['mouse','date','area']]"
   ]
  },
  {
   "cell_type": "code",
   "execution_count": 17,
   "metadata": {},
   "outputs": [
    {
     "data": {
      "text/plain": [
       "([121], (121, 7), (121, 7), (121, 7), (121, 7, 77))"
      ]
     },
     "execution_count": 17,
     "metadata": {},
     "output_type": "execute_result"
    }
   ],
   "source": [
    "nset = len(meta.index); ncell = []; nori = 7; nisi = 1; nframe_trial = 77\n",
    "dir_name = 'C:\\\\Users\\\\lan\\\\Documents\\\\repos\\\\inter\\\\mat\\\\'\n",
    "\n",
    "vis_ad = np.empty([0,nori]); # vis_tg = np.empty([0,1]); well_fit = np.empty([0,1])\n",
    "# ori_pref = np.empty([0,nisi]); fit_param = np.empty([0,7,nisi])\n",
    "dfof_ad = np.empty([0,nori]); dfof_tg = np.empty([0,nori])\n",
    "dfof_ad_std = np.empty([0,nori]); dfof_tg_std = np.empty([0,nori])\n",
    "trace = np.empty([0,nori,nframe_trial])\n",
    "\n",
    "for iset in np.arange(nset):\n",
    "    dir_sub = str(meta.area[iset]) + '_i' + str(meta.mouse[iset]) + '_' + str(meta.date[iset])\n",
    "\n",
    "    cell_prop = scipy.io.loadmat(os.path.join(dir_name, dir_sub, 'vis_driven' + '.mat'))\n",
    "    dfof = scipy.io.loadmat(os.path.join(dir_name, dir_sub, 'dfof' + '.mat'))\n",
    "    trace_align = scipy.io.loadmat(os.path.join(dir_name, dir_sub, 'trace_aligned' + '.mat'))\n",
    "#     fit_tuning = scipy.io.loadmat(os.path.join(dir_name, dir_sub, 'fit_tuning_isi3' + '.mat'))\n",
    "    \n",
    "    ncell.append(len(cell_prop['vis_cell_ad']))    \n",
    "    vis_ad = np.concatenate((vis_ad, cell_prop['sig_vis_ad']), axis=0)\n",
    "#     vis_tg = np.concatenate((vis_tg, cell_prop['vis_cell_noad_tg']), axis=0)\n",
    "#     well_fit = np.concatenate((well_fit, cell_prop['well_fit_cell']), axis=0)\n",
    "    \n",
    "#     ori_pref = np.concatenate((ori_pref, cell_prop['ori_pref']), axis=0)\n",
    "#     fit_param = np.concatenate((fit_param, fit_tuning['fit_param']), axis=0)\n",
    "\n",
    "    dfof_ad = np.concatenate((dfof_ad, dfof['dfof_ad']), axis=0)\n",
    "    dfof_ad_std = np.concatenate((dfof_ad_std, dfof['dfof_ad_std']), axis=0)\n",
    "    dfof_tg = np.concatenate((dfof_tg, dfof['dfof_tg']), axis=0)\n",
    "    dfof_tg_std = np.concatenate((dfof_tg_std, dfof['dfof_tg_std']), axis=0)\n",
    "    \n",
    "    trace_flat = np.empty([ncell[iset],nori,nframe_trial]);\n",
    "    for icell in np.arange(ncell[iset]):\n",
    "        for iori in np.arange(nori):\n",
    "#             for iisi in np.arange(nisi):\n",
    "            trace_flat[icell][iori][:] = trace_align['trace_avg'][icell][iori].flatten()\n",
    "    trace = np.vstack((trace,trace_flat))\n",
    "\n",
    "# vis_tg.shape, well_fit.shape, ori_pref.shape, fit_param.shape, \n",
    "ncell, vis_ad.shape, dfof_ad.shape, dfof_tg.shape, trace.shape"
   ]
  },
  {
   "cell_type": "code",
   "execution_count": 22,
   "metadata": {},
   "outputs": [
    {
     "data": {
      "text/html": [
       "<div>\n",
       "<style scoped>\n",
       "    .dataframe tbody tr th:only-of-type {\n",
       "        vertical-align: middle;\n",
       "    }\n",
       "\n",
       "    .dataframe tbody tr th {\n",
       "        vertical-align: top;\n",
       "    }\n",
       "\n",
       "    .dataframe thead th {\n",
       "        text-align: right;\n",
       "    }\n",
       "</style>\n",
       "<table border=\"1\" class=\"dataframe\">\n",
       "  <thead>\n",
       "    <tr style=\"text-align: right;\">\n",
       "      <th></th>\n",
       "      <th>mouse</th>\n",
       "      <th>date</th>\n",
       "      <th>area</th>\n",
       "      <th>ncell</th>\n",
       "    </tr>\n",
       "  </thead>\n",
       "  <tbody>\n",
       "    <tr>\n",
       "      <th>0</th>\n",
       "      <td>1338</td>\n",
       "      <td>210616</td>\n",
       "      <td>V1</td>\n",
       "      <td>121</td>\n",
       "    </tr>\n",
       "  </tbody>\n",
       "</table>\n",
       "</div>"
      ],
      "text/plain": [
       "   mouse    date area  ncell\n",
       "0   1338  210616   V1    121"
      ]
     },
     "execution_count": 22,
     "metadata": {},
     "output_type": "execute_result"
    }
   ],
   "source": [
    "meta['ncell'] = ncell\n",
    "# meta = meta.replace({'area' : { 'V1':1, 'LM':2, 'LI':3 }})\n",
    "meta"
   ]
  },
  {
   "cell_type": "code",
   "execution_count": 24,
   "metadata": {},
   "outputs": [
    {
     "data": {
      "text/html": [
       "<div>\n",
       "<style scoped>\n",
       "    .dataframe tbody tr th:only-of-type {\n",
       "        vertical-align: middle;\n",
       "    }\n",
       "\n",
       "    .dataframe tbody tr th {\n",
       "        vertical-align: top;\n",
       "    }\n",
       "\n",
       "    .dataframe thead th {\n",
       "        text-align: right;\n",
       "    }\n",
       "</style>\n",
       "<table border=\"1\" class=\"dataframe\">\n",
       "  <thead>\n",
       "    <tr style=\"text-align: right;\">\n",
       "      <th></th>\n",
       "      <th>mouse</th>\n",
       "      <th>area</th>\n",
       "    </tr>\n",
       "  </thead>\n",
       "  <tbody>\n",
       "    <tr>\n",
       "      <th>116</th>\n",
       "      <td>1338</td>\n",
       "      <td>V1</td>\n",
       "    </tr>\n",
       "    <tr>\n",
       "      <th>117</th>\n",
       "      <td>1338</td>\n",
       "      <td>V1</td>\n",
       "    </tr>\n",
       "    <tr>\n",
       "      <th>118</th>\n",
       "      <td>1338</td>\n",
       "      <td>V1</td>\n",
       "    </tr>\n",
       "    <tr>\n",
       "      <th>119</th>\n",
       "      <td>1338</td>\n",
       "      <td>V1</td>\n",
       "    </tr>\n",
       "    <tr>\n",
       "      <th>120</th>\n",
       "      <td>1338</td>\n",
       "      <td>V1</td>\n",
       "    </tr>\n",
       "  </tbody>\n",
       "</table>\n",
       "</div>"
      ],
      "text/plain": [
       "     mouse area\n",
       "116   1338   V1\n",
       "117   1338   V1\n",
       "118   1338   V1\n",
       "119   1338   V1\n",
       "120   1338   V1"
      ]
     },
     "execution_count": 24,
     "metadata": {},
     "output_type": "execute_result"
    }
   ],
   "source": [
    "mouse_cell = [item for item, count in zip(meta.mouse, meta.ncell) for i in range(count)]\n",
    "area_cell = [item for item, count in zip(meta.area, meta.ncell) for i in range(count)]\n",
    "meta_cell = pd.DataFrame({'mouse': mouse_cell, 'area': area_cell})\n",
    "meta_cell.tail()"
   ]
  },
  {
   "cell_type": "markdown",
   "metadata": {},
   "source": [
    "## Adaptation magnitude"
   ]
  },
  {
   "cell_type": "markdown",
   "metadata": {},
   "source": [
    "adaptation mag = response to target ori==0 with adapter / response to adapter - 1  \n",
    "cell selection: vis_ad only, no dfof_ad thresholding"
   ]
  },
  {
   "cell_type": "code",
   "execution_count": 26,
   "metadata": {},
   "outputs": [
    {
     "data": {
      "text/plain": [
       "((121, 7), (121, 7), (121, 7))"
      ]
     },
     "execution_count": 26,
     "metadata": {},
     "output_type": "execute_result"
    }
   ],
   "source": [
    "dfof_tg.shape, dfof_ad.shape, vis_ad.shape"
   ]
  },
  {
   "cell_type": "code",
   "execution_count": 41,
   "metadata": {},
   "outputs": [
    {
     "data": {
      "text/plain": [
       "(121, 7)"
      ]
     },
     "execution_count": 41,
     "metadata": {},
     "output_type": "execute_result"
    }
   ],
   "source": [
    "adp_mag = dfof_tg / dfof_ad - 1\n",
    "adp_mag = adp_mag * vis_ad\n",
    "adp_mag[adp_mag == 0] = np.nan\n",
    "adp_mag.shape"
   ]
  },
  {
   "cell_type": "code",
   "execution_count": 65,
   "metadata": {},
   "outputs": [
    {
     "data": {
      "text/plain": [
       "array([-25., -24., -23., -22., -21., -20., -19., -18., -17., -16., -15.,\n",
       "       -14., -13., -12., -11., -10.,  -9.,  -8.,  -7.,  -6.,  -5.,  -4.,\n",
       "        -3.,  -2.,  -1.,   0.,   1.,   2.,   3.,   4.,   5.,   6.,   7.,\n",
       "         8.,   9.,  10.])"
      ]
     },
     "execution_count": 65,
     "metadata": {},
     "output_type": "execute_result"
    }
   ],
   "source": [
    "np.linspace(-25,10,36)"
   ]
  },
  {
   "cell_type": "code",
   "execution_count": 68,
   "metadata": {},
   "outputs": [
    {
     "data": {
      "image/png": "[encoded data removed]",
      "text/plain": [
       "<Figure size 576x432 with 1 Axes>"
      ]
     },
     "metadata": {
      "needs_background": "light"
     },
     "output_type": "display_data"
    }
   ],
   "source": [
    "plt.figure(figsize=(8,6))\n",
    "for iori in np.arange(nori):\n",
    "    plt.hist(adp_mag[:,iori], bins=np.linspace(-25,10,36), alpha=0.3)\n",
    "plt.xlim(-25,10);"
   ]
  },
  {
   "cell_type": "code",
   "execution_count": 57,
   "metadata": {},
   "outputs": [
    {
     "data": {
      "image/png": "[encoded data removed]",
      "text/plain": [
       "<Figure size 576x360 with 1 Axes>"
      ]
     },
     "metadata": {
      "needs_background": "light"
     },
     "output_type": "display_data"
    }
   ],
   "source": [
    "plt.figure(figsize=(8,5))\n",
    "plt.scatter(adp_mag[:,0]);\n",
    "# plt.xlim(-50,50)"
   ]
  },
  {
   "cell_type": "code",
   "execution_count": 40,
   "metadata": {},
   "outputs": [
    {
     "data": {
      "image/png": "[encoded data removed]",
      "text/plain": [
       "<Figure size 432x288 with 1 Axes>"
      ]
     },
     "metadata": {
      "needs_background": "light"
     },
     "output_type": "display_data"
    }
   ],
   "source": [
    "plt.imshow(adp_mag); \n",
    "plt.colorbar;"
   ]
  },
  {
   "cell_type": "code",
   "execution_count": 7,
   "metadata": {
    "collapsed": true
   },
   "outputs": [
    {
     "data": {
      "text/html": [
       "<div>\n",
       "<style scoped>\n",
       "    .dataframe tbody tr th:only-of-type {\n",
       "        vertical-align: middle;\n",
       "    }\n",
       "\n",
       "    .dataframe tbody tr th {\n",
       "        vertical-align: top;\n",
       "    }\n",
       "\n",
       "    .dataframe thead th {\n",
       "        text-align: right;\n",
       "    }\n",
       "</style>\n",
       "<table border=\"1\" class=\"dataframe\">\n",
       "  <thead>\n",
       "    <tr style=\"text-align: right;\">\n",
       "      <th></th>\n",
       "      <th>index</th>\n",
       "      <th>mouse</th>\n",
       "      <th>area</th>\n",
       "      <th>isi</th>\n",
       "      <th>adp_mag</th>\n",
       "      <th>dfof_ad</th>\n",
       "      <th>vis_ad</th>\n",
       "    </tr>\n",
       "  </thead>\n",
       "  <tbody>\n",
       "    <tr>\n",
       "      <th>0</th>\n",
       "      <td>0</td>\n",
       "      <td>1322</td>\n",
       "      <td>V1</td>\n",
       "      <td>750</td>\n",
       "      <td>-0.239962</td>\n",
       "      <td>0.083296</td>\n",
       "      <td>1.0</td>\n",
       "    </tr>\n",
       "    <tr>\n",
       "      <th>1</th>\n",
       "      <td>1</td>\n",
       "      <td>1322</td>\n",
       "      <td>V1</td>\n",
       "      <td>750</td>\n",
       "      <td>-0.267440</td>\n",
       "      <td>0.079051</td>\n",
       "      <td>1.0</td>\n",
       "    </tr>\n",
       "    <tr>\n",
       "      <th>2</th>\n",
       "      <td>2</td>\n",
       "      <td>1322</td>\n",
       "      <td>V1</td>\n",
       "      <td>750</td>\n",
       "      <td>0.092123</td>\n",
       "      <td>0.089755</td>\n",
       "      <td>1.0</td>\n",
       "    </tr>\n",
       "    <tr>\n",
       "      <th>3</th>\n",
       "      <td>3</td>\n",
       "      <td>1322</td>\n",
       "      <td>V1</td>\n",
       "      <td>750</td>\n",
       "      <td>-0.258139</td>\n",
       "      <td>0.149961</td>\n",
       "      <td>1.0</td>\n",
       "    </tr>\n",
       "    <tr>\n",
       "      <th>4</th>\n",
       "      <td>4</td>\n",
       "      <td>1322</td>\n",
       "      <td>V1</td>\n",
       "      <td>750</td>\n",
       "      <td>-0.049561</td>\n",
       "      <td>0.242218</td>\n",
       "      <td>1.0</td>\n",
       "    </tr>\n",
       "    <tr>\n",
       "      <th>...</th>\n",
       "      <td>...</td>\n",
       "      <td>...</td>\n",
       "      <td>...</td>\n",
       "      <td>...</td>\n",
       "      <td>...</td>\n",
       "      <td>...</td>\n",
       "      <td>...</td>\n",
       "    </tr>\n",
       "    <tr>\n",
       "      <th>963</th>\n",
       "      <td>1072</td>\n",
       "      <td>1324</td>\n",
       "      <td>LM</td>\n",
       "      <td>250</td>\n",
       "      <td>-0.815490</td>\n",
       "      <td>0.010215</td>\n",
       "      <td>1.0</td>\n",
       "    </tr>\n",
       "    <tr>\n",
       "      <th>964</th>\n",
       "      <td>1073</td>\n",
       "      <td>1324</td>\n",
       "      <td>LM</td>\n",
       "      <td>250</td>\n",
       "      <td>-0.744829</td>\n",
       "      <td>0.040586</td>\n",
       "      <td>1.0</td>\n",
       "    </tr>\n",
       "    <tr>\n",
       "      <th>965</th>\n",
       "      <td>1074</td>\n",
       "      <td>1324</td>\n",
       "      <td>LM</td>\n",
       "      <td>250</td>\n",
       "      <td>-0.274517</td>\n",
       "      <td>0.037092</td>\n",
       "      <td>1.0</td>\n",
       "    </tr>\n",
       "    <tr>\n",
       "      <th>966</th>\n",
       "      <td>1076</td>\n",
       "      <td>1324</td>\n",
       "      <td>LM</td>\n",
       "      <td>250</td>\n",
       "      <td>-1.451877</td>\n",
       "      <td>0.035262</td>\n",
       "      <td>1.0</td>\n",
       "    </tr>\n",
       "    <tr>\n",
       "      <th>967</th>\n",
       "      <td>1077</td>\n",
       "      <td>1324</td>\n",
       "      <td>LM</td>\n",
       "      <td>250</td>\n",
       "      <td>0.107277</td>\n",
       "      <td>0.038123</td>\n",
       "      <td>1.0</td>\n",
       "    </tr>\n",
       "  </tbody>\n",
       "</table>\n",
       "<p>968 rows × 7 columns</p>\n",
       "</div>"
      ],
      "text/plain": [
       "     index  mouse area  isi   adp_mag   dfof_ad  vis_ad\n",
       "0        0   1322   V1  750 -0.239962  0.083296     1.0\n",
       "1        1   1322   V1  750 -0.267440  0.079051     1.0\n",
       "2        2   1322   V1  750  0.092123  0.089755     1.0\n",
       "3        3   1322   V1  750 -0.258139  0.149961     1.0\n",
       "4        4   1322   V1  750 -0.049561  0.242218     1.0\n",
       "..     ...    ...  ...  ...       ...       ...     ...\n",
       "963   1072   1324   LM  250 -0.815490  0.010215     1.0\n",
       "964   1073   1324   LM  250 -0.744829  0.040586     1.0\n",
       "965   1074   1324   LM  250 -0.274517  0.037092     1.0\n",
       "966   1076   1324   LM  250 -1.451877  0.035262     1.0\n",
       "967   1077   1324   LM  250  0.107277  0.038123     1.0\n",
       "\n",
       "[968 rows x 7 columns]"
      ]
     },
     "execution_count": 7,
     "metadata": {},
     "output_type": "execute_result"
    }
   ],
   "source": [
    "adp_mag = dfof_tg[:,0,[1,2]] / dfof_ad - 1\n",
    "\n",
    "meta_cell_750 = meta_cell.copy(); meta_cell_750['isi'] = 750\n",
    "meta_cell_250 = meta_cell.copy(); meta_cell_250['isi'] = 250\n",
    "meta_cell_isi = pd.concat([meta_cell_750, meta_cell_250], ignore_index=True)\n",
    "\n",
    "df_adp_mag = meta_cell_isi.copy()\n",
    "df_adp_mag['adp_mag'] = adp_mag.flatten('F')\n",
    "df_adp_mag['dfof_ad'] = np.concatenate((dfof_ad, dfof_ad), axis=0)\n",
    "\n",
    "df_adp_mag['vis_ad'] = np.concatenate((vis_ad, vis_ad), axis=0)\n",
    "df_adp_mag = df_adp_mag[ df_adp_mag['vis_ad'] == 1 ]\n",
    "df_adp_mag.reset_index()"
   ]
  },
  {
   "cell_type": "code",
   "execution_count": 8,
   "metadata": {},
   "outputs": [
    {
     "data": {
      "text/html": [
       "<div>\n",
       "<style scoped>\n",
       "    .dataframe tbody tr th:only-of-type {\n",
       "        vertical-align: middle;\n",
       "    }\n",
       "\n",
       "    .dataframe tbody tr th {\n",
       "        vertical-align: top;\n",
       "    }\n",
       "\n",
       "    .dataframe thead tr th {\n",
       "        text-align: left;\n",
       "    }\n",
       "\n",
       "    .dataframe thead tr:last-of-type th {\n",
       "        text-align: right;\n",
       "    }\n",
       "</style>\n",
       "<table border=\"1\" class=\"dataframe\">\n",
       "  <thead>\n",
       "    <tr>\n",
       "      <th></th>\n",
       "      <th></th>\n",
       "      <th colspan=\"8\" halign=\"left\">adp_mag</th>\n",
       "    </tr>\n",
       "    <tr>\n",
       "      <th></th>\n",
       "      <th></th>\n",
       "      <th>count</th>\n",
       "      <th>mean</th>\n",
       "      <th>std</th>\n",
       "      <th>min</th>\n",
       "      <th>25%</th>\n",
       "      <th>50%</th>\n",
       "      <th>75%</th>\n",
       "      <th>max</th>\n",
       "    </tr>\n",
       "    <tr>\n",
       "      <th>area</th>\n",
       "      <th>isi</th>\n",
       "      <th></th>\n",
       "      <th></th>\n",
       "      <th></th>\n",
       "      <th></th>\n",
       "      <th></th>\n",
       "      <th></th>\n",
       "      <th></th>\n",
       "      <th></th>\n",
       "    </tr>\n",
       "  </thead>\n",
       "  <tbody>\n",
       "    <tr>\n",
       "      <th rowspan=\"2\" valign=\"top\">V1</th>\n",
       "      <th>750</th>\n",
       "      <td>267.0</td>\n",
       "      <td>-0.180326</td>\n",
       "      <td>0.665569</td>\n",
       "      <td>-2.163029</td>\n",
       "      <td>-0.469887</td>\n",
       "      <td>-0.221775</td>\n",
       "      <td>0.077338</td>\n",
       "      <td>3.502958</td>\n",
       "    </tr>\n",
       "    <tr>\n",
       "      <th>250</th>\n",
       "      <td>267.0</td>\n",
       "      <td>-0.325477</td>\n",
       "      <td>0.616129</td>\n",
       "      <td>-3.004134</td>\n",
       "      <td>-0.654125</td>\n",
       "      <td>-0.378501</td>\n",
       "      <td>-0.058079</td>\n",
       "      <td>3.622513</td>\n",
       "    </tr>\n",
       "    <tr>\n",
       "      <th rowspan=\"2\" valign=\"top\">LM</th>\n",
       "      <th>750</th>\n",
       "      <td>141.0</td>\n",
       "      <td>-0.051040</td>\n",
       "      <td>0.598336</td>\n",
       "      <td>-1.923241</td>\n",
       "      <td>-0.409122</td>\n",
       "      <td>-0.033545</td>\n",
       "      <td>0.211504</td>\n",
       "      <td>2.132582</td>\n",
       "    </tr>\n",
       "    <tr>\n",
       "      <th>250</th>\n",
       "      <td>141.0</td>\n",
       "      <td>-0.648543</td>\n",
       "      <td>0.626268</td>\n",
       "      <td>-3.042202</td>\n",
       "      <td>-0.981837</td>\n",
       "      <td>-0.712494</td>\n",
       "      <td>-0.320640</td>\n",
       "      <td>1.490129</td>\n",
       "    </tr>\n",
       "    <tr>\n",
       "      <th rowspan=\"2\" valign=\"top\">LI</th>\n",
       "      <th>750</th>\n",
       "      <td>76.0</td>\n",
       "      <td>-0.291396</td>\n",
       "      <td>0.618888</td>\n",
       "      <td>-2.013799</td>\n",
       "      <td>-0.698398</td>\n",
       "      <td>-0.270519</td>\n",
       "      <td>0.103593</td>\n",
       "      <td>1.569319</td>\n",
       "    </tr>\n",
       "    <tr>\n",
       "      <th>250</th>\n",
       "      <td>76.0</td>\n",
       "      <td>-0.953516</td>\n",
       "      <td>0.612308</td>\n",
       "      <td>-2.862550</td>\n",
       "      <td>-1.238230</td>\n",
       "      <td>-0.989792</td>\n",
       "      <td>-0.658323</td>\n",
       "      <td>0.894041</td>\n",
       "    </tr>\n",
       "  </tbody>\n",
       "</table>\n",
       "</div>"
      ],
      "text/plain": [
       "         adp_mag                                                              \\\n",
       "           count      mean       std       min       25%       50%       75%   \n",
       "area isi                                                                       \n",
       "V1   750   267.0 -0.180326  0.665569 -2.163029 -0.469887 -0.221775  0.077338   \n",
       "     250   267.0 -0.325477  0.616129 -3.004134 -0.654125 -0.378501 -0.058079   \n",
       "LM   750   141.0 -0.051040  0.598336 -1.923241 -0.409122 -0.033545  0.211504   \n",
       "     250   141.0 -0.648543  0.626268 -3.042202 -0.981837 -0.712494 -0.320640   \n",
       "LI   750    76.0 -0.291396  0.618888 -2.013799 -0.698398 -0.270519  0.103593   \n",
       "     250    76.0 -0.953516  0.612308 -2.862550 -1.238230 -0.989792 -0.658323   \n",
       "\n",
       "                    \n",
       "               max  \n",
       "area isi            \n",
       "V1   750  3.502958  \n",
       "     250  3.622513  \n",
       "LM   750  2.132582  \n",
       "     250  1.490129  \n",
       "LI   750  1.569319  \n",
       "     250  0.894041  "
      ]
     },
     "execution_count": 8,
     "metadata": {},
     "output_type": "execute_result"
    }
   ],
   "source": [
    "df_adp_mag[['adp_mag','area','isi']].groupby(['area','isi'], sort=False).describe()"
   ]
  },
  {
   "cell_type": "code",
   "execution_count": 9,
   "metadata": {},
   "outputs": [
    {
     "data": {
      "image/png": "[encoded data removed]",
      "text/plain": [
       "<Figure size 576x360 with 1 Axes>"
      ]
     },
     "metadata": {},
     "output_type": "display_data"
    }
   ],
   "source": [
    "sns.set_style(\"whitegrid\")\n",
    "plt.figure(figsize=(8,5))\n",
    "ax = sns.violinplot(data=df_adp_mag, x=\"area\", y=\"adp_mag\", hue=\"isi\",\n",
    "               split=True, inner=\"quart\", palette=\"Set3\")\n",
    "sns.despine(left=True)\n",
    "ax.set(title = 'adaptation magnitude before dfof_ad thresholding')\n",
    "plt.legend(bbox_to_anchor=(1.05, 1), loc=2, borderaxespad=0.);"
   ]
  },
  {
   "cell_type": "markdown",
   "metadata": {},
   "source": [
    "### add dfof_ad thresholding"
   ]
  },
  {
   "cell_type": "code",
   "execution_count": 10,
   "metadata": {},
   "outputs": [
    {
     "data": {
      "image/png": "[encoded data removed]",
      "text/plain": [
       "<Figure size 648x432 with 1 Axes>"
      ]
     },
     "metadata": {},
     "output_type": "display_data"
    }
   ],
   "source": [
    "plt.figure(figsize=(9,6))\n",
    "ax = sns.scatterplot(data=df_adp_mag, x=\"dfof_ad\", y=\"adp_mag\", hue=\"area\", style=\"isi\")\n",
    "# plt.xlim([0,0.8]);\n",
    "plt.xlim([0,0.1]);\n",
    "ax.set(title = 'adp mag changes with dfof_ad');"
   ]
  },
  {
   "cell_type": "code",
   "execution_count": 641,
   "metadata": {},
   "outputs": [
    {
     "data": {
      "application/vnd.jupyter.widget-view+json": {
       "model_id": "8e175ce2cd034c1ca281c3dda78dfb7b",
       "version_major": 2,
       "version_minor": 0
      },
      "text/plain": [
       "interactive(children=(IntSlider(value=11, description='win', max=20, min=2), Output(layout=Layout(height='350p…"
      ]
     },
     "metadata": {},
     "output_type": "display_data"
    }
   ],
   "source": [
    "df = df_adp_mag.sort_values(by=['dfof_ad'])\n",
    "df1 = df[df.isi == 750]\n",
    "df2 = df[df.isi == 250]\n",
    "\n",
    "def f(win):\n",
    "    plt.figure(figsize=(15,5))\n",
    "    plt.plot(df1.dfof_ad, df1['adp_mag'].rolling(win, min_periods=1).mean(), alpha=0.7)\n",
    "    plt.plot(df2.dfof_ad, df2['adp_mag'].rolling(win, min_periods=1).mean(), alpha=0.7)\n",
    "    plt.legend(['isi = 750', 'isi = 250'])\n",
    "    plt.xlim([0,0.1])\n",
    "    plt.xlabel('dfof_ad')\n",
    "    plt.ylabel('adaptation mag rolling mean')\n",
    "    plt.title('adp mag rolling mean change with dfof_ad of cells')\n",
    "    plt.show()\n",
    "\n",
    "interactive_plot = interactive(f, win=(2, 20))\n",
    "output = interactive_plot.children[-1]\n",
    "output.layout.height = '350px'\n",
    "interactive_plot"
   ]
  },
  {
   "cell_type": "code",
   "execution_count": 642,
   "metadata": {},
   "outputs": [
    {
     "data": {
      "application/vnd.jupyter.widget-view+json": {
       "model_id": "7b79e47f43284e31a45527d707999735",
       "version_major": 2,
       "version_minor": 0
      },
      "text/plain": [
       "interactive(children=(IntSlider(value=11, description='win', max=20, min=2), Output(layout=Layout(height='350p…"
      ]
     },
     "metadata": {},
     "output_type": "display_data"
    }
   ],
   "source": [
    "def f(win):\n",
    "    plt.figure(figsize=(15,5))\n",
    "    plt.plot(df1.dfof_ad, df1['adp_mag'].rolling(win, min_periods=1).std(), alpha=0.7)\n",
    "    plt.plot(df2.dfof_ad, df2['adp_mag'].rolling(win, min_periods=1).std(), alpha=0.7)\n",
    "    plt.legend(['isi = 750', 'isi = 250'])\n",
    "    plt.xlim([0,0.1])\n",
    "    plt.xlabel('dfof_ad')\n",
    "    plt.ylabel('adaptation mag rolling std')\n",
    "    plt.title('adp mag rolling std change with dfof_ad of cells')\n",
    "    plt.show()\n",
    "\n",
    "interactive_plot = interactive(f, win=(2, 20))\n",
    "output = interactive_plot.children[-1]\n",
    "output.layout.height = '350px'\n",
    "interactive_plot"
   ]
  },
  {
   "cell_type": "markdown",
   "metadata": {},
   "source": [
    "cell selection: vis_ad only, with dfof_ad thresholding"
   ]
  },
  {
   "cell_type": "code",
   "execution_count": 11,
   "metadata": {
    "collapsed": true
   },
   "outputs": [
    {
     "data": {
      "text/html": [
       "<div>\n",
       "<style scoped>\n",
       "    .dataframe tbody tr th:only-of-type {\n",
       "        vertical-align: middle;\n",
       "    }\n",
       "\n",
       "    .dataframe tbody tr th {\n",
       "        vertical-align: top;\n",
       "    }\n",
       "\n",
       "    .dataframe thead th {\n",
       "        text-align: right;\n",
       "    }\n",
       "</style>\n",
       "<table border=\"1\" class=\"dataframe\">\n",
       "  <thead>\n",
       "    <tr style=\"text-align: right;\">\n",
       "      <th></th>\n",
       "      <th>index</th>\n",
       "      <th>mouse</th>\n",
       "      <th>area</th>\n",
       "      <th>isi</th>\n",
       "      <th>adp_mag</th>\n",
       "      <th>dfof_ad</th>\n",
       "      <th>vis_ad</th>\n",
       "    </tr>\n",
       "  </thead>\n",
       "  <tbody>\n",
       "    <tr>\n",
       "      <th>0</th>\n",
       "      <td>0</td>\n",
       "      <td>1322</td>\n",
       "      <td>V1</td>\n",
       "      <td>750</td>\n",
       "      <td>-0.239962</td>\n",
       "      <td>0.083296</td>\n",
       "      <td>1.0</td>\n",
       "    </tr>\n",
       "    <tr>\n",
       "      <th>1</th>\n",
       "      <td>1</td>\n",
       "      <td>1322</td>\n",
       "      <td>V1</td>\n",
       "      <td>750</td>\n",
       "      <td>-0.267440</td>\n",
       "      <td>0.079051</td>\n",
       "      <td>1.0</td>\n",
       "    </tr>\n",
       "    <tr>\n",
       "      <th>2</th>\n",
       "      <td>2</td>\n",
       "      <td>1322</td>\n",
       "      <td>V1</td>\n",
       "      <td>750</td>\n",
       "      <td>0.092123</td>\n",
       "      <td>0.089755</td>\n",
       "      <td>1.0</td>\n",
       "    </tr>\n",
       "    <tr>\n",
       "      <th>3</th>\n",
       "      <td>3</td>\n",
       "      <td>1322</td>\n",
       "      <td>V1</td>\n",
       "      <td>750</td>\n",
       "      <td>-0.258139</td>\n",
       "      <td>0.149961</td>\n",
       "      <td>1.0</td>\n",
       "    </tr>\n",
       "    <tr>\n",
       "      <th>4</th>\n",
       "      <td>4</td>\n",
       "      <td>1322</td>\n",
       "      <td>V1</td>\n",
       "      <td>750</td>\n",
       "      <td>-0.049561</td>\n",
       "      <td>0.242218</td>\n",
       "      <td>1.0</td>\n",
       "    </tr>\n",
       "    <tr>\n",
       "      <th>...</th>\n",
       "      <td>...</td>\n",
       "      <td>...</td>\n",
       "      <td>...</td>\n",
       "      <td>...</td>\n",
       "      <td>...</td>\n",
       "      <td>...</td>\n",
       "      <td>...</td>\n",
       "    </tr>\n",
       "    <tr>\n",
       "      <th>753</th>\n",
       "      <td>1067</td>\n",
       "      <td>1324</td>\n",
       "      <td>LM</td>\n",
       "      <td>250</td>\n",
       "      <td>-1.037747</td>\n",
       "      <td>0.047524</td>\n",
       "      <td>1.0</td>\n",
       "    </tr>\n",
       "    <tr>\n",
       "      <th>754</th>\n",
       "      <td>1073</td>\n",
       "      <td>1324</td>\n",
       "      <td>LM</td>\n",
       "      <td>250</td>\n",
       "      <td>-0.744829</td>\n",
       "      <td>0.040586</td>\n",
       "      <td>1.0</td>\n",
       "    </tr>\n",
       "    <tr>\n",
       "      <th>755</th>\n",
       "      <td>1074</td>\n",
       "      <td>1324</td>\n",
       "      <td>LM</td>\n",
       "      <td>250</td>\n",
       "      <td>-0.274517</td>\n",
       "      <td>0.037092</td>\n",
       "      <td>1.0</td>\n",
       "    </tr>\n",
       "    <tr>\n",
       "      <th>756</th>\n",
       "      <td>1076</td>\n",
       "      <td>1324</td>\n",
       "      <td>LM</td>\n",
       "      <td>250</td>\n",
       "      <td>-1.451877</td>\n",
       "      <td>0.035262</td>\n",
       "      <td>1.0</td>\n",
       "    </tr>\n",
       "    <tr>\n",
       "      <th>757</th>\n",
       "      <td>1077</td>\n",
       "      <td>1324</td>\n",
       "      <td>LM</td>\n",
       "      <td>250</td>\n",
       "      <td>0.107277</td>\n",
       "      <td>0.038123</td>\n",
       "      <td>1.0</td>\n",
       "    </tr>\n",
       "  </tbody>\n",
       "</table>\n",
       "<p>758 rows × 7 columns</p>\n",
       "</div>"
      ],
      "text/plain": [
       "     index  mouse area  isi   adp_mag   dfof_ad  vis_ad\n",
       "0        0   1322   V1  750 -0.239962  0.083296     1.0\n",
       "1        1   1322   V1  750 -0.267440  0.079051     1.0\n",
       "2        2   1322   V1  750  0.092123  0.089755     1.0\n",
       "3        3   1322   V1  750 -0.258139  0.149961     1.0\n",
       "4        4   1322   V1  750 -0.049561  0.242218     1.0\n",
       "..     ...    ...  ...  ...       ...       ...     ...\n",
       "753   1067   1324   LM  250 -1.037747  0.047524     1.0\n",
       "754   1073   1324   LM  250 -0.744829  0.040586     1.0\n",
       "755   1074   1324   LM  250 -0.274517  0.037092     1.0\n",
       "756   1076   1324   LM  250 -1.451877  0.035262     1.0\n",
       "757   1077   1324   LM  250  0.107277  0.038123     1.0\n",
       "\n",
       "[758 rows x 7 columns]"
      ]
     },
     "execution_count": 11,
     "metadata": {},
     "output_type": "execute_result"
    }
   ],
   "source": [
    "dfof_threshold = 0.03\n",
    "df_adp_mag_thres = df_adp_mag[df_adp_mag.dfof_ad >= dfof_threshold]\n",
    "df_adp_mag_thres.reset_index()"
   ]
  },
  {
   "cell_type": "code",
   "execution_count": 12,
   "metadata": {},
   "outputs": [
    {
     "data": {
      "text/html": [
       "<div>\n",
       "<style scoped>\n",
       "    .dataframe tbody tr th:only-of-type {\n",
       "        vertical-align: middle;\n",
       "    }\n",
       "\n",
       "    .dataframe tbody tr th {\n",
       "        vertical-align: top;\n",
       "    }\n",
       "\n",
       "    .dataframe thead tr th {\n",
       "        text-align: left;\n",
       "    }\n",
       "\n",
       "    .dataframe thead tr:last-of-type th {\n",
       "        text-align: right;\n",
       "    }\n",
       "</style>\n",
       "<table border=\"1\" class=\"dataframe\">\n",
       "  <thead>\n",
       "    <tr>\n",
       "      <th></th>\n",
       "      <th></th>\n",
       "      <th colspan=\"8\" halign=\"left\">adp_mag</th>\n",
       "    </tr>\n",
       "    <tr>\n",
       "      <th></th>\n",
       "      <th></th>\n",
       "      <th>count</th>\n",
       "      <th>mean</th>\n",
       "      <th>std</th>\n",
       "      <th>min</th>\n",
       "      <th>25%</th>\n",
       "      <th>50%</th>\n",
       "      <th>75%</th>\n",
       "      <th>max</th>\n",
       "    </tr>\n",
       "    <tr>\n",
       "      <th>area</th>\n",
       "      <th>isi</th>\n",
       "      <th></th>\n",
       "      <th></th>\n",
       "      <th></th>\n",
       "      <th></th>\n",
       "      <th></th>\n",
       "      <th></th>\n",
       "      <th></th>\n",
       "      <th></th>\n",
       "    </tr>\n",
       "  </thead>\n",
       "  <tbody>\n",
       "    <tr>\n",
       "      <th rowspan=\"2\" valign=\"top\">V1</th>\n",
       "      <th>750</th>\n",
       "      <td>215.0</td>\n",
       "      <td>-0.164490</td>\n",
       "      <td>0.492664</td>\n",
       "      <td>-1.875533</td>\n",
       "      <td>-0.395995</td>\n",
       "      <td>-0.188318</td>\n",
       "      <td>0.040594</td>\n",
       "      <td>1.972312</td>\n",
       "    </tr>\n",
       "    <tr>\n",
       "      <th>250</th>\n",
       "      <td>215.0</td>\n",
       "      <td>-0.362663</td>\n",
       "      <td>0.443836</td>\n",
       "      <td>-1.729659</td>\n",
       "      <td>-0.648102</td>\n",
       "      <td>-0.399921</td>\n",
       "      <td>-0.124511</td>\n",
       "      <td>1.149798</td>\n",
       "    </tr>\n",
       "    <tr>\n",
       "      <th rowspan=\"2\" valign=\"top\">LM</th>\n",
       "      <th>750</th>\n",
       "      <td>108.0</td>\n",
       "      <td>-0.100791</td>\n",
       "      <td>0.436052</td>\n",
       "      <td>-1.089206</td>\n",
       "      <td>-0.373513</td>\n",
       "      <td>-0.076079</td>\n",
       "      <td>0.111626</td>\n",
       "      <td>1.369365</td>\n",
       "    </tr>\n",
       "    <tr>\n",
       "      <th>250</th>\n",
       "      <td>108.0</td>\n",
       "      <td>-0.635745</td>\n",
       "      <td>0.510077</td>\n",
       "      <td>-2.225924</td>\n",
       "      <td>-0.915844</td>\n",
       "      <td>-0.686542</td>\n",
       "      <td>-0.359696</td>\n",
       "      <td>0.703521</td>\n",
       "    </tr>\n",
       "    <tr>\n",
       "      <th rowspan=\"2\" valign=\"top\">LI</th>\n",
       "      <th>750</th>\n",
       "      <td>56.0</td>\n",
       "      <td>-0.321286</td>\n",
       "      <td>0.502430</td>\n",
       "      <td>-2.013799</td>\n",
       "      <td>-0.632570</td>\n",
       "      <td>-0.270519</td>\n",
       "      <td>-0.025623</td>\n",
       "      <td>0.951508</td>\n",
       "    </tr>\n",
       "    <tr>\n",
       "      <th>250</th>\n",
       "      <td>56.0</td>\n",
       "      <td>-0.922097</td>\n",
       "      <td>0.467841</td>\n",
       "      <td>-1.738642</td>\n",
       "      <td>-1.185452</td>\n",
       "      <td>-0.971112</td>\n",
       "      <td>-0.737692</td>\n",
       "      <td>0.530749</td>\n",
       "    </tr>\n",
       "  </tbody>\n",
       "</table>\n",
       "</div>"
      ],
      "text/plain": [
       "         adp_mag                                                              \\\n",
       "           count      mean       std       min       25%       50%       75%   \n",
       "area isi                                                                       \n",
       "V1   750   215.0 -0.164490  0.492664 -1.875533 -0.395995 -0.188318  0.040594   \n",
       "     250   215.0 -0.362663  0.443836 -1.729659 -0.648102 -0.399921 -0.124511   \n",
       "LM   750   108.0 -0.100791  0.436052 -1.089206 -0.373513 -0.076079  0.111626   \n",
       "     250   108.0 -0.635745  0.510077 -2.225924 -0.915844 -0.686542 -0.359696   \n",
       "LI   750    56.0 -0.321286  0.502430 -2.013799 -0.632570 -0.270519 -0.025623   \n",
       "     250    56.0 -0.922097  0.467841 -1.738642 -1.185452 -0.971112 -0.737692   \n",
       "\n",
       "                    \n",
       "               max  \n",
       "area isi            \n",
       "V1   750  1.972312  \n",
       "     250  1.149798  \n",
       "LM   750  1.369365  \n",
       "     250  0.703521  \n",
       "LI   750  0.951508  \n",
       "     250  0.530749  "
      ]
     },
     "execution_count": 12,
     "metadata": {},
     "output_type": "execute_result"
    }
   ],
   "source": [
    "df_adp_mag_thres[['adp_mag','area','isi']].groupby(['area','isi'], sort=False).describe()"
   ]
  },
  {
   "cell_type": "code",
   "execution_count": 13,
   "metadata": {},
   "outputs": [
    {
     "data": {
      "image/png": "[encoded data removed]",
      "text/plain": [
       "<Figure size 720x432 with 1 Axes>"
      ]
     },
     "metadata": {},
     "output_type": "display_data"
    }
   ],
   "source": [
    "sns.set_style(\"whitegrid\")\n",
    "plt.figure(figsize=(10,6))\n",
    "ax = sns.violinplot(data=df_adp_mag_thres, x=\"area\", y=\"adp_mag\", hue=\"isi\",\n",
    "               split=True, inner=\"quart\", palette=\"Set3\")\n",
    "sns.despine(left=True)\n",
    "ax.set(ylabel = 'adaptation index', title = 'adaptation magnitude after dfof_ad thresholding');\n",
    "plt.legend(bbox_to_anchor=(1.05, 1), loc=2, borderaxespad=0.);"
   ]
  },
  {
   "cell_type": "code",
   "execution_count": 14,
   "metadata": {},
   "outputs": [
    {
     "data": {
      "image/png": "[encoded data removed]",
      "text/plain": [
       "<Figure size 432x288 with 1 Axes>"
      ]
     },
     "metadata": {},
     "output_type": "display_data"
    }
   ],
   "source": [
    "t = df_adp_mag_thres.copy()\n",
    "tt = t[['adp_mag','area','isi']].groupby(['area','isi'], sort=False).median().reset_index()\n",
    "\n",
    "ax = sns.scatterplot(data=tt, x=\"area\", y=\"adp_mag\", style=\"isi\"); sns.despine()\n",
    "ax.set(ylabel = 'median adaptation index', title = 'median adaptation index by area')\n",
    "plt.ylim([-1.1,0])\n",
    "plt.legend(bbox_to_anchor=(1.05, 1), loc=2, borderaxespad=0.);"
   ]
  },
  {
   "cell_type": "markdown",
   "metadata": {},
   "source": [
    "## Trace"
   ]
  },
  {
   "cell_type": "code",
   "execution_count": null,
   "metadata": {},
   "outputs": [],
   "source": []
  },
  {
   "cell_type": "markdown",
   "metadata": {},
   "source": [
    "## Misc\n",
    "### Adaptation increases variability (?)\n",
    "for ori=0 target after adaptation, fano factor is higher than adapter  \n",
    "cell selection: vis_ad only, with thresholding of dfof_ad & dfof_tg0"
   ]
  },
  {
   "cell_type": "code",
   "execution_count": 50,
   "metadata": {
    "collapsed": true
   },
   "outputs": [
    {
     "data": {
      "text/html": [
       "<div>\n",
       "<style scoped>\n",
       "    .dataframe tbody tr th:only-of-type {\n",
       "        vertical-align: middle;\n",
       "    }\n",
       "\n",
       "    .dataframe tbody tr th {\n",
       "        vertical-align: top;\n",
       "    }\n",
       "\n",
       "    .dataframe thead th {\n",
       "        text-align: right;\n",
       "    }\n",
       "</style>\n",
       "<table border=\"1\" class=\"dataframe\">\n",
       "  <thead>\n",
       "    <tr style=\"text-align: right;\">\n",
       "      <th></th>\n",
       "      <th>index</th>\n",
       "      <th>mouse</th>\n",
       "      <th>area</th>\n",
       "      <th>isi</th>\n",
       "      <th>adp_fano</th>\n",
       "      <th>dfof_ad</th>\n",
       "      <th>dfof_tg</th>\n",
       "      <th>vis_ad</th>\n",
       "    </tr>\n",
       "  </thead>\n",
       "  <tbody>\n",
       "    <tr>\n",
       "      <th>0</th>\n",
       "      <td>0</td>\n",
       "      <td>1322</td>\n",
       "      <td>V1</td>\n",
       "      <td>750</td>\n",
       "      <td>0.198528</td>\n",
       "      <td>0.083296</td>\n",
       "      <td>0.063308</td>\n",
       "      <td>1.0</td>\n",
       "    </tr>\n",
       "    <tr>\n",
       "      <th>1</th>\n",
       "      <td>1</td>\n",
       "      <td>1322</td>\n",
       "      <td>V1</td>\n",
       "      <td>750</td>\n",
       "      <td>0.249547</td>\n",
       "      <td>0.079051</td>\n",
       "      <td>0.057910</td>\n",
       "      <td>1.0</td>\n",
       "    </tr>\n",
       "    <tr>\n",
       "      <th>2</th>\n",
       "      <td>2</td>\n",
       "      <td>1322</td>\n",
       "      <td>V1</td>\n",
       "      <td>750</td>\n",
       "      <td>0.224684</td>\n",
       "      <td>0.089755</td>\n",
       "      <td>0.098024</td>\n",
       "      <td>1.0</td>\n",
       "    </tr>\n",
       "    <tr>\n",
       "      <th>3</th>\n",
       "      <td>3</td>\n",
       "      <td>1322</td>\n",
       "      <td>V1</td>\n",
       "      <td>750</td>\n",
       "      <td>0.069735</td>\n",
       "      <td>0.149961</td>\n",
       "      <td>0.111251</td>\n",
       "      <td>1.0</td>\n",
       "    </tr>\n",
       "    <tr>\n",
       "      <th>4</th>\n",
       "      <td>4</td>\n",
       "      <td>1322</td>\n",
       "      <td>V1</td>\n",
       "      <td>750</td>\n",
       "      <td>0.079733</td>\n",
       "      <td>0.242218</td>\n",
       "      <td>0.230214</td>\n",
       "      <td>1.0</td>\n",
       "    </tr>\n",
       "    <tr>\n",
       "      <th>...</th>\n",
       "      <td>...</td>\n",
       "      <td>...</td>\n",
       "      <td>...</td>\n",
       "      <td>...</td>\n",
       "      <td>...</td>\n",
       "      <td>...</td>\n",
       "      <td>...</td>\n",
       "      <td>...</td>\n",
       "    </tr>\n",
       "    <tr>\n",
       "      <th>503</th>\n",
       "      <td>1040</td>\n",
       "      <td>1324</td>\n",
       "      <td>LM</td>\n",
       "      <td>250</td>\n",
       "      <td>0.136103</td>\n",
       "      <td>0.194892</td>\n",
       "      <td>0.174791</td>\n",
       "      <td>1.0</td>\n",
       "    </tr>\n",
       "    <tr>\n",
       "      <th>504</th>\n",
       "      <td>1045</td>\n",
       "      <td>1324</td>\n",
       "      <td>LM</td>\n",
       "      <td>250</td>\n",
       "      <td>0.091489</td>\n",
       "      <td>0.191068</td>\n",
       "      <td>0.180989</td>\n",
       "      <td>1.0</td>\n",
       "    </tr>\n",
       "    <tr>\n",
       "      <th>505</th>\n",
       "      <td>1053</td>\n",
       "      <td>1324</td>\n",
       "      <td>LM</td>\n",
       "      <td>250</td>\n",
       "      <td>0.329836</td>\n",
       "      <td>0.116363</td>\n",
       "      <td>0.086052</td>\n",
       "      <td>1.0</td>\n",
       "    </tr>\n",
       "    <tr>\n",
       "      <th>506</th>\n",
       "      <td>1061</td>\n",
       "      <td>1324</td>\n",
       "      <td>LM</td>\n",
       "      <td>250</td>\n",
       "      <td>-0.081032</td>\n",
       "      <td>0.052181</td>\n",
       "      <td>0.080558</td>\n",
       "      <td>1.0</td>\n",
       "    </tr>\n",
       "    <tr>\n",
       "      <th>507</th>\n",
       "      <td>1077</td>\n",
       "      <td>1324</td>\n",
       "      <td>LM</td>\n",
       "      <td>250</td>\n",
       "      <td>-0.047602</td>\n",
       "      <td>0.038123</td>\n",
       "      <td>0.042213</td>\n",
       "      <td>1.0</td>\n",
       "    </tr>\n",
       "  </tbody>\n",
       "</table>\n",
       "<p>508 rows × 8 columns</p>\n",
       "</div>"
      ],
      "text/plain": [
       "     index  mouse area  isi  adp_fano   dfof_ad   dfof_tg  vis_ad\n",
       "0        0   1322   V1  750  0.198528  0.083296  0.063308     1.0\n",
       "1        1   1322   V1  750  0.249547  0.079051  0.057910     1.0\n",
       "2        2   1322   V1  750  0.224684  0.089755  0.098024     1.0\n",
       "3        3   1322   V1  750  0.069735  0.149961  0.111251     1.0\n",
       "4        4   1322   V1  750  0.079733  0.242218  0.230214     1.0\n",
       "..     ...    ...  ...  ...       ...       ...       ...     ...\n",
       "503   1040   1324   LM  250  0.136103  0.194892  0.174791     1.0\n",
       "504   1045   1324   LM  250  0.091489  0.191068  0.180989     1.0\n",
       "505   1053   1324   LM  250  0.329836  0.116363  0.086052     1.0\n",
       "506   1061   1324   LM  250 -0.081032  0.052181  0.080558     1.0\n",
       "507   1077   1324   LM  250 -0.047602  0.038123  0.042213     1.0\n",
       "\n",
       "[508 rows x 8 columns]"
      ]
     },
     "execution_count": 50,
     "metadata": {},
     "output_type": "execute_result"
    }
   ],
   "source": [
    "adp_fano_tg = dfof_tg_std[:,0,[1,2]] / dfof_tg[:,0,[1,2]]\n",
    "adp_fano_ad = dfof_ad_std / dfof_ad\n",
    "adp_fano = (adp_fano_tg - adp_fano_ad) / (adp_fano_tg + adp_fano_ad) # range [-1,1], meaning fano factor de/increase after adp\n",
    "# adp_fano = (adp_fano_tg - adp_fano_ad) / (adp_fano_ad)\n",
    "\n",
    "df_adp_fano = meta_cell_isi.copy()\n",
    "df_adp_fano['adp_fano'] = adp_fano.flatten('F')\n",
    "df_adp_fano['dfof_ad'] = np.concatenate((dfof_ad, dfof_ad), axis=0)\n",
    "df_adp_fano['dfof_tg'] = np.concatenate((dfof_tg[:,0,1], dfof_tg[:,0,2]), axis=0)\n",
    "\n",
    "df_adp_fano['vis_ad'] = np.concatenate((vis_ad, vis_ad), axis=0)\n",
    "df_adp_fano = df_adp_fano[ df_adp_fano['vis_ad'] == 1 ]\n",
    "\n",
    "df_adp_fano = df_adp_fano[(df_adp_fano.dfof_ad >= dfof_threshold) & (df_adp_fano.dfof_tg >= dfof_threshold)]\n",
    "df_adp_fano.reset_index()"
   ]
  },
  {
   "cell_type": "code",
   "execution_count": 51,
   "metadata": {},
   "outputs": [
    {
     "data": {
      "text/html": [
       "<div>\n",
       "<style scoped>\n",
       "    .dataframe tbody tr th:only-of-type {\n",
       "        vertical-align: middle;\n",
       "    }\n",
       "\n",
       "    .dataframe tbody tr th {\n",
       "        vertical-align: top;\n",
       "    }\n",
       "\n",
       "    .dataframe thead tr th {\n",
       "        text-align: left;\n",
       "    }\n",
       "\n",
       "    .dataframe thead tr:last-of-type th {\n",
       "        text-align: right;\n",
       "    }\n",
       "</style>\n",
       "<table border=\"1\" class=\"dataframe\">\n",
       "  <thead>\n",
       "    <tr>\n",
       "      <th></th>\n",
       "      <th></th>\n",
       "      <th colspan=\"8\" halign=\"left\">adp_fano</th>\n",
       "    </tr>\n",
       "    <tr>\n",
       "      <th></th>\n",
       "      <th></th>\n",
       "      <th>count</th>\n",
       "      <th>mean</th>\n",
       "      <th>std</th>\n",
       "      <th>min</th>\n",
       "      <th>25%</th>\n",
       "      <th>50%</th>\n",
       "      <th>75%</th>\n",
       "      <th>max</th>\n",
       "    </tr>\n",
       "    <tr>\n",
       "      <th>area</th>\n",
       "      <th>isi</th>\n",
       "      <th></th>\n",
       "      <th></th>\n",
       "      <th></th>\n",
       "      <th></th>\n",
       "      <th></th>\n",
       "      <th></th>\n",
       "      <th></th>\n",
       "      <th></th>\n",
       "    </tr>\n",
       "  </thead>\n",
       "  <tbody>\n",
       "    <tr>\n",
       "      <th rowspan=\"2\" valign=\"top\">V1</th>\n",
       "      <th>750</th>\n",
       "      <td>175.0</td>\n",
       "      <td>0.068245</td>\n",
       "      <td>0.149348</td>\n",
       "      <td>-0.318383</td>\n",
       "      <td>-0.037016</td>\n",
       "      <td>0.081278</td>\n",
       "      <td>0.167854</td>\n",
       "      <td>0.397835</td>\n",
       "    </tr>\n",
       "    <tr>\n",
       "      <th>250</th>\n",
       "      <td>146.0</td>\n",
       "      <td>0.128114</td>\n",
       "      <td>0.173747</td>\n",
       "      <td>-0.346164</td>\n",
       "      <td>0.012119</td>\n",
       "      <td>0.120236</td>\n",
       "      <td>0.229368</td>\n",
       "      <td>0.646350</td>\n",
       "    </tr>\n",
       "    <tr>\n",
       "      <th rowspan=\"2\" valign=\"top\">LM</th>\n",
       "      <th>750</th>\n",
       "      <td>92.0</td>\n",
       "      <td>0.030203</td>\n",
       "      <td>0.178669</td>\n",
       "      <td>-0.410187</td>\n",
       "      <td>-0.083335</td>\n",
       "      <td>0.036848</td>\n",
       "      <td>0.138752</td>\n",
       "      <td>0.478017</td>\n",
       "    </tr>\n",
       "    <tr>\n",
       "      <th>250</th>\n",
       "      <td>44.0</td>\n",
       "      <td>0.153444</td>\n",
       "      <td>0.216884</td>\n",
       "      <td>-0.223757</td>\n",
       "      <td>-0.010786</td>\n",
       "      <td>0.147786</td>\n",
       "      <td>0.317559</td>\n",
       "      <td>0.585548</td>\n",
       "    </tr>\n",
       "    <tr>\n",
       "      <th rowspan=\"2\" valign=\"top\">LI</th>\n",
       "      <th>750</th>\n",
       "      <td>40.0</td>\n",
       "      <td>0.006787</td>\n",
       "      <td>0.151909</td>\n",
       "      <td>-0.438364</td>\n",
       "      <td>-0.067491</td>\n",
       "      <td>-0.001452</td>\n",
       "      <td>0.103903</td>\n",
       "      <td>0.361342</td>\n",
       "    </tr>\n",
       "    <tr>\n",
       "      <th>250</th>\n",
       "      <td>11.0</td>\n",
       "      <td>0.242941</td>\n",
       "      <td>0.224277</td>\n",
       "      <td>-0.173832</td>\n",
       "      <td>0.097539</td>\n",
       "      <td>0.259875</td>\n",
       "      <td>0.366242</td>\n",
       "      <td>0.686797</td>\n",
       "    </tr>\n",
       "  </tbody>\n",
       "</table>\n",
       "</div>"
      ],
      "text/plain": [
       "         adp_fano                                                              \\\n",
       "            count      mean       std       min       25%       50%       75%   \n",
       "area isi                                                                        \n",
       "V1   750    175.0  0.068245  0.149348 -0.318383 -0.037016  0.081278  0.167854   \n",
       "     250    146.0  0.128114  0.173747 -0.346164  0.012119  0.120236  0.229368   \n",
       "LM   750     92.0  0.030203  0.178669 -0.410187 -0.083335  0.036848  0.138752   \n",
       "     250     44.0  0.153444  0.216884 -0.223757 -0.010786  0.147786  0.317559   \n",
       "LI   750     40.0  0.006787  0.151909 -0.438364 -0.067491 -0.001452  0.103903   \n",
       "     250     11.0  0.242941  0.224277 -0.173832  0.097539  0.259875  0.366242   \n",
       "\n",
       "                    \n",
       "               max  \n",
       "area isi            \n",
       "V1   750  0.397835  \n",
       "     250  0.646350  \n",
       "LM   750  0.478017  \n",
       "     250  0.585548  \n",
       "LI   750  0.361342  \n",
       "     250  0.686797  "
      ]
     },
     "execution_count": 51,
     "metadata": {},
     "output_type": "execute_result"
    }
   ],
   "source": [
    "df_adp_fano[['adp_fano','area','isi']].groupby(['area','isi'], sort=False).describe()"
   ]
  },
  {
   "cell_type": "code",
   "execution_count": 53,
   "metadata": {},
   "outputs": [
    {
     "data": {
      "image/png": "[encoded data removed]",
      "text/plain": [
       "<Figure size 576x360 with 1 Axes>"
      ]
     },
     "metadata": {},
     "output_type": "display_data"
    }
   ],
   "source": [
    "sns.set_style(\"whitegrid\")\n",
    "plt.figure(figsize=([8,5]))\n",
    "ax = sns.violinplot(data=df_adp_fano, x=\"area\", y=\"adp_fano\", hue=\"isi\",\n",
    "               split=True, inner=\"quart\", palette=\"Set3\")\n",
    "sns.despine(left=True)\n",
    "ax.set(ylabel = 'fano factor change after adp', title = 'adaptation impacts variability')\n",
    "plt.legend(bbox_to_anchor=(1.05, 1), loc=2, borderaxespad=0.);"
   ]
  },
  {
   "cell_type": "code",
   "execution_count": 54,
   "metadata": {},
   "outputs": [],
   "source": [
    "def violinplot(df, ix, iy, ihue, iylabel, ititle, fig_size=[8,5]):\n",
    "    # ivar = string\n",
    "    # violinplot(df_adp_fano, \"area\", \"adp_fano\", \"isi\", 'fano factor change after adp', 'adaptation impacts variability')\n",
    "    \n",
    "    sns.set_style(\"whitegrid\")\n",
    "    plt.figure(figsize=(fig_size))\n",
    "    ax = sns.violinplot(data=df, x=ix, y=iy, hue=ihue, split=True, inner=\"quart\", palette=\"Set3\")\n",
    "    sns.despine(left=True)\n",
    "    ax.set(ylabel = iylabel, title = ititle)\n",
    "    plt.legend(bbox_to_anchor=(1.05, 1), loc=2, borderaxespad=0.);"
   ]
  }
 ],
 "metadata": {
  "kernelspec": {
   "display_name": "Python 3",
   "language": "python",
   "name": "python3"
  },
  "language_info": {
   "codemirror_mode": {
    "name": "ipython",
    "version": 3
   },
   "file_extension": ".py",
   "mimetype": "text/x-python",
   "name": "python",
   "nbconvert_exporter": "python",
   "pygments_lexer": "ipython3",
   "version": "3.8.3"
  },
  "toc": {
   "base_numbering": 1,
   "nav_menu": {},
   "number_sections": true,
   "sideBar": true,
   "skip_h1_title": false,
   "title_cell": "Table of Contents",
   "title_sidebar": "Contents",
   "toc_cell": false,
   "toc_position": {},
   "toc_section_display": true,
   "toc_window_display": true
  }
 },
 "nbformat": 4,
 "nbformat_minor": 4
}
